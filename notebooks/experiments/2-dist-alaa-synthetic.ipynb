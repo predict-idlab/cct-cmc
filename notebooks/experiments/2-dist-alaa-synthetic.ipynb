{
 "cells": [
  {
   "cell_type": "markdown",
   "metadata": {},
   "source": [
    "# Comparison of CCT- & CMC-learners and other approaches (simulations)\n",
    "\n",
    "**On Alaa et al. (2023) synthetic data**"
   ]
  },
  {
   "cell_type": "code",
   "execution_count": 1,
   "metadata": {},
   "outputs": [],
   "source": [
    "import pytensor\n",
    "\n",
    "pytensor.config.optimizer = 'fast_compile'  # or 'None' for no optimizations\n",
    "pytensor.config.exception_verbosity = 'high'\n",
    "\n",
    "import sys\n",
    "import numpy as np\n",
    "import matplotlib.pyplot as plt\n",
    "import seaborn as sns\n",
    "from sklearn.ensemble import RandomForestRegressor, GradientBoostingRegressor\n",
    "import warnings\n",
    "import pandas as pd\n",
    "from sklearn.model_selection import train_test_split\n",
    "from crepes_weighted import WrapRegressor\n",
    "\n",
    "\n",
    "from tqdm.notebook import tqdm\n",
    "\n",
    "\n",
    "sys.path.append('../..')\n",
    "from src.cmc_metalearners.cmc_metalearners import CMC_S_Learner, CMC_T_Learner, CMC_X_Learner, CCT_Learner\n",
    "from src.wcp.wcp import NaiveWCP, NestedWCP\n",
    "from src.conformal_metalearners.CM_learner import CM_learner\n",
    "from src.datasets.alaa_synthetic import (generate_data)\n",
    "from src.benchmarks.bart import BART\n",
    "from src.benchmarks.cmgp import CMGP\n",
    "from src.benchmarks.cevae import CEVAE\n",
    "from src.benchmarks.fccn import FCCN\n",
    "from src.benchmarks.ganite.ganite import GANITE\n",
    "from src.benchmarks.dklite import DKLITE\n",
    "from src.benchmarks.diffpo.main_model import DiffPOITE\n",
    "from src.benchmarks.noflite.noflite import NOFLITE\n",
    "import torch"
   ]
  },
  {
   "cell_type": "markdown",
   "metadata": {},
   "source": [
    "## Comparison Setups"
   ]
  },
  {
   "cell_type": "code",
   "execution_count": 2,
   "metadata": {},
   "outputs": [],
   "source": [
    "get_save_data = True\n",
    "NSim = 100\n",
    "alpha = 0.1\n",
    "learner = RandomForestRegressor\n",
    "learner_name = \"RF\"\n",
    "MC_samples = 100\n",
    "normalized_conformal = True\n",
    "if normalized_conformal:\n",
    "    normalized_conformal_name = \"normalized\"\n",
    "else:\n",
    "    normalized_conformal_name = \"nonnormalized\"\n",
    "max_min_y = True\n",
    "\n",
    "setup_A = {\"n\":5000, \"d\": 10, \"gamma\":1, \"alpha\": 0.1, \"nexps\": 1}\n",
    "setup_B = {\"n\":5000, \"d\": 10, \"gamma\":0, \"alpha\": 0.1, \"nexps\": 1}"
   ]
  },
  {
   "cell_type": "code",
   "execution_count": 3,
   "metadata": {},
   "outputs": [
    {
     "data": {
      "application/vnd.jupyter.widget-view+json": {
       "model_id": "0398c4b3c81241c7a7e9e1bc529a5835",
       "version_major": 2,
       "version_minor": 0
      },
      "text/plain": [
       "  0%|          | 0/100 [00:00<?, ?it/s]"
      ]
     },
     "metadata": {},
     "output_type": "display_data"
    },
    {
     "name": "stdout",
     "output_type": "stream",
     "text": [
      "Fit and evaluate CCT-learner ...\n",
      "Fit and evaluate BART ...\n"
     ]
    },
    {
     "name": "stderr",
     "output_type": "stream",
     "text": [
      "Multiprocess sampling (4 chains in 4 jobs)\n",
      "PGBART: [mu]\n"
     ]
    },
    {
     "data": {
      "application/vnd.jupyter.widget-view+json": {
       "model_id": "5dec0f2e6e72431b95d25bf89b200fea",
       "version_major": 2,
       "version_minor": 0
      },
      "text/plain": [
       "Output()"
      ]
     },
     "metadata": {},
     "output_type": "display_data"
    },
    {
     "data": {
      "text/html": [
       "<pre style=\"white-space:pre;overflow-x:auto;line-height:normal;font-family:Menlo,'DejaVu Sans Mono',consolas,'Courier New',monospace\"></pre>\n"
      ],
      "text/plain": []
     },
     "metadata": {},
     "output_type": "display_data"
    },
    {
     "name": "stderr",
     "output_type": "stream",
     "text": [
      "Sampling 4 chains for 500 tune and 500 draw iterations (2_000 + 2_000 draws total) took 18 seconds.\n",
      "The rhat statistic is larger than 1.01 for some parameters. This indicates problems during sampling. See https://arxiv.org/abs/1903.08008 for details\n",
      "The effective sample size per chain is smaller than 100 for some parameters.  A higher number is needed for reliable rhat and ess computation. See https://arxiv.org/abs/1903.08008 for details\n",
      "Sampling: [mu, y]\n"
     ]
    },
    {
     "data": {
      "application/vnd.jupyter.widget-view+json": {
       "model_id": "7cb20e7e792d462a9c9dd37ba7f5bbcd",
       "version_major": 2,
       "version_minor": 0
      },
      "text/plain": [
       "Output()"
      ]
     },
     "metadata": {},
     "output_type": "display_data"
    },
    {
     "name": "stdout",
     "output_type": "stream",
     "text": [
      "X_extended (3000, 11)\n"
     ]
    },
    {
     "data": {
      "text/html": [
       "<pre style=\"white-space:pre;overflow-x:auto;line-height:normal;font-family:Menlo,'DejaVu Sans Mono',consolas,'Courier New',monospace\"></pre>\n"
      ],
      "text/plain": []
     },
     "metadata": {},
     "output_type": "display_data"
    },
    {
     "name": "stderr",
     "output_type": "stream",
     "text": [
      "Sampling: [mu, y]\n"
     ]
    },
    {
     "data": {
      "application/vnd.jupyter.widget-view+json": {
       "model_id": "16fd084187004f57b4b1fb63c48f2ebd",
       "version_major": 2,
       "version_minor": 0
      },
      "text/plain": [
       "Output()"
      ]
     },
     "metadata": {},
     "output_type": "display_data"
    },
    {
     "data": {
      "text/html": [
       "<pre style=\"white-space:pre;overflow-x:auto;line-height:normal;font-family:Menlo,'DejaVu Sans Mono',consolas,'Courier New',monospace\"></pre>\n"
      ],
      "text/plain": []
     },
     "metadata": {},
     "output_type": "display_data"
    },
    {
     "name": "stderr",
     "output_type": "stream",
     "text": [
      "Sampling: [mu, y]\n"
     ]
    },
    {
     "data": {
      "application/vnd.jupyter.widget-view+json": {
       "model_id": "c263195f95af47c7b2ec73f5253c2688",
       "version_major": 2,
       "version_minor": 0
      },
      "text/plain": [
       "Output()"
      ]
     },
     "metadata": {},
     "output_type": "display_data"
    },
    {
     "name": "stdout",
     "output_type": "stream",
     "text": [
      "X_extended (3000, 11)\n"
     ]
    },
    {
     "data": {
      "text/html": [
       "<pre style=\"white-space:pre;overflow-x:auto;line-height:normal;font-family:Menlo,'DejaVu Sans Mono',consolas,'Courier New',monospace\"></pre>\n"
      ],
      "text/plain": []
     },
     "metadata": {},
     "output_type": "display_data"
    },
    {
     "name": "stderr",
     "output_type": "stream",
     "text": [
      "Sampling: [mu, y]\n"
     ]
    },
    {
     "data": {
      "application/vnd.jupyter.widget-view+json": {
       "model_id": "98e1b34375984bd692848aa0f24e381f",
       "version_major": 2,
       "version_minor": 0
      },
      "text/plain": [
       "Output()"
      ]
     },
     "metadata": {},
     "output_type": "display_data"
    },
    {
     "data": {
      "text/html": [
       "<pre style=\"white-space:pre;overflow-x:auto;line-height:normal;font-family:Menlo,'DejaVu Sans Mono',consolas,'Courier New',monospace\"></pre>\n"
      ],
      "text/plain": []
     },
     "metadata": {},
     "output_type": "display_data"
    },
    {
     "name": "stdout",
     "output_type": "stream",
     "text": [
      "Fit and evaluate CMGP ...\n",
      "Fit and evaluate CEVAE ...\n",
      "Using cpu\n"
     ]
    },
    {
     "name": "stderr",
     "output_type": "stream",
     "text": [
      "100%|██████████| 7000/7000 [00:36<00:00, 191.40it/s]\n"
     ]
    },
    {
     "name": "stdout",
     "output_type": "stream",
     "text": [
      "Fit and evaluate FCCN ...\n"
     ]
    },
    {
     "name": "stderr",
     "output_type": "stream",
     "text": [
      "100%|██████████| 20000/20000 [02:13<00:00, 149.95it/s]\n"
     ]
    },
    {
     "name": "stdout",
     "output_type": "stream",
     "text": [
      "Fit and evaluate GANITE ...\n"
     ]
    },
    {
     "name": "stderr",
     "output_type": "stream",
     "text": [
      "Training Counterfactual GAN: 100%|██████████| 10000/10000 [08:21<00:00, 19.96it/s]\n",
      "Training ITE GAN: 100%|██████████| 10000/10000 [08:50<00:00, 18.84it/s]\n"
     ]
    },
    {
     "name": "stdout",
     "output_type": "stream",
     "text": [
      "Fit and evaluate DKLITE ...\n"
     ]
    },
    {
     "name": "stderr",
     "output_type": "stream",
     "text": [
      "  5%|▌         | 51/1000 [00:02<00:48, 19.50it/s]\n"
     ]
    },
    {
     "name": "stdout",
     "output_type": "stream",
     "text": [
      "Fit and evaluate diffpo ...\n"
     ]
    },
    {
     "name": "stderr",
     "output_type": "stream",
     "text": [
      "100%|██████████| 7/7 [00:00<00:00, 16.56it/s, avg_epoch_loss=0, epoch=0]\n",
      "100%|██████████| 7/7 [00:00<00:00, 16.94it/s, avg_epoch_loss=0, epoch=1]\n",
      "100%|██████████| 7/7 [00:00<00:00, 16.96it/s, avg_epoch_loss=0, epoch=2]\n",
      "100%|██████████| 7/7 [00:00<00:00, 17.14it/s, avg_epoch_loss=0, epoch=3]\n",
      "100%|██████████| 7/7 [00:00<00:00, 16.98it/s, avg_epoch_loss=0, epoch=4]\n",
      "100%|██████████| 7/7 [00:00<00:00, 15.45it/s, avg_epoch_loss=0, epoch=5]\n",
      "100%|██████████| 7/7 [00:00<00:00, 17.37it/s, avg_epoch_loss=0, epoch=6]\n",
      "100%|██████████| 7/7 [00:00<00:00, 16.58it/s, avg_epoch_loss=0, epoch=7]\n",
      "100%|██████████| 7/7 [00:00<00:00, 16.27it/s, avg_epoch_loss=0, epoch=8]\n",
      "100%|██████████| 7/7 [00:00<00:00, 18.26it/s, avg_epoch_loss=0, epoch=9]\n",
      "100%|██████████| 7/7 [00:00<00:00, 18.50it/s, avg_epoch_loss=0, epoch=10]\n",
      "100%|██████████| 7/7 [00:00<00:00, 17.60it/s, avg_epoch_loss=0, epoch=11]\n",
      "100%|██████████| 7/7 [00:00<00:00, 17.46it/s, avg_epoch_loss=0, epoch=12]\n",
      "100%|██████████| 7/7 [00:00<00:00, 17.73it/s, avg_epoch_loss=0, epoch=13]\n",
      "100%|██████████| 7/7 [00:00<00:00, 17.25it/s, avg_epoch_loss=0, epoch=14]\n",
      "100%|██████████| 7/7 [00:00<00:00, 17.31it/s, avg_epoch_loss=0, epoch=15]\n",
      "100%|██████████| 7/7 [00:00<00:00, 17.35it/s, avg_epoch_loss=0, epoch=16]\n",
      "100%|██████████| 7/7 [00:00<00:00, 17.65it/s, avg_epoch_loss=0, epoch=17]\n",
      "100%|██████████| 7/7 [00:00<00:00, 17.38it/s, avg_epoch_loss=0, epoch=18]\n",
      "100%|██████████| 7/7 [00:00<00:00, 16.89it/s, avg_epoch_loss=0, epoch=19]\n",
      "100%|██████████| 7/7 [00:00<00:00, 17.11it/s, avg_epoch_loss=0, epoch=20]\n",
      "100%|██████████| 7/7 [00:00<00:00, 15.15it/s, avg_epoch_loss=0, epoch=21]\n",
      "100%|██████████| 7/7 [00:00<00:00, 17.43it/s, avg_epoch_loss=0, epoch=22]\n",
      "100%|██████████| 7/7 [00:00<00:00, 17.13it/s, avg_epoch_loss=0, epoch=23]\n",
      "100%|██████████| 7/7 [00:00<00:00, 16.46it/s, avg_epoch_loss=0, epoch=24]\n",
      "100%|██████████| 7/7 [00:00<00:00, 16.98it/s, avg_epoch_loss=0, epoch=25]\n",
      "100%|██████████| 7/7 [00:00<00:00, 17.65it/s, avg_epoch_loss=0, epoch=26]\n",
      "100%|██████████| 7/7 [00:00<00:00, 17.50it/s, avg_epoch_loss=0, epoch=27]\n",
      "100%|██████████| 7/7 [00:00<00:00, 17.20it/s, avg_epoch_loss=0, epoch=28]\n",
      "100%|██████████| 7/7 [00:00<00:00, 17.13it/s, avg_epoch_loss=0, epoch=29]\n",
      "100%|██████████| 7/7 [00:00<00:00, 16.98it/s, avg_epoch_loss=0, epoch=30]\n",
      "100%|██████████| 7/7 [00:00<00:00, 17.02it/s, avg_epoch_loss=0, epoch=31]\n",
      "100%|██████████| 7/7 [00:00<00:00, 16.80it/s, avg_epoch_loss=0, epoch=32]\n",
      "100%|██████████| 7/7 [00:00<00:00, 16.78it/s, avg_epoch_loss=0, epoch=33]\n",
      "100%|██████████| 7/7 [00:00<00:00, 16.75it/s, avg_epoch_loss=0, epoch=34]\n",
      "100%|██████████| 7/7 [00:00<00:00, 17.13it/s, avg_epoch_loss=0, epoch=35]\n",
      "100%|██████████| 7/7 [00:00<00:00, 17.27it/s, avg_epoch_loss=0, epoch=36]\n",
      "100%|██████████| 7/7 [00:00<00:00, 16.85it/s, avg_epoch_loss=0, epoch=37]\n",
      "100%|██████████| 7/7 [00:00<00:00, 13.68it/s, avg_epoch_loss=0, epoch=38]\n",
      "100%|██████████| 7/7 [00:00<00:00, 15.91it/s, avg_epoch_loss=0, epoch=39]\n",
      "100%|██████████| 7/7 [00:00<00:00, 15.12it/s, avg_epoch_loss=0, epoch=40]\n",
      "100%|██████████| 7/7 [00:00<00:00, 15.68it/s, avg_epoch_loss=0, epoch=41]\n",
      "100%|██████████| 7/7 [00:00<00:00, 15.76it/s, avg_epoch_loss=0, epoch=42]\n",
      "100%|██████████| 7/7 [00:00<00:00, 15.25it/s, avg_epoch_loss=0, epoch=43]\n",
      "100%|██████████| 7/7 [00:00<00:00, 15.96it/s, avg_epoch_loss=0, epoch=44]\n",
      "100%|██████████| 7/7 [00:00<00:00, 15.76it/s, avg_epoch_loss=0, epoch=45]\n",
      "100%|██████████| 7/7 [00:00<00:00, 15.64it/s, avg_epoch_loss=0, epoch=46]\n",
      "100%|██████████| 7/7 [00:00<00:00, 16.12it/s, avg_epoch_loss=0, epoch=47]\n",
      "100%|██████████| 7/7 [00:00<00:00, 15.77it/s, avg_epoch_loss=0, epoch=48]\n",
      "100%|██████████| 7/7 [00:00<00:00, 15.54it/s, avg_epoch_loss=0, epoch=49]\n"
     ]
    },
    {
     "name": "stdout",
     "output_type": "stream",
     "text": [
      "Start validation!!!\n",
      "Epoch: 49\n"
     ]
    },
    {
     "name": "stderr",
     "output_type": "stream",
     "text": [
      "100%|██████████| 2/2 [01:06<00:00, 33.32s/it]\n"
     ]
    },
    {
     "name": "stdout",
     "output_type": "stream",
     "text": [
      "====================================\n",
      "##### End evaluation!!\n",
      "PEHE VAL = 8.1e+03\n"
     ]
    },
    {
     "name": "stderr",
     "output_type": "stream",
     "text": [
      "100%|██████████| 7/7 [00:00<00:00, 17.01it/s, avg_epoch_loss=0, epoch=50]\n",
      "100%|██████████| 7/7 [00:00<00:00, 17.99it/s, avg_epoch_loss=0, epoch=51]\n",
      "100%|██████████| 7/7 [00:00<00:00, 16.69it/s, avg_epoch_loss=0, epoch=52]\n",
      "100%|██████████| 7/7 [00:00<00:00, 16.58it/s, avg_epoch_loss=0, epoch=53]\n",
      "100%|██████████| 7/7 [00:00<00:00, 16.90it/s, avg_epoch_loss=0, epoch=54]\n",
      "100%|██████████| 7/7 [00:00<00:00, 17.13it/s, avg_epoch_loss=0, epoch=55]\n",
      "100%|██████████| 7/7 [00:00<00:00, 17.07it/s, avg_epoch_loss=0, epoch=56]\n",
      "100%|██████████| 7/7 [00:00<00:00, 13.87it/s, avg_epoch_loss=0, epoch=57]\n",
      "100%|██████████| 7/7 [00:00<00:00, 16.38it/s, avg_epoch_loss=0, epoch=58]\n",
      "100%|██████████| 7/7 [00:00<00:00, 15.67it/s, avg_epoch_loss=0, epoch=59]\n",
      "100%|██████████| 7/7 [00:00<00:00, 15.93it/s, avg_epoch_loss=0, epoch=60]\n",
      "100%|██████████| 7/7 [00:00<00:00, 15.97it/s, avg_epoch_loss=0, epoch=61]\n",
      "100%|██████████| 7/7 [00:00<00:00, 17.57it/s, avg_epoch_loss=0, epoch=62]\n",
      "100%|██████████| 7/7 [00:00<00:00, 16.55it/s, avg_epoch_loss=0, epoch=63]\n",
      "100%|██████████| 7/7 [00:00<00:00, 16.89it/s, avg_epoch_loss=0, epoch=64]\n",
      "100%|██████████| 7/7 [00:00<00:00, 16.98it/s, avg_epoch_loss=0, epoch=65]\n",
      "100%|██████████| 7/7 [00:00<00:00, 17.16it/s, avg_epoch_loss=0, epoch=66]\n",
      "100%|██████████| 7/7 [00:00<00:00, 14.11it/s, avg_epoch_loss=0, epoch=67]\n",
      "100%|██████████| 7/7 [00:00<00:00, 15.56it/s, avg_epoch_loss=0, epoch=68]\n",
      "100%|██████████| 7/7 [00:00<00:00, 15.84it/s, avg_epoch_loss=0, epoch=69]\n",
      "100%|██████████| 7/7 [00:00<00:00, 15.89it/s, avg_epoch_loss=0, epoch=70]\n",
      "100%|██████████| 7/7 [00:00<00:00, 16.33it/s, avg_epoch_loss=0, epoch=71]\n",
      "100%|██████████| 7/7 [00:00<00:00, 14.54it/s, avg_epoch_loss=0, epoch=72]\n",
      "100%|██████████| 7/7 [00:00<00:00, 18.23it/s, avg_epoch_loss=0, epoch=73]\n",
      "100%|██████████| 7/7 [00:00<00:00, 18.12it/s, avg_epoch_loss=0, epoch=74]\n",
      "100%|██████████| 7/7 [00:00<00:00, 18.32it/s, avg_epoch_loss=0, epoch=75]\n",
      "100%|██████████| 7/7 [00:00<00:00, 14.46it/s, avg_epoch_loss=0, epoch=76]\n",
      "100%|██████████| 7/7 [00:00<00:00, 18.41it/s, avg_epoch_loss=0, epoch=77]\n",
      "100%|██████████| 7/7 [00:00<00:00, 18.38it/s, avg_epoch_loss=0, epoch=78]\n",
      "100%|██████████| 7/7 [00:00<00:00, 17.94it/s, avg_epoch_loss=0, epoch=79]\n",
      "100%|██████████| 7/7 [00:00<00:00, 18.36it/s, avg_epoch_loss=0, epoch=80]\n",
      "100%|██████████| 7/7 [00:00<00:00, 18.42it/s, avg_epoch_loss=0, epoch=81]\n",
      "100%|██████████| 7/7 [00:00<00:00, 18.47it/s, avg_epoch_loss=0, epoch=82]\n",
      "100%|██████████| 7/7 [00:00<00:00, 17.49it/s, avg_epoch_loss=0, epoch=83]\n",
      "100%|██████████| 7/7 [00:00<00:00, 16.94it/s, avg_epoch_loss=0, epoch=84]\n",
      "100%|██████████| 7/7 [00:00<00:00, 16.79it/s, avg_epoch_loss=0, epoch=85]\n",
      "100%|██████████| 7/7 [00:00<00:00, 17.11it/s, avg_epoch_loss=0, epoch=86]\n",
      "100%|██████████| 7/7 [00:00<00:00, 16.98it/s, avg_epoch_loss=0, epoch=87]\n",
      "100%|██████████| 7/7 [00:00<00:00, 17.35it/s, avg_epoch_loss=0, epoch=88]\n",
      "100%|██████████| 7/7 [00:00<00:00, 17.08it/s, avg_epoch_loss=0, epoch=89]\n",
      "100%|██████████| 7/7 [00:00<00:00, 17.11it/s, avg_epoch_loss=0, epoch=90]\n",
      "100%|██████████| 7/7 [00:00<00:00, 17.15it/s, avg_epoch_loss=0, epoch=91]\n",
      "100%|██████████| 7/7 [00:00<00:00, 15.73it/s, avg_epoch_loss=0, epoch=92]\n",
      "100%|██████████| 7/7 [00:00<00:00, 16.94it/s, avg_epoch_loss=0, epoch=93]\n",
      "100%|██████████| 7/7 [00:00<00:00, 17.13it/s, avg_epoch_loss=0, epoch=94]\n",
      "100%|██████████| 7/7 [00:00<00:00, 17.34it/s, avg_epoch_loss=0, epoch=95]\n",
      "100%|██████████| 7/7 [00:00<00:00, 15.66it/s, avg_epoch_loss=0, epoch=96]\n",
      "100%|██████████| 7/7 [00:00<00:00, 17.27it/s, avg_epoch_loss=0, epoch=97]\n",
      "100%|██████████| 7/7 [00:00<00:00, 16.71it/s, avg_epoch_loss=0, epoch=98]\n",
      "100%|██████████| 7/7 [00:00<00:00, 16.41it/s, avg_epoch_loss=0, epoch=99]\n"
     ]
    },
    {
     "name": "stdout",
     "output_type": "stream",
     "text": [
      "Start validation!!!\n",
      "Epoch: 99\n"
     ]
    },
    {
     "name": "stderr",
     "output_type": "stream",
     "text": [
      "100%|██████████| 2/2 [01:07<00:00, 33.75s/it]\n"
     ]
    },
    {
     "name": "stdout",
     "output_type": "stream",
     "text": [
      "====================================\n",
      "##### End evaluation!!\n",
      "PEHE VAL = 8.29e+03\n"
     ]
    },
    {
     "name": "stderr",
     "output_type": "stream",
     "text": [
      "100%|██████████| 7/7 [00:00<00:00, 16.74it/s, avg_epoch_loss=0, epoch=100]\n",
      "100%|██████████| 7/7 [00:00<00:00, 16.91it/s, avg_epoch_loss=0, epoch=101]\n",
      "100%|██████████| 7/7 [00:00<00:00, 16.91it/s, avg_epoch_loss=0, epoch=102]\n",
      "100%|██████████| 7/7 [00:00<00:00, 16.75it/s, avg_epoch_loss=0, epoch=103]\n",
      "100%|██████████| 7/7 [00:00<00:00, 17.05it/s, avg_epoch_loss=0, epoch=104]\n",
      "100%|██████████| 7/7 [00:00<00:00, 16.77it/s, avg_epoch_loss=0, epoch=105]\n",
      "100%|██████████| 7/7 [00:00<00:00, 16.86it/s, avg_epoch_loss=0, epoch=106]\n",
      "100%|██████████| 7/7 [00:00<00:00, 16.94it/s, avg_epoch_loss=0, epoch=107]\n",
      "100%|██████████| 7/7 [00:00<00:00, 13.82it/s, avg_epoch_loss=0, epoch=108]\n",
      "100%|██████████| 7/7 [00:00<00:00, 17.18it/s, avg_epoch_loss=0, epoch=109]\n",
      "100%|██████████| 7/7 [00:00<00:00, 17.55it/s, avg_epoch_loss=0, epoch=110]\n",
      "100%|██████████| 7/7 [00:00<00:00, 17.52it/s, avg_epoch_loss=0, epoch=111]\n",
      "100%|██████████| 7/7 [00:00<00:00, 17.67it/s, avg_epoch_loss=0, epoch=112]\n",
      "100%|██████████| 7/7 [00:00<00:00, 17.74it/s, avg_epoch_loss=0, epoch=113]\n",
      "100%|██████████| 7/7 [00:00<00:00, 13.53it/s, avg_epoch_loss=0, epoch=114]\n",
      "100%|██████████| 7/7 [00:00<00:00, 17.51it/s, avg_epoch_loss=0, epoch=115]\n",
      "100%|██████████| 7/7 [00:00<00:00, 16.44it/s, avg_epoch_loss=0, epoch=116]\n",
      "100%|██████████| 7/7 [00:00<00:00, 16.33it/s, avg_epoch_loss=0, epoch=117]\n",
      "100%|██████████| 7/7 [00:00<00:00, 17.15it/s, avg_epoch_loss=0, epoch=118]\n",
      "100%|██████████| 7/7 [00:00<00:00, 16.90it/s, avg_epoch_loss=0, epoch=119]\n",
      "100%|██████████| 7/7 [00:00<00:00, 17.13it/s, avg_epoch_loss=0, epoch=120]\n",
      "100%|██████████| 7/7 [00:00<00:00, 16.96it/s, avg_epoch_loss=0, epoch=121]\n",
      "100%|██████████| 7/7 [00:00<00:00, 16.97it/s, avg_epoch_loss=0, epoch=122]\n",
      "100%|██████████| 7/7 [00:00<00:00, 16.88it/s, avg_epoch_loss=0, epoch=123]\n",
      "100%|██████████| 7/7 [00:00<00:00, 16.75it/s, avg_epoch_loss=0, epoch=124]\n",
      "100%|██████████| 7/7 [00:00<00:00, 17.38it/s, avg_epoch_loss=0, epoch=125]\n",
      "100%|██████████| 7/7 [00:00<00:00, 16.93it/s, avg_epoch_loss=0, epoch=126]\n",
      "100%|██████████| 7/7 [00:00<00:00, 17.03it/s, avg_epoch_loss=0, epoch=127]\n",
      "100%|██████████| 7/7 [00:00<00:00, 16.92it/s, avg_epoch_loss=0, epoch=128]\n",
      "100%|██████████| 7/7 [00:00<00:00, 16.88it/s, avg_epoch_loss=0, epoch=129]\n",
      "100%|██████████| 7/7 [00:00<00:00, 17.16it/s, avg_epoch_loss=0, epoch=130]\n",
      "100%|██████████| 7/7 [00:00<00:00, 17.09it/s, avg_epoch_loss=0, epoch=131]\n",
      "100%|██████████| 7/7 [00:00<00:00, 17.02it/s, avg_epoch_loss=0, epoch=132]\n",
      "100%|██████████| 7/7 [00:00<00:00, 16.44it/s, avg_epoch_loss=0, epoch=133]\n",
      "100%|██████████| 7/7 [00:00<00:00, 16.69it/s, avg_epoch_loss=0, epoch=134]\n",
      "100%|██████████| 7/7 [00:00<00:00, 16.77it/s, avg_epoch_loss=0, epoch=135]\n",
      "100%|██████████| 7/7 [00:00<00:00, 17.01it/s, avg_epoch_loss=0, epoch=136]\n",
      "100%|██████████| 7/7 [00:00<00:00, 14.96it/s, avg_epoch_loss=0, epoch=137]\n",
      "100%|██████████| 7/7 [00:00<00:00, 16.82it/s, avg_epoch_loss=0, epoch=138]\n",
      "100%|██████████| 7/7 [00:00<00:00, 16.92it/s, avg_epoch_loss=0, epoch=139]\n",
      "100%|██████████| 7/7 [00:00<00:00, 16.71it/s, avg_epoch_loss=0, epoch=140]\n",
      "100%|██████████| 7/7 [00:00<00:00, 17.19it/s, avg_epoch_loss=0, epoch=141]\n",
      "100%|██████████| 7/7 [00:00<00:00, 16.90it/s, avg_epoch_loss=0, epoch=142]\n",
      "100%|██████████| 7/7 [00:00<00:00, 17.04it/s, avg_epoch_loss=0, epoch=143]\n",
      "100%|██████████| 7/7 [00:00<00:00, 17.13it/s, avg_epoch_loss=0, epoch=144]\n",
      "100%|██████████| 7/7 [00:00<00:00, 17.33it/s, avg_epoch_loss=0, epoch=145]\n",
      "100%|██████████| 7/7 [00:00<00:00, 17.18it/s, avg_epoch_loss=0, epoch=146]\n",
      "100%|██████████| 7/7 [00:00<00:00, 17.14it/s, avg_epoch_loss=0, epoch=147]\n",
      "100%|██████████| 7/7 [00:00<00:00, 16.88it/s, avg_epoch_loss=0, epoch=148]\n",
      "100%|██████████| 7/7 [00:00<00:00, 16.86it/s, avg_epoch_loss=0, epoch=149]\n"
     ]
    },
    {
     "name": "stdout",
     "output_type": "stream",
     "text": [
      "Start validation!!!\n",
      "Epoch: 149\n"
     ]
    },
    {
     "name": "stderr",
     "output_type": "stream",
     "text": [
      "100%|██████████| 2/2 [01:08<00:00, 34.36s/it]\n"
     ]
    },
    {
     "name": "stdout",
     "output_type": "stream",
     "text": [
      "====================================\n",
      "##### End evaluation!!\n",
      "PEHE VAL = 8.48e+03\n"
     ]
    },
    {
     "name": "stderr",
     "output_type": "stream",
     "text": [
      "100%|██████████| 7/7 [00:00<00:00, 17.35it/s, avg_epoch_loss=0, epoch=150]\n",
      "100%|██████████| 7/7 [00:00<00:00, 17.11it/s, avg_epoch_loss=0, epoch=151]\n",
      "100%|██████████| 7/7 [00:00<00:00, 17.14it/s, avg_epoch_loss=0, epoch=152]\n",
      "100%|██████████| 7/7 [00:00<00:00, 17.19it/s, avg_epoch_loss=0, epoch=153]\n",
      "100%|██████████| 7/7 [00:00<00:00, 16.17it/s, avg_epoch_loss=0, epoch=154]\n",
      "100%|██████████| 7/7 [00:00<00:00, 17.28it/s, avg_epoch_loss=0, epoch=155]\n",
      "100%|██████████| 7/7 [00:00<00:00, 14.73it/s, avg_epoch_loss=0, epoch=156]\n",
      "100%|██████████| 7/7 [00:00<00:00, 17.46it/s, avg_epoch_loss=0, epoch=157]\n",
      "100%|██████████| 7/7 [00:00<00:00, 17.42it/s, avg_epoch_loss=0, epoch=158]\n",
      "100%|██████████| 7/7 [00:00<00:00, 17.53it/s, avg_epoch_loss=0, epoch=159]\n",
      "100%|██████████| 7/7 [00:00<00:00, 16.25it/s, avg_epoch_loss=0, epoch=160]\n",
      "100%|██████████| 7/7 [00:00<00:00, 17.52it/s, avg_epoch_loss=0, epoch=161]\n",
      "100%|██████████| 7/7 [00:00<00:00, 17.26it/s, avg_epoch_loss=0, epoch=162]\n",
      "100%|██████████| 7/7 [00:00<00:00, 17.14it/s, avg_epoch_loss=0, epoch=163]\n",
      "100%|██████████| 7/7 [00:00<00:00, 17.21it/s, avg_epoch_loss=0, epoch=164]\n",
      "100%|██████████| 7/7 [00:00<00:00, 17.06it/s, avg_epoch_loss=0, epoch=165]\n",
      "100%|██████████| 7/7 [00:00<00:00, 16.89it/s, avg_epoch_loss=0, epoch=166]\n",
      "100%|██████████| 7/7 [00:00<00:00, 15.80it/s, avg_epoch_loss=0, epoch=167]\n",
      "100%|██████████| 7/7 [00:00<00:00, 14.09it/s, avg_epoch_loss=0, epoch=168]\n",
      "100%|██████████| 7/7 [00:00<00:00, 17.37it/s, avg_epoch_loss=0, epoch=169]\n",
      "100%|██████████| 7/7 [00:00<00:00, 17.10it/s, avg_epoch_loss=0, epoch=170]\n",
      "100%|██████████| 7/7 [00:00<00:00, 16.94it/s, avg_epoch_loss=0, epoch=171]\n",
      "100%|██████████| 7/7 [00:00<00:00, 17.49it/s, avg_epoch_loss=0, epoch=172]\n",
      "100%|██████████| 7/7 [00:00<00:00, 13.43it/s, avg_epoch_loss=0, epoch=173]\n",
      "100%|██████████| 7/7 [00:00<00:00, 16.52it/s, avg_epoch_loss=0, epoch=174]\n",
      "100%|██████████| 7/7 [00:00<00:00, 14.72it/s, avg_epoch_loss=0, epoch=175]\n",
      "100%|██████████| 7/7 [00:00<00:00, 14.53it/s, avg_epoch_loss=0, epoch=176]\n",
      "100%|██████████| 7/7 [00:00<00:00, 16.98it/s, avg_epoch_loss=0, epoch=177]\n",
      "100%|██████████| 7/7 [00:00<00:00, 17.44it/s, avg_epoch_loss=0, epoch=178]\n",
      "100%|██████████| 7/7 [00:00<00:00, 17.74it/s, avg_epoch_loss=0, epoch=179]\n",
      "100%|██████████| 7/7 [00:00<00:00, 17.33it/s, avg_epoch_loss=0, epoch=180]\n",
      "100%|██████████| 7/7 [00:00<00:00, 17.43it/s, avg_epoch_loss=0, epoch=181]\n",
      "100%|██████████| 7/7 [00:00<00:00, 17.20it/s, avg_epoch_loss=0, epoch=182]\n",
      "100%|██████████| 7/7 [00:00<00:00, 17.32it/s, avg_epoch_loss=0, epoch=183]\n",
      "100%|██████████| 7/7 [00:00<00:00, 17.57it/s, avg_epoch_loss=0, epoch=184]\n",
      "100%|██████████| 7/7 [00:00<00:00, 17.42it/s, avg_epoch_loss=0, epoch=185]\n",
      "100%|██████████| 7/7 [00:00<00:00, 17.11it/s, avg_epoch_loss=0, epoch=186]\n",
      "100%|██████████| 7/7 [00:00<00:00, 17.34it/s, avg_epoch_loss=0, epoch=187]\n",
      "100%|██████████| 7/7 [00:00<00:00, 17.40it/s, avg_epoch_loss=0, epoch=188]\n",
      "100%|██████████| 7/7 [00:00<00:00, 17.28it/s, avg_epoch_loss=0, epoch=189]\n",
      "100%|██████████| 7/7 [00:00<00:00, 16.81it/s, avg_epoch_loss=0, epoch=190]\n",
      "100%|██████████| 7/7 [00:00<00:00, 17.28it/s, avg_epoch_loss=0, epoch=191]\n",
      "100%|██████████| 7/7 [00:00<00:00, 17.25it/s, avg_epoch_loss=0, epoch=192]\n",
      "100%|██████████| 7/7 [00:00<00:00, 16.47it/s, avg_epoch_loss=0, epoch=193]\n",
      "100%|██████████| 7/7 [00:00<00:00, 17.25it/s, avg_epoch_loss=0, epoch=194]\n",
      "100%|██████████| 7/7 [00:00<00:00, 16.91it/s, avg_epoch_loss=0, epoch=195]\n",
      "100%|██████████| 7/7 [00:00<00:00, 16.92it/s, avg_epoch_loss=0, epoch=196]\n",
      "100%|██████████| 7/7 [00:00<00:00, 16.99it/s, avg_epoch_loss=0, epoch=197]\n",
      "100%|██████████| 7/7 [00:00<00:00, 15.75it/s, avg_epoch_loss=0, epoch=198]\n",
      "100%|██████████| 7/7 [00:00<00:00, 17.07it/s, avg_epoch_loss=0, epoch=199]\n"
     ]
    },
    {
     "name": "stdout",
     "output_type": "stream",
     "text": [
      "Start validation!!!\n",
      "Epoch: 199\n"
     ]
    },
    {
     "name": "stderr",
     "output_type": "stream",
     "text": [
      "100%|██████████| 2/2 [01:07<00:00, 33.72s/it]\n"
     ]
    },
    {
     "name": "stdout",
     "output_type": "stream",
     "text": [
      "====================================\n",
      "##### End evaluation!!\n",
      "PEHE VAL = 8.64e+03\n"
     ]
    },
    {
     "name": "stderr",
     "output_type": "stream",
     "text": [
      "100%|██████████| 7/7 [00:00<00:00, 17.04it/s, avg_epoch_loss=0, epoch=200]\n",
      "100%|██████████| 7/7 [00:00<00:00, 17.00it/s, avg_epoch_loss=0, epoch=201]\n",
      "100%|██████████| 7/7 [00:00<00:00, 17.00it/s, avg_epoch_loss=0, epoch=202]\n",
      "100%|██████████| 7/7 [00:00<00:00, 17.08it/s, avg_epoch_loss=0, epoch=203]\n",
      "100%|██████████| 7/7 [00:00<00:00, 17.13it/s, avg_epoch_loss=0, epoch=204]\n",
      "100%|██████████| 7/7 [00:00<00:00, 16.85it/s, avg_epoch_loss=0, epoch=205]\n",
      "100%|██████████| 7/7 [00:00<00:00, 17.11it/s, avg_epoch_loss=0, epoch=206]\n",
      "100%|██████████| 7/7 [00:00<00:00, 17.05it/s, avg_epoch_loss=0, epoch=207]\n",
      "100%|██████████| 7/7 [00:00<00:00, 14.39it/s, avg_epoch_loss=0, epoch=208]\n",
      "100%|██████████| 7/7 [00:00<00:00, 17.51it/s, avg_epoch_loss=0, epoch=209]\n",
      "100%|██████████| 7/7 [00:00<00:00, 17.63it/s, avg_epoch_loss=0, epoch=210]\n",
      "100%|██████████| 7/7 [00:00<00:00, 17.25it/s, avg_epoch_loss=0, epoch=211]\n",
      "100%|██████████| 7/7 [00:00<00:00, 17.50it/s, avg_epoch_loss=0, epoch=212]\n",
      "100%|██████████| 7/7 [00:00<00:00, 17.72it/s, avg_epoch_loss=0, epoch=213]\n",
      "100%|██████████| 7/7 [00:00<00:00, 17.32it/s, avg_epoch_loss=0, epoch=214]\n",
      "100%|██████████| 7/7 [00:00<00:00, 15.21it/s, avg_epoch_loss=0, epoch=215]\n",
      "100%|██████████| 7/7 [00:00<00:00, 16.39it/s, avg_epoch_loss=0, epoch=216]\n",
      "100%|██████████| 7/7 [00:00<00:00, 17.22it/s, avg_epoch_loss=0, epoch=217]\n",
      "100%|██████████| 7/7 [00:00<00:00, 17.43it/s, avg_epoch_loss=0, epoch=218]\n",
      "100%|██████████| 7/7 [00:00<00:00, 16.91it/s, avg_epoch_loss=0, epoch=219]\n",
      "100%|██████████| 7/7 [00:00<00:00, 15.71it/s, avg_epoch_loss=0, epoch=220]\n",
      "100%|██████████| 7/7 [00:00<00:00, 14.04it/s, avg_epoch_loss=0, epoch=221]\n",
      "100%|██████████| 7/7 [00:00<00:00, 14.08it/s, avg_epoch_loss=0, epoch=222]\n",
      "100%|██████████| 7/7 [00:00<00:00, 17.13it/s, avg_epoch_loss=0, epoch=223]\n",
      "100%|██████████| 7/7 [00:00<00:00, 16.93it/s, avg_epoch_loss=0, epoch=224]\n",
      "100%|██████████| 7/7 [00:00<00:00, 15.55it/s, avg_epoch_loss=0, epoch=225]\n",
      "100%|██████████| 7/7 [00:00<00:00, 13.94it/s, avg_epoch_loss=0, epoch=226]\n",
      "100%|██████████| 7/7 [00:00<00:00, 14.80it/s, avg_epoch_loss=0, epoch=227]\n",
      "100%|██████████| 7/7 [00:00<00:00, 16.83it/s, avg_epoch_loss=0, epoch=228]\n",
      "100%|██████████| 7/7 [00:00<00:00, 17.07it/s, avg_epoch_loss=0, epoch=229]\n",
      "100%|██████████| 7/7 [00:00<00:00, 16.46it/s, avg_epoch_loss=0, epoch=230]\n",
      "100%|██████████| 7/7 [00:00<00:00, 14.36it/s, avg_epoch_loss=0, epoch=231]\n",
      "100%|██████████| 7/7 [00:00<00:00, 17.57it/s, avg_epoch_loss=0, epoch=232]\n",
      "100%|██████████| 7/7 [00:00<00:00, 13.65it/s, avg_epoch_loss=0, epoch=233]\n",
      "100%|██████████| 7/7 [00:00<00:00, 17.43it/s, avg_epoch_loss=0, epoch=234]\n",
      "100%|██████████| 7/7 [00:00<00:00, 17.88it/s, avg_epoch_loss=0, epoch=235]\n",
      "100%|██████████| 7/7 [00:00<00:00, 17.98it/s, avg_epoch_loss=0, epoch=236]\n",
      "100%|██████████| 7/7 [00:00<00:00, 17.84it/s, avg_epoch_loss=0, epoch=237]\n",
      "100%|██████████| 7/7 [00:00<00:00, 17.57it/s, avg_epoch_loss=0, epoch=238]\n",
      "100%|██████████| 7/7 [00:00<00:00, 17.34it/s, avg_epoch_loss=0, epoch=239]\n",
      "100%|██████████| 7/7 [00:00<00:00, 17.24it/s, avg_epoch_loss=0, epoch=240]\n",
      "100%|██████████| 7/7 [00:00<00:00, 17.11it/s, avg_epoch_loss=0, epoch=241]\n",
      "100%|██████████| 7/7 [00:00<00:00, 17.16it/s, avg_epoch_loss=0, epoch=242]\n",
      "100%|██████████| 7/7 [00:00<00:00, 17.22it/s, avg_epoch_loss=0, epoch=243]\n",
      "100%|██████████| 7/7 [00:00<00:00, 17.01it/s, avg_epoch_loss=0, epoch=244]\n",
      "100%|██████████| 7/7 [00:00<00:00, 18.70it/s, avg_epoch_loss=0, epoch=245]\n",
      "100%|██████████| 7/7 [00:00<00:00, 18.77it/s, avg_epoch_loss=0, epoch=246]\n",
      "100%|██████████| 7/7 [00:00<00:00, 18.81it/s, avg_epoch_loss=0, epoch=247]\n",
      "100%|██████████| 7/7 [00:00<00:00, 16.78it/s, avg_epoch_loss=0, epoch=248]\n",
      "100%|██████████| 7/7 [00:00<00:00, 17.11it/s, avg_epoch_loss=0, epoch=249]\n"
     ]
    },
    {
     "name": "stdout",
     "output_type": "stream",
     "text": [
      "Start validation!!!\n",
      "Epoch: 249\n"
     ]
    },
    {
     "name": "stderr",
     "output_type": "stream",
     "text": [
      "100%|██████████| 2/2 [01:07<00:00, 33.60s/it]\n"
     ]
    },
    {
     "name": "stdout",
     "output_type": "stream",
     "text": [
      "====================================\n",
      "##### End evaluation!!\n",
      "PEHE VAL = 8.31e+03\n"
     ]
    },
    {
     "name": "stderr",
     "output_type": "stream",
     "text": [
      "100%|██████████| 7/7 [00:00<00:00, 17.58it/s, avg_epoch_loss=0, epoch=250]\n",
      "100%|██████████| 7/7 [00:00<00:00, 15.16it/s, avg_epoch_loss=0, epoch=251]\n",
      "100%|██████████| 7/7 [00:00<00:00, 13.51it/s, avg_epoch_loss=0, epoch=252]\n",
      "100%|██████████| 7/7 [00:00<00:00, 15.99it/s, avg_epoch_loss=0, epoch=253]\n",
      "100%|██████████| 7/7 [00:00<00:00, 13.94it/s, avg_epoch_loss=0, epoch=254]\n",
      "100%|██████████| 7/7 [00:00<00:00, 16.60it/s, avg_epoch_loss=0, epoch=255]\n",
      "100%|██████████| 7/7 [00:00<00:00, 17.10it/s, avg_epoch_loss=0, epoch=256]\n",
      "100%|██████████| 7/7 [00:00<00:00, 17.29it/s, avg_epoch_loss=0, epoch=257]\n",
      "100%|██████████| 7/7 [00:00<00:00, 13.80it/s, avg_epoch_loss=0, epoch=258]\n",
      "100%|██████████| 7/7 [00:00<00:00, 16.60it/s, avg_epoch_loss=0, epoch=259]\n",
      "100%|██████████| 7/7 [00:00<00:00, 16.63it/s, avg_epoch_loss=0, epoch=260]\n",
      "100%|██████████| 7/7 [00:00<00:00, 14.01it/s, avg_epoch_loss=0, epoch=261]\n",
      "100%|██████████| 7/7 [00:00<00:00, 14.96it/s, avg_epoch_loss=0, epoch=262]\n",
      "100%|██████████| 7/7 [00:00<00:00, 14.08it/s, avg_epoch_loss=0, epoch=263]\n",
      "100%|██████████| 7/7 [00:00<00:00, 13.62it/s, avg_epoch_loss=0, epoch=264]\n",
      "100%|██████████| 7/7 [00:00<00:00, 14.97it/s, avg_epoch_loss=0, epoch=265]\n",
      "100%|██████████| 7/7 [00:00<00:00, 15.01it/s, avg_epoch_loss=0, epoch=266]\n",
      "100%|██████████| 7/7 [00:00<00:00, 15.62it/s, avg_epoch_loss=0, epoch=267]\n",
      "100%|██████████| 7/7 [00:00<00:00, 15.97it/s, avg_epoch_loss=0, epoch=268]\n",
      "100%|██████████| 7/7 [00:00<00:00, 16.53it/s, avg_epoch_loss=0, epoch=269]\n",
      "100%|██████████| 7/7 [00:00<00:00, 15.41it/s, avg_epoch_loss=0, epoch=270]\n",
      "100%|██████████| 7/7 [00:00<00:00, 15.43it/s, avg_epoch_loss=0, epoch=271]\n",
      "100%|██████████| 7/7 [00:00<00:00, 16.24it/s, avg_epoch_loss=0, epoch=272]\n",
      "100%|██████████| 7/7 [00:00<00:00, 14.83it/s, avg_epoch_loss=0, epoch=273]\n",
      "100%|██████████| 7/7 [00:00<00:00, 13.94it/s, avg_epoch_loss=0, epoch=274]\n",
      "100%|██████████| 7/7 [00:00<00:00, 15.74it/s, avg_epoch_loss=0, epoch=275]\n",
      "100%|██████████| 7/7 [00:00<00:00, 15.24it/s, avg_epoch_loss=0, epoch=276]\n",
      "100%|██████████| 7/7 [00:00<00:00, 16.22it/s, avg_epoch_loss=0, epoch=277]\n",
      "100%|██████████| 7/7 [00:00<00:00, 14.45it/s, avg_epoch_loss=0, epoch=278]\n",
      "100%|██████████| 7/7 [00:00<00:00, 15.37it/s, avg_epoch_loss=0, epoch=279]\n",
      "100%|██████████| 7/7 [00:00<00:00, 15.53it/s, avg_epoch_loss=0, epoch=280]\n",
      "100%|██████████| 7/7 [00:00<00:00, 15.73it/s, avg_epoch_loss=0, epoch=281]\n",
      "100%|██████████| 7/7 [00:00<00:00, 16.52it/s, avg_epoch_loss=0, epoch=282]\n",
      "100%|██████████| 7/7 [00:00<00:00, 16.45it/s, avg_epoch_loss=0, epoch=283]\n",
      "100%|██████████| 7/7 [00:00<00:00, 16.30it/s, avg_epoch_loss=0, epoch=284]\n",
      "100%|██████████| 7/7 [00:00<00:00, 16.26it/s, avg_epoch_loss=0, epoch=285]\n",
      "100%|██████████| 7/7 [00:00<00:00, 16.47it/s, avg_epoch_loss=0, epoch=286]\n",
      "100%|██████████| 7/7 [00:00<00:00, 16.39it/s, avg_epoch_loss=0, epoch=287]\n",
      "100%|██████████| 7/7 [00:00<00:00, 16.72it/s, avg_epoch_loss=0, epoch=288]\n",
      "100%|██████████| 7/7 [00:00<00:00, 14.43it/s, avg_epoch_loss=0, epoch=289]\n",
      "100%|██████████| 7/7 [00:00<00:00, 16.88it/s, avg_epoch_loss=0, epoch=290]\n",
      "100%|██████████| 7/7 [00:00<00:00, 16.92it/s, avg_epoch_loss=0, epoch=291]\n",
      "100%|██████████| 7/7 [00:00<00:00, 17.74it/s, avg_epoch_loss=0, epoch=292]\n",
      "100%|██████████| 7/7 [00:00<00:00, 17.93it/s, avg_epoch_loss=0, epoch=293]\n",
      "100%|██████████| 7/7 [00:00<00:00, 15.46it/s, avg_epoch_loss=0, epoch=294]\n",
      "100%|██████████| 7/7 [00:00<00:00, 16.23it/s, avg_epoch_loss=0, epoch=295]\n",
      "100%|██████████| 7/7 [00:00<00:00, 16.55it/s, avg_epoch_loss=0, epoch=296]\n",
      "100%|██████████| 7/7 [00:00<00:00, 16.29it/s, avg_epoch_loss=0, epoch=297]\n",
      "100%|██████████| 7/7 [00:00<00:00, 16.50it/s, avg_epoch_loss=0, epoch=298]\n",
      "100%|██████████| 7/7 [00:00<00:00, 16.31it/s, avg_epoch_loss=0, epoch=299]\n"
     ]
    },
    {
     "name": "stdout",
     "output_type": "stream",
     "text": [
      "Start validation!!!\n",
      "Epoch: 299\n"
     ]
    },
    {
     "name": "stderr",
     "output_type": "stream",
     "text": [
      "100%|██████████| 2/2 [01:12<00:00, 36.43s/it]\n"
     ]
    },
    {
     "name": "stdout",
     "output_type": "stream",
     "text": [
      "====================================\n",
      "##### End evaluation!!\n",
      "PEHE VAL = 8.37e+03\n"
     ]
    },
    {
     "name": "stderr",
     "output_type": "stream",
     "text": [
      "100%|██████████| 7/7 [00:00<00:00, 16.98it/s, avg_epoch_loss=0, epoch=300]\n",
      "100%|██████████| 7/7 [00:00<00:00, 17.32it/s, avg_epoch_loss=0, epoch=301]\n",
      "100%|██████████| 7/7 [00:00<00:00, 17.25it/s, avg_epoch_loss=0, epoch=302]\n",
      "100%|██████████| 7/7 [00:00<00:00, 16.64it/s, avg_epoch_loss=0, epoch=303]\n",
      "100%|██████████| 7/7 [00:00<00:00, 16.58it/s, avg_epoch_loss=0, epoch=304]\n",
      "100%|██████████| 7/7 [00:00<00:00, 16.77it/s, avg_epoch_loss=0, epoch=305]\n",
      "100%|██████████| 7/7 [00:00<00:00, 17.65it/s, avg_epoch_loss=0, epoch=306]\n",
      "100%|██████████| 7/7 [00:00<00:00, 18.11it/s, avg_epoch_loss=0, epoch=307]\n",
      "100%|██████████| 7/7 [00:00<00:00, 18.36it/s, avg_epoch_loss=0, epoch=308]\n",
      "100%|██████████| 7/7 [00:00<00:00, 17.94it/s, avg_epoch_loss=0, epoch=309]\n",
      "100%|██████████| 7/7 [00:00<00:00, 18.30it/s, avg_epoch_loss=0, epoch=310]\n",
      "100%|██████████| 7/7 [00:00<00:00, 17.27it/s, avg_epoch_loss=0, epoch=311]\n",
      "100%|██████████| 7/7 [00:00<00:00, 17.43it/s, avg_epoch_loss=0, epoch=312]\n",
      "100%|██████████| 7/7 [00:00<00:00, 14.73it/s, avg_epoch_loss=0, epoch=313]\n",
      "100%|██████████| 7/7 [00:00<00:00, 15.40it/s, avg_epoch_loss=0, epoch=314]\n",
      "100%|██████████| 7/7 [00:00<00:00, 16.81it/s, avg_epoch_loss=0, epoch=315]\n",
      "100%|██████████| 7/7 [00:00<00:00, 15.70it/s, avg_epoch_loss=0, epoch=316]\n",
      "100%|██████████| 7/7 [00:00<00:00, 17.01it/s, avg_epoch_loss=0, epoch=317]\n",
      "100%|██████████| 7/7 [00:00<00:00, 15.69it/s, avg_epoch_loss=0, epoch=318]\n",
      "100%|██████████| 7/7 [00:00<00:00, 16.90it/s, avg_epoch_loss=0, epoch=319]\n",
      "100%|██████████| 7/7 [00:00<00:00, 16.95it/s, avg_epoch_loss=0, epoch=320]\n",
      "100%|██████████| 7/7 [00:00<00:00, 16.67it/s, avg_epoch_loss=0, epoch=321]\n",
      "100%|██████████| 7/7 [00:00<00:00, 16.85it/s, avg_epoch_loss=0, epoch=322]\n",
      "100%|██████████| 7/7 [00:00<00:00, 16.66it/s, avg_epoch_loss=0, epoch=323]\n",
      "100%|██████████| 7/7 [00:00<00:00, 17.07it/s, avg_epoch_loss=0, epoch=324]\n",
      "100%|██████████| 7/7 [00:00<00:00, 16.84it/s, avg_epoch_loss=0, epoch=325]\n",
      "100%|██████████| 7/7 [00:00<00:00, 16.52it/s, avg_epoch_loss=0, epoch=326]\n",
      "100%|██████████| 7/7 [00:00<00:00, 16.29it/s, avg_epoch_loss=0, epoch=327]\n",
      "100%|██████████| 7/7 [00:00<00:00, 16.27it/s, avg_epoch_loss=0, epoch=328]\n",
      "100%|██████████| 7/7 [00:00<00:00, 16.73it/s, avg_epoch_loss=0, epoch=329]\n",
      "100%|██████████| 7/7 [00:00<00:00, 15.83it/s, avg_epoch_loss=0, epoch=330]\n",
      "100%|██████████| 7/7 [00:00<00:00, 16.46it/s, avg_epoch_loss=0, epoch=331]\n",
      "100%|██████████| 7/7 [00:00<00:00, 15.89it/s, avg_epoch_loss=0, epoch=332]\n",
      "100%|██████████| 7/7 [00:00<00:00, 16.08it/s, avg_epoch_loss=0, epoch=333]\n",
      "100%|██████████| 7/7 [00:00<00:00, 15.51it/s, avg_epoch_loss=0, epoch=334]\n",
      "100%|██████████| 7/7 [00:00<00:00, 16.39it/s, avg_epoch_loss=0, epoch=335]\n",
      "100%|██████████| 7/7 [00:00<00:00, 16.53it/s, avg_epoch_loss=0, epoch=336]\n",
      "100%|██████████| 7/7 [00:00<00:00, 15.85it/s, avg_epoch_loss=0, epoch=337]\n",
      "100%|██████████| 7/7 [00:00<00:00, 16.64it/s, avg_epoch_loss=0, epoch=338]\n",
      "100%|██████████| 7/7 [00:00<00:00, 16.73it/s, avg_epoch_loss=0, epoch=339]\n",
      "100%|██████████| 7/7 [00:00<00:00, 16.76it/s, avg_epoch_loss=0, epoch=340]\n",
      "100%|██████████| 7/7 [00:00<00:00, 16.79it/s, avg_epoch_loss=0, epoch=341]\n",
      "100%|██████████| 7/7 [00:00<00:00, 16.99it/s, avg_epoch_loss=0, epoch=342]\n",
      "100%|██████████| 7/7 [00:00<00:00, 18.18it/s, avg_epoch_loss=0, epoch=343]\n",
      "100%|██████████| 7/7 [00:00<00:00, 18.44it/s, avg_epoch_loss=0, epoch=344]\n",
      "100%|██████████| 7/7 [00:00<00:00, 15.76it/s, avg_epoch_loss=0, epoch=345]\n",
      "100%|██████████| 7/7 [00:00<00:00, 15.32it/s, avg_epoch_loss=0, epoch=346]\n",
      "100%|██████████| 7/7 [00:00<00:00, 14.26it/s, avg_epoch_loss=0, epoch=347]\n",
      "100%|██████████| 7/7 [00:00<00:00, 16.38it/s, avg_epoch_loss=0, epoch=348]\n",
      "100%|██████████| 7/7 [00:00<00:00, 16.44it/s, avg_epoch_loss=0, epoch=349]\n"
     ]
    },
    {
     "name": "stdout",
     "output_type": "stream",
     "text": [
      "Start validation!!!\n",
      "Epoch: 349\n"
     ]
    },
    {
     "name": "stderr",
     "output_type": "stream",
     "text": [
      "100%|██████████| 2/2 [01:11<00:00, 35.86s/it]\n"
     ]
    },
    {
     "name": "stdout",
     "output_type": "stream",
     "text": [
      "====================================\n",
      "##### End evaluation!!\n",
      "PEHE VAL = 8.91e+03\n"
     ]
    },
    {
     "name": "stderr",
     "output_type": "stream",
     "text": [
      "100%|██████████| 7/7 [00:00<00:00, 13.36it/s, avg_epoch_loss=0, epoch=350]\n",
      "100%|██████████| 7/7 [00:00<00:00, 17.30it/s, avg_epoch_loss=0, epoch=351]\n",
      "100%|██████████| 7/7 [00:00<00:00, 17.85it/s, avg_epoch_loss=0, epoch=352]\n",
      "100%|██████████| 7/7 [00:00<00:00, 17.46it/s, avg_epoch_loss=0, epoch=353]\n",
      "100%|██████████| 7/7 [00:00<00:00, 17.23it/s, avg_epoch_loss=0, epoch=354]\n",
      "100%|██████████| 7/7 [00:00<00:00, 13.22it/s, avg_epoch_loss=0, epoch=355]\n",
      "100%|██████████| 7/7 [00:00<00:00, 13.51it/s, avg_epoch_loss=0, epoch=356]\n",
      "100%|██████████| 7/7 [00:00<00:00, 14.34it/s, avg_epoch_loss=0, epoch=357]\n",
      "100%|██████████| 7/7 [00:00<00:00, 17.71it/s, avg_epoch_loss=0, epoch=358]\n",
      "100%|██████████| 7/7 [00:00<00:00, 17.80it/s, avg_epoch_loss=0, epoch=359]\n",
      "100%|██████████| 7/7 [00:00<00:00, 18.16it/s, avg_epoch_loss=0, epoch=360]\n",
      "100%|██████████| 7/7 [00:00<00:00, 15.04it/s, avg_epoch_loss=0, epoch=361]\n",
      "100%|██████████| 7/7 [00:00<00:00, 15.27it/s, avg_epoch_loss=0, epoch=362]\n",
      "100%|██████████| 7/7 [00:00<00:00, 16.31it/s, avg_epoch_loss=0, epoch=363]\n",
      "100%|██████████| 7/7 [00:00<00:00, 16.97it/s, avg_epoch_loss=0, epoch=364]\n",
      "100%|██████████| 7/7 [00:00<00:00, 16.91it/s, avg_epoch_loss=0, epoch=365]\n",
      "100%|██████████| 7/7 [00:00<00:00, 14.16it/s, avg_epoch_loss=0, epoch=366]\n",
      "100%|██████████| 7/7 [00:00<00:00, 16.92it/s, avg_epoch_loss=0, epoch=367]\n",
      "100%|██████████| 7/7 [00:00<00:00, 15.04it/s, avg_epoch_loss=0, epoch=368]\n",
      "100%|██████████| 7/7 [00:00<00:00, 16.65it/s, avg_epoch_loss=0, epoch=369]\n",
      "100%|██████████| 7/7 [00:00<00:00, 18.23it/s, avg_epoch_loss=0, epoch=370]\n",
      "100%|██████████| 7/7 [00:00<00:00, 17.94it/s, avg_epoch_loss=0, epoch=371]\n",
      "100%|██████████| 7/7 [00:00<00:00, 17.86it/s, avg_epoch_loss=0, epoch=372]\n",
      "100%|██████████| 7/7 [00:00<00:00, 16.49it/s, avg_epoch_loss=0, epoch=373]\n",
      "100%|██████████| 7/7 [00:00<00:00, 17.20it/s, avg_epoch_loss=0, epoch=374]\n",
      "100%|██████████| 7/7 [00:00<00:00, 16.94it/s, avg_epoch_loss=0, epoch=375]\n",
      "100%|██████████| 7/7 [00:00<00:00, 16.82it/s, avg_epoch_loss=0, epoch=376]\n",
      "100%|██████████| 7/7 [00:00<00:00, 16.16it/s, avg_epoch_loss=0, epoch=377]\n",
      "100%|██████████| 7/7 [00:00<00:00, 16.73it/s, avg_epoch_loss=0, epoch=378]\n",
      "100%|██████████| 7/7 [00:00<00:00, 17.45it/s, avg_epoch_loss=0, epoch=379]\n",
      "100%|██████████| 7/7 [00:00<00:00, 15.52it/s, avg_epoch_loss=0, epoch=380]\n",
      "100%|██████████| 7/7 [00:00<00:00, 15.77it/s, avg_epoch_loss=0, epoch=381]\n",
      "100%|██████████| 7/7 [00:00<00:00, 16.87it/s, avg_epoch_loss=0, epoch=382]\n",
      "100%|██████████| 7/7 [00:00<00:00, 16.64it/s, avg_epoch_loss=0, epoch=383]\n",
      "100%|██████████| 7/7 [00:00<00:00, 16.92it/s, avg_epoch_loss=0, epoch=384]\n",
      "100%|██████████| 7/7 [00:00<00:00, 16.60it/s, avg_epoch_loss=0, epoch=385]\n",
      "100%|██████████| 7/7 [00:00<00:00, 16.16it/s, avg_epoch_loss=0, epoch=386]\n",
      "100%|██████████| 7/7 [00:00<00:00, 17.21it/s, avg_epoch_loss=0, epoch=387]\n",
      "100%|██████████| 7/7 [00:00<00:00, 17.76it/s, avg_epoch_loss=0, epoch=388]\n",
      "100%|██████████| 7/7 [00:00<00:00, 17.56it/s, avg_epoch_loss=0, epoch=389]\n",
      "100%|██████████| 7/7 [00:00<00:00, 17.16it/s, avg_epoch_loss=0, epoch=390]\n",
      "100%|██████████| 7/7 [00:00<00:00, 15.18it/s, avg_epoch_loss=0, epoch=391]\n",
      "100%|██████████| 7/7 [00:00<00:00, 15.01it/s, avg_epoch_loss=0, epoch=392]\n",
      "100%|██████████| 7/7 [00:00<00:00, 14.92it/s, avg_epoch_loss=0, epoch=393]\n",
      "100%|██████████| 7/7 [00:00<00:00, 14.32it/s, avg_epoch_loss=0, epoch=394]\n",
      "100%|██████████| 7/7 [00:00<00:00, 16.55it/s, avg_epoch_loss=0, epoch=395]\n",
      "100%|██████████| 7/7 [00:00<00:00, 17.34it/s, avg_epoch_loss=0, epoch=396]\n",
      "100%|██████████| 7/7 [00:00<00:00, 18.07it/s, avg_epoch_loss=0, epoch=397]\n",
      "100%|██████████| 7/7 [00:00<00:00, 16.97it/s, avg_epoch_loss=0, epoch=398]\n",
      "100%|██████████| 7/7 [00:00<00:00, 17.47it/s, avg_epoch_loss=0, epoch=399]\n"
     ]
    },
    {
     "name": "stdout",
     "output_type": "stream",
     "text": [
      "Start validation!!!\n",
      "Epoch: 399\n"
     ]
    },
    {
     "name": "stderr",
     "output_type": "stream",
     "text": [
      "100%|██████████| 2/2 [01:04<00:00, 32.49s/it]\n"
     ]
    },
    {
     "name": "stdout",
     "output_type": "stream",
     "text": [
      "====================================\n",
      "##### End evaluation!!\n",
      "PEHE VAL = 8.9e+03\n"
     ]
    },
    {
     "name": "stderr",
     "output_type": "stream",
     "text": [
      "100%|██████████| 7/7 [00:00<00:00, 16.74it/s, avg_epoch_loss=0, epoch=400]\n",
      "100%|██████████| 7/7 [00:00<00:00, 16.94it/s, avg_epoch_loss=0, epoch=401]\n",
      "100%|██████████| 7/7 [00:00<00:00, 17.24it/s, avg_epoch_loss=0, epoch=402]\n",
      "100%|██████████| 7/7 [00:00<00:00, 17.03it/s, avg_epoch_loss=0, epoch=403]\n",
      "100%|██████████| 7/7 [00:00<00:00, 16.94it/s, avg_epoch_loss=0, epoch=404]\n",
      "100%|██████████| 7/7 [00:00<00:00, 17.30it/s, avg_epoch_loss=0, epoch=405]\n",
      "100%|██████████| 7/7 [00:00<00:00, 17.10it/s, avg_epoch_loss=0, epoch=406]\n",
      "100%|██████████| 7/7 [00:00<00:00, 17.28it/s, avg_epoch_loss=0, epoch=407]\n",
      "100%|██████████| 7/7 [00:00<00:00, 17.20it/s, avg_epoch_loss=0, epoch=408]\n",
      "100%|██████████| 7/7 [00:00<00:00, 16.89it/s, avg_epoch_loss=0, epoch=409]\n",
      "100%|██████████| 7/7 [00:00<00:00, 18.10it/s, avg_epoch_loss=0, epoch=410]\n",
      "100%|██████████| 7/7 [00:00<00:00, 17.89it/s, avg_epoch_loss=0, epoch=411]\n",
      "100%|██████████| 7/7 [00:00<00:00, 18.16it/s, avg_epoch_loss=0, epoch=412]\n",
      "100%|██████████| 7/7 [00:00<00:00, 18.17it/s, avg_epoch_loss=0, epoch=413]\n",
      "100%|██████████| 7/7 [00:00<00:00, 17.42it/s, avg_epoch_loss=0, epoch=414]\n",
      "100%|██████████| 7/7 [00:00<00:00, 16.33it/s, avg_epoch_loss=0, epoch=415]\n",
      "100%|██████████| 7/7 [00:00<00:00, 16.69it/s, avg_epoch_loss=0, epoch=416]\n",
      "100%|██████████| 7/7 [00:00<00:00, 17.23it/s, avg_epoch_loss=0, epoch=417]\n",
      "100%|██████████| 7/7 [00:00<00:00, 17.32it/s, avg_epoch_loss=0, epoch=418]\n",
      "100%|██████████| 7/7 [00:00<00:00, 15.88it/s, avg_epoch_loss=0, epoch=419]\n",
      "100%|██████████| 7/7 [00:00<00:00, 17.11it/s, avg_epoch_loss=0, epoch=420]\n",
      "100%|██████████| 7/7 [00:00<00:00, 16.71it/s, avg_epoch_loss=0, epoch=421]\n",
      "100%|██████████| 7/7 [00:00<00:00, 17.08it/s, avg_epoch_loss=0, epoch=422]\n",
      "100%|██████████| 7/7 [00:00<00:00, 17.27it/s, avg_epoch_loss=0, epoch=423]\n",
      "100%|██████████| 7/7 [00:00<00:00, 17.21it/s, avg_epoch_loss=0, epoch=424]\n",
      "100%|██████████| 7/7 [00:00<00:00, 15.11it/s, avg_epoch_loss=0, epoch=425]\n",
      "100%|██████████| 7/7 [00:00<00:00, 17.03it/s, avg_epoch_loss=0, epoch=426]\n",
      "100%|██████████| 7/7 [00:00<00:00, 17.28it/s, avg_epoch_loss=0, epoch=427]\n",
      "100%|██████████| 7/7 [00:00<00:00, 17.35it/s, avg_epoch_loss=0, epoch=428]\n",
      "100%|██████████| 7/7 [00:00<00:00, 17.27it/s, avg_epoch_loss=0, epoch=429]\n",
      "100%|██████████| 7/7 [00:00<00:00, 16.94it/s, avg_epoch_loss=0, epoch=430]\n",
      "100%|██████████| 7/7 [00:00<00:00, 17.04it/s, avg_epoch_loss=0, epoch=431]\n",
      "100%|██████████| 7/7 [00:00<00:00, 15.92it/s, avg_epoch_loss=0, epoch=432]\n",
      "100%|██████████| 7/7 [00:00<00:00, 16.27it/s, avg_epoch_loss=0, epoch=433]\n",
      "100%|██████████| 7/7 [00:00<00:00, 15.62it/s, avg_epoch_loss=0, epoch=434]\n",
      "100%|██████████| 7/7 [00:00<00:00, 16.48it/s, avg_epoch_loss=0, epoch=435]\n",
      "100%|██████████| 7/7 [00:00<00:00, 17.79it/s, avg_epoch_loss=0, epoch=436]\n",
      "100%|██████████| 7/7 [00:00<00:00, 17.75it/s, avg_epoch_loss=0, epoch=437]\n",
      "100%|██████████| 7/7 [00:00<00:00, 18.12it/s, avg_epoch_loss=0, epoch=438]\n",
      "100%|██████████| 7/7 [00:00<00:00, 17.21it/s, avg_epoch_loss=0, epoch=439]\n",
      "100%|██████████| 7/7 [00:00<00:00, 15.53it/s, avg_epoch_loss=0, epoch=440]\n",
      "100%|██████████| 7/7 [00:00<00:00, 16.59it/s, avg_epoch_loss=0, epoch=441]\n",
      "100%|██████████| 7/7 [00:00<00:00, 14.37it/s, avg_epoch_loss=0, epoch=442]\n",
      "100%|██████████| 7/7 [00:00<00:00, 16.76it/s, avg_epoch_loss=0, epoch=443]\n",
      "100%|██████████| 7/7 [00:00<00:00, 16.93it/s, avg_epoch_loss=0, epoch=444]\n",
      "100%|██████████| 7/7 [00:00<00:00, 16.24it/s, avg_epoch_loss=0, epoch=445]\n",
      "100%|██████████| 7/7 [00:00<00:00, 14.46it/s, avg_epoch_loss=0, epoch=446]\n",
      "100%|██████████| 7/7 [00:00<00:00, 15.22it/s, avg_epoch_loss=0, epoch=447]\n",
      "100%|██████████| 7/7 [00:00<00:00, 15.89it/s, avg_epoch_loss=0, epoch=448]\n",
      "100%|██████████| 7/7 [00:00<00:00, 14.68it/s, avg_epoch_loss=0, epoch=449]\n"
     ]
    },
    {
     "name": "stdout",
     "output_type": "stream",
     "text": [
      "Start validation!!!\n",
      "Epoch: 449\n"
     ]
    },
    {
     "name": "stderr",
     "output_type": "stream",
     "text": [
      "100%|██████████| 2/2 [01:11<00:00, 35.62s/it]\n"
     ]
    },
    {
     "name": "stdout",
     "output_type": "stream",
     "text": [
      "====================================\n",
      "##### End evaluation!!\n",
      "PEHE VAL = 8.03e+03\n"
     ]
    },
    {
     "name": "stderr",
     "output_type": "stream",
     "text": [
      "100%|██████████| 7/7 [00:00<00:00, 14.36it/s, avg_epoch_loss=0, epoch=450]\n",
      "100%|██████████| 7/7 [00:00<00:00, 14.30it/s, avg_epoch_loss=0, epoch=451]\n",
      "100%|██████████| 7/7 [00:00<00:00, 12.47it/s, avg_epoch_loss=0, epoch=452]\n",
      "100%|██████████| 7/7 [00:00<00:00, 15.03it/s, avg_epoch_loss=0, epoch=453]\n",
      "100%|██████████| 7/7 [00:00<00:00, 15.57it/s, avg_epoch_loss=0, epoch=454]\n",
      "100%|██████████| 7/7 [00:00<00:00, 15.02it/s, avg_epoch_loss=0, epoch=455]\n",
      "100%|██████████| 7/7 [00:00<00:00, 12.68it/s, avg_epoch_loss=0, epoch=456]\n",
      "100%|██████████| 7/7 [00:00<00:00, 15.02it/s, avg_epoch_loss=0, epoch=457]\n",
      "100%|██████████| 7/7 [00:00<00:00, 15.40it/s, avg_epoch_loss=0, epoch=458]\n",
      "100%|██████████| 7/7 [00:00<00:00, 16.62it/s, avg_epoch_loss=0, epoch=459]\n",
      "100%|██████████| 7/7 [00:00<00:00, 18.09it/s, avg_epoch_loss=0, epoch=460]\n",
      "100%|██████████| 7/7 [00:00<00:00, 16.70it/s, avg_epoch_loss=0, epoch=461]\n",
      "100%|██████████| 7/7 [00:00<00:00, 15.58it/s, avg_epoch_loss=0, epoch=462]\n",
      "100%|██████████| 7/7 [00:00<00:00, 17.29it/s, avg_epoch_loss=0, epoch=463]\n",
      "100%|██████████| 7/7 [00:00<00:00, 17.16it/s, avg_epoch_loss=0, epoch=464]\n",
      "100%|██████████| 7/7 [00:00<00:00, 16.92it/s, avg_epoch_loss=0, epoch=465]\n",
      "100%|██████████| 7/7 [00:00<00:00, 15.36it/s, avg_epoch_loss=0, epoch=466]\n",
      "100%|██████████| 7/7 [00:00<00:00, 15.82it/s, avg_epoch_loss=0, epoch=467]\n",
      "100%|██████████| 7/7 [00:00<00:00, 17.23it/s, avg_epoch_loss=0, epoch=468]\n",
      "100%|██████████| 7/7 [00:00<00:00, 15.22it/s, avg_epoch_loss=0, epoch=469]\n",
      "100%|██████████| 7/7 [00:00<00:00, 17.07it/s, avg_epoch_loss=0, epoch=470]\n",
      "100%|██████████| 7/7 [00:00<00:00, 16.32it/s, avg_epoch_loss=0, epoch=471]\n",
      "100%|██████████| 7/7 [00:00<00:00, 16.89it/s, avg_epoch_loss=0, epoch=472]\n",
      "100%|██████████| 7/7 [00:00<00:00, 16.56it/s, avg_epoch_loss=0, epoch=473]\n",
      "100%|██████████| 7/7 [00:00<00:00, 15.48it/s, avg_epoch_loss=0, epoch=474]\n",
      "100%|██████████| 7/7 [00:00<00:00, 13.84it/s, avg_epoch_loss=0, epoch=475]\n",
      "100%|██████████| 7/7 [00:00<00:00, 15.68it/s, avg_epoch_loss=0, epoch=476]\n",
      "100%|██████████| 7/7 [00:00<00:00, 18.31it/s, avg_epoch_loss=0, epoch=477]\n",
      "100%|██████████| 7/7 [00:00<00:00, 17.12it/s, avg_epoch_loss=0, epoch=478]\n",
      "100%|██████████| 7/7 [00:00<00:00, 16.52it/s, avg_epoch_loss=0, epoch=479]\n",
      "100%|██████████| 7/7 [00:00<00:00, 16.93it/s, avg_epoch_loss=0, epoch=480]\n",
      "100%|██████████| 7/7 [00:00<00:00, 17.02it/s, avg_epoch_loss=0, epoch=481]\n",
      "100%|██████████| 7/7 [00:00<00:00, 16.77it/s, avg_epoch_loss=0, epoch=482]\n",
      "100%|██████████| 7/7 [00:00<00:00, 16.33it/s, avg_epoch_loss=0, epoch=483]\n",
      "100%|██████████| 7/7 [00:00<00:00, 16.75it/s, avg_epoch_loss=0, epoch=484]\n",
      "100%|██████████| 7/7 [00:00<00:00, 16.92it/s, avg_epoch_loss=0, epoch=485]\n",
      "100%|██████████| 7/7 [00:00<00:00, 13.23it/s, avg_epoch_loss=0, epoch=486]\n",
      "100%|██████████| 7/7 [00:00<00:00, 16.14it/s, avg_epoch_loss=0, epoch=487]\n",
      "100%|██████████| 7/7 [00:00<00:00, 16.19it/s, avg_epoch_loss=0, epoch=488]\n",
      "100%|██████████| 7/7 [00:00<00:00, 16.25it/s, avg_epoch_loss=0, epoch=489]\n",
      "100%|██████████| 7/7 [00:00<00:00, 16.37it/s, avg_epoch_loss=0, epoch=490]\n",
      "100%|██████████| 7/7 [00:00<00:00, 16.20it/s, avg_epoch_loss=0, epoch=491]\n",
      "100%|██████████| 7/7 [00:00<00:00, 14.60it/s, avg_epoch_loss=0, epoch=492]\n",
      "100%|██████████| 7/7 [00:00<00:00, 15.33it/s, avg_epoch_loss=0, epoch=493]\n",
      "100%|██████████| 7/7 [00:00<00:00, 17.07it/s, avg_epoch_loss=0, epoch=494]\n",
      "100%|██████████| 7/7 [00:00<00:00, 15.84it/s, avg_epoch_loss=0, epoch=495]\n",
      "100%|██████████| 7/7 [00:00<00:00, 17.15it/s, avg_epoch_loss=0, epoch=496]\n",
      "100%|██████████| 7/7 [00:00<00:00, 17.05it/s, avg_epoch_loss=0, epoch=497]\n",
      "100%|██████████| 7/7 [00:00<00:00, 16.86it/s, avg_epoch_loss=0, epoch=498]\n",
      "100%|██████████| 7/7 [00:00<00:00, 17.28it/s, avg_epoch_loss=0, epoch=499]\n"
     ]
    },
    {
     "name": "stdout",
     "output_type": "stream",
     "text": [
      "Start validation!!!\n",
      "Epoch: 499\n"
     ]
    },
    {
     "name": "stderr",
     "output_type": "stream",
     "text": [
      "100%|██████████| 2/2 [01:05<00:00, 32.60s/it]\n"
     ]
    },
    {
     "name": "stdout",
     "output_type": "stream",
     "text": [
      "====================================\n",
      "##### End evaluation!!\n",
      "PEHE VAL = 8.54e+03\n",
      "Training complete.\n",
      "Evaluating the model...\n"
     ]
    },
    {
     "name": "stderr",
     "output_type": "stream",
     "text": [
      "100%|██████████| 12/12 [14:20<00:00, 71.69s/it]\n",
      "GPU available: True (mps), used: False\n",
      "TPU available: False, using: 0 TPU cores\n",
      "HPU available: False, using: 0 HPUs\n",
      "\n",
      "  | Name           | Type        | Params | Mode \n",
      "-------------------------------------------------------\n",
      "0 | balancer       | Sequential  | 1.6 K  | train\n",
      "1 | prior_encoder0 | Sequential  | 0      | train\n",
      "2 | prior_encoder1 | Sequential  | 0      | train\n",
      "3 | cond_mean0     | Sequential  | 701    | train\n",
      "4 | cond_mean1     | Sequential  | 701    | train\n",
      "5 | cond_std0      | Sequential  | 701    | train\n",
      "6 | cond_std1      | Sequential  | 701    | train\n",
      "7 | flows0         | DSFMarginal | 892    | train\n",
      "8 | flows1         | DSFMarginal | 892    | train\n",
      "-------------------------------------------------------\n",
      "6.2 K     Trainable params\n",
      "0         Non-trainable params\n",
      "6.2 K     Total params\n",
      "0.025     Total estimated model params size (MB)\n",
      "45        Modules in train mode\n",
      "0         Modules in eval mode\n"
     ]
    },
    {
     "name": "stdout",
     "output_type": "stream",
     "text": [
      "Fit and evaluate NOFLITE ...\n"
     ]
    },
    {
     "data": {
      "application/vnd.jupyter.widget-view+json": {
       "model_id": "e01f73bd255c4e5ebb338b99ff588510",
       "version_major": 2,
       "version_minor": 0
      },
      "text/plain": [
       "Training: |          | 0/? [00:00<?, ?it/s]"
      ]
     },
     "metadata": {},
     "output_type": "display_data"
    },
    {
     "name": "stderr",
     "output_type": "stream",
     "text": [
      "`Trainer.fit` stopped: `max_steps=10000` reached.\n"
     ]
    },
    {
     "name": "stdout",
     "output_type": "stream",
     "text": [
      "|====================================================================================================|Fit and evaluate CCT-learner ...\n",
      "Fit and evaluate BART ...\n"
     ]
    },
    {
     "name": "stderr",
     "output_type": "stream",
     "text": [
      "Multiprocess sampling (4 chains in 4 jobs)\n",
      "PGBART: [mu]\n"
     ]
    },
    {
     "data": {
      "application/vnd.jupyter.widget-view+json": {
       "model_id": "51290679582645b0b55117fa7bb90197",
       "version_major": 2,
       "version_minor": 0
      },
      "text/plain": [
       "Output()"
      ]
     },
     "metadata": {},
     "output_type": "display_data"
    },
    {
     "data": {
      "text/html": [
       "<pre style=\"white-space:pre;overflow-x:auto;line-height:normal;font-family:Menlo,'DejaVu Sans Mono',consolas,'Courier New',monospace\"></pre>\n"
      ],
      "text/plain": []
     },
     "metadata": {},
     "output_type": "display_data"
    },
    {
     "name": "stderr",
     "output_type": "stream",
     "text": [
      "Sampling 4 chains for 500 tune and 500 draw iterations (2_000 + 2_000 draws total) took 20 seconds.\n",
      "The rhat statistic is larger than 1.01 for some parameters. This indicates problems during sampling. See https://arxiv.org/abs/1903.08008 for details\n",
      "The effective sample size per chain is smaller than 100 for some parameters.  A higher number is needed for reliable rhat and ess computation. See https://arxiv.org/abs/1903.08008 for details\n",
      "Sampling: [mu, y]\n"
     ]
    },
    {
     "data": {
      "application/vnd.jupyter.widget-view+json": {
       "model_id": "066f0da903954b6dadf9dc51c5a846bd",
       "version_major": 2,
       "version_minor": 0
      },
      "text/plain": [
       "Output()"
      ]
     },
     "metadata": {},
     "output_type": "display_data"
    },
    {
     "name": "stdout",
     "output_type": "stream",
     "text": [
      "X_extended (3000, 11)\n"
     ]
    },
    {
     "data": {
      "text/html": [
       "<pre style=\"white-space:pre;overflow-x:auto;line-height:normal;font-family:Menlo,'DejaVu Sans Mono',consolas,'Courier New',monospace\"></pre>\n"
      ],
      "text/plain": []
     },
     "metadata": {},
     "output_type": "display_data"
    },
    {
     "name": "stderr",
     "output_type": "stream",
     "text": [
      "Sampling: [mu, y]\n"
     ]
    },
    {
     "data": {
      "application/vnd.jupyter.widget-view+json": {
       "model_id": "8ed7ede9d2ef48d08e215ac86578fa94",
       "version_major": 2,
       "version_minor": 0
      },
      "text/plain": [
       "Output()"
      ]
     },
     "metadata": {},
     "output_type": "display_data"
    },
    {
     "data": {
      "text/html": [
       "<pre style=\"white-space:pre;overflow-x:auto;line-height:normal;font-family:Menlo,'DejaVu Sans Mono',consolas,'Courier New',monospace\"></pre>\n"
      ],
      "text/plain": []
     },
     "metadata": {},
     "output_type": "display_data"
    },
    {
     "name": "stderr",
     "output_type": "stream",
     "text": [
      "Sampling: [mu, y]\n"
     ]
    },
    {
     "data": {
      "application/vnd.jupyter.widget-view+json": {
       "model_id": "bc18b20aeba84183a1afaadc2a321e3b",
       "version_major": 2,
       "version_minor": 0
      },
      "text/plain": [
       "Output()"
      ]
     },
     "metadata": {},
     "output_type": "display_data"
    },
    {
     "name": "stdout",
     "output_type": "stream",
     "text": [
      "X_extended (3000, 11)\n"
     ]
    },
    {
     "data": {
      "text/html": [
       "<pre style=\"white-space:pre;overflow-x:auto;line-height:normal;font-family:Menlo,'DejaVu Sans Mono',consolas,'Courier New',monospace\"></pre>\n"
      ],
      "text/plain": []
     },
     "metadata": {},
     "output_type": "display_data"
    },
    {
     "name": "stderr",
     "output_type": "stream",
     "text": [
      "Sampling: [mu, y]\n"
     ]
    },
    {
     "data": {
      "application/vnd.jupyter.widget-view+json": {
       "model_id": "e888ddd3d50b409190fe575c2c449cc2",
       "version_major": 2,
       "version_minor": 0
      },
      "text/plain": [
       "Output()"
      ]
     },
     "metadata": {},
     "output_type": "display_data"
    },
    {
     "data": {
      "text/html": [
       "<pre style=\"white-space:pre;overflow-x:auto;line-height:normal;font-family:Menlo,'DejaVu Sans Mono',consolas,'Courier New',monospace\"></pre>\n"
      ],
      "text/plain": []
     },
     "metadata": {},
     "output_type": "display_data"
    },
    {
     "name": "stdout",
     "output_type": "stream",
     "text": [
      "Fit and evaluate CMGP ...\n",
      "Fit and evaluate CEVAE ...\n",
      "Using cpu\n"
     ]
    },
    {
     "name": "stderr",
     "output_type": "stream",
     "text": [
      "100%|██████████| 7000/7000 [00:37<00:00, 185.58it/s]\n"
     ]
    },
    {
     "name": "stdout",
     "output_type": "stream",
     "text": [
      "Fit and evaluate FCCN ...\n"
     ]
    },
    {
     "name": "stderr",
     "output_type": "stream",
     "text": [
      "100%|██████████| 20000/20000 [02:18<00:00, 144.56it/s]\n"
     ]
    },
    {
     "name": "stdout",
     "output_type": "stream",
     "text": [
      "Fit and evaluate GANITE ...\n"
     ]
    },
    {
     "name": "stderr",
     "output_type": "stream",
     "text": [
      "Training Counterfactual GAN: 100%|██████████| 10000/10000 [08:19<00:00, 20.01it/s]\n",
      "Training ITE GAN: 100%|██████████| 10000/10000 [09:31<00:00, 17.48it/s]\n"
     ]
    },
    {
     "name": "stdout",
     "output_type": "stream",
     "text": [
      "Fit and evaluate DKLITE ...\n"
     ]
    },
    {
     "name": "stderr",
     "output_type": "stream",
     "text": [
      "  5%|▌         | 51/1000 [00:02<00:49, 19.35it/s]\n"
     ]
    },
    {
     "name": "stdout",
     "output_type": "stream",
     "text": [
      "Fit and evaluate diffpo ...\n"
     ]
    },
    {
     "name": "stderr",
     "output_type": "stream",
     "text": [
      "100%|██████████| 7/7 [00:00<00:00, 17.48it/s, avg_epoch_loss=0, epoch=0]\n",
      "100%|██████████| 7/7 [00:00<00:00, 16.43it/s, avg_epoch_loss=0, epoch=1]\n",
      "100%|██████████| 7/7 [00:00<00:00, 15.35it/s, avg_epoch_loss=0, epoch=2]\n",
      "100%|██████████| 7/7 [00:00<00:00, 17.05it/s, avg_epoch_loss=0, epoch=3]\n",
      "100%|██████████| 7/7 [00:00<00:00, 16.82it/s, avg_epoch_loss=0, epoch=4]\n",
      "100%|██████████| 7/7 [00:00<00:00, 14.59it/s, avg_epoch_loss=0, epoch=5]\n",
      "100%|██████████| 7/7 [00:00<00:00, 16.11it/s, avg_epoch_loss=0, epoch=6]\n",
      "100%|██████████| 7/7 [00:00<00:00, 15.65it/s, avg_epoch_loss=0, epoch=7]\n",
      "100%|██████████| 7/7 [00:00<00:00, 14.95it/s, avg_epoch_loss=0, epoch=8]\n",
      "100%|██████████| 7/7 [00:00<00:00, 18.19it/s, avg_epoch_loss=0, epoch=9]\n",
      "100%|██████████| 7/7 [00:00<00:00, 17.97it/s, avg_epoch_loss=0, epoch=10]\n",
      "100%|██████████| 7/7 [00:00<00:00, 17.80it/s, avg_epoch_loss=0, epoch=11]\n",
      "100%|██████████| 7/7 [00:00<00:00, 17.71it/s, avg_epoch_loss=0, epoch=12]\n",
      "100%|██████████| 7/7 [00:00<00:00, 18.11it/s, avg_epoch_loss=0, epoch=13]\n",
      "100%|██████████| 7/7 [00:00<00:00, 18.50it/s, avg_epoch_loss=0, epoch=14]\n",
      "100%|██████████| 7/7 [00:00<00:00, 18.70it/s, avg_epoch_loss=0, epoch=15]\n",
      "100%|██████████| 7/7 [00:00<00:00, 18.70it/s, avg_epoch_loss=0, epoch=16]\n",
      "100%|██████████| 7/7 [00:00<00:00, 17.76it/s, avg_epoch_loss=0, epoch=17]\n",
      "100%|██████████| 7/7 [00:00<00:00, 17.95it/s, avg_epoch_loss=0, epoch=18]\n",
      "100%|██████████| 7/7 [00:00<00:00, 17.16it/s, avg_epoch_loss=0, epoch=19]\n",
      "100%|██████████| 7/7 [00:00<00:00, 16.11it/s, avg_epoch_loss=0, epoch=20]\n",
      "100%|██████████| 7/7 [00:00<00:00, 16.10it/s, avg_epoch_loss=0, epoch=21]\n",
      "100%|██████████| 7/7 [00:00<00:00, 15.49it/s, avg_epoch_loss=0, epoch=22]\n",
      "100%|██████████| 7/7 [00:00<00:00, 15.40it/s, avg_epoch_loss=0, epoch=23]\n",
      "100%|██████████| 7/7 [00:00<00:00, 16.57it/s, avg_epoch_loss=0, epoch=24]\n",
      "100%|██████████| 7/7 [00:00<00:00, 17.02it/s, avg_epoch_loss=0, epoch=25]\n",
      "100%|██████████| 7/7 [00:00<00:00, 16.99it/s, avg_epoch_loss=0, epoch=26]\n",
      "100%|██████████| 7/7 [00:00<00:00, 16.44it/s, avg_epoch_loss=0, epoch=27]\n",
      "100%|██████████| 7/7 [00:00<00:00, 15.36it/s, avg_epoch_loss=0, epoch=28]\n",
      "100%|██████████| 7/7 [00:00<00:00, 16.78it/s, avg_epoch_loss=0, epoch=29]\n",
      "100%|██████████| 7/7 [00:00<00:00, 16.83it/s, avg_epoch_loss=0, epoch=30]\n",
      "100%|██████████| 7/7 [00:00<00:00, 15.52it/s, avg_epoch_loss=0, epoch=31]\n",
      "100%|██████████| 7/7 [00:00<00:00, 16.03it/s, avg_epoch_loss=0, epoch=32]\n",
      "100%|██████████| 7/7 [00:00<00:00, 17.41it/s, avg_epoch_loss=0, epoch=33]\n",
      "100%|██████████| 7/7 [00:00<00:00, 17.03it/s, avg_epoch_loss=0, epoch=34]\n",
      "100%|██████████| 7/7 [00:00<00:00, 15.30it/s, avg_epoch_loss=0, epoch=35]\n",
      "100%|██████████| 7/7 [00:00<00:00, 13.29it/s, avg_epoch_loss=0, epoch=36]\n",
      "100%|██████████| 7/7 [00:00<00:00, 14.84it/s, avg_epoch_loss=0, epoch=37]\n",
      "100%|██████████| 7/7 [00:00<00:00, 16.05it/s, avg_epoch_loss=0, epoch=38]\n",
      "100%|██████████| 7/7 [00:00<00:00, 15.88it/s, avg_epoch_loss=0, epoch=39]\n",
      "100%|██████████| 7/7 [00:00<00:00, 15.83it/s, avg_epoch_loss=0, epoch=40]\n",
      "100%|██████████| 7/7 [00:00<00:00, 15.31it/s, avg_epoch_loss=0, epoch=41]\n",
      "100%|██████████| 7/7 [00:00<00:00, 15.43it/s, avg_epoch_loss=0, epoch=42]\n",
      "100%|██████████| 7/7 [00:00<00:00, 15.55it/s, avg_epoch_loss=0, epoch=43]\n",
      "100%|██████████| 7/7 [00:00<00:00, 15.00it/s, avg_epoch_loss=0, epoch=44]\n",
      "100%|██████████| 7/7 [00:00<00:00, 15.33it/s, avg_epoch_loss=0, epoch=45]\n",
      "100%|██████████| 7/7 [00:00<00:00, 14.65it/s, avg_epoch_loss=0, epoch=46]\n",
      "100%|██████████| 7/7 [00:00<00:00, 15.65it/s, avg_epoch_loss=0, epoch=47]\n",
      "100%|██████████| 7/7 [00:00<00:00, 15.12it/s, avg_epoch_loss=0, epoch=48]\n",
      "100%|██████████| 7/7 [00:00<00:00, 15.81it/s, avg_epoch_loss=0, epoch=49]\n"
     ]
    },
    {
     "name": "stdout",
     "output_type": "stream",
     "text": [
      "Start validation!!!\n",
      "Epoch: 49\n"
     ]
    },
    {
     "name": "stderr",
     "output_type": "stream",
     "text": [
      "100%|██████████| 2/2 [00:58<00:00, 29.49s/it]\n"
     ]
    },
    {
     "name": "stdout",
     "output_type": "stream",
     "text": [
      "====================================\n",
      "##### End evaluation!!\n",
      "PEHE VAL = 8.1e+03\n"
     ]
    },
    {
     "name": "stderr",
     "output_type": "stream",
     "text": [
      "100%|██████████| 7/7 [00:00<00:00, 17.86it/s, avg_epoch_loss=0, epoch=50]\n",
      "100%|██████████| 7/7 [00:00<00:00, 17.63it/s, avg_epoch_loss=0, epoch=51]\n",
      "100%|██████████| 7/7 [00:00<00:00, 18.02it/s, avg_epoch_loss=0, epoch=52]\n",
      "100%|██████████| 7/7 [00:00<00:00, 17.90it/s, avg_epoch_loss=0, epoch=53]\n",
      "100%|██████████| 7/7 [00:00<00:00, 17.91it/s, avg_epoch_loss=0, epoch=54]\n",
      "100%|██████████| 7/7 [00:00<00:00, 17.84it/s, avg_epoch_loss=0, epoch=55]\n",
      "100%|██████████| 7/7 [00:00<00:00, 17.59it/s, avg_epoch_loss=0, epoch=56]\n",
      "100%|██████████| 7/7 [00:00<00:00, 18.10it/s, avg_epoch_loss=0, epoch=57]\n",
      "100%|██████████| 7/7 [00:00<00:00, 17.93it/s, avg_epoch_loss=0, epoch=58]\n",
      "100%|██████████| 7/7 [00:00<00:00, 17.94it/s, avg_epoch_loss=0, epoch=59]\n",
      "100%|██████████| 7/7 [00:00<00:00, 18.16it/s, avg_epoch_loss=0, epoch=60]\n",
      "100%|██████████| 7/7 [00:00<00:00, 18.15it/s, avg_epoch_loss=0, epoch=61]\n",
      "100%|██████████| 7/7 [00:00<00:00, 13.98it/s, avg_epoch_loss=0, epoch=62]\n",
      "100%|██████████| 7/7 [00:00<00:00, 18.08it/s, avg_epoch_loss=0, epoch=63]\n",
      "100%|██████████| 7/7 [00:00<00:00, 17.93it/s, avg_epoch_loss=0, epoch=64]\n",
      "100%|██████████| 7/7 [00:00<00:00, 18.06it/s, avg_epoch_loss=0, epoch=65]\n",
      "100%|██████████| 7/7 [00:00<00:00, 18.35it/s, avg_epoch_loss=0, epoch=66]\n",
      "100%|██████████| 7/7 [00:00<00:00, 18.05it/s, avg_epoch_loss=0, epoch=67]\n",
      "100%|██████████| 7/7 [00:00<00:00, 18.52it/s, avg_epoch_loss=0, epoch=68]\n",
      "100%|██████████| 7/7 [00:00<00:00, 18.29it/s, avg_epoch_loss=0, epoch=69]\n",
      "100%|██████████| 7/7 [00:00<00:00, 18.30it/s, avg_epoch_loss=0, epoch=70]\n",
      "100%|██████████| 7/7 [00:00<00:00, 18.07it/s, avg_epoch_loss=0, epoch=71]\n",
      "100%|██████████| 7/7 [00:00<00:00, 18.16it/s, avg_epoch_loss=0, epoch=72]\n",
      "100%|██████████| 7/7 [00:00<00:00, 18.29it/s, avg_epoch_loss=0, epoch=73]\n",
      "100%|██████████| 7/7 [00:00<00:00, 18.31it/s, avg_epoch_loss=0, epoch=74]\n",
      "100%|██████████| 7/7 [00:00<00:00, 18.61it/s, avg_epoch_loss=0, epoch=75]\n",
      "100%|██████████| 7/7 [00:00<00:00, 18.01it/s, avg_epoch_loss=0, epoch=76]\n",
      "100%|██████████| 7/7 [00:00<00:00, 18.02it/s, avg_epoch_loss=0, epoch=77]\n",
      "100%|██████████| 7/7 [00:00<00:00, 18.38it/s, avg_epoch_loss=0, epoch=78]\n",
      "100%|██████████| 7/7 [00:00<00:00, 18.18it/s, avg_epoch_loss=0, epoch=79]\n",
      "100%|██████████| 7/7 [00:00<00:00, 18.26it/s, avg_epoch_loss=0, epoch=80]\n",
      "100%|██████████| 7/7 [00:00<00:00, 17.67it/s, avg_epoch_loss=0, epoch=81]\n",
      "100%|██████████| 7/7 [00:00<00:00, 18.16it/s, avg_epoch_loss=0, epoch=82]\n",
      "100%|██████████| 7/7 [00:00<00:00, 17.75it/s, avg_epoch_loss=0, epoch=83]\n",
      "100%|██████████| 7/7 [00:00<00:00, 18.40it/s, avg_epoch_loss=0, epoch=84]\n",
      "100%|██████████| 7/7 [00:00<00:00, 18.23it/s, avg_epoch_loss=0, epoch=85]\n",
      "100%|██████████| 7/7 [00:00<00:00, 18.22it/s, avg_epoch_loss=0, epoch=86]\n",
      "100%|██████████| 7/7 [00:00<00:00, 18.07it/s, avg_epoch_loss=0, epoch=87]\n",
      "100%|██████████| 7/7 [00:00<00:00, 17.67it/s, avg_epoch_loss=0, epoch=88]\n",
      "100%|██████████| 7/7 [00:00<00:00, 17.88it/s, avg_epoch_loss=0, epoch=89]\n",
      "100%|██████████| 7/7 [00:00<00:00, 18.20it/s, avg_epoch_loss=0, epoch=90]\n",
      "100%|██████████| 7/7 [00:00<00:00, 18.18it/s, avg_epoch_loss=0, epoch=91]\n",
      "100%|██████████| 7/7 [00:00<00:00, 17.65it/s, avg_epoch_loss=0, epoch=92]\n",
      "100%|██████████| 7/7 [00:00<00:00, 17.41it/s, avg_epoch_loss=0, epoch=93]\n",
      "100%|██████████| 7/7 [00:00<00:00, 17.53it/s, avg_epoch_loss=0, epoch=94]\n",
      "100%|██████████| 7/7 [00:00<00:00, 17.97it/s, avg_epoch_loss=0, epoch=95]\n",
      "100%|██████████| 7/7 [00:00<00:00, 17.72it/s, avg_epoch_loss=0, epoch=96]\n",
      "100%|██████████| 7/7 [00:00<00:00, 18.34it/s, avg_epoch_loss=0, epoch=97]\n",
      "100%|██████████| 7/7 [00:00<00:00, 17.95it/s, avg_epoch_loss=0, epoch=98]\n",
      "100%|██████████| 7/7 [00:00<00:00, 16.10it/s, avg_epoch_loss=0, epoch=99]\n"
     ]
    },
    {
     "name": "stdout",
     "output_type": "stream",
     "text": [
      "Start validation!!!\n",
      "Epoch: 99\n"
     ]
    },
    {
     "name": "stderr",
     "output_type": "stream",
     "text": [
      "100%|██████████| 2/2 [00:53<00:00, 26.99s/it]\n"
     ]
    },
    {
     "name": "stdout",
     "output_type": "stream",
     "text": [
      "====================================\n",
      "##### End evaluation!!\n",
      "PEHE VAL = 8.29e+03\n"
     ]
    },
    {
     "name": "stderr",
     "output_type": "stream",
     "text": [
      "100%|██████████| 7/7 [00:00<00:00, 16.26it/s, avg_epoch_loss=0, epoch=100]\n",
      "100%|██████████| 7/7 [00:00<00:00, 18.15it/s, avg_epoch_loss=0, epoch=101]\n",
      "100%|██████████| 7/7 [00:00<00:00, 17.79it/s, avg_epoch_loss=0, epoch=102]\n",
      "100%|██████████| 7/7 [00:00<00:00, 18.38it/s, avg_epoch_loss=0, epoch=103]\n",
      "100%|██████████| 7/7 [00:00<00:00, 18.46it/s, avg_epoch_loss=0, epoch=104]\n",
      "100%|██████████| 7/7 [00:00<00:00, 17.78it/s, avg_epoch_loss=0, epoch=105]\n",
      "100%|██████████| 7/7 [00:00<00:00, 18.43it/s, avg_epoch_loss=0, epoch=106]\n",
      "100%|██████████| 7/7 [00:00<00:00, 17.97it/s, avg_epoch_loss=0, epoch=107]\n",
      "100%|██████████| 7/7 [00:00<00:00, 18.34it/s, avg_epoch_loss=0, epoch=108]\n",
      "100%|██████████| 7/7 [00:00<00:00, 18.24it/s, avg_epoch_loss=0, epoch=109]\n",
      "100%|██████████| 7/7 [00:00<00:00, 18.12it/s, avg_epoch_loss=0, epoch=110]\n",
      "100%|██████████| 7/7 [00:00<00:00, 18.40it/s, avg_epoch_loss=0, epoch=111]\n",
      "100%|██████████| 7/7 [00:00<00:00, 17.61it/s, avg_epoch_loss=0, epoch=112]\n",
      "100%|██████████| 7/7 [00:00<00:00, 18.09it/s, avg_epoch_loss=0, epoch=113]\n",
      "100%|██████████| 7/7 [00:00<00:00, 17.96it/s, avg_epoch_loss=0, epoch=114]\n",
      "100%|██████████| 7/7 [00:00<00:00, 17.80it/s, avg_epoch_loss=0, epoch=115]\n",
      "100%|██████████| 7/7 [00:00<00:00, 18.03it/s, avg_epoch_loss=0, epoch=116]\n",
      "100%|██████████| 7/7 [00:00<00:00, 17.86it/s, avg_epoch_loss=0, epoch=117]\n",
      "100%|██████████| 7/7 [00:00<00:00, 17.66it/s, avg_epoch_loss=0, epoch=118]\n",
      "100%|██████████| 7/7 [00:00<00:00, 18.10it/s, avg_epoch_loss=0, epoch=119]\n",
      "100%|██████████| 7/7 [00:00<00:00, 17.99it/s, avg_epoch_loss=0, epoch=120]\n",
      "100%|██████████| 7/7 [00:00<00:00, 17.08it/s, avg_epoch_loss=0, epoch=121]\n",
      "100%|██████████| 7/7 [00:00<00:00, 17.63it/s, avg_epoch_loss=0, epoch=122]\n",
      "100%|██████████| 7/7 [00:00<00:00, 18.16it/s, avg_epoch_loss=0, epoch=123]\n",
      "100%|██████████| 7/7 [00:00<00:00, 18.00it/s, avg_epoch_loss=0, epoch=124]\n",
      "100%|██████████| 7/7 [00:00<00:00, 14.06it/s, avg_epoch_loss=0, epoch=125]\n",
      "100%|██████████| 7/7 [00:00<00:00, 16.53it/s, avg_epoch_loss=0, epoch=126]\n",
      "100%|██████████| 7/7 [00:00<00:00, 15.73it/s, avg_epoch_loss=0, epoch=127]\n",
      "100%|██████████| 7/7 [00:00<00:00, 17.92it/s, avg_epoch_loss=0, epoch=128]\n",
      "100%|██████████| 7/7 [00:00<00:00, 12.92it/s, avg_epoch_loss=0, epoch=129]\n",
      "100%|██████████| 7/7 [00:00<00:00, 19.56it/s, avg_epoch_loss=0, epoch=130]\n",
      "100%|██████████| 7/7 [00:00<00:00, 19.85it/s, avg_epoch_loss=0, epoch=131]\n",
      "100%|██████████| 7/7 [00:00<00:00, 19.98it/s, avg_epoch_loss=0, epoch=132]\n",
      "100%|██████████| 7/7 [00:00<00:00, 19.34it/s, avg_epoch_loss=0, epoch=133]\n",
      "100%|██████████| 7/7 [00:00<00:00, 19.78it/s, avg_epoch_loss=0, epoch=134]\n",
      "100%|██████████| 7/7 [00:00<00:00, 19.35it/s, avg_epoch_loss=0, epoch=135]\n",
      "100%|██████████| 7/7 [00:00<00:00, 18.43it/s, avg_epoch_loss=0, epoch=136]\n",
      "100%|██████████| 7/7 [00:00<00:00, 18.33it/s, avg_epoch_loss=0, epoch=137]\n",
      "100%|██████████| 7/7 [00:00<00:00, 15.88it/s, avg_epoch_loss=0, epoch=138]\n",
      "100%|██████████| 7/7 [00:00<00:00, 16.88it/s, avg_epoch_loss=0, epoch=139]\n",
      "100%|██████████| 7/7 [00:00<00:00, 12.62it/s, avg_epoch_loss=0, epoch=140]\n",
      "100%|██████████| 7/7 [00:00<00:00, 16.89it/s, avg_epoch_loss=0, epoch=141]\n",
      "100%|██████████| 7/7 [00:00<00:00, 18.45it/s, avg_epoch_loss=0, epoch=142]\n",
      "100%|██████████| 7/7 [00:00<00:00, 17.73it/s, avg_epoch_loss=0, epoch=143]\n",
      "100%|██████████| 7/7 [00:00<00:00, 18.37it/s, avg_epoch_loss=0, epoch=144]\n",
      "100%|██████████| 7/7 [00:00<00:00, 18.50it/s, avg_epoch_loss=0, epoch=145]\n",
      "100%|██████████| 7/7 [00:00<00:00, 16.51it/s, avg_epoch_loss=0, epoch=146]\n",
      "100%|██████████| 7/7 [00:00<00:00, 17.58it/s, avg_epoch_loss=0, epoch=147]\n",
      "100%|██████████| 7/7 [00:00<00:00, 17.69it/s, avg_epoch_loss=0, epoch=148]\n",
      "100%|██████████| 7/7 [00:00<00:00, 18.26it/s, avg_epoch_loss=0, epoch=149]\n"
     ]
    },
    {
     "name": "stdout",
     "output_type": "stream",
     "text": [
      "Start validation!!!\n",
      "Epoch: 149\n"
     ]
    },
    {
     "name": "stderr",
     "output_type": "stream",
     "text": [
      "100%|██████████| 2/2 [00:54<00:00, 27.38s/it]\n"
     ]
    },
    {
     "name": "stdout",
     "output_type": "stream",
     "text": [
      "====================================\n",
      "##### End evaluation!!\n",
      "PEHE VAL = 8.48e+03\n"
     ]
    },
    {
     "name": "stderr",
     "output_type": "stream",
     "text": [
      "100%|██████████| 7/7 [00:00<00:00, 14.88it/s, avg_epoch_loss=0, epoch=150]\n",
      "100%|██████████| 7/7 [00:00<00:00, 18.36it/s, avg_epoch_loss=0, epoch=151]\n",
      "100%|██████████| 7/7 [00:00<00:00, 15.38it/s, avg_epoch_loss=0, epoch=152]\n",
      "100%|██████████| 7/7 [00:00<00:00, 16.75it/s, avg_epoch_loss=0, epoch=153]\n",
      "100%|██████████| 7/7 [00:00<00:00, 17.10it/s, avg_epoch_loss=0, epoch=154]\n",
      "100%|██████████| 7/7 [00:00<00:00, 18.18it/s, avg_epoch_loss=0, epoch=155]\n",
      "100%|██████████| 7/7 [00:00<00:00, 14.55it/s, avg_epoch_loss=0, epoch=156]\n",
      "100%|██████████| 7/7 [00:00<00:00, 13.75it/s, avg_epoch_loss=0, epoch=157]\n",
      "100%|██████████| 7/7 [00:00<00:00, 13.87it/s, avg_epoch_loss=0, epoch=158]\n",
      "100%|██████████| 7/7 [00:00<00:00, 18.02it/s, avg_epoch_loss=0, epoch=159]\n",
      "100%|██████████| 7/7 [00:00<00:00, 18.46it/s, avg_epoch_loss=0, epoch=160]\n",
      "100%|██████████| 7/7 [00:00<00:00, 18.69it/s, avg_epoch_loss=0, epoch=161]\n",
      "100%|██████████| 7/7 [00:00<00:00, 17.88it/s, avg_epoch_loss=0, epoch=162]\n",
      "100%|██████████| 7/7 [00:00<00:00, 18.14it/s, avg_epoch_loss=0, epoch=163]\n",
      "100%|██████████| 7/7 [00:00<00:00, 17.99it/s, avg_epoch_loss=0, epoch=164]\n",
      "100%|██████████| 7/7 [00:00<00:00, 18.18it/s, avg_epoch_loss=0, epoch=165]\n",
      "100%|██████████| 7/7 [00:00<00:00, 16.72it/s, avg_epoch_loss=0, epoch=166]\n",
      "100%|██████████| 7/7 [00:00<00:00, 17.15it/s, avg_epoch_loss=0, epoch=167]\n",
      "100%|██████████| 7/7 [00:00<00:00, 18.04it/s, avg_epoch_loss=0, epoch=168]\n",
      "100%|██████████| 7/7 [00:00<00:00, 17.91it/s, avg_epoch_loss=0, epoch=169]\n",
      "100%|██████████| 7/7 [00:00<00:00, 13.25it/s, avg_epoch_loss=0, epoch=170]\n",
      "100%|██████████| 7/7 [00:00<00:00, 14.53it/s, avg_epoch_loss=0, epoch=171]\n",
      "100%|██████████| 7/7 [00:00<00:00, 18.02it/s, avg_epoch_loss=0, epoch=172]\n",
      "100%|██████████| 7/7 [00:00<00:00, 18.30it/s, avg_epoch_loss=0, epoch=173]\n",
      "100%|██████████| 7/7 [00:00<00:00, 18.04it/s, avg_epoch_loss=0, epoch=174]\n",
      "100%|██████████| 7/7 [00:00<00:00, 18.38it/s, avg_epoch_loss=0, epoch=175]\n",
      "100%|██████████| 7/7 [00:00<00:00, 18.46it/s, avg_epoch_loss=0, epoch=176]\n",
      "100%|██████████| 7/7 [00:00<00:00, 18.39it/s, avg_epoch_loss=0, epoch=177]\n",
      "100%|██████████| 7/7 [00:00<00:00, 15.06it/s, avg_epoch_loss=0, epoch=178]\n",
      "100%|██████████| 7/7 [00:00<00:00, 14.36it/s, avg_epoch_loss=0, epoch=179]\n",
      "100%|██████████| 7/7 [00:00<00:00, 19.56it/s, avg_epoch_loss=0, epoch=180]\n",
      "100%|██████████| 7/7 [00:00<00:00, 19.69it/s, avg_epoch_loss=0, epoch=181]\n",
      "100%|██████████| 7/7 [00:00<00:00, 14.33it/s, avg_epoch_loss=0, epoch=182]\n",
      "100%|██████████| 7/7 [00:00<00:00, 18.21it/s, avg_epoch_loss=0, epoch=183]\n",
      "100%|██████████| 7/7 [00:00<00:00, 18.01it/s, avg_epoch_loss=0, epoch=184]\n",
      "100%|██████████| 7/7 [00:00<00:00, 18.02it/s, avg_epoch_loss=0, epoch=185]\n",
      "100%|██████████| 7/7 [00:00<00:00, 18.19it/s, avg_epoch_loss=0, epoch=186]\n",
      "100%|██████████| 7/7 [00:00<00:00, 18.12it/s, avg_epoch_loss=0, epoch=187]\n",
      "100%|██████████| 7/7 [00:00<00:00, 13.27it/s, avg_epoch_loss=0, epoch=188]\n",
      "100%|██████████| 7/7 [00:00<00:00, 16.86it/s, avg_epoch_loss=0, epoch=189]\n",
      "100%|██████████| 7/7 [00:00<00:00, 18.28it/s, avg_epoch_loss=0, epoch=190]\n",
      "100%|██████████| 7/7 [00:00<00:00, 18.14it/s, avg_epoch_loss=0, epoch=191]\n",
      "100%|██████████| 7/7 [00:00<00:00, 18.07it/s, avg_epoch_loss=0, epoch=192]\n",
      "100%|██████████| 7/7 [00:00<00:00, 18.20it/s, avg_epoch_loss=0, epoch=193]\n",
      "100%|██████████| 7/7 [00:00<00:00, 17.95it/s, avg_epoch_loss=0, epoch=194]\n",
      "100%|██████████| 7/7 [00:00<00:00, 17.89it/s, avg_epoch_loss=0, epoch=195]\n",
      "100%|██████████| 7/7 [00:00<00:00, 17.67it/s, avg_epoch_loss=0, epoch=196]\n",
      "100%|██████████| 7/7 [00:00<00:00, 17.12it/s, avg_epoch_loss=0, epoch=197]\n",
      "100%|██████████| 7/7 [00:00<00:00, 18.26it/s, avg_epoch_loss=0, epoch=198]\n",
      "100%|██████████| 7/7 [00:00<00:00, 18.37it/s, avg_epoch_loss=0, epoch=199]\n"
     ]
    },
    {
     "name": "stdout",
     "output_type": "stream",
     "text": [
      "Start validation!!!\n",
      "Epoch: 199\n"
     ]
    },
    {
     "name": "stderr",
     "output_type": "stream",
     "text": [
      "100%|██████████| 2/2 [00:54<00:00, 27.27s/it]\n"
     ]
    },
    {
     "name": "stdout",
     "output_type": "stream",
     "text": [
      "====================================\n",
      "##### End evaluation!!\n",
      "PEHE VAL = 8.64e+03\n"
     ]
    },
    {
     "name": "stderr",
     "output_type": "stream",
     "text": [
      "100%|██████████| 7/7 [00:00<00:00, 18.15it/s, avg_epoch_loss=0, epoch=200]\n",
      "100%|██████████| 7/7 [00:00<00:00, 18.21it/s, avg_epoch_loss=0, epoch=201]\n",
      "100%|██████████| 7/7 [00:00<00:00, 18.00it/s, avg_epoch_loss=0, epoch=202]\n",
      "100%|██████████| 7/7 [00:00<00:00, 18.30it/s, avg_epoch_loss=0, epoch=203]\n",
      "100%|██████████| 7/7 [00:00<00:00, 18.07it/s, avg_epoch_loss=0, epoch=204]\n",
      "100%|██████████| 7/7 [00:00<00:00, 18.10it/s, avg_epoch_loss=0, epoch=205]\n",
      "100%|██████████| 7/7 [00:00<00:00, 18.51it/s, avg_epoch_loss=0, epoch=206]\n",
      "100%|██████████| 7/7 [00:00<00:00, 15.13it/s, avg_epoch_loss=0, epoch=207]\n",
      "100%|██████████| 7/7 [00:00<00:00, 13.06it/s, avg_epoch_loss=0, epoch=208]\n",
      "100%|██████████| 7/7 [00:00<00:00, 17.51it/s, avg_epoch_loss=0, epoch=209]\n",
      "100%|██████████| 7/7 [00:00<00:00, 16.48it/s, avg_epoch_loss=0, epoch=210]\n",
      "100%|██████████| 7/7 [00:00<00:00, 17.85it/s, avg_epoch_loss=0, epoch=211]\n",
      "100%|██████████| 7/7 [00:00<00:00, 13.61it/s, avg_epoch_loss=0, epoch=212]\n",
      "100%|██████████| 7/7 [00:00<00:00, 18.11it/s, avg_epoch_loss=0, epoch=213]\n",
      "100%|██████████| 7/7 [00:00<00:00, 18.52it/s, avg_epoch_loss=0, epoch=214]\n",
      "100%|██████████| 7/7 [00:00<00:00, 18.51it/s, avg_epoch_loss=0, epoch=215]\n",
      "100%|██████████| 7/7 [00:00<00:00, 18.36it/s, avg_epoch_loss=0, epoch=216]\n",
      "100%|██████████| 7/7 [00:00<00:00, 18.24it/s, avg_epoch_loss=0, epoch=217]\n",
      "100%|██████████| 7/7 [00:00<00:00, 17.64it/s, avg_epoch_loss=0, epoch=218]\n",
      "100%|██████████| 7/7 [00:00<00:00, 18.23it/s, avg_epoch_loss=0, epoch=219]\n",
      "100%|██████████| 7/7 [00:00<00:00, 16.08it/s, avg_epoch_loss=0, epoch=220]\n",
      "100%|██████████| 7/7 [00:00<00:00, 14.74it/s, avg_epoch_loss=0, epoch=221]\n",
      "100%|██████████| 7/7 [00:00<00:00, 15.47it/s, avg_epoch_loss=0, epoch=222]\n",
      "100%|██████████| 7/7 [00:00<00:00, 18.03it/s, avg_epoch_loss=0, epoch=223]\n",
      "100%|██████████| 7/7 [00:00<00:00, 18.38it/s, avg_epoch_loss=0, epoch=224]\n",
      "100%|██████████| 7/7 [00:00<00:00, 18.32it/s, avg_epoch_loss=0, epoch=225]\n",
      "100%|██████████| 7/7 [00:00<00:00, 18.38it/s, avg_epoch_loss=0, epoch=226]\n",
      "100%|██████████| 7/7 [00:00<00:00, 18.19it/s, avg_epoch_loss=0, epoch=227]\n",
      "100%|██████████| 7/7 [00:00<00:00, 18.33it/s, avg_epoch_loss=0, epoch=228]\n",
      "100%|██████████| 7/7 [00:00<00:00, 18.45it/s, avg_epoch_loss=0, epoch=229]\n",
      "100%|██████████| 7/7 [00:00<00:00, 18.19it/s, avg_epoch_loss=0, epoch=230]\n",
      "100%|██████████| 7/7 [00:00<00:00, 18.41it/s, avg_epoch_loss=0, epoch=231]\n",
      "100%|██████████| 7/7 [00:00<00:00, 18.19it/s, avg_epoch_loss=0, epoch=232]\n",
      "100%|██████████| 7/7 [00:00<00:00, 18.44it/s, avg_epoch_loss=0, epoch=233]\n",
      "100%|██████████| 7/7 [00:00<00:00, 18.55it/s, avg_epoch_loss=0, epoch=234]\n",
      "100%|██████████| 7/7 [00:00<00:00, 16.65it/s, avg_epoch_loss=0, epoch=235]\n",
      "100%|██████████| 7/7 [00:00<00:00, 17.70it/s, avg_epoch_loss=0, epoch=236]\n",
      "100%|██████████| 7/7 [00:00<00:00, 16.57it/s, avg_epoch_loss=0, epoch=237]\n",
      "100%|██████████| 7/7 [00:00<00:00, 14.74it/s, avg_epoch_loss=0, epoch=238]\n",
      "100%|██████████| 7/7 [00:00<00:00, 16.29it/s, avg_epoch_loss=0, epoch=239]\n",
      "100%|██████████| 7/7 [00:00<00:00, 17.66it/s, avg_epoch_loss=0, epoch=240]\n",
      "100%|██████████| 7/7 [00:00<00:00, 18.15it/s, avg_epoch_loss=0, epoch=241]\n",
      "100%|██████████| 7/7 [00:00<00:00, 18.03it/s, avg_epoch_loss=0, epoch=242]\n",
      "100%|██████████| 7/7 [00:00<00:00, 17.16it/s, avg_epoch_loss=0, epoch=243]\n",
      "100%|██████████| 7/7 [00:00<00:00, 17.68it/s, avg_epoch_loss=0, epoch=244]\n",
      "100%|██████████| 7/7 [00:00<00:00, 18.16it/s, avg_epoch_loss=0, epoch=245]\n",
      "100%|██████████| 7/7 [00:00<00:00, 18.43it/s, avg_epoch_loss=0, epoch=246]\n",
      "100%|██████████| 7/7 [00:00<00:00, 18.30it/s, avg_epoch_loss=0, epoch=247]\n",
      "100%|██████████| 7/7 [00:00<00:00, 17.93it/s, avg_epoch_loss=0, epoch=248]\n",
      "100%|██████████| 7/7 [00:00<00:00, 18.14it/s, avg_epoch_loss=0, epoch=249]\n"
     ]
    },
    {
     "name": "stdout",
     "output_type": "stream",
     "text": [
      "Start validation!!!\n",
      "Epoch: 249\n"
     ]
    },
    {
     "name": "stderr",
     "output_type": "stream",
     "text": [
      "100%|██████████| 2/2 [00:53<00:00, 26.74s/it]\n"
     ]
    },
    {
     "name": "stdout",
     "output_type": "stream",
     "text": [
      "====================================\n",
      "##### End evaluation!!\n",
      "PEHE VAL = 8.31e+03\n"
     ]
    },
    {
     "name": "stderr",
     "output_type": "stream",
     "text": [
      "100%|██████████| 7/7 [00:00<00:00, 18.37it/s, avg_epoch_loss=0, epoch=250]\n",
      "100%|██████████| 7/7 [00:00<00:00, 13.37it/s, avg_epoch_loss=0, epoch=251]\n",
      "100%|██████████| 7/7 [00:00<00:00, 17.37it/s, avg_epoch_loss=0, epoch=252]\n",
      "100%|██████████| 7/7 [00:00<00:00, 18.64it/s, avg_epoch_loss=0, epoch=253]\n",
      "100%|██████████| 7/7 [00:00<00:00, 17.10it/s, avg_epoch_loss=0, epoch=254]\n",
      "100%|██████████| 7/7 [00:00<00:00, 14.51it/s, avg_epoch_loss=0, epoch=255]\n",
      "100%|██████████| 7/7 [00:00<00:00, 18.02it/s, avg_epoch_loss=0, epoch=256]\n",
      "100%|██████████| 7/7 [00:00<00:00, 18.13it/s, avg_epoch_loss=0, epoch=257]\n",
      "100%|██████████| 7/7 [00:00<00:00, 12.00it/s, avg_epoch_loss=0, epoch=258]\n",
      "100%|██████████| 7/7 [00:00<00:00, 18.14it/s, avg_epoch_loss=0, epoch=259]\n",
      "100%|██████████| 7/7 [00:00<00:00, 18.40it/s, avg_epoch_loss=0, epoch=260]\n",
      "100%|██████████| 7/7 [00:00<00:00, 18.57it/s, avg_epoch_loss=0, epoch=261]\n",
      "100%|██████████| 7/7 [00:00<00:00, 18.35it/s, avg_epoch_loss=0, epoch=262]\n",
      "100%|██████████| 7/7 [00:00<00:00, 18.36it/s, avg_epoch_loss=0, epoch=263]\n",
      "100%|██████████| 7/7 [00:00<00:00, 18.06it/s, avg_epoch_loss=0, epoch=264]\n",
      "100%|██████████| 7/7 [00:00<00:00, 18.22it/s, avg_epoch_loss=0, epoch=265]\n",
      "100%|██████████| 7/7 [00:00<00:00, 18.06it/s, avg_epoch_loss=0, epoch=266]\n",
      "100%|██████████| 7/7 [00:00<00:00, 17.79it/s, avg_epoch_loss=0, epoch=267]\n",
      "100%|██████████| 7/7 [00:00<00:00, 15.37it/s, avg_epoch_loss=0, epoch=268]\n",
      "100%|██████████| 7/7 [00:00<00:00, 18.07it/s, avg_epoch_loss=0, epoch=269]\n",
      "100%|██████████| 7/7 [00:00<00:00, 18.07it/s, avg_epoch_loss=0, epoch=270]\n",
      "100%|██████████| 7/7 [00:00<00:00, 18.19it/s, avg_epoch_loss=0, epoch=271]\n",
      "100%|██████████| 7/7 [00:00<00:00, 18.26it/s, avg_epoch_loss=0, epoch=272]\n",
      "100%|██████████| 7/7 [00:00<00:00, 17.99it/s, avg_epoch_loss=0, epoch=273]\n",
      "100%|██████████| 7/7 [00:00<00:00, 18.07it/s, avg_epoch_loss=0, epoch=274]\n",
      "100%|██████████| 7/7 [00:00<00:00, 18.50it/s, avg_epoch_loss=0, epoch=275]\n",
      "100%|██████████| 7/7 [00:00<00:00, 18.12it/s, avg_epoch_loss=0, epoch=276]\n",
      "100%|██████████| 7/7 [00:00<00:00, 18.34it/s, avg_epoch_loss=0, epoch=277]\n",
      "100%|██████████| 7/7 [00:00<00:00, 18.15it/s, avg_epoch_loss=0, epoch=278]\n",
      "100%|██████████| 7/7 [00:00<00:00, 18.53it/s, avg_epoch_loss=0, epoch=279]\n",
      "100%|██████████| 7/7 [00:00<00:00, 17.85it/s, avg_epoch_loss=0, epoch=280]\n",
      "100%|██████████| 7/7 [00:00<00:00, 18.11it/s, avg_epoch_loss=0, epoch=281]\n",
      "100%|██████████| 7/7 [00:00<00:00, 17.39it/s, avg_epoch_loss=0, epoch=282]\n",
      "100%|██████████| 7/7 [00:00<00:00, 15.57it/s, avg_epoch_loss=0, epoch=283]\n",
      "100%|██████████| 7/7 [00:00<00:00, 18.37it/s, avg_epoch_loss=0, epoch=284]\n",
      "100%|██████████| 7/7 [00:00<00:00, 18.17it/s, avg_epoch_loss=0, epoch=285]\n",
      "100%|██████████| 7/7 [00:00<00:00, 17.95it/s, avg_epoch_loss=0, epoch=286]\n",
      "100%|██████████| 7/7 [00:00<00:00, 15.91it/s, avg_epoch_loss=0, epoch=287]\n",
      "100%|██████████| 7/7 [00:00<00:00, 17.65it/s, avg_epoch_loss=0, epoch=288]\n",
      "100%|██████████| 7/7 [00:00<00:00, 18.19it/s, avg_epoch_loss=0, epoch=289]\n",
      "100%|██████████| 7/7 [00:00<00:00, 18.03it/s, avg_epoch_loss=0, epoch=290]\n",
      "100%|██████████| 7/7 [00:00<00:00, 18.28it/s, avg_epoch_loss=0, epoch=291]\n",
      "100%|██████████| 7/7 [00:00<00:00, 18.21it/s, avg_epoch_loss=0, epoch=292]\n",
      "100%|██████████| 7/7 [00:00<00:00, 17.82it/s, avg_epoch_loss=0, epoch=293]\n",
      "100%|██████████| 7/7 [00:00<00:00, 17.94it/s, avg_epoch_loss=0, epoch=294]\n",
      "100%|██████████| 7/7 [00:00<00:00, 18.00it/s, avg_epoch_loss=0, epoch=295]\n",
      "100%|██████████| 7/7 [00:00<00:00, 18.42it/s, avg_epoch_loss=0, epoch=296]\n",
      "100%|██████████| 7/7 [00:00<00:00, 18.27it/s, avg_epoch_loss=0, epoch=297]\n",
      "100%|██████████| 7/7 [00:00<00:00, 17.89it/s, avg_epoch_loss=0, epoch=298]\n",
      "100%|██████████| 7/7 [00:00<00:00, 18.08it/s, avg_epoch_loss=0, epoch=299]\n"
     ]
    },
    {
     "name": "stdout",
     "output_type": "stream",
     "text": [
      "Start validation!!!\n",
      "Epoch: 299\n"
     ]
    },
    {
     "name": "stderr",
     "output_type": "stream",
     "text": [
      "100%|██████████| 2/2 [00:54<00:00, 27.26s/it]\n"
     ]
    },
    {
     "name": "stdout",
     "output_type": "stream",
     "text": [
      "====================================\n",
      "##### End evaluation!!\n",
      "PEHE VAL = 8.37e+03\n"
     ]
    },
    {
     "name": "stderr",
     "output_type": "stream",
     "text": [
      "100%|██████████| 7/7 [00:00<00:00, 18.18it/s, avg_epoch_loss=0, epoch=300]\n",
      "100%|██████████| 7/7 [00:00<00:00, 15.92it/s, avg_epoch_loss=0, epoch=301]\n",
      "100%|██████████| 7/7 [00:00<00:00, 17.35it/s, avg_epoch_loss=0, epoch=302]\n",
      "100%|██████████| 7/7 [00:00<00:00, 15.28it/s, avg_epoch_loss=0, epoch=303]\n",
      "100%|██████████| 7/7 [00:00<00:00, 15.91it/s, avg_epoch_loss=0, epoch=304]\n",
      "100%|██████████| 7/7 [00:00<00:00, 13.90it/s, avg_epoch_loss=0, epoch=305]\n",
      "100%|██████████| 7/7 [00:00<00:00, 18.46it/s, avg_epoch_loss=0, epoch=306]\n",
      "100%|██████████| 7/7 [00:00<00:00, 18.36it/s, avg_epoch_loss=0, epoch=307]\n",
      "100%|██████████| 7/7 [00:00<00:00, 14.45it/s, avg_epoch_loss=0, epoch=308]\n",
      "100%|██████████| 7/7 [00:00<00:00, 15.76it/s, avg_epoch_loss=0, epoch=309]\n",
      "100%|██████████| 7/7 [00:00<00:00, 16.34it/s, avg_epoch_loss=0, epoch=310]\n",
      "100%|██████████| 7/7 [00:00<00:00, 18.47it/s, avg_epoch_loss=0, epoch=311]\n",
      "100%|██████████| 7/7 [00:00<00:00, 15.14it/s, avg_epoch_loss=0, epoch=312]\n",
      "100%|██████████| 7/7 [00:00<00:00, 15.76it/s, avg_epoch_loss=0, epoch=313]\n",
      "100%|██████████| 7/7 [00:00<00:00, 16.20it/s, avg_epoch_loss=0, epoch=314]\n",
      "100%|██████████| 7/7 [00:00<00:00, 18.00it/s, avg_epoch_loss=0, epoch=315]\n",
      "100%|██████████| 7/7 [00:00<00:00, 18.65it/s, avg_epoch_loss=0, epoch=316]\n",
      "100%|██████████| 7/7 [00:00<00:00, 17.74it/s, avg_epoch_loss=0, epoch=317]\n",
      "100%|██████████| 7/7 [00:00<00:00, 18.14it/s, avg_epoch_loss=0, epoch=318]\n",
      "100%|██████████| 7/7 [00:00<00:00, 18.31it/s, avg_epoch_loss=0, epoch=319]\n",
      "100%|██████████| 7/7 [00:00<00:00, 11.71it/s, avg_epoch_loss=0, epoch=320]\n",
      "100%|██████████| 7/7 [00:00<00:00, 18.34it/s, avg_epoch_loss=0, epoch=321]\n",
      "100%|██████████| 7/7 [00:00<00:00, 18.12it/s, avg_epoch_loss=0, epoch=322]\n",
      "100%|██████████| 7/7 [00:00<00:00, 18.20it/s, avg_epoch_loss=0, epoch=323]\n",
      "100%|██████████| 7/7 [00:00<00:00, 18.26it/s, avg_epoch_loss=0, epoch=324]\n",
      "100%|██████████| 7/7 [00:00<00:00, 17.97it/s, avg_epoch_loss=0, epoch=325]\n",
      "100%|██████████| 7/7 [00:00<00:00, 18.14it/s, avg_epoch_loss=0, epoch=326]\n",
      "100%|██████████| 7/7 [00:00<00:00, 18.03it/s, avg_epoch_loss=0, epoch=327]\n",
      "100%|██████████| 7/7 [00:00<00:00, 17.98it/s, avg_epoch_loss=0, epoch=328]\n",
      "100%|██████████| 7/7 [00:00<00:00, 18.03it/s, avg_epoch_loss=0, epoch=329]\n",
      "100%|██████████| 7/7 [00:00<00:00, 17.78it/s, avg_epoch_loss=0, epoch=330]\n",
      "100%|██████████| 7/7 [00:00<00:00, 18.30it/s, avg_epoch_loss=0, epoch=331]\n",
      "100%|██████████| 7/7 [00:00<00:00, 18.13it/s, avg_epoch_loss=0, epoch=332]\n",
      "100%|██████████| 7/7 [00:00<00:00, 18.32it/s, avg_epoch_loss=0, epoch=333]\n",
      "100%|██████████| 7/7 [00:00<00:00, 18.07it/s, avg_epoch_loss=0, epoch=334]\n",
      "100%|██████████| 7/7 [00:00<00:00, 18.08it/s, avg_epoch_loss=0, epoch=335]\n",
      "100%|██████████| 7/7 [00:00<00:00, 17.07it/s, avg_epoch_loss=0, epoch=336]\n",
      "100%|██████████| 7/7 [00:00<00:00, 17.86it/s, avg_epoch_loss=0, epoch=337]\n",
      "100%|██████████| 7/7 [00:00<00:00, 18.28it/s, avg_epoch_loss=0, epoch=338]\n",
      "100%|██████████| 7/7 [00:00<00:00, 18.17it/s, avg_epoch_loss=0, epoch=339]\n",
      "100%|██████████| 7/7 [00:00<00:00, 18.40it/s, avg_epoch_loss=0, epoch=340]\n",
      "100%|██████████| 7/7 [00:00<00:00, 18.13it/s, avg_epoch_loss=0, epoch=341]\n",
      "100%|██████████| 7/7 [00:00<00:00, 18.46it/s, avg_epoch_loss=0, epoch=342]\n",
      "100%|██████████| 7/7 [00:00<00:00, 18.57it/s, avg_epoch_loss=0, epoch=343]\n",
      "100%|██████████| 7/7 [00:00<00:00, 18.37it/s, avg_epoch_loss=0, epoch=344]\n",
      "100%|██████████| 7/7 [00:00<00:00, 18.45it/s, avg_epoch_loss=0, epoch=345]\n",
      "100%|██████████| 7/7 [00:00<00:00, 18.17it/s, avg_epoch_loss=0, epoch=346]\n",
      "100%|██████████| 7/7 [00:00<00:00, 16.72it/s, avg_epoch_loss=0, epoch=347]\n",
      "100%|██████████| 7/7 [00:00<00:00, 18.22it/s, avg_epoch_loss=0, epoch=348]\n",
      "100%|██████████| 7/7 [00:00<00:00, 18.20it/s, avg_epoch_loss=0, epoch=349]\n"
     ]
    },
    {
     "name": "stdout",
     "output_type": "stream",
     "text": [
      "Start validation!!!\n",
      "Epoch: 349\n"
     ]
    },
    {
     "name": "stderr",
     "output_type": "stream",
     "text": [
      "100%|██████████| 2/2 [00:54<00:00, 27.32s/it]\n"
     ]
    },
    {
     "name": "stdout",
     "output_type": "stream",
     "text": [
      "====================================\n",
      "##### End evaluation!!\n",
      "PEHE VAL = 8.91e+03\n"
     ]
    },
    {
     "name": "stderr",
     "output_type": "stream",
     "text": [
      "100%|██████████| 7/7 [00:00<00:00, 18.58it/s, avg_epoch_loss=0, epoch=350]\n",
      "100%|██████████| 7/7 [00:00<00:00, 18.26it/s, avg_epoch_loss=0, epoch=351]\n",
      "100%|██████████| 7/7 [00:00<00:00, 18.34it/s, avg_epoch_loss=0, epoch=352]\n",
      "100%|██████████| 7/7 [00:00<00:00, 17.83it/s, avg_epoch_loss=0, epoch=353]\n",
      "100%|██████████| 7/7 [00:00<00:00, 18.40it/s, avg_epoch_loss=0, epoch=354]\n",
      "100%|██████████| 7/7 [00:00<00:00, 17.77it/s, avg_epoch_loss=0, epoch=355]\n",
      "100%|██████████| 7/7 [00:00<00:00, 18.25it/s, avg_epoch_loss=0, epoch=356]\n",
      "100%|██████████| 7/7 [00:00<00:00, 18.37it/s, avg_epoch_loss=0, epoch=357]\n",
      "100%|██████████| 7/7 [00:00<00:00, 17.59it/s, avg_epoch_loss=0, epoch=358]\n",
      "100%|██████████| 7/7 [00:00<00:00, 12.80it/s, avg_epoch_loss=0, epoch=359]\n",
      "100%|██████████| 7/7 [00:00<00:00, 15.82it/s, avg_epoch_loss=0, epoch=360]\n",
      "100%|██████████| 7/7 [00:00<00:00, 17.34it/s, avg_epoch_loss=0, epoch=361]\n",
      "100%|██████████| 7/7 [00:00<00:00, 17.90it/s, avg_epoch_loss=0, epoch=362]\n",
      "100%|██████████| 7/7 [00:00<00:00, 18.13it/s, avg_epoch_loss=0, epoch=363]\n",
      "100%|██████████| 7/7 [00:00<00:00, 18.39it/s, avg_epoch_loss=0, epoch=364]\n",
      "100%|██████████| 7/7 [00:00<00:00, 18.05it/s, avg_epoch_loss=0, epoch=365]\n",
      "100%|██████████| 7/7 [00:00<00:00, 18.53it/s, avg_epoch_loss=0, epoch=366]\n",
      "100%|██████████| 7/7 [00:00<00:00, 18.55it/s, avg_epoch_loss=0, epoch=367]\n",
      "100%|██████████| 7/7 [00:00<00:00, 18.05it/s, avg_epoch_loss=0, epoch=368]\n",
      "100%|██████████| 7/7 [00:00<00:00, 18.03it/s, avg_epoch_loss=0, epoch=369]\n",
      "100%|██████████| 7/7 [00:00<00:00, 18.63it/s, avg_epoch_loss=0, epoch=370]\n",
      "100%|██████████| 7/7 [00:00<00:00, 14.96it/s, avg_epoch_loss=0, epoch=371]\n",
      "100%|██████████| 7/7 [00:00<00:00, 14.85it/s, avg_epoch_loss=0, epoch=372]\n",
      "100%|██████████| 7/7 [00:00<00:00, 14.33it/s, avg_epoch_loss=0, epoch=373]\n",
      "100%|██████████| 7/7 [00:00<00:00, 13.45it/s, avg_epoch_loss=0, epoch=374]\n",
      "100%|██████████| 7/7 [00:00<00:00, 18.53it/s, avg_epoch_loss=0, epoch=375]\n",
      "100%|██████████| 7/7 [00:00<00:00, 18.13it/s, avg_epoch_loss=0, epoch=376]\n",
      "100%|██████████| 7/7 [00:00<00:00, 18.33it/s, avg_epoch_loss=0, epoch=377]\n",
      "100%|██████████| 7/7 [00:00<00:00, 17.78it/s, avg_epoch_loss=0, epoch=378]\n",
      "100%|██████████| 7/7 [00:00<00:00, 18.06it/s, avg_epoch_loss=0, epoch=379]\n",
      "100%|██████████| 7/7 [00:00<00:00, 18.36it/s, avg_epoch_loss=0, epoch=380]\n",
      "100%|██████████| 7/7 [00:00<00:00, 17.99it/s, avg_epoch_loss=0, epoch=381]\n",
      "100%|██████████| 7/7 [00:00<00:00, 17.98it/s, avg_epoch_loss=0, epoch=382]\n",
      "100%|██████████| 7/7 [00:00<00:00, 18.18it/s, avg_epoch_loss=0, epoch=383]\n",
      "100%|██████████| 7/7 [00:00<00:00, 17.72it/s, avg_epoch_loss=0, epoch=384]\n",
      "100%|██████████| 7/7 [00:00<00:00, 18.48it/s, avg_epoch_loss=0, epoch=385]\n",
      "100%|██████████| 7/7 [00:00<00:00, 17.89it/s, avg_epoch_loss=0, epoch=386]\n",
      "100%|██████████| 7/7 [00:00<00:00, 13.06it/s, avg_epoch_loss=0, epoch=387]\n",
      "100%|██████████| 7/7 [00:00<00:00, 17.03it/s, avg_epoch_loss=0, epoch=388]\n",
      "100%|██████████| 7/7 [00:00<00:00, 17.38it/s, avg_epoch_loss=0, epoch=389]\n",
      "100%|██████████| 7/7 [00:00<00:00, 18.33it/s, avg_epoch_loss=0, epoch=390]\n",
      "100%|██████████| 7/7 [00:00<00:00, 14.57it/s, avg_epoch_loss=0, epoch=391]\n",
      "100%|██████████| 7/7 [00:00<00:00, 18.27it/s, avg_epoch_loss=0, epoch=392]\n",
      "100%|██████████| 7/7 [00:00<00:00, 18.10it/s, avg_epoch_loss=0, epoch=393]\n",
      "100%|██████████| 7/7 [00:00<00:00, 17.96it/s, avg_epoch_loss=0, epoch=394]\n",
      "100%|██████████| 7/7 [00:00<00:00, 18.09it/s, avg_epoch_loss=0, epoch=395]\n",
      "100%|██████████| 7/7 [00:00<00:00, 17.91it/s, avg_epoch_loss=0, epoch=396]\n",
      "100%|██████████| 7/7 [00:00<00:00, 18.36it/s, avg_epoch_loss=0, epoch=397]\n",
      "100%|██████████| 7/7 [00:00<00:00, 18.22it/s, avg_epoch_loss=0, epoch=398]\n",
      "100%|██████████| 7/7 [00:00<00:00, 16.35it/s, avg_epoch_loss=0, epoch=399]\n"
     ]
    },
    {
     "name": "stdout",
     "output_type": "stream",
     "text": [
      "Start validation!!!\n",
      "Epoch: 399\n"
     ]
    },
    {
     "name": "stderr",
     "output_type": "stream",
     "text": [
      "100%|██████████| 2/2 [00:54<00:00, 27.37s/it]\n"
     ]
    },
    {
     "name": "stdout",
     "output_type": "stream",
     "text": [
      "====================================\n",
      "##### End evaluation!!\n",
      "PEHE VAL = 8.9e+03\n"
     ]
    },
    {
     "name": "stderr",
     "output_type": "stream",
     "text": [
      "100%|██████████| 7/7 [00:00<00:00, 14.06it/s, avg_epoch_loss=0, epoch=400]\n",
      "100%|██████████| 7/7 [00:00<00:00, 18.18it/s, avg_epoch_loss=0, epoch=401]\n",
      "100%|██████████| 7/7 [00:00<00:00, 18.34it/s, avg_epoch_loss=0, epoch=402]\n",
      "100%|██████████| 7/7 [00:00<00:00, 18.23it/s, avg_epoch_loss=0, epoch=403]\n",
      "100%|██████████| 7/7 [00:00<00:00, 18.21it/s, avg_epoch_loss=0, epoch=404]\n",
      "100%|██████████| 7/7 [00:00<00:00, 15.73it/s, avg_epoch_loss=0, epoch=405]\n",
      "100%|██████████| 7/7 [00:00<00:00, 18.15it/s, avg_epoch_loss=0, epoch=406]\n",
      "100%|██████████| 7/7 [00:00<00:00, 18.28it/s, avg_epoch_loss=0, epoch=407]\n",
      "100%|██████████| 7/7 [00:00<00:00, 18.09it/s, avg_epoch_loss=0, epoch=408]\n",
      "100%|██████████| 7/7 [00:00<00:00, 18.17it/s, avg_epoch_loss=0, epoch=409]\n",
      "100%|██████████| 7/7 [00:00<00:00, 18.28it/s, avg_epoch_loss=0, epoch=410]\n",
      "100%|██████████| 7/7 [00:00<00:00, 18.00it/s, avg_epoch_loss=0, epoch=411]\n",
      "100%|██████████| 7/7 [00:00<00:00, 18.72it/s, avg_epoch_loss=0, epoch=412]\n",
      "100%|██████████| 7/7 [00:00<00:00, 19.47it/s, avg_epoch_loss=0, epoch=413]\n",
      "100%|██████████| 7/7 [00:00<00:00, 18.89it/s, avg_epoch_loss=0, epoch=414]\n",
      "100%|██████████| 7/7 [00:00<00:00, 19.26it/s, avg_epoch_loss=0, epoch=415]\n",
      "100%|██████████| 7/7 [00:00<00:00, 18.81it/s, avg_epoch_loss=0, epoch=416]\n",
      "100%|██████████| 7/7 [00:00<00:00, 19.45it/s, avg_epoch_loss=0, epoch=417]\n",
      "100%|██████████| 7/7 [00:00<00:00, 19.33it/s, avg_epoch_loss=0, epoch=418]\n",
      "100%|██████████| 7/7 [00:00<00:00, 19.25it/s, avg_epoch_loss=0, epoch=419]\n",
      "100%|██████████| 7/7 [00:00<00:00, 19.31it/s, avg_epoch_loss=0, epoch=420]\n",
      "100%|██████████| 7/7 [00:00<00:00, 19.59it/s, avg_epoch_loss=0, epoch=421]\n",
      "100%|██████████| 7/7 [00:00<00:00, 15.07it/s, avg_epoch_loss=0, epoch=422]\n",
      "100%|██████████| 7/7 [00:00<00:00, 19.40it/s, avg_epoch_loss=0, epoch=423]\n",
      "100%|██████████| 7/7 [00:00<00:00, 19.40it/s, avg_epoch_loss=0, epoch=424]\n",
      "100%|██████████| 7/7 [00:00<00:00, 19.34it/s, avg_epoch_loss=0, epoch=425]\n",
      "100%|██████████| 7/7 [00:00<00:00, 18.60it/s, avg_epoch_loss=0, epoch=426]\n",
      "100%|██████████| 7/7 [00:00<00:00, 17.77it/s, avg_epoch_loss=0, epoch=427]\n",
      "100%|██████████| 7/7 [00:00<00:00, 17.97it/s, avg_epoch_loss=0, epoch=428]\n",
      "100%|██████████| 7/7 [00:00<00:00, 17.93it/s, avg_epoch_loss=0, epoch=429]\n",
      "100%|██████████| 7/7 [00:00<00:00, 17.93it/s, avg_epoch_loss=0, epoch=430]\n",
      "100%|██████████| 7/7 [00:00<00:00, 18.16it/s, avg_epoch_loss=0, epoch=431]\n",
      "100%|██████████| 7/7 [00:00<00:00, 17.96it/s, avg_epoch_loss=0, epoch=432]\n",
      "100%|██████████| 7/7 [00:00<00:00, 18.13it/s, avg_epoch_loss=0, epoch=433]\n",
      "100%|██████████| 7/7 [00:00<00:00, 18.01it/s, avg_epoch_loss=0, epoch=434]\n",
      "100%|██████████| 7/7 [00:00<00:00, 17.89it/s, avg_epoch_loss=0, epoch=435]\n",
      "100%|██████████| 7/7 [00:00<00:00, 17.20it/s, avg_epoch_loss=0, epoch=436]\n",
      "100%|██████████| 7/7 [00:00<00:00, 17.79it/s, avg_epoch_loss=0, epoch=437]\n",
      "100%|██████████| 7/7 [00:00<00:00, 17.69it/s, avg_epoch_loss=0, epoch=438]\n",
      "100%|██████████| 7/7 [00:00<00:00, 18.18it/s, avg_epoch_loss=0, epoch=439]\n",
      "100%|██████████| 7/7 [00:00<00:00, 18.44it/s, avg_epoch_loss=0, epoch=440]\n",
      "100%|██████████| 7/7 [00:00<00:00, 18.44it/s, avg_epoch_loss=0, epoch=441]\n",
      "100%|██████████| 7/7 [00:00<00:00, 18.44it/s, avg_epoch_loss=0, epoch=442]\n",
      "100%|██████████| 7/7 [00:00<00:00, 17.56it/s, avg_epoch_loss=0, epoch=443]\n",
      "100%|██████████| 7/7 [00:00<00:00, 17.57it/s, avg_epoch_loss=0, epoch=444]\n",
      "100%|██████████| 7/7 [00:00<00:00, 18.22it/s, avg_epoch_loss=0, epoch=445]\n",
      "100%|██████████| 7/7 [00:00<00:00, 18.21it/s, avg_epoch_loss=0, epoch=446]\n",
      "100%|██████████| 7/7 [00:00<00:00, 18.19it/s, avg_epoch_loss=0, epoch=447]\n",
      "100%|██████████| 7/7 [00:00<00:00, 17.96it/s, avg_epoch_loss=0, epoch=448]\n",
      "100%|██████████| 7/7 [00:00<00:00, 13.03it/s, avg_epoch_loss=0, epoch=449]\n"
     ]
    },
    {
     "name": "stdout",
     "output_type": "stream",
     "text": [
      "Start validation!!!\n",
      "Epoch: 449\n"
     ]
    },
    {
     "name": "stderr",
     "output_type": "stream",
     "text": [
      "100%|██████████| 2/2 [00:53<00:00, 26.66s/it]\n"
     ]
    },
    {
     "name": "stdout",
     "output_type": "stream",
     "text": [
      "====================================\n",
      "##### End evaluation!!\n",
      "PEHE VAL = 8.03e+03\n"
     ]
    },
    {
     "name": "stderr",
     "output_type": "stream",
     "text": [
      "100%|██████████| 7/7 [00:00<00:00, 18.17it/s, avg_epoch_loss=0, epoch=450]\n",
      "100%|██████████| 7/7 [00:00<00:00, 14.24it/s, avg_epoch_loss=0, epoch=451]\n",
      "100%|██████████| 7/7 [00:00<00:00, 18.28it/s, avg_epoch_loss=0, epoch=452]\n",
      "100%|██████████| 7/7 [00:00<00:00, 18.07it/s, avg_epoch_loss=0, epoch=453]\n",
      "100%|██████████| 7/7 [00:00<00:00, 18.67it/s, avg_epoch_loss=0, epoch=454]\n",
      "100%|██████████| 7/7 [00:00<00:00, 17.54it/s, avg_epoch_loss=0, epoch=455]\n",
      "100%|██████████| 7/7 [00:00<00:00, 18.20it/s, avg_epoch_loss=0, epoch=456]\n",
      "100%|██████████| 7/7 [00:00<00:00, 17.01it/s, avg_epoch_loss=0, epoch=457]\n",
      "100%|██████████| 7/7 [00:00<00:00, 17.99it/s, avg_epoch_loss=0, epoch=458]\n",
      "100%|██████████| 7/7 [00:00<00:00, 18.12it/s, avg_epoch_loss=0, epoch=459]\n",
      "100%|██████████| 7/7 [00:00<00:00, 14.29it/s, avg_epoch_loss=0, epoch=460]\n",
      "100%|██████████| 7/7 [00:00<00:00, 16.15it/s, avg_epoch_loss=0, epoch=461]\n",
      "100%|██████████| 7/7 [00:00<00:00, 14.33it/s, avg_epoch_loss=0, epoch=462]\n",
      "100%|██████████| 7/7 [00:00<00:00, 17.55it/s, avg_epoch_loss=0, epoch=463]\n",
      "100%|██████████| 7/7 [00:00<00:00, 18.25it/s, avg_epoch_loss=0, epoch=464]\n",
      "100%|██████████| 7/7 [00:00<00:00, 18.44it/s, avg_epoch_loss=0, epoch=465]\n",
      "100%|██████████| 7/7 [00:00<00:00, 18.50it/s, avg_epoch_loss=0, epoch=466]\n",
      "100%|██████████| 7/7 [00:00<00:00, 18.49it/s, avg_epoch_loss=0, epoch=467]\n",
      "100%|██████████| 7/7 [00:00<00:00, 17.82it/s, avg_epoch_loss=0, epoch=468]\n",
      "100%|██████████| 7/7 [00:00<00:00, 18.36it/s, avg_epoch_loss=0, epoch=469]\n",
      "100%|██████████| 7/7 [00:00<00:00, 17.98it/s, avg_epoch_loss=0, epoch=470]\n",
      "100%|██████████| 7/7 [00:00<00:00, 17.83it/s, avg_epoch_loss=0, epoch=471]\n",
      "100%|██████████| 7/7 [00:00<00:00, 17.72it/s, avg_epoch_loss=0, epoch=472]\n",
      "100%|██████████| 7/7 [00:00<00:00, 18.02it/s, avg_epoch_loss=0, epoch=473]\n",
      "100%|██████████| 7/7 [00:00<00:00, 18.31it/s, avg_epoch_loss=0, epoch=474]\n",
      "100%|██████████| 7/7 [00:00<00:00, 18.37it/s, avg_epoch_loss=0, epoch=475]\n",
      "100%|██████████| 7/7 [00:00<00:00, 18.42it/s, avg_epoch_loss=0, epoch=476]\n",
      "100%|██████████| 7/7 [00:00<00:00, 18.32it/s, avg_epoch_loss=0, epoch=477]\n",
      "100%|██████████| 7/7 [00:00<00:00, 14.42it/s, avg_epoch_loss=0, epoch=478]\n",
      "100%|██████████| 7/7 [00:00<00:00, 16.58it/s, avg_epoch_loss=0, epoch=479]\n",
      "100%|██████████| 7/7 [00:00<00:00, 16.21it/s, avg_epoch_loss=0, epoch=480]\n",
      "100%|██████████| 7/7 [00:00<00:00, 14.78it/s, avg_epoch_loss=0, epoch=481]\n",
      "100%|██████████| 7/7 [00:00<00:00, 18.63it/s, avg_epoch_loss=0, epoch=482]\n",
      "100%|██████████| 7/7 [00:00<00:00, 16.38it/s, avg_epoch_loss=0, epoch=483]\n",
      "100%|██████████| 7/7 [00:00<00:00, 16.68it/s, avg_epoch_loss=0, epoch=484]\n",
      "100%|██████████| 7/7 [00:00<00:00, 18.12it/s, avg_epoch_loss=0, epoch=485]\n",
      "100%|██████████| 7/7 [00:00<00:00, 18.27it/s, avg_epoch_loss=0, epoch=486]\n",
      "100%|██████████| 7/7 [00:00<00:00, 18.25it/s, avg_epoch_loss=0, epoch=487]\n",
      "100%|██████████| 7/7 [00:00<00:00, 18.03it/s, avg_epoch_loss=0, epoch=488]\n",
      "100%|██████████| 7/7 [00:00<00:00, 17.19it/s, avg_epoch_loss=0, epoch=489]\n",
      "100%|██████████| 7/7 [00:00<00:00, 18.19it/s, avg_epoch_loss=0, epoch=490]\n",
      "100%|██████████| 7/7 [00:00<00:00, 18.01it/s, avg_epoch_loss=0, epoch=491]\n",
      "100%|██████████| 7/7 [00:00<00:00, 18.37it/s, avg_epoch_loss=0, epoch=492]\n",
      "100%|██████████| 7/7 [00:00<00:00, 18.04it/s, avg_epoch_loss=0, epoch=493]\n",
      "100%|██████████| 7/7 [00:00<00:00, 16.44it/s, avg_epoch_loss=0, epoch=494]\n",
      "100%|██████████| 7/7 [00:00<00:00, 16.93it/s, avg_epoch_loss=0, epoch=495]\n",
      "100%|██████████| 7/7 [00:00<00:00, 13.88it/s, avg_epoch_loss=0, epoch=496]\n",
      "100%|██████████| 7/7 [00:00<00:00, 17.93it/s, avg_epoch_loss=0, epoch=497]\n",
      "100%|██████████| 7/7 [00:00<00:00, 15.07it/s, avg_epoch_loss=0, epoch=498]\n",
      "100%|██████████| 7/7 [00:00<00:00, 19.01it/s, avg_epoch_loss=0, epoch=499]\n"
     ]
    },
    {
     "name": "stdout",
     "output_type": "stream",
     "text": [
      "Start validation!!!\n",
      "Epoch: 499\n"
     ]
    },
    {
     "name": "stderr",
     "output_type": "stream",
     "text": [
      "100%|██████████| 2/2 [00:54<00:00, 27.21s/it]\n"
     ]
    },
    {
     "name": "stdout",
     "output_type": "stream",
     "text": [
      "====================================\n",
      "##### End evaluation!!\n",
      "PEHE VAL = 8.54e+03\n",
      "Training complete.\n",
      "Evaluating the model...\n"
     ]
    },
    {
     "name": "stderr",
     "output_type": "stream",
     "text": [
      "100%|██████████| 12/12 [12:36<00:00, 63.05s/it]\n",
      "GPU available: True (mps), used: False\n",
      "TPU available: False, using: 0 TPU cores\n",
      "HPU available: False, using: 0 HPUs\n",
      "\n",
      "  | Name           | Type        | Params | Mode \n",
      "-------------------------------------------------------\n",
      "0 | balancer       | Sequential  | 1.6 K  | train\n",
      "1 | prior_encoder0 | Sequential  | 0      | train\n",
      "2 | prior_encoder1 | Sequential  | 0      | train\n",
      "3 | cond_mean0     | Sequential  | 701    | train\n",
      "4 | cond_mean1     | Sequential  | 701    | train\n",
      "5 | cond_std0      | Sequential  | 701    | train\n",
      "6 | cond_std1      | Sequential  | 701    | train\n",
      "7 | flows0         | DSFMarginal | 892    | train\n",
      "8 | flows1         | DSFMarginal | 892    | train\n",
      "-------------------------------------------------------\n",
      "6.2 K     Trainable params\n",
      "0         Non-trainable params\n",
      "6.2 K     Total params\n",
      "0.025     Total estimated model params size (MB)\n",
      "45        Modules in train mode\n",
      "0         Modules in eval mode\n"
     ]
    },
    {
     "name": "stdout",
     "output_type": "stream",
     "text": [
      "Fit and evaluate NOFLITE ...\n"
     ]
    },
    {
     "data": {
      "application/vnd.jupyter.widget-view+json": {
       "model_id": "38708a3dadbb4407bfc7cee08c9fe16d",
       "version_major": 2,
       "version_minor": 0
      },
      "text/plain": [
       "Training: |          | 0/? [00:00<?, ?it/s]"
      ]
     },
     "metadata": {},
     "output_type": "display_data"
    },
    {
     "name": "stderr",
     "output_type": "stream",
     "text": [
      "`Trainer.fit` stopped: `max_steps=10000` reached.\n"
     ]
    },
    {
     "name": "stdout",
     "output_type": "stream",
     "text": [
      "|====================================================================================================|Fit and evaluate CCT-learner ...\n",
      "Fit and evaluate BART ...\n"
     ]
    },
    {
     "name": "stderr",
     "output_type": "stream",
     "text": [
      "Multiprocess sampling (4 chains in 4 jobs)\n",
      "PGBART: [mu]\n"
     ]
    },
    {
     "data": {
      "application/vnd.jupyter.widget-view+json": {
       "model_id": "aedc37ae003a4058bb0a9ec574fc99d2",
       "version_major": 2,
       "version_minor": 0
      },
      "text/plain": [
       "Output()"
      ]
     },
     "metadata": {},
     "output_type": "display_data"
    },
    {
     "data": {
      "text/html": [
       "<pre style=\"white-space:pre;overflow-x:auto;line-height:normal;font-family:Menlo,'DejaVu Sans Mono',consolas,'Courier New',monospace\"></pre>\n"
      ],
      "text/plain": []
     },
     "metadata": {},
     "output_type": "display_data"
    },
    {
     "name": "stderr",
     "output_type": "stream",
     "text": [
      "Sampling 4 chains for 500 tune and 500 draw iterations (2_000 + 2_000 draws total) took 18 seconds.\n",
      "The rhat statistic is larger than 1.01 for some parameters. This indicates problems during sampling. See https://arxiv.org/abs/1903.08008 for details\n",
      "The effective sample size per chain is smaller than 100 for some parameters.  A higher number is needed for reliable rhat and ess computation. See https://arxiv.org/abs/1903.08008 for details\n",
      "Sampling: [mu, y]\n"
     ]
    },
    {
     "data": {
      "application/vnd.jupyter.widget-view+json": {
       "model_id": "eeb4bbed34544d4fa4fde8555fa7d133",
       "version_major": 2,
       "version_minor": 0
      },
      "text/plain": [
       "Output()"
      ]
     },
     "metadata": {},
     "output_type": "display_data"
    },
    {
     "name": "stdout",
     "output_type": "stream",
     "text": [
      "X_extended (3000, 11)\n"
     ]
    },
    {
     "data": {
      "text/html": [
       "<pre style=\"white-space:pre;overflow-x:auto;line-height:normal;font-family:Menlo,'DejaVu Sans Mono',consolas,'Courier New',monospace\"></pre>\n"
      ],
      "text/plain": []
     },
     "metadata": {},
     "output_type": "display_data"
    },
    {
     "name": "stderr",
     "output_type": "stream",
     "text": [
      "Sampling: [mu, y]\n"
     ]
    },
    {
     "data": {
      "application/vnd.jupyter.widget-view+json": {
       "model_id": "bfefad53ff444ab4bfdb525c6d3821f3",
       "version_major": 2,
       "version_minor": 0
      },
      "text/plain": [
       "Output()"
      ]
     },
     "metadata": {},
     "output_type": "display_data"
    },
    {
     "data": {
      "text/html": [
       "<pre style=\"white-space:pre;overflow-x:auto;line-height:normal;font-family:Menlo,'DejaVu Sans Mono',consolas,'Courier New',monospace\"></pre>\n"
      ],
      "text/plain": []
     },
     "metadata": {},
     "output_type": "display_data"
    },
    {
     "name": "stderr",
     "output_type": "stream",
     "text": [
      "Sampling: [mu, y]\n"
     ]
    },
    {
     "data": {
      "application/vnd.jupyter.widget-view+json": {
       "model_id": "ba8e9aca840c470889365b7da27acd15",
       "version_major": 2,
       "version_minor": 0
      },
      "text/plain": [
       "Output()"
      ]
     },
     "metadata": {},
     "output_type": "display_data"
    },
    {
     "name": "stdout",
     "output_type": "stream",
     "text": [
      "X_extended (3000, 11)\n"
     ]
    },
    {
     "data": {
      "text/html": [
       "<pre style=\"white-space:pre;overflow-x:auto;line-height:normal;font-family:Menlo,'DejaVu Sans Mono',consolas,'Courier New',monospace\"></pre>\n"
      ],
      "text/plain": []
     },
     "metadata": {},
     "output_type": "display_data"
    },
    {
     "name": "stderr",
     "output_type": "stream",
     "text": [
      "Sampling: [mu, y]\n"
     ]
    },
    {
     "data": {
      "application/vnd.jupyter.widget-view+json": {
       "model_id": "312727836b18421295a448c4ea4f6a21",
       "version_major": 2,
       "version_minor": 0
      },
      "text/plain": [
       "Output()"
      ]
     },
     "metadata": {},
     "output_type": "display_data"
    },
    {
     "data": {
      "text/html": [
       "<pre style=\"white-space:pre;overflow-x:auto;line-height:normal;font-family:Menlo,'DejaVu Sans Mono',consolas,'Courier New',monospace\"></pre>\n"
      ],
      "text/plain": []
     },
     "metadata": {},
     "output_type": "display_data"
    },
    {
     "name": "stdout",
     "output_type": "stream",
     "text": [
      "Fit and evaluate CMGP ...\n",
      "Fit and evaluate CEVAE ...\n",
      "Using cpu\n"
     ]
    },
    {
     "name": "stderr",
     "output_type": "stream",
     "text": [
      "100%|██████████| 7000/7000 [00:35<00:00, 198.25it/s]\n"
     ]
    },
    {
     "name": "stdout",
     "output_type": "stream",
     "text": [
      "Fit and evaluate FCCN ...\n"
     ]
    },
    {
     "name": "stderr",
     "output_type": "stream",
     "text": [
      "100%|██████████| 20000/20000 [01:59<00:00, 167.68it/s]\n"
     ]
    },
    {
     "name": "stdout",
     "output_type": "stream",
     "text": [
      "Fit and evaluate GANITE ...\n"
     ]
    },
    {
     "name": "stderr",
     "output_type": "stream",
     "text": [
      "Training Counterfactual GAN: 100%|██████████| 10000/10000 [07:57<00:00, 20.95it/s]\n",
      "Training ITE GAN: 100%|██████████| 10000/10000 [08:53<00:00, 18.75it/s]\n"
     ]
    },
    {
     "name": "stdout",
     "output_type": "stream",
     "text": [
      "Fit and evaluate DKLITE ...\n"
     ]
    },
    {
     "name": "stderr",
     "output_type": "stream",
     "text": [
      "  5%|▌         | 51/1000 [00:02<00:48, 19.67it/s]\n"
     ]
    },
    {
     "name": "stdout",
     "output_type": "stream",
     "text": [
      "Fit and evaluate diffpo ...\n"
     ]
    },
    {
     "name": "stderr",
     "output_type": "stream",
     "text": [
      "100%|██████████| 7/7 [00:00<00:00, 18.82it/s, avg_epoch_loss=0, epoch=0]\n",
      "100%|██████████| 7/7 [00:00<00:00, 20.57it/s, avg_epoch_loss=0, epoch=1]\n",
      "100%|██████████| 7/7 [00:00<00:00, 20.32it/s, avg_epoch_loss=0, epoch=2]\n",
      "100%|██████████| 7/7 [00:00<00:00, 20.06it/s, avg_epoch_loss=0, epoch=3]\n",
      "100%|██████████| 7/7 [00:00<00:00, 19.07it/s, avg_epoch_loss=0, epoch=4]\n",
      "100%|██████████| 7/7 [00:00<00:00, 19.56it/s, avg_epoch_loss=0, epoch=5]\n",
      "100%|██████████| 7/7 [00:00<00:00, 19.23it/s, avg_epoch_loss=0, epoch=6]\n",
      "100%|██████████| 7/7 [00:00<00:00, 19.29it/s, avg_epoch_loss=0, epoch=7]\n",
      "100%|██████████| 7/7 [00:00<00:00, 19.03it/s, avg_epoch_loss=0, epoch=8]\n",
      "100%|██████████| 7/7 [00:00<00:00, 19.37it/s, avg_epoch_loss=0, epoch=9]\n",
      "100%|██████████| 7/7 [00:00<00:00, 18.96it/s, avg_epoch_loss=0, epoch=10]\n",
      "100%|██████████| 7/7 [00:00<00:00, 18.79it/s, avg_epoch_loss=0, epoch=11]\n",
      "100%|██████████| 7/7 [00:00<00:00, 16.11it/s, avg_epoch_loss=0, epoch=12]\n",
      "100%|██████████| 7/7 [00:00<00:00, 14.10it/s, avg_epoch_loss=0, epoch=13]\n",
      "100%|██████████| 7/7 [00:00<00:00, 19.85it/s, avg_epoch_loss=0, epoch=14]\n",
      "100%|██████████| 7/7 [00:00<00:00, 18.72it/s, avg_epoch_loss=0, epoch=15]\n",
      "100%|██████████| 7/7 [00:00<00:00, 17.01it/s, avg_epoch_loss=0, epoch=16]\n",
      "100%|██████████| 7/7 [00:00<00:00, 18.86it/s, avg_epoch_loss=0, epoch=17]\n",
      "100%|██████████| 7/7 [00:00<00:00, 18.45it/s, avg_epoch_loss=0, epoch=18]\n",
      "100%|██████████| 7/7 [00:00<00:00, 19.70it/s, avg_epoch_loss=0, epoch=19]\n",
      "100%|██████████| 7/7 [00:00<00:00, 19.59it/s, avg_epoch_loss=0, epoch=20]\n",
      "100%|██████████| 7/7 [00:00<00:00, 19.73it/s, avg_epoch_loss=0, epoch=21]\n",
      "100%|██████████| 7/7 [00:00<00:00, 18.72it/s, avg_epoch_loss=0, epoch=22]\n",
      "100%|██████████| 7/7 [00:00<00:00, 18.51it/s, avg_epoch_loss=0, epoch=23]\n",
      "100%|██████████| 7/7 [00:00<00:00, 19.09it/s, avg_epoch_loss=0, epoch=24]\n",
      "100%|██████████| 7/7 [00:00<00:00, 18.98it/s, avg_epoch_loss=0, epoch=25]\n",
      "100%|██████████| 7/7 [00:00<00:00, 19.13it/s, avg_epoch_loss=0, epoch=26]\n",
      "100%|██████████| 7/7 [00:00<00:00, 19.39it/s, avg_epoch_loss=0, epoch=27]\n",
      "100%|██████████| 7/7 [00:00<00:00, 19.22it/s, avg_epoch_loss=0, epoch=28]\n",
      "100%|██████████| 7/7 [00:00<00:00, 19.23it/s, avg_epoch_loss=0, epoch=29]\n",
      "100%|██████████| 7/7 [00:00<00:00, 18.98it/s, avg_epoch_loss=0, epoch=30]\n",
      "100%|██████████| 7/7 [00:00<00:00, 19.38it/s, avg_epoch_loss=0, epoch=31]\n",
      "100%|██████████| 7/7 [00:00<00:00, 19.25it/s, avg_epoch_loss=0, epoch=32]\n",
      "100%|██████████| 7/7 [00:00<00:00, 18.71it/s, avg_epoch_loss=0, epoch=33]\n",
      "100%|██████████| 7/7 [00:00<00:00, 17.98it/s, avg_epoch_loss=0, epoch=34]\n",
      "100%|██████████| 7/7 [00:00<00:00, 19.11it/s, avg_epoch_loss=0, epoch=35]\n",
      "100%|██████████| 7/7 [00:00<00:00, 19.26it/s, avg_epoch_loss=0, epoch=36]\n",
      "100%|██████████| 7/7 [00:00<00:00, 19.13it/s, avg_epoch_loss=0, epoch=37]\n",
      "100%|██████████| 7/7 [00:00<00:00, 19.13it/s, avg_epoch_loss=0, epoch=38]\n",
      "100%|██████████| 7/7 [00:00<00:00, 19.02it/s, avg_epoch_loss=0, epoch=39]\n",
      "100%|██████████| 7/7 [00:00<00:00, 19.70it/s, avg_epoch_loss=0, epoch=40]\n",
      "100%|██████████| 7/7 [00:00<00:00, 18.85it/s, avg_epoch_loss=0, epoch=41]\n",
      "100%|██████████| 7/7 [00:00<00:00, 19.37it/s, avg_epoch_loss=0, epoch=42]\n",
      "100%|██████████| 7/7 [00:00<00:00, 19.35it/s, avg_epoch_loss=0, epoch=43]\n",
      "100%|██████████| 7/7 [00:00<00:00, 19.13it/s, avg_epoch_loss=0, epoch=44]\n",
      "100%|██████████| 7/7 [00:00<00:00, 19.50it/s, avg_epoch_loss=0, epoch=45]\n",
      "100%|██████████| 7/7 [00:00<00:00, 15.09it/s, avg_epoch_loss=0, epoch=46]\n",
      "100%|██████████| 7/7 [00:00<00:00, 18.78it/s, avg_epoch_loss=0, epoch=47]\n",
      "100%|██████████| 7/7 [00:00<00:00, 18.86it/s, avg_epoch_loss=0, epoch=48]\n",
      "100%|██████████| 7/7 [00:00<00:00, 16.97it/s, avg_epoch_loss=0, epoch=49]\n"
     ]
    },
    {
     "name": "stdout",
     "output_type": "stream",
     "text": [
      "Start validation!!!\n",
      "Epoch: 49\n"
     ]
    },
    {
     "name": "stderr",
     "output_type": "stream",
     "text": [
      "100%|██████████| 2/2 [00:49<00:00, 24.89s/it]\n"
     ]
    },
    {
     "name": "stdout",
     "output_type": "stream",
     "text": [
      "====================================\n",
      "##### End evaluation!!\n",
      "PEHE VAL = 8.1e+03\n"
     ]
    },
    {
     "name": "stderr",
     "output_type": "stream",
     "text": [
      "100%|██████████| 7/7 [00:00<00:00, 18.64it/s, avg_epoch_loss=0, epoch=50]\n",
      "100%|██████████| 7/7 [00:00<00:00, 18.36it/s, avg_epoch_loss=0, epoch=51]\n",
      "100%|██████████| 7/7 [00:00<00:00, 18.62it/s, avg_epoch_loss=0, epoch=52]\n",
      "100%|██████████| 7/7 [00:00<00:00, 18.85it/s, avg_epoch_loss=0, epoch=53]\n",
      "100%|██████████| 7/7 [00:00<00:00, 19.32it/s, avg_epoch_loss=0, epoch=54]\n",
      "100%|██████████| 7/7 [00:00<00:00, 19.32it/s, avg_epoch_loss=0, epoch=55]\n",
      "100%|██████████| 7/7 [00:00<00:00, 18.65it/s, avg_epoch_loss=0, epoch=56]\n",
      "100%|██████████| 7/7 [00:00<00:00, 13.95it/s, avg_epoch_loss=0, epoch=57]\n",
      "100%|██████████| 7/7 [00:00<00:00, 17.93it/s, avg_epoch_loss=0, epoch=58]\n",
      "100%|██████████| 7/7 [00:00<00:00, 18.37it/s, avg_epoch_loss=0, epoch=59]\n",
      "100%|██████████| 7/7 [00:00<00:00, 19.01it/s, avg_epoch_loss=0, epoch=60]\n",
      "100%|██████████| 7/7 [00:00<00:00, 18.71it/s, avg_epoch_loss=0, epoch=61]\n",
      "100%|██████████| 7/7 [00:00<00:00, 18.94it/s, avg_epoch_loss=0, epoch=62]\n",
      "100%|██████████| 7/7 [00:00<00:00, 19.19it/s, avg_epoch_loss=0, epoch=63]\n",
      "100%|██████████| 7/7 [00:00<00:00, 19.03it/s, avg_epoch_loss=0, epoch=64]\n",
      "100%|██████████| 7/7 [00:00<00:00, 17.18it/s, avg_epoch_loss=0, epoch=65]\n",
      "100%|██████████| 7/7 [00:00<00:00, 18.11it/s, avg_epoch_loss=0, epoch=66]\n",
      "100%|██████████| 7/7 [00:00<00:00, 19.57it/s, avg_epoch_loss=0, epoch=67]\n",
      "100%|██████████| 7/7 [00:00<00:00, 19.27it/s, avg_epoch_loss=0, epoch=68]\n",
      "100%|██████████| 7/7 [00:00<00:00, 19.28it/s, avg_epoch_loss=0, epoch=69]\n",
      "100%|██████████| 7/7 [00:00<00:00, 19.48it/s, avg_epoch_loss=0, epoch=70]\n",
      "100%|██████████| 7/7 [00:00<00:00, 19.55it/s, avg_epoch_loss=0, epoch=71]\n",
      "100%|██████████| 7/7 [00:00<00:00, 15.02it/s, avg_epoch_loss=0, epoch=72]\n",
      "100%|██████████| 7/7 [00:00<00:00, 19.14it/s, avg_epoch_loss=0, epoch=73]\n",
      "100%|██████████| 7/7 [00:00<00:00, 18.57it/s, avg_epoch_loss=0, epoch=74]\n",
      "100%|██████████| 7/7 [00:00<00:00, 18.51it/s, avg_epoch_loss=0, epoch=75]\n",
      "100%|██████████| 7/7 [00:00<00:00, 18.43it/s, avg_epoch_loss=0, epoch=76]\n",
      "100%|██████████| 7/7 [00:00<00:00, 18.36it/s, avg_epoch_loss=0, epoch=77]\n",
      "100%|██████████| 7/7 [00:00<00:00, 18.54it/s, avg_epoch_loss=0, epoch=78]\n",
      "100%|██████████| 7/7 [00:00<00:00, 18.52it/s, avg_epoch_loss=0, epoch=79]\n",
      "100%|██████████| 7/7 [00:00<00:00, 18.15it/s, avg_epoch_loss=0, epoch=80]\n",
      "100%|██████████| 7/7 [00:00<00:00, 18.55it/s, avg_epoch_loss=0, epoch=81]\n",
      "100%|██████████| 7/7 [00:00<00:00, 18.10it/s, avg_epoch_loss=0, epoch=82]\n",
      "100%|██████████| 7/7 [00:00<00:00, 18.48it/s, avg_epoch_loss=0, epoch=83]\n",
      "100%|██████████| 7/7 [00:00<00:00, 18.66it/s, avg_epoch_loss=0, epoch=84]\n",
      "100%|██████████| 7/7 [00:00<00:00, 18.86it/s, avg_epoch_loss=0, epoch=85]\n",
      "100%|██████████| 7/7 [00:00<00:00, 18.18it/s, avg_epoch_loss=0, epoch=86]\n",
      "100%|██████████| 7/7 [00:00<00:00, 15.39it/s, avg_epoch_loss=0, epoch=87]\n",
      "100%|██████████| 7/7 [00:00<00:00, 17.81it/s, avg_epoch_loss=0, epoch=88]\n",
      "100%|██████████| 7/7 [00:00<00:00, 19.31it/s, avg_epoch_loss=0, epoch=89]\n",
      "100%|██████████| 7/7 [00:00<00:00, 19.29it/s, avg_epoch_loss=0, epoch=90]\n",
      "100%|██████████| 7/7 [00:00<00:00, 19.39it/s, avg_epoch_loss=0, epoch=91]\n",
      "100%|██████████| 7/7 [00:00<00:00, 19.88it/s, avg_epoch_loss=0, epoch=92]\n",
      "100%|██████████| 7/7 [00:00<00:00, 15.73it/s, avg_epoch_loss=0, epoch=93]\n",
      "100%|██████████| 7/7 [00:00<00:00, 15.84it/s, avg_epoch_loss=0, epoch=94]\n",
      "100%|██████████| 7/7 [00:00<00:00, 18.26it/s, avg_epoch_loss=0, epoch=95]\n",
      "100%|██████████| 7/7 [00:00<00:00, 19.86it/s, avg_epoch_loss=0, epoch=96]\n",
      "100%|██████████| 7/7 [00:00<00:00, 19.97it/s, avg_epoch_loss=0, epoch=97]\n",
      "100%|██████████| 7/7 [00:00<00:00, 14.81it/s, avg_epoch_loss=0, epoch=98]\n",
      "100%|██████████| 7/7 [00:00<00:00, 18.47it/s, avg_epoch_loss=0, epoch=99]\n"
     ]
    },
    {
     "name": "stdout",
     "output_type": "stream",
     "text": [
      "Start validation!!!\n",
      "Epoch: 99\n"
     ]
    },
    {
     "name": "stderr",
     "output_type": "stream",
     "text": [
      "100%|██████████| 2/2 [00:50<00:00, 25.21s/it]\n"
     ]
    },
    {
     "name": "stdout",
     "output_type": "stream",
     "text": [
      "====================================\n",
      "##### End evaluation!!\n",
      "PEHE VAL = 8.29e+03\n"
     ]
    },
    {
     "name": "stderr",
     "output_type": "stream",
     "text": [
      "100%|██████████| 7/7 [00:00<00:00, 19.43it/s, avg_epoch_loss=0, epoch=100]\n",
      "100%|██████████| 7/7 [00:00<00:00, 19.21it/s, avg_epoch_loss=0, epoch=101]\n",
      "100%|██████████| 7/7 [00:00<00:00, 19.28it/s, avg_epoch_loss=0, epoch=102]\n",
      "100%|██████████| 7/7 [00:00<00:00, 14.92it/s, avg_epoch_loss=0, epoch=103]\n",
      "100%|██████████| 7/7 [00:00<00:00, 17.17it/s, avg_epoch_loss=0, epoch=104]\n",
      "100%|██████████| 7/7 [00:00<00:00, 17.64it/s, avg_epoch_loss=0, epoch=105]\n",
      "100%|██████████| 7/7 [00:00<00:00, 18.68it/s, avg_epoch_loss=0, epoch=106]\n",
      "100%|██████████| 7/7 [00:00<00:00, 18.31it/s, avg_epoch_loss=0, epoch=107]\n",
      "100%|██████████| 7/7 [00:00<00:00, 17.48it/s, avg_epoch_loss=0, epoch=108]\n",
      "100%|██████████| 7/7 [00:00<00:00, 17.88it/s, avg_epoch_loss=0, epoch=109]\n",
      "100%|██████████| 7/7 [00:00<00:00, 18.27it/s, avg_epoch_loss=0, epoch=110]\n",
      "100%|██████████| 7/7 [00:00<00:00, 18.73it/s, avg_epoch_loss=0, epoch=111]\n",
      "100%|██████████| 7/7 [00:00<00:00, 19.34it/s, avg_epoch_loss=0, epoch=112]\n",
      "100%|██████████| 7/7 [00:00<00:00, 19.39it/s, avg_epoch_loss=0, epoch=113]\n",
      "100%|██████████| 7/7 [00:00<00:00, 19.16it/s, avg_epoch_loss=0, epoch=114]\n",
      "100%|██████████| 7/7 [00:00<00:00, 19.29it/s, avg_epoch_loss=0, epoch=115]\n",
      "100%|██████████| 7/7 [00:00<00:00, 19.27it/s, avg_epoch_loss=0, epoch=116]\n",
      "100%|██████████| 7/7 [00:00<00:00, 14.50it/s, avg_epoch_loss=0, epoch=117]\n",
      "100%|██████████| 7/7 [00:00<00:00, 18.00it/s, avg_epoch_loss=0, epoch=118]\n",
      "100%|██████████| 7/7 [00:00<00:00, 17.55it/s, avg_epoch_loss=0, epoch=119]\n",
      "100%|██████████| 7/7 [00:00<00:00, 17.32it/s, avg_epoch_loss=0, epoch=120]\n",
      "100%|██████████| 7/7 [00:00<00:00, 18.23it/s, avg_epoch_loss=0, epoch=121]\n",
      "100%|██████████| 7/7 [00:00<00:00, 18.02it/s, avg_epoch_loss=0, epoch=122]\n",
      "100%|██████████| 7/7 [00:00<00:00, 18.69it/s, avg_epoch_loss=0, epoch=123]\n",
      "100%|██████████| 7/7 [00:00<00:00, 18.75it/s, avg_epoch_loss=0, epoch=124]\n",
      "100%|██████████| 7/7 [00:00<00:00, 18.71it/s, avg_epoch_loss=0, epoch=125]\n",
      "100%|██████████| 7/7 [00:00<00:00, 18.55it/s, avg_epoch_loss=0, epoch=126]\n",
      "100%|██████████| 7/7 [00:00<00:00, 18.22it/s, avg_epoch_loss=0, epoch=127]\n",
      "100%|██████████| 7/7 [00:00<00:00, 18.70it/s, avg_epoch_loss=0, epoch=128]\n",
      "100%|██████████| 7/7 [00:00<00:00, 18.24it/s, avg_epoch_loss=0, epoch=129]\n",
      "100%|██████████| 7/7 [00:00<00:00, 18.71it/s, avg_epoch_loss=0, epoch=130]\n",
      "100%|██████████| 7/7 [00:00<00:00, 18.49it/s, avg_epoch_loss=0, epoch=131]\n",
      "100%|██████████| 7/7 [00:00<00:00, 18.72it/s, avg_epoch_loss=0, epoch=132]\n",
      "100%|██████████| 7/7 [00:00<00:00, 19.18it/s, avg_epoch_loss=0, epoch=133]\n",
      "100%|██████████| 7/7 [00:00<00:00, 19.42it/s, avg_epoch_loss=0, epoch=134]\n",
      "100%|██████████| 7/7 [00:00<00:00, 14.93it/s, avg_epoch_loss=0, epoch=135]\n",
      "100%|██████████| 7/7 [00:00<00:00, 18.77it/s, avg_epoch_loss=0, epoch=136]\n",
      "100%|██████████| 7/7 [00:00<00:00, 18.78it/s, avg_epoch_loss=0, epoch=137]\n",
      "100%|██████████| 7/7 [00:00<00:00, 18.62it/s, avg_epoch_loss=0, epoch=138]\n",
      "100%|██████████| 7/7 [00:00<00:00, 18.83it/s, avg_epoch_loss=0, epoch=139]\n",
      "100%|██████████| 7/7 [00:00<00:00, 19.27it/s, avg_epoch_loss=0, epoch=140]\n",
      "100%|██████████| 7/7 [00:00<00:00, 19.29it/s, avg_epoch_loss=0, epoch=141]\n",
      "100%|██████████| 7/7 [00:00<00:00, 19.05it/s, avg_epoch_loss=0, epoch=142]\n",
      "100%|██████████| 7/7 [00:00<00:00, 18.88it/s, avg_epoch_loss=0, epoch=143]\n",
      "100%|██████████| 7/7 [00:00<00:00, 19.01it/s, avg_epoch_loss=0, epoch=144]\n",
      "100%|██████████| 7/7 [00:00<00:00, 14.86it/s, avg_epoch_loss=0, epoch=145]\n",
      "100%|██████████| 7/7 [00:00<00:00, 15.73it/s, avg_epoch_loss=0, epoch=146]\n",
      "100%|██████████| 7/7 [00:00<00:00, 18.36it/s, avg_epoch_loss=0, epoch=147]\n",
      "100%|██████████| 7/7 [00:00<00:00, 18.40it/s, avg_epoch_loss=0, epoch=148]\n",
      "100%|██████████| 7/7 [00:00<00:00, 18.87it/s, avg_epoch_loss=0, epoch=149]\n"
     ]
    },
    {
     "name": "stdout",
     "output_type": "stream",
     "text": [
      "Start validation!!!\n",
      "Epoch: 149\n"
     ]
    },
    {
     "name": "stderr",
     "output_type": "stream",
     "text": [
      "100%|██████████| 2/2 [00:49<00:00, 24.98s/it]\n"
     ]
    },
    {
     "name": "stdout",
     "output_type": "stream",
     "text": [
      "====================================\n",
      "##### End evaluation!!\n",
      "PEHE VAL = 8.48e+03\n"
     ]
    },
    {
     "name": "stderr",
     "output_type": "stream",
     "text": [
      "100%|██████████| 7/7 [00:00<00:00, 19.43it/s, avg_epoch_loss=0, epoch=150]\n",
      "100%|██████████| 7/7 [00:00<00:00, 19.49it/s, avg_epoch_loss=0, epoch=151]\n",
      "100%|██████████| 7/7 [00:00<00:00, 18.88it/s, avg_epoch_loss=0, epoch=152]\n",
      "100%|██████████| 7/7 [00:00<00:00, 19.25it/s, avg_epoch_loss=0, epoch=153]\n",
      "100%|██████████| 7/7 [00:00<00:00, 19.24it/s, avg_epoch_loss=0, epoch=154]\n",
      "100%|██████████| 7/7 [00:00<00:00, 19.23it/s, avg_epoch_loss=0, epoch=155]\n",
      "100%|██████████| 7/7 [00:00<00:00, 19.04it/s, avg_epoch_loss=0, epoch=156]\n",
      "100%|██████████| 7/7 [00:00<00:00, 19.21it/s, avg_epoch_loss=0, epoch=157]\n",
      "100%|██████████| 7/7 [00:00<00:00, 18.57it/s, avg_epoch_loss=0, epoch=158]\n",
      "100%|██████████| 7/7 [00:00<00:00, 15.63it/s, avg_epoch_loss=0, epoch=159]\n",
      "100%|██████████| 7/7 [00:00<00:00, 17.50it/s, avg_epoch_loss=0, epoch=160]\n",
      "100%|██████████| 7/7 [00:00<00:00, 17.69it/s, avg_epoch_loss=0, epoch=161]\n",
      "100%|██████████| 7/7 [00:00<00:00, 17.80it/s, avg_epoch_loss=0, epoch=162]\n",
      "100%|██████████| 7/7 [00:00<00:00, 18.62it/s, avg_epoch_loss=0, epoch=163]\n",
      "100%|██████████| 7/7 [00:00<00:00, 19.18it/s, avg_epoch_loss=0, epoch=164]\n",
      "100%|██████████| 7/7 [00:00<00:00, 18.58it/s, avg_epoch_loss=0, epoch=165]\n",
      "100%|██████████| 7/7 [00:00<00:00, 19.62it/s, avg_epoch_loss=0, epoch=166]\n",
      "100%|██████████| 7/7 [00:00<00:00, 19.20it/s, avg_epoch_loss=0, epoch=167]\n",
      "100%|██████████| 7/7 [00:00<00:00, 18.20it/s, avg_epoch_loss=0, epoch=168]\n",
      "100%|██████████| 7/7 [00:00<00:00, 17.62it/s, avg_epoch_loss=0, epoch=169]\n",
      "100%|██████████| 7/7 [00:00<00:00, 19.27it/s, avg_epoch_loss=0, epoch=170]\n",
      "100%|██████████| 7/7 [00:00<00:00, 14.63it/s, avg_epoch_loss=0, epoch=171]\n",
      "100%|██████████| 7/7 [00:00<00:00, 18.25it/s, avg_epoch_loss=0, epoch=172]\n",
      "100%|██████████| 7/7 [00:00<00:00, 18.25it/s, avg_epoch_loss=0, epoch=173]\n",
      "100%|██████████| 7/7 [00:00<00:00, 19.14it/s, avg_epoch_loss=0, epoch=174]\n",
      "100%|██████████| 7/7 [00:00<00:00, 19.27it/s, avg_epoch_loss=0, epoch=175]\n",
      "100%|██████████| 7/7 [00:00<00:00, 19.20it/s, avg_epoch_loss=0, epoch=176]\n",
      "100%|██████████| 7/7 [00:00<00:00, 19.17it/s, avg_epoch_loss=0, epoch=177]\n",
      "100%|██████████| 7/7 [00:00<00:00, 19.19it/s, avg_epoch_loss=0, epoch=178]\n",
      "100%|██████████| 7/7 [00:00<00:00, 18.82it/s, avg_epoch_loss=0, epoch=179]\n",
      "100%|██████████| 7/7 [00:00<00:00, 19.35it/s, avg_epoch_loss=0, epoch=180]\n",
      "100%|██████████| 7/7 [00:00<00:00, 19.20it/s, avg_epoch_loss=0, epoch=181]\n",
      "100%|██████████| 7/7 [00:00<00:00, 19.18it/s, avg_epoch_loss=0, epoch=182]\n",
      "100%|██████████| 7/7 [00:00<00:00, 19.07it/s, avg_epoch_loss=0, epoch=183]\n",
      "100%|██████████| 7/7 [00:00<00:00, 19.19it/s, avg_epoch_loss=0, epoch=184]\n",
      "100%|██████████| 7/7 [00:00<00:00, 18.57it/s, avg_epoch_loss=0, epoch=185]\n",
      "100%|██████████| 7/7 [00:00<00:00, 19.23it/s, avg_epoch_loss=0, epoch=186]\n",
      "100%|██████████| 7/7 [00:00<00:00, 19.59it/s, avg_epoch_loss=0, epoch=187]\n",
      "100%|██████████| 7/7 [00:00<00:00, 19.27it/s, avg_epoch_loss=0, epoch=188]\n",
      "100%|██████████| 7/7 [00:00<00:00, 19.32it/s, avg_epoch_loss=0, epoch=189]\n",
      "100%|██████████| 7/7 [00:00<00:00, 18.73it/s, avg_epoch_loss=0, epoch=190]\n",
      "100%|██████████| 7/7 [00:00<00:00, 19.14it/s, avg_epoch_loss=0, epoch=191]\n",
      "100%|██████████| 7/7 [00:00<00:00, 19.40it/s, avg_epoch_loss=0, epoch=192]\n",
      "100%|██████████| 7/7 [00:00<00:00, 19.14it/s, avg_epoch_loss=0, epoch=193]\n",
      "100%|██████████| 7/7 [00:00<00:00, 14.67it/s, avg_epoch_loss=0, epoch=194]\n",
      "100%|██████████| 7/7 [00:00<00:00, 13.77it/s, avg_epoch_loss=0, epoch=195]\n",
      "100%|██████████| 7/7 [00:00<00:00, 16.73it/s, avg_epoch_loss=0, epoch=196]\n",
      "100%|██████████| 7/7 [00:00<00:00, 18.94it/s, avg_epoch_loss=0, epoch=197]\n",
      "100%|██████████| 7/7 [00:00<00:00, 19.21it/s, avg_epoch_loss=0, epoch=198]\n",
      "100%|██████████| 7/7 [00:00<00:00, 19.19it/s, avg_epoch_loss=0, epoch=199]\n"
     ]
    },
    {
     "name": "stdout",
     "output_type": "stream",
     "text": [
      "Start validation!!!\n",
      "Epoch: 199\n"
     ]
    },
    {
     "name": "stderr",
     "output_type": "stream",
     "text": [
      "100%|██████████| 2/2 [00:51<00:00, 25.57s/it]\n"
     ]
    },
    {
     "name": "stdout",
     "output_type": "stream",
     "text": [
      "====================================\n",
      "##### End evaluation!!\n",
      "PEHE VAL = 8.64e+03\n"
     ]
    },
    {
     "name": "stderr",
     "output_type": "stream",
     "text": [
      "100%|██████████| 7/7 [00:00<00:00, 15.35it/s, avg_epoch_loss=0, epoch=200]\n",
      "100%|██████████| 7/7 [00:00<00:00, 14.65it/s, avg_epoch_loss=0, epoch=201]\n",
      "100%|██████████| 7/7 [00:00<00:00, 17.40it/s, avg_epoch_loss=0, epoch=202]\n",
      "100%|██████████| 7/7 [00:00<00:00, 18.77it/s, avg_epoch_loss=0, epoch=203]\n",
      "100%|██████████| 7/7 [00:00<00:00, 14.62it/s, avg_epoch_loss=0, epoch=204]\n",
      "100%|██████████| 7/7 [00:00<00:00, 19.02it/s, avg_epoch_loss=0, epoch=205]\n",
      "100%|██████████| 7/7 [00:00<00:00, 18.76it/s, avg_epoch_loss=0, epoch=206]\n",
      "100%|██████████| 7/7 [00:00<00:00, 19.42it/s, avg_epoch_loss=0, epoch=207]\n",
      "100%|██████████| 7/7 [00:00<00:00, 19.37it/s, avg_epoch_loss=0, epoch=208]\n",
      "100%|██████████| 7/7 [00:00<00:00, 19.28it/s, avg_epoch_loss=0, epoch=209]\n",
      "100%|██████████| 7/7 [00:00<00:00, 19.18it/s, avg_epoch_loss=0, epoch=210]\n",
      "100%|██████████| 7/7 [00:00<00:00, 15.72it/s, avg_epoch_loss=0, epoch=211]\n",
      "100%|██████████| 7/7 [00:00<00:00, 19.04it/s, avg_epoch_loss=0, epoch=212]\n",
      "100%|██████████| 7/7 [00:00<00:00, 17.42it/s, avg_epoch_loss=0, epoch=213]\n",
      "100%|██████████| 7/7 [00:00<00:00, 19.11it/s, avg_epoch_loss=0, epoch=214]\n",
      "100%|██████████| 7/7 [00:00<00:00, 16.34it/s, avg_epoch_loss=0, epoch=215]\n",
      "100%|██████████| 7/7 [00:00<00:00, 15.84it/s, avg_epoch_loss=0, epoch=216]\n",
      "100%|██████████| 7/7 [00:00<00:00, 16.84it/s, avg_epoch_loss=0, epoch=217]\n",
      "100%|██████████| 7/7 [00:00<00:00, 19.35it/s, avg_epoch_loss=0, epoch=218]\n",
      "100%|██████████| 7/7 [00:00<00:00, 19.21it/s, avg_epoch_loss=0, epoch=219]\n",
      "100%|██████████| 7/7 [00:00<00:00, 19.33it/s, avg_epoch_loss=0, epoch=220]\n",
      "100%|██████████| 7/7 [00:00<00:00, 19.42it/s, avg_epoch_loss=0, epoch=221]\n",
      "100%|██████████| 7/7 [00:00<00:00, 16.91it/s, avg_epoch_loss=0, epoch=222]\n",
      "100%|██████████| 7/7 [00:00<00:00, 14.08it/s, avg_epoch_loss=0, epoch=223]\n",
      "100%|██████████| 7/7 [00:00<00:00, 19.18it/s, avg_epoch_loss=0, epoch=224]\n",
      "100%|██████████| 7/7 [00:00<00:00, 19.28it/s, avg_epoch_loss=0, epoch=225]\n",
      "100%|██████████| 7/7 [00:00<00:00, 17.73it/s, avg_epoch_loss=0, epoch=226]\n",
      "100%|██████████| 7/7 [00:00<00:00, 14.32it/s, avg_epoch_loss=0, epoch=227]\n",
      "100%|██████████| 7/7 [00:00<00:00, 17.77it/s, avg_epoch_loss=0, epoch=228]\n",
      "100%|██████████| 7/7 [00:00<00:00, 19.24it/s, avg_epoch_loss=0, epoch=229]\n",
      "100%|██████████| 7/7 [00:00<00:00, 19.44it/s, avg_epoch_loss=0, epoch=230]\n",
      "100%|██████████| 7/7 [00:00<00:00, 15.07it/s, avg_epoch_loss=0, epoch=231]\n",
      "100%|██████████| 7/7 [00:00<00:00, 17.12it/s, avg_epoch_loss=0, epoch=232]\n",
      "100%|██████████| 7/7 [00:00<00:00, 15.54it/s, avg_epoch_loss=0, epoch=233]\n",
      "100%|██████████| 7/7 [00:00<00:00, 17.64it/s, avg_epoch_loss=0, epoch=234]\n",
      "100%|██████████| 7/7 [00:00<00:00, 17.26it/s, avg_epoch_loss=0, epoch=235]\n",
      "100%|██████████| 7/7 [00:00<00:00, 18.21it/s, avg_epoch_loss=0, epoch=236]\n",
      "100%|██████████| 7/7 [00:00<00:00, 17.92it/s, avg_epoch_loss=0, epoch=237]\n",
      "100%|██████████| 7/7 [00:00<00:00, 17.98it/s, avg_epoch_loss=0, epoch=238]\n",
      "100%|██████████| 7/7 [00:00<00:00, 17.57it/s, avg_epoch_loss=0, epoch=239]\n",
      "100%|██████████| 7/7 [00:00<00:00, 17.05it/s, avg_epoch_loss=0, epoch=240]\n",
      "100%|██████████| 7/7 [00:00<00:00, 13.97it/s, avg_epoch_loss=0, epoch=241]\n",
      "100%|██████████| 7/7 [00:00<00:00, 18.48it/s, avg_epoch_loss=0, epoch=242]\n",
      "100%|██████████| 7/7 [00:00<00:00, 18.79it/s, avg_epoch_loss=0, epoch=243]\n",
      "100%|██████████| 7/7 [00:00<00:00, 18.74it/s, avg_epoch_loss=0, epoch=244]\n",
      "100%|██████████| 7/7 [00:00<00:00, 18.75it/s, avg_epoch_loss=0, epoch=245]\n",
      "100%|██████████| 7/7 [00:00<00:00, 18.69it/s, avg_epoch_loss=0, epoch=246]\n",
      "100%|██████████| 7/7 [00:00<00:00, 18.62it/s, avg_epoch_loss=0, epoch=247]\n",
      "100%|██████████| 7/7 [00:00<00:00, 19.43it/s, avg_epoch_loss=0, epoch=248]\n",
      "100%|██████████| 7/7 [00:00<00:00, 18.93it/s, avg_epoch_loss=0, epoch=249]\n"
     ]
    },
    {
     "name": "stdout",
     "output_type": "stream",
     "text": [
      "Start validation!!!\n",
      "Epoch: 249\n"
     ]
    },
    {
     "name": "stderr",
     "output_type": "stream",
     "text": [
      "100%|██████████| 2/2 [00:50<00:00, 25.13s/it]\n"
     ]
    },
    {
     "name": "stdout",
     "output_type": "stream",
     "text": [
      "====================================\n",
      "##### End evaluation!!\n",
      "PEHE VAL = 8.31e+03\n"
     ]
    },
    {
     "name": "stderr",
     "output_type": "stream",
     "text": [
      "100%|██████████| 7/7 [00:00<00:00, 16.42it/s, avg_epoch_loss=0, epoch=250]\n",
      "100%|██████████| 7/7 [00:00<00:00, 18.96it/s, avg_epoch_loss=0, epoch=251]\n",
      "100%|██████████| 7/7 [00:00<00:00, 19.34it/s, avg_epoch_loss=0, epoch=252]\n",
      "100%|██████████| 7/7 [00:00<00:00, 19.06it/s, avg_epoch_loss=0, epoch=253]\n",
      "100%|██████████| 7/7 [00:00<00:00, 18.79it/s, avg_epoch_loss=0, epoch=254]\n",
      "100%|██████████| 7/7 [00:00<00:00, 18.76it/s, avg_epoch_loss=0, epoch=255]\n",
      "100%|██████████| 7/7 [00:00<00:00, 18.75it/s, avg_epoch_loss=0, epoch=256]\n",
      "100%|██████████| 7/7 [00:00<00:00, 19.04it/s, avg_epoch_loss=0, epoch=257]\n",
      "100%|██████████| 7/7 [00:00<00:00, 19.48it/s, avg_epoch_loss=0, epoch=258]\n",
      "100%|██████████| 7/7 [00:00<00:00, 18.68it/s, avg_epoch_loss=0, epoch=259]\n",
      "100%|██████████| 7/7 [00:00<00:00, 18.79it/s, avg_epoch_loss=0, epoch=260]\n",
      "100%|██████████| 7/7 [00:00<00:00, 19.08it/s, avg_epoch_loss=0, epoch=261]\n",
      "100%|██████████| 7/7 [00:00<00:00, 19.38it/s, avg_epoch_loss=0, epoch=262]\n",
      "100%|██████████| 7/7 [00:00<00:00, 16.46it/s, avg_epoch_loss=0, epoch=263]\n",
      "100%|██████████| 7/7 [00:00<00:00, 14.42it/s, avg_epoch_loss=0, epoch=264]\n",
      "100%|██████████| 7/7 [00:00<00:00, 20.08it/s, avg_epoch_loss=0, epoch=265]\n",
      "100%|██████████| 7/7 [00:00<00:00, 14.43it/s, avg_epoch_loss=0, epoch=266]\n",
      "100%|██████████| 7/7 [00:00<00:00, 18.04it/s, avg_epoch_loss=0, epoch=267]\n",
      "100%|██████████| 7/7 [00:00<00:00, 19.20it/s, avg_epoch_loss=0, epoch=268]\n",
      "100%|██████████| 7/7 [00:00<00:00, 16.83it/s, avg_epoch_loss=0, epoch=269]\n",
      "100%|██████████| 7/7 [00:00<00:00, 17.36it/s, avg_epoch_loss=0, epoch=270]\n",
      "100%|██████████| 7/7 [00:00<00:00, 14.20it/s, avg_epoch_loss=0, epoch=271]\n",
      "100%|██████████| 7/7 [00:00<00:00, 19.52it/s, avg_epoch_loss=0, epoch=272]\n",
      "100%|██████████| 7/7 [00:00<00:00, 19.00it/s, avg_epoch_loss=0, epoch=273]\n",
      "100%|██████████| 7/7 [00:00<00:00, 18.70it/s, avg_epoch_loss=0, epoch=274]\n",
      "100%|██████████| 7/7 [00:00<00:00, 18.32it/s, avg_epoch_loss=0, epoch=275]\n",
      "100%|██████████| 7/7 [00:00<00:00, 17.19it/s, avg_epoch_loss=0, epoch=276]\n",
      "100%|██████████| 7/7 [00:00<00:00, 17.96it/s, avg_epoch_loss=0, epoch=277]\n",
      "100%|██████████| 7/7 [00:00<00:00, 18.01it/s, avg_epoch_loss=0, epoch=278]\n",
      "100%|██████████| 7/7 [00:00<00:00, 14.42it/s, avg_epoch_loss=0, epoch=279]\n",
      "100%|██████████| 7/7 [00:00<00:00, 16.56it/s, avg_epoch_loss=0, epoch=280]\n",
      "100%|██████████| 7/7 [00:00<00:00, 18.68it/s, avg_epoch_loss=0, epoch=281]\n",
      "100%|██████████| 7/7 [00:00<00:00, 19.07it/s, avg_epoch_loss=0, epoch=282]\n",
      "100%|██████████| 7/7 [00:00<00:00, 19.33it/s, avg_epoch_loss=0, epoch=283]\n",
      "100%|██████████| 7/7 [00:00<00:00, 19.35it/s, avg_epoch_loss=0, epoch=284]\n",
      "100%|██████████| 7/7 [00:00<00:00, 18.84it/s, avg_epoch_loss=0, epoch=285]\n",
      "100%|██████████| 7/7 [00:00<00:00, 18.99it/s, avg_epoch_loss=0, epoch=286]\n",
      "100%|██████████| 7/7 [00:00<00:00, 18.30it/s, avg_epoch_loss=0, epoch=287]\n",
      "100%|██████████| 7/7 [00:00<00:00, 18.58it/s, avg_epoch_loss=0, epoch=288]\n",
      "100%|██████████| 7/7 [00:00<00:00, 18.70it/s, avg_epoch_loss=0, epoch=289]\n",
      "100%|██████████| 7/7 [00:00<00:00, 18.54it/s, avg_epoch_loss=0, epoch=290]\n",
      "100%|██████████| 7/7 [00:00<00:00, 18.55it/s, avg_epoch_loss=0, epoch=291]\n",
      "100%|██████████| 7/7 [00:00<00:00, 18.59it/s, avg_epoch_loss=0, epoch=292]\n",
      "100%|██████████| 7/7 [00:00<00:00, 15.84it/s, avg_epoch_loss=0, epoch=293]\n",
      "100%|██████████| 7/7 [00:00<00:00, 14.92it/s, avg_epoch_loss=0, epoch=294]\n",
      "100%|██████████| 7/7 [00:00<00:00, 19.27it/s, avg_epoch_loss=0, epoch=295]\n",
      "100%|██████████| 7/7 [00:00<00:00, 19.39it/s, avg_epoch_loss=0, epoch=296]\n",
      "100%|██████████| 7/7 [00:00<00:00, 18.72it/s, avg_epoch_loss=0, epoch=297]\n",
      "100%|██████████| 7/7 [00:00<00:00, 19.26it/s, avg_epoch_loss=0, epoch=298]\n",
      "100%|██████████| 7/7 [00:00<00:00, 19.57it/s, avg_epoch_loss=0, epoch=299]\n"
     ]
    },
    {
     "name": "stdout",
     "output_type": "stream",
     "text": [
      "Start validation!!!\n",
      "Epoch: 299\n"
     ]
    },
    {
     "name": "stderr",
     "output_type": "stream",
     "text": [
      "100%|██████████| 2/2 [00:49<00:00, 24.88s/it]\n"
     ]
    },
    {
     "name": "stdout",
     "output_type": "stream",
     "text": [
      "====================================\n",
      "##### End evaluation!!\n",
      "PEHE VAL = 8.37e+03\n"
     ]
    },
    {
     "name": "stderr",
     "output_type": "stream",
     "text": [
      "100%|██████████| 7/7 [00:00<00:00, 18.90it/s, avg_epoch_loss=0, epoch=300]\n",
      "100%|██████████| 7/7 [00:00<00:00, 15.41it/s, avg_epoch_loss=0, epoch=301]\n",
      "100%|██████████| 7/7 [00:00<00:00, 18.03it/s, avg_epoch_loss=0, epoch=302]\n",
      "100%|██████████| 7/7 [00:00<00:00, 18.12it/s, avg_epoch_loss=0, epoch=303]\n",
      "100%|██████████| 7/7 [00:00<00:00, 17.94it/s, avg_epoch_loss=0, epoch=304]\n",
      "100%|██████████| 7/7 [00:00<00:00, 17.97it/s, avg_epoch_loss=0, epoch=305]\n",
      "100%|██████████| 7/7 [00:00<00:00, 17.31it/s, avg_epoch_loss=0, epoch=306]\n",
      "100%|██████████| 7/7 [00:00<00:00, 19.08it/s, avg_epoch_loss=0, epoch=307]\n",
      "100%|██████████| 7/7 [00:00<00:00, 19.29it/s, avg_epoch_loss=0, epoch=308]\n",
      "100%|██████████| 7/7 [00:00<00:00, 18.07it/s, avg_epoch_loss=0, epoch=309]\n",
      "100%|██████████| 7/7 [00:00<00:00, 18.85it/s, avg_epoch_loss=0, epoch=310]\n",
      "100%|██████████| 7/7 [00:00<00:00, 19.07it/s, avg_epoch_loss=0, epoch=311]\n",
      "100%|██████████| 7/7 [00:00<00:00, 17.56it/s, avg_epoch_loss=0, epoch=312]\n",
      "100%|██████████| 7/7 [00:00<00:00, 19.29it/s, avg_epoch_loss=0, epoch=313]\n",
      "100%|██████████| 7/7 [00:00<00:00, 18.65it/s, avg_epoch_loss=0, epoch=314]\n",
      "100%|██████████| 7/7 [00:00<00:00, 17.29it/s, avg_epoch_loss=0, epoch=315]\n",
      "100%|██████████| 7/7 [00:00<00:00, 16.33it/s, avg_epoch_loss=0, epoch=316]\n",
      "100%|██████████| 7/7 [00:00<00:00, 18.54it/s, avg_epoch_loss=0, epoch=317]\n",
      "100%|██████████| 7/7 [00:00<00:00, 19.05it/s, avg_epoch_loss=0, epoch=318]\n",
      "100%|██████████| 7/7 [00:00<00:00, 18.09it/s, avg_epoch_loss=0, epoch=319]\n",
      "100%|██████████| 7/7 [00:00<00:00, 19.06it/s, avg_epoch_loss=0, epoch=320]\n",
      "100%|██████████| 7/7 [00:00<00:00, 19.42it/s, avg_epoch_loss=0, epoch=321]\n",
      "100%|██████████| 7/7 [00:00<00:00, 19.22it/s, avg_epoch_loss=0, epoch=322]\n",
      "100%|██████████| 7/7 [00:00<00:00, 18.73it/s, avg_epoch_loss=0, epoch=323]\n",
      "100%|██████████| 7/7 [00:00<00:00, 19.14it/s, avg_epoch_loss=0, epoch=324]\n",
      "100%|██████████| 7/7 [00:00<00:00, 19.26it/s, avg_epoch_loss=0, epoch=325]\n",
      "100%|██████████| 7/7 [00:00<00:00, 19.04it/s, avg_epoch_loss=0, epoch=326]\n",
      "100%|██████████| 7/7 [00:00<00:00, 19.32it/s, avg_epoch_loss=0, epoch=327]\n",
      "100%|██████████| 7/7 [00:00<00:00, 19.05it/s, avg_epoch_loss=0, epoch=328]\n",
      "100%|██████████| 7/7 [00:00<00:00, 19.10it/s, avg_epoch_loss=0, epoch=329]\n",
      "100%|██████████| 7/7 [00:00<00:00, 18.67it/s, avg_epoch_loss=0, epoch=330]\n",
      "100%|██████████| 7/7 [00:00<00:00, 18.80it/s, avg_epoch_loss=0, epoch=331]\n",
      "100%|██████████| 7/7 [00:00<00:00, 18.51it/s, avg_epoch_loss=0, epoch=332]\n",
      "100%|██████████| 7/7 [00:00<00:00, 18.40it/s, avg_epoch_loss=0, epoch=333]\n",
      "100%|██████████| 7/7 [00:00<00:00, 18.84it/s, avg_epoch_loss=0, epoch=334]\n",
      "100%|██████████| 7/7 [00:00<00:00, 19.08it/s, avg_epoch_loss=0, epoch=335]\n",
      "100%|██████████| 7/7 [00:00<00:00, 16.40it/s, avg_epoch_loss=0, epoch=336]\n",
      "100%|██████████| 7/7 [00:00<00:00, 18.97it/s, avg_epoch_loss=0, epoch=337]\n",
      "100%|██████████| 7/7 [00:00<00:00, 19.27it/s, avg_epoch_loss=0, epoch=338]\n",
      "100%|██████████| 7/7 [00:00<00:00, 18.44it/s, avg_epoch_loss=0, epoch=339]\n",
      "100%|██████████| 7/7 [00:00<00:00, 19.14it/s, avg_epoch_loss=0, epoch=340]\n",
      "100%|██████████| 7/7 [00:00<00:00, 19.10it/s, avg_epoch_loss=0, epoch=341]\n",
      "100%|██████████| 7/7 [00:00<00:00, 18.42it/s, avg_epoch_loss=0, epoch=342]\n",
      "100%|██████████| 7/7 [00:00<00:00, 19.44it/s, avg_epoch_loss=0, epoch=343]\n",
      "100%|██████████| 7/7 [00:00<00:00, 15.39it/s, avg_epoch_loss=0, epoch=344]\n",
      "100%|██████████| 7/7 [00:00<00:00, 18.20it/s, avg_epoch_loss=0, epoch=345]\n",
      "100%|██████████| 7/7 [00:00<00:00, 19.43it/s, avg_epoch_loss=0, epoch=346]\n",
      "100%|██████████| 7/7 [00:00<00:00, 19.51it/s, avg_epoch_loss=0, epoch=347]\n",
      "100%|██████████| 7/7 [00:00<00:00, 19.01it/s, avg_epoch_loss=0, epoch=348]\n",
      "100%|██████████| 7/7 [00:00<00:00, 19.45it/s, avg_epoch_loss=0, epoch=349]\n"
     ]
    },
    {
     "name": "stdout",
     "output_type": "stream",
     "text": [
      "Start validation!!!\n",
      "Epoch: 349\n"
     ]
    },
    {
     "name": "stderr",
     "output_type": "stream",
     "text": [
      "100%|██████████| 2/2 [00:50<00:00, 25.30s/it]\n"
     ]
    },
    {
     "name": "stdout",
     "output_type": "stream",
     "text": [
      "====================================\n",
      "##### End evaluation!!\n",
      "PEHE VAL = 8.91e+03\n"
     ]
    },
    {
     "name": "stderr",
     "output_type": "stream",
     "text": [
      "100%|██████████| 7/7 [00:00<00:00, 14.47it/s, avg_epoch_loss=0, epoch=350]\n",
      "100%|██████████| 7/7 [00:00<00:00, 15.27it/s, avg_epoch_loss=0, epoch=351]\n",
      "100%|██████████| 7/7 [00:00<00:00, 14.85it/s, avg_epoch_loss=0, epoch=352]\n",
      "100%|██████████| 7/7 [00:00<00:00, 14.35it/s, avg_epoch_loss=0, epoch=353]\n",
      "100%|██████████| 7/7 [00:00<00:00, 19.38it/s, avg_epoch_loss=0, epoch=354]\n",
      "100%|██████████| 7/7 [00:00<00:00, 18.79it/s, avg_epoch_loss=0, epoch=355]\n",
      "100%|██████████| 7/7 [00:00<00:00, 18.03it/s, avg_epoch_loss=0, epoch=356]\n",
      "100%|██████████| 7/7 [00:00<00:00, 19.03it/s, avg_epoch_loss=0, epoch=357]\n",
      "100%|██████████| 7/7 [00:00<00:00, 19.14it/s, avg_epoch_loss=0, epoch=358]\n",
      "100%|██████████| 7/7 [00:00<00:00, 19.36it/s, avg_epoch_loss=0, epoch=359]\n",
      "100%|██████████| 7/7 [00:00<00:00, 19.17it/s, avg_epoch_loss=0, epoch=360]\n",
      "100%|██████████| 7/7 [00:00<00:00, 14.42it/s, avg_epoch_loss=0, epoch=361]\n",
      "100%|██████████| 7/7 [00:00<00:00, 18.86it/s, avg_epoch_loss=0, epoch=362]\n",
      "100%|██████████| 7/7 [00:00<00:00, 19.16it/s, avg_epoch_loss=0, epoch=363]\n",
      "100%|██████████| 7/7 [00:00<00:00, 19.18it/s, avg_epoch_loss=0, epoch=364]\n",
      "100%|██████████| 7/7 [00:00<00:00, 19.02it/s, avg_epoch_loss=0, epoch=365]\n",
      "100%|██████████| 7/7 [00:00<00:00, 18.83it/s, avg_epoch_loss=0, epoch=366]\n",
      "100%|██████████| 7/7 [00:00<00:00, 18.65it/s, avg_epoch_loss=0, epoch=367]\n",
      "100%|██████████| 7/7 [00:00<00:00, 19.32it/s, avg_epoch_loss=0, epoch=368]\n",
      "100%|██████████| 7/7 [00:00<00:00, 19.08it/s, avg_epoch_loss=0, epoch=369]\n",
      "100%|██████████| 7/7 [00:00<00:00, 19.38it/s, avg_epoch_loss=0, epoch=370]\n",
      "100%|██████████| 7/7 [00:00<00:00, 18.76it/s, avg_epoch_loss=0, epoch=371]\n",
      "100%|██████████| 7/7 [00:00<00:00, 18.59it/s, avg_epoch_loss=0, epoch=372]\n",
      "100%|██████████| 7/7 [00:00<00:00, 19.00it/s, avg_epoch_loss=0, epoch=373]\n",
      "100%|██████████| 7/7 [00:00<00:00, 19.04it/s, avg_epoch_loss=0, epoch=374]\n",
      "100%|██████████| 7/7 [00:00<00:00, 19.47it/s, avg_epoch_loss=0, epoch=375]\n",
      "100%|██████████| 7/7 [00:00<00:00, 19.14it/s, avg_epoch_loss=0, epoch=376]\n",
      "100%|██████████| 7/7 [00:00<00:00, 19.53it/s, avg_epoch_loss=0, epoch=377]\n",
      "100%|██████████| 7/7 [00:00<00:00, 18.94it/s, avg_epoch_loss=0, epoch=378]\n",
      "100%|██████████| 7/7 [00:00<00:00, 18.78it/s, avg_epoch_loss=0, epoch=379]\n",
      "100%|██████████| 7/7 [00:00<00:00, 18.90it/s, avg_epoch_loss=0, epoch=380]\n",
      "100%|██████████| 7/7 [00:00<00:00, 18.75it/s, avg_epoch_loss=0, epoch=381]\n",
      "100%|██████████| 7/7 [00:00<00:00, 18.74it/s, avg_epoch_loss=0, epoch=382]\n",
      "100%|██████████| 7/7 [00:00<00:00, 18.33it/s, avg_epoch_loss=0, epoch=383]\n",
      "100%|██████████| 7/7 [00:00<00:00, 14.83it/s, avg_epoch_loss=0, epoch=384]\n",
      "100%|██████████| 7/7 [00:00<00:00, 19.30it/s, avg_epoch_loss=0, epoch=385]\n",
      "100%|██████████| 7/7 [00:00<00:00, 19.47it/s, avg_epoch_loss=0, epoch=386]\n",
      "100%|██████████| 7/7 [00:00<00:00, 19.34it/s, avg_epoch_loss=0, epoch=387]\n",
      "100%|██████████| 7/7 [00:00<00:00, 17.78it/s, avg_epoch_loss=0, epoch=388]\n",
      "100%|██████████| 7/7 [00:00<00:00, 18.29it/s, avg_epoch_loss=0, epoch=389]\n",
      "100%|██████████| 7/7 [00:00<00:00, 18.59it/s, avg_epoch_loss=0, epoch=390]\n",
      "100%|██████████| 7/7 [00:00<00:00, 18.54it/s, avg_epoch_loss=0, epoch=391]\n",
      "100%|██████████| 7/7 [00:00<00:00, 18.57it/s, avg_epoch_loss=0, epoch=392]\n",
      "100%|██████████| 7/7 [00:00<00:00, 18.78it/s, avg_epoch_loss=0, epoch=393]\n",
      "100%|██████████| 7/7 [00:00<00:00, 14.35it/s, avg_epoch_loss=0, epoch=394]\n",
      "100%|██████████| 7/7 [00:00<00:00, 16.99it/s, avg_epoch_loss=0, epoch=395]\n",
      "100%|██████████| 7/7 [00:00<00:00, 14.82it/s, avg_epoch_loss=0, epoch=396]\n",
      "100%|██████████| 7/7 [00:00<00:00, 18.49it/s, avg_epoch_loss=0, epoch=397]\n",
      "100%|██████████| 7/7 [00:00<00:00, 15.51it/s, avg_epoch_loss=0, epoch=398]\n",
      "100%|██████████| 7/7 [00:00<00:00, 14.27it/s, avg_epoch_loss=0, epoch=399]\n"
     ]
    },
    {
     "name": "stdout",
     "output_type": "stream",
     "text": [
      "Start validation!!!\n",
      "Epoch: 399\n"
     ]
    },
    {
     "name": "stderr",
     "output_type": "stream",
     "text": [
      "100%|██████████| 2/2 [00:51<00:00, 25.92s/it]\n"
     ]
    },
    {
     "name": "stdout",
     "output_type": "stream",
     "text": [
      "====================================\n",
      "##### End evaluation!!\n",
      "PEHE VAL = 8.9e+03\n"
     ]
    },
    {
     "name": "stderr",
     "output_type": "stream",
     "text": [
      "100%|██████████| 7/7 [00:00<00:00, 18.73it/s, avg_epoch_loss=0, epoch=400]\n",
      "100%|██████████| 7/7 [00:00<00:00, 16.14it/s, avg_epoch_loss=0, epoch=401]\n",
      "100%|██████████| 7/7 [00:00<00:00, 18.78it/s, avg_epoch_loss=0, epoch=402]\n",
      "100%|██████████| 7/7 [00:00<00:00, 18.35it/s, avg_epoch_loss=0, epoch=403]\n",
      "100%|██████████| 7/7 [00:00<00:00, 18.53it/s, avg_epoch_loss=0, epoch=404]\n",
      "100%|██████████| 7/7 [00:00<00:00, 18.68it/s, avg_epoch_loss=0, epoch=405]\n",
      "100%|██████████| 7/7 [00:00<00:00, 16.96it/s, avg_epoch_loss=0, epoch=406]\n",
      "100%|██████████| 7/7 [00:00<00:00, 16.81it/s, avg_epoch_loss=0, epoch=407]\n",
      "100%|██████████| 7/7 [00:00<00:00, 18.04it/s, avg_epoch_loss=0, epoch=408]\n",
      "100%|██████████| 7/7 [00:00<00:00, 18.89it/s, avg_epoch_loss=0, epoch=409]\n",
      "100%|██████████| 7/7 [00:00<00:00, 18.68it/s, avg_epoch_loss=0, epoch=410]\n",
      "100%|██████████| 7/7 [00:00<00:00, 18.89it/s, avg_epoch_loss=0, epoch=411]\n",
      "100%|██████████| 7/7 [00:00<00:00, 18.69it/s, avg_epoch_loss=0, epoch=412]\n",
      "100%|██████████| 7/7 [00:00<00:00, 18.51it/s, avg_epoch_loss=0, epoch=413]\n",
      "100%|██████████| 7/7 [00:00<00:00, 18.77it/s, avg_epoch_loss=0, epoch=414]\n",
      "100%|██████████| 7/7 [00:00<00:00, 18.93it/s, avg_epoch_loss=0, epoch=415]\n",
      "100%|██████████| 7/7 [00:00<00:00, 18.64it/s, avg_epoch_loss=0, epoch=416]\n",
      "100%|██████████| 7/7 [00:00<00:00, 18.37it/s, avg_epoch_loss=0, epoch=417]\n",
      "100%|██████████| 7/7 [00:00<00:00, 18.91it/s, avg_epoch_loss=0, epoch=418]\n",
      "100%|██████████| 7/7 [00:00<00:00, 17.85it/s, avg_epoch_loss=0, epoch=419]\n",
      "100%|██████████| 7/7 [00:00<00:00, 19.14it/s, avg_epoch_loss=0, epoch=420]\n",
      "100%|██████████| 7/7 [00:00<00:00, 19.34it/s, avg_epoch_loss=0, epoch=421]\n",
      "100%|██████████| 7/7 [00:00<00:00, 18.80it/s, avg_epoch_loss=0, epoch=422]\n",
      "100%|██████████| 7/7 [00:00<00:00, 18.52it/s, avg_epoch_loss=0, epoch=423]\n",
      "100%|██████████| 7/7 [00:00<00:00, 18.76it/s, avg_epoch_loss=0, epoch=424]\n",
      "100%|██████████| 7/7 [00:00<00:00, 19.03it/s, avg_epoch_loss=0, epoch=425]\n",
      "100%|██████████| 7/7 [00:00<00:00, 18.87it/s, avg_epoch_loss=0, epoch=426]\n",
      "100%|██████████| 7/7 [00:00<00:00, 18.47it/s, avg_epoch_loss=0, epoch=427]\n",
      "100%|██████████| 7/7 [00:00<00:00, 18.35it/s, avg_epoch_loss=0, epoch=428]\n",
      "100%|██████████| 7/7 [00:00<00:00, 18.71it/s, avg_epoch_loss=0, epoch=429]\n",
      "100%|██████████| 7/7 [00:00<00:00, 18.64it/s, avg_epoch_loss=0, epoch=430]\n",
      "100%|██████████| 7/7 [00:00<00:00, 19.17it/s, avg_epoch_loss=0, epoch=431]\n",
      "100%|██████████| 7/7 [00:00<00:00, 18.92it/s, avg_epoch_loss=0, epoch=432]\n",
      "100%|██████████| 7/7 [00:00<00:00, 17.56it/s, avg_epoch_loss=0, epoch=433]\n",
      "100%|██████████| 7/7 [00:00<00:00, 18.76it/s, avg_epoch_loss=0, epoch=434]\n",
      "100%|██████████| 7/7 [00:00<00:00, 18.48it/s, avg_epoch_loss=0, epoch=435]\n",
      "100%|██████████| 7/7 [00:00<00:00, 18.62it/s, avg_epoch_loss=0, epoch=436]\n",
      "100%|██████████| 7/7 [00:00<00:00, 18.76it/s, avg_epoch_loss=0, epoch=437]\n",
      "100%|██████████| 7/7 [00:00<00:00, 18.64it/s, avg_epoch_loss=0, epoch=438]\n",
      "100%|██████████| 7/7 [00:00<00:00, 18.94it/s, avg_epoch_loss=0, epoch=439]\n",
      "100%|██████████| 7/7 [00:00<00:00, 14.57it/s, avg_epoch_loss=0, epoch=440]\n",
      "100%|██████████| 7/7 [00:00<00:00, 17.21it/s, avg_epoch_loss=0, epoch=441]\n",
      "100%|██████████| 7/7 [00:00<00:00, 17.23it/s, avg_epoch_loss=0, epoch=442]\n",
      "100%|██████████| 7/7 [00:00<00:00, 17.36it/s, avg_epoch_loss=0, epoch=443]\n",
      "100%|██████████| 7/7 [00:00<00:00, 17.39it/s, avg_epoch_loss=0, epoch=444]\n",
      "100%|██████████| 7/7 [00:00<00:00, 18.78it/s, avg_epoch_loss=0, epoch=445]\n",
      "100%|██████████| 7/7 [00:00<00:00, 19.07it/s, avg_epoch_loss=0, epoch=446]\n",
      "100%|██████████| 7/7 [00:00<00:00, 19.26it/s, avg_epoch_loss=0, epoch=447]\n",
      "100%|██████████| 7/7 [00:00<00:00, 19.41it/s, avg_epoch_loss=0, epoch=448]\n",
      "100%|██████████| 7/7 [00:00<00:00, 19.24it/s, avg_epoch_loss=0, epoch=449]\n"
     ]
    },
    {
     "name": "stdout",
     "output_type": "stream",
     "text": [
      "Start validation!!!\n",
      "Epoch: 449\n"
     ]
    },
    {
     "name": "stderr",
     "output_type": "stream",
     "text": [
      "100%|██████████| 2/2 [00:51<00:00, 25.67s/it]\n"
     ]
    },
    {
     "name": "stdout",
     "output_type": "stream",
     "text": [
      "====================================\n",
      "##### End evaluation!!\n",
      "PEHE VAL = 8.03e+03\n"
     ]
    },
    {
     "name": "stderr",
     "output_type": "stream",
     "text": [
      "100%|██████████| 7/7 [00:00<00:00, 14.40it/s, avg_epoch_loss=0, epoch=450]\n",
      "100%|██████████| 7/7 [00:00<00:00, 17.42it/s, avg_epoch_loss=0, epoch=451]\n",
      "100%|██████████| 7/7 [00:00<00:00, 17.39it/s, avg_epoch_loss=0, epoch=452]\n",
      "100%|██████████| 7/7 [00:00<00:00, 17.52it/s, avg_epoch_loss=0, epoch=453]\n",
      "100%|██████████| 7/7 [00:00<00:00, 17.50it/s, avg_epoch_loss=0, epoch=454]\n",
      "100%|██████████| 7/7 [00:00<00:00, 17.50it/s, avg_epoch_loss=0, epoch=455]\n",
      "100%|██████████| 7/7 [00:00<00:00, 17.27it/s, avg_epoch_loss=0, epoch=456]\n",
      "100%|██████████| 7/7 [00:00<00:00, 18.32it/s, avg_epoch_loss=0, epoch=457]\n",
      "100%|██████████| 7/7 [00:00<00:00, 17.82it/s, avg_epoch_loss=0, epoch=458]\n",
      "100%|██████████| 7/7 [00:00<00:00, 16.24it/s, avg_epoch_loss=0, epoch=459]\n",
      "100%|██████████| 7/7 [00:00<00:00, 18.18it/s, avg_epoch_loss=0, epoch=460]\n",
      "100%|██████████| 7/7 [00:00<00:00, 18.33it/s, avg_epoch_loss=0, epoch=461]\n",
      "100%|██████████| 7/7 [00:00<00:00, 18.78it/s, avg_epoch_loss=0, epoch=462]\n",
      "100%|██████████| 7/7 [00:00<00:00, 18.47it/s, avg_epoch_loss=0, epoch=463]\n",
      "100%|██████████| 7/7 [00:00<00:00, 18.88it/s, avg_epoch_loss=0, epoch=464]\n",
      "100%|██████████| 7/7 [00:00<00:00, 17.79it/s, avg_epoch_loss=0, epoch=465]\n",
      "100%|██████████| 7/7 [00:00<00:00, 16.70it/s, avg_epoch_loss=0, epoch=466]\n",
      "100%|██████████| 7/7 [00:00<00:00, 17.08it/s, avg_epoch_loss=0, epoch=467]\n",
      "100%|██████████| 7/7 [00:00<00:00, 16.61it/s, avg_epoch_loss=0, epoch=468]\n",
      "100%|██████████| 7/7 [00:00<00:00, 17.14it/s, avg_epoch_loss=0, epoch=469]\n",
      "100%|██████████| 7/7 [00:00<00:00, 17.46it/s, avg_epoch_loss=0, epoch=470]\n",
      "100%|██████████| 7/7 [00:00<00:00, 16.97it/s, avg_epoch_loss=0, epoch=471]\n",
      "100%|██████████| 7/7 [00:00<00:00, 17.35it/s, avg_epoch_loss=0, epoch=472]\n",
      "100%|██████████| 7/7 [00:00<00:00, 17.26it/s, avg_epoch_loss=0, epoch=473]\n",
      "100%|██████████| 7/7 [00:00<00:00, 17.39it/s, avg_epoch_loss=0, epoch=474]\n",
      "100%|██████████| 7/7 [00:00<00:00, 18.52it/s, avg_epoch_loss=0, epoch=475]\n",
      "100%|██████████| 7/7 [00:00<00:00, 18.80it/s, avg_epoch_loss=0, epoch=476]\n",
      "100%|██████████| 7/7 [00:00<00:00, 18.90it/s, avg_epoch_loss=0, epoch=477]\n",
      "100%|██████████| 7/7 [00:00<00:00, 18.62it/s, avg_epoch_loss=0, epoch=478]\n",
      "100%|██████████| 7/7 [00:00<00:00, 18.67it/s, avg_epoch_loss=0, epoch=479]\n",
      "100%|██████████| 7/7 [00:00<00:00, 18.77it/s, avg_epoch_loss=0, epoch=480]\n",
      "100%|██████████| 7/7 [00:00<00:00, 18.88it/s, avg_epoch_loss=0, epoch=481]\n",
      "100%|██████████| 7/7 [00:00<00:00, 18.59it/s, avg_epoch_loss=0, epoch=482]\n",
      "100%|██████████| 7/7 [00:00<00:00, 18.83it/s, avg_epoch_loss=0, epoch=483]\n",
      "100%|██████████| 7/7 [00:00<00:00, 17.70it/s, avg_epoch_loss=0, epoch=484]\n",
      "100%|██████████| 7/7 [00:00<00:00, 18.57it/s, avg_epoch_loss=0, epoch=485]\n",
      "100%|██████████| 7/7 [00:00<00:00, 18.66it/s, avg_epoch_loss=0, epoch=486]\n",
      "100%|██████████| 7/7 [00:00<00:00, 18.89it/s, avg_epoch_loss=0, epoch=487]\n",
      "100%|██████████| 7/7 [00:00<00:00, 18.64it/s, avg_epoch_loss=0, epoch=488]\n",
      "100%|██████████| 7/7 [00:00<00:00, 14.26it/s, avg_epoch_loss=0, epoch=489]\n",
      "100%|██████████| 7/7 [00:00<00:00, 18.27it/s, avg_epoch_loss=0, epoch=490]\n",
      "100%|██████████| 7/7 [00:00<00:00, 18.81it/s, avg_epoch_loss=0, epoch=491]\n",
      "100%|██████████| 7/7 [00:00<00:00, 18.81it/s, avg_epoch_loss=0, epoch=492]\n",
      "100%|██████████| 7/7 [00:00<00:00, 18.73it/s, avg_epoch_loss=0, epoch=493]\n",
      "100%|██████████| 7/7 [00:00<00:00, 18.77it/s, avg_epoch_loss=0, epoch=494]\n",
      "100%|██████████| 7/7 [00:00<00:00, 18.75it/s, avg_epoch_loss=0, epoch=495]\n",
      "100%|██████████| 7/7 [00:00<00:00, 18.60it/s, avg_epoch_loss=0, epoch=496]\n",
      "100%|██████████| 7/7 [00:00<00:00, 18.27it/s, avg_epoch_loss=0, epoch=497]\n",
      "100%|██████████| 7/7 [00:00<00:00, 18.41it/s, avg_epoch_loss=0, epoch=498]\n",
      "100%|██████████| 7/7 [00:00<00:00, 18.76it/s, avg_epoch_loss=0, epoch=499]\n"
     ]
    },
    {
     "name": "stdout",
     "output_type": "stream",
     "text": [
      "Start validation!!!\n",
      "Epoch: 499\n"
     ]
    },
    {
     "name": "stderr",
     "output_type": "stream",
     "text": [
      "100%|██████████| 2/2 [00:52<00:00, 26.12s/it]\n"
     ]
    },
    {
     "name": "stdout",
     "output_type": "stream",
     "text": [
      "====================================\n",
      "##### End evaluation!!\n",
      "PEHE VAL = 8.54e+03\n",
      "Training complete.\n",
      "Evaluating the model...\n"
     ]
    },
    {
     "name": "stderr",
     "output_type": "stream",
     "text": [
      "100%|██████████| 12/12 [11:48<00:00, 59.07s/it]\n",
      "GPU available: True (mps), used: False\n",
      "TPU available: False, using: 0 TPU cores\n",
      "HPU available: False, using: 0 HPUs\n",
      "\n",
      "  | Name           | Type        | Params | Mode \n",
      "-------------------------------------------------------\n",
      "0 | balancer       | Sequential  | 1.6 K  | train\n",
      "1 | prior_encoder0 | Sequential  | 0      | train\n",
      "2 | prior_encoder1 | Sequential  | 0      | train\n",
      "3 | cond_mean0     | Sequential  | 701    | train\n",
      "4 | cond_mean1     | Sequential  | 701    | train\n",
      "5 | cond_std0      | Sequential  | 701    | train\n",
      "6 | cond_std1      | Sequential  | 701    | train\n",
      "7 | flows0         | DSFMarginal | 892    | train\n",
      "8 | flows1         | DSFMarginal | 892    | train\n",
      "-------------------------------------------------------\n",
      "6.2 K     Trainable params\n",
      "0         Non-trainable params\n",
      "6.2 K     Total params\n",
      "0.025     Total estimated model params size (MB)\n",
      "45        Modules in train mode\n",
      "0         Modules in eval mode\n"
     ]
    },
    {
     "name": "stdout",
     "output_type": "stream",
     "text": [
      "Fit and evaluate NOFLITE ...\n"
     ]
    },
    {
     "data": {
      "application/vnd.jupyter.widget-view+json": {
       "model_id": "b5b51553ef474fb49b19cd2da3da57f5",
       "version_major": 2,
       "version_minor": 0
      },
      "text/plain": [
       "Training: |          | 0/? [00:00<?, ?it/s]"
      ]
     },
     "metadata": {},
     "output_type": "display_data"
    },
    {
     "name": "stderr",
     "output_type": "stream",
     "text": [
      "`Trainer.fit` stopped: `max_steps=10000` reached.\n"
     ]
    },
    {
     "name": "stdout",
     "output_type": "stream",
     "text": [
      "|====================================================================================================|Fit and evaluate CCT-learner ...\n",
      "Fit and evaluate BART ...\n"
     ]
    },
    {
     "name": "stderr",
     "output_type": "stream",
     "text": [
      "Multiprocess sampling (4 chains in 4 jobs)\n",
      "PGBART: [mu]\n"
     ]
    },
    {
     "data": {
      "application/vnd.jupyter.widget-view+json": {
       "model_id": "449e603ff3004a438ee539b85e4a6371",
       "version_major": 2,
       "version_minor": 0
      },
      "text/plain": [
       "Output()"
      ]
     },
     "metadata": {},
     "output_type": "display_data"
    },
    {
     "data": {
      "text/html": [
       "<pre style=\"white-space:pre;overflow-x:auto;line-height:normal;font-family:Menlo,'DejaVu Sans Mono',consolas,'Courier New',monospace\"></pre>\n"
      ],
      "text/plain": []
     },
     "metadata": {},
     "output_type": "display_data"
    },
    {
     "name": "stderr",
     "output_type": "stream",
     "text": [
      "Sampling 4 chains for 500 tune and 500 draw iterations (2_000 + 2_000 draws total) took 18 seconds.\n",
      "The rhat statistic is larger than 1.01 for some parameters. This indicates problems during sampling. See https://arxiv.org/abs/1903.08008 for details\n",
      "The effective sample size per chain is smaller than 100 for some parameters.  A higher number is needed for reliable rhat and ess computation. See https://arxiv.org/abs/1903.08008 for details\n",
      "Sampling: [mu, y]\n"
     ]
    },
    {
     "data": {
      "application/vnd.jupyter.widget-view+json": {
       "model_id": "c3720b2e9c944826a686628120758597",
       "version_major": 2,
       "version_minor": 0
      },
      "text/plain": [
       "Output()"
      ]
     },
     "metadata": {},
     "output_type": "display_data"
    },
    {
     "name": "stdout",
     "output_type": "stream",
     "text": [
      "X_extended (3000, 11)\n"
     ]
    },
    {
     "data": {
      "text/html": [
       "<pre style=\"white-space:pre;overflow-x:auto;line-height:normal;font-family:Menlo,'DejaVu Sans Mono',consolas,'Courier New',monospace\"></pre>\n"
      ],
      "text/plain": []
     },
     "metadata": {},
     "output_type": "display_data"
    },
    {
     "name": "stderr",
     "output_type": "stream",
     "text": [
      "Sampling: [mu, y]\n"
     ]
    },
    {
     "data": {
      "application/vnd.jupyter.widget-view+json": {
       "model_id": "03867191f08248b394feea4f069b0589",
       "version_major": 2,
       "version_minor": 0
      },
      "text/plain": [
       "Output()"
      ]
     },
     "metadata": {},
     "output_type": "display_data"
    },
    {
     "data": {
      "text/html": [
       "<pre style=\"white-space:pre;overflow-x:auto;line-height:normal;font-family:Menlo,'DejaVu Sans Mono',consolas,'Courier New',monospace\"></pre>\n"
      ],
      "text/plain": []
     },
     "metadata": {},
     "output_type": "display_data"
    },
    {
     "name": "stderr",
     "output_type": "stream",
     "text": [
      "Sampling: [mu, y]\n"
     ]
    },
    {
     "data": {
      "application/vnd.jupyter.widget-view+json": {
       "model_id": "d5e926f4982046eda21111ac370da7a5",
       "version_major": 2,
       "version_minor": 0
      },
      "text/plain": [
       "Output()"
      ]
     },
     "metadata": {},
     "output_type": "display_data"
    },
    {
     "name": "stdout",
     "output_type": "stream",
     "text": [
      "X_extended (3000, 11)\n"
     ]
    },
    {
     "data": {
      "text/html": [
       "<pre style=\"white-space:pre;overflow-x:auto;line-height:normal;font-family:Menlo,'DejaVu Sans Mono',consolas,'Courier New',monospace\"></pre>\n"
      ],
      "text/plain": []
     },
     "metadata": {},
     "output_type": "display_data"
    },
    {
     "name": "stderr",
     "output_type": "stream",
     "text": [
      "Sampling: [mu, y]\n"
     ]
    },
    {
     "data": {
      "application/vnd.jupyter.widget-view+json": {
       "model_id": "565cc37488ea491e8a99606217ea98f8",
       "version_major": 2,
       "version_minor": 0
      },
      "text/plain": [
       "Output()"
      ]
     },
     "metadata": {},
     "output_type": "display_data"
    },
    {
     "data": {
      "text/html": [
       "<pre style=\"white-space:pre;overflow-x:auto;line-height:normal;font-family:Menlo,'DejaVu Sans Mono',consolas,'Courier New',monospace\"></pre>\n"
      ],
      "text/plain": []
     },
     "metadata": {},
     "output_type": "display_data"
    },
    {
     "name": "stdout",
     "output_type": "stream",
     "text": [
      "Fit and evaluate CMGP ...\n",
      "Fit and evaluate CEVAE ...\n",
      "Using cpu\n"
     ]
    },
    {
     "name": "stderr",
     "output_type": "stream",
     "text": [
      "100%|██████████| 7000/7000 [00:32<00:00, 217.20it/s]\n"
     ]
    },
    {
     "name": "stdout",
     "output_type": "stream",
     "text": [
      "Fit and evaluate FCCN ...\n"
     ]
    },
    {
     "name": "stderr",
     "output_type": "stream",
     "text": [
      "100%|██████████| 20000/20000 [02:05<00:00, 159.24it/s]\n"
     ]
    },
    {
     "name": "stdout",
     "output_type": "stream",
     "text": [
      "Fit and evaluate GANITE ...\n"
     ]
    },
    {
     "name": "stderr",
     "output_type": "stream",
     "text": [
      "Training Counterfactual GAN: 100%|██████████| 10000/10000 [08:40<00:00, 19.22it/s]\n",
      "Training ITE GAN: 100%|██████████| 10000/10000 [09:36<00:00, 17.36it/s]\n"
     ]
    },
    {
     "name": "stdout",
     "output_type": "stream",
     "text": [
      "Fit and evaluate DKLITE ...\n"
     ]
    },
    {
     "name": "stderr",
     "output_type": "stream",
     "text": [
      "  5%|▌         | 51/1000 [00:02<00:50, 18.98it/s]\n"
     ]
    },
    {
     "name": "stdout",
     "output_type": "stream",
     "text": [
      "Fit and evaluate diffpo ...\n"
     ]
    },
    {
     "name": "stderr",
     "output_type": "stream",
     "text": [
      "100%|██████████| 7/7 [00:00<00:00, 15.21it/s, avg_epoch_loss=0, epoch=0]\n",
      "100%|██████████| 7/7 [00:00<00:00, 15.97it/s, avg_epoch_loss=0, epoch=1]\n",
      "100%|██████████| 7/7 [00:00<00:00, 17.33it/s, avg_epoch_loss=0, epoch=2]\n",
      "100%|██████████| 7/7 [00:00<00:00, 17.35it/s, avg_epoch_loss=0, epoch=3]\n",
      "100%|██████████| 7/7 [00:00<00:00, 18.62it/s, avg_epoch_loss=0, epoch=4]\n",
      "100%|██████████| 7/7 [00:00<00:00, 17.73it/s, avg_epoch_loss=0, epoch=5]\n",
      "100%|██████████| 7/7 [00:00<00:00, 18.18it/s, avg_epoch_loss=0, epoch=6]\n",
      "100%|██████████| 7/7 [00:00<00:00, 18.45it/s, avg_epoch_loss=0, epoch=7]\n",
      "100%|██████████| 7/7 [00:00<00:00, 17.69it/s, avg_epoch_loss=0, epoch=8]\n",
      "100%|██████████| 7/7 [00:00<00:00, 17.12it/s, avg_epoch_loss=0, epoch=9]\n",
      "100%|██████████| 7/7 [00:00<00:00, 16.36it/s, avg_epoch_loss=0, epoch=10]\n",
      "100%|██████████| 7/7 [00:00<00:00, 16.62it/s, avg_epoch_loss=0, epoch=11]\n",
      "100%|██████████| 7/7 [00:00<00:00, 16.07it/s, avg_epoch_loss=0, epoch=12]\n",
      "100%|██████████| 7/7 [00:00<00:00, 15.34it/s, avg_epoch_loss=0, epoch=13]\n",
      "100%|██████████| 7/7 [00:00<00:00, 13.61it/s, avg_epoch_loss=0, epoch=14]\n",
      "100%|██████████| 7/7 [00:00<00:00, 14.92it/s, avg_epoch_loss=0, epoch=15]\n",
      "100%|██████████| 7/7 [00:00<00:00, 18.35it/s, avg_epoch_loss=0, epoch=16]\n",
      "100%|██████████| 7/7 [00:00<00:00, 16.68it/s, avg_epoch_loss=0, epoch=17]\n",
      "100%|██████████| 7/7 [00:00<00:00, 14.35it/s, avg_epoch_loss=0, epoch=18]\n",
      "100%|██████████| 7/7 [00:00<00:00, 17.59it/s, avg_epoch_loss=0, epoch=19]\n",
      "100%|██████████| 7/7 [00:00<00:00, 18.68it/s, avg_epoch_loss=0, epoch=20]\n",
      "100%|██████████| 7/7 [00:00<00:00, 17.42it/s, avg_epoch_loss=0, epoch=21]\n",
      "100%|██████████| 7/7 [00:00<00:00, 18.79it/s, avg_epoch_loss=0, epoch=22]\n",
      "100%|██████████| 7/7 [00:00<00:00, 18.93it/s, avg_epoch_loss=0, epoch=23]\n",
      "100%|██████████| 7/7 [00:00<00:00, 20.09it/s, avg_epoch_loss=0, epoch=24]\n",
      "100%|██████████| 7/7 [00:00<00:00, 19.98it/s, avg_epoch_loss=0, epoch=25]\n",
      "100%|██████████| 7/7 [00:00<00:00, 17.47it/s, avg_epoch_loss=0, epoch=26]\n",
      "100%|██████████| 7/7 [00:00<00:00, 16.86it/s, avg_epoch_loss=0, epoch=27]\n",
      "100%|██████████| 7/7 [00:00<00:00, 16.78it/s, avg_epoch_loss=0, epoch=28]\n",
      "100%|██████████| 7/7 [00:00<00:00, 16.42it/s, avg_epoch_loss=0, epoch=29]\n",
      "100%|██████████| 7/7 [00:00<00:00, 16.44it/s, avg_epoch_loss=0, epoch=30]\n",
      "100%|██████████| 7/7 [00:00<00:00, 15.37it/s, avg_epoch_loss=0, epoch=31]\n",
      "100%|██████████| 7/7 [00:00<00:00, 15.61it/s, avg_epoch_loss=0, epoch=32]\n",
      "100%|██████████| 7/7 [00:00<00:00, 15.21it/s, avg_epoch_loss=0, epoch=33]\n",
      "100%|██████████| 7/7 [00:00<00:00, 16.26it/s, avg_epoch_loss=0, epoch=34]\n",
      "100%|██████████| 7/7 [00:00<00:00, 17.71it/s, avg_epoch_loss=0, epoch=35]\n",
      "100%|██████████| 7/7 [00:00<00:00, 16.27it/s, avg_epoch_loss=0, epoch=36]\n",
      "100%|██████████| 7/7 [00:00<00:00, 16.47it/s, avg_epoch_loss=0, epoch=37]\n",
      "100%|██████████| 7/7 [00:00<00:00, 15.87it/s, avg_epoch_loss=0, epoch=38]\n",
      "100%|██████████| 7/7 [00:00<00:00, 16.60it/s, avg_epoch_loss=0, epoch=39]\n",
      "100%|██████████| 7/7 [00:00<00:00, 16.28it/s, avg_epoch_loss=0, epoch=40]\n",
      "100%|██████████| 7/7 [00:00<00:00, 17.07it/s, avg_epoch_loss=0, epoch=41]\n",
      "100%|██████████| 7/7 [00:00<00:00, 17.03it/s, avg_epoch_loss=0, epoch=42]\n",
      "100%|██████████| 7/7 [00:00<00:00, 16.15it/s, avg_epoch_loss=0, epoch=43]\n",
      "100%|██████████| 7/7 [00:00<00:00, 15.60it/s, avg_epoch_loss=0, epoch=44]\n",
      "100%|██████████| 7/7 [00:00<00:00, 16.32it/s, avg_epoch_loss=0, epoch=45]\n",
      "100%|██████████| 7/7 [00:00<00:00, 17.17it/s, avg_epoch_loss=0, epoch=46]\n",
      "100%|██████████| 7/7 [00:00<00:00, 15.58it/s, avg_epoch_loss=0, epoch=47]\n",
      "100%|██████████| 7/7 [00:00<00:00, 16.57it/s, avg_epoch_loss=0, epoch=48]\n",
      "100%|██████████| 7/7 [00:00<00:00, 18.01it/s, avg_epoch_loss=0, epoch=49]\n"
     ]
    },
    {
     "name": "stdout",
     "output_type": "stream",
     "text": [
      "Start validation!!!\n",
      "Epoch: 49\n"
     ]
    },
    {
     "name": "stderr",
     "output_type": "stream",
     "text": [
      "100%|██████████| 2/2 [00:56<00:00, 28.13s/it]\n"
     ]
    },
    {
     "name": "stdout",
     "output_type": "stream",
     "text": [
      "====================================\n",
      "##### End evaluation!!\n",
      "PEHE VAL = 8.1e+03\n"
     ]
    },
    {
     "name": "stderr",
     "output_type": "stream",
     "text": [
      "100%|██████████| 7/7 [00:00<00:00, 14.81it/s, avg_epoch_loss=0, epoch=50]\n",
      "100%|██████████| 7/7 [00:00<00:00, 18.04it/s, avg_epoch_loss=0, epoch=51]\n",
      "100%|██████████| 7/7 [00:00<00:00, 18.53it/s, avg_epoch_loss=0, epoch=52]\n",
      "100%|██████████| 7/7 [00:00<00:00, 16.06it/s, avg_epoch_loss=0, epoch=53]\n",
      "100%|██████████| 7/7 [00:00<00:00, 18.54it/s, avg_epoch_loss=0, epoch=54]\n",
      "100%|██████████| 7/7 [00:00<00:00, 17.36it/s, avg_epoch_loss=0, epoch=55]\n",
      "100%|██████████| 7/7 [00:00<00:00, 18.28it/s, avg_epoch_loss=0, epoch=56]\n",
      "100%|██████████| 7/7 [00:00<00:00, 18.39it/s, avg_epoch_loss=0, epoch=57]\n",
      "100%|██████████| 7/7 [00:00<00:00, 18.76it/s, avg_epoch_loss=0, epoch=58]\n",
      "100%|██████████| 7/7 [00:00<00:00, 18.78it/s, avg_epoch_loss=0, epoch=59]\n",
      "100%|██████████| 7/7 [00:00<00:00, 18.75it/s, avg_epoch_loss=0, epoch=60]\n",
      "100%|██████████| 7/7 [00:00<00:00, 17.27it/s, avg_epoch_loss=0, epoch=61]\n",
      "100%|██████████| 7/7 [00:00<00:00, 17.20it/s, avg_epoch_loss=0, epoch=62]\n",
      "100%|██████████| 7/7 [00:00<00:00, 16.08it/s, avg_epoch_loss=0, epoch=63]\n",
      "100%|██████████| 7/7 [00:00<00:00, 17.07it/s, avg_epoch_loss=0, epoch=64]\n",
      "100%|██████████| 7/7 [00:00<00:00, 18.45it/s, avg_epoch_loss=0, epoch=65]\n",
      "100%|██████████| 7/7 [00:00<00:00, 17.89it/s, avg_epoch_loss=0, epoch=66]\n",
      "100%|██████████| 7/7 [00:00<00:00, 19.28it/s, avg_epoch_loss=0, epoch=67]\n",
      "100%|██████████| 7/7 [00:00<00:00, 19.04it/s, avg_epoch_loss=0, epoch=68]\n",
      "100%|██████████| 7/7 [00:00<00:00, 18.94it/s, avg_epoch_loss=0, epoch=69]\n",
      "100%|██████████| 7/7 [00:00<00:00, 18.25it/s, avg_epoch_loss=0, epoch=70]\n",
      "100%|██████████| 7/7 [00:00<00:00, 17.97it/s, avg_epoch_loss=0, epoch=71]\n",
      "100%|██████████| 7/7 [00:00<00:00, 16.03it/s, avg_epoch_loss=0, epoch=72]\n",
      "100%|██████████| 7/7 [00:00<00:00, 16.14it/s, avg_epoch_loss=0, epoch=73]\n",
      "100%|██████████| 7/7 [00:00<00:00, 14.07it/s, avg_epoch_loss=0, epoch=74]\n",
      "100%|██████████| 7/7 [00:00<00:00, 16.36it/s, avg_epoch_loss=0, epoch=75]\n",
      "100%|██████████| 7/7 [00:00<00:00, 18.10it/s, avg_epoch_loss=0, epoch=76]\n",
      "100%|██████████| 7/7 [00:00<00:00, 17.80it/s, avg_epoch_loss=0, epoch=77]\n",
      "100%|██████████| 7/7 [00:00<00:00, 16.50it/s, avg_epoch_loss=0, epoch=78]\n",
      "100%|██████████| 7/7 [00:00<00:00, 15.58it/s, avg_epoch_loss=0, epoch=79]\n",
      "100%|██████████| 7/7 [00:00<00:00, 18.06it/s, avg_epoch_loss=0, epoch=80]\n",
      "100%|██████████| 7/7 [00:00<00:00, 17.97it/s, avg_epoch_loss=0, epoch=81]\n",
      "100%|██████████| 7/7 [00:00<00:00, 17.01it/s, avg_epoch_loss=0, epoch=82]\n",
      "100%|██████████| 7/7 [00:00<00:00, 16.10it/s, avg_epoch_loss=0, epoch=83]\n",
      "100%|██████████| 7/7 [00:00<00:00, 14.41it/s, avg_epoch_loss=0, epoch=84]\n",
      "100%|██████████| 7/7 [00:00<00:00, 17.03it/s, avg_epoch_loss=0, epoch=85]\n",
      "100%|██████████| 7/7 [00:00<00:00, 15.90it/s, avg_epoch_loss=0, epoch=86]\n",
      "100%|██████████| 7/7 [00:00<00:00, 15.51it/s, avg_epoch_loss=0, epoch=87]\n",
      "100%|██████████| 7/7 [00:00<00:00, 16.26it/s, avg_epoch_loss=0, epoch=88]\n",
      "100%|██████████| 7/7 [00:00<00:00, 20.00it/s, avg_epoch_loss=0, epoch=89]\n",
      "100%|██████████| 7/7 [00:00<00:00, 19.75it/s, avg_epoch_loss=0, epoch=90]\n",
      "100%|██████████| 7/7 [00:00<00:00, 19.25it/s, avg_epoch_loss=0, epoch=91]\n",
      "100%|██████████| 7/7 [00:00<00:00, 17.12it/s, avg_epoch_loss=0, epoch=92]\n",
      "100%|██████████| 7/7 [00:00<00:00, 18.38it/s, avg_epoch_loss=0, epoch=93]\n",
      "100%|██████████| 7/7 [00:00<00:00, 16.64it/s, avg_epoch_loss=0, epoch=94]\n",
      "100%|██████████| 7/7 [00:00<00:00, 16.11it/s, avg_epoch_loss=0, epoch=95]\n",
      "100%|██████████| 7/7 [00:00<00:00, 17.42it/s, avg_epoch_loss=0, epoch=96]\n",
      "100%|██████████| 7/7 [00:00<00:00, 17.54it/s, avg_epoch_loss=0, epoch=97]\n",
      "100%|██████████| 7/7 [00:00<00:00, 16.72it/s, avg_epoch_loss=0, epoch=98]\n",
      "100%|██████████| 7/7 [00:00<00:00, 17.53it/s, avg_epoch_loss=0, epoch=99]\n"
     ]
    },
    {
     "name": "stdout",
     "output_type": "stream",
     "text": [
      "Start validation!!!\n",
      "Epoch: 99\n"
     ]
    },
    {
     "name": "stderr",
     "output_type": "stream",
     "text": [
      "100%|██████████| 2/2 [00:55<00:00, 27.82s/it]\n"
     ]
    },
    {
     "name": "stdout",
     "output_type": "stream",
     "text": [
      "====================================\n",
      "##### End evaluation!!\n",
      "PEHE VAL = 8.29e+03\n"
     ]
    },
    {
     "name": "stderr",
     "output_type": "stream",
     "text": [
      "100%|██████████| 7/7 [00:00<00:00, 18.38it/s, avg_epoch_loss=0, epoch=100]\n",
      "100%|██████████| 7/7 [00:00<00:00, 18.66it/s, avg_epoch_loss=0, epoch=101]\n",
      "100%|██████████| 7/7 [00:00<00:00, 19.00it/s, avg_epoch_loss=0, epoch=102]\n",
      "100%|██████████| 7/7 [00:00<00:00, 20.12it/s, avg_epoch_loss=0, epoch=103]\n",
      "100%|██████████| 7/7 [00:00<00:00, 18.57it/s, avg_epoch_loss=0, epoch=104]\n",
      "100%|██████████| 7/7 [00:00<00:00, 17.58it/s, avg_epoch_loss=0, epoch=105]\n",
      "100%|██████████| 7/7 [00:00<00:00, 17.27it/s, avg_epoch_loss=0, epoch=106]\n",
      "100%|██████████| 7/7 [00:00<00:00, 17.95it/s, avg_epoch_loss=0, epoch=107]\n",
      "100%|██████████| 7/7 [00:00<00:00, 18.06it/s, avg_epoch_loss=0, epoch=108]\n",
      "100%|██████████| 7/7 [00:00<00:00, 18.28it/s, avg_epoch_loss=0, epoch=109]\n",
      "100%|██████████| 7/7 [00:00<00:00, 18.06it/s, avg_epoch_loss=0, epoch=110]\n",
      "100%|██████████| 7/7 [00:00<00:00, 15.22it/s, avg_epoch_loss=0, epoch=111]\n",
      "100%|██████████| 7/7 [00:00<00:00, 16.38it/s, avg_epoch_loss=0, epoch=112]\n",
      "100%|██████████| 7/7 [00:00<00:00, 19.15it/s, avg_epoch_loss=0, epoch=113]\n",
      "100%|██████████| 7/7 [00:00<00:00, 17.86it/s, avg_epoch_loss=0, epoch=114]\n",
      "100%|██████████| 7/7 [00:00<00:00, 16.97it/s, avg_epoch_loss=0, epoch=115]\n",
      "100%|██████████| 7/7 [00:00<00:00, 16.90it/s, avg_epoch_loss=0, epoch=116]\n",
      "100%|██████████| 7/7 [00:00<00:00, 14.85it/s, avg_epoch_loss=0, epoch=117]\n",
      "100%|██████████| 7/7 [00:00<00:00, 18.50it/s, avg_epoch_loss=0, epoch=118]\n",
      "100%|██████████| 7/7 [00:00<00:00, 19.22it/s, avg_epoch_loss=0, epoch=119]\n",
      "100%|██████████| 7/7 [00:00<00:00, 17.44it/s, avg_epoch_loss=0, epoch=120]\n",
      "100%|██████████| 7/7 [00:00<00:00, 18.55it/s, avg_epoch_loss=0, epoch=121]\n",
      "100%|██████████| 7/7 [00:00<00:00, 18.67it/s, avg_epoch_loss=0, epoch=122]\n",
      "100%|██████████| 7/7 [00:00<00:00, 18.65it/s, avg_epoch_loss=0, epoch=123]\n",
      "100%|██████████| 7/7 [00:00<00:00, 17.97it/s, avg_epoch_loss=0, epoch=124]\n",
      "100%|██████████| 7/7 [00:00<00:00, 14.65it/s, avg_epoch_loss=0, epoch=125]\n",
      "100%|██████████| 7/7 [00:00<00:00, 17.87it/s, avg_epoch_loss=0, epoch=126]\n",
      "100%|██████████| 7/7 [00:00<00:00, 18.48it/s, avg_epoch_loss=0, epoch=127]\n",
      "100%|██████████| 7/7 [00:00<00:00, 18.30it/s, avg_epoch_loss=0, epoch=128]\n",
      "100%|██████████| 7/7 [00:00<00:00, 18.48it/s, avg_epoch_loss=0, epoch=129]\n",
      "100%|██████████| 7/7 [00:00<00:00, 18.71it/s, avg_epoch_loss=0, epoch=130]\n",
      "100%|██████████| 7/7 [00:00<00:00, 17.24it/s, avg_epoch_loss=0, epoch=131]\n",
      "100%|██████████| 7/7 [00:00<00:00, 19.15it/s, avg_epoch_loss=0, epoch=132]\n",
      "100%|██████████| 7/7 [00:00<00:00, 17.33it/s, avg_epoch_loss=0, epoch=133]\n",
      "100%|██████████| 7/7 [00:00<00:00, 16.74it/s, avg_epoch_loss=0, epoch=134]\n",
      "100%|██████████| 7/7 [00:00<00:00, 17.30it/s, avg_epoch_loss=0, epoch=135]\n",
      "100%|██████████| 7/7 [00:00<00:00, 16.68it/s, avg_epoch_loss=0, epoch=136]\n",
      "100%|██████████| 7/7 [00:00<00:00, 16.68it/s, avg_epoch_loss=0, epoch=137]\n",
      "100%|██████████| 7/7 [00:00<00:00, 15.88it/s, avg_epoch_loss=0, epoch=138]\n",
      "100%|██████████| 7/7 [00:00<00:00, 18.99it/s, avg_epoch_loss=0, epoch=139]\n",
      "100%|██████████| 7/7 [00:00<00:00, 19.08it/s, avg_epoch_loss=0, epoch=140]\n",
      "100%|██████████| 7/7 [00:00<00:00, 18.70it/s, avg_epoch_loss=0, epoch=141]\n",
      "100%|██████████| 7/7 [00:00<00:00, 19.09it/s, avg_epoch_loss=0, epoch=142]\n",
      "100%|██████████| 7/7 [00:00<00:00, 18.76it/s, avg_epoch_loss=0, epoch=143]\n",
      "100%|██████████| 7/7 [00:00<00:00, 18.12it/s, avg_epoch_loss=0, epoch=144]\n",
      "100%|██████████| 7/7 [00:00<00:00, 18.96it/s, avg_epoch_loss=0, epoch=145]\n",
      "100%|██████████| 7/7 [00:00<00:00, 18.25it/s, avg_epoch_loss=0, epoch=146]\n",
      "100%|██████████| 7/7 [00:00<00:00, 14.27it/s, avg_epoch_loss=0, epoch=147]\n",
      "100%|██████████| 7/7 [00:00<00:00, 16.45it/s, avg_epoch_loss=0, epoch=148]\n",
      "100%|██████████| 7/7 [00:00<00:00, 14.98it/s, avg_epoch_loss=0, epoch=149]\n"
     ]
    },
    {
     "name": "stdout",
     "output_type": "stream",
     "text": [
      "Start validation!!!\n",
      "Epoch: 149\n"
     ]
    },
    {
     "name": "stderr",
     "output_type": "stream",
     "text": [
      "100%|██████████| 2/2 [00:55<00:00, 27.97s/it]\n"
     ]
    },
    {
     "name": "stdout",
     "output_type": "stream",
     "text": [
      "====================================\n",
      "##### End evaluation!!\n",
      "PEHE VAL = 8.48e+03\n"
     ]
    },
    {
     "name": "stderr",
     "output_type": "stream",
     "text": [
      "100%|██████████| 7/7 [00:00<00:00, 17.93it/s, avg_epoch_loss=0, epoch=150]\n",
      "100%|██████████| 7/7 [00:00<00:00, 17.82it/s, avg_epoch_loss=0, epoch=151]\n",
      "100%|██████████| 7/7 [00:00<00:00, 16.25it/s, avg_epoch_loss=0, epoch=152]\n",
      "100%|██████████| 7/7 [00:00<00:00, 16.15it/s, avg_epoch_loss=0, epoch=153]\n",
      "100%|██████████| 7/7 [00:00<00:00, 16.29it/s, avg_epoch_loss=0, epoch=154]\n",
      "100%|██████████| 7/7 [00:00<00:00, 15.99it/s, avg_epoch_loss=0, epoch=155]\n",
      "100%|██████████| 7/7 [00:00<00:00, 16.07it/s, avg_epoch_loss=0, epoch=156]\n",
      "100%|██████████| 7/7 [00:00<00:00, 18.83it/s, avg_epoch_loss=0, epoch=157]\n",
      "100%|██████████| 7/7 [00:00<00:00, 17.27it/s, avg_epoch_loss=0, epoch=158]\n",
      "100%|██████████| 7/7 [00:00<00:00, 18.14it/s, avg_epoch_loss=0, epoch=159]\n",
      "100%|██████████| 7/7 [00:00<00:00, 17.60it/s, avg_epoch_loss=0, epoch=160]\n",
      "100%|██████████| 7/7 [00:00<00:00, 17.74it/s, avg_epoch_loss=0, epoch=161]\n",
      "100%|██████████| 7/7 [00:00<00:00, 18.28it/s, avg_epoch_loss=0, epoch=162]\n",
      "100%|██████████| 7/7 [00:00<00:00, 14.02it/s, avg_epoch_loss=0, epoch=163]\n",
      "100%|██████████| 7/7 [00:00<00:00, 15.15it/s, avg_epoch_loss=0, epoch=164]\n",
      "100%|██████████| 7/7 [00:00<00:00, 14.53it/s, avg_epoch_loss=0, epoch=165]\n",
      "100%|██████████| 7/7 [00:00<00:00, 19.38it/s, avg_epoch_loss=0, epoch=166]\n",
      "100%|██████████| 7/7 [00:00<00:00, 19.83it/s, avg_epoch_loss=0, epoch=167]\n",
      "100%|██████████| 7/7 [00:00<00:00, 20.08it/s, avg_epoch_loss=0, epoch=168]\n",
      "100%|██████████| 7/7 [00:00<00:00, 20.00it/s, avg_epoch_loss=0, epoch=169]\n",
      "100%|██████████| 7/7 [00:00<00:00, 18.36it/s, avg_epoch_loss=0, epoch=170]\n",
      "100%|██████████| 7/7 [00:00<00:00, 15.34it/s, avg_epoch_loss=0, epoch=171]\n",
      "100%|██████████| 7/7 [00:00<00:00, 17.19it/s, avg_epoch_loss=0, epoch=172]\n",
      "100%|██████████| 7/7 [00:00<00:00, 19.90it/s, avg_epoch_loss=0, epoch=173]\n",
      "100%|██████████| 7/7 [00:00<00:00, 20.80it/s, avg_epoch_loss=0, epoch=174]\n",
      "100%|██████████| 7/7 [00:00<00:00, 14.64it/s, avg_epoch_loss=0, epoch=175]\n",
      "100%|██████████| 7/7 [00:00<00:00, 15.31it/s, avg_epoch_loss=0, epoch=176]\n",
      "100%|██████████| 7/7 [00:00<00:00, 16.67it/s, avg_epoch_loss=0, epoch=177]\n",
      "100%|██████████| 7/7 [00:00<00:00, 19.16it/s, avg_epoch_loss=0, epoch=178]\n",
      "100%|██████████| 7/7 [00:00<00:00, 20.46it/s, avg_epoch_loss=0, epoch=179]\n",
      "100%|██████████| 7/7 [00:00<00:00, 20.54it/s, avg_epoch_loss=0, epoch=180]\n",
      "100%|██████████| 7/7 [00:00<00:00, 20.20it/s, avg_epoch_loss=0, epoch=181]\n",
      "100%|██████████| 7/7 [00:00<00:00, 19.85it/s, avg_epoch_loss=0, epoch=182]\n",
      "100%|██████████| 7/7 [00:00<00:00, 16.35it/s, avg_epoch_loss=0, epoch=183]\n",
      "100%|██████████| 7/7 [00:00<00:00, 17.49it/s, avg_epoch_loss=0, epoch=184]\n",
      "100%|██████████| 7/7 [00:00<00:00, 18.82it/s, avg_epoch_loss=0, epoch=185]\n",
      "100%|██████████| 7/7 [00:00<00:00, 18.84it/s, avg_epoch_loss=0, epoch=186]\n",
      "100%|██████████| 7/7 [00:00<00:00, 18.54it/s, avg_epoch_loss=0, epoch=187]\n",
      "100%|██████████| 7/7 [00:00<00:00, 15.78it/s, avg_epoch_loss=0, epoch=188]\n",
      "100%|██████████| 7/7 [00:00<00:00, 20.23it/s, avg_epoch_loss=0, epoch=189]\n",
      "100%|██████████| 7/7 [00:00<00:00, 19.54it/s, avg_epoch_loss=0, epoch=190]\n",
      "100%|██████████| 7/7 [00:00<00:00, 19.48it/s, avg_epoch_loss=0, epoch=191]\n",
      "100%|██████████| 7/7 [00:00<00:00, 20.14it/s, avg_epoch_loss=0, epoch=192]\n",
      "100%|██████████| 7/7 [00:00<00:00, 19.37it/s, avg_epoch_loss=0, epoch=193]\n",
      "100%|██████████| 7/7 [00:00<00:00, 18.98it/s, avg_epoch_loss=0, epoch=194]\n",
      "100%|██████████| 7/7 [00:00<00:00, 17.61it/s, avg_epoch_loss=0, epoch=195]\n",
      "100%|██████████| 7/7 [00:00<00:00, 16.76it/s, avg_epoch_loss=0, epoch=196]\n",
      "100%|██████████| 7/7 [00:00<00:00, 17.16it/s, avg_epoch_loss=0, epoch=197]\n",
      "100%|██████████| 7/7 [00:00<00:00, 18.74it/s, avg_epoch_loss=0, epoch=198]\n",
      "100%|██████████| 7/7 [00:00<00:00, 18.10it/s, avg_epoch_loss=0, epoch=199]\n"
     ]
    },
    {
     "name": "stdout",
     "output_type": "stream",
     "text": [
      "Start validation!!!\n",
      "Epoch: 199\n"
     ]
    },
    {
     "name": "stderr",
     "output_type": "stream",
     "text": [
      "100%|██████████| 2/2 [00:55<00:00, 27.67s/it]\n"
     ]
    },
    {
     "name": "stdout",
     "output_type": "stream",
     "text": [
      "====================================\n",
      "##### End evaluation!!\n",
      "PEHE VAL = 8.64e+03\n"
     ]
    },
    {
     "name": "stderr",
     "output_type": "stream",
     "text": [
      "100%|██████████| 7/7 [00:00<00:00, 19.34it/s, avg_epoch_loss=0, epoch=200]\n",
      "100%|██████████| 7/7 [00:00<00:00, 17.30it/s, avg_epoch_loss=0, epoch=201]\n",
      "100%|██████████| 7/7 [00:00<00:00, 18.23it/s, avg_epoch_loss=0, epoch=202]\n",
      "100%|██████████| 7/7 [00:00<00:00, 13.75it/s, avg_epoch_loss=0, epoch=203]\n",
      "100%|██████████| 7/7 [00:00<00:00, 16.10it/s, avg_epoch_loss=0, epoch=204]\n",
      "100%|██████████| 7/7 [00:00<00:00, 15.46it/s, avg_epoch_loss=0, epoch=205]\n",
      "100%|██████████| 7/7 [00:00<00:00, 18.66it/s, avg_epoch_loss=0, epoch=206]\n",
      "100%|██████████| 7/7 [00:00<00:00, 17.75it/s, avg_epoch_loss=0, epoch=207]\n",
      "100%|██████████| 7/7 [00:00<00:00, 16.92it/s, avg_epoch_loss=0, epoch=208]\n",
      "100%|██████████| 7/7 [00:00<00:00, 16.06it/s, avg_epoch_loss=0, epoch=209]\n",
      "100%|██████████| 7/7 [00:00<00:00, 19.00it/s, avg_epoch_loss=0, epoch=210]\n",
      "100%|██████████| 7/7 [00:00<00:00, 18.96it/s, avg_epoch_loss=0, epoch=211]\n",
      "100%|██████████| 7/7 [00:00<00:00, 18.18it/s, avg_epoch_loss=0, epoch=212]\n",
      "100%|██████████| 7/7 [00:00<00:00, 18.40it/s, avg_epoch_loss=0, epoch=213]\n",
      "100%|██████████| 7/7 [00:00<00:00, 18.28it/s, avg_epoch_loss=0, epoch=214]\n",
      "100%|██████████| 7/7 [00:00<00:00, 18.07it/s, avg_epoch_loss=0, epoch=215]\n",
      "100%|██████████| 7/7 [00:00<00:00, 17.75it/s, avg_epoch_loss=0, epoch=216]\n",
      "100%|██████████| 7/7 [00:00<00:00, 18.00it/s, avg_epoch_loss=0, epoch=217]\n",
      "100%|██████████| 7/7 [00:00<00:00, 18.24it/s, avg_epoch_loss=0, epoch=218]\n",
      "100%|██████████| 7/7 [00:00<00:00, 18.60it/s, avg_epoch_loss=0, epoch=219]\n",
      "100%|██████████| 7/7 [00:00<00:00, 19.50it/s, avg_epoch_loss=0, epoch=220]\n",
      "100%|██████████| 7/7 [00:00<00:00, 18.42it/s, avg_epoch_loss=0, epoch=221]\n",
      "100%|██████████| 7/7 [00:00<00:00, 16.60it/s, avg_epoch_loss=0, epoch=222]\n",
      "100%|██████████| 7/7 [00:00<00:00, 17.72it/s, avg_epoch_loss=0, epoch=223]\n",
      "100%|██████████| 7/7 [00:00<00:00, 16.35it/s, avg_epoch_loss=0, epoch=224]\n",
      "100%|██████████| 7/7 [00:00<00:00, 18.80it/s, avg_epoch_loss=0, epoch=225]\n",
      "100%|██████████| 7/7 [00:00<00:00, 13.55it/s, avg_epoch_loss=0, epoch=226]\n",
      "100%|██████████| 7/7 [00:00<00:00, 17.25it/s, avg_epoch_loss=0, epoch=227]\n",
      "100%|██████████| 7/7 [00:00<00:00, 18.83it/s, avg_epoch_loss=0, epoch=228]\n",
      "100%|██████████| 7/7 [00:00<00:00, 15.04it/s, avg_epoch_loss=0, epoch=229]\n",
      "100%|██████████| 7/7 [00:00<00:00, 18.32it/s, avg_epoch_loss=0, epoch=230]\n",
      "100%|██████████| 7/7 [00:00<00:00, 17.83it/s, avg_epoch_loss=0, epoch=231]\n",
      "100%|██████████| 7/7 [00:00<00:00, 17.76it/s, avg_epoch_loss=0, epoch=232]\n",
      "100%|██████████| 7/7 [00:00<00:00, 19.37it/s, avg_epoch_loss=0, epoch=233]\n",
      "100%|██████████| 7/7 [00:00<00:00, 17.98it/s, avg_epoch_loss=0, epoch=234]\n",
      "100%|██████████| 7/7 [00:00<00:00, 19.89it/s, avg_epoch_loss=0, epoch=235]\n",
      "100%|██████████| 7/7 [00:00<00:00, 19.99it/s, avg_epoch_loss=0, epoch=236]\n",
      "100%|██████████| 7/7 [00:00<00:00, 17.80it/s, avg_epoch_loss=0, epoch=237]\n",
      "100%|██████████| 7/7 [00:00<00:00, 16.38it/s, avg_epoch_loss=0, epoch=238]\n",
      "100%|██████████| 7/7 [00:00<00:00, 17.92it/s, avg_epoch_loss=0, epoch=239]\n",
      "100%|██████████| 7/7 [00:00<00:00, 18.65it/s, avg_epoch_loss=0, epoch=240]\n",
      "100%|██████████| 7/7 [00:00<00:00, 18.34it/s, avg_epoch_loss=0, epoch=241]\n",
      "100%|██████████| 7/7 [00:00<00:00, 18.12it/s, avg_epoch_loss=0, epoch=242]\n",
      "100%|██████████| 7/7 [00:00<00:00, 17.96it/s, avg_epoch_loss=0, epoch=243]\n",
      "100%|██████████| 7/7 [00:00<00:00, 16.61it/s, avg_epoch_loss=0, epoch=244]\n",
      "100%|██████████| 7/7 [00:00<00:00, 17.13it/s, avg_epoch_loss=0, epoch=245]\n",
      "100%|██████████| 7/7 [00:00<00:00, 18.02it/s, avg_epoch_loss=0, epoch=246]\n",
      "100%|██████████| 7/7 [00:00<00:00, 12.75it/s, avg_epoch_loss=0, epoch=247]\n",
      "100%|██████████| 7/7 [00:00<00:00, 13.82it/s, avg_epoch_loss=0, epoch=248]\n",
      "100%|██████████| 7/7 [00:00<00:00, 11.61it/s, avg_epoch_loss=0, epoch=249]\n"
     ]
    },
    {
     "name": "stdout",
     "output_type": "stream",
     "text": [
      "Start validation!!!\n",
      "Epoch: 249\n"
     ]
    },
    {
     "name": "stderr",
     "output_type": "stream",
     "text": [
      "100%|██████████| 2/2 [00:55<00:00, 27.89s/it]\n"
     ]
    },
    {
     "name": "stdout",
     "output_type": "stream",
     "text": [
      "====================================\n",
      "##### End evaluation!!\n",
      "PEHE VAL = 8.31e+03\n"
     ]
    },
    {
     "name": "stderr",
     "output_type": "stream",
     "text": [
      "100%|██████████| 7/7 [00:00<00:00, 18.41it/s, avg_epoch_loss=0, epoch=250]\n",
      "100%|██████████| 7/7 [00:00<00:00, 15.13it/s, avg_epoch_loss=0, epoch=251]\n",
      "100%|██████████| 7/7 [00:00<00:00, 17.61it/s, avg_epoch_loss=0, epoch=252]\n",
      "100%|██████████| 7/7 [00:00<00:00, 17.96it/s, avg_epoch_loss=0, epoch=253]\n",
      "100%|██████████| 7/7 [00:00<00:00, 17.63it/s, avg_epoch_loss=0, epoch=254]\n",
      "100%|██████████| 7/7 [00:00<00:00, 18.05it/s, avg_epoch_loss=0, epoch=255]\n",
      "100%|██████████| 7/7 [00:00<00:00, 15.31it/s, avg_epoch_loss=0, epoch=256]\n",
      "100%|██████████| 7/7 [00:00<00:00, 17.53it/s, avg_epoch_loss=0, epoch=257]\n",
      "100%|██████████| 7/7 [00:00<00:00, 18.45it/s, avg_epoch_loss=0, epoch=258]\n",
      "100%|██████████| 7/7 [00:00<00:00, 19.11it/s, avg_epoch_loss=0, epoch=259]\n",
      "100%|██████████| 7/7 [00:00<00:00, 19.00it/s, avg_epoch_loss=0, epoch=260]\n",
      "100%|██████████| 7/7 [00:00<00:00, 20.02it/s, avg_epoch_loss=0, epoch=261]\n",
      "100%|██████████| 7/7 [00:00<00:00, 18.69it/s, avg_epoch_loss=0, epoch=262]\n",
      "100%|██████████| 7/7 [00:00<00:00, 18.00it/s, avg_epoch_loss=0, epoch=263]\n",
      "100%|██████████| 7/7 [00:00<00:00, 18.44it/s, avg_epoch_loss=0, epoch=264]\n",
      "100%|██████████| 7/7 [00:00<00:00, 18.60it/s, avg_epoch_loss=0, epoch=265]\n",
      "100%|██████████| 7/7 [00:00<00:00, 19.67it/s, avg_epoch_loss=0, epoch=266]\n",
      "100%|██████████| 7/7 [00:00<00:00, 19.06it/s, avg_epoch_loss=0, epoch=267]\n",
      "100%|██████████| 7/7 [00:00<00:00, 18.73it/s, avg_epoch_loss=0, epoch=268]\n",
      "100%|██████████| 7/7 [00:00<00:00, 18.03it/s, avg_epoch_loss=0, epoch=269]\n",
      "100%|██████████| 7/7 [00:00<00:00, 18.72it/s, avg_epoch_loss=0, epoch=270]\n",
      "100%|██████████| 7/7 [00:00<00:00, 18.38it/s, avg_epoch_loss=0, epoch=271]\n",
      "100%|██████████| 7/7 [00:00<00:00, 18.56it/s, avg_epoch_loss=0, epoch=272]\n",
      "100%|██████████| 7/7 [00:00<00:00, 19.02it/s, avg_epoch_loss=0, epoch=273]\n",
      "100%|██████████| 7/7 [00:00<00:00, 20.42it/s, avg_epoch_loss=0, epoch=274]\n",
      "100%|██████████| 7/7 [00:00<00:00, 20.23it/s, avg_epoch_loss=0, epoch=275]\n",
      "100%|██████████| 7/7 [00:00<00:00, 19.96it/s, avg_epoch_loss=0, epoch=276]\n",
      "100%|██████████| 7/7 [00:00<00:00, 17.41it/s, avg_epoch_loss=0, epoch=277]\n",
      "100%|██████████| 7/7 [00:00<00:00, 17.64it/s, avg_epoch_loss=0, epoch=278]\n",
      "100%|██████████| 7/7 [00:00<00:00, 17.41it/s, avg_epoch_loss=0, epoch=279]\n",
      "100%|██████████| 7/7 [00:00<00:00, 17.61it/s, avg_epoch_loss=0, epoch=280]\n",
      "100%|██████████| 7/7 [00:00<00:00, 18.65it/s, avg_epoch_loss=0, epoch=281]\n",
      "100%|██████████| 7/7 [00:00<00:00, 18.33it/s, avg_epoch_loss=0, epoch=282]\n",
      "100%|██████████| 7/7 [00:00<00:00, 18.29it/s, avg_epoch_loss=0, epoch=283]\n",
      "100%|██████████| 7/7 [00:00<00:00, 18.71it/s, avg_epoch_loss=0, epoch=284]\n",
      "100%|██████████| 7/7 [00:00<00:00, 17.71it/s, avg_epoch_loss=0, epoch=285]\n",
      "100%|██████████| 7/7 [00:00<00:00, 10.60it/s, avg_epoch_loss=0, epoch=286]\n",
      "100%|██████████| 7/7 [00:00<00:00, 14.13it/s, avg_epoch_loss=0, epoch=287]\n",
      "100%|██████████| 7/7 [00:00<00:00,  9.98it/s, avg_epoch_loss=0, epoch=288]\n",
      "100%|██████████| 7/7 [00:00<00:00, 17.40it/s, avg_epoch_loss=0, epoch=289]\n",
      "100%|██████████| 7/7 [00:00<00:00, 17.20it/s, avg_epoch_loss=0, epoch=290]\n",
      "100%|██████████| 7/7 [00:00<00:00, 17.19it/s, avg_epoch_loss=0, epoch=291]\n",
      "100%|██████████| 7/7 [00:00<00:00, 16.90it/s, avg_epoch_loss=0, epoch=292]\n",
      "100%|██████████| 7/7 [00:00<00:00, 12.61it/s, avg_epoch_loss=0, epoch=293]\n",
      "100%|██████████| 7/7 [00:00<00:00, 15.59it/s, avg_epoch_loss=0, epoch=294]\n",
      "100%|██████████| 7/7 [00:00<00:00, 19.26it/s, avg_epoch_loss=0, epoch=295]\n",
      "100%|██████████| 7/7 [00:00<00:00, 17.46it/s, avg_epoch_loss=0, epoch=296]\n",
      "100%|██████████| 7/7 [00:00<00:00, 17.24it/s, avg_epoch_loss=0, epoch=297]\n",
      "100%|██████████| 7/7 [00:00<00:00, 16.98it/s, avg_epoch_loss=0, epoch=298]\n",
      "100%|██████████| 7/7 [00:00<00:00, 16.55it/s, avg_epoch_loss=0, epoch=299]\n"
     ]
    },
    {
     "name": "stdout",
     "output_type": "stream",
     "text": [
      "Start validation!!!\n",
      "Epoch: 299\n"
     ]
    },
    {
     "name": "stderr",
     "output_type": "stream",
     "text": [
      "100%|██████████| 2/2 [00:57<00:00, 28.61s/it]\n"
     ]
    },
    {
     "name": "stdout",
     "output_type": "stream",
     "text": [
      "====================================\n",
      "##### End evaluation!!\n",
      "PEHE VAL = 8.37e+03\n"
     ]
    },
    {
     "name": "stderr",
     "output_type": "stream",
     "text": [
      "100%|██████████| 7/7 [00:00<00:00, 18.24it/s, avg_epoch_loss=0, epoch=300]\n",
      "100%|██████████| 7/7 [00:00<00:00, 18.59it/s, avg_epoch_loss=0, epoch=301]\n",
      "100%|██████████| 7/7 [00:00<00:00, 18.82it/s, avg_epoch_loss=0, epoch=302]\n",
      "100%|██████████| 7/7 [00:00<00:00, 18.63it/s, avg_epoch_loss=0, epoch=303]\n",
      "100%|██████████| 7/7 [00:00<00:00, 20.22it/s, avg_epoch_loss=0, epoch=304]\n",
      "100%|██████████| 7/7 [00:00<00:00, 16.77it/s, avg_epoch_loss=0, epoch=305]\n",
      "100%|██████████| 7/7 [00:00<00:00, 14.04it/s, avg_epoch_loss=0, epoch=306]\n",
      "100%|██████████| 7/7 [00:00<00:00, 18.73it/s, avg_epoch_loss=0, epoch=307]\n",
      "100%|██████████| 7/7 [00:00<00:00, 18.29it/s, avg_epoch_loss=0, epoch=308]\n",
      "100%|██████████| 7/7 [00:00<00:00, 17.66it/s, avg_epoch_loss=0, epoch=309]\n",
      "100%|██████████| 7/7 [00:00<00:00, 18.18it/s, avg_epoch_loss=0, epoch=310]\n",
      "100%|██████████| 7/7 [00:00<00:00, 18.34it/s, avg_epoch_loss=0, epoch=311]\n",
      "100%|██████████| 7/7 [00:00<00:00, 17.65it/s, avg_epoch_loss=0, epoch=312]\n",
      "100%|██████████| 7/7 [00:00<00:00, 18.27it/s, avg_epoch_loss=0, epoch=313]\n",
      "100%|██████████| 7/7 [00:00<00:00, 18.70it/s, avg_epoch_loss=0, epoch=314]\n",
      "100%|██████████| 7/7 [00:00<00:00, 18.75it/s, avg_epoch_loss=0, epoch=315]\n",
      "100%|██████████| 7/7 [00:00<00:00, 18.52it/s, avg_epoch_loss=0, epoch=316]\n",
      "100%|██████████| 7/7 [00:00<00:00, 18.85it/s, avg_epoch_loss=0, epoch=317]\n",
      "100%|██████████| 7/7 [00:00<00:00, 18.95it/s, avg_epoch_loss=0, epoch=318]\n",
      "100%|██████████| 7/7 [00:00<00:00, 18.80it/s, avg_epoch_loss=0, epoch=319]\n",
      "100%|██████████| 7/7 [00:00<00:00, 16.97it/s, avg_epoch_loss=0, epoch=320]\n",
      "100%|██████████| 7/7 [00:00<00:00, 19.03it/s, avg_epoch_loss=0, epoch=321]\n",
      "100%|██████████| 7/7 [00:00<00:00, 18.35it/s, avg_epoch_loss=0, epoch=322]\n",
      "100%|██████████| 7/7 [00:00<00:00, 19.06it/s, avg_epoch_loss=0, epoch=323]\n",
      "100%|██████████| 7/7 [00:00<00:00, 18.92it/s, avg_epoch_loss=0, epoch=324]\n",
      "100%|██████████| 7/7 [00:00<00:00, 18.46it/s, avg_epoch_loss=0, epoch=325]\n",
      "100%|██████████| 7/7 [00:00<00:00, 19.12it/s, avg_epoch_loss=0, epoch=326]\n",
      "100%|██████████| 7/7 [00:00<00:00, 19.05it/s, avg_epoch_loss=0, epoch=327]\n",
      "100%|██████████| 7/7 [00:00<00:00, 19.05it/s, avg_epoch_loss=0, epoch=328]\n",
      "100%|██████████| 7/7 [00:00<00:00, 19.20it/s, avg_epoch_loss=0, epoch=329]\n",
      "100%|██████████| 7/7 [00:00<00:00, 19.29it/s, avg_epoch_loss=0, epoch=330]\n",
      "100%|██████████| 7/7 [00:00<00:00, 17.79it/s, avg_epoch_loss=0, epoch=331]\n",
      "100%|██████████| 7/7 [00:00<00:00, 17.08it/s, avg_epoch_loss=0, epoch=332]\n",
      "100%|██████████| 7/7 [00:00<00:00, 16.55it/s, avg_epoch_loss=0, epoch=333]\n",
      "100%|██████████| 7/7 [00:00<00:00, 18.41it/s, avg_epoch_loss=0, epoch=334]\n",
      "100%|██████████| 7/7 [00:00<00:00, 17.80it/s, avg_epoch_loss=0, epoch=335]\n",
      "100%|██████████| 7/7 [00:00<00:00, 18.32it/s, avg_epoch_loss=0, epoch=336]\n",
      "100%|██████████| 7/7 [00:00<00:00, 17.82it/s, avg_epoch_loss=0, epoch=337]\n",
      "100%|██████████| 7/7 [00:00<00:00, 17.82it/s, avg_epoch_loss=0, epoch=338]\n",
      "100%|██████████| 7/7 [00:00<00:00, 18.48it/s, avg_epoch_loss=0, epoch=339]\n",
      "100%|██████████| 7/7 [00:00<00:00, 18.34it/s, avg_epoch_loss=0, epoch=340]\n",
      "100%|██████████| 7/7 [00:00<00:00, 18.80it/s, avg_epoch_loss=0, epoch=341]\n",
      "100%|██████████| 7/7 [00:00<00:00, 19.01it/s, avg_epoch_loss=0, epoch=342]\n",
      "100%|██████████| 7/7 [00:00<00:00, 19.14it/s, avg_epoch_loss=0, epoch=343]\n",
      "100%|██████████| 7/7 [00:00<00:00, 19.22it/s, avg_epoch_loss=0, epoch=344]\n",
      "100%|██████████| 7/7 [00:00<00:00, 18.54it/s, avg_epoch_loss=0, epoch=345]\n",
      "100%|██████████| 7/7 [00:00<00:00, 18.59it/s, avg_epoch_loss=0, epoch=346]\n",
      "100%|██████████| 7/7 [00:00<00:00, 17.30it/s, avg_epoch_loss=0, epoch=347]\n",
      "100%|██████████| 7/7 [00:00<00:00, 18.71it/s, avg_epoch_loss=0, epoch=348]\n",
      "100%|██████████| 7/7 [00:00<00:00, 16.45it/s, avg_epoch_loss=0, epoch=349]\n"
     ]
    },
    {
     "name": "stdout",
     "output_type": "stream",
     "text": [
      "Start validation!!!\n",
      "Epoch: 349\n"
     ]
    },
    {
     "name": "stderr",
     "output_type": "stream",
     "text": [
      "100%|██████████| 2/2 [00:56<00:00, 28.14s/it]\n"
     ]
    },
    {
     "name": "stdout",
     "output_type": "stream",
     "text": [
      "====================================\n",
      "##### End evaluation!!\n",
      "PEHE VAL = 8.91e+03\n"
     ]
    },
    {
     "name": "stderr",
     "output_type": "stream",
     "text": [
      "100%|██████████| 7/7 [00:00<00:00, 17.66it/s, avg_epoch_loss=0, epoch=350]\n",
      "100%|██████████| 7/7 [00:00<00:00, 16.34it/s, avg_epoch_loss=0, epoch=351]\n",
      "100%|██████████| 7/7 [00:00<00:00, 16.64it/s, avg_epoch_loss=0, epoch=352]\n",
      "100%|██████████| 7/7 [00:00<00:00, 18.86it/s, avg_epoch_loss=0, epoch=353]\n",
      "100%|██████████| 7/7 [00:00<00:00, 18.95it/s, avg_epoch_loss=0, epoch=354]\n",
      "100%|██████████| 7/7 [00:00<00:00, 19.14it/s, avg_epoch_loss=0, epoch=355]\n",
      "100%|██████████| 7/7 [00:00<00:00, 18.49it/s, avg_epoch_loss=0, epoch=356]\n",
      "100%|██████████| 7/7 [00:00<00:00, 17.18it/s, avg_epoch_loss=0, epoch=357]\n",
      "100%|██████████| 7/7 [00:00<00:00, 17.24it/s, avg_epoch_loss=0, epoch=358]\n",
      "100%|██████████| 7/7 [00:00<00:00, 16.55it/s, avg_epoch_loss=0, epoch=359]\n",
      "100%|██████████| 7/7 [00:00<00:00, 17.12it/s, avg_epoch_loss=0, epoch=360]\n",
      "100%|██████████| 7/7 [00:00<00:00, 17.14it/s, avg_epoch_loss=0, epoch=361]\n",
      "100%|██████████| 7/7 [00:00<00:00, 17.33it/s, avg_epoch_loss=0, epoch=362]\n",
      "100%|██████████| 7/7 [00:00<00:00, 16.93it/s, avg_epoch_loss=0, epoch=363]\n",
      "100%|██████████| 7/7 [00:00<00:00, 18.62it/s, avg_epoch_loss=0, epoch=364]\n",
      "100%|██████████| 7/7 [00:00<00:00, 18.95it/s, avg_epoch_loss=0, epoch=365]\n",
      "100%|██████████| 7/7 [00:00<00:00, 19.12it/s, avg_epoch_loss=0, epoch=366]\n",
      "100%|██████████| 7/7 [00:00<00:00, 20.43it/s, avg_epoch_loss=0, epoch=367]\n",
      "100%|██████████| 7/7 [00:00<00:00, 20.14it/s, avg_epoch_loss=0, epoch=368]\n",
      "100%|██████████| 7/7 [00:00<00:00, 20.44it/s, avg_epoch_loss=0, epoch=369]\n",
      "100%|██████████| 7/7 [00:00<00:00, 19.99it/s, avg_epoch_loss=0, epoch=370]\n",
      "100%|██████████| 7/7 [00:00<00:00, 15.34it/s, avg_epoch_loss=0, epoch=371]\n",
      "100%|██████████| 7/7 [00:00<00:00, 18.71it/s, avg_epoch_loss=0, epoch=372]\n",
      "100%|██████████| 7/7 [00:00<00:00, 17.85it/s, avg_epoch_loss=0, epoch=373]\n",
      "100%|██████████| 7/7 [00:00<00:00, 18.08it/s, avg_epoch_loss=0, epoch=374]\n",
      "100%|██████████| 7/7 [00:00<00:00, 18.33it/s, avg_epoch_loss=0, epoch=375]\n",
      "100%|██████████| 7/7 [00:00<00:00, 18.55it/s, avg_epoch_loss=0, epoch=376]\n",
      "100%|██████████| 7/7 [00:00<00:00, 18.75it/s, avg_epoch_loss=0, epoch=377]\n",
      "100%|██████████| 7/7 [00:00<00:00, 15.45it/s, avg_epoch_loss=0, epoch=378]\n",
      "100%|██████████| 7/7 [00:00<00:00, 18.29it/s, avg_epoch_loss=0, epoch=379]\n",
      "100%|██████████| 7/7 [00:00<00:00, 18.06it/s, avg_epoch_loss=0, epoch=380]\n",
      "100%|██████████| 7/7 [00:00<00:00, 14.19it/s, avg_epoch_loss=0, epoch=381]\n",
      "100%|██████████| 7/7 [00:00<00:00, 15.58it/s, avg_epoch_loss=0, epoch=382]\n",
      "100%|██████████| 7/7 [00:00<00:00, 15.92it/s, avg_epoch_loss=0, epoch=383]\n",
      "100%|██████████| 7/7 [00:00<00:00, 19.84it/s, avg_epoch_loss=0, epoch=384]\n",
      "100%|██████████| 7/7 [00:00<00:00, 18.62it/s, avg_epoch_loss=0, epoch=385]\n",
      "100%|██████████| 7/7 [00:00<00:00, 17.98it/s, avg_epoch_loss=0, epoch=386]\n",
      "100%|██████████| 7/7 [00:00<00:00, 17.76it/s, avg_epoch_loss=0, epoch=387]\n",
      "100%|██████████| 7/7 [00:00<00:00, 16.36it/s, avg_epoch_loss=0, epoch=388]\n",
      "100%|██████████| 7/7 [00:00<00:00, 16.40it/s, avg_epoch_loss=0, epoch=389]\n",
      "100%|██████████| 7/7 [00:00<00:00, 19.60it/s, avg_epoch_loss=0, epoch=390]\n",
      "100%|██████████| 7/7 [00:00<00:00, 18.98it/s, avg_epoch_loss=0, epoch=391]\n",
      "100%|██████████| 7/7 [00:00<00:00, 19.95it/s, avg_epoch_loss=0, epoch=392]\n",
      "100%|██████████| 7/7 [00:00<00:00, 19.74it/s, avg_epoch_loss=0, epoch=393]\n",
      "100%|██████████| 7/7 [00:00<00:00, 20.05it/s, avg_epoch_loss=0, epoch=394]\n",
      "100%|██████████| 7/7 [00:00<00:00, 20.03it/s, avg_epoch_loss=0, epoch=395]\n",
      "100%|██████████| 7/7 [00:00<00:00, 19.12it/s, avg_epoch_loss=0, epoch=396]\n",
      "100%|██████████| 7/7 [00:00<00:00, 18.99it/s, avg_epoch_loss=0, epoch=397]\n",
      "100%|██████████| 7/7 [00:00<00:00, 19.21it/s, avg_epoch_loss=0, epoch=398]\n",
      "100%|██████████| 7/7 [00:00<00:00, 17.71it/s, avg_epoch_loss=0, epoch=399]\n"
     ]
    },
    {
     "name": "stdout",
     "output_type": "stream",
     "text": [
      "Start validation!!!\n",
      "Epoch: 399\n"
     ]
    },
    {
     "name": "stderr",
     "output_type": "stream",
     "text": [
      "100%|██████████| 2/2 [00:55<00:00, 27.64s/it]\n"
     ]
    },
    {
     "name": "stdout",
     "output_type": "stream",
     "text": [
      "====================================\n",
      "##### End evaluation!!\n",
      "PEHE VAL = 8.9e+03\n"
     ]
    },
    {
     "name": "stderr",
     "output_type": "stream",
     "text": [
      "100%|██████████| 7/7 [00:00<00:00, 17.78it/s, avg_epoch_loss=0, epoch=400]\n",
      "100%|██████████| 7/7 [00:00<00:00, 16.12it/s, avg_epoch_loss=0, epoch=401]\n",
      "100%|██████████| 7/7 [00:00<00:00, 16.94it/s, avg_epoch_loss=0, epoch=402]\n",
      "100%|██████████| 7/7 [00:00<00:00, 18.59it/s, avg_epoch_loss=0, epoch=403]\n",
      "100%|██████████| 7/7 [00:00<00:00, 18.71it/s, avg_epoch_loss=0, epoch=404]\n",
      "100%|██████████| 7/7 [00:00<00:00, 19.00it/s, avg_epoch_loss=0, epoch=405]\n",
      "100%|██████████| 7/7 [00:00<00:00, 18.48it/s, avg_epoch_loss=0, epoch=406]\n",
      "100%|██████████| 7/7 [00:00<00:00, 18.81it/s, avg_epoch_loss=0, epoch=407]\n",
      "100%|██████████| 7/7 [00:00<00:00, 18.70it/s, avg_epoch_loss=0, epoch=408]\n",
      "100%|██████████| 7/7 [00:00<00:00, 17.01it/s, avg_epoch_loss=0, epoch=409]\n",
      "100%|██████████| 7/7 [00:00<00:00, 16.31it/s, avg_epoch_loss=0, epoch=410]\n",
      "100%|██████████| 7/7 [00:00<00:00, 16.00it/s, avg_epoch_loss=0, epoch=411]\n",
      "100%|██████████| 7/7 [00:00<00:00, 18.09it/s, avg_epoch_loss=0, epoch=412]\n",
      "100%|██████████| 7/7 [00:00<00:00, 18.82it/s, avg_epoch_loss=0, epoch=413]\n",
      "100%|██████████| 7/7 [00:00<00:00, 17.83it/s, avg_epoch_loss=0, epoch=414]\n",
      "100%|██████████| 7/7 [00:00<00:00, 18.31it/s, avg_epoch_loss=0, epoch=415]\n",
      "100%|██████████| 7/7 [00:00<00:00, 18.57it/s, avg_epoch_loss=0, epoch=416]\n",
      "100%|██████████| 7/7 [00:00<00:00, 19.27it/s, avg_epoch_loss=0, epoch=417]\n",
      "100%|██████████| 7/7 [00:00<00:00, 20.27it/s, avg_epoch_loss=0, epoch=418]\n",
      "100%|██████████| 7/7 [00:00<00:00, 20.57it/s, avg_epoch_loss=0, epoch=419]\n",
      "100%|██████████| 7/7 [00:00<00:00, 20.52it/s, avg_epoch_loss=0, epoch=420]\n",
      "100%|██████████| 7/7 [00:00<00:00, 20.53it/s, avg_epoch_loss=0, epoch=421]\n",
      "100%|██████████| 7/7 [00:00<00:00, 20.08it/s, avg_epoch_loss=0, epoch=422]\n",
      "100%|██████████| 7/7 [00:00<00:00, 20.13it/s, avg_epoch_loss=0, epoch=423]\n",
      "100%|██████████| 7/7 [00:00<00:00, 20.58it/s, avg_epoch_loss=0, epoch=424]\n",
      "100%|██████████| 7/7 [00:00<00:00, 20.29it/s, avg_epoch_loss=0, epoch=425]\n",
      "100%|██████████| 7/7 [00:00<00:00, 17.71it/s, avg_epoch_loss=0, epoch=426]\n",
      "100%|██████████| 7/7 [00:00<00:00, 18.95it/s, avg_epoch_loss=0, epoch=427]\n",
      "100%|██████████| 7/7 [00:00<00:00, 18.72it/s, avg_epoch_loss=0, epoch=428]\n",
      "100%|██████████| 7/7 [00:00<00:00, 18.17it/s, avg_epoch_loss=0, epoch=429]\n",
      "100%|██████████| 7/7 [00:00<00:00, 17.38it/s, avg_epoch_loss=0, epoch=430]\n",
      "100%|██████████| 7/7 [00:00<00:00, 17.70it/s, avg_epoch_loss=0, epoch=431]\n",
      "100%|██████████| 7/7 [00:00<00:00, 17.09it/s, avg_epoch_loss=0, epoch=432]\n",
      "100%|██████████| 7/7 [00:00<00:00, 17.53it/s, avg_epoch_loss=0, epoch=433]\n",
      "100%|██████████| 7/7 [00:00<00:00, 17.93it/s, avg_epoch_loss=0, epoch=434]\n",
      "100%|██████████| 7/7 [00:00<00:00, 17.21it/s, avg_epoch_loss=0, epoch=435]\n",
      "100%|██████████| 7/7 [00:00<00:00, 17.40it/s, avg_epoch_loss=0, epoch=436]\n",
      "100%|██████████| 7/7 [00:00<00:00, 14.90it/s, avg_epoch_loss=0, epoch=437]\n",
      "100%|██████████| 7/7 [00:00<00:00, 17.03it/s, avg_epoch_loss=0, epoch=438]\n",
      "100%|██████████| 7/7 [00:00<00:00, 17.24it/s, avg_epoch_loss=0, epoch=439]\n",
      "100%|██████████| 7/7 [00:00<00:00, 17.94it/s, avg_epoch_loss=0, epoch=440]\n",
      "100%|██████████| 7/7 [00:00<00:00, 18.73it/s, avg_epoch_loss=0, epoch=441]\n",
      "100%|██████████| 7/7 [00:00<00:00, 19.01it/s, avg_epoch_loss=0, epoch=442]\n",
      "100%|██████████| 7/7 [00:00<00:00, 18.05it/s, avg_epoch_loss=0, epoch=443]\n",
      "100%|██████████| 7/7 [00:00<00:00, 17.27it/s, avg_epoch_loss=0, epoch=444]\n",
      "100%|██████████| 7/7 [00:00<00:00, 16.63it/s, avg_epoch_loss=0, epoch=445]\n",
      "100%|██████████| 7/7 [00:00<00:00, 17.22it/s, avg_epoch_loss=0, epoch=446]\n",
      "100%|██████████| 7/7 [00:00<00:00, 15.14it/s, avg_epoch_loss=0, epoch=447]\n",
      "100%|██████████| 7/7 [00:00<00:00, 17.69it/s, avg_epoch_loss=0, epoch=448]\n",
      "100%|██████████| 7/7 [00:00<00:00, 17.59it/s, avg_epoch_loss=0, epoch=449]\n"
     ]
    },
    {
     "name": "stdout",
     "output_type": "stream",
     "text": [
      "Start validation!!!\n",
      "Epoch: 449\n"
     ]
    },
    {
     "name": "stderr",
     "output_type": "stream",
     "text": [
      "100%|██████████| 2/2 [00:53<00:00, 26.71s/it]\n"
     ]
    },
    {
     "name": "stdout",
     "output_type": "stream",
     "text": [
      "====================================\n",
      "##### End evaluation!!\n",
      "PEHE VAL = 8.03e+03\n"
     ]
    },
    {
     "name": "stderr",
     "output_type": "stream",
     "text": [
      "100%|██████████| 7/7 [00:00<00:00, 18.83it/s, avg_epoch_loss=0, epoch=450]\n",
      "100%|██████████| 7/7 [00:00<00:00, 18.50it/s, avg_epoch_loss=0, epoch=451]\n",
      "100%|██████████| 7/7 [00:00<00:00, 19.00it/s, avg_epoch_loss=0, epoch=452]\n",
      "100%|██████████| 7/7 [00:00<00:00, 17.94it/s, avg_epoch_loss=0, epoch=453]\n",
      "100%|██████████| 7/7 [00:00<00:00, 17.45it/s, avg_epoch_loss=0, epoch=454]\n",
      "100%|██████████| 7/7 [00:00<00:00, 17.56it/s, avg_epoch_loss=0, epoch=455]\n",
      "100%|██████████| 7/7 [00:00<00:00, 14.76it/s, avg_epoch_loss=0, epoch=456]\n",
      "100%|██████████| 7/7 [00:00<00:00, 19.27it/s, avg_epoch_loss=0, epoch=457]\n",
      "100%|██████████| 7/7 [00:00<00:00, 18.60it/s, avg_epoch_loss=0, epoch=458]\n",
      "100%|██████████| 7/7 [00:00<00:00, 18.84it/s, avg_epoch_loss=0, epoch=459]\n",
      "100%|██████████| 7/7 [00:00<00:00, 19.03it/s, avg_epoch_loss=0, epoch=460]\n",
      "100%|██████████| 7/7 [00:00<00:00, 18.71it/s, avg_epoch_loss=0, epoch=461]\n",
      "100%|██████████| 7/7 [00:00<00:00, 17.62it/s, avg_epoch_loss=0, epoch=462]\n",
      "100%|██████████| 7/7 [00:00<00:00, 16.93it/s, avg_epoch_loss=0, epoch=463]\n",
      "100%|██████████| 7/7 [00:00<00:00, 16.11it/s, avg_epoch_loss=0, epoch=464]\n",
      "100%|██████████| 7/7 [00:00<00:00, 16.81it/s, avg_epoch_loss=0, epoch=465]\n",
      "100%|██████████| 7/7 [00:00<00:00, 16.53it/s, avg_epoch_loss=0, epoch=466]\n",
      "100%|██████████| 7/7 [00:00<00:00, 17.09it/s, avg_epoch_loss=0, epoch=467]\n",
      "100%|██████████| 7/7 [00:00<00:00, 17.42it/s, avg_epoch_loss=0, epoch=468]\n",
      "100%|██████████| 7/7 [00:00<00:00, 16.90it/s, avg_epoch_loss=0, epoch=469]\n",
      "100%|██████████| 7/7 [00:00<00:00, 17.28it/s, avg_epoch_loss=0, epoch=470]\n",
      "100%|██████████| 7/7 [00:00<00:00, 13.79it/s, avg_epoch_loss=0, epoch=471]\n",
      "100%|██████████| 7/7 [00:00<00:00, 17.57it/s, avg_epoch_loss=0, epoch=472]\n",
      "100%|██████████| 7/7 [00:00<00:00, 16.98it/s, avg_epoch_loss=0, epoch=473]\n",
      "100%|██████████| 7/7 [00:00<00:00, 18.45it/s, avg_epoch_loss=0, epoch=474]\n",
      "100%|██████████| 7/7 [00:00<00:00, 18.57it/s, avg_epoch_loss=0, epoch=475]\n",
      "100%|██████████| 7/7 [00:00<00:00, 18.79it/s, avg_epoch_loss=0, epoch=476]\n",
      "100%|██████████| 7/7 [00:00<00:00, 20.55it/s, avg_epoch_loss=0, epoch=477]\n",
      "100%|██████████| 7/7 [00:00<00:00, 20.46it/s, avg_epoch_loss=0, epoch=478]\n",
      "100%|██████████| 7/7 [00:00<00:00, 18.71it/s, avg_epoch_loss=0, epoch=479]\n",
      "100%|██████████| 7/7 [00:00<00:00, 17.55it/s, avg_epoch_loss=0, epoch=480]\n",
      "100%|██████████| 7/7 [00:00<00:00, 18.28it/s, avg_epoch_loss=0, epoch=481]\n",
      "100%|██████████| 7/7 [00:00<00:00, 18.81it/s, avg_epoch_loss=0, epoch=482]\n",
      "100%|██████████| 7/7 [00:00<00:00, 18.54it/s, avg_epoch_loss=0, epoch=483]\n",
      "100%|██████████| 7/7 [00:00<00:00, 15.18it/s, avg_epoch_loss=0, epoch=484]\n",
      "100%|██████████| 7/7 [00:00<00:00, 17.70it/s, avg_epoch_loss=0, epoch=485]\n",
      "100%|██████████| 7/7 [00:00<00:00, 14.90it/s, avg_epoch_loss=0, epoch=486]\n",
      "100%|██████████| 7/7 [00:00<00:00, 17.65it/s, avg_epoch_loss=0, epoch=487]\n",
      "100%|██████████| 7/7 [00:00<00:00, 18.62it/s, avg_epoch_loss=0, epoch=488]\n",
      "100%|██████████| 7/7 [00:00<00:00, 18.24it/s, avg_epoch_loss=0, epoch=489]\n",
      "100%|██████████| 7/7 [00:00<00:00, 18.88it/s, avg_epoch_loss=0, epoch=490]\n",
      "100%|██████████| 7/7 [00:00<00:00, 14.54it/s, avg_epoch_loss=0, epoch=491]\n",
      "100%|██████████| 7/7 [00:00<00:00, 17.65it/s, avg_epoch_loss=0, epoch=492]\n",
      "100%|██████████| 7/7 [00:00<00:00, 16.61it/s, avg_epoch_loss=0, epoch=493]\n",
      "100%|██████████| 7/7 [00:00<00:00, 18.63it/s, avg_epoch_loss=0, epoch=494]\n",
      "100%|██████████| 7/7 [00:00<00:00, 19.30it/s, avg_epoch_loss=0, epoch=495]\n",
      "100%|██████████| 7/7 [00:00<00:00, 18.93it/s, avg_epoch_loss=0, epoch=496]\n",
      "100%|██████████| 7/7 [00:00<00:00, 19.17it/s, avg_epoch_loss=0, epoch=497]\n",
      "100%|██████████| 7/7 [00:00<00:00, 19.08it/s, avg_epoch_loss=0, epoch=498]\n",
      "100%|██████████| 7/7 [00:00<00:00, 17.31it/s, avg_epoch_loss=0, epoch=499]\n"
     ]
    },
    {
     "name": "stdout",
     "output_type": "stream",
     "text": [
      "Start validation!!!\n",
      "Epoch: 499\n"
     ]
    },
    {
     "name": "stderr",
     "output_type": "stream",
     "text": [
      "100%|██████████| 2/2 [00:53<00:00, 26.86s/it]\n"
     ]
    },
    {
     "name": "stdout",
     "output_type": "stream",
     "text": [
      "====================================\n",
      "##### End evaluation!!\n",
      "PEHE VAL = 8.54e+03\n",
      "Training complete.\n",
      "Evaluating the model...\n"
     ]
    },
    {
     "name": "stderr",
     "output_type": "stream",
     "text": [
      "100%|██████████| 12/12 [12:02<00:00, 60.22s/it]\n",
      "GPU available: True (mps), used: False\n",
      "TPU available: False, using: 0 TPU cores\n",
      "HPU available: False, using: 0 HPUs\n",
      "\n",
      "  | Name           | Type        | Params | Mode \n",
      "-------------------------------------------------------\n",
      "0 | balancer       | Sequential  | 1.6 K  | train\n",
      "1 | prior_encoder0 | Sequential  | 0      | train\n",
      "2 | prior_encoder1 | Sequential  | 0      | train\n",
      "3 | cond_mean0     | Sequential  | 701    | train\n",
      "4 | cond_mean1     | Sequential  | 701    | train\n",
      "5 | cond_std0      | Sequential  | 701    | train\n",
      "6 | cond_std1      | Sequential  | 701    | train\n",
      "7 | flows0         | DSFMarginal | 892    | train\n",
      "8 | flows1         | DSFMarginal | 892    | train\n",
      "-------------------------------------------------------\n",
      "6.2 K     Trainable params\n",
      "0         Non-trainable params\n",
      "6.2 K     Total params\n",
      "0.025     Total estimated model params size (MB)\n",
      "45        Modules in train mode\n",
      "0         Modules in eval mode\n"
     ]
    },
    {
     "name": "stdout",
     "output_type": "stream",
     "text": [
      "Fit and evaluate NOFLITE ...\n"
     ]
    },
    {
     "data": {
      "application/vnd.jupyter.widget-view+json": {
       "model_id": "27e592d2ed8c496e8cf5a42106917a06",
       "version_major": 2,
       "version_minor": 0
      },
      "text/plain": [
       "Training: |          | 0/? [00:00<?, ?it/s]"
      ]
     },
     "metadata": {},
     "output_type": "display_data"
    },
    {
     "name": "stderr",
     "output_type": "stream",
     "text": [
      "`Trainer.fit` stopped: `max_steps=10000` reached.\n"
     ]
    },
    {
     "name": "stdout",
     "output_type": "stream",
     "text": [
      "|====================================================================================================|Fit and evaluate CCT-learner ...\n",
      "Fit and evaluate BART ...\n"
     ]
    },
    {
     "name": "stderr",
     "output_type": "stream",
     "text": [
      "Multiprocess sampling (4 chains in 4 jobs)\n",
      "PGBART: [mu]\n"
     ]
    },
    {
     "data": {
      "application/vnd.jupyter.widget-view+json": {
       "model_id": "ace1a910016647388300ba1e3f4b5f43",
       "version_major": 2,
       "version_minor": 0
      },
      "text/plain": [
       "Output()"
      ]
     },
     "metadata": {},
     "output_type": "display_data"
    },
    {
     "data": {
      "text/html": [
       "<pre style=\"white-space:pre;overflow-x:auto;line-height:normal;font-family:Menlo,'DejaVu Sans Mono',consolas,'Courier New',monospace\"></pre>\n"
      ],
      "text/plain": []
     },
     "metadata": {},
     "output_type": "display_data"
    },
    {
     "name": "stderr",
     "output_type": "stream",
     "text": [
      "Sampling 4 chains for 500 tune and 500 draw iterations (2_000 + 2_000 draws total) took 18 seconds.\n",
      "The rhat statistic is larger than 1.01 for some parameters. This indicates problems during sampling. See https://arxiv.org/abs/1903.08008 for details\n",
      "The effective sample size per chain is smaller than 100 for some parameters.  A higher number is needed for reliable rhat and ess computation. See https://arxiv.org/abs/1903.08008 for details\n",
      "Sampling: [mu, y]\n"
     ]
    },
    {
     "data": {
      "application/vnd.jupyter.widget-view+json": {
       "model_id": "9e5d8767216348c091e2509536d123d9",
       "version_major": 2,
       "version_minor": 0
      },
      "text/plain": [
       "Output()"
      ]
     },
     "metadata": {},
     "output_type": "display_data"
    },
    {
     "name": "stdout",
     "output_type": "stream",
     "text": [
      "X_extended (3000, 11)\n"
     ]
    },
    {
     "data": {
      "text/html": [
       "<pre style=\"white-space:pre;overflow-x:auto;line-height:normal;font-family:Menlo,'DejaVu Sans Mono',consolas,'Courier New',monospace\"></pre>\n"
      ],
      "text/plain": []
     },
     "metadata": {},
     "output_type": "display_data"
    },
    {
     "name": "stderr",
     "output_type": "stream",
     "text": [
      "Sampling: [mu, y]\n"
     ]
    },
    {
     "data": {
      "application/vnd.jupyter.widget-view+json": {
       "model_id": "9a26d99d995c4cd9b41619b7f1d1842e",
       "version_major": 2,
       "version_minor": 0
      },
      "text/plain": [
       "Output()"
      ]
     },
     "metadata": {},
     "output_type": "display_data"
    },
    {
     "data": {
      "text/html": [
       "<pre style=\"white-space:pre;overflow-x:auto;line-height:normal;font-family:Menlo,'DejaVu Sans Mono',consolas,'Courier New',monospace\"></pre>\n"
      ],
      "text/plain": []
     },
     "metadata": {},
     "output_type": "display_data"
    },
    {
     "name": "stderr",
     "output_type": "stream",
     "text": [
      "Sampling: [mu, y]\n"
     ]
    },
    {
     "data": {
      "application/vnd.jupyter.widget-view+json": {
       "model_id": "d4ad184d7a2745c3a14ef2396e7ee074",
       "version_major": 2,
       "version_minor": 0
      },
      "text/plain": [
       "Output()"
      ]
     },
     "metadata": {},
     "output_type": "display_data"
    },
    {
     "name": "stdout",
     "output_type": "stream",
     "text": [
      "X_extended (3000, 11)\n"
     ]
    },
    {
     "data": {
      "text/html": [
       "<pre style=\"white-space:pre;overflow-x:auto;line-height:normal;font-family:Menlo,'DejaVu Sans Mono',consolas,'Courier New',monospace\"></pre>\n"
      ],
      "text/plain": []
     },
     "metadata": {},
     "output_type": "display_data"
    },
    {
     "name": "stderr",
     "output_type": "stream",
     "text": [
      "Sampling: [mu, y]\n"
     ]
    },
    {
     "data": {
      "application/vnd.jupyter.widget-view+json": {
       "model_id": "822f6e4aefc64eb0a8150c53c3ddc9fb",
       "version_major": 2,
       "version_minor": 0
      },
      "text/plain": [
       "Output()"
      ]
     },
     "metadata": {},
     "output_type": "display_data"
    },
    {
     "data": {
      "text/html": [
       "<pre style=\"white-space:pre;overflow-x:auto;line-height:normal;font-family:Menlo,'DejaVu Sans Mono',consolas,'Courier New',monospace\"></pre>\n"
      ],
      "text/plain": []
     },
     "metadata": {},
     "output_type": "display_data"
    },
    {
     "name": "stdout",
     "output_type": "stream",
     "text": [
      "Fit and evaluate CMGP ...\n",
      "Fit and evaluate CEVAE ...\n",
      "Using cpu\n"
     ]
    },
    {
     "name": "stderr",
     "output_type": "stream",
     "text": [
      "100%|██████████| 7000/7000 [00:31<00:00, 219.11it/s]\n"
     ]
    },
    {
     "name": "stdout",
     "output_type": "stream",
     "text": [
      "Fit and evaluate FCCN ...\n"
     ]
    },
    {
     "name": "stderr",
     "output_type": "stream",
     "text": [
      "100%|██████████| 20000/20000 [02:25<00:00, 137.29it/s]\n"
     ]
    },
    {
     "name": "stdout",
     "output_type": "stream",
     "text": [
      "Fit and evaluate GANITE ...\n"
     ]
    },
    {
     "name": "stderr",
     "output_type": "stream",
     "text": [
      "Training Counterfactual GAN: 100%|██████████| 10000/10000 [07:46<00:00, 21.42it/s]\n",
      "Training ITE GAN: 100%|██████████| 10000/10000 [08:55<00:00, 18.67it/s]\n"
     ]
    },
    {
     "name": "stdout",
     "output_type": "stream",
     "text": [
      "Fit and evaluate DKLITE ...\n"
     ]
    },
    {
     "name": "stderr",
     "output_type": "stream",
     "text": [
      "  5%|▌         | 51/1000 [00:02<00:50, 18.81it/s]\n"
     ]
    },
    {
     "name": "stdout",
     "output_type": "stream",
     "text": [
      "Fit and evaluate diffpo ...\n"
     ]
    },
    {
     "name": "stderr",
     "output_type": "stream",
     "text": [
      "100%|██████████| 7/7 [00:00<00:00, 13.51it/s, avg_epoch_loss=0, epoch=0]\n",
      "100%|██████████| 7/7 [00:00<00:00, 14.62it/s, avg_epoch_loss=0, epoch=1]\n",
      "100%|██████████| 7/7 [00:00<00:00, 16.40it/s, avg_epoch_loss=0, epoch=2]\n",
      "100%|██████████| 7/7 [00:00<00:00, 17.74it/s, avg_epoch_loss=0, epoch=3]\n",
      "100%|██████████| 7/7 [00:00<00:00, 17.92it/s, avg_epoch_loss=0, epoch=4]\n",
      "100%|██████████| 7/7 [00:00<00:00, 17.42it/s, avg_epoch_loss=0, epoch=5]\n",
      "100%|██████████| 7/7 [00:00<00:00, 17.26it/s, avg_epoch_loss=0, epoch=6]\n",
      "100%|██████████| 7/7 [00:00<00:00, 11.29it/s, avg_epoch_loss=0, epoch=7]\n",
      "100%|██████████| 7/7 [00:00<00:00, 18.06it/s, avg_epoch_loss=0, epoch=8]\n",
      "100%|██████████| 7/7 [00:00<00:00, 17.89it/s, avg_epoch_loss=0, epoch=9]\n",
      "100%|██████████| 7/7 [00:00<00:00, 17.90it/s, avg_epoch_loss=0, epoch=10]\n",
      "100%|██████████| 7/7 [00:00<00:00, 18.35it/s, avg_epoch_loss=0, epoch=11]\n",
      "100%|██████████| 7/7 [00:00<00:00, 15.85it/s, avg_epoch_loss=0, epoch=12]\n",
      "100%|██████████| 7/7 [00:00<00:00, 17.14it/s, avg_epoch_loss=0, epoch=13]\n",
      "100%|██████████| 7/7 [00:00<00:00, 18.89it/s, avg_epoch_loss=0, epoch=14]\n",
      "100%|██████████| 7/7 [00:00<00:00, 18.07it/s, avg_epoch_loss=0, epoch=15]\n",
      "100%|██████████| 7/7 [00:00<00:00, 16.38it/s, avg_epoch_loss=0, epoch=16]\n",
      "100%|██████████| 7/7 [00:00<00:00, 17.51it/s, avg_epoch_loss=0, epoch=17]\n",
      "100%|██████████| 7/7 [00:00<00:00, 17.91it/s, avg_epoch_loss=0, epoch=18]\n",
      "100%|██████████| 7/7 [00:00<00:00, 17.62it/s, avg_epoch_loss=0, epoch=19]\n",
      "100%|██████████| 7/7 [00:00<00:00, 17.17it/s, avg_epoch_loss=0, epoch=20]\n",
      "100%|██████████| 7/7 [00:00<00:00, 16.07it/s, avg_epoch_loss=0, epoch=21]\n",
      "100%|██████████| 7/7 [00:00<00:00, 17.65it/s, avg_epoch_loss=0, epoch=22]\n",
      "100%|██████████| 7/7 [00:00<00:00, 15.14it/s, avg_epoch_loss=0, epoch=23]\n",
      "100%|██████████| 7/7 [00:00<00:00, 17.99it/s, avg_epoch_loss=0, epoch=24]\n",
      "100%|██████████| 7/7 [00:00<00:00, 18.00it/s, avg_epoch_loss=0, epoch=25]\n",
      "100%|██████████| 7/7 [00:00<00:00, 18.14it/s, avg_epoch_loss=0, epoch=26]\n",
      "100%|██████████| 7/7 [00:00<00:00, 14.71it/s, avg_epoch_loss=0, epoch=27]\n",
      "100%|██████████| 7/7 [00:00<00:00, 18.48it/s, avg_epoch_loss=0, epoch=28]\n",
      "100%|██████████| 7/7 [00:00<00:00, 18.35it/s, avg_epoch_loss=0, epoch=29]\n",
      "100%|██████████| 7/7 [00:00<00:00, 17.74it/s, avg_epoch_loss=0, epoch=30]\n",
      "100%|██████████| 7/7 [00:00<00:00, 17.88it/s, avg_epoch_loss=0, epoch=31]\n",
      "100%|██████████| 7/7 [00:00<00:00, 17.54it/s, avg_epoch_loss=0, epoch=32]\n",
      "100%|██████████| 7/7 [00:00<00:00, 15.55it/s, avg_epoch_loss=0, epoch=33]\n",
      "100%|██████████| 7/7 [00:00<00:00, 13.49it/s, avg_epoch_loss=0, epoch=34]\n",
      "100%|██████████| 7/7 [00:00<00:00, 16.50it/s, avg_epoch_loss=0, epoch=35]\n",
      "100%|██████████| 7/7 [00:00<00:00, 16.36it/s, avg_epoch_loss=0, epoch=36]\n",
      "100%|██████████| 7/7 [00:00<00:00, 16.71it/s, avg_epoch_loss=0, epoch=37]\n",
      "100%|██████████| 7/7 [00:00<00:00, 14.71it/s, avg_epoch_loss=0, epoch=38]\n",
      "100%|██████████| 7/7 [00:00<00:00, 15.70it/s, avg_epoch_loss=0, epoch=39]\n",
      "100%|██████████| 7/7 [00:00<00:00, 17.11it/s, avg_epoch_loss=0, epoch=40]\n",
      "100%|██████████| 7/7 [00:00<00:00, 17.44it/s, avg_epoch_loss=0, epoch=41]\n",
      "100%|██████████| 7/7 [00:00<00:00, 19.44it/s, avg_epoch_loss=0, epoch=42]\n",
      "100%|██████████| 7/7 [00:00<00:00, 18.72it/s, avg_epoch_loss=0, epoch=43]\n",
      "100%|██████████| 7/7 [00:00<00:00, 18.97it/s, avg_epoch_loss=0, epoch=44]\n",
      "100%|██████████| 7/7 [00:00<00:00, 15.99it/s, avg_epoch_loss=0, epoch=45]\n",
      "100%|██████████| 7/7 [00:00<00:00, 16.85it/s, avg_epoch_loss=0, epoch=46]\n",
      "100%|██████████| 7/7 [00:00<00:00, 18.52it/s, avg_epoch_loss=0, epoch=47]\n",
      "100%|██████████| 7/7 [00:00<00:00, 13.60it/s, avg_epoch_loss=0, epoch=48]\n",
      "100%|██████████| 7/7 [00:00<00:00, 12.97it/s, avg_epoch_loss=0, epoch=49]\n"
     ]
    },
    {
     "name": "stdout",
     "output_type": "stream",
     "text": [
      "Start validation!!!\n",
      "Epoch: 49\n"
     ]
    },
    {
     "name": "stderr",
     "output_type": "stream",
     "text": [
      "100%|██████████| 2/2 [01:02<00:00, 31.44s/it]\n"
     ]
    },
    {
     "name": "stdout",
     "output_type": "stream",
     "text": [
      "====================================\n",
      "##### End evaluation!!\n",
      "PEHE VAL = 8.1e+03\n"
     ]
    },
    {
     "name": "stderr",
     "output_type": "stream",
     "text": [
      "100%|██████████| 7/7 [00:00<00:00, 14.89it/s, avg_epoch_loss=0, epoch=50]\n",
      "100%|██████████| 7/7 [00:00<00:00, 17.39it/s, avg_epoch_loss=0, epoch=51]\n",
      "100%|██████████| 7/7 [00:00<00:00, 17.61it/s, avg_epoch_loss=0, epoch=52]\n",
      "100%|██████████| 7/7 [00:00<00:00, 17.63it/s, avg_epoch_loss=0, epoch=53]\n",
      "100%|██████████| 7/7 [00:00<00:00, 17.86it/s, avg_epoch_loss=0, epoch=54]\n",
      "100%|██████████| 7/7 [00:00<00:00, 18.23it/s, avg_epoch_loss=0, epoch=55]\n",
      "100%|██████████| 7/7 [00:00<00:00, 18.34it/s, avg_epoch_loss=0, epoch=56]\n",
      "100%|██████████| 7/7 [00:00<00:00, 18.31it/s, avg_epoch_loss=0, epoch=57]\n",
      "100%|██████████| 7/7 [00:00<00:00, 14.66it/s, avg_epoch_loss=0, epoch=58]\n",
      "100%|██████████| 7/7 [00:00<00:00, 17.15it/s, avg_epoch_loss=0, epoch=59]\n",
      "100%|██████████| 7/7 [00:00<00:00, 16.29it/s, avg_epoch_loss=0, epoch=60]\n",
      "100%|██████████| 7/7 [00:00<00:00, 17.63it/s, avg_epoch_loss=0, epoch=61]\n",
      "100%|██████████| 7/7 [00:00<00:00, 12.92it/s, avg_epoch_loss=0, epoch=62]\n",
      "100%|██████████| 7/7 [00:00<00:00, 17.04it/s, avg_epoch_loss=0, epoch=63]\n",
      "100%|██████████| 7/7 [00:00<00:00, 18.59it/s, avg_epoch_loss=0, epoch=64]\n",
      "100%|██████████| 7/7 [00:00<00:00, 18.29it/s, avg_epoch_loss=0, epoch=65]\n",
      "100%|██████████| 7/7 [00:00<00:00, 18.10it/s, avg_epoch_loss=0, epoch=66]\n",
      "100%|██████████| 7/7 [00:00<00:00, 18.65it/s, avg_epoch_loss=0, epoch=67]\n",
      "100%|██████████| 7/7 [00:00<00:00, 17.80it/s, avg_epoch_loss=0, epoch=68]\n",
      "100%|██████████| 7/7 [00:00<00:00, 18.02it/s, avg_epoch_loss=0, epoch=69]\n",
      "100%|██████████| 7/7 [00:00<00:00, 16.41it/s, avg_epoch_loss=0, epoch=70]\n",
      "100%|██████████| 7/7 [00:00<00:00, 12.86it/s, avg_epoch_loss=0, epoch=71]\n",
      "100%|██████████| 7/7 [00:00<00:00, 14.90it/s, avg_epoch_loss=0, epoch=72]\n",
      "100%|██████████| 7/7 [00:00<00:00, 17.90it/s, avg_epoch_loss=0, epoch=73]\n",
      "100%|██████████| 7/7 [00:00<00:00, 17.77it/s, avg_epoch_loss=0, epoch=74]\n",
      "100%|██████████| 7/7 [00:00<00:00, 15.56it/s, avg_epoch_loss=0, epoch=75]\n",
      "100%|██████████| 7/7 [00:00<00:00, 14.74it/s, avg_epoch_loss=0, epoch=76]\n",
      "100%|██████████| 7/7 [00:00<00:00, 17.21it/s, avg_epoch_loss=0, epoch=77]\n",
      "100%|██████████| 7/7 [00:00<00:00, 17.64it/s, avg_epoch_loss=0, epoch=78]\n",
      "100%|██████████| 7/7 [00:00<00:00, 18.20it/s, avg_epoch_loss=0, epoch=79]\n",
      "100%|██████████| 7/7 [00:00<00:00, 18.29it/s, avg_epoch_loss=0, epoch=80]\n",
      "100%|██████████| 7/7 [00:00<00:00, 18.34it/s, avg_epoch_loss=0, epoch=81]\n",
      "100%|██████████| 7/7 [00:00<00:00, 18.84it/s, avg_epoch_loss=0, epoch=82]\n",
      "100%|██████████| 7/7 [00:00<00:00, 18.82it/s, avg_epoch_loss=0, epoch=83]\n",
      "100%|██████████| 7/7 [00:00<00:00, 18.38it/s, avg_epoch_loss=0, epoch=84]\n",
      "100%|██████████| 7/7 [00:00<00:00, 18.18it/s, avg_epoch_loss=0, epoch=85]\n",
      "100%|██████████| 7/7 [00:00<00:00, 18.22it/s, avg_epoch_loss=0, epoch=86]\n",
      "100%|██████████| 7/7 [00:00<00:00, 18.45it/s, avg_epoch_loss=0, epoch=87]\n",
      "100%|██████████| 7/7 [00:00<00:00, 12.22it/s, avg_epoch_loss=0, epoch=88]\n",
      "100%|██████████| 7/7 [00:00<00:00, 18.29it/s, avg_epoch_loss=0, epoch=89]\n",
      "100%|██████████| 7/7 [00:00<00:00, 18.64it/s, avg_epoch_loss=0, epoch=90]\n",
      "100%|██████████| 7/7 [00:00<00:00, 18.18it/s, avg_epoch_loss=0, epoch=91]\n",
      "100%|██████████| 7/7 [00:00<00:00, 17.86it/s, avg_epoch_loss=0, epoch=92]\n",
      "100%|██████████| 7/7 [00:00<00:00, 14.70it/s, avg_epoch_loss=0, epoch=93]\n",
      "100%|██████████| 7/7 [00:00<00:00, 18.00it/s, avg_epoch_loss=0, epoch=94]\n",
      "100%|██████████| 7/7 [00:00<00:00, 18.44it/s, avg_epoch_loss=0, epoch=95]\n",
      "100%|██████████| 7/7 [00:00<00:00, 18.47it/s, avg_epoch_loss=0, epoch=96]\n",
      "100%|██████████| 7/7 [00:00<00:00, 17.94it/s, avg_epoch_loss=0, epoch=97]\n",
      "100%|██████████| 7/7 [00:00<00:00, 18.82it/s, avg_epoch_loss=0, epoch=98]\n",
      "100%|██████████| 7/7 [00:00<00:00, 13.86it/s, avg_epoch_loss=0, epoch=99]\n"
     ]
    },
    {
     "name": "stdout",
     "output_type": "stream",
     "text": [
      "Start validation!!!\n",
      "Epoch: 99\n"
     ]
    },
    {
     "name": "stderr",
     "output_type": "stream",
     "text": [
      "100%|██████████| 2/2 [01:09<00:00, 34.97s/it]\n"
     ]
    },
    {
     "name": "stdout",
     "output_type": "stream",
     "text": [
      "====================================\n",
      "##### End evaluation!!\n",
      "PEHE VAL = 8.29e+03\n"
     ]
    },
    {
     "name": "stderr",
     "output_type": "stream",
     "text": [
      "100%|██████████| 7/7 [00:00<00:00, 18.38it/s, avg_epoch_loss=0, epoch=100]\n",
      "100%|██████████| 7/7 [00:00<00:00, 16.07it/s, avg_epoch_loss=0, epoch=101]\n",
      "100%|██████████| 7/7 [00:00<00:00, 16.30it/s, avg_epoch_loss=0, epoch=102]\n",
      "100%|██████████| 7/7 [00:00<00:00, 15.33it/s, avg_epoch_loss=0, epoch=103]\n",
      "100%|██████████| 7/7 [00:00<00:00, 12.27it/s, avg_epoch_loss=0, epoch=104]\n",
      "100%|██████████| 7/7 [00:00<00:00, 17.73it/s, avg_epoch_loss=0, epoch=105]\n",
      "100%|██████████| 7/7 [00:00<00:00, 18.41it/s, avg_epoch_loss=0, epoch=106]\n",
      "100%|██████████| 7/7 [00:00<00:00, 15.37it/s, avg_epoch_loss=0, epoch=107]\n",
      "100%|██████████| 7/7 [00:00<00:00, 16.46it/s, avg_epoch_loss=0, epoch=108]\n",
      "100%|██████████| 7/7 [00:00<00:00, 16.47it/s, avg_epoch_loss=0, epoch=109]\n",
      "100%|██████████| 7/7 [00:00<00:00, 18.28it/s, avg_epoch_loss=0, epoch=110]\n",
      "100%|██████████| 7/7 [00:00<00:00, 19.02it/s, avg_epoch_loss=0, epoch=111]\n",
      "100%|██████████| 7/7 [00:00<00:00, 12.96it/s, avg_epoch_loss=0, epoch=112]\n",
      "100%|██████████| 7/7 [00:00<00:00, 16.19it/s, avg_epoch_loss=0, epoch=113]\n",
      "100%|██████████| 7/7 [00:00<00:00, 15.82it/s, avg_epoch_loss=0, epoch=114]\n",
      "100%|██████████| 7/7 [00:00<00:00, 17.37it/s, avg_epoch_loss=0, epoch=115]\n",
      "100%|██████████| 7/7 [00:00<00:00, 16.79it/s, avg_epoch_loss=0, epoch=116]\n",
      "100%|██████████| 7/7 [00:00<00:00, 18.30it/s, avg_epoch_loss=0, epoch=117]\n",
      "100%|██████████| 7/7 [00:00<00:00, 18.63it/s, avg_epoch_loss=0, epoch=118]\n",
      "100%|██████████| 7/7 [00:00<00:00, 13.27it/s, avg_epoch_loss=0, epoch=119]\n",
      "100%|██████████| 7/7 [00:00<00:00, 16.48it/s, avg_epoch_loss=0, epoch=120]\n",
      "100%|██████████| 7/7 [00:00<00:00, 16.36it/s, avg_epoch_loss=0, epoch=121]\n",
      "100%|██████████| 7/7 [00:00<00:00, 13.99it/s, avg_epoch_loss=0, epoch=122]\n",
      "100%|██████████| 7/7 [00:00<00:00, 18.45it/s, avg_epoch_loss=0, epoch=123]\n",
      "100%|██████████| 7/7 [00:00<00:00, 18.23it/s, avg_epoch_loss=0, epoch=124]\n",
      "100%|██████████| 7/7 [00:00<00:00, 17.89it/s, avg_epoch_loss=0, epoch=125]\n",
      "100%|██████████| 7/7 [00:00<00:00, 17.93it/s, avg_epoch_loss=0, epoch=126]\n",
      "100%|██████████| 7/7 [00:00<00:00, 17.79it/s, avg_epoch_loss=0, epoch=127]\n",
      "100%|██████████| 7/7 [00:00<00:00, 17.69it/s, avg_epoch_loss=0, epoch=128]\n",
      "100%|██████████| 7/7 [00:00<00:00, 18.95it/s, avg_epoch_loss=0, epoch=129]\n",
      "100%|██████████| 7/7 [00:00<00:00, 18.24it/s, avg_epoch_loss=0, epoch=130]\n",
      "100%|██████████| 7/7 [00:00<00:00, 18.37it/s, avg_epoch_loss=0, epoch=131]\n",
      "100%|██████████| 7/7 [00:00<00:00, 18.63it/s, avg_epoch_loss=0, epoch=132]\n",
      "100%|██████████| 7/7 [00:00<00:00, 18.76it/s, avg_epoch_loss=0, epoch=133]\n",
      "100%|██████████| 7/7 [00:00<00:00, 18.42it/s, avg_epoch_loss=0, epoch=134]\n",
      "100%|██████████| 7/7 [00:00<00:00, 14.16it/s, avg_epoch_loss=0, epoch=135]\n",
      "100%|██████████| 7/7 [00:00<00:00, 14.83it/s, avg_epoch_loss=0, epoch=136]\n",
      "100%|██████████| 7/7 [00:00<00:00, 18.30it/s, avg_epoch_loss=0, epoch=137]\n",
      "100%|██████████| 7/7 [00:00<00:00, 18.16it/s, avg_epoch_loss=0, epoch=138]\n",
      "100%|██████████| 7/7 [00:00<00:00, 17.97it/s, avg_epoch_loss=0, epoch=139]\n",
      "100%|██████████| 7/7 [00:00<00:00, 17.09it/s, avg_epoch_loss=0, epoch=140]\n",
      "100%|██████████| 7/7 [00:00<00:00, 16.55it/s, avg_epoch_loss=0, epoch=141]\n",
      "100%|██████████| 7/7 [00:00<00:00, 17.36it/s, avg_epoch_loss=0, epoch=142]\n",
      "100%|██████████| 7/7 [00:00<00:00, 18.12it/s, avg_epoch_loss=0, epoch=143]\n",
      "100%|██████████| 7/7 [00:00<00:00, 18.65it/s, avg_epoch_loss=0, epoch=144]\n",
      "100%|██████████| 7/7 [00:00<00:00, 12.74it/s, avg_epoch_loss=0, epoch=145]\n",
      "100%|██████████| 7/7 [00:00<00:00, 16.83it/s, avg_epoch_loss=0, epoch=146]\n",
      "100%|██████████| 7/7 [00:00<00:00, 17.79it/s, avg_epoch_loss=0, epoch=147]\n",
      "100%|██████████| 7/7 [00:00<00:00, 18.33it/s, avg_epoch_loss=0, epoch=148]\n",
      "100%|██████████| 7/7 [00:00<00:00, 18.30it/s, avg_epoch_loss=0, epoch=149]\n"
     ]
    },
    {
     "name": "stdout",
     "output_type": "stream",
     "text": [
      "Start validation!!!\n",
      "Epoch: 149\n"
     ]
    },
    {
     "name": "stderr",
     "output_type": "stream",
     "text": [
      "100%|██████████| 2/2 [01:03<00:00, 31.62s/it]\n"
     ]
    },
    {
     "name": "stdout",
     "output_type": "stream",
     "text": [
      "====================================\n",
      "##### End evaluation!!\n",
      "PEHE VAL = 8.48e+03\n"
     ]
    },
    {
     "name": "stderr",
     "output_type": "stream",
     "text": [
      "100%|██████████| 7/7 [00:00<00:00, 17.79it/s, avg_epoch_loss=0, epoch=150]\n",
      "100%|██████████| 7/7 [00:00<00:00, 17.88it/s, avg_epoch_loss=0, epoch=151]\n",
      "100%|██████████| 7/7 [00:00<00:00, 18.24it/s, avg_epoch_loss=0, epoch=152]\n",
      "100%|██████████| 7/7 [00:00<00:00, 15.89it/s, avg_epoch_loss=0, epoch=153]\n",
      "100%|██████████| 7/7 [00:00<00:00, 17.71it/s, avg_epoch_loss=0, epoch=154]\n",
      "100%|██████████| 7/7 [00:00<00:00, 18.19it/s, avg_epoch_loss=0, epoch=155]\n",
      "100%|██████████| 7/7 [00:00<00:00, 17.78it/s, avg_epoch_loss=0, epoch=156]\n",
      "100%|██████████| 7/7 [00:00<00:00, 18.35it/s, avg_epoch_loss=0, epoch=157]\n",
      "100%|██████████| 7/7 [00:00<00:00, 18.47it/s, avg_epoch_loss=0, epoch=158]\n",
      "100%|██████████| 7/7 [00:00<00:00, 18.48it/s, avg_epoch_loss=0, epoch=159]\n",
      "100%|██████████| 7/7 [00:00<00:00, 18.66it/s, avg_epoch_loss=0, epoch=160]\n",
      "100%|██████████| 7/7 [00:00<00:00, 18.10it/s, avg_epoch_loss=0, epoch=161]\n",
      "100%|██████████| 7/7 [00:00<00:00, 18.58it/s, avg_epoch_loss=0, epoch=162]\n",
      "100%|██████████| 7/7 [00:00<00:00, 18.26it/s, avg_epoch_loss=0, epoch=163]\n",
      "100%|██████████| 7/7 [00:00<00:00, 18.41it/s, avg_epoch_loss=0, epoch=164]\n",
      "100%|██████████| 7/7 [00:00<00:00, 18.04it/s, avg_epoch_loss=0, epoch=165]\n",
      "100%|██████████| 7/7 [00:00<00:00, 18.47it/s, avg_epoch_loss=0, epoch=166]\n",
      "100%|██████████| 7/7 [00:00<00:00, 18.11it/s, avg_epoch_loss=0, epoch=167]\n",
      "100%|██████████| 7/7 [00:00<00:00, 17.70it/s, avg_epoch_loss=0, epoch=168]\n",
      "100%|██████████| 7/7 [00:00<00:00, 17.63it/s, avg_epoch_loss=0, epoch=169]\n",
      "100%|██████████| 7/7 [00:00<00:00, 18.25it/s, avg_epoch_loss=0, epoch=170]\n",
      "100%|██████████| 7/7 [00:00<00:00, 18.72it/s, avg_epoch_loss=0, epoch=171]\n",
      "100%|██████████| 7/7 [00:00<00:00, 18.20it/s, avg_epoch_loss=0, epoch=172]\n",
      "100%|██████████| 7/7 [00:00<00:00, 18.34it/s, avg_epoch_loss=0, epoch=173]\n",
      "100%|██████████| 7/7 [00:00<00:00, 16.94it/s, avg_epoch_loss=0, epoch=174]\n",
      "100%|██████████| 7/7 [00:00<00:00, 16.80it/s, avg_epoch_loss=0, epoch=175]\n",
      "100%|██████████| 7/7 [00:00<00:00, 18.19it/s, avg_epoch_loss=0, epoch=176]\n",
      "100%|██████████| 7/7 [00:00<00:00, 13.36it/s, avg_epoch_loss=0, epoch=177]\n",
      "100%|██████████| 7/7 [00:00<00:00, 16.79it/s, avg_epoch_loss=0, epoch=178]\n",
      "100%|██████████| 7/7 [00:00<00:00, 18.64it/s, avg_epoch_loss=0, epoch=179]\n",
      "100%|██████████| 7/7 [00:00<00:00, 18.64it/s, avg_epoch_loss=0, epoch=180]\n",
      "100%|██████████| 7/7 [00:00<00:00, 18.70it/s, avg_epoch_loss=0, epoch=181]\n",
      "100%|██████████| 7/7 [00:00<00:00, 11.85it/s, avg_epoch_loss=0, epoch=182]\n",
      "100%|██████████| 7/7 [00:00<00:00, 18.03it/s, avg_epoch_loss=0, epoch=183]\n",
      "100%|██████████| 7/7 [00:00<00:00, 18.57it/s, avg_epoch_loss=0, epoch=184]\n",
      "100%|██████████| 7/7 [00:00<00:00, 18.76it/s, avg_epoch_loss=0, epoch=185]\n",
      "100%|██████████| 7/7 [00:00<00:00, 18.04it/s, avg_epoch_loss=0, epoch=186]\n",
      "100%|██████████| 7/7 [00:00<00:00, 17.91it/s, avg_epoch_loss=0, epoch=187]\n",
      "100%|██████████| 7/7 [00:00<00:00, 18.38it/s, avg_epoch_loss=0, epoch=188]\n",
      "100%|██████████| 7/7 [00:00<00:00, 18.25it/s, avg_epoch_loss=0, epoch=189]\n",
      "100%|██████████| 7/7 [00:00<00:00, 18.12it/s, avg_epoch_loss=0, epoch=190]\n",
      "100%|██████████| 7/7 [00:00<00:00, 18.22it/s, avg_epoch_loss=0, epoch=191]\n",
      "100%|██████████| 7/7 [00:00<00:00, 18.23it/s, avg_epoch_loss=0, epoch=192]\n",
      "100%|██████████| 7/7 [00:00<00:00, 19.65it/s, avg_epoch_loss=0, epoch=193]\n",
      "100%|██████████| 7/7 [00:00<00:00, 19.67it/s, avg_epoch_loss=0, epoch=194]\n",
      "100%|██████████| 7/7 [00:00<00:00, 19.12it/s, avg_epoch_loss=0, epoch=195]\n",
      "100%|██████████| 7/7 [00:00<00:00, 18.53it/s, avg_epoch_loss=0, epoch=196]\n",
      "100%|██████████| 7/7 [00:00<00:00, 17.72it/s, avg_epoch_loss=0, epoch=197]\n",
      "100%|██████████| 7/7 [00:00<00:00, 17.35it/s, avg_epoch_loss=0, epoch=198]\n",
      "100%|██████████| 7/7 [00:00<00:00, 17.47it/s, avg_epoch_loss=0, epoch=199]\n"
     ]
    },
    {
     "name": "stdout",
     "output_type": "stream",
     "text": [
      "Start validation!!!\n",
      "Epoch: 199\n"
     ]
    },
    {
     "name": "stderr",
     "output_type": "stream",
     "text": [
      "100%|██████████| 2/2 [01:02<00:00, 31.00s/it]\n"
     ]
    },
    {
     "name": "stdout",
     "output_type": "stream",
     "text": [
      "====================================\n",
      "##### End evaluation!!\n",
      "PEHE VAL = 8.64e+03\n"
     ]
    },
    {
     "name": "stderr",
     "output_type": "stream",
     "text": [
      "100%|██████████| 7/7 [00:00<00:00, 18.36it/s, avg_epoch_loss=0, epoch=200]\n",
      "100%|██████████| 7/7 [00:00<00:00, 14.09it/s, avg_epoch_loss=0, epoch=201]\n",
      "100%|██████████| 7/7 [00:00<00:00, 17.88it/s, avg_epoch_loss=0, epoch=202]\n",
      "100%|██████████| 7/7 [00:00<00:00, 18.25it/s, avg_epoch_loss=0, epoch=203]\n",
      "100%|██████████| 7/7 [00:00<00:00, 18.15it/s, avg_epoch_loss=0, epoch=204]\n",
      "100%|██████████| 7/7 [00:00<00:00, 18.38it/s, avg_epoch_loss=0, epoch=205]\n",
      "100%|██████████| 7/7 [00:00<00:00, 18.64it/s, avg_epoch_loss=0, epoch=206]\n",
      "100%|██████████| 7/7 [00:00<00:00, 17.60it/s, avg_epoch_loss=0, epoch=207]\n",
      "100%|██████████| 7/7 [00:00<00:00, 17.10it/s, avg_epoch_loss=0, epoch=208]\n",
      "100%|██████████| 7/7 [00:00<00:00, 18.41it/s, avg_epoch_loss=0, epoch=209]\n",
      "100%|██████████| 7/7 [00:00<00:00, 18.44it/s, avg_epoch_loss=0, epoch=210]\n",
      "100%|██████████| 7/7 [00:00<00:00, 18.08it/s, avg_epoch_loss=0, epoch=211]\n",
      "100%|██████████| 7/7 [00:00<00:00, 18.79it/s, avg_epoch_loss=0, epoch=212]\n",
      "100%|██████████| 7/7 [00:00<00:00, 18.51it/s, avg_epoch_loss=0, epoch=213]\n",
      "100%|██████████| 7/7 [00:00<00:00, 18.83it/s, avg_epoch_loss=0, epoch=214]\n",
      "100%|██████████| 7/7 [00:00<00:00, 19.02it/s, avg_epoch_loss=0, epoch=215]\n",
      "100%|██████████| 7/7 [00:00<00:00, 18.53it/s, avg_epoch_loss=0, epoch=216]\n",
      "100%|██████████| 7/7 [00:00<00:00, 18.18it/s, avg_epoch_loss=0, epoch=217]\n",
      "100%|██████████| 7/7 [00:00<00:00, 17.35it/s, avg_epoch_loss=0, epoch=218]\n",
      "100%|██████████| 7/7 [00:00<00:00, 15.95it/s, avg_epoch_loss=0, epoch=219]\n",
      "100%|██████████| 7/7 [00:00<00:00, 17.41it/s, avg_epoch_loss=0, epoch=220]\n",
      "100%|██████████| 7/7 [00:00<00:00, 18.25it/s, avg_epoch_loss=0, epoch=221]\n",
      "100%|██████████| 7/7 [00:00<00:00, 18.43it/s, avg_epoch_loss=0, epoch=222]\n",
      "100%|██████████| 7/7 [00:00<00:00, 17.99it/s, avg_epoch_loss=0, epoch=223]\n",
      "100%|██████████| 7/7 [00:00<00:00, 18.72it/s, avg_epoch_loss=0, epoch=224]\n",
      "100%|██████████| 7/7 [00:00<00:00, 18.33it/s, avg_epoch_loss=0, epoch=225]\n",
      "100%|██████████| 7/7 [00:00<00:00, 18.24it/s, avg_epoch_loss=0, epoch=226]\n",
      "100%|██████████| 7/7 [00:00<00:00, 18.36it/s, avg_epoch_loss=0, epoch=227]\n",
      "100%|██████████| 7/7 [00:00<00:00, 17.48it/s, avg_epoch_loss=0, epoch=228]\n",
      "100%|██████████| 7/7 [00:00<00:00, 11.88it/s, avg_epoch_loss=0, epoch=229]\n",
      "100%|██████████| 7/7 [00:00<00:00, 13.61it/s, avg_epoch_loss=0, epoch=230]\n",
      "100%|██████████| 7/7 [00:00<00:00, 17.83it/s, avg_epoch_loss=0, epoch=231]\n",
      "100%|██████████| 7/7 [00:00<00:00, 17.48it/s, avg_epoch_loss=0, epoch=232]\n",
      "100%|██████████| 7/7 [00:00<00:00, 17.63it/s, avg_epoch_loss=0, epoch=233]\n",
      "100%|██████████| 7/7 [00:00<00:00, 15.73it/s, avg_epoch_loss=0, epoch=234]\n",
      "100%|██████████| 7/7 [00:00<00:00, 17.22it/s, avg_epoch_loss=0, epoch=235]\n",
      "100%|██████████| 7/7 [00:00<00:00, 18.56it/s, avg_epoch_loss=0, epoch=236]\n",
      "100%|██████████| 7/7 [00:00<00:00, 18.57it/s, avg_epoch_loss=0, epoch=237]\n",
      "100%|██████████| 7/7 [00:00<00:00, 18.30it/s, avg_epoch_loss=0, epoch=238]\n",
      "100%|██████████| 7/7 [00:00<00:00, 18.52it/s, avg_epoch_loss=0, epoch=239]\n",
      "100%|██████████| 7/7 [00:00<00:00, 17.97it/s, avg_epoch_loss=0, epoch=240]\n",
      "100%|██████████| 7/7 [00:00<00:00, 18.03it/s, avg_epoch_loss=0, epoch=241]\n",
      "100%|██████████| 7/7 [00:00<00:00, 18.35it/s, avg_epoch_loss=0, epoch=242]\n",
      "100%|██████████| 7/7 [00:00<00:00, 18.50it/s, avg_epoch_loss=0, epoch=243]\n",
      "100%|██████████| 7/7 [00:00<00:00, 17.76it/s, avg_epoch_loss=0, epoch=244]\n",
      "100%|██████████| 7/7 [00:00<00:00, 17.61it/s, avg_epoch_loss=0, epoch=245]\n",
      "100%|██████████| 7/7 [00:00<00:00, 17.90it/s, avg_epoch_loss=0, epoch=246]\n",
      "100%|██████████| 7/7 [00:00<00:00, 18.16it/s, avg_epoch_loss=0, epoch=247]\n",
      "100%|██████████| 7/7 [00:00<00:00, 17.31it/s, avg_epoch_loss=0, epoch=248]\n",
      "100%|██████████| 7/7 [00:00<00:00, 17.09it/s, avg_epoch_loss=0, epoch=249]\n"
     ]
    },
    {
     "name": "stdout",
     "output_type": "stream",
     "text": [
      "Start validation!!!\n",
      "Epoch: 249\n"
     ]
    },
    {
     "name": "stderr",
     "output_type": "stream",
     "text": [
      "100%|██████████| 2/2 [01:02<00:00, 31.03s/it]\n"
     ]
    },
    {
     "name": "stdout",
     "output_type": "stream",
     "text": [
      "====================================\n",
      "##### End evaluation!!\n",
      "PEHE VAL = 8.31e+03\n"
     ]
    },
    {
     "name": "stderr",
     "output_type": "stream",
     "text": [
      "100%|██████████| 7/7 [00:00<00:00, 14.47it/s, avg_epoch_loss=0, epoch=250]\n",
      "100%|██████████| 7/7 [00:00<00:00, 15.78it/s, avg_epoch_loss=0, epoch=251]\n",
      "100%|██████████| 7/7 [00:00<00:00, 18.29it/s, avg_epoch_loss=0, epoch=252]\n",
      "100%|██████████| 7/7 [00:00<00:00, 18.51it/s, avg_epoch_loss=0, epoch=253]\n",
      "100%|██████████| 7/7 [00:00<00:00, 18.43it/s, avg_epoch_loss=0, epoch=254]\n",
      "100%|██████████| 7/7 [00:00<00:00, 18.53it/s, avg_epoch_loss=0, epoch=255]\n",
      "100%|██████████| 7/7 [00:00<00:00, 18.55it/s, avg_epoch_loss=0, epoch=256]\n",
      "100%|██████████| 7/7 [00:00<00:00, 16.24it/s, avg_epoch_loss=0, epoch=257]\n",
      "100%|██████████| 7/7 [00:00<00:00, 18.00it/s, avg_epoch_loss=0, epoch=258]\n",
      "100%|██████████| 7/7 [00:00<00:00, 18.10it/s, avg_epoch_loss=0, epoch=259]\n",
      "100%|██████████| 7/7 [00:00<00:00, 18.14it/s, avg_epoch_loss=0, epoch=260]\n",
      "100%|██████████| 7/7 [00:00<00:00, 18.11it/s, avg_epoch_loss=0, epoch=261]\n",
      "100%|██████████| 7/7 [00:00<00:00, 18.14it/s, avg_epoch_loss=0, epoch=262]\n",
      "100%|██████████| 7/7 [00:00<00:00, 18.13it/s, avg_epoch_loss=0, epoch=263]\n",
      "100%|██████████| 7/7 [00:00<00:00, 14.10it/s, avg_epoch_loss=0, epoch=264]\n",
      "100%|██████████| 7/7 [00:00<00:00, 14.32it/s, avg_epoch_loss=0, epoch=265]\n",
      "100%|██████████| 7/7 [00:00<00:00, 17.40it/s, avg_epoch_loss=0, epoch=266]\n",
      "100%|██████████| 7/7 [00:00<00:00, 17.88it/s, avg_epoch_loss=0, epoch=267]\n",
      "100%|██████████| 7/7 [00:00<00:00, 18.46it/s, avg_epoch_loss=0, epoch=268]\n",
      "100%|██████████| 7/7 [00:00<00:00, 18.54it/s, avg_epoch_loss=0, epoch=269]\n",
      "100%|██████████| 7/7 [00:00<00:00, 18.84it/s, avg_epoch_loss=0, epoch=270]\n",
      "100%|██████████| 7/7 [00:00<00:00, 18.43it/s, avg_epoch_loss=0, epoch=271]\n",
      "100%|██████████| 7/7 [00:00<00:00, 18.07it/s, avg_epoch_loss=0, epoch=272]\n",
      "100%|██████████| 7/7 [00:00<00:00, 18.02it/s, avg_epoch_loss=0, epoch=273]\n",
      "100%|██████████| 7/7 [00:00<00:00, 11.30it/s, avg_epoch_loss=0, epoch=274]\n",
      "100%|██████████| 7/7 [00:00<00:00, 13.89it/s, avg_epoch_loss=0, epoch=275]\n",
      "100%|██████████| 7/7 [00:00<00:00, 15.87it/s, avg_epoch_loss=0, epoch=276]\n",
      "100%|██████████| 7/7 [00:00<00:00, 17.66it/s, avg_epoch_loss=0, epoch=277]\n",
      "100%|██████████| 7/7 [00:00<00:00, 18.17it/s, avg_epoch_loss=0, epoch=278]\n",
      "100%|██████████| 7/7 [00:00<00:00, 14.15it/s, avg_epoch_loss=0, epoch=279]\n",
      "100%|██████████| 7/7 [00:00<00:00, 18.57it/s, avg_epoch_loss=0, epoch=280]\n",
      "100%|██████████| 7/7 [00:00<00:00, 18.44it/s, avg_epoch_loss=0, epoch=281]\n",
      "100%|██████████| 7/7 [00:00<00:00, 18.66it/s, avg_epoch_loss=0, epoch=282]\n",
      "100%|██████████| 7/7 [00:00<00:00, 18.38it/s, avg_epoch_loss=0, epoch=283]\n",
      "100%|██████████| 7/7 [00:00<00:00, 18.51it/s, avg_epoch_loss=0, epoch=284]\n",
      "100%|██████████| 7/7 [00:00<00:00, 15.50it/s, avg_epoch_loss=0, epoch=285]\n",
      "100%|██████████| 7/7 [00:00<00:00, 16.98it/s, avg_epoch_loss=0, epoch=286]\n",
      "100%|██████████| 7/7 [00:00<00:00, 18.32it/s, avg_epoch_loss=0, epoch=287]\n",
      "100%|██████████| 7/7 [00:00<00:00, 18.52it/s, avg_epoch_loss=0, epoch=288]\n",
      "100%|██████████| 7/7 [00:00<00:00, 18.74it/s, avg_epoch_loss=0, epoch=289]\n",
      "100%|██████████| 7/7 [00:00<00:00, 18.32it/s, avg_epoch_loss=0, epoch=290]\n",
      "100%|██████████| 7/7 [00:00<00:00, 17.66it/s, avg_epoch_loss=0, epoch=291]\n",
      "100%|██████████| 7/7 [00:00<00:00, 17.75it/s, avg_epoch_loss=0, epoch=292]\n",
      "100%|██████████| 7/7 [00:00<00:00, 18.36it/s, avg_epoch_loss=0, epoch=293]\n",
      "100%|██████████| 7/7 [00:00<00:00, 18.15it/s, avg_epoch_loss=0, epoch=294]\n",
      "100%|██████████| 7/7 [00:00<00:00, 19.82it/s, avg_epoch_loss=0, epoch=295]\n",
      "100%|██████████| 7/7 [00:00<00:00, 20.70it/s, avg_epoch_loss=0, epoch=296]\n",
      "100%|██████████| 7/7 [00:00<00:00, 20.39it/s, avg_epoch_loss=0, epoch=297]\n",
      "100%|██████████| 7/7 [00:00<00:00, 20.21it/s, avg_epoch_loss=0, epoch=298]\n",
      "100%|██████████| 7/7 [00:00<00:00, 18.14it/s, avg_epoch_loss=0, epoch=299]\n"
     ]
    },
    {
     "name": "stdout",
     "output_type": "stream",
     "text": [
      "Start validation!!!\n",
      "Epoch: 299\n"
     ]
    },
    {
     "name": "stderr",
     "output_type": "stream",
     "text": [
      "100%|██████████| 2/2 [01:02<00:00, 31.03s/it]\n"
     ]
    },
    {
     "name": "stdout",
     "output_type": "stream",
     "text": [
      "====================================\n",
      "##### End evaluation!!\n",
      "PEHE VAL = 8.37e+03\n"
     ]
    },
    {
     "name": "stderr",
     "output_type": "stream",
     "text": [
      "100%|██████████| 7/7 [00:00<00:00, 18.29it/s, avg_epoch_loss=0, epoch=300]\n",
      "100%|██████████| 7/7 [00:00<00:00, 12.83it/s, avg_epoch_loss=0, epoch=301]\n",
      "100%|██████████| 7/7 [00:00<00:00, 16.78it/s, avg_epoch_loss=0, epoch=302]\n",
      "100%|██████████| 7/7 [00:00<00:00, 18.86it/s, avg_epoch_loss=0, epoch=303]\n",
      "100%|██████████| 7/7 [00:00<00:00, 18.92it/s, avg_epoch_loss=0, epoch=304]\n",
      "100%|██████████| 7/7 [00:00<00:00, 18.72it/s, avg_epoch_loss=0, epoch=305]\n",
      "100%|██████████| 7/7 [00:00<00:00, 18.81it/s, avg_epoch_loss=0, epoch=306]\n",
      "100%|██████████| 7/7 [00:00<00:00, 18.40it/s, avg_epoch_loss=0, epoch=307]\n",
      "100%|██████████| 7/7 [00:00<00:00, 18.16it/s, avg_epoch_loss=0, epoch=308]\n",
      "100%|██████████| 7/7 [00:00<00:00, 17.62it/s, avg_epoch_loss=0, epoch=309]\n",
      "100%|██████████| 7/7 [00:00<00:00, 18.36it/s, avg_epoch_loss=0, epoch=310]\n",
      "100%|██████████| 7/7 [00:00<00:00, 18.15it/s, avg_epoch_loss=0, epoch=311]\n",
      "100%|██████████| 7/7 [00:00<00:00, 17.78it/s, avg_epoch_loss=0, epoch=312]\n",
      "100%|██████████| 7/7 [00:00<00:00, 18.73it/s, avg_epoch_loss=0, epoch=313]\n",
      "100%|██████████| 7/7 [00:00<00:00, 18.30it/s, avg_epoch_loss=0, epoch=314]\n",
      "100%|██████████| 7/7 [00:00<00:00, 18.33it/s, avg_epoch_loss=0, epoch=315]\n",
      "100%|██████████| 7/7 [00:00<00:00, 18.40it/s, avg_epoch_loss=0, epoch=316]\n",
      "100%|██████████| 7/7 [00:00<00:00, 18.60it/s, avg_epoch_loss=0, epoch=317]\n",
      "100%|██████████| 7/7 [00:00<00:00, 17.84it/s, avg_epoch_loss=0, epoch=318]\n",
      "100%|██████████| 7/7 [00:00<00:00, 16.68it/s, avg_epoch_loss=0, epoch=319]\n",
      "100%|██████████| 7/7 [00:00<00:00, 17.66it/s, avg_epoch_loss=0, epoch=320]\n",
      "100%|██████████| 7/7 [00:00<00:00, 17.98it/s, avg_epoch_loss=0, epoch=321]\n",
      "100%|██████████| 7/7 [00:00<00:00, 18.16it/s, avg_epoch_loss=0, epoch=322]\n",
      "100%|██████████| 7/7 [00:00<00:00, 18.05it/s, avg_epoch_loss=0, epoch=323]\n",
      "100%|██████████| 7/7 [00:00<00:00, 18.72it/s, avg_epoch_loss=0, epoch=324]\n",
      "100%|██████████| 7/7 [00:00<00:00, 16.32it/s, avg_epoch_loss=0, epoch=325]\n",
      "100%|██████████| 7/7 [00:00<00:00, 18.90it/s, avg_epoch_loss=0, epoch=326]\n",
      "100%|██████████| 7/7 [00:00<00:00, 18.09it/s, avg_epoch_loss=0, epoch=327]\n",
      "100%|██████████| 7/7 [00:00<00:00, 18.02it/s, avg_epoch_loss=0, epoch=328]\n",
      "100%|██████████| 7/7 [00:00<00:00, 18.57it/s, avg_epoch_loss=0, epoch=329]\n",
      "100%|██████████| 7/7 [00:00<00:00, 18.09it/s, avg_epoch_loss=0, epoch=330]\n",
      "100%|██████████| 7/7 [00:00<00:00, 18.19it/s, avg_epoch_loss=0, epoch=331]\n",
      "100%|██████████| 7/7 [00:00<00:00, 18.58it/s, avg_epoch_loss=0, epoch=332]\n",
      "100%|██████████| 7/7 [00:00<00:00, 18.37it/s, avg_epoch_loss=0, epoch=333]\n",
      "100%|██████████| 7/7 [00:00<00:00, 17.64it/s, avg_epoch_loss=0, epoch=334]\n",
      "100%|██████████| 7/7 [00:00<00:00, 17.23it/s, avg_epoch_loss=0, epoch=335]\n",
      "100%|██████████| 7/7 [00:00<00:00, 13.55it/s, avg_epoch_loss=0, epoch=336]\n",
      "100%|██████████| 7/7 [00:00<00:00, 16.84it/s, avg_epoch_loss=0, epoch=337]\n",
      "100%|██████████| 7/7 [00:00<00:00, 17.50it/s, avg_epoch_loss=0, epoch=338]\n",
      "100%|██████████| 7/7 [00:00<00:00, 18.68it/s, avg_epoch_loss=0, epoch=339]\n",
      "100%|██████████| 7/7 [00:00<00:00, 18.17it/s, avg_epoch_loss=0, epoch=340]\n",
      "100%|██████████| 7/7 [00:00<00:00, 18.32it/s, avg_epoch_loss=0, epoch=341]\n",
      "100%|██████████| 7/7 [00:00<00:00, 18.11it/s, avg_epoch_loss=0, epoch=342]\n",
      "100%|██████████| 7/7 [00:00<00:00, 18.48it/s, avg_epoch_loss=0, epoch=343]\n",
      "100%|██████████| 7/7 [00:00<00:00, 12.34it/s, avg_epoch_loss=0, epoch=344]\n",
      "100%|██████████| 7/7 [00:00<00:00, 16.53it/s, avg_epoch_loss=0, epoch=345]\n",
      "100%|██████████| 7/7 [00:00<00:00, 16.28it/s, avg_epoch_loss=0, epoch=346]\n",
      "100%|██████████| 7/7 [00:00<00:00, 16.19it/s, avg_epoch_loss=0, epoch=347]\n",
      "100%|██████████| 7/7 [00:00<00:00, 16.06it/s, avg_epoch_loss=0, epoch=348]\n",
      "100%|██████████| 7/7 [00:00<00:00, 16.69it/s, avg_epoch_loss=0, epoch=349]\n"
     ]
    },
    {
     "name": "stdout",
     "output_type": "stream",
     "text": [
      "Start validation!!!\n",
      "Epoch: 349\n"
     ]
    },
    {
     "name": "stderr",
     "output_type": "stream",
     "text": [
      "100%|██████████| 2/2 [01:02<00:00, 31.03s/it]\n"
     ]
    },
    {
     "name": "stdout",
     "output_type": "stream",
     "text": [
      "====================================\n",
      "##### End evaluation!!\n",
      "PEHE VAL = 8.91e+03\n"
     ]
    },
    {
     "name": "stderr",
     "output_type": "stream",
     "text": [
      "100%|██████████| 7/7 [00:00<00:00, 17.63it/s, avg_epoch_loss=0, epoch=350]\n",
      "100%|██████████| 7/7 [00:00<00:00, 18.04it/s, avg_epoch_loss=0, epoch=351]\n",
      "100%|██████████| 7/7 [00:00<00:00, 18.26it/s, avg_epoch_loss=0, epoch=352]\n",
      "100%|██████████| 7/7 [00:00<00:00, 18.36it/s, avg_epoch_loss=0, epoch=353]\n",
      "100%|██████████| 7/7 [00:00<00:00, 18.39it/s, avg_epoch_loss=0, epoch=354]\n",
      "100%|██████████| 7/7 [00:00<00:00, 18.08it/s, avg_epoch_loss=0, epoch=355]\n",
      "100%|██████████| 7/7 [00:00<00:00, 18.03it/s, avg_epoch_loss=0, epoch=356]\n",
      "100%|██████████| 7/7 [00:00<00:00, 17.97it/s, avg_epoch_loss=0, epoch=357]\n",
      "100%|██████████| 7/7 [00:00<00:00, 18.34it/s, avg_epoch_loss=0, epoch=358]\n",
      "100%|██████████| 7/7 [00:00<00:00, 18.27it/s, avg_epoch_loss=0, epoch=359]\n",
      "100%|██████████| 7/7 [00:00<00:00, 18.51it/s, avg_epoch_loss=0, epoch=360]\n",
      "100%|██████████| 7/7 [00:00<00:00, 14.13it/s, avg_epoch_loss=0, epoch=361]\n",
      "100%|██████████| 7/7 [00:00<00:00, 17.20it/s, avg_epoch_loss=0, epoch=362]\n",
      "100%|██████████| 7/7 [00:00<00:00, 17.98it/s, avg_epoch_loss=0, epoch=363]\n",
      "100%|██████████| 7/7 [00:00<00:00, 17.58it/s, avg_epoch_loss=0, epoch=364]\n",
      "100%|██████████| 7/7 [00:00<00:00, 17.41it/s, avg_epoch_loss=0, epoch=365]\n",
      "100%|██████████| 7/7 [00:00<00:00, 17.85it/s, avg_epoch_loss=0, epoch=366]\n",
      "100%|██████████| 7/7 [00:00<00:00, 17.73it/s, avg_epoch_loss=0, epoch=367]\n",
      "100%|██████████| 7/7 [00:00<00:00, 17.85it/s, avg_epoch_loss=0, epoch=368]\n",
      "100%|██████████| 7/7 [00:00<00:00, 18.45it/s, avg_epoch_loss=0, epoch=369]\n",
      "100%|██████████| 7/7 [00:00<00:00, 18.25it/s, avg_epoch_loss=0, epoch=370]\n",
      "100%|██████████| 7/7 [00:00<00:00, 18.11it/s, avg_epoch_loss=0, epoch=371]\n",
      "100%|██████████| 7/7 [00:00<00:00, 17.94it/s, avg_epoch_loss=0, epoch=372]\n",
      "100%|██████████| 7/7 [00:00<00:00, 18.44it/s, avg_epoch_loss=0, epoch=373]\n",
      "100%|██████████| 7/7 [00:00<00:00, 18.25it/s, avg_epoch_loss=0, epoch=374]\n",
      "100%|██████████| 7/7 [00:00<00:00, 17.91it/s, avg_epoch_loss=0, epoch=375]\n",
      "100%|██████████| 7/7 [00:00<00:00, 18.34it/s, avg_epoch_loss=0, epoch=376]\n",
      "100%|██████████| 7/7 [00:00<00:00, 18.27it/s, avg_epoch_loss=0, epoch=377]\n",
      "100%|██████████| 7/7 [00:00<00:00, 16.61it/s, avg_epoch_loss=0, epoch=378]\n",
      "100%|██████████| 7/7 [00:00<00:00, 18.05it/s, avg_epoch_loss=0, epoch=379]\n",
      "100%|██████████| 7/7 [00:00<00:00, 14.35it/s, avg_epoch_loss=0, epoch=380]\n",
      "100%|██████████| 7/7 [00:00<00:00, 18.85it/s, avg_epoch_loss=0, epoch=381]\n",
      "100%|██████████| 7/7 [00:00<00:00, 18.77it/s, avg_epoch_loss=0, epoch=382]\n",
      "100%|██████████| 7/7 [00:00<00:00, 18.63it/s, avg_epoch_loss=0, epoch=383]\n",
      "100%|██████████| 7/7 [00:00<00:00, 19.07it/s, avg_epoch_loss=0, epoch=384]\n",
      "100%|██████████| 7/7 [00:00<00:00, 18.32it/s, avg_epoch_loss=0, epoch=385]\n",
      "100%|██████████| 7/7 [00:00<00:00, 17.93it/s, avg_epoch_loss=0, epoch=386]\n",
      "100%|██████████| 7/7 [00:00<00:00, 18.02it/s, avg_epoch_loss=0, epoch=387]\n",
      "100%|██████████| 7/7 [00:00<00:00, 18.09it/s, avg_epoch_loss=0, epoch=388]\n",
      "100%|██████████| 7/7 [00:00<00:00, 15.03it/s, avg_epoch_loss=0, epoch=389]\n",
      "100%|██████████| 7/7 [00:00<00:00, 17.30it/s, avg_epoch_loss=0, epoch=390]\n",
      "100%|██████████| 7/7 [00:00<00:00, 18.30it/s, avg_epoch_loss=0, epoch=391]\n",
      "100%|██████████| 7/7 [00:00<00:00, 18.47it/s, avg_epoch_loss=0, epoch=392]\n",
      "100%|██████████| 7/7 [00:00<00:00, 18.82it/s, avg_epoch_loss=0, epoch=393]\n",
      "100%|██████████| 7/7 [00:00<00:00, 17.94it/s, avg_epoch_loss=0, epoch=394]\n",
      "100%|██████████| 7/7 [00:00<00:00, 17.44it/s, avg_epoch_loss=0, epoch=395]\n",
      "100%|██████████| 7/7 [00:00<00:00, 17.60it/s, avg_epoch_loss=0, epoch=396]\n",
      "100%|██████████| 7/7 [00:00<00:00, 17.73it/s, avg_epoch_loss=0, epoch=397]\n",
      "100%|██████████| 7/7 [00:00<00:00, 17.88it/s, avg_epoch_loss=0, epoch=398]\n",
      "100%|██████████| 7/7 [00:00<00:00, 16.83it/s, avg_epoch_loss=0, epoch=399]\n"
     ]
    },
    {
     "name": "stdout",
     "output_type": "stream",
     "text": [
      "Start validation!!!\n",
      "Epoch: 399\n"
     ]
    },
    {
     "name": "stderr",
     "output_type": "stream",
     "text": [
      "100%|██████████| 2/2 [00:59<00:00, 29.78s/it]\n"
     ]
    },
    {
     "name": "stdout",
     "output_type": "stream",
     "text": [
      "====================================\n",
      "##### End evaluation!!\n",
      "PEHE VAL = 8.9e+03\n"
     ]
    },
    {
     "name": "stderr",
     "output_type": "stream",
     "text": [
      "100%|██████████| 7/7 [00:00<00:00, 18.49it/s, avg_epoch_loss=0, epoch=400]\n",
      "100%|██████████| 7/7 [00:00<00:00, 16.43it/s, avg_epoch_loss=0, epoch=401]\n",
      "100%|██████████| 7/7 [00:00<00:00, 18.33it/s, avg_epoch_loss=0, epoch=402]\n",
      "100%|██████████| 7/7 [00:00<00:00, 14.39it/s, avg_epoch_loss=0, epoch=403]\n",
      "100%|██████████| 7/7 [00:00<00:00, 14.59it/s, avg_epoch_loss=0, epoch=404]\n",
      "100%|██████████| 7/7 [00:00<00:00, 17.71it/s, avg_epoch_loss=0, epoch=405]\n",
      "100%|██████████| 7/7 [00:00<00:00, 16.92it/s, avg_epoch_loss=0, epoch=406]\n",
      "100%|██████████| 7/7 [00:00<00:00, 18.10it/s, avg_epoch_loss=0, epoch=407]\n",
      "100%|██████████| 7/7 [00:00<00:00, 17.71it/s, avg_epoch_loss=0, epoch=408]\n",
      "100%|██████████| 7/7 [00:00<00:00, 16.44it/s, avg_epoch_loss=0, epoch=409]\n",
      "100%|██████████| 7/7 [00:00<00:00, 18.09it/s, avg_epoch_loss=0, epoch=410]\n",
      "100%|██████████| 7/7 [00:00<00:00, 18.12it/s, avg_epoch_loss=0, epoch=411]\n",
      "100%|██████████| 7/7 [00:00<00:00, 17.04it/s, avg_epoch_loss=0, epoch=412]\n",
      "100%|██████████| 7/7 [00:00<00:00, 17.99it/s, avg_epoch_loss=0, epoch=413]\n",
      "100%|██████████| 7/7 [00:00<00:00, 17.83it/s, avg_epoch_loss=0, epoch=414]\n",
      "100%|██████████| 7/7 [00:00<00:00, 17.96it/s, avg_epoch_loss=0, epoch=415]\n",
      "100%|██████████| 7/7 [00:00<00:00, 18.58it/s, avg_epoch_loss=0, epoch=416]\n",
      "100%|██████████| 7/7 [00:00<00:00, 18.24it/s, avg_epoch_loss=0, epoch=417]\n",
      "100%|██████████| 7/7 [00:00<00:00, 18.06it/s, avg_epoch_loss=0, epoch=418]\n",
      "100%|██████████| 7/7 [00:00<00:00, 15.65it/s, avg_epoch_loss=0, epoch=419]\n",
      "100%|██████████| 7/7 [00:00<00:00, 17.47it/s, avg_epoch_loss=0, epoch=420]\n",
      "100%|██████████| 7/7 [00:00<00:00, 18.42it/s, avg_epoch_loss=0, epoch=421]\n",
      "100%|██████████| 7/7 [00:00<00:00, 18.46it/s, avg_epoch_loss=0, epoch=422]\n",
      "100%|██████████| 7/7 [00:00<00:00, 18.28it/s, avg_epoch_loss=0, epoch=423]\n",
      "100%|██████████| 7/7 [00:00<00:00, 17.73it/s, avg_epoch_loss=0, epoch=424]\n",
      "100%|██████████| 7/7 [00:00<00:00, 18.16it/s, avg_epoch_loss=0, epoch=425]\n",
      "100%|██████████| 7/7 [00:00<00:00, 18.05it/s, avg_epoch_loss=0, epoch=426]\n",
      "100%|██████████| 7/7 [00:00<00:00, 18.17it/s, avg_epoch_loss=0, epoch=427]\n",
      "100%|██████████| 7/7 [00:00<00:00, 14.03it/s, avg_epoch_loss=0, epoch=428]\n",
      "100%|██████████| 7/7 [00:00<00:00, 17.50it/s, avg_epoch_loss=0, epoch=429]\n",
      "100%|██████████| 7/7 [00:00<00:00, 14.37it/s, avg_epoch_loss=0, epoch=430]\n",
      "100%|██████████| 7/7 [00:00<00:00, 18.59it/s, avg_epoch_loss=0, epoch=431]\n",
      "100%|██████████| 7/7 [00:00<00:00, 17.73it/s, avg_epoch_loss=0, epoch=432]\n",
      "100%|██████████| 7/7 [00:00<00:00, 18.28it/s, avg_epoch_loss=0, epoch=433]\n",
      "100%|██████████| 7/7 [00:00<00:00, 13.69it/s, avg_epoch_loss=0, epoch=434]\n",
      "100%|██████████| 7/7 [00:00<00:00, 16.71it/s, avg_epoch_loss=0, epoch=435]\n",
      "100%|██████████| 7/7 [00:00<00:00, 18.21it/s, avg_epoch_loss=0, epoch=436]\n",
      "100%|██████████| 7/7 [00:00<00:00, 18.41it/s, avg_epoch_loss=0, epoch=437]\n",
      "100%|██████████| 7/7 [00:00<00:00, 18.67it/s, avg_epoch_loss=0, epoch=438]\n",
      "100%|██████████| 7/7 [00:00<00:00, 17.54it/s, avg_epoch_loss=0, epoch=439]\n",
      "100%|██████████| 7/7 [00:00<00:00, 18.23it/s, avg_epoch_loss=0, epoch=440]\n",
      "100%|██████████| 7/7 [00:00<00:00, 17.94it/s, avg_epoch_loss=0, epoch=441]\n",
      "100%|██████████| 7/7 [00:00<00:00, 18.44it/s, avg_epoch_loss=0, epoch=442]\n",
      "100%|██████████| 7/7 [00:00<00:00, 18.01it/s, avg_epoch_loss=0, epoch=443]\n",
      "100%|██████████| 7/7 [00:00<00:00, 18.22it/s, avg_epoch_loss=0, epoch=444]\n",
      "100%|██████████| 7/7 [00:00<00:00, 18.16it/s, avg_epoch_loss=0, epoch=445]\n",
      "100%|██████████| 7/7 [00:00<00:00, 18.46it/s, avg_epoch_loss=0, epoch=446]\n",
      "100%|██████████| 7/7 [00:00<00:00, 16.47it/s, avg_epoch_loss=0, epoch=447]\n",
      "100%|██████████| 7/7 [00:00<00:00, 16.96it/s, avg_epoch_loss=0, epoch=448]\n",
      "100%|██████████| 7/7 [00:00<00:00, 16.76it/s, avg_epoch_loss=0, epoch=449]\n"
     ]
    },
    {
     "name": "stdout",
     "output_type": "stream",
     "text": [
      "Start validation!!!\n",
      "Epoch: 449\n"
     ]
    },
    {
     "name": "stderr",
     "output_type": "stream",
     "text": [
      "100%|██████████| 2/2 [01:02<00:00, 31.01s/it]\n"
     ]
    },
    {
     "name": "stdout",
     "output_type": "stream",
     "text": [
      "====================================\n",
      "##### End evaluation!!\n",
      "PEHE VAL = 8.03e+03\n"
     ]
    },
    {
     "name": "stderr",
     "output_type": "stream",
     "text": [
      "100%|██████████| 7/7 [00:00<00:00, 17.76it/s, avg_epoch_loss=0, epoch=450]\n",
      "100%|██████████| 7/7 [00:00<00:00, 18.26it/s, avg_epoch_loss=0, epoch=451]\n",
      "100%|██████████| 7/7 [00:00<00:00, 17.62it/s, avg_epoch_loss=0, epoch=452]\n",
      "100%|██████████| 7/7 [00:00<00:00, 18.00it/s, avg_epoch_loss=0, epoch=453]\n",
      "100%|██████████| 7/7 [00:00<00:00, 18.08it/s, avg_epoch_loss=0, epoch=454]\n",
      "100%|██████████| 7/7 [00:00<00:00, 17.76it/s, avg_epoch_loss=0, epoch=455]\n",
      "100%|██████████| 7/7 [00:00<00:00, 17.91it/s, avg_epoch_loss=0, epoch=456]\n",
      "100%|██████████| 7/7 [00:00<00:00, 17.57it/s, avg_epoch_loss=0, epoch=457]\n",
      "100%|██████████| 7/7 [00:00<00:00, 17.74it/s, avg_epoch_loss=0, epoch=458]\n",
      "100%|██████████| 7/7 [00:00<00:00, 17.42it/s, avg_epoch_loss=0, epoch=459]\n",
      "100%|██████████| 7/7 [00:00<00:00, 18.13it/s, avg_epoch_loss=0, epoch=460]\n",
      "100%|██████████| 7/7 [00:00<00:00, 18.31it/s, avg_epoch_loss=0, epoch=461]\n",
      "100%|██████████| 7/7 [00:00<00:00, 18.15it/s, avg_epoch_loss=0, epoch=462]\n",
      "100%|██████████| 7/7 [00:00<00:00, 18.28it/s, avg_epoch_loss=0, epoch=463]\n",
      "100%|██████████| 7/7 [00:00<00:00, 16.44it/s, avg_epoch_loss=0, epoch=464]\n",
      "100%|██████████| 7/7 [00:00<00:00, 16.07it/s, avg_epoch_loss=0, epoch=465]\n",
      "100%|██████████| 7/7 [00:00<00:00, 18.14it/s, avg_epoch_loss=0, epoch=466]\n",
      "100%|██████████| 7/7 [00:00<00:00, 18.23it/s, avg_epoch_loss=0, epoch=467]\n",
      "100%|██████████| 7/7 [00:00<00:00, 17.80it/s, avg_epoch_loss=0, epoch=468]\n",
      "100%|██████████| 7/7 [00:00<00:00, 17.21it/s, avg_epoch_loss=0, epoch=469]\n",
      "100%|██████████| 7/7 [00:00<00:00, 17.61it/s, avg_epoch_loss=0, epoch=470]\n",
      "100%|██████████| 7/7 [00:00<00:00, 17.91it/s, avg_epoch_loss=0, epoch=471]\n",
      "100%|██████████| 7/7 [00:00<00:00, 18.39it/s, avg_epoch_loss=0, epoch=472]\n",
      "100%|██████████| 7/7 [00:00<00:00, 18.32it/s, avg_epoch_loss=0, epoch=473]\n",
      "100%|██████████| 7/7 [00:00<00:00, 17.68it/s, avg_epoch_loss=0, epoch=474]\n",
      "100%|██████████| 7/7 [00:00<00:00, 17.49it/s, avg_epoch_loss=0, epoch=475]\n",
      "100%|██████████| 7/7 [00:00<00:00, 18.25it/s, avg_epoch_loss=0, epoch=476]\n",
      "100%|██████████| 7/7 [00:00<00:00, 18.21it/s, avg_epoch_loss=0, epoch=477]\n",
      "100%|██████████| 7/7 [00:00<00:00, 18.07it/s, avg_epoch_loss=0, epoch=478]\n",
      "100%|██████████| 7/7 [00:00<00:00, 18.12it/s, avg_epoch_loss=0, epoch=479]\n",
      "100%|██████████| 7/7 [00:00<00:00, 17.98it/s, avg_epoch_loss=0, epoch=480]\n",
      "100%|██████████| 7/7 [00:00<00:00, 18.37it/s, avg_epoch_loss=0, epoch=481]\n",
      "100%|██████████| 7/7 [00:00<00:00, 18.23it/s, avg_epoch_loss=0, epoch=482]\n",
      "100%|██████████| 7/7 [00:00<00:00, 17.82it/s, avg_epoch_loss=0, epoch=483]\n",
      "100%|██████████| 7/7 [00:00<00:00, 18.25it/s, avg_epoch_loss=0, epoch=484]\n",
      "100%|██████████| 7/7 [00:00<00:00, 18.04it/s, avg_epoch_loss=0, epoch=485]\n",
      "100%|██████████| 7/7 [00:00<00:00, 14.14it/s, avg_epoch_loss=0, epoch=486]\n",
      "100%|██████████| 7/7 [00:00<00:00, 16.85it/s, avg_epoch_loss=0, epoch=487]\n",
      "100%|██████████| 7/7 [00:00<00:00, 18.75it/s, avg_epoch_loss=0, epoch=488]\n",
      "100%|██████████| 7/7 [00:00<00:00, 15.48it/s, avg_epoch_loss=0, epoch=489]\n",
      "100%|██████████| 7/7 [00:00<00:00, 18.37it/s, avg_epoch_loss=0, epoch=490]\n",
      "100%|██████████| 7/7 [00:00<00:00, 18.62it/s, avg_epoch_loss=0, epoch=491]\n",
      "100%|██████████| 7/7 [00:00<00:00, 18.96it/s, avg_epoch_loss=0, epoch=492]\n",
      "100%|██████████| 7/7 [00:00<00:00, 16.65it/s, avg_epoch_loss=0, epoch=493]\n",
      "100%|██████████| 7/7 [00:00<00:00, 18.40it/s, avg_epoch_loss=0, epoch=494]\n",
      "100%|██████████| 7/7 [00:00<00:00, 18.63it/s, avg_epoch_loss=0, epoch=495]\n",
      "100%|██████████| 7/7 [00:00<00:00, 18.29it/s, avg_epoch_loss=0, epoch=496]\n",
      "100%|██████████| 7/7 [00:00<00:00, 17.83it/s, avg_epoch_loss=0, epoch=497]\n",
      "100%|██████████| 7/7 [00:00<00:00, 18.62it/s, avg_epoch_loss=0, epoch=498]\n",
      "100%|██████████| 7/7 [00:00<00:00, 18.79it/s, avg_epoch_loss=0, epoch=499]\n"
     ]
    },
    {
     "name": "stdout",
     "output_type": "stream",
     "text": [
      "Start validation!!!\n",
      "Epoch: 499\n"
     ]
    },
    {
     "name": "stderr",
     "output_type": "stream",
     "text": [
      "100%|██████████| 2/2 [01:01<00:00, 30.56s/it]\n"
     ]
    },
    {
     "name": "stdout",
     "output_type": "stream",
     "text": [
      "====================================\n",
      "##### End evaluation!!\n",
      "PEHE VAL = 8.54e+03\n",
      "Training complete.\n",
      "Evaluating the model...\n"
     ]
    },
    {
     "name": "stderr",
     "output_type": "stream",
     "text": [
      "100%|██████████| 12/12 [14:07<00:00, 70.65s/it]\n",
      "GPU available: True (mps), used: False\n",
      "TPU available: False, using: 0 TPU cores\n",
      "HPU available: False, using: 0 HPUs\n",
      "\n",
      "  | Name           | Type        | Params | Mode \n",
      "-------------------------------------------------------\n",
      "0 | balancer       | Sequential  | 1.6 K  | train\n",
      "1 | prior_encoder0 | Sequential  | 0      | train\n",
      "2 | prior_encoder1 | Sequential  | 0      | train\n",
      "3 | cond_mean0     | Sequential  | 701    | train\n",
      "4 | cond_mean1     | Sequential  | 701    | train\n",
      "5 | cond_std0      | Sequential  | 701    | train\n",
      "6 | cond_std1      | Sequential  | 701    | train\n",
      "7 | flows0         | DSFMarginal | 892    | train\n",
      "8 | flows1         | DSFMarginal | 892    | train\n",
      "-------------------------------------------------------\n",
      "6.2 K     Trainable params\n",
      "0         Non-trainable params\n",
      "6.2 K     Total params\n",
      "0.025     Total estimated model params size (MB)\n",
      "45        Modules in train mode\n",
      "0         Modules in eval mode\n"
     ]
    },
    {
     "name": "stdout",
     "output_type": "stream",
     "text": [
      "Fit and evaluate NOFLITE ...\n"
     ]
    },
    {
     "data": {
      "application/vnd.jupyter.widget-view+json": {
       "model_id": "ad750ab337fe437faae802318bdec330",
       "version_major": 2,
       "version_minor": 0
      },
      "text/plain": [
       "Training: |          | 0/? [00:00<?, ?it/s]"
      ]
     },
     "metadata": {},
     "output_type": "display_data"
    },
    {
     "name": "stderr",
     "output_type": "stream",
     "text": [
      "`Trainer.fit` stopped: `max_steps=10000` reached.\n"
     ]
    },
    {
     "name": "stdout",
     "output_type": "stream",
     "text": [
      "|====================================================================================================|Fit and evaluate CCT-learner ...\n",
      "Fit and evaluate BART ...\n"
     ]
    },
    {
     "name": "stderr",
     "output_type": "stream",
     "text": [
      "Multiprocess sampling (4 chains in 4 jobs)\n",
      "PGBART: [mu]\n"
     ]
    },
    {
     "data": {
      "application/vnd.jupyter.widget-view+json": {
       "model_id": "260ac49992a8497089a2eaeafad2e603",
       "version_major": 2,
       "version_minor": 0
      },
      "text/plain": [
       "Output()"
      ]
     },
     "metadata": {},
     "output_type": "display_data"
    },
    {
     "data": {
      "text/html": [
       "<pre style=\"white-space:pre;overflow-x:auto;line-height:normal;font-family:Menlo,'DejaVu Sans Mono',consolas,'Courier New',monospace\"></pre>\n"
      ],
      "text/plain": []
     },
     "metadata": {},
     "output_type": "display_data"
    },
    {
     "name": "stderr",
     "output_type": "stream",
     "text": [
      "Sampling 4 chains for 500 tune and 500 draw iterations (2_000 + 2_000 draws total) took 19 seconds.\n",
      "The rhat statistic is larger than 1.01 for some parameters. This indicates problems during sampling. See https://arxiv.org/abs/1903.08008 for details\n",
      "The effective sample size per chain is smaller than 100 for some parameters.  A higher number is needed for reliable rhat and ess computation. See https://arxiv.org/abs/1903.08008 for details\n",
      "Sampling: [mu, y]\n"
     ]
    },
    {
     "data": {
      "application/vnd.jupyter.widget-view+json": {
       "model_id": "3b39cd6427684371a343ca9adb11467d",
       "version_major": 2,
       "version_minor": 0
      },
      "text/plain": [
       "Output()"
      ]
     },
     "metadata": {},
     "output_type": "display_data"
    },
    {
     "name": "stdout",
     "output_type": "stream",
     "text": [
      "X_extended (3000, 11)\n"
     ]
    },
    {
     "data": {
      "text/html": [
       "<pre style=\"white-space:pre;overflow-x:auto;line-height:normal;font-family:Menlo,'DejaVu Sans Mono',consolas,'Courier New',monospace\"></pre>\n"
      ],
      "text/plain": []
     },
     "metadata": {},
     "output_type": "display_data"
    },
    {
     "name": "stderr",
     "output_type": "stream",
     "text": [
      "Sampling: [mu, y]\n"
     ]
    },
    {
     "data": {
      "application/vnd.jupyter.widget-view+json": {
       "model_id": "ec670d2160744fc692779e4f20e8c9c0",
       "version_major": 2,
       "version_minor": 0
      },
      "text/plain": [
       "Output()"
      ]
     },
     "metadata": {},
     "output_type": "display_data"
    },
    {
     "data": {
      "text/html": [
       "<pre style=\"white-space:pre;overflow-x:auto;line-height:normal;font-family:Menlo,'DejaVu Sans Mono',consolas,'Courier New',monospace\"></pre>\n"
      ],
      "text/plain": []
     },
     "metadata": {},
     "output_type": "display_data"
    },
    {
     "name": "stderr",
     "output_type": "stream",
     "text": [
      "Sampling: [mu, y]\n"
     ]
    },
    {
     "data": {
      "application/vnd.jupyter.widget-view+json": {
       "model_id": "21f43f5eada8416bbb339c83eecdd69a",
       "version_major": 2,
       "version_minor": 0
      },
      "text/plain": [
       "Output()"
      ]
     },
     "metadata": {},
     "output_type": "display_data"
    },
    {
     "name": "stdout",
     "output_type": "stream",
     "text": [
      "X_extended (3000, 11)\n"
     ]
    },
    {
     "data": {
      "text/html": [
       "<pre style=\"white-space:pre;overflow-x:auto;line-height:normal;font-family:Menlo,'DejaVu Sans Mono',consolas,'Courier New',monospace\"></pre>\n"
      ],
      "text/plain": []
     },
     "metadata": {},
     "output_type": "display_data"
    },
    {
     "name": "stderr",
     "output_type": "stream",
     "text": [
      "Sampling: [mu, y]\n"
     ]
    },
    {
     "data": {
      "application/vnd.jupyter.widget-view+json": {
       "model_id": "06d56cf359224eb881e96eafc539dbd7",
       "version_major": 2,
       "version_minor": 0
      },
      "text/plain": [
       "Output()"
      ]
     },
     "metadata": {},
     "output_type": "display_data"
    },
    {
     "data": {
      "text/html": [
       "<pre style=\"white-space:pre;overflow-x:auto;line-height:normal;font-family:Menlo,'DejaVu Sans Mono',consolas,'Courier New',monospace\"></pre>\n"
      ],
      "text/plain": []
     },
     "metadata": {},
     "output_type": "display_data"
    },
    {
     "name": "stdout",
     "output_type": "stream",
     "text": [
      "Fit and evaluate CMGP ...\n",
      "Fit and evaluate CEVAE ...\n",
      "Using cpu\n"
     ]
    },
    {
     "name": "stderr",
     "output_type": "stream",
     "text": [
      "100%|██████████| 7000/7000 [00:32<00:00, 215.58it/s]\n"
     ]
    },
    {
     "name": "stdout",
     "output_type": "stream",
     "text": [
      "Fit and evaluate FCCN ...\n"
     ]
    },
    {
     "name": "stderr",
     "output_type": "stream",
     "text": [
      "100%|██████████| 20000/20000 [02:33<00:00, 130.70it/s]\n"
     ]
    },
    {
     "name": "stdout",
     "output_type": "stream",
     "text": [
      "Fit and evaluate GANITE ...\n"
     ]
    },
    {
     "name": "stderr",
     "output_type": "stream",
     "text": [
      "Training Counterfactual GAN: 100%|██████████| 10000/10000 [08:16<00:00, 20.15it/s]\n",
      "Training ITE GAN: 100%|██████████| 10000/10000 [08:49<00:00, 18.88it/s]\n"
     ]
    },
    {
     "name": "stdout",
     "output_type": "stream",
     "text": [
      "Fit and evaluate DKLITE ...\n"
     ]
    },
    {
     "name": "stderr",
     "output_type": "stream",
     "text": [
      "  5%|▌         | 51/1000 [00:02<00:49, 19.30it/s]\n"
     ]
    },
    {
     "name": "stdout",
     "output_type": "stream",
     "text": [
      "Fit and evaluate diffpo ...\n"
     ]
    },
    {
     "name": "stderr",
     "output_type": "stream",
     "text": [
      "100%|██████████| 7/7 [00:00<00:00, 11.59it/s, avg_epoch_loss=0, epoch=0]\n",
      "100%|██████████| 7/7 [00:00<00:00, 18.41it/s, avg_epoch_loss=0, epoch=1]\n",
      "100%|██████████| 7/7 [00:00<00:00, 13.59it/s, avg_epoch_loss=0, epoch=2]\n",
      "100%|██████████| 7/7 [00:00<00:00, 14.56it/s, avg_epoch_loss=0, epoch=3]\n",
      "100%|██████████| 7/7 [00:00<00:00, 16.17it/s, avg_epoch_loss=0, epoch=4]\n",
      "100%|██████████| 7/7 [00:00<00:00, 16.31it/s, avg_epoch_loss=0, epoch=5]\n",
      "100%|██████████| 7/7 [00:00<00:00, 13.50it/s, avg_epoch_loss=0, epoch=6]\n",
      "100%|██████████| 7/7 [00:00<00:00, 19.09it/s, avg_epoch_loss=0, epoch=7]\n",
      "100%|██████████| 7/7 [00:00<00:00, 19.40it/s, avg_epoch_loss=0, epoch=8]\n",
      "100%|██████████| 7/7 [00:00<00:00, 17.74it/s, avg_epoch_loss=0, epoch=9]\n",
      "100%|██████████| 7/7 [00:00<00:00, 17.56it/s, avg_epoch_loss=0, epoch=10]\n",
      "100%|██████████| 7/7 [00:00<00:00, 18.19it/s, avg_epoch_loss=0, epoch=11]\n",
      "100%|██████████| 7/7 [00:00<00:00, 17.37it/s, avg_epoch_loss=0, epoch=12]\n",
      "100%|██████████| 7/7 [00:00<00:00, 17.86it/s, avg_epoch_loss=0, epoch=13]\n",
      "100%|██████████| 7/7 [00:00<00:00, 14.07it/s, avg_epoch_loss=0, epoch=14]\n",
      "100%|██████████| 7/7 [00:00<00:00, 13.93it/s, avg_epoch_loss=0, epoch=15]\n",
      "100%|██████████| 7/7 [00:00<00:00, 13.03it/s, avg_epoch_loss=0, epoch=16]\n",
      "100%|██████████| 7/7 [00:00<00:00, 15.69it/s, avg_epoch_loss=0, epoch=17]\n",
      "100%|██████████| 7/7 [00:00<00:00, 17.57it/s, avg_epoch_loss=0, epoch=18]\n",
      "100%|██████████| 7/7 [00:00<00:00, 17.18it/s, avg_epoch_loss=0, epoch=19]\n",
      "100%|██████████| 7/7 [00:00<00:00, 14.80it/s, avg_epoch_loss=0, epoch=20]\n",
      "100%|██████████| 7/7 [00:00<00:00, 16.85it/s, avg_epoch_loss=0, epoch=21]\n",
      "100%|██████████| 7/7 [00:00<00:00, 17.18it/s, avg_epoch_loss=0, epoch=22]\n",
      "100%|██████████| 7/7 [00:00<00:00, 17.21it/s, avg_epoch_loss=0, epoch=23]\n",
      "100%|██████████| 7/7 [00:00<00:00, 17.27it/s, avg_epoch_loss=0, epoch=24]\n",
      "100%|██████████| 7/7 [00:00<00:00, 17.22it/s, avg_epoch_loss=0, epoch=25]\n",
      "100%|██████████| 7/7 [00:00<00:00, 16.98it/s, avg_epoch_loss=0, epoch=26]\n",
      "100%|██████████| 7/7 [00:00<00:00, 17.73it/s, avg_epoch_loss=0, epoch=27]\n",
      "100%|██████████| 7/7 [00:00<00:00, 17.19it/s, avg_epoch_loss=0, epoch=28]\n",
      "100%|██████████| 7/7 [00:00<00:00, 17.07it/s, avg_epoch_loss=0, epoch=29]\n",
      "100%|██████████| 7/7 [00:00<00:00, 17.17it/s, avg_epoch_loss=0, epoch=30]\n",
      "100%|██████████| 7/7 [00:00<00:00, 16.89it/s, avg_epoch_loss=0, epoch=31]\n",
      "100%|██████████| 7/7 [00:00<00:00, 17.20it/s, avg_epoch_loss=0, epoch=32]\n",
      "100%|██████████| 7/7 [00:00<00:00, 17.37it/s, avg_epoch_loss=0, epoch=33]\n",
      "100%|██████████| 7/7 [00:00<00:00, 17.21it/s, avg_epoch_loss=0, epoch=34]\n",
      "100%|██████████| 7/7 [00:00<00:00, 17.42it/s, avg_epoch_loss=0, epoch=35]\n",
      "100%|██████████| 7/7 [00:00<00:00, 17.44it/s, avg_epoch_loss=0, epoch=36]\n",
      "100%|██████████| 7/7 [00:00<00:00, 17.57it/s, avg_epoch_loss=0, epoch=37]\n",
      "100%|██████████| 7/7 [00:00<00:00, 17.47it/s, avg_epoch_loss=0, epoch=38]\n",
      "100%|██████████| 7/7 [00:00<00:00, 17.51it/s, avg_epoch_loss=0, epoch=39]\n",
      "100%|██████████| 7/7 [00:00<00:00, 17.32it/s, avg_epoch_loss=0, epoch=40]\n",
      "100%|██████████| 7/7 [00:00<00:00, 17.10it/s, avg_epoch_loss=0, epoch=41]\n",
      "100%|██████████| 7/7 [00:00<00:00, 17.02it/s, avg_epoch_loss=0, epoch=42]\n",
      "100%|██████████| 7/7 [00:00<00:00, 16.96it/s, avg_epoch_loss=0, epoch=43]\n",
      "100%|██████████| 7/7 [00:00<00:00, 15.06it/s, avg_epoch_loss=0, epoch=44]\n",
      "100%|██████████| 7/7 [00:00<00:00, 17.02it/s, avg_epoch_loss=0, epoch=45]\n",
      "100%|██████████| 7/7 [00:00<00:00, 16.83it/s, avg_epoch_loss=0, epoch=46]\n",
      "100%|██████████| 7/7 [00:00<00:00, 16.36it/s, avg_epoch_loss=0, epoch=47]\n",
      "100%|██████████| 7/7 [00:00<00:00, 15.41it/s, avg_epoch_loss=0, epoch=48]\n",
      "100%|██████████| 7/7 [00:00<00:00, 17.46it/s, avg_epoch_loss=0, epoch=49]\n"
     ]
    },
    {
     "name": "stdout",
     "output_type": "stream",
     "text": [
      "Start validation!!!\n",
      "Epoch: 49\n"
     ]
    },
    {
     "name": "stderr",
     "output_type": "stream",
     "text": [
      "100%|██████████| 2/2 [01:08<00:00, 34.11s/it]\n"
     ]
    },
    {
     "name": "stdout",
     "output_type": "stream",
     "text": [
      "====================================\n",
      "##### End evaluation!!\n",
      "PEHE VAL = 8.1e+03\n"
     ]
    },
    {
     "name": "stderr",
     "output_type": "stream",
     "text": [
      "100%|██████████| 7/7 [00:00<00:00, 18.08it/s, avg_epoch_loss=0, epoch=50]\n",
      "100%|██████████| 7/7 [00:00<00:00, 14.36it/s, avg_epoch_loss=0, epoch=51]\n",
      "100%|██████████| 7/7 [00:00<00:00, 18.71it/s, avg_epoch_loss=0, epoch=52]\n",
      "100%|██████████| 7/7 [00:00<00:00, 18.94it/s, avg_epoch_loss=0, epoch=53]\n",
      "100%|██████████| 7/7 [00:00<00:00, 18.75it/s, avg_epoch_loss=0, epoch=54]\n",
      "100%|██████████| 7/7 [00:00<00:00, 18.58it/s, avg_epoch_loss=0, epoch=55]\n",
      "100%|██████████| 7/7 [00:00<00:00, 19.03it/s, avg_epoch_loss=0, epoch=56]\n",
      "100%|██████████| 7/7 [00:00<00:00, 12.84it/s, avg_epoch_loss=0, epoch=57]\n",
      "100%|██████████| 7/7 [00:00<00:00, 16.73it/s, avg_epoch_loss=0, epoch=58]\n",
      "100%|██████████| 7/7 [00:00<00:00, 16.34it/s, avg_epoch_loss=0, epoch=59]\n",
      "100%|██████████| 7/7 [00:00<00:00, 14.66it/s, avg_epoch_loss=0, epoch=60]\n",
      "100%|██████████| 7/7 [00:00<00:00, 15.40it/s, avg_epoch_loss=0, epoch=61]\n",
      "100%|██████████| 7/7 [00:00<00:00, 18.21it/s, avg_epoch_loss=0, epoch=62]\n",
      "100%|██████████| 7/7 [00:00<00:00, 18.19it/s, avg_epoch_loss=0, epoch=63]\n",
      "100%|██████████| 7/7 [00:00<00:00, 18.55it/s, avg_epoch_loss=0, epoch=64]\n",
      "100%|██████████| 7/7 [00:00<00:00, 18.13it/s, avg_epoch_loss=0, epoch=65]\n",
      "100%|██████████| 7/7 [00:00<00:00, 17.04it/s, avg_epoch_loss=0, epoch=66]\n",
      "100%|██████████| 7/7 [00:00<00:00, 17.03it/s, avg_epoch_loss=0, epoch=67]\n",
      "100%|██████████| 7/7 [00:00<00:00, 16.33it/s, avg_epoch_loss=0, epoch=68]\n",
      "100%|██████████| 7/7 [00:00<00:00, 15.46it/s, avg_epoch_loss=0, epoch=69]\n",
      "100%|██████████| 7/7 [00:00<00:00, 14.58it/s, avg_epoch_loss=0, epoch=70]\n",
      "100%|██████████| 7/7 [00:00<00:00, 12.53it/s, avg_epoch_loss=0, epoch=71]\n",
      "100%|██████████| 7/7 [00:00<00:00, 17.97it/s, avg_epoch_loss=0, epoch=72]\n",
      "100%|██████████| 7/7 [00:00<00:00, 17.50it/s, avg_epoch_loss=0, epoch=73]\n",
      "100%|██████████| 7/7 [00:00<00:00, 16.66it/s, avg_epoch_loss=0, epoch=74]\n",
      "100%|██████████| 7/7 [00:00<00:00, 18.05it/s, avg_epoch_loss=0, epoch=75]\n",
      "100%|██████████| 7/7 [00:00<00:00, 18.29it/s, avg_epoch_loss=0, epoch=76]\n",
      "100%|██████████| 7/7 [00:00<00:00, 18.23it/s, avg_epoch_loss=0, epoch=77]\n",
      "100%|██████████| 7/7 [00:00<00:00, 17.71it/s, avg_epoch_loss=0, epoch=78]\n",
      "100%|██████████| 7/7 [00:00<00:00, 18.39it/s, avg_epoch_loss=0, epoch=79]\n",
      "100%|██████████| 7/7 [00:00<00:00, 17.09it/s, avg_epoch_loss=0, epoch=80]\n",
      "100%|██████████| 7/7 [00:00<00:00, 16.84it/s, avg_epoch_loss=0, epoch=81]\n",
      "100%|██████████| 7/7 [00:00<00:00, 18.17it/s, avg_epoch_loss=0, epoch=82]\n",
      "100%|██████████| 7/7 [00:00<00:00, 18.05it/s, avg_epoch_loss=0, epoch=83]\n",
      "100%|██████████| 7/7 [00:00<00:00, 17.77it/s, avg_epoch_loss=0, epoch=84]\n",
      "100%|██████████| 7/7 [00:00<00:00, 16.66it/s, avg_epoch_loss=0, epoch=85]\n",
      "100%|██████████| 7/7 [00:00<00:00, 17.69it/s, avg_epoch_loss=0, epoch=86]\n",
      "100%|██████████| 7/7 [00:00<00:00, 18.09it/s, avg_epoch_loss=0, epoch=87]\n",
      "100%|██████████| 7/7 [00:00<00:00, 17.73it/s, avg_epoch_loss=0, epoch=88]\n",
      "100%|██████████| 7/7 [00:00<00:00, 18.40it/s, avg_epoch_loss=0, epoch=89]\n",
      "100%|██████████| 7/7 [00:00<00:00, 18.43it/s, avg_epoch_loss=0, epoch=90]\n",
      "100%|██████████| 7/7 [00:00<00:00, 17.98it/s, avg_epoch_loss=0, epoch=91]\n",
      "100%|██████████| 7/7 [00:00<00:00, 17.01it/s, avg_epoch_loss=0, epoch=92]\n",
      "100%|██████████| 7/7 [00:00<00:00, 17.99it/s, avg_epoch_loss=0, epoch=93]\n",
      "100%|██████████| 7/7 [00:00<00:00, 18.26it/s, avg_epoch_loss=0, epoch=94]\n",
      "100%|██████████| 7/7 [00:00<00:00, 17.15it/s, avg_epoch_loss=0, epoch=95]\n",
      "100%|██████████| 7/7 [00:00<00:00, 17.76it/s, avg_epoch_loss=0, epoch=96]\n",
      "100%|██████████| 7/7 [00:00<00:00, 14.11it/s, avg_epoch_loss=0, epoch=97]\n",
      "100%|██████████| 7/7 [00:00<00:00, 17.23it/s, avg_epoch_loss=0, epoch=98]\n",
      "100%|██████████| 7/7 [00:00<00:00, 17.89it/s, avg_epoch_loss=0, epoch=99]\n"
     ]
    },
    {
     "name": "stdout",
     "output_type": "stream",
     "text": [
      "Start validation!!!\n",
      "Epoch: 99\n"
     ]
    },
    {
     "name": "stderr",
     "output_type": "stream",
     "text": [
      "100%|██████████| 2/2 [01:07<00:00, 33.59s/it]\n"
     ]
    },
    {
     "name": "stdout",
     "output_type": "stream",
     "text": [
      "====================================\n",
      "##### End evaluation!!\n",
      "PEHE VAL = 8.29e+03\n"
     ]
    },
    {
     "name": "stderr",
     "output_type": "stream",
     "text": [
      "100%|██████████| 7/7 [00:00<00:00, 17.93it/s, avg_epoch_loss=0, epoch=100]\n",
      "100%|██████████| 7/7 [00:00<00:00, 17.14it/s, avg_epoch_loss=0, epoch=101]\n",
      "100%|██████████| 7/7 [00:00<00:00, 17.73it/s, avg_epoch_loss=0, epoch=102]\n",
      "100%|██████████| 7/7 [00:00<00:00, 16.68it/s, avg_epoch_loss=0, epoch=103]\n",
      "100%|██████████| 7/7 [00:00<00:00, 16.60it/s, avg_epoch_loss=0, epoch=104]\n",
      "100%|██████████| 7/7 [00:00<00:00, 17.68it/s, avg_epoch_loss=0, epoch=105]\n",
      "100%|██████████| 7/7 [00:00<00:00, 17.54it/s, avg_epoch_loss=0, epoch=106]\n",
      "100%|██████████| 7/7 [00:00<00:00, 18.01it/s, avg_epoch_loss=0, epoch=107]\n",
      "100%|██████████| 7/7 [00:00<00:00, 18.19it/s, avg_epoch_loss=0, epoch=108]\n",
      "100%|██████████| 7/7 [00:00<00:00, 17.95it/s, avg_epoch_loss=0, epoch=109]\n",
      "100%|██████████| 7/7 [00:00<00:00, 18.15it/s, avg_epoch_loss=0, epoch=110]\n",
      "100%|██████████| 7/7 [00:00<00:00, 16.15it/s, avg_epoch_loss=0, epoch=111]\n",
      "100%|██████████| 7/7 [00:00<00:00, 15.89it/s, avg_epoch_loss=0, epoch=112]\n",
      "100%|██████████| 7/7 [00:00<00:00, 18.20it/s, avg_epoch_loss=0, epoch=113]\n",
      "100%|██████████| 7/7 [00:00<00:00, 14.15it/s, avg_epoch_loss=0, epoch=114]\n",
      "100%|██████████| 7/7 [00:00<00:00, 16.27it/s, avg_epoch_loss=0, epoch=115]\n",
      "100%|██████████| 7/7 [00:00<00:00, 17.74it/s, avg_epoch_loss=0, epoch=116]\n",
      "100%|██████████| 7/7 [00:00<00:00, 18.22it/s, avg_epoch_loss=0, epoch=117]\n",
      "100%|██████████| 7/7 [00:00<00:00, 14.50it/s, avg_epoch_loss=0, epoch=118]\n",
      "100%|██████████| 7/7 [00:00<00:00, 15.82it/s, avg_epoch_loss=0, epoch=119]\n",
      "100%|██████████| 7/7 [00:00<00:00,  9.27it/s, avg_epoch_loss=0, epoch=120]\n",
      "100%|██████████| 7/7 [00:00<00:00, 15.79it/s, avg_epoch_loss=0, epoch=121]\n",
      "100%|██████████| 7/7 [00:00<00:00, 17.15it/s, avg_epoch_loss=0, epoch=122]\n",
      "100%|██████████| 7/7 [00:00<00:00, 17.30it/s, avg_epoch_loss=0, epoch=123]\n",
      "100%|██████████| 7/7 [00:00<00:00, 17.62it/s, avg_epoch_loss=0, epoch=124]\n",
      "100%|██████████| 7/7 [00:00<00:00, 17.23it/s, avg_epoch_loss=0, epoch=125]\n",
      "100%|██████████| 7/7 [00:00<00:00, 13.53it/s, avg_epoch_loss=0, epoch=126]\n",
      "100%|██████████| 7/7 [00:00<00:00, 16.06it/s, avg_epoch_loss=0, epoch=127]\n",
      "100%|██████████| 7/7 [00:00<00:00, 16.44it/s, avg_epoch_loss=0, epoch=128]\n",
      "100%|██████████| 7/7 [00:00<00:00, 14.48it/s, avg_epoch_loss=0, epoch=129]\n",
      "100%|██████████| 7/7 [00:00<00:00, 17.10it/s, avg_epoch_loss=0, epoch=130]\n",
      "100%|██████████| 7/7 [00:00<00:00, 17.10it/s, avg_epoch_loss=0, epoch=131]\n",
      "100%|██████████| 7/7 [00:00<00:00, 17.32it/s, avg_epoch_loss=0, epoch=132]\n",
      "100%|██████████| 7/7 [00:00<00:00, 13.40it/s, avg_epoch_loss=0, epoch=133]\n",
      "100%|██████████| 7/7 [00:00<00:00, 16.81it/s, avg_epoch_loss=0, epoch=134]\n",
      "100%|██████████| 7/7 [00:00<00:00, 14.60it/s, avg_epoch_loss=0, epoch=135]\n",
      "100%|██████████| 7/7 [00:00<00:00, 17.24it/s, avg_epoch_loss=0, epoch=136]\n",
      "100%|██████████| 7/7 [00:00<00:00, 17.20it/s, avg_epoch_loss=0, epoch=137]\n",
      "100%|██████████| 7/7 [00:00<00:00, 17.20it/s, avg_epoch_loss=0, epoch=138]\n",
      "100%|██████████| 7/7 [00:00<00:00, 16.44it/s, avg_epoch_loss=0, epoch=139]\n",
      "100%|██████████| 7/7 [00:00<00:00, 16.48it/s, avg_epoch_loss=0, epoch=140]\n",
      "100%|██████████| 7/7 [00:00<00:00, 17.53it/s, avg_epoch_loss=0, epoch=141]\n",
      "100%|██████████| 7/7 [00:00<00:00, 17.02it/s, avg_epoch_loss=0, epoch=142]\n",
      "100%|██████████| 7/7 [00:00<00:00, 17.15it/s, avg_epoch_loss=0, epoch=143]\n",
      "100%|██████████| 7/7 [00:00<00:00, 16.72it/s, avg_epoch_loss=0, epoch=144]\n",
      "100%|██████████| 7/7 [00:00<00:00, 16.88it/s, avg_epoch_loss=0, epoch=145]\n",
      "100%|██████████| 7/7 [00:00<00:00, 17.09it/s, avg_epoch_loss=0, epoch=146]\n",
      "100%|██████████| 7/7 [00:00<00:00, 14.07it/s, avg_epoch_loss=0, epoch=147]\n",
      "100%|██████████| 7/7 [00:00<00:00, 14.35it/s, avg_epoch_loss=0, epoch=148]\n",
      "100%|██████████| 7/7 [00:00<00:00, 16.61it/s, avg_epoch_loss=0, epoch=149]\n"
     ]
    },
    {
     "name": "stdout",
     "output_type": "stream",
     "text": [
      "Start validation!!!\n",
      "Epoch: 149\n"
     ]
    },
    {
     "name": "stderr",
     "output_type": "stream",
     "text": [
      "100%|██████████| 2/2 [01:19<00:00, 39.72s/it]\n"
     ]
    },
    {
     "name": "stdout",
     "output_type": "stream",
     "text": [
      "====================================\n",
      "##### End evaluation!!\n",
      "PEHE VAL = 8.48e+03\n"
     ]
    },
    {
     "name": "stderr",
     "output_type": "stream",
     "text": [
      "100%|██████████| 7/7 [00:00<00:00, 17.11it/s, avg_epoch_loss=0, epoch=150]\n",
      "100%|██████████| 7/7 [00:00<00:00, 17.52it/s, avg_epoch_loss=0, epoch=151]\n",
      "100%|██████████| 7/7 [00:00<00:00, 17.09it/s, avg_epoch_loss=0, epoch=152]\n",
      "100%|██████████| 7/7 [00:00<00:00, 14.05it/s, avg_epoch_loss=0, epoch=153]\n",
      "100%|██████████| 7/7 [00:00<00:00, 12.67it/s, avg_epoch_loss=0, epoch=154]\n",
      "100%|██████████| 7/7 [00:00<00:00, 17.18it/s, avg_epoch_loss=0, epoch=155]\n",
      "100%|██████████| 7/7 [00:00<00:00, 18.63it/s, avg_epoch_loss=0, epoch=156]\n",
      "100%|██████████| 7/7 [00:00<00:00, 18.49it/s, avg_epoch_loss=0, epoch=157]\n",
      "100%|██████████| 7/7 [00:00<00:00, 18.64it/s, avg_epoch_loss=0, epoch=158]\n",
      "100%|██████████| 7/7 [00:00<00:00, 17.72it/s, avg_epoch_loss=0, epoch=159]\n",
      "100%|██████████| 7/7 [00:00<00:00, 17.59it/s, avg_epoch_loss=0, epoch=160]\n",
      "100%|██████████| 7/7 [00:00<00:00, 17.24it/s, avg_epoch_loss=0, epoch=161]\n",
      "100%|██████████| 7/7 [00:00<00:00, 17.24it/s, avg_epoch_loss=0, epoch=162]\n",
      "100%|██████████| 7/7 [00:00<00:00, 14.91it/s, avg_epoch_loss=0, epoch=163]\n",
      "100%|██████████| 7/7 [00:00<00:00, 16.46it/s, avg_epoch_loss=0, epoch=164]\n",
      "100%|██████████| 7/7 [00:00<00:00, 16.99it/s, avg_epoch_loss=0, epoch=165]\n",
      "100%|██████████| 7/7 [00:00<00:00, 15.35it/s, avg_epoch_loss=0, epoch=166]\n",
      "100%|██████████| 7/7 [00:00<00:00, 13.13it/s, avg_epoch_loss=0, epoch=167]\n",
      "100%|██████████| 7/7 [00:00<00:00, 17.34it/s, avg_epoch_loss=0, epoch=168]\n",
      "100%|██████████| 7/7 [00:00<00:00, 17.24it/s, avg_epoch_loss=0, epoch=169]\n",
      "100%|██████████| 7/7 [00:00<00:00, 16.83it/s, avg_epoch_loss=0, epoch=170]\n",
      "100%|██████████| 7/7 [00:00<00:00, 17.43it/s, avg_epoch_loss=0, epoch=171]\n",
      "100%|██████████| 7/7 [00:00<00:00, 16.99it/s, avg_epoch_loss=0, epoch=172]\n",
      "100%|██████████| 7/7 [00:00<00:00, 16.84it/s, avg_epoch_loss=0, epoch=173]\n",
      "100%|██████████| 7/7 [00:00<00:00, 17.46it/s, avg_epoch_loss=0, epoch=174]\n",
      "100%|██████████| 7/7 [00:00<00:00, 17.34it/s, avg_epoch_loss=0, epoch=175]\n",
      "100%|██████████| 7/7 [00:00<00:00, 17.27it/s, avg_epoch_loss=0, epoch=176]\n",
      "100%|██████████| 7/7 [00:00<00:00, 17.31it/s, avg_epoch_loss=0, epoch=177]\n",
      "100%|██████████| 7/7 [00:00<00:00, 17.00it/s, avg_epoch_loss=0, epoch=178]\n",
      "100%|██████████| 7/7 [00:00<00:00, 17.18it/s, avg_epoch_loss=0, epoch=179]\n",
      "100%|██████████| 7/7 [00:00<00:00, 13.70it/s, avg_epoch_loss=0, epoch=180]\n",
      "100%|██████████| 7/7 [00:00<00:00, 17.31it/s, avg_epoch_loss=0, epoch=181]\n",
      "100%|██████████| 7/7 [00:00<00:00, 17.56it/s, avg_epoch_loss=0, epoch=182]\n",
      "100%|██████████| 7/7 [00:00<00:00, 16.77it/s, avg_epoch_loss=0, epoch=183]\n",
      "100%|██████████| 7/7 [00:00<00:00, 17.09it/s, avg_epoch_loss=0, epoch=184]\n",
      "100%|██████████| 7/7 [00:00<00:00, 13.74it/s, avg_epoch_loss=0, epoch=185]\n",
      "100%|██████████| 7/7 [00:00<00:00, 15.76it/s, avg_epoch_loss=0, epoch=186]\n",
      "100%|██████████| 7/7 [00:00<00:00, 16.14it/s, avg_epoch_loss=0, epoch=187]\n",
      "100%|██████████| 7/7 [00:00<00:00, 16.94it/s, avg_epoch_loss=0, epoch=188]\n",
      "100%|██████████| 7/7 [00:00<00:00, 13.06it/s, avg_epoch_loss=0, epoch=189]\n",
      "100%|██████████| 7/7 [00:00<00:00, 18.26it/s, avg_epoch_loss=0, epoch=190]\n",
      "100%|██████████| 7/7 [00:00<00:00, 17.72it/s, avg_epoch_loss=0, epoch=191]\n",
      "100%|██████████| 7/7 [00:00<00:00, 18.30it/s, avg_epoch_loss=0, epoch=192]\n",
      "100%|██████████| 7/7 [00:00<00:00, 18.54it/s, avg_epoch_loss=0, epoch=193]\n",
      "100%|██████████| 7/7 [00:00<00:00, 18.59it/s, avg_epoch_loss=0, epoch=194]\n",
      "100%|██████████| 7/7 [00:00<00:00, 18.29it/s, avg_epoch_loss=0, epoch=195]\n",
      "100%|██████████| 7/7 [00:00<00:00, 18.54it/s, avg_epoch_loss=0, epoch=196]\n",
      "100%|██████████| 7/7 [00:00<00:00, 14.90it/s, avg_epoch_loss=0, epoch=197]\n",
      "100%|██████████| 7/7 [00:00<00:00, 16.07it/s, avg_epoch_loss=0, epoch=198]\n",
      "100%|██████████| 7/7 [00:00<00:00, 15.69it/s, avg_epoch_loss=0, epoch=199]\n"
     ]
    },
    {
     "name": "stdout",
     "output_type": "stream",
     "text": [
      "Start validation!!!\n",
      "Epoch: 199\n"
     ]
    },
    {
     "name": "stderr",
     "output_type": "stream",
     "text": [
      "100%|██████████| 2/2 [01:21<00:00, 40.52s/it]\n"
     ]
    },
    {
     "name": "stdout",
     "output_type": "stream",
     "text": [
      "====================================\n",
      "##### End evaluation!!\n",
      "PEHE VAL = 8.64e+03\n"
     ]
    },
    {
     "name": "stderr",
     "output_type": "stream",
     "text": [
      "100%|██████████| 7/7 [00:00<00:00, 17.17it/s, avg_epoch_loss=0, epoch=200]\n",
      "100%|██████████| 7/7 [00:00<00:00, 13.33it/s, avg_epoch_loss=0, epoch=201]\n",
      "100%|██████████| 7/7 [00:00<00:00, 17.75it/s, avg_epoch_loss=0, epoch=202]\n",
      "100%|██████████| 7/7 [00:00<00:00, 17.20it/s, avg_epoch_loss=0, epoch=203]\n",
      "100%|██████████| 7/7 [00:00<00:00, 17.22it/s, avg_epoch_loss=0, epoch=204]\n",
      "100%|██████████| 7/7 [00:00<00:00, 17.30it/s, avg_epoch_loss=0, epoch=205]\n",
      "100%|██████████| 7/7 [00:00<00:00, 16.93it/s, avg_epoch_loss=0, epoch=206]\n",
      "100%|██████████| 7/7 [00:00<00:00, 17.15it/s, avg_epoch_loss=0, epoch=207]\n",
      "100%|██████████| 7/7 [00:00<00:00, 17.10it/s, avg_epoch_loss=0, epoch=208]\n",
      "100%|██████████| 7/7 [00:00<00:00, 16.59it/s, avg_epoch_loss=0, epoch=209]\n",
      "100%|██████████| 7/7 [00:00<00:00, 16.84it/s, avg_epoch_loss=0, epoch=210]\n",
      "100%|██████████| 7/7 [00:00<00:00, 16.96it/s, avg_epoch_loss=0, epoch=211]\n",
      "100%|██████████| 7/7 [00:00<00:00, 17.21it/s, avg_epoch_loss=0, epoch=212]\n",
      "100%|██████████| 7/7 [00:00<00:00, 17.29it/s, avg_epoch_loss=0, epoch=213]\n",
      "100%|██████████| 7/7 [00:00<00:00, 17.36it/s, avg_epoch_loss=0, epoch=214]\n",
      "100%|██████████| 7/7 [00:00<00:00, 17.76it/s, avg_epoch_loss=0, epoch=215]\n",
      "100%|██████████| 7/7 [00:00<00:00, 16.70it/s, avg_epoch_loss=0, epoch=216]\n",
      "100%|██████████| 7/7 [00:00<00:00, 16.84it/s, avg_epoch_loss=0, epoch=217]\n",
      "100%|██████████| 7/7 [00:00<00:00, 12.84it/s, avg_epoch_loss=0, epoch=218]\n",
      "100%|██████████| 7/7 [00:00<00:00, 18.34it/s, avg_epoch_loss=0, epoch=219]\n",
      "100%|██████████| 7/7 [00:00<00:00, 15.56it/s, avg_epoch_loss=0, epoch=220]\n",
      "100%|██████████| 7/7 [00:00<00:00, 17.52it/s, avg_epoch_loss=0, epoch=221]\n",
      "100%|██████████| 7/7 [00:00<00:00, 17.83it/s, avg_epoch_loss=0, epoch=222]\n",
      "100%|██████████| 7/7 [00:00<00:00, 17.37it/s, avg_epoch_loss=0, epoch=223]\n",
      "100%|██████████| 7/7 [00:00<00:00, 13.95it/s, avg_epoch_loss=0, epoch=224]\n",
      "100%|██████████| 7/7 [00:00<00:00, 17.81it/s, avg_epoch_loss=0, epoch=225]\n",
      "100%|██████████| 7/7 [00:00<00:00, 16.79it/s, avg_epoch_loss=0, epoch=226]\n",
      "100%|██████████| 7/7 [00:00<00:00, 17.18it/s, avg_epoch_loss=0, epoch=227]\n",
      "100%|██████████| 7/7 [00:00<00:00, 17.01it/s, avg_epoch_loss=0, epoch=228]\n",
      "100%|██████████| 7/7 [00:00<00:00, 13.93it/s, avg_epoch_loss=0, epoch=229]\n",
      "100%|██████████| 7/7 [00:00<00:00, 16.18it/s, avg_epoch_loss=0, epoch=230]\n",
      "100%|██████████| 7/7 [00:00<00:00, 14.01it/s, avg_epoch_loss=0, epoch=231]\n",
      "100%|██████████| 7/7 [00:00<00:00, 17.11it/s, avg_epoch_loss=0, epoch=232]\n",
      "100%|██████████| 7/7 [00:00<00:00, 16.47it/s, avg_epoch_loss=0, epoch=233]\n",
      "100%|██████████| 7/7 [00:00<00:00, 16.73it/s, avg_epoch_loss=0, epoch=234]\n",
      "100%|██████████| 7/7 [00:00<00:00, 16.58it/s, avg_epoch_loss=0, epoch=235]\n",
      "100%|██████████| 7/7 [00:00<00:00, 16.91it/s, avg_epoch_loss=0, epoch=236]\n",
      "100%|██████████| 7/7 [00:00<00:00, 17.00it/s, avg_epoch_loss=0, epoch=237]\n",
      "100%|██████████| 7/7 [00:00<00:00, 14.23it/s, avg_epoch_loss=0, epoch=238]\n",
      "100%|██████████| 7/7 [00:00<00:00, 17.04it/s, avg_epoch_loss=0, epoch=239]\n",
      "100%|██████████| 7/7 [00:00<00:00, 16.93it/s, avg_epoch_loss=0, epoch=240]\n",
      "100%|██████████| 7/7 [00:00<00:00, 16.76it/s, avg_epoch_loss=0, epoch=241]\n",
      "100%|██████████| 7/7 [00:00<00:00, 17.10it/s, avg_epoch_loss=0, epoch=242]\n",
      "100%|██████████| 7/7 [00:00<00:00, 17.43it/s, avg_epoch_loss=0, epoch=243]\n",
      "100%|██████████| 7/7 [00:00<00:00, 17.23it/s, avg_epoch_loss=0, epoch=244]\n",
      "100%|██████████| 7/7 [00:00<00:00, 15.61it/s, avg_epoch_loss=0, epoch=245]\n",
      "100%|██████████| 7/7 [00:00<00:00, 17.35it/s, avg_epoch_loss=0, epoch=246]\n",
      "100%|██████████| 7/7 [00:00<00:00, 13.80it/s, avg_epoch_loss=0, epoch=247]\n",
      "100%|██████████| 7/7 [00:00<00:00, 17.92it/s, avg_epoch_loss=0, epoch=248]\n",
      "100%|██████████| 7/7 [00:00<00:00, 16.12it/s, avg_epoch_loss=0, epoch=249]\n"
     ]
    },
    {
     "name": "stdout",
     "output_type": "stream",
     "text": [
      "Start validation!!!\n",
      "Epoch: 249\n"
     ]
    },
    {
     "name": "stderr",
     "output_type": "stream",
     "text": [
      "100%|██████████| 2/2 [01:14<00:00, 37.21s/it]\n"
     ]
    },
    {
     "name": "stdout",
     "output_type": "stream",
     "text": [
      "====================================\n",
      "##### End evaluation!!\n",
      "PEHE VAL = 8.31e+03\n"
     ]
    },
    {
     "name": "stderr",
     "output_type": "stream",
     "text": [
      "100%|██████████| 7/7 [00:00<00:00, 17.97it/s, avg_epoch_loss=0, epoch=250]\n",
      "100%|██████████| 7/7 [00:00<00:00, 17.57it/s, avg_epoch_loss=0, epoch=251]\n",
      "100%|██████████| 7/7 [00:00<00:00, 13.57it/s, avg_epoch_loss=0, epoch=252]\n",
      "100%|██████████| 7/7 [00:00<00:00, 16.33it/s, avg_epoch_loss=0, epoch=253]\n",
      "100%|██████████| 7/7 [00:00<00:00, 17.08it/s, avg_epoch_loss=0, epoch=254]\n",
      "100%|██████████| 7/7 [00:00<00:00, 17.13it/s, avg_epoch_loss=0, epoch=255]\n",
      "100%|██████████| 7/7 [00:00<00:00, 16.80it/s, avg_epoch_loss=0, epoch=256]\n",
      "100%|██████████| 7/7 [00:00<00:00, 16.90it/s, avg_epoch_loss=0, epoch=257]\n",
      "100%|██████████| 7/7 [00:00<00:00, 17.08it/s, avg_epoch_loss=0, epoch=258]\n",
      "100%|██████████| 7/7 [00:00<00:00, 15.46it/s, avg_epoch_loss=0, epoch=259]\n",
      "100%|██████████| 7/7 [00:00<00:00, 17.05it/s, avg_epoch_loss=0, epoch=260]\n",
      "100%|██████████| 7/7 [00:00<00:00, 16.87it/s, avg_epoch_loss=0, epoch=261]\n",
      "100%|██████████| 7/7 [00:00<00:00, 13.06it/s, avg_epoch_loss=0, epoch=262]\n",
      "100%|██████████| 7/7 [00:00<00:00, 16.45it/s, avg_epoch_loss=0, epoch=263]\n",
      "100%|██████████| 7/7 [00:00<00:00, 14.07it/s, avg_epoch_loss=0, epoch=264]\n",
      "100%|██████████| 7/7 [00:00<00:00, 16.48it/s, avg_epoch_loss=0, epoch=265]\n",
      "100%|██████████| 7/7 [00:00<00:00, 15.77it/s, avg_epoch_loss=0, epoch=266]\n",
      "100%|██████████| 7/7 [00:00<00:00, 16.46it/s, avg_epoch_loss=0, epoch=267]\n",
      "100%|██████████| 7/7 [00:00<00:00, 13.95it/s, avg_epoch_loss=0, epoch=268]\n",
      "100%|██████████| 7/7 [00:00<00:00, 17.32it/s, avg_epoch_loss=0, epoch=269]\n",
      "100%|██████████| 7/7 [00:00<00:00, 17.45it/s, avg_epoch_loss=0, epoch=270]\n",
      "100%|██████████| 7/7 [00:00<00:00, 17.17it/s, avg_epoch_loss=0, epoch=271]\n",
      "100%|██████████| 7/7 [00:00<00:00, 14.71it/s, avg_epoch_loss=0, epoch=272]\n",
      "100%|██████████| 7/7 [00:00<00:00, 18.38it/s, avg_epoch_loss=0, epoch=273]\n",
      "100%|██████████| 7/7 [00:00<00:00, 15.05it/s, avg_epoch_loss=0, epoch=274]\n",
      "100%|██████████| 7/7 [00:00<00:00, 18.44it/s, avg_epoch_loss=0, epoch=275]\n",
      "100%|██████████| 7/7 [00:00<00:00, 13.97it/s, avg_epoch_loss=0, epoch=276]\n",
      "100%|██████████| 7/7 [00:00<00:00, 14.42it/s, avg_epoch_loss=0, epoch=277]\n",
      "100%|██████████| 7/7 [00:00<00:00, 15.07it/s, avg_epoch_loss=0, epoch=278]\n",
      "100%|██████████| 7/7 [00:00<00:00, 17.22it/s, avg_epoch_loss=0, epoch=279]\n",
      "100%|██████████| 7/7 [00:00<00:00, 17.05it/s, avg_epoch_loss=0, epoch=280]\n",
      "100%|██████████| 7/7 [00:00<00:00, 11.96it/s, avg_epoch_loss=0, epoch=281]\n",
      "100%|██████████| 7/7 [00:00<00:00, 16.79it/s, avg_epoch_loss=0, epoch=282]\n",
      "100%|██████████| 7/7 [00:00<00:00, 16.92it/s, avg_epoch_loss=0, epoch=283]\n",
      "100%|██████████| 7/7 [00:00<00:00, 16.67it/s, avg_epoch_loss=0, epoch=284]\n",
      "100%|██████████| 7/7 [00:00<00:00, 16.14it/s, avg_epoch_loss=0, epoch=285]\n",
      "100%|██████████| 7/7 [00:00<00:00, 16.79it/s, avg_epoch_loss=0, epoch=286]\n",
      "100%|██████████| 7/7 [00:00<00:00, 17.24it/s, avg_epoch_loss=0, epoch=287]\n",
      "100%|██████████| 7/7 [00:00<00:00, 12.80it/s, avg_epoch_loss=0, epoch=288]\n",
      "100%|██████████| 7/7 [00:00<00:00, 14.75it/s, avg_epoch_loss=0, epoch=289]\n",
      "100%|██████████| 7/7 [00:00<00:00, 17.12it/s, avg_epoch_loss=0, epoch=290]\n",
      "100%|██████████| 7/7 [00:00<00:00, 17.29it/s, avg_epoch_loss=0, epoch=291]\n",
      "100%|██████████| 7/7 [00:00<00:00, 16.62it/s, avg_epoch_loss=0, epoch=292]\n",
      "100%|██████████| 7/7 [00:00<00:00, 17.31it/s, avg_epoch_loss=0, epoch=293]\n",
      "100%|██████████| 7/7 [00:00<00:00, 17.03it/s, avg_epoch_loss=0, epoch=294]\n",
      "100%|██████████| 7/7 [00:00<00:00, 16.72it/s, avg_epoch_loss=0, epoch=295]\n",
      "100%|██████████| 7/7 [00:00<00:00, 16.44it/s, avg_epoch_loss=0, epoch=296]\n",
      "100%|██████████| 7/7 [00:00<00:00, 15.98it/s, avg_epoch_loss=0, epoch=297]\n",
      "100%|██████████| 7/7 [00:00<00:00, 16.73it/s, avg_epoch_loss=0, epoch=298]\n",
      "100%|██████████| 7/7 [00:00<00:00, 17.23it/s, avg_epoch_loss=0, epoch=299]\n"
     ]
    },
    {
     "name": "stdout",
     "output_type": "stream",
     "text": [
      "Start validation!!!\n",
      "Epoch: 299\n"
     ]
    },
    {
     "name": "stderr",
     "output_type": "stream",
     "text": [
      "100%|██████████| 2/2 [01:21<00:00, 40.69s/it]\n"
     ]
    },
    {
     "name": "stdout",
     "output_type": "stream",
     "text": [
      "====================================\n",
      "##### End evaluation!!\n",
      "PEHE VAL = 8.37e+03\n"
     ]
    },
    {
     "name": "stderr",
     "output_type": "stream",
     "text": [
      "100%|██████████| 7/7 [00:00<00:00, 16.85it/s, avg_epoch_loss=0, epoch=300]\n",
      "100%|██████████| 7/7 [00:00<00:00, 16.73it/s, avg_epoch_loss=0, epoch=301]\n",
      "100%|██████████| 7/7 [00:00<00:00, 14.56it/s, avg_epoch_loss=0, epoch=302]\n",
      "100%|██████████| 7/7 [00:00<00:00, 17.76it/s, avg_epoch_loss=0, epoch=303]\n",
      "100%|██████████| 7/7 [00:00<00:00, 17.52it/s, avg_epoch_loss=0, epoch=304]\n",
      "100%|██████████| 7/7 [00:00<00:00, 17.23it/s, avg_epoch_loss=0, epoch=305]\n",
      "100%|██████████| 7/7 [00:00<00:00, 17.54it/s, avg_epoch_loss=0, epoch=306]\n",
      "100%|██████████| 7/7 [00:00<00:00, 12.93it/s, avg_epoch_loss=0, epoch=307]\n",
      "100%|██████████| 7/7 [00:00<00:00, 11.40it/s, avg_epoch_loss=0, epoch=308]\n",
      "100%|██████████| 7/7 [00:00<00:00, 16.28it/s, avg_epoch_loss=0, epoch=309]\n",
      "100%|██████████| 7/7 [00:00<00:00, 17.35it/s, avg_epoch_loss=0, epoch=310]\n",
      "100%|██████████| 7/7 [00:00<00:00, 17.45it/s, avg_epoch_loss=0, epoch=311]\n",
      "100%|██████████| 7/7 [00:00<00:00, 13.76it/s, avg_epoch_loss=0, epoch=312]\n",
      "100%|██████████| 7/7 [00:00<00:00, 16.07it/s, avg_epoch_loss=0, epoch=313]\n",
      "100%|██████████| 7/7 [00:00<00:00, 17.56it/s, avg_epoch_loss=0, epoch=314]\n",
      "100%|██████████| 7/7 [00:00<00:00, 16.24it/s, avg_epoch_loss=0, epoch=315]\n",
      "100%|██████████| 7/7 [00:00<00:00, 16.93it/s, avg_epoch_loss=0, epoch=316]\n",
      "100%|██████████| 7/7 [00:00<00:00, 17.41it/s, avg_epoch_loss=0, epoch=317]\n",
      "100%|██████████| 7/7 [00:00<00:00, 17.10it/s, avg_epoch_loss=0, epoch=318]\n",
      "100%|██████████| 7/7 [00:00<00:00, 17.39it/s, avg_epoch_loss=0, epoch=319]\n",
      "100%|██████████| 7/7 [00:00<00:00, 17.42it/s, avg_epoch_loss=0, epoch=320]\n",
      "100%|██████████| 7/7 [00:00<00:00, 17.19it/s, avg_epoch_loss=0, epoch=321]\n",
      "100%|██████████| 7/7 [00:00<00:00, 17.34it/s, avg_epoch_loss=0, epoch=322]\n",
      "100%|██████████| 7/7 [00:00<00:00, 17.31it/s, avg_epoch_loss=0, epoch=323]\n",
      "100%|██████████| 7/7 [00:00<00:00, 17.35it/s, avg_epoch_loss=0, epoch=324]\n",
      "100%|██████████| 7/7 [00:00<00:00, 16.77it/s, avg_epoch_loss=0, epoch=325]\n",
      "100%|██████████| 7/7 [00:00<00:00, 17.08it/s, avg_epoch_loss=0, epoch=326]\n",
      "100%|██████████| 7/7 [00:00<00:00, 17.09it/s, avg_epoch_loss=0, epoch=327]\n",
      "100%|██████████| 7/7 [00:00<00:00, 17.27it/s, avg_epoch_loss=0, epoch=328]\n",
      "100%|██████████| 7/7 [00:00<00:00, 17.34it/s, avg_epoch_loss=0, epoch=329]\n",
      "100%|██████████| 7/7 [00:00<00:00, 17.25it/s, avg_epoch_loss=0, epoch=330]\n",
      "100%|██████████| 7/7 [00:00<00:00, 16.92it/s, avg_epoch_loss=0, epoch=331]\n",
      "100%|██████████| 7/7 [00:00<00:00, 16.93it/s, avg_epoch_loss=0, epoch=332]\n",
      "100%|██████████| 7/7 [00:00<00:00, 17.46it/s, avg_epoch_loss=0, epoch=333]\n",
      "100%|██████████| 7/7 [00:00<00:00, 17.23it/s, avg_epoch_loss=0, epoch=334]\n",
      "100%|██████████| 7/7 [00:00<00:00, 13.69it/s, avg_epoch_loss=0, epoch=335]\n",
      "100%|██████████| 7/7 [00:00<00:00, 16.89it/s, avg_epoch_loss=0, epoch=336]\n",
      "100%|██████████| 7/7 [00:00<00:00, 17.16it/s, avg_epoch_loss=0, epoch=337]\n",
      "100%|██████████| 7/7 [00:00<00:00, 17.07it/s, avg_epoch_loss=0, epoch=338]\n",
      "100%|██████████| 7/7 [00:00<00:00, 17.16it/s, avg_epoch_loss=0, epoch=339]\n",
      "100%|██████████| 7/7 [00:00<00:00, 17.61it/s, avg_epoch_loss=0, epoch=340]\n",
      "100%|██████████| 7/7 [00:00<00:00, 16.84it/s, avg_epoch_loss=0, epoch=341]\n",
      "100%|██████████| 7/7 [00:00<00:00, 17.31it/s, avg_epoch_loss=0, epoch=342]\n",
      "100%|██████████| 7/7 [00:00<00:00, 17.22it/s, avg_epoch_loss=0, epoch=343]\n",
      "100%|██████████| 7/7 [00:00<00:00, 17.45it/s, avg_epoch_loss=0, epoch=344]\n",
      "100%|██████████| 7/7 [00:00<00:00, 16.82it/s, avg_epoch_loss=0, epoch=345]\n",
      "100%|██████████| 7/7 [00:00<00:00, 17.28it/s, avg_epoch_loss=0, epoch=346]\n",
      "100%|██████████| 7/7 [00:00<00:00, 17.33it/s, avg_epoch_loss=0, epoch=347]\n",
      "100%|██████████| 7/7 [00:00<00:00, 17.58it/s, avg_epoch_loss=0, epoch=348]\n",
      "100%|██████████| 7/7 [00:00<00:00, 17.33it/s, avg_epoch_loss=0, epoch=349]\n"
     ]
    },
    {
     "name": "stdout",
     "output_type": "stream",
     "text": [
      "Start validation!!!\n",
      "Epoch: 349\n"
     ]
    },
    {
     "name": "stderr",
     "output_type": "stream",
     "text": [
      "100%|██████████| 2/2 [01:21<00:00, 40.87s/it]\n"
     ]
    },
    {
     "name": "stdout",
     "output_type": "stream",
     "text": [
      "====================================\n",
      "##### End evaluation!!\n",
      "PEHE VAL = 8.91e+03\n"
     ]
    },
    {
     "name": "stderr",
     "output_type": "stream",
     "text": [
      "100%|██████████| 7/7 [00:00<00:00, 13.79it/s, avg_epoch_loss=0, epoch=350]\n",
      "100%|██████████| 7/7 [00:00<00:00, 16.80it/s, avg_epoch_loss=0, epoch=351]\n",
      "100%|██████████| 7/7 [00:00<00:00, 13.38it/s, avg_epoch_loss=0, epoch=352]\n",
      "100%|██████████| 7/7 [00:00<00:00, 17.48it/s, avg_epoch_loss=0, epoch=353]\n",
      "100%|██████████| 7/7 [00:00<00:00, 16.93it/s, avg_epoch_loss=0, epoch=354]\n",
      "100%|██████████| 7/7 [00:00<00:00, 17.50it/s, avg_epoch_loss=0, epoch=355]\n",
      "100%|██████████| 7/7 [00:00<00:00, 16.71it/s, avg_epoch_loss=0, epoch=356]\n",
      "100%|██████████| 7/7 [00:00<00:00, 16.85it/s, avg_epoch_loss=0, epoch=357]\n",
      "100%|██████████| 7/7 [00:00<00:00, 17.19it/s, avg_epoch_loss=0, epoch=358]\n",
      "100%|██████████| 7/7 [00:00<00:00, 13.47it/s, avg_epoch_loss=0, epoch=359]\n",
      "100%|██████████| 7/7 [00:00<00:00, 14.40it/s, avg_epoch_loss=0, epoch=360]\n",
      "100%|██████████| 7/7 [00:00<00:00, 16.84it/s, avg_epoch_loss=0, epoch=361]\n",
      "100%|██████████| 7/7 [00:00<00:00, 13.59it/s, avg_epoch_loss=0, epoch=362]\n",
      "100%|██████████| 7/7 [00:00<00:00, 17.33it/s, avg_epoch_loss=0, epoch=363]\n",
      "100%|██████████| 7/7 [00:00<00:00, 17.51it/s, avg_epoch_loss=0, epoch=364]\n",
      "100%|██████████| 7/7 [00:00<00:00, 16.98it/s, avg_epoch_loss=0, epoch=365]\n",
      "100%|██████████| 7/7 [00:00<00:00, 17.42it/s, avg_epoch_loss=0, epoch=366]\n",
      "100%|██████████| 7/7 [00:00<00:00, 17.02it/s, avg_epoch_loss=0, epoch=367]\n",
      "100%|██████████| 7/7 [00:00<00:00, 17.05it/s, avg_epoch_loss=0, epoch=368]\n",
      "100%|██████████| 7/7 [00:00<00:00, 16.57it/s, avg_epoch_loss=0, epoch=369]\n",
      "100%|██████████| 7/7 [00:00<00:00, 16.55it/s, avg_epoch_loss=0, epoch=370]\n",
      "100%|██████████| 7/7 [00:00<00:00, 17.35it/s, avg_epoch_loss=0, epoch=371]\n",
      "100%|██████████| 7/7 [00:00<00:00, 17.59it/s, avg_epoch_loss=0, epoch=372]\n",
      "100%|██████████| 7/7 [00:00<00:00, 17.20it/s, avg_epoch_loss=0, epoch=373]\n",
      "100%|██████████| 7/7 [00:00<00:00, 17.11it/s, avg_epoch_loss=0, epoch=374]\n",
      "100%|██████████| 7/7 [00:00<00:00, 16.68it/s, avg_epoch_loss=0, epoch=375]\n",
      "100%|██████████| 7/7 [00:00<00:00, 17.26it/s, avg_epoch_loss=0, epoch=376]\n",
      "100%|██████████| 7/7 [00:00<00:00, 14.03it/s, avg_epoch_loss=0, epoch=377]\n",
      "100%|██████████| 7/7 [00:00<00:00, 15.16it/s, avg_epoch_loss=0, epoch=378]\n",
      "100%|██████████| 7/7 [00:00<00:00, 16.83it/s, avg_epoch_loss=0, epoch=379]\n",
      "100%|██████████| 7/7 [00:00<00:00, 17.20it/s, avg_epoch_loss=0, epoch=380]\n",
      "100%|██████████| 7/7 [00:00<00:00, 17.16it/s, avg_epoch_loss=0, epoch=381]\n",
      "100%|██████████| 7/7 [00:00<00:00, 16.65it/s, avg_epoch_loss=0, epoch=382]\n",
      "100%|██████████| 7/7 [00:00<00:00, 16.86it/s, avg_epoch_loss=0, epoch=383]\n",
      "100%|██████████| 7/7 [00:00<00:00, 17.41it/s, avg_epoch_loss=0, epoch=384]\n",
      "100%|██████████| 7/7 [00:00<00:00, 16.95it/s, avg_epoch_loss=0, epoch=385]\n",
      "100%|██████████| 7/7 [00:00<00:00, 13.09it/s, avg_epoch_loss=0, epoch=386]\n",
      "100%|██████████| 7/7 [00:00<00:00, 16.87it/s, avg_epoch_loss=0, epoch=387]\n",
      "100%|██████████| 7/7 [00:00<00:00, 16.89it/s, avg_epoch_loss=0, epoch=388]\n",
      "100%|██████████| 7/7 [00:00<00:00, 16.90it/s, avg_epoch_loss=0, epoch=389]\n",
      "100%|██████████| 7/7 [00:00<00:00, 17.28it/s, avg_epoch_loss=0, epoch=390]\n",
      "100%|██████████| 7/7 [00:00<00:00, 17.31it/s, avg_epoch_loss=0, epoch=391]\n",
      "100%|██████████| 7/7 [00:00<00:00, 13.50it/s, avg_epoch_loss=0, epoch=392]\n",
      "100%|██████████| 7/7 [00:00<00:00, 15.60it/s, avg_epoch_loss=0, epoch=393]\n",
      "100%|██████████| 7/7 [00:00<00:00, 13.67it/s, avg_epoch_loss=0, epoch=394]\n",
      "100%|██████████| 7/7 [00:00<00:00, 15.98it/s, avg_epoch_loss=0, epoch=395]\n",
      "100%|██████████| 7/7 [00:00<00:00, 16.80it/s, avg_epoch_loss=0, epoch=396]\n",
      "100%|██████████| 7/7 [00:00<00:00, 13.43it/s, avg_epoch_loss=0, epoch=397]\n",
      "100%|██████████| 7/7 [00:00<00:00, 16.24it/s, avg_epoch_loss=0, epoch=398]\n",
      "100%|██████████| 7/7 [00:00<00:00, 15.96it/s, avg_epoch_loss=0, epoch=399]\n"
     ]
    },
    {
     "name": "stdout",
     "output_type": "stream",
     "text": [
      "Start validation!!!\n",
      "Epoch: 399\n"
     ]
    },
    {
     "name": "stderr",
     "output_type": "stream",
     "text": [
      "100%|██████████| 2/2 [01:20<00:00, 40.24s/it]\n"
     ]
    },
    {
     "name": "stdout",
     "output_type": "stream",
     "text": [
      "====================================\n",
      "##### End evaluation!!\n",
      "PEHE VAL = 8.9e+03\n"
     ]
    },
    {
     "name": "stderr",
     "output_type": "stream",
     "text": [
      "100%|██████████| 7/7 [00:00<00:00, 16.98it/s, avg_epoch_loss=0, epoch=400]\n",
      "100%|██████████| 7/7 [00:00<00:00, 17.53it/s, avg_epoch_loss=0, epoch=401]\n",
      "100%|██████████| 7/7 [00:00<00:00, 16.71it/s, avg_epoch_loss=0, epoch=402]\n",
      "100%|██████████| 7/7 [00:00<00:00, 16.98it/s, avg_epoch_loss=0, epoch=403]\n",
      "100%|██████████| 7/7 [00:00<00:00, 12.48it/s, avg_epoch_loss=0, epoch=404]\n",
      "100%|██████████| 7/7 [00:00<00:00, 17.30it/s, avg_epoch_loss=0, epoch=405]\n",
      "100%|██████████| 7/7 [00:00<00:00, 16.90it/s, avg_epoch_loss=0, epoch=406]\n",
      "100%|██████████| 7/7 [00:00<00:00, 16.58it/s, avg_epoch_loss=0, epoch=407]\n",
      "100%|██████████| 7/7 [00:00<00:00, 17.19it/s, avg_epoch_loss=0, epoch=408]\n",
      "100%|██████████| 7/7 [00:00<00:00, 14.39it/s, avg_epoch_loss=0, epoch=409]\n",
      "100%|██████████| 7/7 [00:00<00:00, 16.54it/s, avg_epoch_loss=0, epoch=410]\n",
      "100%|██████████| 7/7 [00:00<00:00, 15.95it/s, avg_epoch_loss=0, epoch=411]\n",
      "100%|██████████| 7/7 [00:00<00:00, 16.82it/s, avg_epoch_loss=0, epoch=412]\n",
      "100%|██████████| 7/7 [00:00<00:00, 17.32it/s, avg_epoch_loss=0, epoch=413]\n",
      "100%|██████████| 7/7 [00:00<00:00, 17.90it/s, avg_epoch_loss=0, epoch=414]\n",
      "100%|██████████| 7/7 [00:00<00:00, 17.57it/s, avg_epoch_loss=0, epoch=415]\n",
      "100%|██████████| 7/7 [00:00<00:00, 17.63it/s, avg_epoch_loss=0, epoch=416]\n",
      "100%|██████████| 7/7 [00:00<00:00, 13.04it/s, avg_epoch_loss=0, epoch=417]\n",
      "100%|██████████| 7/7 [00:00<00:00, 15.31it/s, avg_epoch_loss=0, epoch=418]\n",
      "100%|██████████| 7/7 [00:00<00:00, 16.88it/s, avg_epoch_loss=0, epoch=419]\n",
      "100%|██████████| 7/7 [00:00<00:00, 17.04it/s, avg_epoch_loss=0, epoch=420]\n",
      "100%|██████████| 7/7 [00:00<00:00, 17.27it/s, avg_epoch_loss=0, epoch=421]\n",
      "100%|██████████| 7/7 [00:00<00:00, 17.81it/s, avg_epoch_loss=0, epoch=422]\n",
      "100%|██████████| 7/7 [00:00<00:00, 17.21it/s, avg_epoch_loss=0, epoch=423]\n",
      "100%|██████████| 7/7 [00:00<00:00, 16.79it/s, avg_epoch_loss=0, epoch=424]\n",
      "100%|██████████| 7/7 [00:00<00:00, 17.48it/s, avg_epoch_loss=0, epoch=425]\n",
      "100%|██████████| 7/7 [00:00<00:00, 16.92it/s, avg_epoch_loss=0, epoch=426]\n",
      "100%|██████████| 7/7 [00:00<00:00, 13.07it/s, avg_epoch_loss=0, epoch=427]\n",
      "100%|██████████| 7/7 [00:00<00:00, 15.69it/s, avg_epoch_loss=0, epoch=428]\n",
      "100%|██████████| 7/7 [00:00<00:00, 16.04it/s, avg_epoch_loss=0, epoch=429]\n",
      "100%|██████████| 7/7 [00:00<00:00, 17.15it/s, avg_epoch_loss=0, epoch=430]\n",
      "100%|██████████| 7/7 [00:00<00:00, 17.20it/s, avg_epoch_loss=0, epoch=431]\n",
      "100%|██████████| 7/7 [00:00<00:00, 14.85it/s, avg_epoch_loss=0, epoch=432]\n",
      "100%|██████████| 7/7 [00:00<00:00, 17.23it/s, avg_epoch_loss=0, epoch=433]\n",
      "100%|██████████| 7/7 [00:00<00:00, 17.23it/s, avg_epoch_loss=0, epoch=434]\n",
      "100%|██████████| 7/7 [00:00<00:00, 17.13it/s, avg_epoch_loss=0, epoch=435]\n",
      "100%|██████████| 7/7 [00:00<00:00, 16.94it/s, avg_epoch_loss=0, epoch=436]\n",
      "100%|██████████| 7/7 [00:00<00:00, 16.81it/s, avg_epoch_loss=0, epoch=437]\n",
      "100%|██████████| 7/7 [00:00<00:00, 17.03it/s, avg_epoch_loss=0, epoch=438]\n",
      "100%|██████████| 7/7 [00:00<00:00, 17.30it/s, avg_epoch_loss=0, epoch=439]\n",
      "100%|██████████| 7/7 [00:00<00:00, 17.29it/s, avg_epoch_loss=0, epoch=440]\n",
      "100%|██████████| 7/7 [00:00<00:00, 17.08it/s, avg_epoch_loss=0, epoch=441]\n",
      "100%|██████████| 7/7 [00:00<00:00, 16.83it/s, avg_epoch_loss=0, epoch=442]\n",
      "100%|██████████| 7/7 [00:00<00:00, 17.13it/s, avg_epoch_loss=0, epoch=443]\n",
      "100%|██████████| 7/7 [00:00<00:00, 16.73it/s, avg_epoch_loss=0, epoch=444]\n",
      "100%|██████████| 7/7 [00:00<00:00, 12.17it/s, avg_epoch_loss=0, epoch=445]\n",
      "100%|██████████| 7/7 [00:00<00:00, 16.75it/s, avg_epoch_loss=0, epoch=446]\n",
      "100%|██████████| 7/7 [00:00<00:00, 16.55it/s, avg_epoch_loss=0, epoch=447]\n",
      "100%|██████████| 7/7 [00:00<00:00, 17.42it/s, avg_epoch_loss=0, epoch=448]\n",
      "100%|██████████| 7/7 [00:00<00:00, 17.42it/s, avg_epoch_loss=0, epoch=449]\n"
     ]
    },
    {
     "name": "stdout",
     "output_type": "stream",
     "text": [
      "Start validation!!!\n",
      "Epoch: 449\n"
     ]
    },
    {
     "name": "stderr",
     "output_type": "stream",
     "text": [
      "100%|██████████| 2/2 [01:21<00:00, 40.75s/it]\n"
     ]
    },
    {
     "name": "stdout",
     "output_type": "stream",
     "text": [
      "====================================\n",
      "##### End evaluation!!\n",
      "PEHE VAL = 8.03e+03\n"
     ]
    },
    {
     "name": "stderr",
     "output_type": "stream",
     "text": [
      "100%|██████████| 7/7 [00:00<00:00, 16.81it/s, avg_epoch_loss=0, epoch=450]\n",
      "100%|██████████| 7/7 [00:00<00:00, 16.99it/s, avg_epoch_loss=0, epoch=451]\n",
      "100%|██████████| 7/7 [00:00<00:00, 16.85it/s, avg_epoch_loss=0, epoch=452]\n",
      "100%|██████████| 7/7 [00:00<00:00, 11.98it/s, avg_epoch_loss=0, epoch=453]\n",
      "100%|██████████| 7/7 [00:00<00:00, 15.96it/s, avg_epoch_loss=0, epoch=454]\n",
      "100%|██████████| 7/7 [00:00<00:00, 16.94it/s, avg_epoch_loss=0, epoch=455]\n",
      "100%|██████████| 7/7 [00:00<00:00, 16.80it/s, avg_epoch_loss=0, epoch=456]\n",
      "100%|██████████| 7/7 [00:00<00:00, 16.73it/s, avg_epoch_loss=0, epoch=457]\n",
      "100%|██████████| 7/7 [00:00<00:00, 16.83it/s, avg_epoch_loss=0, epoch=458]\n",
      "100%|██████████| 7/7 [00:00<00:00, 17.19it/s, avg_epoch_loss=0, epoch=459]\n",
      "100%|██████████| 7/7 [00:00<00:00, 13.53it/s, avg_epoch_loss=0, epoch=460]\n",
      "100%|██████████| 7/7 [00:00<00:00, 15.58it/s, avg_epoch_loss=0, epoch=461]\n",
      "100%|██████████| 7/7 [00:00<00:00, 16.51it/s, avg_epoch_loss=0, epoch=462]\n",
      "100%|██████████| 7/7 [00:00<00:00, 16.74it/s, avg_epoch_loss=0, epoch=463]\n",
      "100%|██████████| 7/7 [00:00<00:00, 16.68it/s, avg_epoch_loss=0, epoch=464]\n",
      "100%|██████████| 7/7 [00:00<00:00, 17.45it/s, avg_epoch_loss=0, epoch=465]\n",
      "100%|██████████| 7/7 [00:00<00:00, 16.69it/s, avg_epoch_loss=0, epoch=466]\n",
      "100%|██████████| 7/7 [00:00<00:00, 17.07it/s, avg_epoch_loss=0, epoch=467]\n",
      "100%|██████████| 7/7 [00:00<00:00, 17.07it/s, avg_epoch_loss=0, epoch=468]\n",
      "100%|██████████| 7/7 [00:00<00:00, 17.00it/s, avg_epoch_loss=0, epoch=469]\n",
      "100%|██████████| 7/7 [00:00<00:00, 17.22it/s, avg_epoch_loss=0, epoch=470]\n",
      "100%|██████████| 7/7 [00:00<00:00, 17.09it/s, avg_epoch_loss=0, epoch=471]\n",
      "100%|██████████| 7/7 [00:00<00:00, 16.64it/s, avg_epoch_loss=0, epoch=472]\n",
      "100%|██████████| 7/7 [00:00<00:00, 15.67it/s, avg_epoch_loss=0, epoch=473]\n",
      "100%|██████████| 7/7 [00:00<00:00, 13.27it/s, avg_epoch_loss=0, epoch=474]\n",
      "100%|██████████| 7/7 [00:00<00:00, 17.27it/s, avg_epoch_loss=0, epoch=475]\n",
      "100%|██████████| 7/7 [00:00<00:00, 17.31it/s, avg_epoch_loss=0, epoch=476]\n",
      "100%|██████████| 7/7 [00:00<00:00, 17.50it/s, avg_epoch_loss=0, epoch=477]\n",
      "100%|██████████| 7/7 [00:00<00:00, 16.23it/s, avg_epoch_loss=0, epoch=478]\n",
      "100%|██████████| 7/7 [00:00<00:00, 17.22it/s, avg_epoch_loss=0, epoch=479]\n",
      "100%|██████████| 7/7 [00:00<00:00, 17.15it/s, avg_epoch_loss=0, epoch=480]\n",
      "100%|██████████| 7/7 [00:00<00:00, 17.29it/s, avg_epoch_loss=0, epoch=481]\n",
      "100%|██████████| 7/7 [00:00<00:00, 16.92it/s, avg_epoch_loss=0, epoch=482]\n",
      "100%|██████████| 7/7 [00:00<00:00, 16.95it/s, avg_epoch_loss=0, epoch=483]\n",
      "100%|██████████| 7/7 [00:00<00:00, 15.94it/s, avg_epoch_loss=0, epoch=484]\n",
      "100%|██████████| 7/7 [00:00<00:00, 16.99it/s, avg_epoch_loss=0, epoch=485]\n",
      "100%|██████████| 7/7 [00:00<00:00, 17.13it/s, avg_epoch_loss=0, epoch=486]\n",
      "100%|██████████| 7/7 [00:00<00:00, 17.55it/s, avg_epoch_loss=0, epoch=487]\n",
      "100%|██████████| 7/7 [00:00<00:00, 17.17it/s, avg_epoch_loss=0, epoch=488]\n",
      "100%|██████████| 7/7 [00:00<00:00, 16.98it/s, avg_epoch_loss=0, epoch=489]\n",
      "100%|██████████| 7/7 [00:00<00:00, 16.67it/s, avg_epoch_loss=0, epoch=490]\n",
      "100%|██████████| 7/7 [00:00<00:00, 17.03it/s, avg_epoch_loss=0, epoch=491]\n",
      "100%|██████████| 7/7 [00:00<00:00, 17.37it/s, avg_epoch_loss=0, epoch=492]\n",
      "100%|██████████| 7/7 [00:00<00:00, 16.88it/s, avg_epoch_loss=0, epoch=493]\n",
      "100%|██████████| 7/7 [00:00<00:00, 16.91it/s, avg_epoch_loss=0, epoch=494]\n",
      "100%|██████████| 7/7 [00:00<00:00, 17.13it/s, avg_epoch_loss=0, epoch=495]\n",
      "100%|██████████| 7/7 [00:00<00:00, 17.01it/s, avg_epoch_loss=0, epoch=496]\n",
      "100%|██████████| 7/7 [00:00<00:00, 17.19it/s, avg_epoch_loss=0, epoch=497]\n",
      "100%|██████████| 7/7 [00:00<00:00, 16.90it/s, avg_epoch_loss=0, epoch=498]\n",
      "100%|██████████| 7/7 [00:00<00:00, 16.98it/s, avg_epoch_loss=0, epoch=499]\n"
     ]
    },
    {
     "name": "stdout",
     "output_type": "stream",
     "text": [
      "Start validation!!!\n",
      "Epoch: 499\n"
     ]
    },
    {
     "name": "stderr",
     "output_type": "stream",
     "text": [
      "100%|██████████| 2/2 [01:20<00:00, 40.47s/it]\n"
     ]
    },
    {
     "name": "stdout",
     "output_type": "stream",
     "text": [
      "====================================\n",
      "##### End evaluation!!\n",
      "PEHE VAL = 8.54e+03\n",
      "Training complete.\n",
      "Evaluating the model...\n"
     ]
    },
    {
     "name": "stderr",
     "output_type": "stream",
     "text": [
      "100%|██████████| 12/12 [17:40<00:00, 88.40s/it]\n",
      "GPU available: True (mps), used: False\n",
      "TPU available: False, using: 0 TPU cores\n",
      "HPU available: False, using: 0 HPUs\n",
      "\n",
      "  | Name           | Type        | Params | Mode \n",
      "-------------------------------------------------------\n",
      "0 | balancer       | Sequential  | 1.6 K  | train\n",
      "1 | prior_encoder0 | Sequential  | 0      | train\n",
      "2 | prior_encoder1 | Sequential  | 0      | train\n",
      "3 | cond_mean0     | Sequential  | 701    | train\n",
      "4 | cond_mean1     | Sequential  | 701    | train\n",
      "5 | cond_std0      | Sequential  | 701    | train\n",
      "6 | cond_std1      | Sequential  | 701    | train\n",
      "7 | flows0         | DSFMarginal | 892    | train\n",
      "8 | flows1         | DSFMarginal | 892    | train\n",
      "-------------------------------------------------------\n",
      "6.2 K     Trainable params\n",
      "0         Non-trainable params\n",
      "6.2 K     Total params\n",
      "0.025     Total estimated model params size (MB)\n",
      "45        Modules in train mode\n",
      "0         Modules in eval mode\n"
     ]
    },
    {
     "name": "stdout",
     "output_type": "stream",
     "text": [
      "Fit and evaluate NOFLITE ...\n"
     ]
    },
    {
     "data": {
      "application/vnd.jupyter.widget-view+json": {
       "model_id": "b7d9154c7d85490cb0b1e3f06907d537",
       "version_major": 2,
       "version_minor": 0
      },
      "text/plain": [
       "Training: |          | 0/? [00:00<?, ?it/s]"
      ]
     },
     "metadata": {},
     "output_type": "display_data"
    },
    {
     "name": "stderr",
     "output_type": "stream",
     "text": [
      "`Trainer.fit` stopped: `max_steps=10000` reached.\n"
     ]
    },
    {
     "name": "stdout",
     "output_type": "stream",
     "text": [
      "|====================================================================================================|Fit and evaluate CCT-learner ...\n",
      "Fit and evaluate BART ...\n"
     ]
    },
    {
     "name": "stderr",
     "output_type": "stream",
     "text": [
      "Multiprocess sampling (4 chains in 4 jobs)\n",
      "PGBART: [mu]\n"
     ]
    },
    {
     "data": {
      "application/vnd.jupyter.widget-view+json": {
       "model_id": "a90d8e484a8e403b9893d0dd5f41d255",
       "version_major": 2,
       "version_minor": 0
      },
      "text/plain": [
       "Output()"
      ]
     },
     "metadata": {},
     "output_type": "display_data"
    },
    {
     "data": {
      "text/html": [
       "<pre style=\"white-space:pre;overflow-x:auto;line-height:normal;font-family:Menlo,'DejaVu Sans Mono',consolas,'Courier New',monospace\"></pre>\n"
      ],
      "text/plain": []
     },
     "metadata": {},
     "output_type": "display_data"
    },
    {
     "name": "stderr",
     "output_type": "stream",
     "text": [
      "Sampling 4 chains for 500 tune and 500 draw iterations (2_000 + 2_000 draws total) took 18 seconds.\n",
      "The rhat statistic is larger than 1.01 for some parameters. This indicates problems during sampling. See https://arxiv.org/abs/1903.08008 for details\n",
      "The effective sample size per chain is smaller than 100 for some parameters.  A higher number is needed for reliable rhat and ess computation. See https://arxiv.org/abs/1903.08008 for details\n",
      "Sampling: [mu, y]\n"
     ]
    },
    {
     "data": {
      "application/vnd.jupyter.widget-view+json": {
       "model_id": "7a5ec34c853a40ff8c96ac83078eeef6",
       "version_major": 2,
       "version_minor": 0
      },
      "text/plain": [
       "Output()"
      ]
     },
     "metadata": {},
     "output_type": "display_data"
    },
    {
     "name": "stdout",
     "output_type": "stream",
     "text": [
      "X_extended (3000, 11)\n"
     ]
    },
    {
     "data": {
      "text/html": [
       "<pre style=\"white-space:pre;overflow-x:auto;line-height:normal;font-family:Menlo,'DejaVu Sans Mono',consolas,'Courier New',monospace\"></pre>\n"
      ],
      "text/plain": []
     },
     "metadata": {},
     "output_type": "display_data"
    },
    {
     "name": "stderr",
     "output_type": "stream",
     "text": [
      "Sampling: [mu, y]\n"
     ]
    },
    {
     "data": {
      "application/vnd.jupyter.widget-view+json": {
       "model_id": "3b1dfcfafe0f442f89725c2841f13149",
       "version_major": 2,
       "version_minor": 0
      },
      "text/plain": [
       "Output()"
      ]
     },
     "metadata": {},
     "output_type": "display_data"
    },
    {
     "data": {
      "text/html": [
       "<pre style=\"white-space:pre;overflow-x:auto;line-height:normal;font-family:Menlo,'DejaVu Sans Mono',consolas,'Courier New',monospace\"></pre>\n"
      ],
      "text/plain": []
     },
     "metadata": {},
     "output_type": "display_data"
    },
    {
     "name": "stderr",
     "output_type": "stream",
     "text": [
      "Sampling: [mu, y]\n"
     ]
    },
    {
     "data": {
      "application/vnd.jupyter.widget-view+json": {
       "model_id": "9f8f7816288a4b488241e4375c465d9a",
       "version_major": 2,
       "version_minor": 0
      },
      "text/plain": [
       "Output()"
      ]
     },
     "metadata": {},
     "output_type": "display_data"
    },
    {
     "name": "stdout",
     "output_type": "stream",
     "text": [
      "X_extended (3000, 11)\n"
     ]
    },
    {
     "data": {
      "text/html": [
       "<pre style=\"white-space:pre;overflow-x:auto;line-height:normal;font-family:Menlo,'DejaVu Sans Mono',consolas,'Courier New',monospace\"></pre>\n"
      ],
      "text/plain": []
     },
     "metadata": {},
     "output_type": "display_data"
    },
    {
     "name": "stderr",
     "output_type": "stream",
     "text": [
      "Sampling: [mu, y]\n"
     ]
    },
    {
     "data": {
      "application/vnd.jupyter.widget-view+json": {
       "model_id": "a873b16e34c24f6387e07122dd1a9c2d",
       "version_major": 2,
       "version_minor": 0
      },
      "text/plain": [
       "Output()"
      ]
     },
     "metadata": {},
     "output_type": "display_data"
    },
    {
     "data": {
      "text/html": [
       "<pre style=\"white-space:pre;overflow-x:auto;line-height:normal;font-family:Menlo,'DejaVu Sans Mono',consolas,'Courier New',monospace\"></pre>\n"
      ],
      "text/plain": []
     },
     "metadata": {},
     "output_type": "display_data"
    },
    {
     "name": "stdout",
     "output_type": "stream",
     "text": [
      "Fit and evaluate CMGP ...\n",
      "Fit and evaluate CEVAE ...\n",
      "Using cpu\n"
     ]
    },
    {
     "name": "stderr",
     "output_type": "stream",
     "text": [
      "100%|██████████| 7000/7000 [00:35<00:00, 195.60it/s]\n"
     ]
    },
    {
     "name": "stdout",
     "output_type": "stream",
     "text": [
      "Fit and evaluate FCCN ...\n"
     ]
    },
    {
     "name": "stderr",
     "output_type": "stream",
     "text": [
      "100%|██████████| 20000/20000 [02:29<00:00, 134.09it/s]\n"
     ]
    },
    {
     "name": "stdout",
     "output_type": "stream",
     "text": [
      "Fit and evaluate GANITE ...\n"
     ]
    },
    {
     "name": "stderr",
     "output_type": "stream",
     "text": [
      "Training Counterfactual GAN: 100%|██████████| 10000/10000 [08:46<00:00, 19.00it/s]\n",
      "Training ITE GAN: 100%|██████████| 10000/10000 [09:46<00:00, 17.05it/s]\n"
     ]
    },
    {
     "name": "stdout",
     "output_type": "stream",
     "text": [
      "Fit and evaluate DKLITE ...\n"
     ]
    },
    {
     "name": "stderr",
     "output_type": "stream",
     "text": [
      "  5%|▌         | 51/1000 [00:02<00:55, 17.15it/s]\n"
     ]
    },
    {
     "name": "stdout",
     "output_type": "stream",
     "text": [
      "Fit and evaluate diffpo ...\n"
     ]
    },
    {
     "name": "stderr",
     "output_type": "stream",
     "text": [
      "100%|██████████| 7/7 [00:00<00:00, 16.23it/s, avg_epoch_loss=0, epoch=0]\n",
      "100%|██████████| 7/7 [00:00<00:00, 16.53it/s, avg_epoch_loss=0, epoch=1]\n",
      "100%|██████████| 7/7 [00:00<00:00, 14.47it/s, avg_epoch_loss=0, epoch=2]\n",
      "100%|██████████| 7/7 [00:00<00:00, 13.93it/s, avg_epoch_loss=0, epoch=3]\n",
      "100%|██████████| 7/7 [00:00<00:00, 17.39it/s, avg_epoch_loss=0, epoch=4]\n",
      "100%|██████████| 7/7 [00:00<00:00, 16.13it/s, avg_epoch_loss=0, epoch=5]\n",
      "100%|██████████| 7/7 [00:00<00:00, 14.77it/s, avg_epoch_loss=0, epoch=6]\n",
      "100%|██████████| 7/7 [00:00<00:00, 17.07it/s, avg_epoch_loss=0, epoch=7]\n",
      "100%|██████████| 7/7 [00:00<00:00, 17.31it/s, avg_epoch_loss=0, epoch=8]\n",
      "100%|██████████| 7/7 [00:00<00:00, 16.25it/s, avg_epoch_loss=0, epoch=9]\n",
      "100%|██████████| 7/7 [00:00<00:00, 14.94it/s, avg_epoch_loss=0, epoch=10]\n",
      "100%|██████████| 7/7 [00:00<00:00, 15.01it/s, avg_epoch_loss=0, epoch=11]\n",
      "100%|██████████| 7/7 [00:00<00:00, 15.71it/s, avg_epoch_loss=0, epoch=12]\n",
      "100%|██████████| 7/7 [00:00<00:00, 16.19it/s, avg_epoch_loss=0, epoch=13]\n",
      "100%|██████████| 7/7 [00:00<00:00, 15.03it/s, avg_epoch_loss=0, epoch=14]\n",
      "100%|██████████| 7/7 [00:00<00:00, 17.43it/s, avg_epoch_loss=0, epoch=15]\n",
      "100%|██████████| 7/7 [00:00<00:00, 14.33it/s, avg_epoch_loss=0, epoch=16]\n",
      "100%|██████████| 7/7 [00:00<00:00, 17.43it/s, avg_epoch_loss=0, epoch=17]\n",
      "100%|██████████| 7/7 [00:00<00:00, 17.48it/s, avg_epoch_loss=0, epoch=18]\n",
      "100%|██████████| 7/7 [00:00<00:00, 16.87it/s, avg_epoch_loss=0, epoch=19]\n",
      "100%|██████████| 7/7 [00:00<00:00, 14.31it/s, avg_epoch_loss=0, epoch=20]\n",
      "100%|██████████| 7/7 [00:00<00:00, 17.18it/s, avg_epoch_loss=0, epoch=21]\n",
      "100%|██████████| 7/7 [00:00<00:00, 18.25it/s, avg_epoch_loss=0, epoch=22]\n",
      "100%|██████████| 7/7 [00:00<00:00, 15.97it/s, avg_epoch_loss=0, epoch=23]\n",
      "100%|██████████| 7/7 [00:00<00:00, 14.02it/s, avg_epoch_loss=0, epoch=24]\n",
      "100%|██████████| 7/7 [00:00<00:00, 17.03it/s, avg_epoch_loss=0, epoch=25]\n",
      "100%|██████████| 7/7 [00:00<00:00, 17.08it/s, avg_epoch_loss=0, epoch=26]\n",
      "100%|██████████| 7/7 [00:00<00:00, 17.63it/s, avg_epoch_loss=0, epoch=27]\n",
      "100%|██████████| 7/7 [00:00<00:00, 16.07it/s, avg_epoch_loss=0, epoch=28]\n",
      "100%|██████████| 7/7 [00:00<00:00, 15.73it/s, avg_epoch_loss=0, epoch=29]\n",
      "100%|██████████| 7/7 [00:00<00:00, 15.80it/s, avg_epoch_loss=0, epoch=30]\n",
      "100%|██████████| 7/7 [00:00<00:00, 16.91it/s, avg_epoch_loss=0, epoch=31]\n",
      "100%|██████████| 7/7 [00:00<00:00, 17.31it/s, avg_epoch_loss=0, epoch=32]\n",
      "100%|██████████| 7/7 [00:00<00:00, 15.29it/s, avg_epoch_loss=0, epoch=33]\n",
      "100%|██████████| 7/7 [00:00<00:00, 17.44it/s, avg_epoch_loss=0, epoch=34]\n",
      "100%|██████████| 7/7 [00:00<00:00, 17.39it/s, avg_epoch_loss=0, epoch=35]\n",
      "100%|██████████| 7/7 [00:00<00:00, 17.64it/s, avg_epoch_loss=0, epoch=36]\n",
      "100%|██████████| 7/7 [00:00<00:00, 19.87it/s, avg_epoch_loss=0, epoch=37]\n",
      "100%|██████████| 7/7 [00:00<00:00, 15.89it/s, avg_epoch_loss=0, epoch=38]\n",
      "100%|██████████| 7/7 [00:00<00:00, 15.64it/s, avg_epoch_loss=0, epoch=39]\n",
      "100%|██████████| 7/7 [00:00<00:00, 13.83it/s, avg_epoch_loss=0, epoch=40]\n",
      "100%|██████████| 7/7 [00:00<00:00, 13.67it/s, avg_epoch_loss=0, epoch=41]\n",
      "100%|██████████| 7/7 [00:00<00:00, 15.79it/s, avg_epoch_loss=0, epoch=42]\n",
      "100%|██████████| 7/7 [00:00<00:00, 19.36it/s, avg_epoch_loss=0, epoch=43]\n",
      "100%|██████████| 7/7 [00:00<00:00, 18.05it/s, avg_epoch_loss=0, epoch=44]\n",
      "100%|██████████| 7/7 [00:00<00:00, 19.34it/s, avg_epoch_loss=0, epoch=45]\n",
      "100%|██████████| 7/7 [00:00<00:00, 19.27it/s, avg_epoch_loss=0, epoch=46]\n",
      "100%|██████████| 7/7 [00:00<00:00, 18.94it/s, avg_epoch_loss=0, epoch=47]\n",
      "100%|██████████| 7/7 [00:00<00:00, 19.47it/s, avg_epoch_loss=0, epoch=48]\n",
      "100%|██████████| 7/7 [00:00<00:00, 19.02it/s, avg_epoch_loss=0, epoch=49]\n"
     ]
    },
    {
     "name": "stdout",
     "output_type": "stream",
     "text": [
      "Start validation!!!\n",
      "Epoch: 49\n"
     ]
    },
    {
     "name": "stderr",
     "output_type": "stream",
     "text": [
      "100%|██████████| 2/2 [01:29<00:00, 44.80s/it]\n"
     ]
    },
    {
     "name": "stdout",
     "output_type": "stream",
     "text": [
      "====================================\n",
      "##### End evaluation!!\n",
      "PEHE VAL = 8.1e+03\n"
     ]
    },
    {
     "name": "stderr",
     "output_type": "stream",
     "text": [
      "100%|██████████| 7/7 [00:00<00:00, 12.36it/s, avg_epoch_loss=0, epoch=50]\n",
      "100%|██████████| 7/7 [00:00<00:00, 11.16it/s, avg_epoch_loss=0, epoch=51]\n",
      "100%|██████████| 7/7 [00:00<00:00, 12.45it/s, avg_epoch_loss=0, epoch=52]\n",
      "100%|██████████| 7/7 [00:00<00:00, 15.71it/s, avg_epoch_loss=0, epoch=53]\n",
      "100%|██████████| 7/7 [00:00<00:00, 14.25it/s, avg_epoch_loss=0, epoch=54]\n",
      "100%|██████████| 7/7 [00:00<00:00, 15.12it/s, avg_epoch_loss=0, epoch=55]\n",
      "100%|██████████| 7/7 [00:00<00:00, 13.86it/s, avg_epoch_loss=0, epoch=56]\n",
      "100%|██████████| 7/7 [00:00<00:00, 17.90it/s, avg_epoch_loss=0, epoch=57]\n",
      "100%|██████████| 7/7 [00:00<00:00, 13.97it/s, avg_epoch_loss=0, epoch=58]\n",
      "100%|██████████| 7/7 [00:00<00:00, 15.42it/s, avg_epoch_loss=0, epoch=59]\n",
      "100%|██████████| 7/7 [00:00<00:00, 15.79it/s, avg_epoch_loss=0, epoch=60]\n",
      "100%|██████████| 7/7 [00:00<00:00, 16.49it/s, avg_epoch_loss=0, epoch=61]\n",
      "100%|██████████| 7/7 [00:00<00:00, 16.70it/s, avg_epoch_loss=0, epoch=62]\n",
      "100%|██████████| 7/7 [00:00<00:00, 16.41it/s, avg_epoch_loss=0, epoch=63]\n",
      "100%|██████████| 7/7 [00:00<00:00, 15.98it/s, avg_epoch_loss=0, epoch=64]\n",
      "100%|██████████| 7/7 [00:00<00:00, 14.75it/s, avg_epoch_loss=0, epoch=65]\n",
      "100%|██████████| 7/7 [00:00<00:00, 16.10it/s, avg_epoch_loss=0, epoch=66]\n",
      "100%|██████████| 7/7 [00:00<00:00, 16.58it/s, avg_epoch_loss=0, epoch=67]\n",
      "100%|██████████| 7/7 [00:00<00:00, 13.62it/s, avg_epoch_loss=0, epoch=68]\n",
      "100%|██████████| 7/7 [00:00<00:00, 13.89it/s, avg_epoch_loss=0, epoch=69]\n",
      "100%|██████████| 7/7 [00:00<00:00, 15.18it/s, avg_epoch_loss=0, epoch=70]\n",
      "100%|██████████| 7/7 [00:00<00:00, 11.61it/s, avg_epoch_loss=0, epoch=71]\n",
      "100%|██████████| 7/7 [00:00<00:00, 14.96it/s, avg_epoch_loss=0, epoch=72]\n",
      "100%|██████████| 7/7 [00:00<00:00, 16.68it/s, avg_epoch_loss=0, epoch=73]\n",
      "100%|██████████| 7/7 [00:00<00:00, 17.36it/s, avg_epoch_loss=0, epoch=74]\n",
      "100%|██████████| 7/7 [00:00<00:00, 17.11it/s, avg_epoch_loss=0, epoch=75]\n",
      "100%|██████████| 7/7 [00:00<00:00, 17.32it/s, avg_epoch_loss=0, epoch=76]\n",
      "100%|██████████| 7/7 [00:00<00:00, 17.21it/s, avg_epoch_loss=0, epoch=77]\n",
      "100%|██████████| 7/7 [00:00<00:00, 16.30it/s, avg_epoch_loss=0, epoch=78]\n",
      "100%|██████████| 7/7 [00:00<00:00, 16.57it/s, avg_epoch_loss=0, epoch=79]\n",
      "100%|██████████| 7/7 [00:00<00:00, 14.65it/s, avg_epoch_loss=0, epoch=80]\n",
      "100%|██████████| 7/7 [00:00<00:00, 16.26it/s, avg_epoch_loss=0, epoch=81]\n",
      "100%|██████████| 7/7 [00:00<00:00, 16.38it/s, avg_epoch_loss=0, epoch=82]\n",
      "100%|██████████| 7/7 [00:00<00:00, 16.91it/s, avg_epoch_loss=0, epoch=83]\n",
      "100%|██████████| 7/7 [00:00<00:00, 17.79it/s, avg_epoch_loss=0, epoch=84]\n",
      "100%|██████████| 7/7 [00:00<00:00, 17.50it/s, avg_epoch_loss=0, epoch=85]\n",
      "100%|██████████| 7/7 [00:00<00:00, 17.51it/s, avg_epoch_loss=0, epoch=86]\n",
      "100%|██████████| 7/7 [00:00<00:00, 16.84it/s, avg_epoch_loss=0, epoch=87]\n",
      "100%|██████████| 7/7 [00:00<00:00, 16.33it/s, avg_epoch_loss=0, epoch=88]\n",
      "100%|██████████| 7/7 [00:00<00:00, 16.84it/s, avg_epoch_loss=0, epoch=89]\n",
      "100%|██████████| 7/7 [00:00<00:00, 16.52it/s, avg_epoch_loss=0, epoch=90]\n",
      "100%|██████████| 7/7 [00:00<00:00, 15.06it/s, avg_epoch_loss=0, epoch=91]\n",
      "100%|██████████| 7/7 [00:00<00:00, 14.36it/s, avg_epoch_loss=0, epoch=92]\n",
      "100%|██████████| 7/7 [00:00<00:00, 12.61it/s, avg_epoch_loss=0, epoch=93]\n",
      "100%|██████████| 7/7 [00:00<00:00, 15.91it/s, avg_epoch_loss=0, epoch=94]\n",
      "100%|██████████| 7/7 [00:00<00:00, 19.06it/s, avg_epoch_loss=0, epoch=95]\n",
      "100%|██████████| 7/7 [00:00<00:00, 19.36it/s, avg_epoch_loss=0, epoch=96]\n",
      "100%|██████████| 7/7 [00:00<00:00, 16.62it/s, avg_epoch_loss=0, epoch=97]\n",
      "100%|██████████| 7/7 [00:00<00:00, 15.55it/s, avg_epoch_loss=0, epoch=98]\n",
      "100%|██████████| 7/7 [00:00<00:00, 15.65it/s, avg_epoch_loss=0, epoch=99]\n"
     ]
    },
    {
     "name": "stdout",
     "output_type": "stream",
     "text": [
      "Start validation!!!\n",
      "Epoch: 99\n"
     ]
    },
    {
     "name": "stderr",
     "output_type": "stream",
     "text": [
      "100%|██████████| 2/2 [01:23<00:00, 41.54s/it]\n"
     ]
    },
    {
     "name": "stdout",
     "output_type": "stream",
     "text": [
      "====================================\n",
      "##### End evaluation!!\n",
      "PEHE VAL = 8.29e+03\n"
     ]
    },
    {
     "name": "stderr",
     "output_type": "stream",
     "text": [
      "100%|██████████| 7/7 [00:00<00:00, 15.16it/s, avg_epoch_loss=0, epoch=100]\n",
      "100%|██████████| 7/7 [00:00<00:00, 14.67it/s, avg_epoch_loss=0, epoch=101]\n",
      "100%|██████████| 7/7 [00:00<00:00, 15.88it/s, avg_epoch_loss=0, epoch=102]\n",
      "100%|██████████| 7/7 [00:00<00:00, 13.62it/s, avg_epoch_loss=0, epoch=103]\n",
      "100%|██████████| 7/7 [00:00<00:00, 16.35it/s, avg_epoch_loss=0, epoch=104]\n",
      "100%|██████████| 7/7 [00:00<00:00, 16.19it/s, avg_epoch_loss=0, epoch=105]\n",
      "100%|██████████| 7/7 [00:00<00:00, 16.63it/s, avg_epoch_loss=0, epoch=106]\n",
      "100%|██████████| 7/7 [00:00<00:00, 16.45it/s, avg_epoch_loss=0, epoch=107]\n",
      "100%|██████████| 7/7 [00:00<00:00, 17.03it/s, avg_epoch_loss=0, epoch=108]\n",
      "100%|██████████| 7/7 [00:00<00:00, 16.55it/s, avg_epoch_loss=0, epoch=109]\n",
      "100%|██████████| 7/7 [00:00<00:00, 17.98it/s, avg_epoch_loss=0, epoch=110]\n",
      "100%|██████████| 7/7 [00:00<00:00, 13.03it/s, avg_epoch_loss=0, epoch=111]\n",
      "100%|██████████| 7/7 [00:00<00:00, 13.54it/s, avg_epoch_loss=0, epoch=112]\n",
      "100%|██████████| 7/7 [00:00<00:00, 15.65it/s, avg_epoch_loss=0, epoch=113]\n",
      "100%|██████████| 7/7 [00:00<00:00, 17.28it/s, avg_epoch_loss=0, epoch=114]\n",
      "100%|██████████| 7/7 [00:00<00:00, 16.81it/s, avg_epoch_loss=0, epoch=115]\n",
      "100%|██████████| 7/7 [00:00<00:00, 15.74it/s, avg_epoch_loss=0, epoch=116]\n",
      "100%|██████████| 7/7 [00:00<00:00, 13.25it/s, avg_epoch_loss=0, epoch=117]\n",
      "100%|██████████| 7/7 [00:00<00:00,  9.32it/s, avg_epoch_loss=0, epoch=118]\n",
      "100%|██████████| 7/7 [00:00<00:00, 16.37it/s, avg_epoch_loss=0, epoch=119]\n",
      "100%|██████████| 7/7 [00:00<00:00, 17.93it/s, avg_epoch_loss=0, epoch=120]\n",
      "100%|██████████| 7/7 [00:00<00:00, 12.38it/s, avg_epoch_loss=0, epoch=121]\n",
      "100%|██████████| 7/7 [00:00<00:00, 13.13it/s, avg_epoch_loss=0, epoch=122]\n",
      "100%|██████████| 7/7 [00:00<00:00, 13.57it/s, avg_epoch_loss=0, epoch=123]\n",
      "100%|██████████| 7/7 [00:00<00:00, 16.95it/s, avg_epoch_loss=0, epoch=124]\n",
      "100%|██████████| 7/7 [00:00<00:00, 15.38it/s, avg_epoch_loss=0, epoch=125]\n",
      "100%|██████████| 7/7 [00:00<00:00, 15.02it/s, avg_epoch_loss=0, epoch=126]\n",
      "100%|██████████| 7/7 [00:00<00:00, 16.50it/s, avg_epoch_loss=0, epoch=127]\n",
      "100%|██████████| 7/7 [00:00<00:00, 16.98it/s, avg_epoch_loss=0, epoch=128]\n",
      "100%|██████████| 7/7 [00:00<00:00,  8.86it/s, avg_epoch_loss=0, epoch=129]\n",
      "100%|██████████| 7/7 [00:00<00:00, 15.34it/s, avg_epoch_loss=0, epoch=130]\n",
      "100%|██████████| 7/7 [00:00<00:00, 16.07it/s, avg_epoch_loss=0, epoch=131]\n",
      "100%|██████████| 7/7 [00:00<00:00, 15.69it/s, avg_epoch_loss=0, epoch=132]\n",
      "100%|██████████| 7/7 [00:00<00:00, 16.58it/s, avg_epoch_loss=0, epoch=133]\n",
      "100%|██████████| 7/7 [00:00<00:00, 16.67it/s, avg_epoch_loss=0, epoch=134]\n",
      "100%|██████████| 7/7 [00:00<00:00, 15.93it/s, avg_epoch_loss=0, epoch=135]\n",
      "100%|██████████| 7/7 [00:00<00:00, 15.60it/s, avg_epoch_loss=0, epoch=136]\n",
      "100%|██████████| 7/7 [00:00<00:00, 16.93it/s, avg_epoch_loss=0, epoch=137]\n",
      "100%|██████████| 7/7 [00:00<00:00, 17.95it/s, avg_epoch_loss=0, epoch=138]\n",
      "100%|██████████| 7/7 [00:00<00:00,  9.64it/s, avg_epoch_loss=0, epoch=139]\n",
      "100%|██████████| 7/7 [00:00<00:00,  8.47it/s, avg_epoch_loss=0, epoch=140]\n",
      "100%|██████████| 7/7 [00:00<00:00, 14.20it/s, avg_epoch_loss=0, epoch=141]\n",
      "100%|██████████| 7/7 [00:00<00:00, 14.33it/s, avg_epoch_loss=0, epoch=142]\n",
      "100%|██████████| 7/7 [00:00<00:00, 15.97it/s, avg_epoch_loss=0, epoch=143]\n",
      "100%|██████████| 7/7 [00:00<00:00, 15.14it/s, avg_epoch_loss=0, epoch=144]\n",
      "100%|██████████| 7/7 [00:00<00:00, 16.55it/s, avg_epoch_loss=0, epoch=145]\n",
      "100%|██████████| 7/7 [00:00<00:00, 16.45it/s, avg_epoch_loss=0, epoch=146]\n",
      "100%|██████████| 7/7 [00:00<00:00, 16.08it/s, avg_epoch_loss=0, epoch=147]\n",
      "100%|██████████| 7/7 [00:00<00:00, 15.76it/s, avg_epoch_loss=0, epoch=148]\n",
      "100%|██████████| 7/7 [00:00<00:00, 16.89it/s, avg_epoch_loss=0, epoch=149]\n"
     ]
    },
    {
     "name": "stdout",
     "output_type": "stream",
     "text": [
      "Start validation!!!\n",
      "Epoch: 149\n"
     ]
    },
    {
     "name": "stderr",
     "output_type": "stream",
     "text": [
      "100%|██████████| 2/2 [01:17<00:00, 38.51s/it]\n"
     ]
    },
    {
     "name": "stdout",
     "output_type": "stream",
     "text": [
      "====================================\n",
      "##### End evaluation!!\n",
      "PEHE VAL = 8.48e+03\n"
     ]
    },
    {
     "name": "stderr",
     "output_type": "stream",
     "text": [
      "100%|██████████| 7/7 [00:00<00:00, 15.12it/s, avg_epoch_loss=0, epoch=150]\n",
      "100%|██████████| 7/7 [00:00<00:00, 15.46it/s, avg_epoch_loss=0, epoch=151]\n",
      "100%|██████████| 7/7 [00:00<00:00, 15.28it/s, avg_epoch_loss=0, epoch=152]\n",
      "100%|██████████| 7/7 [00:00<00:00, 15.13it/s, avg_epoch_loss=0, epoch=153]\n",
      "100%|██████████| 7/7 [00:00<00:00, 15.59it/s, avg_epoch_loss=0, epoch=154]\n",
      "100%|██████████| 7/7 [00:00<00:00, 16.13it/s, avg_epoch_loss=0, epoch=155]\n",
      "100%|██████████| 7/7 [00:00<00:00, 15.97it/s, avg_epoch_loss=0, epoch=156]\n",
      "100%|██████████| 7/7 [00:00<00:00, 15.93it/s, avg_epoch_loss=0, epoch=157]\n",
      "100%|██████████| 7/7 [00:00<00:00, 16.24it/s, avg_epoch_loss=0, epoch=158]\n",
      "100%|██████████| 7/7 [00:00<00:00, 15.57it/s, avg_epoch_loss=0, epoch=159]\n",
      "100%|██████████| 7/7 [00:00<00:00, 16.04it/s, avg_epoch_loss=0, epoch=160]\n",
      "100%|██████████| 7/7 [00:00<00:00, 16.36it/s, avg_epoch_loss=0, epoch=161]\n",
      "100%|██████████| 7/7 [00:00<00:00, 17.07it/s, avg_epoch_loss=0, epoch=162]\n",
      "100%|██████████| 7/7 [00:00<00:00, 15.61it/s, avg_epoch_loss=0, epoch=163]\n",
      "100%|██████████| 7/7 [00:00<00:00, 15.44it/s, avg_epoch_loss=0, epoch=164]\n",
      "100%|██████████| 7/7 [00:00<00:00, 15.68it/s, avg_epoch_loss=0, epoch=165]\n",
      "100%|██████████| 7/7 [00:00<00:00, 16.61it/s, avg_epoch_loss=0, epoch=166]\n",
      "100%|██████████| 7/7 [00:00<00:00, 15.57it/s, avg_epoch_loss=0, epoch=167]\n",
      "100%|██████████| 7/7 [00:00<00:00, 16.09it/s, avg_epoch_loss=0, epoch=168]\n",
      "100%|██████████| 7/7 [00:00<00:00, 16.20it/s, avg_epoch_loss=0, epoch=169]\n",
      "100%|██████████| 7/7 [00:00<00:00, 15.80it/s, avg_epoch_loss=0, epoch=170]\n",
      "100%|██████████| 7/7 [00:00<00:00, 12.61it/s, avg_epoch_loss=0, epoch=171]\n",
      "100%|██████████| 7/7 [00:00<00:00, 11.00it/s, avg_epoch_loss=0, epoch=172]\n",
      "100%|██████████| 7/7 [00:00<00:00, 11.63it/s, avg_epoch_loss=0, epoch=173]\n",
      "100%|██████████| 7/7 [00:00<00:00, 13.06it/s, avg_epoch_loss=0, epoch=174]\n",
      "100%|██████████| 7/7 [00:00<00:00,  8.66it/s, avg_epoch_loss=0, epoch=175]\n",
      "100%|██████████| 7/7 [00:00<00:00, 11.74it/s, avg_epoch_loss=0, epoch=176]\n",
      "100%|██████████| 7/7 [00:00<00:00, 15.97it/s, avg_epoch_loss=0, epoch=177]\n",
      "100%|██████████| 7/7 [00:00<00:00, 14.74it/s, avg_epoch_loss=0, epoch=178]\n",
      "100%|██████████| 7/7 [00:00<00:00, 16.17it/s, avg_epoch_loss=0, epoch=179]\n",
      "100%|██████████| 7/7 [00:00<00:00, 17.24it/s, avg_epoch_loss=0, epoch=180]\n",
      "100%|██████████| 7/7 [00:00<00:00, 17.55it/s, avg_epoch_loss=0, epoch=181]\n",
      "100%|██████████| 7/7 [00:00<00:00, 17.85it/s, avg_epoch_loss=0, epoch=182]\n",
      "100%|██████████| 7/7 [00:00<00:00, 17.91it/s, avg_epoch_loss=0, epoch=183]\n",
      "100%|██████████| 7/7 [00:00<00:00, 15.58it/s, avg_epoch_loss=0, epoch=184]\n",
      "100%|██████████| 7/7 [00:00<00:00, 16.02it/s, avg_epoch_loss=0, epoch=185]\n",
      "100%|██████████| 7/7 [00:00<00:00, 15.79it/s, avg_epoch_loss=0, epoch=186]\n",
      "100%|██████████| 7/7 [00:00<00:00, 16.80it/s, avg_epoch_loss=0, epoch=187]\n",
      "100%|██████████| 7/7 [00:00<00:00, 16.62it/s, avg_epoch_loss=0, epoch=188]\n",
      "100%|██████████| 7/7 [00:00<00:00, 18.27it/s, avg_epoch_loss=0, epoch=189]\n",
      "100%|██████████| 7/7 [00:00<00:00, 16.88it/s, avg_epoch_loss=0, epoch=190]\n",
      "100%|██████████| 7/7 [00:00<00:00, 18.99it/s, avg_epoch_loss=0, epoch=191]\n",
      "100%|██████████| 7/7 [00:00<00:00, 18.47it/s, avg_epoch_loss=0, epoch=192]\n",
      "100%|██████████| 7/7 [00:00<00:00, 18.17it/s, avg_epoch_loss=0, epoch=193]\n",
      "100%|██████████| 7/7 [00:00<00:00, 18.33it/s, avg_epoch_loss=0, epoch=194]\n",
      "100%|██████████| 7/7 [00:00<00:00, 17.03it/s, avg_epoch_loss=0, epoch=195]\n",
      "100%|██████████| 7/7 [00:00<00:00, 15.42it/s, avg_epoch_loss=0, epoch=196]\n",
      "100%|██████████| 7/7 [00:00<00:00, 13.48it/s, avg_epoch_loss=0, epoch=197]\n",
      "100%|██████████| 7/7 [00:00<00:00, 15.07it/s, avg_epoch_loss=0, epoch=198]\n",
      "100%|██████████| 7/7 [00:00<00:00, 16.86it/s, avg_epoch_loss=0, epoch=199]\n"
     ]
    },
    {
     "name": "stdout",
     "output_type": "stream",
     "text": [
      "Start validation!!!\n",
      "Epoch: 199\n"
     ]
    },
    {
     "name": "stderr",
     "output_type": "stream",
     "text": [
      "100%|██████████| 2/2 [01:16<00:00, 38.11s/it]\n"
     ]
    },
    {
     "name": "stdout",
     "output_type": "stream",
     "text": [
      "====================================\n",
      "##### End evaluation!!\n",
      "PEHE VAL = 8.64e+03\n"
     ]
    },
    {
     "name": "stderr",
     "output_type": "stream",
     "text": [
      "100%|██████████| 7/7 [00:00<00:00, 17.22it/s, avg_epoch_loss=0, epoch=200]\n",
      "100%|██████████| 7/7 [00:00<00:00, 18.40it/s, avg_epoch_loss=0, epoch=201]\n",
      "100%|██████████| 7/7 [00:00<00:00, 20.21it/s, avg_epoch_loss=0, epoch=202]\n",
      "100%|██████████| 7/7 [00:00<00:00, 19.40it/s, avg_epoch_loss=0, epoch=203]\n",
      "100%|██████████| 7/7 [00:00<00:00, 18.81it/s, avg_epoch_loss=0, epoch=204]\n",
      "100%|██████████| 7/7 [00:00<00:00, 18.72it/s, avg_epoch_loss=0, epoch=205]\n",
      "100%|██████████| 7/7 [00:00<00:00, 18.24it/s, avg_epoch_loss=0, epoch=206]\n",
      "100%|██████████| 7/7 [00:00<00:00, 14.31it/s, avg_epoch_loss=0, epoch=207]\n",
      "100%|██████████| 7/7 [00:00<00:00, 16.08it/s, avg_epoch_loss=0, epoch=208]\n",
      "100%|██████████| 7/7 [00:00<00:00, 16.08it/s, avg_epoch_loss=0, epoch=209]\n",
      "100%|██████████| 7/7 [00:00<00:00, 15.65it/s, avg_epoch_loss=0, epoch=210]\n",
      "100%|██████████| 7/7 [00:00<00:00, 14.40it/s, avg_epoch_loss=0, epoch=211]\n",
      "100%|██████████| 7/7 [00:00<00:00, 13.11it/s, avg_epoch_loss=0, epoch=212]\n",
      "100%|██████████| 7/7 [00:00<00:00, 16.88it/s, avg_epoch_loss=0, epoch=213]\n",
      "100%|██████████| 7/7 [00:00<00:00, 17.08it/s, avg_epoch_loss=0, epoch=214]\n",
      "100%|██████████| 7/7 [00:00<00:00, 16.46it/s, avg_epoch_loss=0, epoch=215]\n",
      "100%|██████████| 7/7 [00:00<00:00, 16.93it/s, avg_epoch_loss=0, epoch=216]\n",
      "100%|██████████| 7/7 [00:00<00:00, 13.50it/s, avg_epoch_loss=0, epoch=217]\n",
      "100%|██████████| 7/7 [00:00<00:00, 13.50it/s, avg_epoch_loss=0, epoch=218]\n",
      "100%|██████████| 7/7 [00:00<00:00, 12.97it/s, avg_epoch_loss=0, epoch=219]\n",
      "100%|██████████| 7/7 [00:00<00:00, 13.39it/s, avg_epoch_loss=0, epoch=220]\n",
      "100%|██████████| 7/7 [00:00<00:00, 16.17it/s, avg_epoch_loss=0, epoch=221]\n",
      "100%|██████████| 7/7 [00:00<00:00, 16.51it/s, avg_epoch_loss=0, epoch=222]\n",
      "100%|██████████| 7/7 [00:00<00:00, 15.53it/s, avg_epoch_loss=0, epoch=223]\n",
      "100%|██████████| 7/7 [00:00<00:00, 15.55it/s, avg_epoch_loss=0, epoch=224]\n",
      "100%|██████████| 7/7 [00:00<00:00, 15.38it/s, avg_epoch_loss=0, epoch=225]\n",
      "100%|██████████| 7/7 [00:00<00:00, 16.44it/s, avg_epoch_loss=0, epoch=226]\n",
      "100%|██████████| 7/7 [00:00<00:00, 16.43it/s, avg_epoch_loss=0, epoch=227]\n",
      "100%|██████████| 7/7 [00:00<00:00, 18.06it/s, avg_epoch_loss=0, epoch=228]\n",
      "100%|██████████| 7/7 [00:00<00:00, 17.39it/s, avg_epoch_loss=0, epoch=229]\n",
      "100%|██████████| 7/7 [00:00<00:00, 15.52it/s, avg_epoch_loss=0, epoch=230]\n",
      "100%|██████████| 7/7 [00:00<00:00, 15.44it/s, avg_epoch_loss=0, epoch=231]\n",
      "100%|██████████| 7/7 [00:00<00:00, 15.50it/s, avg_epoch_loss=0, epoch=232]\n",
      "100%|██████████| 7/7 [00:00<00:00, 15.09it/s, avg_epoch_loss=0, epoch=233]\n",
      "100%|██████████| 7/7 [00:00<00:00, 18.72it/s, avg_epoch_loss=0, epoch=234]\n",
      "100%|██████████| 7/7 [00:00<00:00, 15.48it/s, avg_epoch_loss=0, epoch=235]\n",
      "100%|██████████| 7/7 [00:00<00:00, 13.75it/s, avg_epoch_loss=0, epoch=236]\n",
      "100%|██████████| 7/7 [00:00<00:00, 15.55it/s, avg_epoch_loss=0, epoch=237]\n",
      "100%|██████████| 7/7 [00:00<00:00, 16.36it/s, avg_epoch_loss=0, epoch=238]\n",
      "100%|██████████| 7/7 [00:00<00:00, 16.37it/s, avg_epoch_loss=0, epoch=239]\n",
      "100%|██████████| 7/7 [00:00<00:00, 15.92it/s, avg_epoch_loss=0, epoch=240]\n",
      "100%|██████████| 7/7 [00:00<00:00, 16.26it/s, avg_epoch_loss=0, epoch=241]\n",
      "100%|██████████| 7/7 [00:00<00:00, 15.88it/s, avg_epoch_loss=0, epoch=242]\n",
      "100%|██████████| 7/7 [00:00<00:00, 16.39it/s, avg_epoch_loss=0, epoch=243]\n",
      "100%|██████████| 7/7 [00:00<00:00, 16.60it/s, avg_epoch_loss=0, epoch=244]\n",
      "100%|██████████| 7/7 [00:00<00:00, 15.17it/s, avg_epoch_loss=0, epoch=245]\n",
      "100%|██████████| 7/7 [00:00<00:00, 15.28it/s, avg_epoch_loss=0, epoch=246]\n",
      "100%|██████████| 7/7 [00:00<00:00, 16.88it/s, avg_epoch_loss=0, epoch=247]\n",
      "100%|██████████| 7/7 [00:00<00:00, 15.66it/s, avg_epoch_loss=0, epoch=248]\n",
      "100%|██████████| 7/7 [00:00<00:00, 14.60it/s, avg_epoch_loss=0, epoch=249]\n"
     ]
    },
    {
     "name": "stdout",
     "output_type": "stream",
     "text": [
      "Start validation!!!\n",
      "Epoch: 249\n"
     ]
    },
    {
     "name": "stderr",
     "output_type": "stream",
     "text": [
      "100%|██████████| 2/2 [01:22<00:00, 41.31s/it]\n"
     ]
    },
    {
     "name": "stdout",
     "output_type": "stream",
     "text": [
      "====================================\n",
      "##### End evaluation!!\n",
      "PEHE VAL = 8.31e+03\n"
     ]
    },
    {
     "name": "stderr",
     "output_type": "stream",
     "text": [
      "100%|██████████| 7/7 [00:00<00:00, 14.65it/s, avg_epoch_loss=0, epoch=250]\n",
      "100%|██████████| 7/7 [00:00<00:00, 15.62it/s, avg_epoch_loss=0, epoch=251]\n",
      "100%|██████████| 7/7 [00:00<00:00, 15.11it/s, avg_epoch_loss=0, epoch=252]\n",
      "100%|██████████| 7/7 [00:00<00:00, 13.71it/s, avg_epoch_loss=0, epoch=253]\n",
      "100%|██████████| 7/7 [00:00<00:00, 11.88it/s, avg_epoch_loss=0, epoch=254]\n",
      "100%|██████████| 7/7 [00:00<00:00, 15.36it/s, avg_epoch_loss=0, epoch=255]\n",
      "100%|██████████| 7/7 [00:00<00:00, 14.38it/s, avg_epoch_loss=0, epoch=256]\n",
      "100%|██████████| 7/7 [00:00<00:00, 14.59it/s, avg_epoch_loss=0, epoch=257]\n",
      "100%|██████████| 7/7 [00:00<00:00, 16.27it/s, avg_epoch_loss=0, epoch=258]\n",
      "100%|██████████| 7/7 [00:00<00:00, 15.60it/s, avg_epoch_loss=0, epoch=259]\n",
      "100%|██████████| 7/7 [00:00<00:00, 13.45it/s, avg_epoch_loss=0, epoch=260]\n",
      "100%|██████████| 7/7 [00:00<00:00, 10.87it/s, avg_epoch_loss=0, epoch=261]\n",
      "100%|██████████| 7/7 [00:00<00:00, 16.06it/s, avg_epoch_loss=0, epoch=262]\n",
      "100%|██████████| 7/7 [00:00<00:00, 14.32it/s, avg_epoch_loss=0, epoch=263]\n",
      "100%|██████████| 7/7 [00:00<00:00, 16.15it/s, avg_epoch_loss=0, epoch=264]\n",
      "100%|██████████| 7/7 [00:00<00:00, 15.49it/s, avg_epoch_loss=0, epoch=265]\n",
      "100%|██████████| 7/7 [00:00<00:00, 15.47it/s, avg_epoch_loss=0, epoch=266]\n",
      "100%|██████████| 7/7 [00:00<00:00, 16.34it/s, avg_epoch_loss=0, epoch=267]\n",
      "100%|██████████| 7/7 [00:00<00:00, 13.37it/s, avg_epoch_loss=0, epoch=268]\n",
      "100%|██████████| 7/7 [00:00<00:00, 14.60it/s, avg_epoch_loss=0, epoch=269]\n",
      "100%|██████████| 7/7 [00:00<00:00, 15.55it/s, avg_epoch_loss=0, epoch=270]\n",
      "100%|██████████| 7/7 [00:00<00:00, 14.17it/s, avg_epoch_loss=0, epoch=271]\n",
      "100%|██████████| 7/7 [00:00<00:00, 15.27it/s, avg_epoch_loss=0, epoch=272]\n",
      "100%|██████████| 7/7 [00:00<00:00, 15.45it/s, avg_epoch_loss=0, epoch=273]\n",
      "100%|██████████| 7/7 [00:00<00:00, 14.26it/s, avg_epoch_loss=0, epoch=274]\n",
      "100%|██████████| 7/7 [00:00<00:00, 13.90it/s, avg_epoch_loss=0, epoch=275]\n",
      "100%|██████████| 7/7 [00:00<00:00, 13.45it/s, avg_epoch_loss=0, epoch=276]\n",
      "100%|██████████| 7/7 [00:00<00:00, 12.96it/s, avg_epoch_loss=0, epoch=277]\n",
      "100%|██████████| 7/7 [00:00<00:00, 18.39it/s, avg_epoch_loss=0, epoch=278]\n",
      "100%|██████████| 7/7 [00:00<00:00, 17.28it/s, avg_epoch_loss=0, epoch=279]\n",
      "100%|██████████| 7/7 [00:00<00:00, 16.76it/s, avg_epoch_loss=0, epoch=280]\n",
      "100%|██████████| 7/7 [00:00<00:00, 17.06it/s, avg_epoch_loss=0, epoch=281]\n",
      "100%|██████████| 7/7 [00:00<00:00, 17.06it/s, avg_epoch_loss=0, epoch=282]\n",
      "100%|██████████| 7/7 [00:00<00:00, 16.79it/s, avg_epoch_loss=0, epoch=283]\n",
      "100%|██████████| 7/7 [00:00<00:00, 16.07it/s, avg_epoch_loss=0, epoch=284]\n",
      "100%|██████████| 7/7 [00:00<00:00, 17.00it/s, avg_epoch_loss=0, epoch=285]\n",
      "100%|██████████| 7/7 [00:00<00:00, 14.08it/s, avg_epoch_loss=0, epoch=286]\n",
      "100%|██████████| 7/7 [00:00<00:00, 14.99it/s, avg_epoch_loss=0, epoch=287]\n",
      "100%|██████████| 7/7 [00:00<00:00, 15.57it/s, avg_epoch_loss=0, epoch=288]\n",
      "100%|██████████| 7/7 [00:00<00:00, 16.20it/s, avg_epoch_loss=0, epoch=289]\n",
      "100%|██████████| 7/7 [00:00<00:00, 13.60it/s, avg_epoch_loss=0, epoch=290]\n",
      "100%|██████████| 7/7 [00:00<00:00, 16.89it/s, avg_epoch_loss=0, epoch=291]\n",
      "100%|██████████| 7/7 [00:00<00:00, 10.25it/s, avg_epoch_loss=0, epoch=292]\n",
      "100%|██████████| 7/7 [00:00<00:00, 15.61it/s, avg_epoch_loss=0, epoch=293]\n",
      "100%|██████████| 7/7 [00:00<00:00, 15.31it/s, avg_epoch_loss=0, epoch=294]\n",
      "100%|██████████| 7/7 [00:00<00:00, 16.34it/s, avg_epoch_loss=0, epoch=295]\n",
      "100%|██████████| 7/7 [00:00<00:00, 17.06it/s, avg_epoch_loss=0, epoch=296]\n",
      "100%|██████████| 7/7 [00:00<00:00, 16.76it/s, avg_epoch_loss=0, epoch=297]\n",
      "100%|██████████| 7/7 [00:00<00:00, 17.16it/s, avg_epoch_loss=0, epoch=298]\n",
      "100%|██████████| 7/7 [00:00<00:00, 16.69it/s, avg_epoch_loss=0, epoch=299]\n"
     ]
    },
    {
     "name": "stdout",
     "output_type": "stream",
     "text": [
      "Start validation!!!\n",
      "Epoch: 299\n"
     ]
    },
    {
     "name": "stderr",
     "output_type": "stream",
     "text": [
      "100%|██████████| 2/2 [01:13<00:00, 36.72s/it]\n"
     ]
    },
    {
     "name": "stdout",
     "output_type": "stream",
     "text": [
      "====================================\n",
      "##### End evaluation!!\n",
      "PEHE VAL = 8.37e+03\n"
     ]
    },
    {
     "name": "stderr",
     "output_type": "stream",
     "text": [
      "100%|██████████| 7/7 [00:00<00:00, 15.93it/s, avg_epoch_loss=0, epoch=300]\n",
      "100%|██████████| 7/7 [00:00<00:00, 16.57it/s, avg_epoch_loss=0, epoch=301]\n",
      "100%|██████████| 7/7 [00:00<00:00, 16.35it/s, avg_epoch_loss=0, epoch=302]\n",
      "100%|██████████| 7/7 [00:00<00:00, 18.97it/s, avg_epoch_loss=0, epoch=303]\n",
      "100%|██████████| 7/7 [00:00<00:00, 17.54it/s, avg_epoch_loss=0, epoch=304]\n",
      "100%|██████████| 7/7 [00:00<00:00, 16.22it/s, avg_epoch_loss=0, epoch=305]\n",
      "100%|██████████| 7/7 [00:00<00:00, 17.39it/s, avg_epoch_loss=0, epoch=306]\n",
      "100%|██████████| 7/7 [00:00<00:00, 17.79it/s, avg_epoch_loss=0, epoch=307]\n",
      "100%|██████████| 7/7 [00:00<00:00, 17.52it/s, avg_epoch_loss=0, epoch=308]\n",
      "100%|██████████| 7/7 [00:00<00:00, 17.39it/s, avg_epoch_loss=0, epoch=309]\n",
      "100%|██████████| 7/7 [00:00<00:00, 16.85it/s, avg_epoch_loss=0, epoch=310]\n",
      "100%|██████████| 7/7 [00:00<00:00, 16.06it/s, avg_epoch_loss=0, epoch=311]\n",
      "100%|██████████| 7/7 [00:00<00:00, 15.13it/s, avg_epoch_loss=0, epoch=312]\n",
      "100%|██████████| 7/7 [00:00<00:00, 15.57it/s, avg_epoch_loss=0, epoch=313]\n",
      "100%|██████████| 7/7 [00:00<00:00, 17.22it/s, avg_epoch_loss=0, epoch=314]\n",
      "100%|██████████| 7/7 [00:00<00:00, 18.63it/s, avg_epoch_loss=0, epoch=315]\n",
      "100%|██████████| 7/7 [00:00<00:00, 16.08it/s, avg_epoch_loss=0, epoch=316]\n",
      "100%|██████████| 7/7 [00:00<00:00, 11.01it/s, avg_epoch_loss=0, epoch=317]\n",
      "100%|██████████| 7/7 [00:00<00:00, 15.46it/s, avg_epoch_loss=0, epoch=318]\n",
      "100%|██████████| 7/7 [00:00<00:00, 14.62it/s, avg_epoch_loss=0, epoch=319]\n",
      "100%|██████████| 7/7 [00:00<00:00, 14.84it/s, avg_epoch_loss=0, epoch=320]\n",
      "100%|██████████| 7/7 [00:00<00:00, 14.51it/s, avg_epoch_loss=0, epoch=321]\n",
      "100%|██████████| 7/7 [00:00<00:00, 15.41it/s, avg_epoch_loss=0, epoch=322]\n",
      "100%|██████████| 7/7 [00:00<00:00, 14.32it/s, avg_epoch_loss=0, epoch=323]\n",
      "100%|██████████| 7/7 [00:00<00:00, 13.19it/s, avg_epoch_loss=0, epoch=324]\n",
      "100%|██████████| 7/7 [00:00<00:00, 16.08it/s, avg_epoch_loss=0, epoch=325]\n",
      "100%|██████████| 7/7 [00:00<00:00, 18.05it/s, avg_epoch_loss=0, epoch=326]\n",
      "100%|██████████| 7/7 [00:00<00:00, 18.17it/s, avg_epoch_loss=0, epoch=327]\n",
      "100%|██████████| 7/7 [00:00<00:00, 14.99it/s, avg_epoch_loss=0, epoch=328]\n",
      "100%|██████████| 7/7 [00:00<00:00, 14.73it/s, avg_epoch_loss=0, epoch=329]\n",
      "100%|██████████| 7/7 [00:00<00:00, 13.68it/s, avg_epoch_loss=0, epoch=330]\n",
      "100%|██████████| 7/7 [00:00<00:00, 16.43it/s, avg_epoch_loss=0, epoch=331]\n",
      "100%|██████████| 7/7 [00:00<00:00, 16.31it/s, avg_epoch_loss=0, epoch=332]\n",
      "100%|██████████| 7/7 [00:00<00:00, 16.68it/s, avg_epoch_loss=0, epoch=333]\n",
      "100%|██████████| 7/7 [00:00<00:00, 16.52it/s, avg_epoch_loss=0, epoch=334]\n",
      "100%|██████████| 7/7 [00:00<00:00, 15.49it/s, avg_epoch_loss=0, epoch=335]\n",
      "100%|██████████| 7/7 [00:00<00:00, 19.39it/s, avg_epoch_loss=0, epoch=336]\n",
      "100%|██████████| 7/7 [00:00<00:00, 19.55it/s, avg_epoch_loss=0, epoch=337]\n",
      "100%|██████████| 7/7 [00:00<00:00, 19.94it/s, avg_epoch_loss=0, epoch=338]\n",
      "100%|██████████| 7/7 [00:00<00:00, 19.66it/s, avg_epoch_loss=0, epoch=339]\n",
      "100%|██████████| 7/7 [00:00<00:00, 17.70it/s, avg_epoch_loss=0, epoch=340]\n",
      "100%|██████████| 7/7 [00:00<00:00, 18.80it/s, avg_epoch_loss=0, epoch=341]\n",
      "100%|██████████| 7/7 [00:00<00:00, 18.87it/s, avg_epoch_loss=0, epoch=342]\n",
      "100%|██████████| 7/7 [00:00<00:00, 18.67it/s, avg_epoch_loss=0, epoch=343]\n",
      "100%|██████████| 7/7 [00:00<00:00, 19.04it/s, avg_epoch_loss=0, epoch=344]\n",
      "100%|██████████| 7/7 [00:00<00:00, 19.56it/s, avg_epoch_loss=0, epoch=345]\n",
      "100%|██████████| 7/7 [00:00<00:00, 15.95it/s, avg_epoch_loss=0, epoch=346]\n",
      "100%|██████████| 7/7 [00:00<00:00, 15.37it/s, avg_epoch_loss=0, epoch=347]\n",
      "100%|██████████| 7/7 [00:00<00:00, 15.47it/s, avg_epoch_loss=0, epoch=348]\n",
      "100%|██████████| 7/7 [00:00<00:00, 14.41it/s, avg_epoch_loss=0, epoch=349]\n"
     ]
    },
    {
     "name": "stdout",
     "output_type": "stream",
     "text": [
      "Start validation!!!\n",
      "Epoch: 349\n"
     ]
    },
    {
     "name": "stderr",
     "output_type": "stream",
     "text": [
      "100%|██████████| 2/2 [01:15<00:00, 37.67s/it]\n"
     ]
    },
    {
     "name": "stdout",
     "output_type": "stream",
     "text": [
      "====================================\n",
      "##### End evaluation!!\n",
      "PEHE VAL = 8.91e+03\n"
     ]
    },
    {
     "name": "stderr",
     "output_type": "stream",
     "text": [
      "100%|██████████| 7/7 [00:00<00:00, 16.50it/s, avg_epoch_loss=0, epoch=350]\n",
      "100%|██████████| 7/7 [00:00<00:00, 16.71it/s, avg_epoch_loss=0, epoch=351]\n",
      "100%|██████████| 7/7 [00:00<00:00, 15.88it/s, avg_epoch_loss=0, epoch=352]\n",
      "100%|██████████| 7/7 [00:00<00:00, 16.35it/s, avg_epoch_loss=0, epoch=353]\n",
      "100%|██████████| 7/7 [00:00<00:00, 16.89it/s, avg_epoch_loss=0, epoch=354]\n",
      "100%|██████████| 7/7 [00:00<00:00, 16.63it/s, avg_epoch_loss=0, epoch=355]\n",
      "100%|██████████| 7/7 [00:00<00:00, 14.47it/s, avg_epoch_loss=0, epoch=356]\n",
      "100%|██████████| 7/7 [00:00<00:00, 15.18it/s, avg_epoch_loss=0, epoch=357]\n",
      "100%|██████████| 7/7 [00:00<00:00, 15.42it/s, avg_epoch_loss=0, epoch=358]\n",
      "100%|██████████| 7/7 [00:00<00:00, 15.68it/s, avg_epoch_loss=0, epoch=359]\n",
      "100%|██████████| 7/7 [00:00<00:00, 14.66it/s, avg_epoch_loss=0, epoch=360]\n",
      "100%|██████████| 7/7 [00:00<00:00, 17.07it/s, avg_epoch_loss=0, epoch=361]\n",
      "100%|██████████| 7/7 [00:00<00:00, 16.72it/s, avg_epoch_loss=0, epoch=362]\n",
      "100%|██████████| 7/7 [00:00<00:00, 16.77it/s, avg_epoch_loss=0, epoch=363]\n",
      "100%|██████████| 7/7 [00:00<00:00, 13.40it/s, avg_epoch_loss=0, epoch=364]\n",
      "100%|██████████| 7/7 [00:00<00:00, 15.88it/s, avg_epoch_loss=0, epoch=365]\n",
      "100%|██████████| 7/7 [00:00<00:00, 16.44it/s, avg_epoch_loss=0, epoch=366]\n",
      "100%|██████████| 7/7 [00:00<00:00, 15.92it/s, avg_epoch_loss=0, epoch=367]\n",
      "100%|██████████| 7/7 [00:00<00:00, 15.41it/s, avg_epoch_loss=0, epoch=368]\n",
      "100%|██████████| 7/7 [00:00<00:00, 14.55it/s, avg_epoch_loss=0, epoch=369]\n",
      "100%|██████████| 7/7 [00:00<00:00, 15.70it/s, avg_epoch_loss=0, epoch=370]\n",
      "100%|██████████| 7/7 [00:00<00:00, 14.81it/s, avg_epoch_loss=0, epoch=371]\n",
      "100%|██████████| 7/7 [00:00<00:00, 16.71it/s, avg_epoch_loss=0, epoch=372]\n",
      "100%|██████████| 7/7 [00:00<00:00, 17.36it/s, avg_epoch_loss=0, epoch=373]\n",
      "100%|██████████| 7/7 [00:00<00:00, 16.11it/s, avg_epoch_loss=0, epoch=374]\n",
      "100%|██████████| 7/7 [00:00<00:00, 15.32it/s, avg_epoch_loss=0, epoch=375]\n",
      "100%|██████████| 7/7 [00:00<00:00, 15.63it/s, avg_epoch_loss=0, epoch=376]\n",
      "100%|██████████| 7/7 [00:00<00:00, 16.76it/s, avg_epoch_loss=0, epoch=377]\n",
      "100%|██████████| 7/7 [00:00<00:00, 17.20it/s, avg_epoch_loss=0, epoch=378]\n",
      "100%|██████████| 7/7 [00:00<00:00, 13.45it/s, avg_epoch_loss=0, epoch=379]\n",
      "100%|██████████| 7/7 [00:00<00:00, 16.17it/s, avg_epoch_loss=0, epoch=380]\n",
      "100%|██████████| 7/7 [00:00<00:00, 16.58it/s, avg_epoch_loss=0, epoch=381]\n",
      "100%|██████████| 7/7 [00:00<00:00, 16.80it/s, avg_epoch_loss=0, epoch=382]\n",
      "100%|██████████| 7/7 [00:00<00:00, 17.01it/s, avg_epoch_loss=0, epoch=383]\n",
      "100%|██████████| 7/7 [00:00<00:00, 13.74it/s, avg_epoch_loss=0, epoch=384]\n",
      "100%|██████████| 7/7 [00:00<00:00, 17.29it/s, avg_epoch_loss=0, epoch=385]\n",
      "100%|██████████| 7/7 [00:00<00:00, 17.55it/s, avg_epoch_loss=0, epoch=386]\n",
      "100%|██████████| 7/7 [00:00<00:00, 15.58it/s, avg_epoch_loss=0, epoch=387]\n",
      "100%|██████████| 7/7 [00:00<00:00, 16.90it/s, avg_epoch_loss=0, epoch=388]\n",
      "100%|██████████| 7/7 [00:00<00:00, 15.94it/s, avg_epoch_loss=0, epoch=389]\n",
      "100%|██████████| 7/7 [00:00<00:00, 18.24it/s, avg_epoch_loss=0, epoch=390]\n",
      "100%|██████████| 7/7 [00:00<00:00, 18.44it/s, avg_epoch_loss=0, epoch=391]\n",
      "100%|██████████| 7/7 [00:00<00:00, 17.94it/s, avg_epoch_loss=0, epoch=392]\n",
      "100%|██████████| 7/7 [00:00<00:00, 16.57it/s, avg_epoch_loss=0, epoch=393]\n",
      "100%|██████████| 7/7 [00:00<00:00, 15.30it/s, avg_epoch_loss=0, epoch=394]\n",
      "100%|██████████| 7/7 [00:00<00:00, 15.49it/s, avg_epoch_loss=0, epoch=395]\n",
      "100%|██████████| 7/7 [00:00<00:00, 14.99it/s, avg_epoch_loss=0, epoch=396]\n",
      "100%|██████████| 7/7 [00:00<00:00, 17.05it/s, avg_epoch_loss=0, epoch=397]\n",
      "100%|██████████| 7/7 [00:00<00:00, 16.39it/s, avg_epoch_loss=0, epoch=398]\n",
      "100%|██████████| 7/7 [00:00<00:00, 15.25it/s, avg_epoch_loss=0, epoch=399]\n"
     ]
    },
    {
     "name": "stdout",
     "output_type": "stream",
     "text": [
      "Start validation!!!\n",
      "Epoch: 399\n"
     ]
    },
    {
     "name": "stderr",
     "output_type": "stream",
     "text": [
      "100%|██████████| 2/2 [01:15<00:00, 37.97s/it]\n"
     ]
    },
    {
     "name": "stdout",
     "output_type": "stream",
     "text": [
      "====================================\n",
      "##### End evaluation!!\n",
      "PEHE VAL = 8.9e+03\n"
     ]
    },
    {
     "name": "stderr",
     "output_type": "stream",
     "text": [
      "100%|██████████| 7/7 [00:00<00:00, 16.09it/s, avg_epoch_loss=0, epoch=400]\n",
      "100%|██████████| 7/7 [00:00<00:00, 15.24it/s, avg_epoch_loss=0, epoch=401]\n",
      "100%|██████████| 7/7 [00:00<00:00, 17.77it/s, avg_epoch_loss=0, epoch=402]\n",
      "100%|██████████| 7/7 [00:00<00:00, 17.84it/s, avg_epoch_loss=0, epoch=403]\n",
      "100%|██████████| 7/7 [00:00<00:00, 18.02it/s, avg_epoch_loss=0, epoch=404]\n",
      "100%|██████████| 7/7 [00:00<00:00, 17.18it/s, avg_epoch_loss=0, epoch=405]\n",
      "100%|██████████| 7/7 [00:00<00:00, 15.61it/s, avg_epoch_loss=0, epoch=406]\n",
      "100%|██████████| 7/7 [00:00<00:00, 15.48it/s, avg_epoch_loss=0, epoch=407]\n",
      "100%|██████████| 7/7 [00:00<00:00, 13.93it/s, avg_epoch_loss=0, epoch=408]\n",
      "100%|██████████| 7/7 [00:00<00:00, 14.94it/s, avg_epoch_loss=0, epoch=409]\n",
      "100%|██████████| 7/7 [00:00<00:00, 17.26it/s, avg_epoch_loss=0, epoch=410]\n",
      "100%|██████████| 7/7 [00:00<00:00, 16.84it/s, avg_epoch_loss=0, epoch=411]\n",
      "100%|██████████| 7/7 [00:00<00:00, 16.69it/s, avg_epoch_loss=0, epoch=412]\n",
      "100%|██████████| 7/7 [00:00<00:00, 17.86it/s, avg_epoch_loss=0, epoch=413]\n",
      "100%|██████████| 7/7 [00:00<00:00, 19.79it/s, avg_epoch_loss=0, epoch=414]\n",
      "100%|██████████| 7/7 [00:00<00:00, 19.89it/s, avg_epoch_loss=0, epoch=415]\n",
      "100%|██████████| 7/7 [00:00<00:00, 19.84it/s, avg_epoch_loss=0, epoch=416]\n",
      "100%|██████████| 7/7 [00:00<00:00, 18.78it/s, avg_epoch_loss=0, epoch=417]\n",
      "100%|██████████| 7/7 [00:00<00:00, 18.57it/s, avg_epoch_loss=0, epoch=418]\n",
      "100%|██████████| 7/7 [00:00<00:00, 18.73it/s, avg_epoch_loss=0, epoch=419]\n",
      "100%|██████████| 7/7 [00:00<00:00, 18.87it/s, avg_epoch_loss=0, epoch=420]\n",
      "100%|██████████| 7/7 [00:00<00:00, 18.46it/s, avg_epoch_loss=0, epoch=421]\n",
      "100%|██████████| 7/7 [00:00<00:00, 18.81it/s, avg_epoch_loss=0, epoch=422]\n",
      "100%|██████████| 7/7 [00:00<00:00, 18.34it/s, avg_epoch_loss=0, epoch=423]\n",
      "100%|██████████| 7/7 [00:00<00:00, 15.78it/s, avg_epoch_loss=0, epoch=424]\n",
      "100%|██████████| 7/7 [00:00<00:00, 15.34it/s, avg_epoch_loss=0, epoch=425]\n",
      "100%|██████████| 7/7 [00:00<00:00, 15.59it/s, avg_epoch_loss=0, epoch=426]\n",
      "100%|██████████| 7/7 [00:00<00:00, 16.90it/s, avg_epoch_loss=0, epoch=427]\n",
      "100%|██████████| 7/7 [00:00<00:00, 16.94it/s, avg_epoch_loss=0, epoch=428]\n",
      "100%|██████████| 7/7 [00:00<00:00, 16.93it/s, avg_epoch_loss=0, epoch=429]\n",
      "100%|██████████| 7/7 [00:00<00:00, 15.20it/s, avg_epoch_loss=0, epoch=430]\n",
      "100%|██████████| 7/7 [00:00<00:00, 18.63it/s, avg_epoch_loss=0, epoch=431]\n",
      "100%|██████████| 7/7 [00:00<00:00, 20.04it/s, avg_epoch_loss=0, epoch=432]\n",
      "100%|██████████| 7/7 [00:00<00:00, 17.56it/s, avg_epoch_loss=0, epoch=433]\n",
      "100%|██████████| 7/7 [00:00<00:00, 16.98it/s, avg_epoch_loss=0, epoch=434]\n",
      "100%|██████████| 7/7 [00:00<00:00, 15.38it/s, avg_epoch_loss=0, epoch=435]\n",
      "100%|██████████| 7/7 [00:00<00:00, 15.02it/s, avg_epoch_loss=0, epoch=436]\n",
      "100%|██████████| 7/7 [00:00<00:00, 16.13it/s, avg_epoch_loss=0, epoch=437]\n",
      "100%|██████████| 7/7 [00:00<00:00, 17.04it/s, avg_epoch_loss=0, epoch=438]\n",
      "100%|██████████| 7/7 [00:00<00:00, 17.30it/s, avg_epoch_loss=0, epoch=439]\n",
      "100%|██████████| 7/7 [00:00<00:00, 15.71it/s, avg_epoch_loss=0, epoch=440]\n",
      "100%|██████████| 7/7 [00:00<00:00, 16.41it/s, avg_epoch_loss=0, epoch=441]\n",
      "100%|██████████| 7/7 [00:00<00:00, 16.16it/s, avg_epoch_loss=0, epoch=442]\n",
      "100%|██████████| 7/7 [00:00<00:00, 14.59it/s, avg_epoch_loss=0, epoch=443]\n",
      "100%|██████████| 7/7 [00:00<00:00, 14.50it/s, avg_epoch_loss=0, epoch=444]\n",
      "100%|██████████| 7/7 [00:00<00:00, 17.12it/s, avg_epoch_loss=0, epoch=445]\n",
      "100%|██████████| 7/7 [00:00<00:00, 14.96it/s, avg_epoch_loss=0, epoch=446]\n",
      "100%|██████████| 7/7 [00:00<00:00, 16.55it/s, avg_epoch_loss=0, epoch=447]\n",
      "100%|██████████| 7/7 [00:00<00:00, 15.27it/s, avg_epoch_loss=0, epoch=448]\n",
      "100%|██████████| 7/7 [00:00<00:00, 15.79it/s, avg_epoch_loss=0, epoch=449]\n"
     ]
    },
    {
     "name": "stdout",
     "output_type": "stream",
     "text": [
      "Start validation!!!\n",
      "Epoch: 449\n"
     ]
    },
    {
     "name": "stderr",
     "output_type": "stream",
     "text": [
      "100%|██████████| 2/2 [01:12<00:00, 36.47s/it]\n"
     ]
    },
    {
     "name": "stdout",
     "output_type": "stream",
     "text": [
      "====================================\n",
      "##### End evaluation!!\n",
      "PEHE VAL = 8.03e+03\n"
     ]
    },
    {
     "name": "stderr",
     "output_type": "stream",
     "text": [
      "100%|██████████| 7/7 [00:00<00:00, 15.85it/s, avg_epoch_loss=0, epoch=450]\n",
      "100%|██████████| 7/7 [00:00<00:00, 15.58it/s, avg_epoch_loss=0, epoch=451]\n",
      "100%|██████████| 7/7 [00:00<00:00, 16.74it/s, avg_epoch_loss=0, epoch=452]\n",
      "100%|██████████| 7/7 [00:00<00:00, 16.40it/s, avg_epoch_loss=0, epoch=453]\n",
      "100%|██████████| 7/7 [00:00<00:00, 13.89it/s, avg_epoch_loss=0, epoch=454]\n",
      "100%|██████████| 7/7 [00:00<00:00, 17.45it/s, avg_epoch_loss=0, epoch=455]\n",
      "100%|██████████| 7/7 [00:00<00:00, 11.90it/s, avg_epoch_loss=0, epoch=456]\n",
      "100%|██████████| 7/7 [00:00<00:00, 18.32it/s, avg_epoch_loss=0, epoch=457]\n",
      "100%|██████████| 7/7 [00:00<00:00, 16.90it/s, avg_epoch_loss=0, epoch=458]\n",
      "100%|██████████| 7/7 [00:00<00:00, 16.68it/s, avg_epoch_loss=0, epoch=459]\n",
      "100%|██████████| 7/7 [00:00<00:00, 16.77it/s, avg_epoch_loss=0, epoch=460]\n",
      "100%|██████████| 7/7 [00:00<00:00, 16.61it/s, avg_epoch_loss=0, epoch=461]\n",
      "100%|██████████| 7/7 [00:00<00:00, 15.79it/s, avg_epoch_loss=0, epoch=462]\n",
      "100%|██████████| 7/7 [00:00<00:00, 16.41it/s, avg_epoch_loss=0, epoch=463]\n",
      "100%|██████████| 7/7 [00:00<00:00, 18.32it/s, avg_epoch_loss=0, epoch=464]\n",
      "100%|██████████| 7/7 [00:00<00:00, 19.47it/s, avg_epoch_loss=0, epoch=465]\n",
      "100%|██████████| 7/7 [00:00<00:00, 19.13it/s, avg_epoch_loss=0, epoch=466]\n",
      "100%|██████████| 7/7 [00:00<00:00, 15.63it/s, avg_epoch_loss=0, epoch=467]\n",
      "100%|██████████| 7/7 [00:00<00:00, 14.91it/s, avg_epoch_loss=0, epoch=468]\n",
      "100%|██████████| 7/7 [00:00<00:00, 17.04it/s, avg_epoch_loss=0, epoch=469]\n",
      "100%|██████████| 7/7 [00:00<00:00, 17.85it/s, avg_epoch_loss=0, epoch=470]\n",
      "100%|██████████| 7/7 [00:00<00:00, 16.81it/s, avg_epoch_loss=0, epoch=471]\n",
      "100%|██████████| 7/7 [00:00<00:00, 13.17it/s, avg_epoch_loss=0, epoch=472]\n",
      "100%|██████████| 7/7 [00:00<00:00, 17.11it/s, avg_epoch_loss=0, epoch=473]\n",
      "100%|██████████| 7/7 [00:00<00:00, 16.02it/s, avg_epoch_loss=0, epoch=474]\n",
      "100%|██████████| 7/7 [00:00<00:00, 14.09it/s, avg_epoch_loss=0, epoch=475]\n",
      "100%|██████████| 7/7 [00:00<00:00, 13.23it/s, avg_epoch_loss=0, epoch=476]\n",
      "100%|██████████| 7/7 [00:00<00:00, 18.05it/s, avg_epoch_loss=0, epoch=477]\n",
      "100%|██████████| 7/7 [00:00<00:00, 17.04it/s, avg_epoch_loss=0, epoch=478]\n",
      "100%|██████████| 7/7 [00:00<00:00, 16.15it/s, avg_epoch_loss=0, epoch=479]\n",
      "100%|██████████| 7/7 [00:00<00:00, 16.10it/s, avg_epoch_loss=0, epoch=480]\n",
      "100%|██████████| 7/7 [00:00<00:00, 16.20it/s, avg_epoch_loss=0, epoch=481]\n",
      "100%|██████████| 7/7 [00:00<00:00, 16.71it/s, avg_epoch_loss=0, epoch=482]\n",
      "100%|██████████| 7/7 [00:00<00:00, 14.85it/s, avg_epoch_loss=0, epoch=483]\n",
      "100%|██████████| 7/7 [00:00<00:00, 16.16it/s, avg_epoch_loss=0, epoch=484]\n",
      "100%|██████████| 7/7 [00:00<00:00, 14.72it/s, avg_epoch_loss=0, epoch=485]\n",
      "100%|██████████| 7/7 [00:00<00:00, 15.52it/s, avg_epoch_loss=0, epoch=486]\n",
      "100%|██████████| 7/7 [00:00<00:00, 14.92it/s, avg_epoch_loss=0, epoch=487]\n",
      "100%|██████████| 7/7 [00:00<00:00, 16.94it/s, avg_epoch_loss=0, epoch=488]\n",
      "100%|██████████| 7/7 [00:00<00:00, 13.90it/s, avg_epoch_loss=0, epoch=489]\n",
      "100%|██████████| 7/7 [00:00<00:00, 15.93it/s, avg_epoch_loss=0, epoch=490]\n",
      "100%|██████████| 7/7 [00:00<00:00, 15.07it/s, avg_epoch_loss=0, epoch=491]\n",
      "100%|██████████| 7/7 [00:00<00:00, 14.78it/s, avg_epoch_loss=0, epoch=492]\n",
      "100%|██████████| 7/7 [00:00<00:00, 16.58it/s, avg_epoch_loss=0, epoch=493]\n",
      "100%|██████████| 7/7 [00:00<00:00, 15.91it/s, avg_epoch_loss=0, epoch=494]\n",
      "100%|██████████| 7/7 [00:00<00:00, 15.37it/s, avg_epoch_loss=0, epoch=495]\n",
      "100%|██████████| 7/7 [00:00<00:00, 16.97it/s, avg_epoch_loss=0, epoch=496]\n",
      "100%|██████████| 7/7 [00:00<00:00, 14.88it/s, avg_epoch_loss=0, epoch=497]\n",
      "100%|██████████| 7/7 [00:00<00:00, 16.59it/s, avg_epoch_loss=0, epoch=498]\n",
      "100%|██████████| 7/7 [00:00<00:00, 15.19it/s, avg_epoch_loss=0, epoch=499]\n"
     ]
    },
    {
     "name": "stdout",
     "output_type": "stream",
     "text": [
      "Start validation!!!\n",
      "Epoch: 499\n"
     ]
    },
    {
     "name": "stderr",
     "output_type": "stream",
     "text": [
      "100%|██████████| 2/2 [01:20<00:00, 40.11s/it]\n"
     ]
    },
    {
     "name": "stdout",
     "output_type": "stream",
     "text": [
      "====================================\n",
      "##### End evaluation!!\n",
      "PEHE VAL = 8.54e+03\n",
      "Training complete.\n",
      "Evaluating the model...\n"
     ]
    },
    {
     "name": "stderr",
     "output_type": "stream",
     "text": [
      "100%|██████████| 12/12 [14:00<00:00, 70.07s/it]\n",
      "GPU available: True (mps), used: False\n",
      "TPU available: False, using: 0 TPU cores\n",
      "HPU available: False, using: 0 HPUs\n",
      "\n",
      "  | Name           | Type        | Params | Mode \n",
      "-------------------------------------------------------\n",
      "0 | balancer       | Sequential  | 1.6 K  | train\n",
      "1 | prior_encoder0 | Sequential  | 0      | train\n",
      "2 | prior_encoder1 | Sequential  | 0      | train\n",
      "3 | cond_mean0     | Sequential  | 701    | train\n",
      "4 | cond_mean1     | Sequential  | 701    | train\n",
      "5 | cond_std0      | Sequential  | 701    | train\n",
      "6 | cond_std1      | Sequential  | 701    | train\n",
      "7 | flows0         | DSFMarginal | 892    | train\n",
      "8 | flows1         | DSFMarginal | 892    | train\n",
      "-------------------------------------------------------\n",
      "6.2 K     Trainable params\n",
      "0         Non-trainable params\n",
      "6.2 K     Total params\n",
      "0.025     Total estimated model params size (MB)\n",
      "45        Modules in train mode\n",
      "0         Modules in eval mode\n"
     ]
    },
    {
     "name": "stdout",
     "output_type": "stream",
     "text": [
      "Fit and evaluate NOFLITE ...\n"
     ]
    },
    {
     "data": {
      "application/vnd.jupyter.widget-view+json": {
       "model_id": "773542b59a4041bea382b08c7610c406",
       "version_major": 2,
       "version_minor": 0
      },
      "text/plain": [
       "Training: |          | 0/? [00:00<?, ?it/s]"
      ]
     },
     "metadata": {},
     "output_type": "display_data"
    },
    {
     "name": "stderr",
     "output_type": "stream",
     "text": [
      "`Trainer.fit` stopped: `max_steps=10000` reached.\n"
     ]
    },
    {
     "name": "stdout",
     "output_type": "stream",
     "text": [
      "|====================================================================================================|Fit and evaluate CCT-learner ...\n",
      "Fit and evaluate BART ...\n"
     ]
    },
    {
     "name": "stderr",
     "output_type": "stream",
     "text": [
      "Multiprocess sampling (4 chains in 4 jobs)\n",
      "PGBART: [mu]\n"
     ]
    },
    {
     "data": {
      "application/vnd.jupyter.widget-view+json": {
       "model_id": "ad5c85b746734a6381ec2fb60c9a7717",
       "version_major": 2,
       "version_minor": 0
      },
      "text/plain": [
       "Output()"
      ]
     },
     "metadata": {},
     "output_type": "display_data"
    },
    {
     "data": {
      "text/html": [
       "<pre style=\"white-space:pre;overflow-x:auto;line-height:normal;font-family:Menlo,'DejaVu Sans Mono',consolas,'Courier New',monospace\"></pre>\n"
      ],
      "text/plain": []
     },
     "metadata": {},
     "output_type": "display_data"
    },
    {
     "name": "stderr",
     "output_type": "stream",
     "text": [
      "Sampling 4 chains for 500 tune and 500 draw iterations (2_000 + 2_000 draws total) took 19 seconds.\n",
      "The rhat statistic is larger than 1.01 for some parameters. This indicates problems during sampling. See https://arxiv.org/abs/1903.08008 for details\n",
      "The effective sample size per chain is smaller than 100 for some parameters.  A higher number is needed for reliable rhat and ess computation. See https://arxiv.org/abs/1903.08008 for details\n"
     ]
    },
    {
     "name": "stdout",
     "output_type": "stream",
     "text": [
      "X_extended (3000, 11)\n"
     ]
    },
    {
     "name": "stderr",
     "output_type": "stream",
     "text": [
      "Sampling: [mu, y]\n"
     ]
    },
    {
     "data": {
      "application/vnd.jupyter.widget-view+json": {
       "model_id": "87d9c000307945ea88afaceeda8673e4",
       "version_major": 2,
       "version_minor": 0
      },
      "text/plain": [
       "Output()"
      ]
     },
     "metadata": {},
     "output_type": "display_data"
    },
    {
     "data": {
      "text/html": [
       "<pre style=\"white-space:pre;overflow-x:auto;line-height:normal;font-family:Menlo,'DejaVu Sans Mono',consolas,'Courier New',monospace\"></pre>\n"
      ],
      "text/plain": []
     },
     "metadata": {},
     "output_type": "display_data"
    },
    {
     "name": "stderr",
     "output_type": "stream",
     "text": [
      "Sampling: [mu, y]\n"
     ]
    },
    {
     "data": {
      "application/vnd.jupyter.widget-view+json": {
       "model_id": "d4b15f4e8d234fd7b38c955435f2e166",
       "version_major": 2,
       "version_minor": 0
      },
      "text/plain": [
       "Output()"
      ]
     },
     "metadata": {},
     "output_type": "display_data"
    },
    {
     "data": {
      "text/html": [
       "<pre style=\"white-space:pre;overflow-x:auto;line-height:normal;font-family:Menlo,'DejaVu Sans Mono',consolas,'Courier New',monospace\"></pre>\n"
      ],
      "text/plain": []
     },
     "metadata": {},
     "output_type": "display_data"
    },
    {
     "name": "stderr",
     "output_type": "stream",
     "text": [
      "Sampling: [mu, y]\n"
     ]
    },
    {
     "data": {
      "application/vnd.jupyter.widget-view+json": {
       "model_id": "e1c398df837f4ed5a5c57d6a01127d22",
       "version_major": 2,
       "version_minor": 0
      },
      "text/plain": [
       "Output()"
      ]
     },
     "metadata": {},
     "output_type": "display_data"
    },
    {
     "name": "stdout",
     "output_type": "stream",
     "text": [
      "X_extended (3000, 11)\n"
     ]
    },
    {
     "data": {
      "text/html": [
       "<pre style=\"white-space:pre;overflow-x:auto;line-height:normal;font-family:Menlo,'DejaVu Sans Mono',consolas,'Courier New',monospace\"></pre>\n"
      ],
      "text/plain": []
     },
     "metadata": {},
     "output_type": "display_data"
    },
    {
     "name": "stderr",
     "output_type": "stream",
     "text": [
      "Sampling: [mu, y]\n"
     ]
    },
    {
     "data": {
      "application/vnd.jupyter.widget-view+json": {
       "model_id": "d4c605026dc14edb966046fc2d7c760d",
       "version_major": 2,
       "version_minor": 0
      },
      "text/plain": [
       "Output()"
      ]
     },
     "metadata": {},
     "output_type": "display_data"
    },
    {
     "data": {
      "text/html": [
       "<pre style=\"white-space:pre;overflow-x:auto;line-height:normal;font-family:Menlo,'DejaVu Sans Mono',consolas,'Courier New',monospace\"></pre>\n"
      ],
      "text/plain": []
     },
     "metadata": {},
     "output_type": "display_data"
    },
    {
     "name": "stdout",
     "output_type": "stream",
     "text": [
      "Fit and evaluate CMGP ...\n",
      "Fit and evaluate CEVAE ...\n",
      "Using cpu\n"
     ]
    },
    {
     "name": "stderr",
     "output_type": "stream",
     "text": [
      "100%|██████████| 7000/7000 [00:35<00:00, 197.83it/s]\n"
     ]
    },
    {
     "name": "stdout",
     "output_type": "stream",
     "text": [
      "Fit and evaluate FCCN ...\n"
     ]
    },
    {
     "name": "stderr",
     "output_type": "stream",
     "text": [
      "100%|██████████| 20000/20000 [02:16<00:00, 146.77it/s]\n"
     ]
    },
    {
     "name": "stdout",
     "output_type": "stream",
     "text": [
      "Fit and evaluate GANITE ...\n"
     ]
    },
    {
     "name": "stderr",
     "output_type": "stream",
     "text": [
      "Training Counterfactual GAN: 100%|██████████| 10000/10000 [08:35<00:00, 19.41it/s]\n",
      "Training ITE GAN: 100%|██████████| 10000/10000 [09:07<00:00, 18.28it/s]\n"
     ]
    },
    {
     "name": "stdout",
     "output_type": "stream",
     "text": [
      "Fit and evaluate DKLITE ...\n"
     ]
    },
    {
     "name": "stderr",
     "output_type": "stream",
     "text": [
      "  5%|▌         | 51/1000 [00:02<00:49, 19.02it/s]\n"
     ]
    },
    {
     "name": "stdout",
     "output_type": "stream",
     "text": [
      "Fit and evaluate diffpo ...\n"
     ]
    },
    {
     "name": "stderr",
     "output_type": "stream",
     "text": [
      "100%|██████████| 7/7 [00:00<00:00, 14.33it/s, avg_epoch_loss=0, epoch=0]\n",
      "100%|██████████| 7/7 [00:00<00:00, 16.29it/s, avg_epoch_loss=0, epoch=1]\n",
      "100%|██████████| 7/7 [00:00<00:00, 16.10it/s, avg_epoch_loss=0, epoch=2]\n",
      "100%|██████████| 7/7 [00:00<00:00, 13.40it/s, avg_epoch_loss=0, epoch=3]\n",
      "100%|██████████| 7/7 [00:00<00:00, 16.28it/s, avg_epoch_loss=0, epoch=4]\n",
      "100%|██████████| 7/7 [00:00<00:00, 16.47it/s, avg_epoch_loss=0, epoch=5]\n",
      "100%|██████████| 7/7 [00:00<00:00, 15.71it/s, avg_epoch_loss=0, epoch=6]\n",
      "100%|██████████| 7/7 [00:00<00:00, 16.26it/s, avg_epoch_loss=0, epoch=7]\n",
      "100%|██████████| 7/7 [00:00<00:00, 15.97it/s, avg_epoch_loss=0, epoch=8]\n",
      "100%|██████████| 7/7 [00:00<00:00, 16.48it/s, avg_epoch_loss=0, epoch=9]\n",
      "100%|██████████| 7/7 [00:00<00:00, 15.49it/s, avg_epoch_loss=0, epoch=10]\n",
      "100%|██████████| 7/7 [00:00<00:00, 14.88it/s, avg_epoch_loss=0, epoch=11]\n",
      "100%|██████████| 7/7 [00:00<00:00, 16.30it/s, avg_epoch_loss=0, epoch=12]\n",
      "100%|██████████| 7/7 [00:00<00:00, 15.93it/s, avg_epoch_loss=0, epoch=13]\n",
      "100%|██████████| 7/7 [00:00<00:00, 16.30it/s, avg_epoch_loss=0, epoch=14]\n",
      "100%|██████████| 7/7 [00:00<00:00, 16.00it/s, avg_epoch_loss=0, epoch=15]\n",
      "100%|██████████| 7/7 [00:00<00:00, 15.73it/s, avg_epoch_loss=0, epoch=16]\n",
      "100%|██████████| 7/7 [00:00<00:00, 15.01it/s, avg_epoch_loss=0, epoch=17]\n",
      "100%|██████████| 7/7 [00:00<00:00, 16.11it/s, avg_epoch_loss=0, epoch=18]\n",
      "100%|██████████| 7/7 [00:00<00:00, 16.32it/s, avg_epoch_loss=0, epoch=19]\n",
      "100%|██████████| 7/7 [00:00<00:00, 13.32it/s, avg_epoch_loss=0, epoch=20]\n",
      "100%|██████████| 7/7 [00:00<00:00, 15.00it/s, avg_epoch_loss=0, epoch=21]\n",
      "100%|██████████| 7/7 [00:00<00:00, 15.12it/s, avg_epoch_loss=0, epoch=22]\n",
      "100%|██████████| 7/7 [00:00<00:00, 14.87it/s, avg_epoch_loss=0, epoch=23]\n",
      "100%|██████████| 7/7 [00:00<00:00, 15.15it/s, avg_epoch_loss=0, epoch=24]\n",
      "100%|██████████| 7/7 [00:00<00:00, 15.42it/s, avg_epoch_loss=0, epoch=25]\n",
      "100%|██████████| 7/7 [00:00<00:00, 14.67it/s, avg_epoch_loss=0, epoch=26]\n",
      "100%|██████████| 7/7 [00:00<00:00, 14.68it/s, avg_epoch_loss=0, epoch=27]\n",
      "100%|██████████| 7/7 [00:00<00:00, 14.74it/s, avg_epoch_loss=0, epoch=28]\n",
      "100%|██████████| 7/7 [00:00<00:00, 15.23it/s, avg_epoch_loss=0, epoch=29]\n",
      "100%|██████████| 7/7 [00:00<00:00, 14.95it/s, avg_epoch_loss=0, epoch=30]\n",
      "100%|██████████| 7/7 [00:00<00:00, 12.89it/s, avg_epoch_loss=0, epoch=31]\n",
      "100%|██████████| 7/7 [00:00<00:00, 15.07it/s, avg_epoch_loss=0, epoch=32]\n",
      "100%|██████████| 7/7 [00:00<00:00, 15.40it/s, avg_epoch_loss=0, epoch=33]\n",
      "100%|██████████| 7/7 [00:00<00:00, 15.02it/s, avg_epoch_loss=0, epoch=34]\n",
      "100%|██████████| 7/7 [00:00<00:00, 15.89it/s, avg_epoch_loss=0, epoch=35]\n",
      "100%|██████████| 7/7 [00:00<00:00, 13.61it/s, avg_epoch_loss=0, epoch=36]\n",
      "100%|██████████| 7/7 [00:00<00:00, 16.58it/s, avg_epoch_loss=0, epoch=37]\n",
      "100%|██████████| 7/7 [00:00<00:00, 14.00it/s, avg_epoch_loss=0, epoch=38]\n",
      "100%|██████████| 7/7 [00:00<00:00, 13.89it/s, avg_epoch_loss=0, epoch=39]\n",
      "100%|██████████| 7/7 [00:00<00:00, 15.00it/s, avg_epoch_loss=0, epoch=40]\n",
      "100%|██████████| 7/7 [00:00<00:00, 16.32it/s, avg_epoch_loss=0, epoch=41]\n",
      "100%|██████████| 7/7 [00:00<00:00, 16.24it/s, avg_epoch_loss=0, epoch=42]\n",
      "100%|██████████| 7/7 [00:00<00:00, 15.42it/s, avg_epoch_loss=0, epoch=43]\n",
      "100%|██████████| 7/7 [00:00<00:00, 11.74it/s, avg_epoch_loss=0, epoch=44]\n",
      "100%|██████████| 7/7 [00:00<00:00, 15.36it/s, avg_epoch_loss=0, epoch=45]\n",
      "100%|██████████| 7/7 [00:00<00:00, 14.97it/s, avg_epoch_loss=0, epoch=46]\n",
      "100%|██████████| 7/7 [00:00<00:00, 15.00it/s, avg_epoch_loss=0, epoch=47]\n",
      "100%|██████████| 7/7 [00:00<00:00, 14.71it/s, avg_epoch_loss=0, epoch=48]\n",
      "100%|██████████| 7/7 [00:00<00:00, 15.01it/s, avg_epoch_loss=0, epoch=49]\n"
     ]
    },
    {
     "name": "stdout",
     "output_type": "stream",
     "text": [
      "Start validation!!!\n",
      "Epoch: 49\n"
     ]
    },
    {
     "name": "stderr",
     "output_type": "stream",
     "text": [
      "100%|██████████| 2/2 [01:23<00:00, 41.84s/it]\n"
     ]
    },
    {
     "name": "stdout",
     "output_type": "stream",
     "text": [
      "====================================\n",
      "##### End evaluation!!\n",
      "PEHE VAL = 8.1e+03\n"
     ]
    },
    {
     "name": "stderr",
     "output_type": "stream",
     "text": [
      "100%|██████████| 7/7 [00:00<00:00, 16.35it/s, avg_epoch_loss=0, epoch=50]\n",
      "100%|██████████| 7/7 [00:00<00:00, 16.16it/s, avg_epoch_loss=0, epoch=51]\n",
      "100%|██████████| 7/7 [00:00<00:00, 15.94it/s, avg_epoch_loss=0, epoch=52]\n",
      "100%|██████████| 7/7 [00:00<00:00, 16.15it/s, avg_epoch_loss=0, epoch=53]\n",
      "100%|██████████| 7/7 [00:00<00:00, 16.12it/s, avg_epoch_loss=0, epoch=54]\n",
      "100%|██████████| 7/7 [00:00<00:00, 16.38it/s, avg_epoch_loss=0, epoch=55]\n",
      "100%|██████████| 7/7 [00:00<00:00, 14.84it/s, avg_epoch_loss=0, epoch=56]\n",
      "100%|██████████| 7/7 [00:00<00:00, 16.37it/s, avg_epoch_loss=0, epoch=57]\n",
      "100%|██████████| 7/7 [00:00<00:00, 16.20it/s, avg_epoch_loss=0, epoch=58]\n",
      "100%|██████████| 7/7 [00:00<00:00, 16.22it/s, avg_epoch_loss=0, epoch=59]\n",
      "100%|██████████| 7/7 [00:00<00:00, 12.89it/s, avg_epoch_loss=0, epoch=60]\n",
      "100%|██████████| 7/7 [00:00<00:00, 14.93it/s, avg_epoch_loss=0, epoch=61]\n",
      "100%|██████████| 7/7 [00:00<00:00, 15.99it/s, avg_epoch_loss=0, epoch=62]\n",
      "100%|██████████| 7/7 [00:00<00:00, 16.06it/s, avg_epoch_loss=0, epoch=63]\n",
      "100%|██████████| 7/7 [00:00<00:00, 15.87it/s, avg_epoch_loss=0, epoch=64]\n",
      "100%|██████████| 7/7 [00:00<00:00, 14.77it/s, avg_epoch_loss=0, epoch=65]\n",
      "100%|██████████| 7/7 [00:00<00:00, 16.20it/s, avg_epoch_loss=0, epoch=66]\n",
      "100%|██████████| 7/7 [00:00<00:00, 15.76it/s, avg_epoch_loss=0, epoch=67]\n",
      "100%|██████████| 7/7 [00:00<00:00, 15.15it/s, avg_epoch_loss=0, epoch=68]\n",
      "100%|██████████| 7/7 [00:00<00:00, 15.43it/s, avg_epoch_loss=0, epoch=69]\n",
      "100%|██████████| 7/7 [00:00<00:00, 15.59it/s, avg_epoch_loss=0, epoch=70]\n",
      "100%|██████████| 7/7 [00:00<00:00, 15.25it/s, avg_epoch_loss=0, epoch=71]\n",
      "100%|██████████| 7/7 [00:00<00:00, 16.23it/s, avg_epoch_loss=0, epoch=72]\n",
      "100%|██████████| 7/7 [00:00<00:00, 16.40it/s, avg_epoch_loss=0, epoch=73]\n",
      "100%|██████████| 7/7 [00:00<00:00, 16.08it/s, avg_epoch_loss=0, epoch=74]\n",
      "100%|██████████| 7/7 [00:00<00:00, 16.06it/s, avg_epoch_loss=0, epoch=75]\n",
      "100%|██████████| 7/7 [00:00<00:00, 15.67it/s, avg_epoch_loss=0, epoch=76]\n",
      "100%|██████████| 7/7 [00:00<00:00, 16.13it/s, avg_epoch_loss=0, epoch=77]\n",
      "100%|██████████| 7/7 [00:00<00:00, 16.35it/s, avg_epoch_loss=0, epoch=78]\n",
      "100%|██████████| 7/7 [00:00<00:00, 15.69it/s, avg_epoch_loss=0, epoch=79]\n",
      "100%|██████████| 7/7 [00:00<00:00, 15.91it/s, avg_epoch_loss=0, epoch=80]\n",
      "100%|██████████| 7/7 [00:00<00:00, 13.77it/s, avg_epoch_loss=0, epoch=81]\n",
      "100%|██████████| 7/7 [00:00<00:00, 15.81it/s, avg_epoch_loss=0, epoch=82]\n",
      "100%|██████████| 7/7 [00:00<00:00, 15.76it/s, avg_epoch_loss=0, epoch=83]\n",
      "100%|██████████| 7/7 [00:00<00:00, 15.74it/s, avg_epoch_loss=0, epoch=84]\n",
      "100%|██████████| 7/7 [00:00<00:00, 15.90it/s, avg_epoch_loss=0, epoch=85]\n",
      "100%|██████████| 7/7 [00:00<00:00, 16.16it/s, avg_epoch_loss=0, epoch=86]\n",
      "100%|██████████| 7/7 [00:00<00:00, 16.30it/s, avg_epoch_loss=0, epoch=87]\n",
      "100%|██████████| 7/7 [00:00<00:00, 13.01it/s, avg_epoch_loss=0, epoch=88]\n",
      "100%|██████████| 7/7 [00:00<00:00, 11.98it/s, avg_epoch_loss=0, epoch=89]\n",
      "100%|██████████| 7/7 [00:00<00:00, 16.25it/s, avg_epoch_loss=0, epoch=90]\n",
      "100%|██████████| 7/7 [00:00<00:00, 16.15it/s, avg_epoch_loss=0, epoch=91]\n",
      "100%|██████████| 7/7 [00:00<00:00, 16.07it/s, avg_epoch_loss=0, epoch=92]\n",
      "100%|██████████| 7/7 [00:00<00:00, 16.25it/s, avg_epoch_loss=0, epoch=93]\n",
      "100%|██████████| 7/7 [00:00<00:00, 16.11it/s, avg_epoch_loss=0, epoch=94]\n",
      "100%|██████████| 7/7 [00:00<00:00, 16.52it/s, avg_epoch_loss=0, epoch=95]\n",
      "100%|██████████| 7/7 [00:00<00:00, 16.52it/s, avg_epoch_loss=0, epoch=96]\n",
      "100%|██████████| 7/7 [00:00<00:00, 16.30it/s, avg_epoch_loss=0, epoch=97]\n",
      "100%|██████████| 7/7 [00:00<00:00, 16.03it/s, avg_epoch_loss=0, epoch=98]\n",
      "100%|██████████| 7/7 [00:00<00:00, 15.61it/s, avg_epoch_loss=0, epoch=99]\n"
     ]
    },
    {
     "name": "stdout",
     "output_type": "stream",
     "text": [
      "Start validation!!!\n",
      "Epoch: 99\n"
     ]
    },
    {
     "name": "stderr",
     "output_type": "stream",
     "text": [
      "100%|██████████| 2/2 [01:26<00:00, 43.04s/it]\n"
     ]
    },
    {
     "name": "stdout",
     "output_type": "stream",
     "text": [
      "====================================\n",
      "##### End evaluation!!\n",
      "PEHE VAL = 8.29e+03\n"
     ]
    },
    {
     "name": "stderr",
     "output_type": "stream",
     "text": [
      "100%|██████████| 7/7 [00:00<00:00, 14.22it/s, avg_epoch_loss=0, epoch=100]\n",
      "100%|██████████| 7/7 [00:00<00:00, 16.21it/s, avg_epoch_loss=0, epoch=101]\n",
      "100%|██████████| 7/7 [00:00<00:00, 16.18it/s, avg_epoch_loss=0, epoch=102]\n",
      "100%|██████████| 7/7 [00:00<00:00, 15.60it/s, avg_epoch_loss=0, epoch=103]\n",
      "100%|██████████| 7/7 [00:00<00:00, 16.69it/s, avg_epoch_loss=0, epoch=104]\n",
      "100%|██████████| 7/7 [00:00<00:00, 16.19it/s, avg_epoch_loss=0, epoch=105]\n",
      "100%|██████████| 7/7 [00:00<00:00, 16.18it/s, avg_epoch_loss=0, epoch=106]\n",
      "100%|██████████| 7/7 [00:00<00:00, 16.16it/s, avg_epoch_loss=0, epoch=107]\n",
      "100%|██████████| 7/7 [00:00<00:00, 16.27it/s, avg_epoch_loss=0, epoch=108]\n",
      "100%|██████████| 7/7 [00:00<00:00, 14.27it/s, avg_epoch_loss=0, epoch=109]\n",
      "100%|██████████| 7/7 [00:00<00:00, 14.53it/s, avg_epoch_loss=0, epoch=110]\n",
      "100%|██████████| 7/7 [00:00<00:00, 15.93it/s, avg_epoch_loss=0, epoch=111]\n",
      "100%|██████████| 7/7 [00:00<00:00, 16.24it/s, avg_epoch_loss=0, epoch=112]\n",
      "100%|██████████| 7/7 [00:00<00:00, 15.92it/s, avg_epoch_loss=0, epoch=113]\n",
      "100%|██████████| 7/7 [00:00<00:00, 17.24it/s, avg_epoch_loss=0, epoch=114]\n",
      "100%|██████████| 7/7 [00:00<00:00, 18.20it/s, avg_epoch_loss=0, epoch=115]\n",
      "100%|██████████| 7/7 [00:00<00:00, 18.11it/s, avg_epoch_loss=0, epoch=116]\n",
      "100%|██████████| 7/7 [00:00<00:00, 18.15it/s, avg_epoch_loss=0, epoch=117]\n",
      "100%|██████████| 7/7 [00:00<00:00, 18.05it/s, avg_epoch_loss=0, epoch=118]\n",
      "100%|██████████| 7/7 [00:00<00:00, 18.15it/s, avg_epoch_loss=0, epoch=119]\n",
      "100%|██████████| 7/7 [00:00<00:00, 16.57it/s, avg_epoch_loss=0, epoch=120]\n",
      "100%|██████████| 7/7 [00:00<00:00, 16.01it/s, avg_epoch_loss=0, epoch=121]\n",
      "100%|██████████| 7/7 [00:00<00:00, 16.30it/s, avg_epoch_loss=0, epoch=122]\n",
      "100%|██████████| 7/7 [00:00<00:00, 16.21it/s, avg_epoch_loss=0, epoch=123]\n",
      "100%|██████████| 7/7 [00:00<00:00, 16.32it/s, avg_epoch_loss=0, epoch=124]\n",
      "100%|██████████| 7/7 [00:00<00:00, 16.26it/s, avg_epoch_loss=0, epoch=125]\n",
      "100%|██████████| 7/7 [00:00<00:00, 16.16it/s, avg_epoch_loss=0, epoch=126]\n",
      "100%|██████████| 7/7 [00:00<00:00, 15.95it/s, avg_epoch_loss=0, epoch=127]\n",
      "100%|██████████| 7/7 [00:00<00:00, 16.00it/s, avg_epoch_loss=0, epoch=128]\n",
      "100%|██████████| 7/7 [00:00<00:00, 15.78it/s, avg_epoch_loss=0, epoch=129]\n",
      "100%|██████████| 7/7 [00:00<00:00, 16.05it/s, avg_epoch_loss=0, epoch=130]\n",
      "100%|██████████| 7/7 [00:00<00:00, 15.99it/s, avg_epoch_loss=0, epoch=131]\n",
      "100%|██████████| 7/7 [00:00<00:00, 15.76it/s, avg_epoch_loss=0, epoch=132]\n",
      "100%|██████████| 7/7 [00:00<00:00, 16.32it/s, avg_epoch_loss=0, epoch=133]\n",
      "100%|██████████| 7/7 [00:00<00:00, 13.05it/s, avg_epoch_loss=0, epoch=134]\n",
      "100%|██████████| 7/7 [00:00<00:00, 14.88it/s, avg_epoch_loss=0, epoch=135]\n",
      "100%|██████████| 7/7 [00:00<00:00, 14.85it/s, avg_epoch_loss=0, epoch=136]\n",
      "100%|██████████| 7/7 [00:00<00:00, 14.95it/s, avg_epoch_loss=0, epoch=137]\n",
      "100%|██████████| 7/7 [00:00<00:00, 15.03it/s, avg_epoch_loss=0, epoch=138]\n",
      "100%|██████████| 7/7 [00:00<00:00, 14.79it/s, avg_epoch_loss=0, epoch=139]\n",
      "100%|██████████| 7/7 [00:00<00:00, 15.02it/s, avg_epoch_loss=0, epoch=140]\n",
      "100%|██████████| 7/7 [00:00<00:00, 14.72it/s, avg_epoch_loss=0, epoch=141]\n",
      "100%|██████████| 7/7 [00:00<00:00, 15.05it/s, avg_epoch_loss=0, epoch=142]\n",
      "100%|██████████| 7/7 [00:00<00:00, 14.94it/s, avg_epoch_loss=0, epoch=143]\n",
      "100%|██████████| 7/7 [00:00<00:00, 14.73it/s, avg_epoch_loss=0, epoch=144]\n",
      "100%|██████████| 7/7 [00:00<00:00, 15.13it/s, avg_epoch_loss=0, epoch=145]\n",
      "100%|██████████| 7/7 [00:00<00:00, 13.80it/s, avg_epoch_loss=0, epoch=146]\n",
      "100%|██████████| 7/7 [00:00<00:00, 15.55it/s, avg_epoch_loss=0, epoch=147]\n",
      "100%|██████████| 7/7 [00:00<00:00, 16.16it/s, avg_epoch_loss=0, epoch=148]\n",
      "100%|██████████| 7/7 [00:00<00:00, 16.47it/s, avg_epoch_loss=0, epoch=149]\n"
     ]
    },
    {
     "name": "stdout",
     "output_type": "stream",
     "text": [
      "Start validation!!!\n",
      "Epoch: 149\n"
     ]
    },
    {
     "name": "stderr",
     "output_type": "stream",
     "text": [
      "100%|██████████| 2/2 [01:23<00:00, 41.63s/it]\n"
     ]
    },
    {
     "name": "stdout",
     "output_type": "stream",
     "text": [
      "====================================\n",
      "##### End evaluation!!\n",
      "PEHE VAL = 8.48e+03\n"
     ]
    },
    {
     "name": "stderr",
     "output_type": "stream",
     "text": [
      "100%|██████████| 7/7 [00:00<00:00, 16.37it/s, avg_epoch_loss=0, epoch=150]\n",
      "100%|██████████| 7/7 [00:00<00:00, 16.38it/s, avg_epoch_loss=0, epoch=151]\n",
      "100%|██████████| 7/7 [00:00<00:00, 16.06it/s, avg_epoch_loss=0, epoch=152]\n",
      "100%|██████████| 7/7 [00:00<00:00, 16.65it/s, avg_epoch_loss=0, epoch=153]\n",
      "100%|██████████| 7/7 [00:00<00:00, 15.51it/s, avg_epoch_loss=0, epoch=154]\n",
      "100%|██████████| 7/7 [00:00<00:00, 13.99it/s, avg_epoch_loss=0, epoch=155]\n",
      "100%|██████████| 7/7 [00:00<00:00, 15.30it/s, avg_epoch_loss=0, epoch=156]\n",
      "100%|██████████| 7/7 [00:00<00:00, 16.31it/s, avg_epoch_loss=0, epoch=157]\n",
      "100%|██████████| 7/7 [00:00<00:00, 16.45it/s, avg_epoch_loss=0, epoch=158]\n",
      "100%|██████████| 7/7 [00:00<00:00, 15.77it/s, avg_epoch_loss=0, epoch=159]\n",
      "100%|██████████| 7/7 [00:00<00:00, 14.48it/s, avg_epoch_loss=0, epoch=160]\n",
      "100%|██████████| 7/7 [00:00<00:00, 16.13it/s, avg_epoch_loss=0, epoch=161]\n",
      "100%|██████████| 7/7 [00:00<00:00, 17.03it/s, avg_epoch_loss=0, epoch=162]\n",
      "100%|██████████| 7/7 [00:00<00:00, 15.05it/s, avg_epoch_loss=0, epoch=163]\n",
      "100%|██████████| 7/7 [00:00<00:00, 16.82it/s, avg_epoch_loss=0, epoch=164]\n",
      "100%|██████████| 7/7 [00:00<00:00, 17.25it/s, avg_epoch_loss=0, epoch=165]\n",
      "100%|██████████| 7/7 [00:00<00:00, 15.42it/s, avg_epoch_loss=0, epoch=166]\n",
      "100%|██████████| 7/7 [00:00<00:00, 16.91it/s, avg_epoch_loss=0, epoch=167]\n",
      "100%|██████████| 7/7 [00:00<00:00, 15.28it/s, avg_epoch_loss=0, epoch=168]\n",
      "100%|██████████| 7/7 [00:00<00:00, 15.49it/s, avg_epoch_loss=0, epoch=169]\n",
      "100%|██████████| 7/7 [00:00<00:00, 15.35it/s, avg_epoch_loss=0, epoch=170]\n",
      "100%|██████████| 7/7 [00:00<00:00, 15.65it/s, avg_epoch_loss=0, epoch=171]\n",
      "100%|██████████| 7/7 [00:00<00:00, 16.21it/s, avg_epoch_loss=0, epoch=172]\n",
      "100%|██████████| 7/7 [00:00<00:00, 14.58it/s, avg_epoch_loss=0, epoch=173]\n",
      "100%|██████████| 7/7 [00:00<00:00, 16.73it/s, avg_epoch_loss=0, epoch=174]\n",
      "100%|██████████| 7/7 [00:00<00:00, 16.16it/s, avg_epoch_loss=0, epoch=175]\n",
      "100%|██████████| 7/7 [00:00<00:00, 16.19it/s, avg_epoch_loss=0, epoch=176]\n",
      "100%|██████████| 7/7 [00:00<00:00, 16.97it/s, avg_epoch_loss=0, epoch=177]\n",
      "100%|██████████| 7/7 [00:00<00:00, 16.63it/s, avg_epoch_loss=0, epoch=178]\n",
      "100%|██████████| 7/7 [00:00<00:00, 16.84it/s, avg_epoch_loss=0, epoch=179]\n",
      "100%|██████████| 7/7 [00:00<00:00, 15.79it/s, avg_epoch_loss=0, epoch=180]\n",
      "100%|██████████| 7/7 [00:00<00:00, 16.14it/s, avg_epoch_loss=0, epoch=181]\n",
      "100%|██████████| 7/7 [00:00<00:00, 16.45it/s, avg_epoch_loss=0, epoch=182]\n",
      "100%|██████████| 7/7 [00:00<00:00, 12.82it/s, avg_epoch_loss=0, epoch=183]\n",
      "100%|██████████| 7/7 [00:00<00:00, 17.00it/s, avg_epoch_loss=0, epoch=184]\n",
      "100%|██████████| 7/7 [00:00<00:00, 17.84it/s, avg_epoch_loss=0, epoch=185]\n",
      "100%|██████████| 7/7 [00:00<00:00, 15.79it/s, avg_epoch_loss=0, epoch=186]\n",
      "100%|██████████| 7/7 [00:00<00:00, 15.64it/s, avg_epoch_loss=0, epoch=187]\n",
      "100%|██████████| 7/7 [00:00<00:00, 14.59it/s, avg_epoch_loss=0, epoch=188]\n",
      "100%|██████████| 7/7 [00:00<00:00, 14.17it/s, avg_epoch_loss=0, epoch=189]\n",
      "100%|██████████| 7/7 [00:00<00:00,  9.50it/s, avg_epoch_loss=0, epoch=190]\n",
      "100%|██████████| 7/7 [00:00<00:00, 11.90it/s, avg_epoch_loss=0, epoch=191]\n",
      "100%|██████████| 7/7 [00:00<00:00, 14.85it/s, avg_epoch_loss=0, epoch=192]\n",
      "100%|██████████| 7/7 [00:00<00:00, 16.77it/s, avg_epoch_loss=0, epoch=193]\n",
      "100%|██████████| 7/7 [00:00<00:00, 15.39it/s, avg_epoch_loss=0, epoch=194]\n",
      "100%|██████████| 7/7 [00:00<00:00, 11.74it/s, avg_epoch_loss=0, epoch=195]\n",
      "100%|██████████| 7/7 [00:00<00:00, 17.76it/s, avg_epoch_loss=0, epoch=196]\n",
      "100%|██████████| 7/7 [00:00<00:00, 13.81it/s, avg_epoch_loss=0, epoch=197]\n",
      "100%|██████████| 7/7 [00:00<00:00, 18.09it/s, avg_epoch_loss=0, epoch=198]\n",
      "100%|██████████| 7/7 [00:00<00:00, 17.14it/s, avg_epoch_loss=0, epoch=199]\n"
     ]
    },
    {
     "name": "stdout",
     "output_type": "stream",
     "text": [
      "Start validation!!!\n",
      "Epoch: 199\n"
     ]
    },
    {
     "name": "stderr",
     "output_type": "stream",
     "text": [
      "100%|██████████| 2/2 [01:20<00:00, 40.06s/it]\n"
     ]
    },
    {
     "name": "stdout",
     "output_type": "stream",
     "text": [
      "====================================\n",
      "##### End evaluation!!\n",
      "PEHE VAL = 8.64e+03\n"
     ]
    },
    {
     "name": "stderr",
     "output_type": "stream",
     "text": [
      "100%|██████████| 7/7 [00:00<00:00, 13.69it/s, avg_epoch_loss=0, epoch=200]\n",
      "100%|██████████| 7/7 [00:00<00:00, 13.71it/s, avg_epoch_loss=0, epoch=201]\n",
      "100%|██████████| 7/7 [00:00<00:00, 15.24it/s, avg_epoch_loss=0, epoch=202]\n",
      "100%|██████████| 7/7 [00:00<00:00, 13.25it/s, avg_epoch_loss=0, epoch=203]\n",
      "100%|██████████| 7/7 [00:00<00:00, 10.84it/s, avg_epoch_loss=0, epoch=204]\n",
      "100%|██████████| 7/7 [00:00<00:00,  7.97it/s, avg_epoch_loss=0, epoch=205]\n",
      "100%|██████████| 7/7 [00:00<00:00, 16.23it/s, avg_epoch_loss=0, epoch=206]\n",
      "100%|██████████| 7/7 [00:00<00:00, 16.24it/s, avg_epoch_loss=0, epoch=207]\n",
      "100%|██████████| 7/7 [00:00<00:00, 15.77it/s, avg_epoch_loss=0, epoch=208]\n",
      "100%|██████████| 7/7 [00:00<00:00, 16.42it/s, avg_epoch_loss=0, epoch=209]\n",
      "100%|██████████| 7/7 [00:00<00:00, 14.48it/s, avg_epoch_loss=0, epoch=210]\n",
      "100%|██████████| 7/7 [00:00<00:00, 14.68it/s, avg_epoch_loss=0, epoch=211]\n",
      "100%|██████████| 7/7 [00:00<00:00, 16.23it/s, avg_epoch_loss=0, epoch=212]\n",
      "100%|██████████| 7/7 [00:00<00:00, 15.50it/s, avg_epoch_loss=0, epoch=213]\n",
      "100%|██████████| 7/7 [00:00<00:00, 16.50it/s, avg_epoch_loss=0, epoch=214]\n",
      "100%|██████████| 7/7 [00:00<00:00, 17.57it/s, avg_epoch_loss=0, epoch=215]\n",
      "100%|██████████| 7/7 [00:00<00:00, 16.03it/s, avg_epoch_loss=0, epoch=216]\n",
      "100%|██████████| 7/7 [00:00<00:00, 16.53it/s, avg_epoch_loss=0, epoch=217]\n",
      "100%|██████████| 7/7 [00:00<00:00, 15.59it/s, avg_epoch_loss=0, epoch=218]\n",
      "100%|██████████| 7/7 [00:00<00:00, 16.39it/s, avg_epoch_loss=0, epoch=219]\n",
      "100%|██████████| 7/7 [00:00<00:00, 16.43it/s, avg_epoch_loss=0, epoch=220]\n",
      "100%|██████████| 7/7 [00:00<00:00, 16.69it/s, avg_epoch_loss=0, epoch=221]\n",
      "100%|██████████| 7/7 [00:00<00:00, 16.47it/s, avg_epoch_loss=0, epoch=222]\n",
      "100%|██████████| 7/7 [00:00<00:00, 14.10it/s, avg_epoch_loss=0, epoch=223]\n",
      "100%|██████████| 7/7 [00:00<00:00, 14.19it/s, avg_epoch_loss=0, epoch=224]\n",
      "100%|██████████| 7/7 [00:00<00:00, 15.00it/s, avg_epoch_loss=0, epoch=225]\n",
      "100%|██████████| 7/7 [00:00<00:00, 14.38it/s, avg_epoch_loss=0, epoch=226]\n",
      "100%|██████████| 7/7 [00:00<00:00,  9.10it/s, avg_epoch_loss=0, epoch=227]\n",
      "100%|██████████| 7/7 [00:00<00:00, 12.00it/s, avg_epoch_loss=0, epoch=228]\n",
      "100%|██████████| 7/7 [00:00<00:00, 16.05it/s, avg_epoch_loss=0, epoch=229]\n",
      "100%|██████████| 7/7 [00:00<00:00, 17.20it/s, avg_epoch_loss=0, epoch=230]\n",
      "100%|██████████| 7/7 [00:00<00:00, 16.81it/s, avg_epoch_loss=0, epoch=231]\n",
      "100%|██████████| 7/7 [00:00<00:00, 15.44it/s, avg_epoch_loss=0, epoch=232]\n",
      "100%|██████████| 7/7 [00:00<00:00, 13.20it/s, avg_epoch_loss=0, epoch=233]\n",
      "100%|██████████| 7/7 [00:00<00:00, 12.42it/s, avg_epoch_loss=0, epoch=234]\n",
      "100%|██████████| 7/7 [00:00<00:00, 16.65it/s, avg_epoch_loss=0, epoch=235]\n",
      "100%|██████████| 7/7 [00:00<00:00, 16.75it/s, avg_epoch_loss=0, epoch=236]\n",
      "100%|██████████| 7/7 [00:00<00:00, 16.68it/s, avg_epoch_loss=0, epoch=237]\n",
      "100%|██████████| 7/7 [00:00<00:00, 16.90it/s, avg_epoch_loss=0, epoch=238]\n",
      "100%|██████████| 7/7 [00:00<00:00, 16.57it/s, avg_epoch_loss=0, epoch=239]\n",
      "100%|██████████| 7/7 [00:00<00:00, 15.83it/s, avg_epoch_loss=0, epoch=240]\n",
      "100%|██████████| 7/7 [00:00<00:00, 16.44it/s, avg_epoch_loss=0, epoch=241]\n",
      "100%|██████████| 7/7 [00:00<00:00, 17.13it/s, avg_epoch_loss=0, epoch=242]\n",
      "100%|██████████| 7/7 [00:00<00:00, 17.40it/s, avg_epoch_loss=0, epoch=243]\n",
      "100%|██████████| 7/7 [00:00<00:00, 17.40it/s, avg_epoch_loss=0, epoch=244]\n",
      "100%|██████████| 7/7 [00:00<00:00, 11.26it/s, avg_epoch_loss=0, epoch=245]\n",
      "100%|██████████| 7/7 [00:00<00:00, 15.95it/s, avg_epoch_loss=0, epoch=246]\n",
      "100%|██████████| 7/7 [00:00<00:00, 16.24it/s, avg_epoch_loss=0, epoch=247]\n",
      "100%|██████████| 7/7 [00:00<00:00, 16.29it/s, avg_epoch_loss=0, epoch=248]\n",
      "100%|██████████| 7/7 [00:00<00:00, 16.89it/s, avg_epoch_loss=0, epoch=249]\n"
     ]
    },
    {
     "name": "stdout",
     "output_type": "stream",
     "text": [
      "Start validation!!!\n",
      "Epoch: 249\n"
     ]
    },
    {
     "name": "stderr",
     "output_type": "stream",
     "text": [
      "100%|██████████| 2/2 [01:12<00:00, 36.02s/it]\n"
     ]
    },
    {
     "name": "stdout",
     "output_type": "stream",
     "text": [
      "====================================\n",
      "##### End evaluation!!\n",
      "PEHE VAL = 8.31e+03\n"
     ]
    },
    {
     "name": "stderr",
     "output_type": "stream",
     "text": [
      "100%|██████████| 7/7 [00:00<00:00, 16.00it/s, avg_epoch_loss=0, epoch=250]\n",
      "100%|██████████| 7/7 [00:00<00:00, 14.07it/s, avg_epoch_loss=0, epoch=251]\n",
      "100%|██████████| 7/7 [00:00<00:00, 13.17it/s, avg_epoch_loss=0, epoch=252]\n",
      "100%|██████████| 7/7 [00:00<00:00, 10.86it/s, avg_epoch_loss=0, epoch=253]\n",
      "100%|██████████| 7/7 [00:00<00:00, 10.48it/s, avg_epoch_loss=0, epoch=254]\n",
      "100%|██████████| 7/7 [00:00<00:00, 12.16it/s, avg_epoch_loss=0, epoch=255]\n",
      "100%|██████████| 7/7 [00:00<00:00, 13.58it/s, avg_epoch_loss=0, epoch=256]\n",
      "100%|██████████| 7/7 [00:00<00:00, 17.01it/s, avg_epoch_loss=0, epoch=257]\n",
      "100%|██████████| 7/7 [00:00<00:00, 15.90it/s, avg_epoch_loss=0, epoch=258]\n",
      "100%|██████████| 7/7 [00:00<00:00, 16.10it/s, avg_epoch_loss=0, epoch=259]\n",
      "100%|██████████| 7/7 [00:00<00:00, 14.29it/s, avg_epoch_loss=0, epoch=260]\n",
      "100%|██████████| 7/7 [00:00<00:00, 14.51it/s, avg_epoch_loss=0, epoch=261]\n",
      "100%|██████████| 7/7 [00:00<00:00, 15.31it/s, avg_epoch_loss=0, epoch=262]\n",
      "100%|██████████| 7/7 [00:00<00:00, 15.16it/s, avg_epoch_loss=0, epoch=263]\n",
      "100%|██████████| 7/7 [00:00<00:00, 10.70it/s, avg_epoch_loss=0, epoch=264]\n",
      "100%|██████████| 7/7 [00:00<00:00, 12.44it/s, avg_epoch_loss=0, epoch=265]\n",
      "100%|██████████| 7/7 [00:00<00:00, 16.19it/s, avg_epoch_loss=0, epoch=266]\n",
      "100%|██████████| 7/7 [00:00<00:00, 16.63it/s, avg_epoch_loss=0, epoch=267]\n",
      "100%|██████████| 7/7 [00:00<00:00, 16.86it/s, avg_epoch_loss=0, epoch=268]\n",
      "100%|██████████| 7/7 [00:00<00:00, 10.35it/s, avg_epoch_loss=0, epoch=269]\n",
      "100%|██████████| 7/7 [00:00<00:00, 15.49it/s, avg_epoch_loss=0, epoch=270]\n",
      "100%|██████████| 7/7 [00:00<00:00, 17.25it/s, avg_epoch_loss=0, epoch=271]\n",
      "100%|██████████| 7/7 [00:00<00:00, 15.73it/s, avg_epoch_loss=0, epoch=272]\n",
      "100%|██████████| 7/7 [00:00<00:00, 16.70it/s, avg_epoch_loss=0, epoch=273]\n",
      "100%|██████████| 7/7 [00:00<00:00, 16.92it/s, avg_epoch_loss=0, epoch=274]\n",
      "100%|██████████| 7/7 [00:00<00:00, 18.17it/s, avg_epoch_loss=0, epoch=275]\n",
      "100%|██████████| 7/7 [00:00<00:00, 18.02it/s, avg_epoch_loss=0, epoch=276]\n",
      "100%|██████████| 7/7 [00:00<00:00, 16.76it/s, avg_epoch_loss=0, epoch=277]\n",
      "100%|██████████| 7/7 [00:00<00:00, 18.32it/s, avg_epoch_loss=0, epoch=278]\n",
      "100%|██████████| 7/7 [00:00<00:00, 18.17it/s, avg_epoch_loss=0, epoch=279]\n",
      "100%|██████████| 7/7 [00:00<00:00, 17.50it/s, avg_epoch_loss=0, epoch=280]\n",
      "100%|██████████| 7/7 [00:00<00:00, 17.65it/s, avg_epoch_loss=0, epoch=281]\n",
      "100%|██████████| 7/7 [00:00<00:00, 14.92it/s, avg_epoch_loss=0, epoch=282]\n",
      "100%|██████████| 7/7 [00:00<00:00, 16.22it/s, avg_epoch_loss=0, epoch=283]\n",
      "100%|██████████| 7/7 [00:00<00:00, 16.68it/s, avg_epoch_loss=0, epoch=284]\n",
      "100%|██████████| 7/7 [00:00<00:00, 17.53it/s, avg_epoch_loss=0, epoch=285]\n",
      "100%|██████████| 7/7 [00:00<00:00, 12.72it/s, avg_epoch_loss=0, epoch=286]\n",
      "100%|██████████| 7/7 [00:00<00:00, 17.73it/s, avg_epoch_loss=0, epoch=287]\n",
      "100%|██████████| 7/7 [00:00<00:00, 17.35it/s, avg_epoch_loss=0, epoch=288]\n",
      "100%|██████████| 7/7 [00:00<00:00, 17.44it/s, avg_epoch_loss=0, epoch=289]\n",
      "100%|██████████| 7/7 [00:00<00:00, 18.32it/s, avg_epoch_loss=0, epoch=290]\n",
      "100%|██████████| 7/7 [00:00<00:00, 18.03it/s, avg_epoch_loss=0, epoch=291]\n",
      "100%|██████████| 7/7 [00:00<00:00, 14.29it/s, avg_epoch_loss=0, epoch=292]\n",
      "100%|██████████| 7/7 [00:00<00:00, 16.42it/s, avg_epoch_loss=0, epoch=293]\n",
      "100%|██████████| 7/7 [00:00<00:00, 15.78it/s, avg_epoch_loss=0, epoch=294]\n",
      "100%|██████████| 7/7 [00:00<00:00, 15.92it/s, avg_epoch_loss=0, epoch=295]\n",
      "100%|██████████| 7/7 [00:00<00:00, 15.98it/s, avg_epoch_loss=0, epoch=296]\n",
      "100%|██████████| 7/7 [00:00<00:00, 16.29it/s, avg_epoch_loss=0, epoch=297]\n",
      "100%|██████████| 7/7 [00:00<00:00, 16.83it/s, avg_epoch_loss=0, epoch=298]\n",
      "100%|██████████| 7/7 [00:00<00:00, 16.96it/s, avg_epoch_loss=0, epoch=299]\n"
     ]
    },
    {
     "name": "stdout",
     "output_type": "stream",
     "text": [
      "Start validation!!!\n",
      "Epoch: 299\n"
     ]
    },
    {
     "name": "stderr",
     "output_type": "stream",
     "text": [
      "100%|██████████| 2/2 [01:11<00:00, 35.55s/it]\n"
     ]
    },
    {
     "name": "stdout",
     "output_type": "stream",
     "text": [
      "====================================\n",
      "##### End evaluation!!\n",
      "PEHE VAL = 8.37e+03\n"
     ]
    },
    {
     "name": "stderr",
     "output_type": "stream",
     "text": [
      "100%|██████████| 7/7 [00:00<00:00, 16.13it/s, avg_epoch_loss=0, epoch=300]\n",
      "100%|██████████| 7/7 [00:00<00:00, 16.72it/s, avg_epoch_loss=0, epoch=301]\n",
      "100%|██████████| 7/7 [00:00<00:00, 13.80it/s, avg_epoch_loss=0, epoch=302]\n",
      "100%|██████████| 7/7 [00:00<00:00, 15.27it/s, avg_epoch_loss=0, epoch=303]\n",
      "100%|██████████| 7/7 [00:00<00:00, 16.26it/s, avg_epoch_loss=0, epoch=304]\n",
      "100%|██████████| 7/7 [00:00<00:00, 15.89it/s, avg_epoch_loss=0, epoch=305]\n",
      "100%|██████████| 7/7 [00:00<00:00, 15.98it/s, avg_epoch_loss=0, epoch=306]\n",
      "100%|██████████| 7/7 [00:00<00:00, 16.08it/s, avg_epoch_loss=0, epoch=307]\n",
      "100%|██████████| 7/7 [00:00<00:00, 16.39it/s, avg_epoch_loss=0, epoch=308]\n",
      "100%|██████████| 7/7 [00:00<00:00, 16.54it/s, avg_epoch_loss=0, epoch=309]\n",
      "100%|██████████| 7/7 [00:00<00:00, 17.47it/s, avg_epoch_loss=0, epoch=310]\n",
      "100%|██████████| 7/7 [00:00<00:00, 17.20it/s, avg_epoch_loss=0, epoch=311]\n",
      "100%|██████████| 7/7 [00:00<00:00, 16.38it/s, avg_epoch_loss=0, epoch=312]\n",
      "100%|██████████| 7/7 [00:00<00:00, 17.35it/s, avg_epoch_loss=0, epoch=313]\n",
      "100%|██████████| 7/7 [00:00<00:00, 13.02it/s, avg_epoch_loss=0, epoch=314]\n",
      "100%|██████████| 7/7 [00:00<00:00, 17.00it/s, avg_epoch_loss=0, epoch=315]\n",
      "100%|██████████| 7/7 [00:00<00:00, 15.05it/s, avg_epoch_loss=0, epoch=316]\n",
      "100%|██████████| 7/7 [00:00<00:00, 18.14it/s, avg_epoch_loss=0, epoch=317]\n",
      "100%|██████████| 7/7 [00:00<00:00, 17.22it/s, avg_epoch_loss=0, epoch=318]\n",
      "100%|██████████| 7/7 [00:00<00:00, 16.65it/s, avg_epoch_loss=0, epoch=319]\n",
      "100%|██████████| 7/7 [00:00<00:00, 14.27it/s, avg_epoch_loss=0, epoch=320]\n",
      "100%|██████████| 7/7 [00:00<00:00, 17.21it/s, avg_epoch_loss=0, epoch=321]\n",
      "100%|██████████| 7/7 [00:00<00:00, 12.84it/s, avg_epoch_loss=0, epoch=322]\n",
      "100%|██████████| 7/7 [00:00<00:00, 16.34it/s, avg_epoch_loss=0, epoch=323]\n",
      "100%|██████████| 7/7 [00:00<00:00, 17.72it/s, avg_epoch_loss=0, epoch=324]\n",
      "100%|██████████| 7/7 [00:00<00:00, 16.12it/s, avg_epoch_loss=0, epoch=325]\n",
      "100%|██████████| 7/7 [00:00<00:00, 16.12it/s, avg_epoch_loss=0, epoch=326]\n",
      "100%|██████████| 7/7 [00:00<00:00, 17.38it/s, avg_epoch_loss=0, epoch=327]\n",
      "100%|██████████| 7/7 [00:00<00:00, 15.83it/s, avg_epoch_loss=0, epoch=328]\n",
      "100%|██████████| 7/7 [00:00<00:00, 16.00it/s, avg_epoch_loss=0, epoch=329]\n",
      "100%|██████████| 7/7 [00:00<00:00, 17.37it/s, avg_epoch_loss=0, epoch=330]\n",
      "100%|██████████| 7/7 [00:00<00:00, 17.45it/s, avg_epoch_loss=0, epoch=331]\n",
      "100%|██████████| 7/7 [00:00<00:00, 17.30it/s, avg_epoch_loss=0, epoch=332]\n",
      "100%|██████████| 7/7 [00:00<00:00, 17.22it/s, avg_epoch_loss=0, epoch=333]\n",
      "100%|██████████| 7/7 [00:00<00:00, 16.02it/s, avg_epoch_loss=0, epoch=334]\n",
      "100%|██████████| 7/7 [00:00<00:00, 15.28it/s, avg_epoch_loss=0, epoch=335]\n",
      "100%|██████████| 7/7 [00:00<00:00, 15.10it/s, avg_epoch_loss=0, epoch=336]\n",
      "100%|██████████| 7/7 [00:00<00:00, 16.93it/s, avg_epoch_loss=0, epoch=337]\n",
      "100%|██████████| 7/7 [00:00<00:00, 16.68it/s, avg_epoch_loss=0, epoch=338]\n",
      "100%|██████████| 7/7 [00:00<00:00, 17.10it/s, avg_epoch_loss=0, epoch=339]\n",
      "100%|██████████| 7/7 [00:00<00:00, 16.27it/s, avg_epoch_loss=0, epoch=340]\n",
      "100%|██████████| 7/7 [00:00<00:00, 13.51it/s, avg_epoch_loss=0, epoch=341]\n",
      "100%|██████████| 7/7 [00:00<00:00, 16.18it/s, avg_epoch_loss=0, epoch=342]\n",
      "100%|██████████| 7/7 [00:00<00:00, 15.93it/s, avg_epoch_loss=0, epoch=343]\n",
      "100%|██████████| 7/7 [00:00<00:00, 12.58it/s, avg_epoch_loss=0, epoch=344]\n",
      "100%|██████████| 7/7 [00:00<00:00, 16.60it/s, avg_epoch_loss=0, epoch=345]\n",
      "100%|██████████| 7/7 [00:00<00:00, 17.20it/s, avg_epoch_loss=0, epoch=346]\n",
      "100%|██████████| 7/7 [00:00<00:00, 16.90it/s, avg_epoch_loss=0, epoch=347]\n",
      "100%|██████████| 7/7 [00:00<00:00, 14.25it/s, avg_epoch_loss=0, epoch=348]\n",
      "100%|██████████| 7/7 [00:00<00:00, 16.70it/s, avg_epoch_loss=0, epoch=349]\n"
     ]
    },
    {
     "name": "stdout",
     "output_type": "stream",
     "text": [
      "Start validation!!!\n",
      "Epoch: 349\n"
     ]
    },
    {
     "name": "stderr",
     "output_type": "stream",
     "text": [
      "100%|██████████| 2/2 [01:16<00:00, 38.23s/it]\n"
     ]
    },
    {
     "name": "stdout",
     "output_type": "stream",
     "text": [
      "====================================\n",
      "##### End evaluation!!\n",
      "PEHE VAL = 8.91e+03\n"
     ]
    },
    {
     "name": "stderr",
     "output_type": "stream",
     "text": [
      "100%|██████████| 7/7 [00:00<00:00, 16.86it/s, avg_epoch_loss=0, epoch=350]\n",
      "100%|██████████| 7/7 [00:00<00:00, 16.79it/s, avg_epoch_loss=0, epoch=351]\n",
      "100%|██████████| 7/7 [00:00<00:00, 18.39it/s, avg_epoch_loss=0, epoch=352]\n",
      "100%|██████████| 7/7 [00:00<00:00, 16.11it/s, avg_epoch_loss=0, epoch=353]\n",
      "100%|██████████| 7/7 [00:00<00:00, 17.12it/s, avg_epoch_loss=0, epoch=354]\n",
      "100%|██████████| 7/7 [00:00<00:00, 16.44it/s, avg_epoch_loss=0, epoch=355]\n",
      "100%|██████████| 7/7 [00:00<00:00, 16.72it/s, avg_epoch_loss=0, epoch=356]\n",
      "100%|██████████| 7/7 [00:00<00:00, 17.29it/s, avg_epoch_loss=0, epoch=357]\n",
      "100%|██████████| 7/7 [00:00<00:00, 15.37it/s, avg_epoch_loss=0, epoch=358]\n",
      "100%|██████████| 7/7 [00:00<00:00, 12.72it/s, avg_epoch_loss=0, epoch=359]\n",
      "100%|██████████| 7/7 [00:00<00:00, 15.81it/s, avg_epoch_loss=0, epoch=360]\n",
      "100%|██████████| 7/7 [00:00<00:00, 16.40it/s, avg_epoch_loss=0, epoch=361]\n",
      "100%|██████████| 7/7 [00:00<00:00, 16.63it/s, avg_epoch_loss=0, epoch=362]\n",
      "100%|██████████| 7/7 [00:00<00:00, 15.50it/s, avg_epoch_loss=0, epoch=363]\n",
      "100%|██████████| 7/7 [00:00<00:00, 16.82it/s, avg_epoch_loss=0, epoch=364]\n",
      "100%|██████████| 7/7 [00:00<00:00, 14.70it/s, avg_epoch_loss=0, epoch=365]\n",
      "100%|██████████| 7/7 [00:00<00:00, 13.39it/s, avg_epoch_loss=0, epoch=366]\n",
      "100%|██████████| 7/7 [00:00<00:00, 14.35it/s, avg_epoch_loss=0, epoch=367]\n",
      "100%|██████████| 7/7 [00:00<00:00, 15.64it/s, avg_epoch_loss=0, epoch=368]\n",
      "100%|██████████| 7/7 [00:00<00:00, 16.42it/s, avg_epoch_loss=0, epoch=369]\n",
      "100%|██████████| 7/7 [00:00<00:00, 18.54it/s, avg_epoch_loss=0, epoch=370]\n",
      "100%|██████████| 7/7 [00:00<00:00, 18.70it/s, avg_epoch_loss=0, epoch=371]\n",
      "100%|██████████| 7/7 [00:00<00:00, 17.15it/s, avg_epoch_loss=0, epoch=372]\n",
      "100%|██████████| 7/7 [00:00<00:00, 17.72it/s, avg_epoch_loss=0, epoch=373]\n",
      "100%|██████████| 7/7 [00:00<00:00, 16.32it/s, avg_epoch_loss=0, epoch=374]\n",
      "100%|██████████| 7/7 [00:00<00:00, 18.38it/s, avg_epoch_loss=0, epoch=375]\n",
      "100%|██████████| 7/7 [00:00<00:00, 17.21it/s, avg_epoch_loss=0, epoch=376]\n",
      "100%|██████████| 7/7 [00:00<00:00, 12.70it/s, avg_epoch_loss=0, epoch=377]\n",
      "100%|██████████| 7/7 [00:00<00:00, 12.54it/s, avg_epoch_loss=0, epoch=378]\n",
      "100%|██████████| 7/7 [00:00<00:00, 14.50it/s, avg_epoch_loss=0, epoch=379]\n",
      "100%|██████████| 7/7 [00:00<00:00, 13.74it/s, avg_epoch_loss=0, epoch=380]\n",
      "100%|██████████| 7/7 [00:00<00:00, 16.28it/s, avg_epoch_loss=0, epoch=381]\n",
      "100%|██████████| 7/7 [00:00<00:00, 15.94it/s, avg_epoch_loss=0, epoch=382]\n",
      "100%|██████████| 7/7 [00:00<00:00, 15.52it/s, avg_epoch_loss=0, epoch=383]\n",
      "100%|██████████| 7/7 [00:00<00:00, 11.77it/s, avg_epoch_loss=0, epoch=384]\n",
      "100%|██████████| 7/7 [00:00<00:00, 11.35it/s, avg_epoch_loss=0, epoch=385]\n",
      "100%|██████████| 7/7 [00:00<00:00, 13.19it/s, avg_epoch_loss=0, epoch=386]\n",
      "100%|██████████| 7/7 [00:00<00:00, 16.49it/s, avg_epoch_loss=0, epoch=387]\n",
      "100%|██████████| 7/7 [00:00<00:00, 10.90it/s, avg_epoch_loss=0, epoch=388]\n",
      "100%|██████████| 7/7 [00:00<00:00, 13.85it/s, avg_epoch_loss=0, epoch=389]\n",
      "100%|██████████| 7/7 [00:00<00:00, 13.73it/s, avg_epoch_loss=0, epoch=390]\n",
      "100%|██████████| 7/7 [00:00<00:00, 15.95it/s, avg_epoch_loss=0, epoch=391]\n",
      "100%|██████████| 7/7 [00:00<00:00, 17.52it/s, avg_epoch_loss=0, epoch=392]\n",
      "100%|██████████| 7/7 [00:00<00:00, 13.03it/s, avg_epoch_loss=0, epoch=393]\n",
      "100%|██████████| 7/7 [00:00<00:00, 14.19it/s, avg_epoch_loss=0, epoch=394]\n",
      "100%|██████████| 7/7 [00:00<00:00, 13.01it/s, avg_epoch_loss=0, epoch=395]\n",
      "100%|██████████| 7/7 [00:00<00:00, 11.57it/s, avg_epoch_loss=0, epoch=396]\n",
      "100%|██████████| 7/7 [00:00<00:00, 11.37it/s, avg_epoch_loss=0, epoch=397]\n",
      "100%|██████████| 7/7 [00:00<00:00, 13.58it/s, avg_epoch_loss=0, epoch=398]\n",
      "100%|██████████| 7/7 [00:00<00:00, 10.95it/s, avg_epoch_loss=0, epoch=399]\n"
     ]
    },
    {
     "name": "stdout",
     "output_type": "stream",
     "text": [
      "Start validation!!!\n",
      "Epoch: 399\n"
     ]
    },
    {
     "name": "stderr",
     "output_type": "stream",
     "text": [
      "100%|██████████| 2/2 [01:16<00:00, 38.13s/it]\n"
     ]
    },
    {
     "name": "stdout",
     "output_type": "stream",
     "text": [
      "====================================\n",
      "##### End evaluation!!\n",
      "PEHE VAL = 8.9e+03\n"
     ]
    },
    {
     "name": "stderr",
     "output_type": "stream",
     "text": [
      "100%|██████████| 7/7 [00:00<00:00, 13.22it/s, avg_epoch_loss=0, epoch=400]\n",
      "100%|██████████| 7/7 [00:00<00:00, 16.12it/s, avg_epoch_loss=0, epoch=401]\n",
      "100%|██████████| 7/7 [00:00<00:00, 16.14it/s, avg_epoch_loss=0, epoch=402]\n",
      "100%|██████████| 7/7 [00:00<00:00, 15.91it/s, avg_epoch_loss=0, epoch=403]\n",
      "100%|██████████| 7/7 [00:00<00:00, 16.13it/s, avg_epoch_loss=0, epoch=404]\n",
      "100%|██████████| 7/7 [00:00<00:00, 11.61it/s, avg_epoch_loss=0, epoch=405]\n",
      "100%|██████████| 7/7 [00:00<00:00, 14.94it/s, avg_epoch_loss=0, epoch=406]\n",
      "100%|██████████| 7/7 [00:00<00:00, 15.89it/s, avg_epoch_loss=0, epoch=407]\n",
      "100%|██████████| 7/7 [00:00<00:00, 17.80it/s, avg_epoch_loss=0, epoch=408]\n",
      "100%|██████████| 7/7 [00:00<00:00, 13.82it/s, avg_epoch_loss=0, epoch=409]\n",
      "100%|██████████| 7/7 [00:00<00:00, 16.04it/s, avg_epoch_loss=0, epoch=410]\n",
      "100%|██████████| 7/7 [00:00<00:00, 15.80it/s, avg_epoch_loss=0, epoch=411]\n",
      "100%|██████████| 7/7 [00:00<00:00, 16.09it/s, avg_epoch_loss=0, epoch=412]\n",
      "100%|██████████| 7/7 [00:00<00:00, 14.58it/s, avg_epoch_loss=0, epoch=413]\n",
      "100%|██████████| 7/7 [00:00<00:00, 12.79it/s, avg_epoch_loss=0, epoch=414]\n",
      "100%|██████████| 7/7 [00:00<00:00, 15.50it/s, avg_epoch_loss=0, epoch=415]\n",
      "100%|██████████| 7/7 [00:00<00:00, 14.71it/s, avg_epoch_loss=0, epoch=416]\n",
      "100%|██████████| 7/7 [00:00<00:00, 15.69it/s, avg_epoch_loss=0, epoch=417]\n",
      "100%|██████████| 7/7 [00:00<00:00, 15.60it/s, avg_epoch_loss=0, epoch=418]\n",
      "100%|██████████| 7/7 [00:00<00:00, 17.15it/s, avg_epoch_loss=0, epoch=419]\n",
      "100%|██████████| 7/7 [00:00<00:00, 14.94it/s, avg_epoch_loss=0, epoch=420]\n",
      "100%|██████████| 7/7 [00:00<00:00, 18.10it/s, avg_epoch_loss=0, epoch=421]\n",
      "100%|██████████| 7/7 [00:00<00:00, 18.76it/s, avg_epoch_loss=0, epoch=422]\n",
      "100%|██████████| 7/7 [00:00<00:00, 17.93it/s, avg_epoch_loss=0, epoch=423]\n",
      "100%|██████████| 7/7 [00:00<00:00, 18.98it/s, avg_epoch_loss=0, epoch=424]\n",
      "100%|██████████| 7/7 [00:00<00:00, 18.48it/s, avg_epoch_loss=0, epoch=425]\n",
      "100%|██████████| 7/7 [00:00<00:00, 18.50it/s, avg_epoch_loss=0, epoch=426]\n",
      "100%|██████████| 7/7 [00:00<00:00, 18.66it/s, avg_epoch_loss=0, epoch=427]\n",
      "100%|██████████| 7/7 [00:00<00:00, 18.60it/s, avg_epoch_loss=0, epoch=428]\n",
      "100%|██████████| 7/7 [00:00<00:00, 18.45it/s, avg_epoch_loss=0, epoch=429]\n",
      "100%|██████████| 7/7 [00:00<00:00, 18.97it/s, avg_epoch_loss=0, epoch=430]\n",
      "100%|██████████| 7/7 [00:00<00:00, 18.65it/s, avg_epoch_loss=0, epoch=431]\n",
      "100%|██████████| 7/7 [00:00<00:00, 18.58it/s, avg_epoch_loss=0, epoch=432]\n",
      "100%|██████████| 7/7 [00:00<00:00, 16.32it/s, avg_epoch_loss=0, epoch=433]\n",
      "100%|██████████| 7/7 [00:00<00:00, 16.62it/s, avg_epoch_loss=0, epoch=434]\n",
      "100%|██████████| 7/7 [00:00<00:00, 16.49it/s, avg_epoch_loss=0, epoch=435]\n",
      "100%|██████████| 7/7 [00:00<00:00, 17.47it/s, avg_epoch_loss=0, epoch=436]\n",
      "100%|██████████| 7/7 [00:00<00:00, 13.39it/s, avg_epoch_loss=0, epoch=437]\n",
      "100%|██████████| 7/7 [00:00<00:00, 14.01it/s, avg_epoch_loss=0, epoch=438]\n",
      "100%|██████████| 7/7 [00:00<00:00, 11.83it/s, avg_epoch_loss=0, epoch=439]\n",
      "100%|██████████| 7/7 [00:00<00:00, 13.13it/s, avg_epoch_loss=0, epoch=440]\n",
      "100%|██████████| 7/7 [00:00<00:00, 11.30it/s, avg_epoch_loss=0, epoch=441]\n",
      "100%|██████████| 7/7 [00:00<00:00, 10.95it/s, avg_epoch_loss=0, epoch=442]\n",
      "100%|██████████| 7/7 [00:00<00:00, 16.26it/s, avg_epoch_loss=0, epoch=443]\n",
      "100%|██████████| 7/7 [00:00<00:00, 12.87it/s, avg_epoch_loss=0, epoch=444]\n",
      "100%|██████████| 7/7 [00:00<00:00, 16.09it/s, avg_epoch_loss=0, epoch=445]\n",
      "100%|██████████| 7/7 [00:00<00:00, 17.29it/s, avg_epoch_loss=0, epoch=446]\n",
      "100%|██████████| 7/7 [00:00<00:00, 17.39it/s, avg_epoch_loss=0, epoch=447]\n",
      "100%|██████████| 7/7 [00:00<00:00, 17.46it/s, avg_epoch_loss=0, epoch=448]\n",
      "100%|██████████| 7/7 [00:00<00:00, 17.39it/s, avg_epoch_loss=0, epoch=449]\n"
     ]
    },
    {
     "name": "stdout",
     "output_type": "stream",
     "text": [
      "Start validation!!!\n",
      "Epoch: 449\n"
     ]
    },
    {
     "name": "stderr",
     "output_type": "stream",
     "text": [
      "100%|██████████| 2/2 [01:11<00:00, 35.71s/it]\n"
     ]
    },
    {
     "name": "stdout",
     "output_type": "stream",
     "text": [
      "====================================\n",
      "##### End evaluation!!\n",
      "PEHE VAL = 8.03e+03\n"
     ]
    },
    {
     "name": "stderr",
     "output_type": "stream",
     "text": [
      "100%|██████████| 7/7 [00:00<00:00, 14.84it/s, avg_epoch_loss=0, epoch=450]\n",
      "100%|██████████| 7/7 [00:00<00:00, 17.61it/s, avg_epoch_loss=0, epoch=451]\n",
      "100%|██████████| 7/7 [00:00<00:00, 18.10it/s, avg_epoch_loss=0, epoch=452]\n",
      "100%|██████████| 7/7 [00:00<00:00, 15.34it/s, avg_epoch_loss=0, epoch=453]\n",
      "100%|██████████| 7/7 [00:00<00:00, 17.41it/s, avg_epoch_loss=0, epoch=454]\n",
      "100%|██████████| 7/7 [00:00<00:00, 18.77it/s, avg_epoch_loss=0, epoch=455]\n",
      "100%|██████████| 7/7 [00:00<00:00, 18.81it/s, avg_epoch_loss=0, epoch=456]\n",
      "100%|██████████| 7/7 [00:00<00:00, 18.60it/s, avg_epoch_loss=0, epoch=457]\n",
      "100%|██████████| 7/7 [00:00<00:00, 19.02it/s, avg_epoch_loss=0, epoch=458]\n",
      "100%|██████████| 7/7 [00:00<00:00, 18.88it/s, avg_epoch_loss=0, epoch=459]\n",
      "100%|██████████| 7/7 [00:00<00:00, 18.67it/s, avg_epoch_loss=0, epoch=460]\n",
      "100%|██████████| 7/7 [00:00<00:00, 18.38it/s, avg_epoch_loss=0, epoch=461]\n",
      "100%|██████████| 7/7 [00:00<00:00, 18.59it/s, avg_epoch_loss=0, epoch=462]\n",
      "100%|██████████| 7/7 [00:00<00:00, 18.28it/s, avg_epoch_loss=0, epoch=463]\n",
      "100%|██████████| 7/7 [00:00<00:00, 14.80it/s, avg_epoch_loss=0, epoch=464]\n",
      "100%|██████████| 7/7 [00:00<00:00, 17.04it/s, avg_epoch_loss=0, epoch=465]\n",
      "100%|██████████| 7/7 [00:00<00:00, 18.24it/s, avg_epoch_loss=0, epoch=466]\n",
      "100%|██████████| 7/7 [00:00<00:00, 16.63it/s, avg_epoch_loss=0, epoch=467]\n",
      "100%|██████████| 7/7 [00:00<00:00, 16.15it/s, avg_epoch_loss=0, epoch=468]\n",
      "100%|██████████| 7/7 [00:00<00:00, 14.19it/s, avg_epoch_loss=0, epoch=469]\n",
      "100%|██████████| 7/7 [00:00<00:00, 17.77it/s, avg_epoch_loss=0, epoch=470]\n",
      "100%|██████████| 7/7 [00:00<00:00, 18.10it/s, avg_epoch_loss=0, epoch=471]\n",
      "100%|██████████| 7/7 [00:00<00:00, 16.88it/s, avg_epoch_loss=0, epoch=472]\n",
      "100%|██████████| 7/7 [00:00<00:00, 16.41it/s, avg_epoch_loss=0, epoch=473]\n",
      "100%|██████████| 7/7 [00:00<00:00, 16.77it/s, avg_epoch_loss=0, epoch=474]\n",
      "100%|██████████| 7/7 [00:00<00:00, 17.53it/s, avg_epoch_loss=0, epoch=475]\n",
      "100%|██████████| 7/7 [00:00<00:00, 16.76it/s, avg_epoch_loss=0, epoch=476]\n",
      "100%|██████████| 7/7 [00:00<00:00, 17.30it/s, avg_epoch_loss=0, epoch=477]\n",
      "100%|██████████| 7/7 [00:00<00:00, 17.77it/s, avg_epoch_loss=0, epoch=478]\n",
      "100%|██████████| 7/7 [00:00<00:00, 17.88it/s, avg_epoch_loss=0, epoch=479]\n",
      "100%|██████████| 7/7 [00:00<00:00, 17.97it/s, avg_epoch_loss=0, epoch=480]\n",
      "100%|██████████| 7/7 [00:00<00:00, 18.53it/s, avg_epoch_loss=0, epoch=481]\n",
      "100%|██████████| 7/7 [00:00<00:00, 18.55it/s, avg_epoch_loss=0, epoch=482]\n",
      "100%|██████████| 7/7 [00:00<00:00, 18.33it/s, avg_epoch_loss=0, epoch=483]\n",
      "100%|██████████| 7/7 [00:00<00:00, 15.79it/s, avg_epoch_loss=0, epoch=484]\n",
      "100%|██████████| 7/7 [00:00<00:00, 16.54it/s, avg_epoch_loss=0, epoch=485]\n",
      "100%|██████████| 7/7 [00:00<00:00, 15.26it/s, avg_epoch_loss=0, epoch=486]\n",
      "100%|██████████| 7/7 [00:00<00:00, 16.95it/s, avg_epoch_loss=0, epoch=487]\n",
      "100%|██████████| 7/7 [00:00<00:00, 17.01it/s, avg_epoch_loss=0, epoch=488]\n",
      "100%|██████████| 7/7 [00:00<00:00, 16.50it/s, avg_epoch_loss=0, epoch=489]\n",
      "100%|██████████| 7/7 [00:00<00:00, 16.96it/s, avg_epoch_loss=0, epoch=490]\n",
      "100%|██████████| 7/7 [00:00<00:00, 16.86it/s, avg_epoch_loss=0, epoch=491]\n",
      "100%|██████████| 7/7 [00:00<00:00, 17.84it/s, avg_epoch_loss=0, epoch=492]\n",
      "100%|██████████| 7/7 [00:00<00:00, 17.69it/s, avg_epoch_loss=0, epoch=493]\n",
      "100%|██████████| 7/7 [00:00<00:00, 17.26it/s, avg_epoch_loss=0, epoch=494]\n",
      "100%|██████████| 7/7 [00:00<00:00, 17.74it/s, avg_epoch_loss=0, epoch=495]\n",
      "100%|██████████| 7/7 [00:00<00:00, 17.14it/s, avg_epoch_loss=0, epoch=496]\n",
      "100%|██████████| 7/7 [00:00<00:00, 16.34it/s, avg_epoch_loss=0, epoch=497]\n",
      "100%|██████████| 7/7 [00:00<00:00, 15.98it/s, avg_epoch_loss=0, epoch=498]\n",
      "100%|██████████| 7/7 [00:00<00:00, 16.94it/s, avg_epoch_loss=0, epoch=499]\n"
     ]
    },
    {
     "name": "stdout",
     "output_type": "stream",
     "text": [
      "Start validation!!!\n",
      "Epoch: 499\n"
     ]
    },
    {
     "name": "stderr",
     "output_type": "stream",
     "text": [
      "100%|██████████| 2/2 [01:12<00:00, 36.46s/it]\n"
     ]
    },
    {
     "name": "stdout",
     "output_type": "stream",
     "text": [
      "====================================\n",
      "##### End evaluation!!\n",
      "PEHE VAL = 8.54e+03\n",
      "Training complete.\n",
      "Evaluating the model...\n"
     ]
    },
    {
     "name": "stderr",
     "output_type": "stream",
     "text": [
      "100%|██████████| 12/12 [13:52<00:00, 69.36s/it]\n",
      "GPU available: True (mps), used: False\n",
      "TPU available: False, using: 0 TPU cores\n",
      "HPU available: False, using: 0 HPUs\n",
      "\n",
      "  | Name           | Type        | Params | Mode \n",
      "-------------------------------------------------------\n",
      "0 | balancer       | Sequential  | 1.6 K  | train\n",
      "1 | prior_encoder0 | Sequential  | 0      | train\n",
      "2 | prior_encoder1 | Sequential  | 0      | train\n",
      "3 | cond_mean0     | Sequential  | 701    | train\n",
      "4 | cond_mean1     | Sequential  | 701    | train\n",
      "5 | cond_std0      | Sequential  | 701    | train\n",
      "6 | cond_std1      | Sequential  | 701    | train\n",
      "7 | flows0         | DSFMarginal | 892    | train\n",
      "8 | flows1         | DSFMarginal | 892    | train\n",
      "-------------------------------------------------------\n",
      "6.2 K     Trainable params\n",
      "0         Non-trainable params\n",
      "6.2 K     Total params\n",
      "0.025     Total estimated model params size (MB)\n",
      "45        Modules in train mode\n",
      "0         Modules in eval mode\n"
     ]
    },
    {
     "name": "stdout",
     "output_type": "stream",
     "text": [
      "Fit and evaluate NOFLITE ...\n"
     ]
    },
    {
     "data": {
      "application/vnd.jupyter.widget-view+json": {
       "model_id": "0ab5310192dd481fbf23d8dfa3849488",
       "version_major": 2,
       "version_minor": 0
      },
      "text/plain": [
       "Training: |          | 0/? [00:00<?, ?it/s]"
      ]
     },
     "metadata": {},
     "output_type": "display_data"
    },
    {
     "name": "stderr",
     "output_type": "stream",
     "text": [
      "`Trainer.fit` stopped: `max_steps=10000` reached.\n"
     ]
    },
    {
     "name": "stdout",
     "output_type": "stream",
     "text": [
      "|====================================================================================================|Fit and evaluate CCT-learner ...\n",
      "Fit and evaluate BART ...\n"
     ]
    },
    {
     "name": "stderr",
     "output_type": "stream",
     "text": [
      "Multiprocess sampling (4 chains in 4 jobs)\n",
      "PGBART: [mu]\n"
     ]
    },
    {
     "data": {
      "application/vnd.jupyter.widget-view+json": {
       "model_id": "5d2b6b30db894e269927a19f619bb73c",
       "version_major": 2,
       "version_minor": 0
      },
      "text/plain": [
       "Output()"
      ]
     },
     "metadata": {},
     "output_type": "display_data"
    },
    {
     "data": {
      "text/html": [
       "<pre style=\"white-space:pre;overflow-x:auto;line-height:normal;font-family:Menlo,'DejaVu Sans Mono',consolas,'Courier New',monospace\"></pre>\n"
      ],
      "text/plain": []
     },
     "metadata": {},
     "output_type": "display_data"
    },
    {
     "name": "stderr",
     "output_type": "stream",
     "text": [
      "Sampling 4 chains for 500 tune and 500 draw iterations (2_000 + 2_000 draws total) took 18 seconds.\n",
      "The rhat statistic is larger than 1.01 for some parameters. This indicates problems during sampling. See https://arxiv.org/abs/1903.08008 for details\n",
      "The effective sample size per chain is smaller than 100 for some parameters.  A higher number is needed for reliable rhat and ess computation. See https://arxiv.org/abs/1903.08008 for details\n",
      "Sampling: [mu, y]\n"
     ]
    },
    {
     "data": {
      "application/vnd.jupyter.widget-view+json": {
       "model_id": "d31463d9899a4f789a601aaf8f3857eb",
       "version_major": 2,
       "version_minor": 0
      },
      "text/plain": [
       "Output()"
      ]
     },
     "metadata": {},
     "output_type": "display_data"
    },
    {
     "name": "stdout",
     "output_type": "stream",
     "text": [
      "X_extended (3000, 11)\n"
     ]
    },
    {
     "data": {
      "text/html": [
       "<pre style=\"white-space:pre;overflow-x:auto;line-height:normal;font-family:Menlo,'DejaVu Sans Mono',consolas,'Courier New',monospace\"></pre>\n"
      ],
      "text/plain": []
     },
     "metadata": {},
     "output_type": "display_data"
    },
    {
     "name": "stderr",
     "output_type": "stream",
     "text": [
      "Sampling: [mu, y]\n"
     ]
    },
    {
     "data": {
      "application/vnd.jupyter.widget-view+json": {
       "model_id": "1f5b5f32f1fb4439886e44d0163bf054",
       "version_major": 2,
       "version_minor": 0
      },
      "text/plain": [
       "Output()"
      ]
     },
     "metadata": {},
     "output_type": "display_data"
    },
    {
     "data": {
      "text/html": [
       "<pre style=\"white-space:pre;overflow-x:auto;line-height:normal;font-family:Menlo,'DejaVu Sans Mono',consolas,'Courier New',monospace\"></pre>\n"
      ],
      "text/plain": []
     },
     "metadata": {},
     "output_type": "display_data"
    },
    {
     "name": "stderr",
     "output_type": "stream",
     "text": [
      "Sampling: [mu, y]\n"
     ]
    },
    {
     "data": {
      "application/vnd.jupyter.widget-view+json": {
       "model_id": "fe0d7d7708fa4296b6b933c5626d87aa",
       "version_major": 2,
       "version_minor": 0
      },
      "text/plain": [
       "Output()"
      ]
     },
     "metadata": {},
     "output_type": "display_data"
    },
    {
     "name": "stdout",
     "output_type": "stream",
     "text": [
      "X_extended (3000, 11)\n"
     ]
    },
    {
     "data": {
      "text/html": [
       "<pre style=\"white-space:pre;overflow-x:auto;line-height:normal;font-family:Menlo,'DejaVu Sans Mono',consolas,'Courier New',monospace\"></pre>\n"
      ],
      "text/plain": []
     },
     "metadata": {},
     "output_type": "display_data"
    },
    {
     "name": "stderr",
     "output_type": "stream",
     "text": [
      "Sampling: [mu, y]\n"
     ]
    },
    {
     "data": {
      "application/vnd.jupyter.widget-view+json": {
       "model_id": "044b82de9b3e433cb83a624af17ad449",
       "version_major": 2,
       "version_minor": 0
      },
      "text/plain": [
       "Output()"
      ]
     },
     "metadata": {},
     "output_type": "display_data"
    },
    {
     "data": {
      "text/html": [
       "<pre style=\"white-space:pre;overflow-x:auto;line-height:normal;font-family:Menlo,'DejaVu Sans Mono',consolas,'Courier New',monospace\"></pre>\n"
      ],
      "text/plain": []
     },
     "metadata": {},
     "output_type": "display_data"
    },
    {
     "name": "stdout",
     "output_type": "stream",
     "text": [
      "Fit and evaluate CMGP ...\n",
      "Fit and evaluate CEVAE ...\n",
      "Using cpu\n"
     ]
    },
    {
     "name": "stderr",
     "output_type": "stream",
     "text": [
      "100%|██████████| 7000/7000 [00:31<00:00, 224.34it/s]\n"
     ]
    },
    {
     "name": "stdout",
     "output_type": "stream",
     "text": [
      "Fit and evaluate FCCN ...\n"
     ]
    },
    {
     "name": "stderr",
     "output_type": "stream",
     "text": [
      "100%|██████████| 20000/20000 [01:56<00:00, 171.17it/s]\n"
     ]
    },
    {
     "name": "stdout",
     "output_type": "stream",
     "text": [
      "Fit and evaluate GANITE ...\n"
     ]
    },
    {
     "name": "stderr",
     "output_type": "stream",
     "text": [
      "Training Counterfactual GAN: 100%|██████████| 10000/10000 [08:18<00:00, 20.08it/s]\n",
      "Training ITE GAN: 100%|██████████| 10000/10000 [09:20<00:00, 17.84it/s]\n"
     ]
    },
    {
     "name": "stdout",
     "output_type": "stream",
     "text": [
      "Fit and evaluate DKLITE ...\n"
     ]
    },
    {
     "name": "stderr",
     "output_type": "stream",
     "text": [
      "  5%|▌         | 51/1000 [00:02<00:50, 18.75it/s]\n"
     ]
    },
    {
     "name": "stdout",
     "output_type": "stream",
     "text": [
      "Fit and evaluate diffpo ...\n"
     ]
    },
    {
     "name": "stderr",
     "output_type": "stream",
     "text": [
      "100%|██████████| 7/7 [00:00<00:00, 15.78it/s, avg_epoch_loss=0, epoch=0]\n",
      "100%|██████████| 7/7 [00:00<00:00, 17.28it/s, avg_epoch_loss=0, epoch=1]\n",
      "100%|██████████| 7/7 [00:00<00:00, 17.45it/s, avg_epoch_loss=0, epoch=2]\n",
      "100%|██████████| 7/7 [00:00<00:00, 15.57it/s, avg_epoch_loss=0, epoch=3]\n",
      "100%|██████████| 7/7 [00:00<00:00, 15.26it/s, avg_epoch_loss=0, epoch=4]\n",
      "100%|██████████| 7/7 [00:00<00:00, 16.17it/s, avg_epoch_loss=0, epoch=5]\n",
      "100%|██████████| 7/7 [00:00<00:00, 17.75it/s, avg_epoch_loss=0, epoch=6]\n",
      "100%|██████████| 7/7 [00:00<00:00, 14.51it/s, avg_epoch_loss=0, epoch=7]\n",
      "100%|██████████| 7/7 [00:00<00:00, 16.98it/s, avg_epoch_loss=0, epoch=8]\n",
      "100%|██████████| 7/7 [00:00<00:00, 16.45it/s, avg_epoch_loss=0, epoch=9]\n",
      "100%|██████████| 7/7 [00:00<00:00, 15.87it/s, avg_epoch_loss=0, epoch=10]\n",
      "100%|██████████| 7/7 [00:00<00:00, 17.18it/s, avg_epoch_loss=0, epoch=11]\n",
      "100%|██████████| 7/7 [00:00<00:00, 17.98it/s, avg_epoch_loss=0, epoch=12]\n",
      "100%|██████████| 7/7 [00:00<00:00, 17.74it/s, avg_epoch_loss=0, epoch=13]\n",
      "100%|██████████| 7/7 [00:00<00:00, 17.96it/s, avg_epoch_loss=0, epoch=14]\n",
      "100%|██████████| 7/7 [00:00<00:00, 18.08it/s, avg_epoch_loss=0, epoch=15]\n",
      "100%|██████████| 7/7 [00:00<00:00, 18.34it/s, avg_epoch_loss=0, epoch=16]\n",
      "100%|██████████| 7/7 [00:00<00:00, 17.08it/s, avg_epoch_loss=0, epoch=17]\n",
      "100%|██████████| 7/7 [00:00<00:00, 16.78it/s, avg_epoch_loss=0, epoch=18]\n",
      "100%|██████████| 7/7 [00:00<00:00, 18.12it/s, avg_epoch_loss=0, epoch=19]\n",
      "100%|██████████| 7/7 [00:00<00:00, 18.26it/s, avg_epoch_loss=0, epoch=20]\n",
      "100%|██████████| 7/7 [00:00<00:00, 14.60it/s, avg_epoch_loss=0, epoch=21]\n",
      "100%|██████████| 7/7 [00:00<00:00, 17.76it/s, avg_epoch_loss=0, epoch=22]\n",
      "100%|██████████| 7/7 [00:00<00:00, 17.72it/s, avg_epoch_loss=0, epoch=23]\n",
      "100%|██████████| 7/7 [00:00<00:00, 15.36it/s, avg_epoch_loss=0, epoch=24]\n",
      "100%|██████████| 7/7 [00:00<00:00, 17.87it/s, avg_epoch_loss=0, epoch=25]\n",
      "100%|██████████| 7/7 [00:00<00:00, 17.78it/s, avg_epoch_loss=0, epoch=26]\n",
      "100%|██████████| 7/7 [00:00<00:00, 18.24it/s, avg_epoch_loss=0, epoch=27]\n",
      "100%|██████████| 7/7 [00:00<00:00, 18.04it/s, avg_epoch_loss=0, epoch=28]\n",
      "100%|██████████| 7/7 [00:00<00:00, 17.61it/s, avg_epoch_loss=0, epoch=29]\n",
      "100%|██████████| 7/7 [00:00<00:00, 17.82it/s, avg_epoch_loss=0, epoch=30]\n",
      "100%|██████████| 7/7 [00:00<00:00, 18.03it/s, avg_epoch_loss=0, epoch=31]\n",
      "100%|██████████| 7/7 [00:00<00:00, 14.89it/s, avg_epoch_loss=0, epoch=32]\n",
      "100%|██████████| 7/7 [00:00<00:00, 10.54it/s, avg_epoch_loss=0, epoch=33]\n",
      "100%|██████████| 7/7 [00:00<00:00, 16.66it/s, avg_epoch_loss=0, epoch=34]\n",
      "100%|██████████| 7/7 [00:00<00:00, 16.16it/s, avg_epoch_loss=0, epoch=35]\n",
      "100%|██████████| 7/7 [00:00<00:00, 14.83it/s, avg_epoch_loss=0, epoch=36]\n",
      "100%|██████████| 7/7 [00:00<00:00, 14.73it/s, avg_epoch_loss=0, epoch=37]\n",
      "100%|██████████| 7/7 [00:00<00:00, 16.16it/s, avg_epoch_loss=0, epoch=38]\n",
      "100%|██████████| 7/7 [00:00<00:00, 17.69it/s, avg_epoch_loss=0, epoch=39]\n",
      "100%|██████████| 7/7 [00:00<00:00, 16.47it/s, avg_epoch_loss=0, epoch=40]\n",
      "100%|██████████| 7/7 [00:00<00:00, 17.58it/s, avg_epoch_loss=0, epoch=41]\n",
      "100%|██████████| 7/7 [00:00<00:00, 17.64it/s, avg_epoch_loss=0, epoch=42]\n",
      "100%|██████████| 7/7 [00:00<00:00, 18.28it/s, avg_epoch_loss=0, epoch=43]\n",
      "100%|██████████| 7/7 [00:00<00:00, 16.03it/s, avg_epoch_loss=0, epoch=44]\n",
      "100%|██████████| 7/7 [00:00<00:00, 14.89it/s, avg_epoch_loss=0, epoch=45]\n",
      "100%|██████████| 7/7 [00:00<00:00, 14.70it/s, avg_epoch_loss=0, epoch=46]\n",
      "100%|██████████| 7/7 [00:00<00:00, 15.37it/s, avg_epoch_loss=0, epoch=47]\n",
      "100%|██████████| 7/7 [00:00<00:00, 17.44it/s, avg_epoch_loss=0, epoch=48]\n",
      "100%|██████████| 7/7 [00:00<00:00, 18.17it/s, avg_epoch_loss=0, epoch=49]\n"
     ]
    },
    {
     "name": "stdout",
     "output_type": "stream",
     "text": [
      "Start validation!!!\n",
      "Epoch: 49\n"
     ]
    },
    {
     "name": "stderr",
     "output_type": "stream",
     "text": [
      "100%|██████████| 2/2 [00:59<00:00, 29.57s/it]\n"
     ]
    },
    {
     "name": "stdout",
     "output_type": "stream",
     "text": [
      "====================================\n",
      "##### End evaluation!!\n",
      "PEHE VAL = 8.1e+03\n"
     ]
    },
    {
     "name": "stderr",
     "output_type": "stream",
     "text": [
      "100%|██████████| 7/7 [00:00<00:00, 17.44it/s, avg_epoch_loss=0, epoch=50]\n",
      "100%|██████████| 7/7 [00:00<00:00, 17.51it/s, avg_epoch_loss=0, epoch=51]\n",
      "100%|██████████| 7/7 [00:00<00:00, 17.71it/s, avg_epoch_loss=0, epoch=52]\n",
      "100%|██████████| 7/7 [00:00<00:00, 16.36it/s, avg_epoch_loss=0, epoch=53]\n",
      "100%|██████████| 7/7 [00:00<00:00, 16.80it/s, avg_epoch_loss=0, epoch=54]\n",
      "100%|██████████| 7/7 [00:00<00:00, 17.47it/s, avg_epoch_loss=0, epoch=55]\n",
      "100%|██████████| 7/7 [00:00<00:00, 17.07it/s, avg_epoch_loss=0, epoch=56]\n",
      "100%|██████████| 7/7 [00:00<00:00, 16.72it/s, avg_epoch_loss=0, epoch=57]\n",
      "100%|██████████| 7/7 [00:00<00:00, 17.08it/s, avg_epoch_loss=0, epoch=58]\n",
      "100%|██████████| 7/7 [00:00<00:00, 17.54it/s, avg_epoch_loss=0, epoch=59]\n",
      "100%|██████████| 7/7 [00:00<00:00, 17.11it/s, avg_epoch_loss=0, epoch=60]\n",
      "100%|██████████| 7/7 [00:00<00:00, 16.46it/s, avg_epoch_loss=0, epoch=61]\n",
      "100%|██████████| 7/7 [00:00<00:00, 15.01it/s, avg_epoch_loss=0, epoch=62]\n",
      "100%|██████████| 7/7 [00:00<00:00, 18.38it/s, avg_epoch_loss=0, epoch=63]\n",
      "100%|██████████| 7/7 [00:00<00:00, 17.21it/s, avg_epoch_loss=0, epoch=64]\n",
      "100%|██████████| 7/7 [00:00<00:00, 18.40it/s, avg_epoch_loss=0, epoch=65]\n",
      "100%|██████████| 7/7 [00:00<00:00, 18.11it/s, avg_epoch_loss=0, epoch=66]\n",
      "100%|██████████| 7/7 [00:00<00:00, 18.80it/s, avg_epoch_loss=0, epoch=67]\n",
      "100%|██████████| 7/7 [00:00<00:00, 15.70it/s, avg_epoch_loss=0, epoch=68]\n",
      "100%|██████████| 7/7 [00:00<00:00, 11.71it/s, avg_epoch_loss=0, epoch=69]\n",
      "100%|██████████| 7/7 [00:00<00:00, 14.20it/s, avg_epoch_loss=0, epoch=70]\n",
      "100%|██████████| 7/7 [00:00<00:00, 17.77it/s, avg_epoch_loss=0, epoch=71]\n",
      "100%|██████████| 7/7 [00:00<00:00, 17.94it/s, avg_epoch_loss=0, epoch=72]\n",
      "100%|██████████| 7/7 [00:00<00:00, 18.35it/s, avg_epoch_loss=0, epoch=73]\n",
      "100%|██████████| 7/7 [00:00<00:00, 18.33it/s, avg_epoch_loss=0, epoch=74]\n",
      "100%|██████████| 7/7 [00:00<00:00, 18.61it/s, avg_epoch_loss=0, epoch=75]\n",
      "100%|██████████| 7/7 [00:00<00:00, 18.69it/s, avg_epoch_loss=0, epoch=76]\n",
      "100%|██████████| 7/7 [00:00<00:00, 14.58it/s, avg_epoch_loss=0, epoch=77]\n",
      "100%|██████████| 7/7 [00:00<00:00, 17.22it/s, avg_epoch_loss=0, epoch=78]\n",
      "100%|██████████| 7/7 [00:00<00:00, 17.01it/s, avg_epoch_loss=0, epoch=79]\n",
      "100%|██████████| 7/7 [00:00<00:00, 18.44it/s, avg_epoch_loss=0, epoch=80]\n",
      "100%|██████████| 7/7 [00:00<00:00, 18.55it/s, avg_epoch_loss=0, epoch=81]\n",
      "100%|██████████| 7/7 [00:00<00:00, 15.49it/s, avg_epoch_loss=0, epoch=82]\n",
      "100%|██████████| 7/7 [00:00<00:00, 18.69it/s, avg_epoch_loss=0, epoch=83]\n",
      "100%|██████████| 7/7 [00:00<00:00, 18.10it/s, avg_epoch_loss=0, epoch=84]\n",
      "100%|██████████| 7/7 [00:00<00:00, 17.01it/s, avg_epoch_loss=0, epoch=85]\n",
      "100%|██████████| 7/7 [00:00<00:00, 17.02it/s, avg_epoch_loss=0, epoch=86]\n",
      "100%|██████████| 7/7 [00:00<00:00, 15.21it/s, avg_epoch_loss=0, epoch=87]\n",
      "100%|██████████| 7/7 [00:00<00:00, 18.12it/s, avg_epoch_loss=0, epoch=88]\n",
      "100%|██████████| 7/7 [00:00<00:00, 17.99it/s, avg_epoch_loss=0, epoch=89]\n",
      "100%|██████████| 7/7 [00:00<00:00, 17.36it/s, avg_epoch_loss=0, epoch=90]\n",
      "100%|██████████| 7/7 [00:00<00:00, 18.37it/s, avg_epoch_loss=0, epoch=91]\n",
      "100%|██████████| 7/7 [00:00<00:00, 18.53it/s, avg_epoch_loss=0, epoch=92]\n",
      "100%|██████████| 7/7 [00:00<00:00, 15.40it/s, avg_epoch_loss=0, epoch=93]\n",
      "100%|██████████| 7/7 [00:00<00:00, 14.49it/s, avg_epoch_loss=0, epoch=94]\n",
      "100%|██████████| 7/7 [00:00<00:00, 18.10it/s, avg_epoch_loss=0, epoch=95]\n",
      "100%|██████████| 7/7 [00:00<00:00, 16.88it/s, avg_epoch_loss=0, epoch=96]\n",
      "100%|██████████| 7/7 [00:00<00:00, 18.80it/s, avg_epoch_loss=0, epoch=97]\n",
      "100%|██████████| 7/7 [00:00<00:00, 15.39it/s, avg_epoch_loss=0, epoch=98]\n",
      "100%|██████████| 7/7 [00:00<00:00, 18.44it/s, avg_epoch_loss=0, epoch=99]\n"
     ]
    },
    {
     "name": "stdout",
     "output_type": "stream",
     "text": [
      "Start validation!!!\n",
      "Epoch: 99\n"
     ]
    },
    {
     "name": "stderr",
     "output_type": "stream",
     "text": [
      "100%|██████████| 2/2 [00:58<00:00, 29.01s/it]\n"
     ]
    },
    {
     "name": "stdout",
     "output_type": "stream",
     "text": [
      "====================================\n",
      "##### End evaluation!!\n",
      "PEHE VAL = 8.29e+03\n"
     ]
    },
    {
     "name": "stderr",
     "output_type": "stream",
     "text": [
      "100%|██████████| 7/7 [00:00<00:00, 16.96it/s, avg_epoch_loss=0, epoch=100]\n",
      "100%|██████████| 7/7 [00:00<00:00, 17.60it/s, avg_epoch_loss=0, epoch=101]\n",
      "100%|██████████| 7/7 [00:00<00:00, 17.95it/s, avg_epoch_loss=0, epoch=102]\n",
      "100%|██████████| 7/7 [00:00<00:00, 18.41it/s, avg_epoch_loss=0, epoch=103]\n",
      "100%|██████████| 7/7 [00:00<00:00, 16.21it/s, avg_epoch_loss=0, epoch=104]\n",
      "100%|██████████| 7/7 [00:00<00:00, 17.44it/s, avg_epoch_loss=0, epoch=105]\n",
      "100%|██████████| 7/7 [00:00<00:00, 18.41it/s, avg_epoch_loss=0, epoch=106]\n",
      "100%|██████████| 7/7 [00:00<00:00, 18.35it/s, avg_epoch_loss=0, epoch=107]\n",
      "100%|██████████| 7/7 [00:00<00:00, 18.90it/s, avg_epoch_loss=0, epoch=108]\n",
      "100%|██████████| 7/7 [00:00<00:00, 16.69it/s, avg_epoch_loss=0, epoch=109]\n",
      "100%|██████████| 7/7 [00:00<00:00, 18.23it/s, avg_epoch_loss=0, epoch=110]\n",
      "100%|██████████| 7/7 [00:00<00:00, 14.95it/s, avg_epoch_loss=0, epoch=111]\n",
      "100%|██████████| 7/7 [00:00<00:00, 17.54it/s, avg_epoch_loss=0, epoch=112]\n",
      "100%|██████████| 7/7 [00:00<00:00, 18.73it/s, avg_epoch_loss=0, epoch=113]\n",
      "100%|██████████| 7/7 [00:00<00:00, 17.47it/s, avg_epoch_loss=0, epoch=114]\n",
      "100%|██████████| 7/7 [00:00<00:00, 18.95it/s, avg_epoch_loss=0, epoch=115]\n",
      "100%|██████████| 7/7 [00:00<00:00, 17.22it/s, avg_epoch_loss=0, epoch=116]\n",
      "100%|██████████| 7/7 [00:00<00:00, 18.63it/s, avg_epoch_loss=0, epoch=117]\n",
      "100%|██████████| 7/7 [00:00<00:00, 18.39it/s, avg_epoch_loss=0, epoch=118]\n",
      "100%|██████████| 7/7 [00:00<00:00, 15.77it/s, avg_epoch_loss=0, epoch=119]\n",
      "100%|██████████| 7/7 [00:00<00:00, 16.83it/s, avg_epoch_loss=0, epoch=120]\n",
      "100%|██████████| 7/7 [00:00<00:00, 18.83it/s, avg_epoch_loss=0, epoch=121]\n",
      "100%|██████████| 7/7 [00:00<00:00, 18.89it/s, avg_epoch_loss=0, epoch=122]\n",
      "100%|██████████| 7/7 [00:00<00:00, 15.67it/s, avg_epoch_loss=0, epoch=123]\n",
      "100%|██████████| 7/7 [00:00<00:00, 18.01it/s, avg_epoch_loss=0, epoch=124]\n",
      "100%|██████████| 7/7 [00:00<00:00, 18.64it/s, avg_epoch_loss=0, epoch=125]\n",
      "100%|██████████| 7/7 [00:00<00:00, 18.61it/s, avg_epoch_loss=0, epoch=126]\n",
      "100%|██████████| 7/7 [00:00<00:00, 18.91it/s, avg_epoch_loss=0, epoch=127]\n",
      "100%|██████████| 7/7 [00:00<00:00, 18.65it/s, avg_epoch_loss=0, epoch=128]\n",
      "100%|██████████| 7/7 [00:00<00:00, 19.18it/s, avg_epoch_loss=0, epoch=129]\n",
      "100%|██████████| 7/7 [00:00<00:00, 18.62it/s, avg_epoch_loss=0, epoch=130]\n",
      "100%|██████████| 7/7 [00:00<00:00, 18.74it/s, avg_epoch_loss=0, epoch=131]\n",
      "100%|██████████| 7/7 [00:00<00:00, 19.03it/s, avg_epoch_loss=0, epoch=132]\n",
      "100%|██████████| 7/7 [00:00<00:00, 18.89it/s, avg_epoch_loss=0, epoch=133]\n",
      "100%|██████████| 7/7 [00:00<00:00, 18.19it/s, avg_epoch_loss=0, epoch=134]\n",
      "100%|██████████| 7/7 [00:00<00:00, 18.19it/s, avg_epoch_loss=0, epoch=135]\n",
      "100%|██████████| 7/7 [00:00<00:00, 19.05it/s, avg_epoch_loss=0, epoch=136]\n",
      "100%|██████████| 7/7 [00:00<00:00, 18.74it/s, avg_epoch_loss=0, epoch=137]\n",
      "100%|██████████| 7/7 [00:00<00:00, 18.52it/s, avg_epoch_loss=0, epoch=138]\n",
      "100%|██████████| 7/7 [00:00<00:00, 18.60it/s, avg_epoch_loss=0, epoch=139]\n",
      "100%|██████████| 7/7 [00:00<00:00, 18.94it/s, avg_epoch_loss=0, epoch=140]\n",
      "100%|██████████| 7/7 [00:00<00:00, 18.76it/s, avg_epoch_loss=0, epoch=141]\n",
      "100%|██████████| 7/7 [00:00<00:00, 18.72it/s, avg_epoch_loss=0, epoch=142]\n",
      "100%|██████████| 7/7 [00:00<00:00, 15.51it/s, avg_epoch_loss=0, epoch=143]\n",
      "100%|██████████| 7/7 [00:00<00:00, 15.90it/s, avg_epoch_loss=0, epoch=144]\n",
      "100%|██████████| 7/7 [00:00<00:00, 18.78it/s, avg_epoch_loss=0, epoch=145]\n",
      "100%|██████████| 7/7 [00:00<00:00, 18.07it/s, avg_epoch_loss=0, epoch=146]\n",
      "100%|██████████| 7/7 [00:00<00:00, 18.50it/s, avg_epoch_loss=0, epoch=147]\n",
      "100%|██████████| 7/7 [00:00<00:00, 18.90it/s, avg_epoch_loss=0, epoch=148]\n",
      "100%|██████████| 7/7 [00:00<00:00, 13.69it/s, avg_epoch_loss=0, epoch=149]\n"
     ]
    },
    {
     "name": "stdout",
     "output_type": "stream",
     "text": [
      "Start validation!!!\n",
      "Epoch: 149\n"
     ]
    },
    {
     "name": "stderr",
     "output_type": "stream",
     "text": [
      "100%|██████████| 2/2 [02:19<00:00, 69.52s/it]\n"
     ]
    },
    {
     "name": "stdout",
     "output_type": "stream",
     "text": [
      "====================================\n",
      "##### End evaluation!!\n",
      "PEHE VAL = 8.48e+03\n"
     ]
    },
    {
     "name": "stderr",
     "output_type": "stream",
     "text": [
      "100%|██████████| 7/7 [00:00<00:00, 15.82it/s, avg_epoch_loss=0, epoch=150]\n",
      "100%|██████████| 7/7 [00:00<00:00, 16.93it/s, avg_epoch_loss=0, epoch=151]\n",
      "100%|██████████| 7/7 [00:00<00:00, 18.21it/s, avg_epoch_loss=0, epoch=152]\n",
      "100%|██████████| 7/7 [00:00<00:00, 18.19it/s, avg_epoch_loss=0, epoch=153]\n",
      "100%|██████████| 7/7 [00:00<00:00, 17.28it/s, avg_epoch_loss=0, epoch=154]\n",
      "100%|██████████| 7/7 [00:01<00:00,  5.33it/s, avg_epoch_loss=0, epoch=155]\n",
      "100%|██████████| 7/7 [00:00<00:00, 13.37it/s, avg_epoch_loss=0, epoch=156]\n",
      "100%|██████████| 7/7 [00:00<00:00, 17.96it/s, avg_epoch_loss=0, epoch=157]\n",
      "100%|██████████| 7/7 [00:00<00:00, 19.01it/s, avg_epoch_loss=0, epoch=158]\n",
      "100%|██████████| 7/7 [00:00<00:00, 19.29it/s, avg_epoch_loss=0, epoch=159]\n",
      "100%|██████████| 7/7 [00:00<00:00, 18.52it/s, avg_epoch_loss=0, epoch=160]\n",
      "100%|██████████| 7/7 [00:00<00:00, 17.22it/s, avg_epoch_loss=0, epoch=161]\n",
      "100%|██████████| 7/7 [00:00<00:00, 17.59it/s, avg_epoch_loss=0, epoch=162]\n",
      "100%|██████████| 7/7 [00:00<00:00, 17.31it/s, avg_epoch_loss=0, epoch=163]\n",
      "100%|██████████| 7/7 [00:00<00:00, 17.51it/s, avg_epoch_loss=0, epoch=164]\n",
      "100%|██████████| 7/7 [00:00<00:00, 17.11it/s, avg_epoch_loss=0, epoch=165]\n",
      "100%|██████████| 7/7 [00:00<00:00, 15.11it/s, avg_epoch_loss=0, epoch=166]\n",
      "100%|██████████| 7/7 [00:00<00:00, 17.46it/s, avg_epoch_loss=0, epoch=167]\n",
      "100%|██████████| 7/7 [00:00<00:00, 16.53it/s, avg_epoch_loss=0, epoch=168]\n",
      "100%|██████████| 7/7 [00:00<00:00, 18.52it/s, avg_epoch_loss=0, epoch=169]\n",
      "100%|██████████| 7/7 [00:00<00:00, 17.64it/s, avg_epoch_loss=0, epoch=170]\n",
      "100%|██████████| 7/7 [00:00<00:00, 17.34it/s, avg_epoch_loss=0, epoch=171]\n",
      "100%|██████████| 7/7 [00:00<00:00, 17.97it/s, avg_epoch_loss=0, epoch=172]\n",
      "100%|██████████| 7/7 [00:28<00:00,  4.07s/it, avg_epoch_loss=0, epoch=173]\n",
      "100%|██████████| 7/7 [00:00<00:00, 17.70it/s, avg_epoch_loss=0, epoch=174]\n",
      "100%|██████████| 7/7 [00:00<00:00,  8.65it/s, avg_epoch_loss=0, epoch=175]\n",
      "100%|██████████| 7/7 [00:00<00:00, 16.37it/s, avg_epoch_loss=0, epoch=176]\n",
      "100%|██████████| 7/7 [00:00<00:00, 16.90it/s, avg_epoch_loss=0, epoch=177]\n",
      "100%|██████████| 7/7 [00:00<00:00, 18.57it/s, avg_epoch_loss=0, epoch=178]\n",
      "100%|██████████| 7/7 [00:00<00:00, 18.90it/s, avg_epoch_loss=0, epoch=179]\n",
      "100%|██████████| 7/7 [00:00<00:00, 18.73it/s, avg_epoch_loss=0, epoch=180]\n",
      "100%|██████████| 7/7 [00:00<00:00, 16.13it/s, avg_epoch_loss=0, epoch=181]\n",
      "100%|██████████| 7/7 [00:00<00:00, 18.22it/s, avg_epoch_loss=0, epoch=182]\n",
      "100%|██████████| 7/7 [00:00<00:00, 18.75it/s, avg_epoch_loss=0, epoch=183]\n",
      "100%|██████████| 7/7 [00:00<00:00, 17.23it/s, avg_epoch_loss=0, epoch=184]\n",
      "100%|██████████| 7/7 [00:00<00:00, 16.84it/s, avg_epoch_loss=0, epoch=185]\n",
      "100%|██████████| 7/7 [00:00<00:00, 16.38it/s, avg_epoch_loss=0, epoch=186]\n",
      "100%|██████████| 7/7 [00:00<00:00, 18.54it/s, avg_epoch_loss=0, epoch=187]\n",
      "100%|██████████| 7/7 [00:00<00:00, 15.42it/s, avg_epoch_loss=0, epoch=188]\n",
      "100%|██████████| 7/7 [00:00<00:00, 18.63it/s, avg_epoch_loss=0, epoch=189]\n",
      "100%|██████████| 7/7 [00:00<00:00, 16.77it/s, avg_epoch_loss=0, epoch=190]\n",
      "100%|██████████| 7/7 [00:00<00:00, 16.60it/s, avg_epoch_loss=0, epoch=191]\n",
      "100%|██████████| 7/7 [00:00<00:00, 16.99it/s, avg_epoch_loss=0, epoch=192]\n",
      "100%|██████████| 7/7 [00:00<00:00, 16.90it/s, avg_epoch_loss=0, epoch=193]\n",
      "100%|██████████| 7/7 [00:00<00:00, 16.40it/s, avg_epoch_loss=0, epoch=194]\n",
      "100%|██████████| 7/7 [00:00<00:00, 16.65it/s, avg_epoch_loss=0, epoch=195]\n",
      "100%|██████████| 7/7 [00:00<00:00, 16.06it/s, avg_epoch_loss=0, epoch=196]\n",
      "100%|██████████| 7/7 [00:00<00:00, 15.83it/s, avg_epoch_loss=0, epoch=197]\n",
      "100%|██████████| 7/7 [00:00<00:00, 17.57it/s, avg_epoch_loss=0, epoch=198]\n",
      "100%|██████████| 7/7 [00:00<00:00, 16.84it/s, avg_epoch_loss=0, epoch=199]\n"
     ]
    },
    {
     "name": "stdout",
     "output_type": "stream",
     "text": [
      "Start validation!!!\n",
      "Epoch: 199\n"
     ]
    },
    {
     "name": "stderr",
     "output_type": "stream",
     "text": [
      "100%|██████████| 2/2 [20:55<00:00, 627.84s/it]\n"
     ]
    },
    {
     "name": "stdout",
     "output_type": "stream",
     "text": [
      "====================================\n",
      "##### End evaluation!!\n",
      "PEHE VAL = 8.64e+03\n"
     ]
    },
    {
     "name": "stderr",
     "output_type": "stream",
     "text": [
      "100%|██████████| 7/7 [00:00<00:00, 17.44it/s, avg_epoch_loss=0, epoch=200]\n",
      "100%|██████████| 7/7 [00:00<00:00, 18.44it/s, avg_epoch_loss=0, epoch=201]\n",
      "100%|██████████| 7/7 [00:00<00:00, 16.34it/s, avg_epoch_loss=0, epoch=202]\n",
      "100%|██████████| 7/7 [00:00<00:00, 19.14it/s, avg_epoch_loss=0, epoch=203]\n",
      "100%|██████████| 7/7 [00:00<00:00, 18.38it/s, avg_epoch_loss=0, epoch=204]\n",
      "100%|██████████| 7/7 [00:00<00:00, 17.71it/s, avg_epoch_loss=0, epoch=205]\n",
      "100%|██████████| 7/7 [00:00<00:00, 16.78it/s, avg_epoch_loss=0, epoch=206]\n",
      "100%|██████████| 7/7 [00:00<00:00, 14.98it/s, avg_epoch_loss=0, epoch=207]\n",
      "100%|██████████| 7/7 [00:00<00:00, 16.44it/s, avg_epoch_loss=0, epoch=208]\n",
      "100%|██████████| 7/7 [00:00<00:00, 18.34it/s, avg_epoch_loss=0, epoch=209]\n",
      "100%|██████████| 7/7 [00:00<00:00, 18.48it/s, avg_epoch_loss=0, epoch=210]\n",
      "100%|██████████| 7/7 [00:00<00:00, 18.58it/s, avg_epoch_loss=0, epoch=211]\n",
      "100%|██████████| 7/7 [00:00<00:00, 18.94it/s, avg_epoch_loss=0, epoch=212]\n",
      "100%|██████████| 7/7 [00:00<00:00, 15.01it/s, avg_epoch_loss=0, epoch=213]\n",
      "100%|██████████| 7/7 [00:00<00:00, 17.25it/s, avg_epoch_loss=0, epoch=214]\n",
      "100%|██████████| 7/7 [00:00<00:00, 16.19it/s, avg_epoch_loss=0, epoch=215]\n",
      "100%|██████████| 7/7 [00:00<00:00, 15.32it/s, avg_epoch_loss=0, epoch=216]\n",
      "100%|██████████| 7/7 [00:00<00:00, 15.94it/s, avg_epoch_loss=0, epoch=217]\n",
      "100%|██████████| 7/7 [00:00<00:00, 18.26it/s, avg_epoch_loss=0, epoch=218]\n",
      "100%|██████████| 7/7 [00:00<00:00, 19.13it/s, avg_epoch_loss=0, epoch=219]\n",
      "100%|██████████| 7/7 [00:00<00:00, 17.77it/s, avg_epoch_loss=0, epoch=220]\n",
      "100%|██████████| 7/7 [00:00<00:00, 16.54it/s, avg_epoch_loss=0, epoch=221]\n",
      "100%|██████████| 7/7 [00:00<00:00, 18.00it/s, avg_epoch_loss=0, epoch=222]\n",
      "100%|██████████| 7/7 [00:00<00:00, 17.76it/s, avg_epoch_loss=0, epoch=223]\n",
      "100%|██████████| 7/7 [00:00<00:00, 17.05it/s, avg_epoch_loss=0, epoch=224]\n",
      "100%|██████████| 7/7 [00:00<00:00, 18.61it/s, avg_epoch_loss=0, epoch=225]\n",
      "100%|██████████| 7/7 [00:00<00:00, 17.75it/s, avg_epoch_loss=0, epoch=226]\n",
      "100%|██████████| 7/7 [00:00<00:00, 18.98it/s, avg_epoch_loss=0, epoch=227]\n",
      "100%|██████████| 7/7 [00:00<00:00, 18.74it/s, avg_epoch_loss=0, epoch=228]\n",
      "100%|██████████| 7/7 [00:00<00:00, 18.52it/s, avg_epoch_loss=0, epoch=229]\n",
      "100%|██████████| 7/7 [00:00<00:00, 18.72it/s, avg_epoch_loss=0, epoch=230]\n",
      "100%|██████████| 7/7 [00:00<00:00, 18.71it/s, avg_epoch_loss=0, epoch=231]\n",
      "100%|██████████| 7/7 [00:00<00:00, 19.09it/s, avg_epoch_loss=0, epoch=232]\n",
      "100%|██████████| 7/7 [00:00<00:00, 18.88it/s, avg_epoch_loss=0, epoch=233]\n",
      "100%|██████████| 7/7 [00:00<00:00, 18.61it/s, avg_epoch_loss=0, epoch=234]\n",
      "100%|██████████| 7/7 [00:00<00:00, 19.06it/s, avg_epoch_loss=0, epoch=235]\n",
      "100%|██████████| 7/7 [00:00<00:00, 19.14it/s, avg_epoch_loss=0, epoch=236]\n",
      "100%|██████████| 7/7 [00:00<00:00, 18.85it/s, avg_epoch_loss=0, epoch=237]\n",
      "100%|██████████| 7/7 [00:00<00:00, 18.98it/s, avg_epoch_loss=0, epoch=238]\n",
      "100%|██████████| 7/7 [00:00<00:00, 19.44it/s, avg_epoch_loss=0, epoch=239]\n",
      "100%|██████████| 7/7 [00:00<00:00, 17.80it/s, avg_epoch_loss=0, epoch=240]\n",
      "100%|██████████| 7/7 [00:00<00:00, 18.36it/s, avg_epoch_loss=0, epoch=241]\n",
      "100%|██████████| 7/7 [00:00<00:00, 19.25it/s, avg_epoch_loss=0, epoch=242]\n",
      "100%|██████████| 7/7 [00:00<00:00, 18.83it/s, avg_epoch_loss=0, epoch=243]\n",
      "100%|██████████| 7/7 [00:00<00:00, 19.12it/s, avg_epoch_loss=0, epoch=244]\n",
      "100%|██████████| 7/7 [00:00<00:00, 19.28it/s, avg_epoch_loss=0, epoch=245]\n",
      "100%|██████████| 7/7 [00:00<00:00, 19.26it/s, avg_epoch_loss=0, epoch=246]\n",
      "100%|██████████| 7/7 [00:00<00:00, 19.46it/s, avg_epoch_loss=0, epoch=247]\n",
      "100%|██████████| 7/7 [00:00<00:00, 19.15it/s, avg_epoch_loss=0, epoch=248]\n",
      "100%|██████████| 7/7 [00:00<00:00, 15.36it/s, avg_epoch_loss=0, epoch=249]\n"
     ]
    },
    {
     "name": "stdout",
     "output_type": "stream",
     "text": [
      "Start validation!!!\n",
      "Epoch: 249\n"
     ]
    },
    {
     "name": "stderr",
     "output_type": "stream",
     "text": [
      "100%|██████████| 2/2 [00:57<00:00, 28.93s/it]\n"
     ]
    },
    {
     "name": "stdout",
     "output_type": "stream",
     "text": [
      "====================================\n",
      "##### End evaluation!!\n",
      "PEHE VAL = 8.31e+03\n"
     ]
    },
    {
     "name": "stderr",
     "output_type": "stream",
     "text": [
      "100%|██████████| 7/7 [00:00<00:00, 17.91it/s, avg_epoch_loss=0, epoch=250]\n",
      "100%|██████████| 7/7 [00:00<00:00, 17.70it/s, avg_epoch_loss=0, epoch=251]\n",
      "100%|██████████| 7/7 [00:00<00:00, 15.03it/s, avg_epoch_loss=0, epoch=252]\n",
      "100%|██████████| 7/7 [00:00<00:00, 17.28it/s, avg_epoch_loss=0, epoch=253]\n",
      "100%|██████████| 7/7 [00:00<00:00, 15.62it/s, avg_epoch_loss=0, epoch=254]\n",
      "100%|██████████| 7/7 [00:00<00:00, 17.19it/s, avg_epoch_loss=0, epoch=255]\n",
      "100%|██████████| 7/7 [00:00<00:00, 19.03it/s, avg_epoch_loss=0, epoch=256]\n",
      "100%|██████████| 7/7 [00:00<00:00, 16.83it/s, avg_epoch_loss=0, epoch=257]\n",
      "100%|██████████| 7/7 [00:00<00:00, 16.14it/s, avg_epoch_loss=0, epoch=258]\n",
      "100%|██████████| 7/7 [00:00<00:00, 17.20it/s, avg_epoch_loss=0, epoch=259]\n",
      "100%|██████████| 7/7 [00:00<00:00, 16.86it/s, avg_epoch_loss=0, epoch=260]\n",
      "100%|██████████| 7/7 [00:00<00:00, 18.17it/s, avg_epoch_loss=0, epoch=261]\n",
      "100%|██████████| 7/7 [00:00<00:00, 18.40it/s, avg_epoch_loss=0, epoch=262]\n",
      "100%|██████████| 7/7 [00:00<00:00, 17.34it/s, avg_epoch_loss=0, epoch=263]\n",
      "100%|██████████| 7/7 [00:00<00:00, 17.33it/s, avg_epoch_loss=0, epoch=264]\n",
      "100%|██████████| 7/7 [00:00<00:00, 18.28it/s, avg_epoch_loss=0, epoch=265]\n",
      "100%|██████████| 7/7 [00:00<00:00, 16.78it/s, avg_epoch_loss=0, epoch=266]\n",
      "100%|██████████| 7/7 [00:00<00:00, 16.65it/s, avg_epoch_loss=0, epoch=267]\n",
      "100%|██████████| 7/7 [00:00<00:00, 17.46it/s, avg_epoch_loss=0, epoch=268]\n",
      "100%|██████████| 7/7 [00:00<00:00, 17.41it/s, avg_epoch_loss=0, epoch=269]\n",
      "100%|██████████| 7/7 [00:00<00:00, 16.91it/s, avg_epoch_loss=0, epoch=270]\n",
      "100%|██████████| 7/7 [00:00<00:00, 17.77it/s, avg_epoch_loss=0, epoch=271]\n",
      "100%|██████████| 7/7 [00:00<00:00, 17.26it/s, avg_epoch_loss=0, epoch=272]\n",
      "100%|██████████| 7/7 [00:00<00:00, 17.43it/s, avg_epoch_loss=0, epoch=273]\n",
      "100%|██████████| 7/7 [00:00<00:00, 16.62it/s, avg_epoch_loss=0, epoch=274]\n",
      "100%|██████████| 7/7 [00:00<00:00, 17.85it/s, avg_epoch_loss=0, epoch=275]\n",
      "100%|██████████| 7/7 [00:00<00:00, 17.97it/s, avg_epoch_loss=0, epoch=276]\n",
      "100%|██████████| 7/7 [00:00<00:00, 18.58it/s, avg_epoch_loss=0, epoch=277]\n",
      "100%|██████████| 7/7 [00:00<00:00, 18.08it/s, avg_epoch_loss=0, epoch=278]\n",
      "100%|██████████| 7/7 [00:00<00:00, 18.44it/s, avg_epoch_loss=0, epoch=279]\n",
      "100%|██████████| 7/7 [00:00<00:00, 18.74it/s, avg_epoch_loss=0, epoch=280]\n",
      "100%|██████████| 7/7 [00:00<00:00, 18.64it/s, avg_epoch_loss=0, epoch=281]\n",
      "100%|██████████| 7/7 [00:00<00:00, 15.45it/s, avg_epoch_loss=0, epoch=282]\n",
      "100%|██████████| 7/7 [00:00<00:00, 18.21it/s, avg_epoch_loss=0, epoch=283]\n",
      "100%|██████████| 7/7 [00:00<00:00, 17.44it/s, avg_epoch_loss=0, epoch=284]\n",
      "100%|██████████| 7/7 [00:00<00:00, 18.04it/s, avg_epoch_loss=0, epoch=285]\n",
      "100%|██████████| 7/7 [00:00<00:00, 18.85it/s, avg_epoch_loss=0, epoch=286]\n",
      "100%|██████████| 7/7 [00:00<00:00, 17.00it/s, avg_epoch_loss=0, epoch=287]\n",
      "100%|██████████| 7/7 [00:00<00:00, 18.98it/s, avg_epoch_loss=0, epoch=288]\n",
      "100%|██████████| 7/7 [00:00<00:00, 18.29it/s, avg_epoch_loss=0, epoch=289]\n",
      "100%|██████████| 7/7 [00:00<00:00, 18.92it/s, avg_epoch_loss=0, epoch=290]\n",
      "100%|██████████| 7/7 [00:00<00:00, 19.17it/s, avg_epoch_loss=0, epoch=291]\n",
      "100%|██████████| 7/7 [00:00<00:00, 19.01it/s, avg_epoch_loss=0, epoch=292]\n",
      "100%|██████████| 7/7 [00:00<00:00, 18.65it/s, avg_epoch_loss=0, epoch=293]\n",
      "100%|██████████| 7/7 [00:00<00:00, 17.39it/s, avg_epoch_loss=0, epoch=294]\n",
      "100%|██████████| 7/7 [00:00<00:00, 19.19it/s, avg_epoch_loss=0, epoch=295]\n",
      "100%|██████████| 7/7 [00:00<00:00, 18.54it/s, avg_epoch_loss=0, epoch=296]\n",
      "100%|██████████| 7/7 [00:00<00:00, 17.52it/s, avg_epoch_loss=0, epoch=297]\n",
      "100%|██████████| 7/7 [00:00<00:00, 19.05it/s, avg_epoch_loss=0, epoch=298]\n",
      "100%|██████████| 7/7 [00:00<00:00, 18.88it/s, avg_epoch_loss=0, epoch=299]\n"
     ]
    },
    {
     "name": "stdout",
     "output_type": "stream",
     "text": [
      "Start validation!!!\n",
      "Epoch: 299\n"
     ]
    },
    {
     "name": "stderr",
     "output_type": "stream",
     "text": [
      "100%|██████████| 2/2 [01:00<00:00, 30.16s/it]\n"
     ]
    },
    {
     "name": "stdout",
     "output_type": "stream",
     "text": [
      "====================================\n",
      "##### End evaluation!!\n",
      "PEHE VAL = 8.37e+03\n"
     ]
    },
    {
     "name": "stderr",
     "output_type": "stream",
     "text": [
      "100%|██████████| 7/7 [00:00<00:00, 15.86it/s, avg_epoch_loss=0, epoch=300]\n",
      "100%|██████████| 7/7 [00:00<00:00, 16.29it/s, avg_epoch_loss=0, epoch=301]\n",
      "100%|██████████| 7/7 [00:00<00:00, 16.28it/s, avg_epoch_loss=0, epoch=302]\n",
      "100%|██████████| 7/7 [00:00<00:00, 15.28it/s, avg_epoch_loss=0, epoch=303]\n",
      "100%|██████████| 7/7 [00:00<00:00, 13.09it/s, avg_epoch_loss=0, epoch=304]\n",
      "100%|██████████| 7/7 [00:00<00:00, 14.33it/s, avg_epoch_loss=0, epoch=305]\n",
      "100%|██████████| 7/7 [00:00<00:00, 17.91it/s, avg_epoch_loss=0, epoch=306]\n",
      "100%|██████████| 7/7 [00:00<00:00, 17.21it/s, avg_epoch_loss=0, epoch=307]\n",
      "100%|██████████| 7/7 [00:00<00:00, 18.02it/s, avg_epoch_loss=0, epoch=308]\n",
      "100%|██████████| 7/7 [00:00<00:00, 14.42it/s, avg_epoch_loss=0, epoch=309]\n",
      "100%|██████████| 7/7 [00:00<00:00, 18.31it/s, avg_epoch_loss=0, epoch=310]\n",
      "100%|██████████| 7/7 [00:00<00:00, 15.54it/s, avg_epoch_loss=0, epoch=311]\n",
      "100%|██████████| 7/7 [00:00<00:00, 12.31it/s, avg_epoch_loss=0, epoch=312]\n",
      "100%|██████████| 7/7 [00:00<00:00, 16.08it/s, avg_epoch_loss=0, epoch=313]\n",
      "100%|██████████| 7/7 [00:00<00:00, 17.46it/s, avg_epoch_loss=0, epoch=314]\n",
      "100%|██████████| 7/7 [00:00<00:00, 18.35it/s, avg_epoch_loss=0, epoch=315]\n",
      "100%|██████████| 7/7 [00:00<00:00, 17.15it/s, avg_epoch_loss=0, epoch=316]\n",
      "100%|██████████| 7/7 [00:00<00:00, 15.92it/s, avg_epoch_loss=0, epoch=317]\n",
      "100%|██████████| 7/7 [00:00<00:00, 18.71it/s, avg_epoch_loss=0, epoch=318]\n",
      "100%|██████████| 7/7 [00:00<00:00, 18.74it/s, avg_epoch_loss=0, epoch=319]\n",
      "100%|██████████| 7/7 [00:00<00:00, 18.44it/s, avg_epoch_loss=0, epoch=320]\n",
      "100%|██████████| 7/7 [00:00<00:00, 18.79it/s, avg_epoch_loss=0, epoch=321]\n",
      "100%|██████████| 7/7 [00:00<00:00, 18.59it/s, avg_epoch_loss=0, epoch=322]\n",
      "100%|██████████| 7/7 [00:00<00:00, 18.93it/s, avg_epoch_loss=0, epoch=323]\n",
      "100%|██████████| 7/7 [00:00<00:00, 18.48it/s, avg_epoch_loss=0, epoch=324]\n",
      "100%|██████████| 7/7 [00:00<00:00, 16.43it/s, avg_epoch_loss=0, epoch=325]\n",
      "100%|██████████| 7/7 [00:00<00:00, 17.48it/s, avg_epoch_loss=0, epoch=326]\n",
      "100%|██████████| 7/7 [00:00<00:00, 18.10it/s, avg_epoch_loss=0, epoch=327]\n",
      "100%|██████████| 7/7 [00:00<00:00, 18.66it/s, avg_epoch_loss=0, epoch=328]\n",
      "100%|██████████| 7/7 [00:00<00:00, 13.83it/s, avg_epoch_loss=0, epoch=329]\n",
      "100%|██████████| 7/7 [00:00<00:00, 16.31it/s, avg_epoch_loss=0, epoch=330]\n",
      "100%|██████████| 7/7 [00:00<00:00, 14.55it/s, avg_epoch_loss=0, epoch=331]\n",
      "100%|██████████| 7/7 [00:00<00:00, 12.43it/s, avg_epoch_loss=0, epoch=332]\n",
      "100%|██████████| 7/7 [00:00<00:00, 16.86it/s, avg_epoch_loss=0, epoch=333]\n",
      "100%|██████████| 7/7 [00:00<00:00, 15.96it/s, avg_epoch_loss=0, epoch=334]\n",
      "100%|██████████| 7/7 [00:00<00:00, 15.38it/s, avg_epoch_loss=0, epoch=335]\n",
      "100%|██████████| 7/7 [00:00<00:00, 16.51it/s, avg_epoch_loss=0, epoch=336]\n",
      "100%|██████████| 7/7 [00:00<00:00, 17.31it/s, avg_epoch_loss=0, epoch=337]\n",
      "100%|██████████| 7/7 [00:00<00:00, 18.03it/s, avg_epoch_loss=0, epoch=338]\n",
      "100%|██████████| 7/7 [00:00<00:00, 15.36it/s, avg_epoch_loss=0, epoch=339]\n",
      "100%|██████████| 7/7 [00:00<00:00, 18.85it/s, avg_epoch_loss=0, epoch=340]\n",
      "100%|██████████| 7/7 [00:00<00:00, 17.40it/s, avg_epoch_loss=0, epoch=341]\n",
      "100%|██████████| 7/7 [00:00<00:00, 18.56it/s, avg_epoch_loss=0, epoch=342]\n",
      "100%|██████████| 7/7 [00:00<00:00, 18.05it/s, avg_epoch_loss=0, epoch=343]\n",
      "100%|██████████| 7/7 [00:00<00:00, 16.30it/s, avg_epoch_loss=0, epoch=344]\n",
      "100%|██████████| 7/7 [00:00<00:00, 18.45it/s, avg_epoch_loss=0, epoch=345]\n",
      "100%|██████████| 7/7 [00:00<00:00, 16.06it/s, avg_epoch_loss=0, epoch=346]\n",
      "100%|██████████| 7/7 [00:00<00:00, 17.01it/s, avg_epoch_loss=0, epoch=347]\n",
      "100%|██████████| 7/7 [00:00<00:00, 16.94it/s, avg_epoch_loss=0, epoch=348]\n",
      "100%|██████████| 7/7 [00:00<00:00, 18.45it/s, avg_epoch_loss=0, epoch=349]\n"
     ]
    },
    {
     "name": "stdout",
     "output_type": "stream",
     "text": [
      "Start validation!!!\n",
      "Epoch: 349\n"
     ]
    },
    {
     "name": "stderr",
     "output_type": "stream",
     "text": [
      "100%|██████████| 2/2 [00:59<00:00, 29.73s/it]\n"
     ]
    },
    {
     "name": "stdout",
     "output_type": "stream",
     "text": [
      "====================================\n",
      "##### End evaluation!!\n",
      "PEHE VAL = 8.91e+03\n"
     ]
    },
    {
     "name": "stderr",
     "output_type": "stream",
     "text": [
      "100%|██████████| 7/7 [00:00<00:00, 14.89it/s, avg_epoch_loss=0, epoch=350]\n",
      "100%|██████████| 7/7 [00:00<00:00, 17.00it/s, avg_epoch_loss=0, epoch=351]\n",
      "100%|██████████| 7/7 [00:00<00:00, 17.03it/s, avg_epoch_loss=0, epoch=352]\n",
      "100%|██████████| 7/7 [00:00<00:00, 18.17it/s, avg_epoch_loss=0, epoch=353]\n",
      "100%|██████████| 7/7 [00:00<00:00, 18.09it/s, avg_epoch_loss=0, epoch=354]\n",
      "100%|██████████| 7/7 [00:00<00:00, 14.74it/s, avg_epoch_loss=0, epoch=355]\n",
      "100%|██████████| 7/7 [00:00<00:00, 18.11it/s, avg_epoch_loss=0, epoch=356]\n",
      "100%|██████████| 7/7 [00:00<00:00, 18.27it/s, avg_epoch_loss=0, epoch=357]\n",
      "100%|██████████| 7/7 [00:00<00:00, 18.12it/s, avg_epoch_loss=0, epoch=358]\n",
      "100%|██████████| 7/7 [00:00<00:00, 18.79it/s, avg_epoch_loss=0, epoch=359]\n",
      "100%|██████████| 7/7 [00:00<00:00, 19.18it/s, avg_epoch_loss=0, epoch=360]\n",
      "100%|██████████| 7/7 [00:00<00:00, 19.01it/s, avg_epoch_loss=0, epoch=361]\n",
      "100%|██████████| 7/7 [00:00<00:00, 18.86it/s, avg_epoch_loss=0, epoch=362]\n",
      "100%|██████████| 7/7 [00:00<00:00, 14.38it/s, avg_epoch_loss=0, epoch=363]\n",
      "100%|██████████| 7/7 [00:00<00:00, 16.58it/s, avg_epoch_loss=0, epoch=364]\n",
      "100%|██████████| 7/7 [00:00<00:00, 17.49it/s, avg_epoch_loss=0, epoch=365]\n",
      "100%|██████████| 7/7 [00:00<00:00, 16.95it/s, avg_epoch_loss=0, epoch=366]\n",
      "100%|██████████| 7/7 [00:00<00:00, 17.80it/s, avg_epoch_loss=0, epoch=367]\n",
      "100%|██████████| 7/7 [00:00<00:00, 18.67it/s, avg_epoch_loss=0, epoch=368]\n",
      "100%|██████████| 7/7 [00:00<00:00, 18.38it/s, avg_epoch_loss=0, epoch=369]\n",
      "100%|██████████| 7/7 [00:00<00:00, 18.77it/s, avg_epoch_loss=0, epoch=370]\n",
      "100%|██████████| 7/7 [00:00<00:00, 18.57it/s, avg_epoch_loss=0, epoch=371]\n",
      "100%|██████████| 7/7 [00:00<00:00, 18.27it/s, avg_epoch_loss=0, epoch=372]\n",
      "100%|██████████| 7/7 [00:00<00:00, 17.39it/s, avg_epoch_loss=0, epoch=373]\n",
      "100%|██████████| 7/7 [00:00<00:00, 18.84it/s, avg_epoch_loss=0, epoch=374]\n",
      "100%|██████████| 7/7 [00:00<00:00, 18.29it/s, avg_epoch_loss=0, epoch=375]\n",
      "100%|██████████| 7/7 [00:00<00:00, 18.15it/s, avg_epoch_loss=0, epoch=376]\n",
      "100%|██████████| 7/7 [00:00<00:00, 17.91it/s, avg_epoch_loss=0, epoch=377]\n",
      "100%|██████████| 7/7 [00:00<00:00, 17.61it/s, avg_epoch_loss=0, epoch=378]\n",
      "100%|██████████| 7/7 [00:00<00:00, 18.72it/s, avg_epoch_loss=0, epoch=379]\n",
      "100%|██████████| 7/7 [00:00<00:00, 18.77it/s, avg_epoch_loss=0, epoch=380]\n",
      "100%|██████████| 7/7 [00:00<00:00, 14.11it/s, avg_epoch_loss=0, epoch=381]\n",
      "100%|██████████| 7/7 [00:00<00:00, 17.41it/s, avg_epoch_loss=0, epoch=382]\n",
      "100%|██████████| 7/7 [00:00<00:00, 18.12it/s, avg_epoch_loss=0, epoch=383]\n",
      "100%|██████████| 7/7 [00:00<00:00, 18.13it/s, avg_epoch_loss=0, epoch=384]\n",
      "100%|██████████| 7/7 [00:00<00:00, 18.86it/s, avg_epoch_loss=0, epoch=385]\n",
      "100%|██████████| 7/7 [00:00<00:00, 17.88it/s, avg_epoch_loss=0, epoch=386]\n",
      "100%|██████████| 7/7 [00:00<00:00, 18.76it/s, avg_epoch_loss=0, epoch=387]\n",
      "100%|██████████| 7/7 [00:00<00:00, 18.86it/s, avg_epoch_loss=0, epoch=388]\n",
      "100%|██████████| 7/7 [00:00<00:00, 18.96it/s, avg_epoch_loss=0, epoch=389]\n",
      "100%|██████████| 7/7 [00:00<00:00, 19.04it/s, avg_epoch_loss=0, epoch=390]\n",
      "100%|██████████| 7/7 [00:00<00:00, 18.96it/s, avg_epoch_loss=0, epoch=391]\n",
      "100%|██████████| 7/7 [00:00<00:00, 18.98it/s, avg_epoch_loss=0, epoch=392]\n",
      "100%|██████████| 7/7 [00:00<00:00, 18.53it/s, avg_epoch_loss=0, epoch=393]\n",
      "100%|██████████| 7/7 [00:00<00:00, 19.07it/s, avg_epoch_loss=0, epoch=394]\n",
      "100%|██████████| 7/7 [00:00<00:00, 18.92it/s, avg_epoch_loss=0, epoch=395]\n",
      "100%|██████████| 7/7 [00:00<00:00, 18.99it/s, avg_epoch_loss=0, epoch=396]\n",
      "100%|██████████| 7/7 [00:00<00:00, 16.36it/s, avg_epoch_loss=0, epoch=397]\n",
      "100%|██████████| 7/7 [00:00<00:00, 18.07it/s, avg_epoch_loss=0, epoch=398]\n",
      "100%|██████████| 7/7 [00:00<00:00, 18.73it/s, avg_epoch_loss=0, epoch=399]\n"
     ]
    },
    {
     "name": "stdout",
     "output_type": "stream",
     "text": [
      "Start validation!!!\n",
      "Epoch: 399\n"
     ]
    },
    {
     "name": "stderr",
     "output_type": "stream",
     "text": [
      "100%|██████████| 2/2 [00:59<00:00, 29.85s/it]\n"
     ]
    },
    {
     "name": "stdout",
     "output_type": "stream",
     "text": [
      "====================================\n",
      "##### End evaluation!!\n",
      "PEHE VAL = 8.9e+03\n"
     ]
    },
    {
     "name": "stderr",
     "output_type": "stream",
     "text": [
      "100%|██████████| 7/7 [00:00<00:00, 14.94it/s, avg_epoch_loss=0, epoch=400]\n",
      "100%|██████████| 7/7 [00:00<00:00, 18.42it/s, avg_epoch_loss=0, epoch=401]\n",
      "100%|██████████| 7/7 [00:00<00:00, 14.54it/s, avg_epoch_loss=0, epoch=402]\n",
      "100%|██████████| 7/7 [00:00<00:00, 17.42it/s, avg_epoch_loss=0, epoch=403]\n",
      "100%|██████████| 7/7 [00:00<00:00, 17.61it/s, avg_epoch_loss=0, epoch=404]\n",
      "100%|██████████| 7/7 [00:00<00:00, 14.81it/s, avg_epoch_loss=0, epoch=405]\n",
      "100%|██████████| 7/7 [00:00<00:00, 14.14it/s, avg_epoch_loss=0, epoch=406]\n",
      "100%|██████████| 7/7 [00:00<00:00, 14.24it/s, avg_epoch_loss=0, epoch=407]\n",
      "100%|██████████| 7/7 [00:00<00:00, 15.44it/s, avg_epoch_loss=0, epoch=408]\n",
      "100%|██████████| 7/7 [00:00<00:00, 11.86it/s, avg_epoch_loss=0, epoch=409]\n",
      "100%|██████████| 7/7 [00:00<00:00, 11.37it/s, avg_epoch_loss=0, epoch=410]\n",
      "100%|██████████| 7/7 [00:00<00:00, 16.12it/s, avg_epoch_loss=0, epoch=411]\n",
      "100%|██████████| 7/7 [00:00<00:00, 16.23it/s, avg_epoch_loss=0, epoch=412]\n",
      "100%|██████████| 7/7 [00:00<00:00, 15.86it/s, avg_epoch_loss=0, epoch=413]\n",
      "100%|██████████| 7/7 [00:00<00:00, 13.99it/s, avg_epoch_loss=0, epoch=414]\n",
      "100%|██████████| 7/7 [00:00<00:00, 16.35it/s, avg_epoch_loss=0, epoch=415]\n",
      "100%|██████████| 7/7 [00:00<00:00, 16.07it/s, avg_epoch_loss=0, epoch=416]\n",
      "100%|██████████| 7/7 [00:00<00:00, 16.50it/s, avg_epoch_loss=0, epoch=417]\n",
      "100%|██████████| 7/7 [00:00<00:00, 15.09it/s, avg_epoch_loss=0, epoch=418]\n",
      "100%|██████████| 7/7 [00:00<00:00, 18.02it/s, avg_epoch_loss=0, epoch=419]\n",
      "100%|██████████| 7/7 [00:00<00:00, 15.25it/s, avg_epoch_loss=0, epoch=420]\n",
      "100%|██████████| 7/7 [00:00<00:00, 17.99it/s, avg_epoch_loss=0, epoch=421]\n",
      "100%|██████████| 7/7 [00:00<00:00, 17.65it/s, avg_epoch_loss=0, epoch=422]\n",
      "100%|██████████| 7/7 [00:00<00:00, 17.06it/s, avg_epoch_loss=0, epoch=423]\n",
      "100%|██████████| 7/7 [00:00<00:00, 17.15it/s, avg_epoch_loss=0, epoch=424]\n",
      "100%|██████████| 7/7 [00:00<00:00, 14.12it/s, avg_epoch_loss=0, epoch=425]\n",
      "100%|██████████| 7/7 [00:00<00:00, 14.98it/s, avg_epoch_loss=0, epoch=426]\n",
      "100%|██████████| 7/7 [00:00<00:00, 16.54it/s, avg_epoch_loss=0, epoch=427]\n",
      "100%|██████████| 7/7 [00:00<00:00, 16.58it/s, avg_epoch_loss=0, epoch=428]\n",
      "100%|██████████| 7/7 [00:00<00:00, 17.05it/s, avg_epoch_loss=0, epoch=429]\n",
      "100%|██████████| 7/7 [00:00<00:00, 16.67it/s, avg_epoch_loss=0, epoch=430]\n",
      "100%|██████████| 7/7 [00:00<00:00, 16.86it/s, avg_epoch_loss=0, epoch=431]\n",
      "100%|██████████| 7/7 [00:00<00:00, 15.19it/s, avg_epoch_loss=0, epoch=432]\n",
      "100%|██████████| 7/7 [00:00<00:00, 16.91it/s, avg_epoch_loss=0, epoch=433]\n",
      "100%|██████████| 7/7 [00:00<00:00, 16.92it/s, avg_epoch_loss=0, epoch=434]\n",
      "100%|██████████| 7/7 [00:00<00:00, 17.26it/s, avg_epoch_loss=0, epoch=435]\n",
      "100%|██████████| 7/7 [00:00<00:00, 18.79it/s, avg_epoch_loss=0, epoch=436]\n",
      "100%|██████████| 7/7 [00:00<00:00, 18.41it/s, avg_epoch_loss=0, epoch=437]\n",
      "100%|██████████| 7/7 [00:00<00:00, 17.84it/s, avg_epoch_loss=0, epoch=438]\n",
      "100%|██████████| 7/7 [00:00<00:00, 16.35it/s, avg_epoch_loss=0, epoch=439]\n",
      "100%|██████████| 7/7 [00:00<00:00, 15.83it/s, avg_epoch_loss=0, epoch=440]\n",
      "100%|██████████| 7/7 [00:00<00:00, 16.27it/s, avg_epoch_loss=0, epoch=441]\n",
      "100%|██████████| 7/7 [00:00<00:00, 17.92it/s, avg_epoch_loss=0, epoch=442]\n",
      "100%|██████████| 7/7 [00:00<00:00, 18.87it/s, avg_epoch_loss=0, epoch=443]\n",
      "100%|██████████| 7/7 [00:00<00:00, 18.73it/s, avg_epoch_loss=0, epoch=444]\n",
      "100%|██████████| 7/7 [00:00<00:00, 18.26it/s, avg_epoch_loss=0, epoch=445]\n",
      "100%|██████████| 7/7 [00:00<00:00, 18.53it/s, avg_epoch_loss=0, epoch=446]\n",
      "100%|██████████| 7/7 [00:00<00:00, 18.84it/s, avg_epoch_loss=0, epoch=447]\n",
      "100%|██████████| 7/7 [00:00<00:00, 19.02it/s, avg_epoch_loss=0, epoch=448]\n",
      "100%|██████████| 7/7 [00:00<00:00, 18.44it/s, avg_epoch_loss=0, epoch=449]\n"
     ]
    },
    {
     "name": "stdout",
     "output_type": "stream",
     "text": [
      "Start validation!!!\n",
      "Epoch: 449\n"
     ]
    },
    {
     "name": "stderr",
     "output_type": "stream",
     "text": [
      "100%|██████████| 2/2 [00:57<00:00, 28.91s/it]\n"
     ]
    },
    {
     "name": "stdout",
     "output_type": "stream",
     "text": [
      "====================================\n",
      "##### End evaluation!!\n",
      "PEHE VAL = 8.03e+03\n"
     ]
    },
    {
     "name": "stderr",
     "output_type": "stream",
     "text": [
      "100%|██████████| 7/7 [00:00<00:00, 16.82it/s, avg_epoch_loss=0, epoch=450]\n",
      "100%|██████████| 7/7 [00:00<00:00, 16.90it/s, avg_epoch_loss=0, epoch=451]\n",
      "100%|██████████| 7/7 [00:00<00:00, 18.09it/s, avg_epoch_loss=0, epoch=452]\n",
      "100%|██████████| 7/7 [00:00<00:00, 19.08it/s, avg_epoch_loss=0, epoch=453]\n",
      "100%|██████████| 7/7 [00:00<00:00, 18.81it/s, avg_epoch_loss=0, epoch=454]\n",
      "100%|██████████| 7/7 [00:00<00:00, 18.05it/s, avg_epoch_loss=0, epoch=455]\n",
      "100%|██████████| 7/7 [00:00<00:00, 16.42it/s, avg_epoch_loss=0, epoch=456]\n",
      "100%|██████████| 7/7 [00:00<00:00, 18.36it/s, avg_epoch_loss=0, epoch=457]\n",
      "100%|██████████| 7/7 [00:00<00:00, 18.62it/s, avg_epoch_loss=0, epoch=458]\n",
      "100%|██████████| 7/7 [00:00<00:00, 18.43it/s, avg_epoch_loss=0, epoch=459]\n",
      "100%|██████████| 7/7 [00:00<00:00, 18.34it/s, avg_epoch_loss=0, epoch=460]\n",
      "100%|██████████| 7/7 [00:00<00:00, 18.84it/s, avg_epoch_loss=0, epoch=461]\n",
      "100%|██████████| 7/7 [00:00<00:00, 18.70it/s, avg_epoch_loss=0, epoch=462]\n",
      "100%|██████████| 7/7 [00:00<00:00, 18.87it/s, avg_epoch_loss=0, epoch=463]\n",
      "100%|██████████| 7/7 [00:00<00:00, 15.34it/s, avg_epoch_loss=0, epoch=464]\n",
      "100%|██████████| 7/7 [00:00<00:00, 17.83it/s, avg_epoch_loss=0, epoch=465]\n",
      "100%|██████████| 7/7 [00:00<00:00, 18.83it/s, avg_epoch_loss=0, epoch=466]\n",
      "100%|██████████| 7/7 [00:00<00:00, 18.73it/s, avg_epoch_loss=0, epoch=467]\n",
      "100%|██████████| 7/7 [00:00<00:00, 18.82it/s, avg_epoch_loss=0, epoch=468]\n",
      "100%|██████████| 7/7 [00:00<00:00, 18.63it/s, avg_epoch_loss=0, epoch=469]\n",
      "100%|██████████| 7/7 [00:00<00:00, 14.72it/s, avg_epoch_loss=0, epoch=470]\n",
      "100%|██████████| 7/7 [00:00<00:00, 16.37it/s, avg_epoch_loss=0, epoch=471]\n",
      "100%|██████████| 7/7 [00:00<00:00, 13.29it/s, avg_epoch_loss=0, epoch=472]\n",
      "100%|██████████| 7/7 [00:00<00:00, 15.90it/s, avg_epoch_loss=0, epoch=473]\n",
      "100%|██████████| 7/7 [00:00<00:00, 16.56it/s, avg_epoch_loss=0, epoch=474]\n",
      "100%|██████████| 7/7 [00:00<00:00, 16.17it/s, avg_epoch_loss=0, epoch=475]\n",
      "100%|██████████| 7/7 [00:00<00:00, 16.57it/s, avg_epoch_loss=0, epoch=476]\n",
      "100%|██████████| 7/7 [00:00<00:00, 16.85it/s, avg_epoch_loss=0, epoch=477]\n",
      "100%|██████████| 7/7 [00:00<00:00, 14.28it/s, avg_epoch_loss=0, epoch=478]\n",
      "100%|██████████| 7/7 [00:00<00:00, 15.43it/s, avg_epoch_loss=0, epoch=479]\n",
      "100%|██████████| 7/7 [00:00<00:00, 16.55it/s, avg_epoch_loss=0, epoch=480]\n",
      "100%|██████████| 7/7 [00:00<00:00, 17.96it/s, avg_epoch_loss=0, epoch=481]\n",
      "100%|██████████| 7/7 [00:00<00:00, 18.90it/s, avg_epoch_loss=0, epoch=482]\n",
      "100%|██████████| 7/7 [00:00<00:00, 18.88it/s, avg_epoch_loss=0, epoch=483]\n",
      "100%|██████████| 7/7 [00:00<00:00, 18.86it/s, avg_epoch_loss=0, epoch=484]\n",
      "100%|██████████| 7/7 [00:00<00:00, 18.71it/s, avg_epoch_loss=0, epoch=485]\n",
      "100%|██████████| 7/7 [00:00<00:00, 19.15it/s, avg_epoch_loss=0, epoch=486]\n",
      "100%|██████████| 7/7 [00:00<00:00, 18.66it/s, avg_epoch_loss=0, epoch=487]\n",
      "100%|██████████| 7/7 [00:00<00:00, 18.71it/s, avg_epoch_loss=0, epoch=488]\n",
      "100%|██████████| 7/7 [00:00<00:00, 18.79it/s, avg_epoch_loss=0, epoch=489]\n",
      "100%|██████████| 7/7 [00:00<00:00, 18.28it/s, avg_epoch_loss=0, epoch=490]\n",
      "100%|██████████| 7/7 [00:00<00:00, 16.49it/s, avg_epoch_loss=0, epoch=491]\n",
      "100%|██████████| 7/7 [00:00<00:00, 17.82it/s, avg_epoch_loss=0, epoch=492]\n",
      "100%|██████████| 7/7 [00:00<00:00, 13.77it/s, avg_epoch_loss=0, epoch=493]\n",
      "100%|██████████| 7/7 [00:00<00:00, 17.12it/s, avg_epoch_loss=0, epoch=494]\n",
      "100%|██████████| 7/7 [00:00<00:00, 17.55it/s, avg_epoch_loss=0, epoch=495]\n",
      "100%|██████████| 7/7 [00:00<00:00, 18.50it/s, avg_epoch_loss=0, epoch=496]\n",
      "100%|██████████| 7/7 [00:00<00:00, 18.79it/s, avg_epoch_loss=0, epoch=497]\n",
      "100%|██████████| 7/7 [00:00<00:00, 17.42it/s, avg_epoch_loss=0, epoch=498]\n",
      "100%|██████████| 7/7 [00:00<00:00, 17.64it/s, avg_epoch_loss=0, epoch=499]\n"
     ]
    },
    {
     "name": "stdout",
     "output_type": "stream",
     "text": [
      "Start validation!!!\n",
      "Epoch: 499\n"
     ]
    },
    {
     "name": "stderr",
     "output_type": "stream",
     "text": [
      "100%|██████████| 2/2 [00:58<00:00, 29.35s/it]\n"
     ]
    },
    {
     "name": "stdout",
     "output_type": "stream",
     "text": [
      "====================================\n",
      "##### End evaluation!!\n",
      "PEHE VAL = 8.54e+03\n",
      "Training complete.\n",
      "Evaluating the model...\n"
     ]
    },
    {
     "name": "stderr",
     "output_type": "stream",
     "text": [
      "100%|██████████| 12/12 [12:48<00:00, 64.07s/it]\n",
      "GPU available: True (mps), used: False\n",
      "TPU available: False, using: 0 TPU cores\n",
      "HPU available: False, using: 0 HPUs\n",
      "\n",
      "  | Name           | Type        | Params | Mode \n",
      "-------------------------------------------------------\n",
      "0 | balancer       | Sequential  | 1.6 K  | train\n",
      "1 | prior_encoder0 | Sequential  | 0      | train\n",
      "2 | prior_encoder1 | Sequential  | 0      | train\n",
      "3 | cond_mean0     | Sequential  | 701    | train\n",
      "4 | cond_mean1     | Sequential  | 701    | train\n",
      "5 | cond_std0      | Sequential  | 701    | train\n",
      "6 | cond_std1      | Sequential  | 701    | train\n",
      "7 | flows0         | DSFMarginal | 892    | train\n",
      "8 | flows1         | DSFMarginal | 892    | train\n",
      "-------------------------------------------------------\n",
      "6.2 K     Trainable params\n",
      "0         Non-trainable params\n",
      "6.2 K     Total params\n",
      "0.025     Total estimated model params size (MB)\n",
      "45        Modules in train mode\n",
      "0         Modules in eval mode\n"
     ]
    },
    {
     "name": "stdout",
     "output_type": "stream",
     "text": [
      "Fit and evaluate NOFLITE ...\n"
     ]
    },
    {
     "data": {
      "application/vnd.jupyter.widget-view+json": {
       "model_id": "b89e0cea25884f15a1acd34e6bc84396",
       "version_major": 2,
       "version_minor": 0
      },
      "text/plain": [
       "Training: |          | 0/? [00:00<?, ?it/s]"
      ]
     },
     "metadata": {},
     "output_type": "display_data"
    },
    {
     "name": "stderr",
     "output_type": "stream",
     "text": [
      "`Trainer.fit` stopped: `max_steps=10000` reached.\n"
     ]
    },
    {
     "name": "stdout",
     "output_type": "stream",
     "text": [
      "|====================================================================================================|Fit and evaluate CCT-learner ...\n",
      "Fit and evaluate BART ...\n"
     ]
    },
    {
     "name": "stderr",
     "output_type": "stream",
     "text": [
      "Multiprocess sampling (4 chains in 4 jobs)\n",
      "PGBART: [mu]\n"
     ]
    },
    {
     "data": {
      "application/vnd.jupyter.widget-view+json": {
       "model_id": "6ca56392e25b476fbdc84ca4b3a4b2d7",
       "version_major": 2,
       "version_minor": 0
      },
      "text/plain": [
       "Output()"
      ]
     },
     "metadata": {},
     "output_type": "display_data"
    },
    {
     "data": {
      "text/html": [
       "<pre style=\"white-space:pre;overflow-x:auto;line-height:normal;font-family:Menlo,'DejaVu Sans Mono',consolas,'Courier New',monospace\"></pre>\n"
      ],
      "text/plain": []
     },
     "metadata": {},
     "output_type": "display_data"
    },
    {
     "name": "stderr",
     "output_type": "stream",
     "text": [
      "Sampling 4 chains for 500 tune and 500 draw iterations (2_000 + 2_000 draws total) took 19 seconds.\n",
      "The rhat statistic is larger than 1.01 for some parameters. This indicates problems during sampling. See https://arxiv.org/abs/1903.08008 for details\n",
      "The effective sample size per chain is smaller than 100 for some parameters.  A higher number is needed for reliable rhat and ess computation. See https://arxiv.org/abs/1903.08008 for details\n",
      "Sampling: [mu, y]\n"
     ]
    },
    {
     "data": {
      "application/vnd.jupyter.widget-view+json": {
       "model_id": "746cd3eca8694a96ae69b7d8bf9d1c40",
       "version_major": 2,
       "version_minor": 0
      },
      "text/plain": [
       "Output()"
      ]
     },
     "metadata": {},
     "output_type": "display_data"
    },
    {
     "name": "stdout",
     "output_type": "stream",
     "text": [
      "X_extended (3000, 11)\n"
     ]
    },
    {
     "data": {
      "text/html": [
       "<pre style=\"white-space:pre;overflow-x:auto;line-height:normal;font-family:Menlo,'DejaVu Sans Mono',consolas,'Courier New',monospace\"></pre>\n"
      ],
      "text/plain": []
     },
     "metadata": {},
     "output_type": "display_data"
    },
    {
     "name": "stderr",
     "output_type": "stream",
     "text": [
      "Sampling: [mu, y]\n"
     ]
    },
    {
     "data": {
      "application/vnd.jupyter.widget-view+json": {
       "model_id": "92c2b4b1d1c945b7a83908f7e3a27f92",
       "version_major": 2,
       "version_minor": 0
      },
      "text/plain": [
       "Output()"
      ]
     },
     "metadata": {},
     "output_type": "display_data"
    },
    {
     "data": {
      "text/html": [
       "<pre style=\"white-space:pre;overflow-x:auto;line-height:normal;font-family:Menlo,'DejaVu Sans Mono',consolas,'Courier New',monospace\"></pre>\n"
      ],
      "text/plain": []
     },
     "metadata": {},
     "output_type": "display_data"
    },
    {
     "name": "stderr",
     "output_type": "stream",
     "text": [
      "Sampling: [mu, y]\n"
     ]
    },
    {
     "data": {
      "application/vnd.jupyter.widget-view+json": {
       "model_id": "d8d8168e2b0a4c1d93386d56572d4040",
       "version_major": 2,
       "version_minor": 0
      },
      "text/plain": [
       "Output()"
      ]
     },
     "metadata": {},
     "output_type": "display_data"
    },
    {
     "name": "stdout",
     "output_type": "stream",
     "text": [
      "X_extended (3000, 11)\n"
     ]
    },
    {
     "data": {
      "text/html": [
       "<pre style=\"white-space:pre;overflow-x:auto;line-height:normal;font-family:Menlo,'DejaVu Sans Mono',consolas,'Courier New',monospace\"></pre>\n"
      ],
      "text/plain": []
     },
     "metadata": {},
     "output_type": "display_data"
    },
    {
     "name": "stderr",
     "output_type": "stream",
     "text": [
      "Sampling: [mu, y]\n"
     ]
    },
    {
     "data": {
      "application/vnd.jupyter.widget-view+json": {
       "model_id": "d46e051149b34ee7bb3cb4472dfa38c9",
       "version_major": 2,
       "version_minor": 0
      },
      "text/plain": [
       "Output()"
      ]
     },
     "metadata": {},
     "output_type": "display_data"
    },
    {
     "data": {
      "text/html": [
       "<pre style=\"white-space:pre;overflow-x:auto;line-height:normal;font-family:Menlo,'DejaVu Sans Mono',consolas,'Courier New',monospace\"></pre>\n"
      ],
      "text/plain": []
     },
     "metadata": {},
     "output_type": "display_data"
    },
    {
     "name": "stdout",
     "output_type": "stream",
     "text": [
      "Fit and evaluate CMGP ...\n",
      "Fit and evaluate CEVAE ...\n",
      "Using cpu\n"
     ]
    },
    {
     "name": "stderr",
     "output_type": "stream",
     "text": [
      "100%|██████████| 7000/7000 [00:32<00:00, 212.30it/s]\n"
     ]
    },
    {
     "name": "stdout",
     "output_type": "stream",
     "text": [
      "Fit and evaluate FCCN ...\n"
     ]
    },
    {
     "name": "stderr",
     "output_type": "stream",
     "text": [
      "100%|██████████| 20000/20000 [02:14<00:00, 148.42it/s]\n"
     ]
    },
    {
     "name": "stdout",
     "output_type": "stream",
     "text": [
      "Fit and evaluate GANITE ...\n"
     ]
    },
    {
     "name": "stderr",
     "output_type": "stream",
     "text": [
      "Training Counterfactual GAN: 100%|██████████| 10000/10000 [07:58<00:00, 20.91it/s]\n",
      "Training ITE GAN: 100%|██████████| 10000/10000 [1:44:02<00:00,  1.60it/s]\n"
     ]
    },
    {
     "name": "stdout",
     "output_type": "stream",
     "text": [
      "Fit and evaluate DKLITE ...\n"
     ]
    },
    {
     "name": "stderr",
     "output_type": "stream",
     "text": [
      "  5%|▌         | 51/1000 [00:02<00:51, 18.50it/s]\n"
     ]
    },
    {
     "name": "stdout",
     "output_type": "stream",
     "text": [
      "Fit and evaluate diffpo ...\n"
     ]
    },
    {
     "name": "stderr",
     "output_type": "stream",
     "text": [
      "100%|██████████| 7/7 [00:00<00:00, 13.08it/s, avg_epoch_loss=0, epoch=0]\n",
      "100%|██████████| 7/7 [00:00<00:00, 16.88it/s, avg_epoch_loss=0, epoch=1]\n",
      "100%|██████████| 7/7 [00:00<00:00, 17.19it/s, avg_epoch_loss=0, epoch=2]\n",
      "100%|██████████| 7/7 [00:00<00:00, 17.16it/s, avg_epoch_loss=0, epoch=3]\n",
      "100%|██████████| 7/7 [00:00<00:00, 17.94it/s, avg_epoch_loss=0, epoch=4]\n",
      "100%|██████████| 7/7 [00:00<00:00, 17.29it/s, avg_epoch_loss=0, epoch=5]\n",
      "100%|██████████| 7/7 [00:00<00:00, 15.81it/s, avg_epoch_loss=0, epoch=6]\n",
      "100%|██████████| 7/7 [00:00<00:00, 16.18it/s, avg_epoch_loss=0, epoch=7]\n",
      "100%|██████████| 7/7 [00:00<00:00, 17.77it/s, avg_epoch_loss=0, epoch=8]\n",
      "100%|██████████| 7/7 [00:00<00:00, 17.39it/s, avg_epoch_loss=0, epoch=9]\n",
      "100%|██████████| 7/7 [00:00<00:00, 16.56it/s, avg_epoch_loss=0, epoch=10]\n",
      "100%|██████████| 7/7 [00:00<00:00, 17.52it/s, avg_epoch_loss=0, epoch=11]\n",
      "100%|██████████| 7/7 [00:00<00:00, 17.56it/s, avg_epoch_loss=0, epoch=12]\n",
      "100%|██████████| 7/7 [00:00<00:00, 17.64it/s, avg_epoch_loss=0, epoch=13]\n",
      "100%|██████████| 7/7 [00:00<00:00, 17.84it/s, avg_epoch_loss=0, epoch=14]\n",
      "100%|██████████| 7/7 [00:00<00:00, 17.65it/s, avg_epoch_loss=0, epoch=15]\n",
      "100%|██████████| 7/7 [00:00<00:00, 12.05it/s, avg_epoch_loss=0, epoch=16]\n",
      "100%|██████████| 7/7 [00:00<00:00, 15.02it/s, avg_epoch_loss=0, epoch=17]\n",
      "100%|██████████| 7/7 [00:00<00:00, 17.59it/s, avg_epoch_loss=0, epoch=18]\n",
      "100%|██████████| 7/7 [00:00<00:00, 13.41it/s, avg_epoch_loss=0, epoch=19]\n",
      "100%|██████████| 7/7 [00:00<00:00, 12.35it/s, avg_epoch_loss=0, epoch=20]\n",
      "100%|██████████| 7/7 [00:00<00:00, 16.52it/s, avg_epoch_loss=0, epoch=21]\n",
      "100%|██████████| 7/7 [00:00<00:00, 17.42it/s, avg_epoch_loss=0, epoch=22]\n",
      "100%|██████████| 7/7 [00:00<00:00, 17.89it/s, avg_epoch_loss=0, epoch=23]\n",
      "100%|██████████| 7/7 [00:00<00:00, 18.14it/s, avg_epoch_loss=0, epoch=24]\n",
      "100%|██████████| 7/7 [00:00<00:00, 17.87it/s, avg_epoch_loss=0, epoch=25]\n",
      "100%|██████████| 7/7 [00:00<00:00, 17.83it/s, avg_epoch_loss=0, epoch=26]\n",
      "100%|██████████| 7/7 [00:00<00:00, 18.78it/s, avg_epoch_loss=0, epoch=27]\n",
      "100%|██████████| 7/7 [00:00<00:00, 17.98it/s, avg_epoch_loss=0, epoch=28]\n",
      "100%|██████████| 7/7 [00:00<00:00, 16.00it/s, avg_epoch_loss=0, epoch=29]\n",
      "100%|██████████| 7/7 [00:00<00:00, 15.63it/s, avg_epoch_loss=0, epoch=30]\n",
      "100%|██████████| 7/7 [00:00<00:00, 17.32it/s, avg_epoch_loss=0, epoch=31]\n",
      "100%|██████████| 7/7 [00:00<00:00, 17.44it/s, avg_epoch_loss=0, epoch=32]\n",
      "100%|██████████| 7/7 [00:00<00:00, 17.42it/s, avg_epoch_loss=0, epoch=33]\n",
      "100%|██████████| 7/7 [00:00<00:00, 17.37it/s, avg_epoch_loss=0, epoch=34]\n",
      "100%|██████████| 7/7 [00:00<00:00, 17.71it/s, avg_epoch_loss=0, epoch=35]\n",
      "100%|██████████| 7/7 [00:00<00:00, 17.74it/s, avg_epoch_loss=0, epoch=36]\n",
      "100%|██████████| 7/7 [00:00<00:00, 17.72it/s, avg_epoch_loss=0, epoch=37]\n",
      "100%|██████████| 7/7 [00:00<00:00, 17.83it/s, avg_epoch_loss=0, epoch=38]\n",
      "100%|██████████| 7/7 [00:00<00:00, 17.62it/s, avg_epoch_loss=0, epoch=39]\n",
      "100%|██████████| 7/7 [00:00<00:00, 18.28it/s, avg_epoch_loss=0, epoch=40]\n",
      "100%|██████████| 7/7 [00:00<00:00, 19.05it/s, avg_epoch_loss=0, epoch=41]\n",
      "100%|██████████| 7/7 [00:00<00:00, 18.60it/s, avg_epoch_loss=0, epoch=42]\n",
      "100%|██████████| 7/7 [00:00<00:00, 17.82it/s, avg_epoch_loss=0, epoch=43]\n",
      "100%|██████████| 7/7 [00:00<00:00, 17.84it/s, avg_epoch_loss=0, epoch=44]\n",
      "100%|██████████| 7/7 [00:00<00:00, 17.77it/s, avg_epoch_loss=0, epoch=45]\n",
      "100%|██████████| 7/7 [00:00<00:00, 16.61it/s, avg_epoch_loss=0, epoch=46]\n",
      "100%|██████████| 7/7 [00:00<00:00, 17.49it/s, avg_epoch_loss=0, epoch=47]\n",
      "100%|██████████| 7/7 [00:00<00:00, 16.78it/s, avg_epoch_loss=0, epoch=48]\n",
      "100%|██████████| 7/7 [00:00<00:00, 17.88it/s, avg_epoch_loss=0, epoch=49]\n"
     ]
    },
    {
     "name": "stdout",
     "output_type": "stream",
     "text": [
      "Start validation!!!\n",
      "Epoch: 49\n"
     ]
    },
    {
     "name": "stderr",
     "output_type": "stream",
     "text": [
      "100%|██████████| 2/2 [01:07<00:00, 33.51s/it]\n"
     ]
    },
    {
     "name": "stdout",
     "output_type": "stream",
     "text": [
      "====================================\n",
      "##### End evaluation!!\n",
      "PEHE VAL = 8.1e+03\n"
     ]
    },
    {
     "name": "stderr",
     "output_type": "stream",
     "text": [
      "100%|██████████| 7/7 [00:00<00:00, 16.09it/s, avg_epoch_loss=0, epoch=50]\n",
      "100%|██████████| 7/7 [00:00<00:00, 15.32it/s, avg_epoch_loss=0, epoch=51]\n",
      "100%|██████████| 7/7 [00:00<00:00, 16.27it/s, avg_epoch_loss=0, epoch=52]\n",
      "100%|██████████| 7/7 [00:00<00:00, 16.88it/s, avg_epoch_loss=0, epoch=53]\n",
      "100%|██████████| 7/7 [00:00<00:00, 15.30it/s, avg_epoch_loss=0, epoch=54]\n",
      "100%|██████████| 7/7 [00:00<00:00, 17.49it/s, avg_epoch_loss=0, epoch=55]\n",
      "100%|██████████| 7/7 [00:00<00:00, 17.17it/s, avg_epoch_loss=0, epoch=56]\n",
      "100%|██████████| 7/7 [00:00<00:00, 15.75it/s, avg_epoch_loss=0, epoch=57]\n",
      "100%|██████████| 7/7 [00:00<00:00, 17.43it/s, avg_epoch_loss=0, epoch=58]\n",
      "100%|██████████| 7/7 [00:00<00:00, 17.30it/s, avg_epoch_loss=0, epoch=59]\n",
      "100%|██████████| 7/7 [00:00<00:00, 17.31it/s, avg_epoch_loss=0, epoch=60]\n",
      "100%|██████████| 7/7 [00:00<00:00, 16.63it/s, avg_epoch_loss=0, epoch=61]\n",
      "100%|██████████| 7/7 [00:00<00:00, 17.38it/s, avg_epoch_loss=0, epoch=62]\n",
      "100%|██████████| 7/7 [00:00<00:00, 16.85it/s, avg_epoch_loss=0, epoch=63]\n",
      "100%|██████████| 7/7 [00:00<00:00, 16.90it/s, avg_epoch_loss=0, epoch=64]\n",
      "100%|██████████| 7/7 [00:00<00:00, 11.80it/s, avg_epoch_loss=0, epoch=65]\n",
      "100%|██████████| 7/7 [00:00<00:00, 15.20it/s, avg_epoch_loss=0, epoch=66]\n",
      "100%|██████████| 7/7 [00:00<00:00, 16.27it/s, avg_epoch_loss=0, epoch=67]\n",
      "100%|██████████| 7/7 [00:00<00:00, 12.10it/s, avg_epoch_loss=0, epoch=68]\n",
      "100%|██████████| 7/7 [00:00<00:00, 12.08it/s, avg_epoch_loss=0, epoch=69]\n",
      "100%|██████████| 7/7 [00:00<00:00, 16.02it/s, avg_epoch_loss=0, epoch=70]\n",
      "100%|██████████| 7/7 [00:00<00:00, 16.06it/s, avg_epoch_loss=0, epoch=71]\n",
      "100%|██████████| 7/7 [00:00<00:00, 13.99it/s, avg_epoch_loss=0, epoch=72]\n",
      "100%|██████████| 7/7 [00:00<00:00, 13.71it/s, avg_epoch_loss=0, epoch=73]\n",
      "100%|██████████| 7/7 [00:00<00:00, 14.19it/s, avg_epoch_loss=0, epoch=74]\n",
      "100%|██████████| 7/7 [00:00<00:00, 12.94it/s, avg_epoch_loss=0, epoch=75]\n",
      "100%|██████████| 7/7 [00:00<00:00, 16.07it/s, avg_epoch_loss=0, epoch=76]\n",
      "100%|██████████| 7/7 [00:00<00:00, 17.36it/s, avg_epoch_loss=0, epoch=77]\n",
      "100%|██████████| 7/7 [00:00<00:00, 15.48it/s, avg_epoch_loss=0, epoch=78]\n",
      "100%|██████████| 7/7 [00:00<00:00, 17.36it/s, avg_epoch_loss=0, epoch=79]\n",
      "100%|██████████| 7/7 [00:00<00:00, 16.84it/s, avg_epoch_loss=0, epoch=80]\n",
      "100%|██████████| 7/7 [00:00<00:00, 17.35it/s, avg_epoch_loss=0, epoch=81]\n",
      "100%|██████████| 7/7 [00:00<00:00, 17.88it/s, avg_epoch_loss=0, epoch=82]\n",
      "100%|██████████| 7/7 [00:00<00:00, 18.07it/s, avg_epoch_loss=0, epoch=83]\n",
      "100%|██████████| 7/7 [00:00<00:00, 17.74it/s, avg_epoch_loss=0, epoch=84]\n",
      "100%|██████████| 7/7 [00:00<00:00, 17.52it/s, avg_epoch_loss=0, epoch=85]\n",
      "100%|██████████| 7/7 [00:00<00:00, 14.56it/s, avg_epoch_loss=0, epoch=86]\n",
      "100%|██████████| 7/7 [00:00<00:00, 16.98it/s, avg_epoch_loss=0, epoch=87]\n",
      "100%|██████████| 7/7 [00:00<00:00, 15.53it/s, avg_epoch_loss=0, epoch=88]\n",
      "100%|██████████| 7/7 [00:00<00:00, 17.16it/s, avg_epoch_loss=0, epoch=89]\n",
      "100%|██████████| 7/7 [00:00<00:00, 17.34it/s, avg_epoch_loss=0, epoch=90]\n",
      "100%|██████████| 7/7 [00:00<00:00, 16.83it/s, avg_epoch_loss=0, epoch=91]\n",
      "100%|██████████| 7/7 [00:00<00:00, 17.11it/s, avg_epoch_loss=0, epoch=92]\n",
      "100%|██████████| 7/7 [00:00<00:00, 17.26it/s, avg_epoch_loss=0, epoch=93]\n",
      "100%|██████████| 7/7 [00:00<00:00, 17.44it/s, avg_epoch_loss=0, epoch=94]\n",
      "100%|██████████| 7/7 [00:00<00:00, 17.59it/s, avg_epoch_loss=0, epoch=95]\n",
      "100%|██████████| 7/7 [00:00<00:00, 15.92it/s, avg_epoch_loss=0, epoch=96]\n",
      "100%|██████████| 7/7 [00:00<00:00, 16.69it/s, avg_epoch_loss=0, epoch=97]\n",
      "100%|██████████| 7/7 [00:00<00:00, 16.74it/s, avg_epoch_loss=0, epoch=98]\n",
      "100%|██████████| 7/7 [00:00<00:00, 16.60it/s, avg_epoch_loss=0, epoch=99]\n"
     ]
    },
    {
     "name": "stdout",
     "output_type": "stream",
     "text": [
      "Start validation!!!\n",
      "Epoch: 99\n"
     ]
    },
    {
     "name": "stderr",
     "output_type": "stream",
     "text": [
      "100%|██████████| 2/2 [01:04<00:00, 32.37s/it]\n"
     ]
    },
    {
     "name": "stdout",
     "output_type": "stream",
     "text": [
      "====================================\n",
      "##### End evaluation!!\n",
      "PEHE VAL = 8.29e+03\n"
     ]
    },
    {
     "name": "stderr",
     "output_type": "stream",
     "text": [
      "100%|██████████| 7/7 [00:00<00:00, 17.70it/s, avg_epoch_loss=0, epoch=100]\n",
      "100%|██████████| 7/7 [00:00<00:00, 17.84it/s, avg_epoch_loss=0, epoch=101]\n",
      "100%|██████████| 7/7 [00:00<00:00, 18.09it/s, avg_epoch_loss=0, epoch=102]\n",
      "100%|██████████| 7/7 [00:00<00:00, 18.10it/s, avg_epoch_loss=0, epoch=103]\n",
      "100%|██████████| 7/7 [00:00<00:00, 17.29it/s, avg_epoch_loss=0, epoch=104]\n",
      "100%|██████████| 7/7 [00:00<00:00, 18.22it/s, avg_epoch_loss=0, epoch=105]\n",
      "100%|██████████| 7/7 [00:00<00:00, 17.68it/s, avg_epoch_loss=0, epoch=106]\n",
      "100%|██████████| 7/7 [00:00<00:00, 14.97it/s, avg_epoch_loss=0, epoch=107]\n",
      "100%|██████████| 7/7 [00:00<00:00, 16.69it/s, avg_epoch_loss=0, epoch=108]\n",
      "100%|██████████| 7/7 [00:00<00:00, 15.41it/s, avg_epoch_loss=0, epoch=109]\n",
      "100%|██████████| 7/7 [00:00<00:00, 16.73it/s, avg_epoch_loss=0, epoch=110]\n",
      "100%|██████████| 7/7 [00:00<00:00, 17.09it/s, avg_epoch_loss=0, epoch=111]\n",
      "100%|██████████| 7/7 [00:00<00:00, 17.62it/s, avg_epoch_loss=0, epoch=112]\n",
      "100%|██████████| 7/7 [00:00<00:00, 16.37it/s, avg_epoch_loss=0, epoch=113]\n",
      "100%|██████████| 7/7 [00:00<00:00, 17.19it/s, avg_epoch_loss=0, epoch=114]\n",
      "100%|██████████| 7/7 [00:00<00:00, 17.29it/s, avg_epoch_loss=0, epoch=115]\n",
      "100%|██████████| 7/7 [00:00<00:00, 17.08it/s, avg_epoch_loss=0, epoch=116]\n",
      "100%|██████████| 7/7 [00:00<00:00, 15.77it/s, avg_epoch_loss=0, epoch=117]\n",
      "100%|██████████| 7/7 [00:00<00:00, 17.52it/s, avg_epoch_loss=0, epoch=118]\n",
      "100%|██████████| 7/7 [00:00<00:00, 17.61it/s, avg_epoch_loss=0, epoch=119]\n",
      "100%|██████████| 7/7 [00:00<00:00, 17.32it/s, avg_epoch_loss=0, epoch=120]\n",
      "100%|██████████| 7/7 [00:00<00:00, 16.59it/s, avg_epoch_loss=0, epoch=121]\n",
      "100%|██████████| 7/7 [00:00<00:00, 17.28it/s, avg_epoch_loss=0, epoch=122]\n",
      "100%|██████████| 7/7 [00:00<00:00, 13.50it/s, avg_epoch_loss=0, epoch=123]\n",
      "100%|██████████| 7/7 [00:00<00:00, 16.60it/s, avg_epoch_loss=0, epoch=124]\n",
      "100%|██████████| 7/7 [00:00<00:00, 16.84it/s, avg_epoch_loss=0, epoch=125]\n",
      "100%|██████████| 7/7 [00:00<00:00, 17.26it/s, avg_epoch_loss=0, epoch=126]\n",
      "100%|██████████| 7/7 [00:00<00:00, 17.79it/s, avg_epoch_loss=0, epoch=127]\n",
      "100%|██████████| 7/7 [00:00<00:00, 17.61it/s, avg_epoch_loss=0, epoch=128]\n",
      "100%|██████████| 7/7 [00:00<00:00, 17.99it/s, avg_epoch_loss=0, epoch=129]\n",
      "100%|██████████| 7/7 [00:00<00:00, 14.79it/s, avg_epoch_loss=0, epoch=130]\n",
      "100%|██████████| 7/7 [00:00<00:00, 17.52it/s, avg_epoch_loss=0, epoch=131]\n",
      "100%|██████████| 7/7 [00:00<00:00, 17.29it/s, avg_epoch_loss=0, epoch=132]\n",
      "100%|██████████| 7/7 [00:00<00:00, 17.15it/s, avg_epoch_loss=0, epoch=133]\n",
      "100%|██████████| 7/7 [00:00<00:00, 18.14it/s, avg_epoch_loss=0, epoch=134]\n",
      "100%|██████████| 7/7 [00:00<00:00, 14.08it/s, avg_epoch_loss=0, epoch=135]\n",
      "100%|██████████| 7/7 [00:00<00:00, 17.36it/s, avg_epoch_loss=0, epoch=136]\n",
      "100%|██████████| 7/7 [00:00<00:00, 14.58it/s, avg_epoch_loss=0, epoch=137]\n",
      "100%|██████████| 7/7 [00:00<00:00, 15.69it/s, avg_epoch_loss=0, epoch=138]\n",
      "100%|██████████| 7/7 [00:00<00:00, 16.39it/s, avg_epoch_loss=0, epoch=139]\n",
      "100%|██████████| 7/7 [00:00<00:00, 15.68it/s, avg_epoch_loss=0, epoch=140]\n",
      "100%|██████████| 7/7 [00:00<00:00, 17.12it/s, avg_epoch_loss=0, epoch=141]\n",
      "100%|██████████| 7/7 [00:00<00:00, 16.66it/s, avg_epoch_loss=0, epoch=142]\n",
      "100%|██████████| 7/7 [00:00<00:00, 17.53it/s, avg_epoch_loss=0, epoch=143]\n",
      "100%|██████████| 7/7 [00:00<00:00, 15.15it/s, avg_epoch_loss=0, epoch=144]\n",
      "100%|██████████| 7/7 [00:00<00:00, 17.63it/s, avg_epoch_loss=0, epoch=145]\n",
      "100%|██████████| 7/7 [00:00<00:00, 17.79it/s, avg_epoch_loss=0, epoch=146]\n",
      "100%|██████████| 7/7 [00:00<00:00, 17.59it/s, avg_epoch_loss=0, epoch=147]\n",
      "100%|██████████| 7/7 [00:00<00:00, 17.76it/s, avg_epoch_loss=0, epoch=148]\n",
      "100%|██████████| 7/7 [00:00<00:00, 14.11it/s, avg_epoch_loss=0, epoch=149]\n"
     ]
    },
    {
     "name": "stdout",
     "output_type": "stream",
     "text": [
      "Start validation!!!\n",
      "Epoch: 149\n"
     ]
    },
    {
     "name": "stderr",
     "output_type": "stream",
     "text": [
      "100%|██████████| 2/2 [01:05<00:00, 32.61s/it]\n"
     ]
    },
    {
     "name": "stdout",
     "output_type": "stream",
     "text": [
      "====================================\n",
      "##### End evaluation!!\n",
      "PEHE VAL = 8.48e+03\n"
     ]
    },
    {
     "name": "stderr",
     "output_type": "stream",
     "text": [
      "100%|██████████| 7/7 [00:00<00:00, 14.94it/s, avg_epoch_loss=0, epoch=150]\n",
      "100%|██████████| 7/7 [00:00<00:00, 16.37it/s, avg_epoch_loss=0, epoch=151]\n",
      "100%|██████████| 7/7 [00:00<00:00, 16.70it/s, avg_epoch_loss=0, epoch=152]\n",
      "100%|██████████| 7/7 [00:00<00:00, 15.25it/s, avg_epoch_loss=0, epoch=153]\n",
      "100%|██████████| 7/7 [00:00<00:00, 14.86it/s, avg_epoch_loss=0, epoch=154]\n",
      "100%|██████████| 7/7 [00:00<00:00, 17.51it/s, avg_epoch_loss=0, epoch=155]\n",
      "100%|██████████| 7/7 [00:00<00:00, 17.48it/s, avg_epoch_loss=0, epoch=156]\n",
      "100%|██████████| 7/7 [00:00<00:00, 17.07it/s, avg_epoch_loss=0, epoch=157]\n",
      "100%|██████████| 7/7 [00:00<00:00, 16.93it/s, avg_epoch_loss=0, epoch=158]\n",
      "100%|██████████| 7/7 [00:00<00:00, 16.92it/s, avg_epoch_loss=0, epoch=159]\n",
      "100%|██████████| 7/7 [00:00<00:00, 17.30it/s, avg_epoch_loss=0, epoch=160]\n",
      "100%|██████████| 7/7 [00:00<00:00, 16.41it/s, avg_epoch_loss=0, epoch=161]\n",
      "100%|██████████| 7/7 [00:00<00:00, 15.89it/s, avg_epoch_loss=0, epoch=162]\n",
      "100%|██████████| 7/7 [00:00<00:00, 16.75it/s, avg_epoch_loss=0, epoch=163]\n",
      "100%|██████████| 7/7 [00:00<00:00, 14.83it/s, avg_epoch_loss=0, epoch=164]\n",
      "100%|██████████| 7/7 [00:00<00:00, 16.12it/s, avg_epoch_loss=0, epoch=165]\n",
      "100%|██████████| 7/7 [00:00<00:00, 16.90it/s, avg_epoch_loss=0, epoch=166]\n",
      "100%|██████████| 7/7 [00:00<00:00, 15.37it/s, avg_epoch_loss=0, epoch=167]\n",
      "100%|██████████| 7/7 [00:00<00:00, 16.84it/s, avg_epoch_loss=0, epoch=168]\n",
      "100%|██████████| 7/7 [00:00<00:00, 17.46it/s, avg_epoch_loss=0, epoch=169]\n",
      "100%|██████████| 7/7 [00:00<00:00, 16.84it/s, avg_epoch_loss=0, epoch=170]\n",
      "100%|██████████| 7/7 [00:00<00:00, 17.21it/s, avg_epoch_loss=0, epoch=171]\n",
      "100%|██████████| 7/7 [00:00<00:00, 16.87it/s, avg_epoch_loss=0, epoch=172]\n",
      "100%|██████████| 7/7 [00:00<00:00, 13.54it/s, avg_epoch_loss=0, epoch=173]\n",
      "100%|██████████| 7/7 [00:00<00:00, 16.80it/s, avg_epoch_loss=0, epoch=174]\n",
      "100%|██████████| 7/7 [00:00<00:00, 17.29it/s, avg_epoch_loss=0, epoch=175]\n",
      "100%|██████████| 7/7 [00:00<00:00, 16.22it/s, avg_epoch_loss=0, epoch=176]\n",
      "100%|██████████| 7/7 [00:00<00:00, 14.98it/s, avg_epoch_loss=0, epoch=177]\n",
      "100%|██████████| 7/7 [00:00<00:00, 15.61it/s, avg_epoch_loss=0, epoch=178]\n",
      "100%|██████████| 7/7 [00:00<00:00, 16.49it/s, avg_epoch_loss=0, epoch=179]\n",
      "100%|██████████| 7/7 [00:00<00:00, 16.81it/s, avg_epoch_loss=0, epoch=180]\n",
      "100%|██████████| 7/7 [00:00<00:00, 15.21it/s, avg_epoch_loss=0, epoch=181]\n",
      "100%|██████████| 7/7 [00:00<00:00, 14.81it/s, avg_epoch_loss=0, epoch=182]\n",
      "100%|██████████| 7/7 [00:00<00:00, 17.00it/s, avg_epoch_loss=0, epoch=183]\n",
      "100%|██████████| 7/7 [00:00<00:00, 16.14it/s, avg_epoch_loss=0, epoch=184]\n",
      "100%|██████████| 7/7 [00:00<00:00, 16.53it/s, avg_epoch_loss=0, epoch=185]\n",
      "100%|██████████| 7/7 [00:00<00:00, 16.74it/s, avg_epoch_loss=0, epoch=186]\n",
      "100%|██████████| 7/7 [00:00<00:00, 17.00it/s, avg_epoch_loss=0, epoch=187]\n",
      "100%|██████████| 7/7 [00:00<00:00, 17.25it/s, avg_epoch_loss=0, epoch=188]\n",
      "100%|██████████| 7/7 [00:00<00:00, 17.33it/s, avg_epoch_loss=0, epoch=189]\n",
      "100%|██████████| 7/7 [00:00<00:00, 15.14it/s, avg_epoch_loss=0, epoch=190]\n",
      "100%|██████████| 7/7 [00:00<00:00, 16.89it/s, avg_epoch_loss=0, epoch=191]\n",
      "100%|██████████| 7/7 [00:00<00:00, 16.66it/s, avg_epoch_loss=0, epoch=192]\n",
      "100%|██████████| 7/7 [00:00<00:00, 16.79it/s, avg_epoch_loss=0, epoch=193]\n",
      "100%|██████████| 7/7 [00:00<00:00, 16.57it/s, avg_epoch_loss=0, epoch=194]\n",
      "100%|██████████| 7/7 [00:00<00:00, 15.20it/s, avg_epoch_loss=0, epoch=195]\n",
      "100%|██████████| 7/7 [00:00<00:00, 16.60it/s, avg_epoch_loss=0, epoch=196]\n",
      "100%|██████████| 7/7 [00:00<00:00, 16.79it/s, avg_epoch_loss=0, epoch=197]\n",
      "100%|██████████| 7/7 [00:00<00:00, 16.59it/s, avg_epoch_loss=0, epoch=198]\n",
      "100%|██████████| 7/7 [00:00<00:00, 14.44it/s, avg_epoch_loss=0, epoch=199]\n"
     ]
    },
    {
     "name": "stdout",
     "output_type": "stream",
     "text": [
      "Start validation!!!\n",
      "Epoch: 199\n"
     ]
    },
    {
     "name": "stderr",
     "output_type": "stream",
     "text": [
      "100%|██████████| 2/2 [01:04<00:00, 32.25s/it]\n"
     ]
    },
    {
     "name": "stdout",
     "output_type": "stream",
     "text": [
      "====================================\n",
      "##### End evaluation!!\n",
      "PEHE VAL = 8.64e+03\n"
     ]
    },
    {
     "name": "stderr",
     "output_type": "stream",
     "text": [
      "100%|██████████| 7/7 [00:00<00:00, 17.90it/s, avg_epoch_loss=0, epoch=200]\n",
      "100%|██████████| 7/7 [00:00<00:00, 17.98it/s, avg_epoch_loss=0, epoch=201]\n",
      "100%|██████████| 7/7 [00:00<00:00, 17.82it/s, avg_epoch_loss=0, epoch=202]\n",
      "100%|██████████| 7/7 [00:00<00:00, 17.98it/s, avg_epoch_loss=0, epoch=203]\n",
      "100%|██████████| 7/7 [00:00<00:00, 17.78it/s, avg_epoch_loss=0, epoch=204]\n",
      "100%|██████████| 7/7 [00:00<00:00, 18.04it/s, avg_epoch_loss=0, epoch=205]\n",
      "100%|██████████| 7/7 [00:00<00:00, 12.99it/s, avg_epoch_loss=0, epoch=206]\n",
      "100%|██████████| 7/7 [00:00<00:00, 14.43it/s, avg_epoch_loss=0, epoch=207]\n",
      "100%|██████████| 7/7 [00:00<00:00, 18.26it/s, avg_epoch_loss=0, epoch=208]\n",
      "100%|██████████| 7/7 [00:00<00:00, 17.98it/s, avg_epoch_loss=0, epoch=209]\n",
      "100%|██████████| 7/7 [00:00<00:00, 18.17it/s, avg_epoch_loss=0, epoch=210]\n",
      "100%|██████████| 7/7 [00:00<00:00, 17.64it/s, avg_epoch_loss=0, epoch=211]\n",
      "100%|██████████| 7/7 [00:00<00:00, 18.04it/s, avg_epoch_loss=0, epoch=212]\n",
      "100%|██████████| 7/7 [00:00<00:00, 18.08it/s, avg_epoch_loss=0, epoch=213]\n",
      "100%|██████████| 7/7 [00:00<00:00, 17.98it/s, avg_epoch_loss=0, epoch=214]\n",
      "100%|██████████| 7/7 [00:00<00:00, 17.62it/s, avg_epoch_loss=0, epoch=215]\n",
      "100%|██████████| 7/7 [00:00<00:00, 18.15it/s, avg_epoch_loss=0, epoch=216]\n",
      "100%|██████████| 7/7 [00:00<00:00, 18.09it/s, avg_epoch_loss=0, epoch=217]\n",
      "100%|██████████| 7/7 [00:00<00:00, 17.85it/s, avg_epoch_loss=0, epoch=218]\n",
      "100%|██████████| 7/7 [00:00<00:00, 17.93it/s, avg_epoch_loss=0, epoch=219]\n",
      "100%|██████████| 7/7 [00:00<00:00, 17.98it/s, avg_epoch_loss=0, epoch=220]\n",
      "100%|██████████| 7/7 [00:00<00:00, 14.48it/s, avg_epoch_loss=0, epoch=221]\n",
      "100%|██████████| 7/7 [00:00<00:00, 17.15it/s, avg_epoch_loss=0, epoch=222]\n",
      "100%|██████████| 7/7 [00:00<00:00, 17.38it/s, avg_epoch_loss=0, epoch=223]\n",
      "100%|██████████| 7/7 [00:00<00:00, 16.83it/s, avg_epoch_loss=0, epoch=224]\n",
      "100%|██████████| 7/7 [00:00<00:00, 17.30it/s, avg_epoch_loss=0, epoch=225]\n",
      "100%|██████████| 7/7 [00:00<00:00, 16.77it/s, avg_epoch_loss=0, epoch=226]\n",
      "100%|██████████| 7/7 [00:00<00:00, 17.37it/s, avg_epoch_loss=0, epoch=227]\n",
      "100%|██████████| 7/7 [00:00<00:00, 17.80it/s, avg_epoch_loss=0, epoch=228]\n",
      "100%|██████████| 7/7 [00:00<00:00, 18.10it/s, avg_epoch_loss=0, epoch=229]\n",
      "100%|██████████| 7/7 [00:00<00:00, 18.22it/s, avg_epoch_loss=0, epoch=230]\n",
      "100%|██████████| 7/7 [00:00<00:00, 17.67it/s, avg_epoch_loss=0, epoch=231]\n",
      "100%|██████████| 7/7 [00:00<00:00, 18.29it/s, avg_epoch_loss=0, epoch=232]\n",
      "100%|██████████| 7/7 [00:00<00:00, 18.10it/s, avg_epoch_loss=0, epoch=233]\n",
      "100%|██████████| 7/7 [00:00<00:00, 17.93it/s, avg_epoch_loss=0, epoch=234]\n",
      "100%|██████████| 7/7 [00:00<00:00, 18.10it/s, avg_epoch_loss=0, epoch=235]\n",
      "100%|██████████| 7/7 [00:00<00:00, 18.03it/s, avg_epoch_loss=0, epoch=236]\n",
      "100%|██████████| 7/7 [00:00<00:00, 17.88it/s, avg_epoch_loss=0, epoch=237]\n",
      "100%|██████████| 7/7 [00:00<00:00, 17.76it/s, avg_epoch_loss=0, epoch=238]\n",
      "100%|██████████| 7/7 [00:00<00:00, 17.80it/s, avg_epoch_loss=0, epoch=239]\n",
      "100%|██████████| 7/7 [00:00<00:00, 18.09it/s, avg_epoch_loss=0, epoch=240]\n",
      "100%|██████████| 7/7 [00:00<00:00, 17.96it/s, avg_epoch_loss=0, epoch=241]\n",
      "100%|██████████| 7/7 [00:00<00:00, 18.04it/s, avg_epoch_loss=0, epoch=242]\n",
      "100%|██████████| 7/7 [00:00<00:00, 17.12it/s, avg_epoch_loss=0, epoch=243]\n",
      "100%|██████████| 7/7 [00:00<00:00, 16.84it/s, avg_epoch_loss=0, epoch=244]\n",
      "100%|██████████| 7/7 [00:00<00:00, 16.93it/s, avg_epoch_loss=0, epoch=245]\n",
      "100%|██████████| 7/7 [00:00<00:00, 19.30it/s, avg_epoch_loss=0, epoch=246]\n",
      "100%|██████████| 7/7 [00:00<00:00, 18.78it/s, avg_epoch_loss=0, epoch=247]\n",
      "100%|██████████| 7/7 [00:00<00:00, 18.01it/s, avg_epoch_loss=0, epoch=248]\n",
      "100%|██████████| 7/7 [00:00<00:00, 17.90it/s, avg_epoch_loss=0, epoch=249]\n"
     ]
    },
    {
     "name": "stdout",
     "output_type": "stream",
     "text": [
      "Start validation!!!\n",
      "Epoch: 249\n"
     ]
    },
    {
     "name": "stderr",
     "output_type": "stream",
     "text": [
      "100%|██████████| 2/2 [01:02<00:00, 31.11s/it]\n"
     ]
    },
    {
     "name": "stdout",
     "output_type": "stream",
     "text": [
      "====================================\n",
      "##### End evaluation!!\n",
      "PEHE VAL = 8.31e+03\n"
     ]
    },
    {
     "name": "stderr",
     "output_type": "stream",
     "text": [
      "100%|██████████| 7/7 [00:00<00:00, 16.97it/s, avg_epoch_loss=0, epoch=250]\n",
      "100%|██████████| 7/7 [00:00<00:00, 17.90it/s, avg_epoch_loss=0, epoch=251]\n",
      "100%|██████████| 7/7 [00:00<00:00, 14.75it/s, avg_epoch_loss=0, epoch=252]\n",
      "100%|██████████| 7/7 [00:00<00:00, 17.26it/s, avg_epoch_loss=0, epoch=253]\n",
      "100%|██████████| 7/7 [00:00<00:00, 17.83it/s, avg_epoch_loss=0, epoch=254]\n",
      "100%|██████████| 7/7 [00:00<00:00, 17.63it/s, avg_epoch_loss=0, epoch=255]\n",
      "100%|██████████| 7/7 [00:00<00:00, 17.57it/s, avg_epoch_loss=0, epoch=256]\n",
      "100%|██████████| 7/7 [00:00<00:00, 15.86it/s, avg_epoch_loss=0, epoch=257]\n",
      "100%|██████████| 7/7 [00:00<00:00, 15.77it/s, avg_epoch_loss=0, epoch=258]\n",
      "100%|██████████| 7/7 [00:00<00:00, 15.43it/s, avg_epoch_loss=0, epoch=259]\n",
      "100%|██████████| 7/7 [00:00<00:00, 16.30it/s, avg_epoch_loss=0, epoch=260]\n",
      "100%|██████████| 7/7 [00:00<00:00, 15.55it/s, avg_epoch_loss=0, epoch=261]\n",
      "100%|██████████| 7/7 [00:00<00:00, 18.32it/s, avg_epoch_loss=0, epoch=262]\n",
      "100%|██████████| 7/7 [00:00<00:00, 18.19it/s, avg_epoch_loss=0, epoch=263]\n",
      "100%|██████████| 7/7 [00:00<00:00, 18.27it/s, avg_epoch_loss=0, epoch=264]\n",
      "100%|██████████| 7/7 [00:00<00:00, 18.63it/s, avg_epoch_loss=0, epoch=265]\n",
      "100%|██████████| 7/7 [00:00<00:00, 18.09it/s, avg_epoch_loss=0, epoch=266]\n",
      "100%|██████████| 7/7 [00:00<00:00, 17.62it/s, avg_epoch_loss=0, epoch=267]\n",
      "100%|██████████| 7/7 [00:00<00:00, 18.02it/s, avg_epoch_loss=0, epoch=268]\n",
      "100%|██████████| 7/7 [00:00<00:00, 17.74it/s, avg_epoch_loss=0, epoch=269]\n",
      "100%|██████████| 7/7 [00:00<00:00, 14.10it/s, avg_epoch_loss=0, epoch=270]\n",
      "100%|██████████| 7/7 [00:00<00:00, 17.18it/s, avg_epoch_loss=0, epoch=271]\n",
      "100%|██████████| 7/7 [00:00<00:00, 16.54it/s, avg_epoch_loss=0, epoch=272]\n",
      "100%|██████████| 7/7 [00:00<00:00, 17.87it/s, avg_epoch_loss=0, epoch=273]\n",
      "100%|██████████| 7/7 [00:00<00:00, 13.13it/s, avg_epoch_loss=0, epoch=274]\n",
      "100%|██████████| 7/7 [00:00<00:00, 16.41it/s, avg_epoch_loss=0, epoch=275]\n",
      "100%|██████████| 7/7 [00:00<00:00, 16.86it/s, avg_epoch_loss=0, epoch=276]\n",
      "100%|██████████| 7/7 [00:00<00:00, 17.18it/s, avg_epoch_loss=0, epoch=277]\n",
      "100%|██████████| 7/7 [00:00<00:00, 17.13it/s, avg_epoch_loss=0, epoch=278]\n",
      "100%|██████████| 7/7 [00:00<00:00, 16.76it/s, avg_epoch_loss=0, epoch=279]\n",
      "100%|██████████| 7/7 [00:00<00:00, 17.45it/s, avg_epoch_loss=0, epoch=280]\n",
      "100%|██████████| 7/7 [00:00<00:00, 16.74it/s, avg_epoch_loss=0, epoch=281]\n",
      "100%|██████████| 7/7 [00:00<00:00, 18.15it/s, avg_epoch_loss=0, epoch=282]\n",
      "100%|██████████| 7/7 [00:00<00:00, 17.91it/s, avg_epoch_loss=0, epoch=283]\n",
      "100%|██████████| 7/7 [00:00<00:00, 18.04it/s, avg_epoch_loss=0, epoch=284]\n",
      "100%|██████████| 7/7 [00:00<00:00, 17.81it/s, avg_epoch_loss=0, epoch=285]\n",
      "100%|██████████| 7/7 [00:00<00:00, 18.75it/s, avg_epoch_loss=0, epoch=286]\n",
      "100%|██████████| 7/7 [00:00<00:00, 19.07it/s, avg_epoch_loss=0, epoch=287]\n",
      "100%|██████████| 7/7 [00:00<00:00, 18.02it/s, avg_epoch_loss=0, epoch=288]\n",
      "100%|██████████| 7/7 [00:00<00:00, 17.97it/s, avg_epoch_loss=0, epoch=289]\n",
      "100%|██████████| 7/7 [00:00<00:00, 14.13it/s, avg_epoch_loss=0, epoch=290]\n",
      "100%|██████████| 7/7 [00:00<00:00, 17.58it/s, avg_epoch_loss=0, epoch=291]\n",
      "100%|██████████| 7/7 [00:00<00:00, 17.75it/s, avg_epoch_loss=0, epoch=292]\n",
      "100%|██████████| 7/7 [00:00<00:00, 16.33it/s, avg_epoch_loss=0, epoch=293]\n",
      "100%|██████████| 7/7 [00:00<00:00, 18.02it/s, avg_epoch_loss=0, epoch=294]\n",
      "100%|██████████| 7/7 [00:00<00:00, 17.94it/s, avg_epoch_loss=0, epoch=295]\n",
      "100%|██████████| 7/7 [00:00<00:00, 18.11it/s, avg_epoch_loss=0, epoch=296]\n",
      "100%|██████████| 7/7 [00:00<00:00, 17.71it/s, avg_epoch_loss=0, epoch=297]\n",
      "100%|██████████| 7/7 [00:00<00:00, 18.01it/s, avg_epoch_loss=0, epoch=298]\n",
      "100%|██████████| 7/7 [00:00<00:00, 17.92it/s, avg_epoch_loss=0, epoch=299]\n"
     ]
    },
    {
     "name": "stdout",
     "output_type": "stream",
     "text": [
      "Start validation!!!\n",
      "Epoch: 299\n"
     ]
    },
    {
     "name": "stderr",
     "output_type": "stream",
     "text": [
      "100%|██████████| 2/2 [00:58<00:00, 29.18s/it]\n"
     ]
    },
    {
     "name": "stdout",
     "output_type": "stream",
     "text": [
      "====================================\n",
      "##### End evaluation!!\n",
      "PEHE VAL = 8.37e+03\n"
     ]
    },
    {
     "name": "stderr",
     "output_type": "stream",
     "text": [
      "100%|██████████| 7/7 [00:00<00:00, 18.14it/s, avg_epoch_loss=0, epoch=300]\n",
      "100%|██████████| 7/7 [00:00<00:00, 18.09it/s, avg_epoch_loss=0, epoch=301]\n",
      "100%|██████████| 7/7 [00:00<00:00, 18.08it/s, avg_epoch_loss=0, epoch=302]\n",
      "100%|██████████| 7/7 [00:00<00:00, 15.26it/s, avg_epoch_loss=0, epoch=303]\n",
      "100%|██████████| 7/7 [00:00<00:00, 18.56it/s, avg_epoch_loss=0, epoch=304]\n",
      "100%|██████████| 7/7 [00:00<00:00, 17.93it/s, avg_epoch_loss=0, epoch=305]\n",
      "100%|██████████| 7/7 [00:00<00:00, 18.30it/s, avg_epoch_loss=0, epoch=306]\n",
      "100%|██████████| 7/7 [00:00<00:00, 18.33it/s, avg_epoch_loss=0, epoch=307]\n",
      "100%|██████████| 7/7 [00:00<00:00, 18.17it/s, avg_epoch_loss=0, epoch=308]\n",
      "100%|██████████| 7/7 [00:00<00:00, 18.41it/s, avg_epoch_loss=0, epoch=309]\n",
      "100%|██████████| 7/7 [00:00<00:00, 18.05it/s, avg_epoch_loss=0, epoch=310]\n",
      "100%|██████████| 7/7 [00:00<00:00, 18.30it/s, avg_epoch_loss=0, epoch=311]\n",
      "100%|██████████| 7/7 [00:00<00:00, 18.37it/s, avg_epoch_loss=0, epoch=312]\n",
      "100%|██████████| 7/7 [00:00<00:00, 18.45it/s, avg_epoch_loss=0, epoch=313]\n",
      "100%|██████████| 7/7 [00:00<00:00, 18.39it/s, avg_epoch_loss=0, epoch=314]\n",
      "100%|██████████| 7/7 [00:00<00:00, 18.29it/s, avg_epoch_loss=0, epoch=315]\n",
      "100%|██████████| 7/7 [00:00<00:00, 15.77it/s, avg_epoch_loss=0, epoch=316]\n",
      "100%|██████████| 7/7 [00:00<00:00, 18.61it/s, avg_epoch_loss=0, epoch=317]\n",
      "100%|██████████| 7/7 [00:00<00:00, 18.31it/s, avg_epoch_loss=0, epoch=318]\n",
      "100%|██████████| 7/7 [00:00<00:00, 18.44it/s, avg_epoch_loss=0, epoch=319]\n",
      "100%|██████████| 7/7 [00:00<00:00, 18.08it/s, avg_epoch_loss=0, epoch=320]\n",
      "100%|██████████| 7/7 [00:00<00:00, 18.42it/s, avg_epoch_loss=0, epoch=321]\n",
      "100%|██████████| 7/7 [00:00<00:00, 18.44it/s, avg_epoch_loss=0, epoch=322]\n",
      "100%|██████████| 7/7 [00:00<00:00, 18.67it/s, avg_epoch_loss=0, epoch=323]\n",
      "100%|██████████| 7/7 [00:00<00:00, 16.17it/s, avg_epoch_loss=0, epoch=324]\n",
      "100%|██████████| 7/7 [00:00<00:00, 16.00it/s, avg_epoch_loss=0, epoch=325]\n",
      "100%|██████████| 7/7 [00:00<00:00, 18.02it/s, avg_epoch_loss=0, epoch=326]\n",
      "100%|██████████| 7/7 [00:00<00:00, 18.39it/s, avg_epoch_loss=0, epoch=327]\n",
      "100%|██████████| 7/7 [00:00<00:00, 18.32it/s, avg_epoch_loss=0, epoch=328]\n",
      "100%|██████████| 7/7 [00:00<00:00, 18.68it/s, avg_epoch_loss=0, epoch=329]\n",
      "100%|██████████| 7/7 [00:00<00:00, 18.48it/s, avg_epoch_loss=0, epoch=330]\n",
      "100%|██████████| 7/7 [00:00<00:00, 18.27it/s, avg_epoch_loss=0, epoch=331]\n",
      "100%|██████████| 7/7 [00:00<00:00, 16.94it/s, avg_epoch_loss=0, epoch=332]\n",
      "100%|██████████| 7/7 [00:00<00:00, 18.25it/s, avg_epoch_loss=0, epoch=333]\n",
      "100%|██████████| 7/7 [00:00<00:00, 18.25it/s, avg_epoch_loss=0, epoch=334]\n",
      "100%|██████████| 7/7 [00:00<00:00, 18.16it/s, avg_epoch_loss=0, epoch=335]\n",
      "100%|██████████| 7/7 [00:00<00:00, 18.00it/s, avg_epoch_loss=0, epoch=336]\n",
      "100%|██████████| 7/7 [00:00<00:00, 18.28it/s, avg_epoch_loss=0, epoch=337]\n",
      "100%|██████████| 7/7 [00:00<00:00, 18.34it/s, avg_epoch_loss=0, epoch=338]\n",
      "100%|██████████| 7/7 [00:00<00:00, 18.30it/s, avg_epoch_loss=0, epoch=339]\n",
      "100%|██████████| 7/7 [00:00<00:00, 18.24it/s, avg_epoch_loss=0, epoch=340]\n",
      "100%|██████████| 7/7 [00:00<00:00, 18.19it/s, avg_epoch_loss=0, epoch=341]\n",
      "100%|██████████| 7/7 [00:00<00:00, 18.00it/s, avg_epoch_loss=0, epoch=342]\n",
      "100%|██████████| 7/7 [00:00<00:00, 18.28it/s, avg_epoch_loss=0, epoch=343]\n",
      "100%|██████████| 7/7 [00:00<00:00, 18.30it/s, avg_epoch_loss=0, epoch=344]\n",
      "100%|██████████| 7/7 [00:00<00:00, 19.96it/s, avg_epoch_loss=0, epoch=345]\n",
      "100%|██████████| 7/7 [00:00<00:00, 18.17it/s, avg_epoch_loss=0, epoch=346]\n",
      "100%|██████████| 7/7 [00:00<00:00, 18.03it/s, avg_epoch_loss=0, epoch=347]\n",
      "100%|██████████| 7/7 [00:00<00:00, 18.12it/s, avg_epoch_loss=0, epoch=348]\n",
      "100%|██████████| 7/7 [00:00<00:00, 18.51it/s, avg_epoch_loss=0, epoch=349]\n"
     ]
    },
    {
     "name": "stdout",
     "output_type": "stream",
     "text": [
      "Start validation!!!\n",
      "Epoch: 349\n"
     ]
    },
    {
     "name": "stderr",
     "output_type": "stream",
     "text": [
      "100%|██████████| 2/2 [00:59<00:00, 29.69s/it]\n"
     ]
    },
    {
     "name": "stdout",
     "output_type": "stream",
     "text": [
      "====================================\n",
      "##### End evaluation!!\n",
      "PEHE VAL = 8.91e+03\n"
     ]
    },
    {
     "name": "stderr",
     "output_type": "stream",
     "text": [
      "100%|██████████| 7/7 [00:00<00:00, 16.75it/s, avg_epoch_loss=0, epoch=350]\n",
      "100%|██████████| 7/7 [00:00<00:00, 18.76it/s, avg_epoch_loss=0, epoch=351]\n",
      "100%|██████████| 7/7 [00:00<00:00, 14.45it/s, avg_epoch_loss=0, epoch=352]\n",
      "100%|██████████| 7/7 [00:00<00:00, 17.97it/s, avg_epoch_loss=0, epoch=353]\n",
      "100%|██████████| 7/7 [00:00<00:00, 18.48it/s, avg_epoch_loss=0, epoch=354]\n",
      "100%|██████████| 7/7 [00:00<00:00, 15.88it/s, avg_epoch_loss=0, epoch=355]\n",
      "100%|██████████| 7/7 [00:00<00:00, 12.75it/s, avg_epoch_loss=0, epoch=356]\n",
      "100%|██████████| 7/7 [00:00<00:00, 17.58it/s, avg_epoch_loss=0, epoch=357]\n",
      "100%|██████████| 7/7 [00:00<00:00, 18.15it/s, avg_epoch_loss=0, epoch=358]\n",
      "100%|██████████| 7/7 [00:00<00:00, 17.98it/s, avg_epoch_loss=0, epoch=359]\n",
      "100%|██████████| 7/7 [00:00<00:00, 18.07it/s, avg_epoch_loss=0, epoch=360]\n",
      "100%|██████████| 7/7 [00:00<00:00, 17.92it/s, avg_epoch_loss=0, epoch=361]\n",
      "100%|██████████| 7/7 [00:00<00:00, 17.68it/s, avg_epoch_loss=0, epoch=362]\n",
      "100%|██████████| 7/7 [00:00<00:00, 18.08it/s, avg_epoch_loss=0, epoch=363]\n",
      "100%|██████████| 7/7 [00:00<00:00, 18.07it/s, avg_epoch_loss=0, epoch=364]\n",
      "100%|██████████| 7/7 [00:00<00:00, 16.01it/s, avg_epoch_loss=0, epoch=365]\n",
      "100%|██████████| 7/7 [00:00<00:00, 18.15it/s, avg_epoch_loss=0, epoch=366]\n",
      "100%|██████████| 7/7 [00:00<00:00, 17.96it/s, avg_epoch_loss=0, epoch=367]\n",
      "100%|██████████| 7/7 [00:00<00:00, 18.31it/s, avg_epoch_loss=0, epoch=368]\n",
      "100%|██████████| 7/7 [00:00<00:00, 18.29it/s, avg_epoch_loss=0, epoch=369]\n",
      "100%|██████████| 7/7 [00:00<00:00, 18.43it/s, avg_epoch_loss=0, epoch=370]\n",
      "100%|██████████| 7/7 [00:00<00:00, 18.14it/s, avg_epoch_loss=0, epoch=371]\n",
      "100%|██████████| 7/7 [00:00<00:00, 18.33it/s, avg_epoch_loss=0, epoch=372]\n",
      "100%|██████████| 7/7 [00:00<00:00, 18.49it/s, avg_epoch_loss=0, epoch=373]\n",
      "100%|██████████| 7/7 [00:00<00:00, 18.02it/s, avg_epoch_loss=0, epoch=374]\n",
      "100%|██████████| 7/7 [00:00<00:00, 18.40it/s, avg_epoch_loss=0, epoch=375]\n",
      "100%|██████████| 7/7 [00:00<00:00, 18.17it/s, avg_epoch_loss=0, epoch=376]\n",
      "100%|██████████| 7/7 [00:00<00:00, 18.32it/s, avg_epoch_loss=0, epoch=377]\n",
      "100%|██████████| 7/7 [00:00<00:00, 18.26it/s, avg_epoch_loss=0, epoch=378]\n",
      "100%|██████████| 7/7 [00:00<00:00, 14.36it/s, avg_epoch_loss=0, epoch=379]\n",
      "100%|██████████| 7/7 [00:00<00:00, 17.09it/s, avg_epoch_loss=0, epoch=380]\n",
      "100%|██████████| 7/7 [00:00<00:00, 17.15it/s, avg_epoch_loss=0, epoch=381]\n",
      "100%|██████████| 7/7 [00:00<00:00, 17.73it/s, avg_epoch_loss=0, epoch=382]\n",
      "100%|██████████| 7/7 [00:00<00:00, 17.56it/s, avg_epoch_loss=0, epoch=383]\n",
      "100%|██████████| 7/7 [00:00<00:00, 17.63it/s, avg_epoch_loss=0, epoch=384]\n",
      "100%|██████████| 7/7 [00:00<00:00, 17.58it/s, avg_epoch_loss=0, epoch=385]\n",
      "100%|██████████| 7/7 [00:00<00:00, 17.33it/s, avg_epoch_loss=0, epoch=386]\n",
      "100%|██████████| 7/7 [00:00<00:00, 17.62it/s, avg_epoch_loss=0, epoch=387]\n",
      "100%|██████████| 7/7 [00:00<00:00, 17.73it/s, avg_epoch_loss=0, epoch=388]\n",
      "100%|██████████| 7/7 [00:00<00:00, 17.24it/s, avg_epoch_loss=0, epoch=389]\n",
      "100%|██████████| 7/7 [00:00<00:00, 17.04it/s, avg_epoch_loss=0, epoch=390]\n",
      "100%|██████████| 7/7 [00:00<00:00, 17.58it/s, avg_epoch_loss=0, epoch=391]\n",
      "100%|██████████| 7/7 [00:00<00:00, 17.14it/s, avg_epoch_loss=0, epoch=392]\n",
      "100%|██████████| 7/7 [00:00<00:00, 15.90it/s, avg_epoch_loss=0, epoch=393]\n",
      "100%|██████████| 7/7 [00:00<00:00, 18.29it/s, avg_epoch_loss=0, epoch=394]\n",
      "100%|██████████| 7/7 [00:00<00:00, 18.32it/s, avg_epoch_loss=0, epoch=395]\n",
      "100%|██████████| 7/7 [00:00<00:00, 18.23it/s, avg_epoch_loss=0, epoch=396]\n",
      "100%|██████████| 7/7 [00:00<00:00, 16.63it/s, avg_epoch_loss=0, epoch=397]\n",
      "100%|██████████| 7/7 [00:00<00:00, 18.04it/s, avg_epoch_loss=0, epoch=398]\n",
      "100%|██████████| 7/7 [00:00<00:00, 18.23it/s, avg_epoch_loss=0, epoch=399]\n"
     ]
    },
    {
     "name": "stdout",
     "output_type": "stream",
     "text": [
      "Start validation!!!\n",
      "Epoch: 399\n"
     ]
    },
    {
     "name": "stderr",
     "output_type": "stream",
     "text": [
      "100%|██████████| 2/2 [01:01<00:00, 30.93s/it]\n"
     ]
    },
    {
     "name": "stdout",
     "output_type": "stream",
     "text": [
      "====================================\n",
      "##### End evaluation!!\n",
      "PEHE VAL = 8.9e+03\n"
     ]
    },
    {
     "name": "stderr",
     "output_type": "stream",
     "text": [
      "100%|██████████| 7/7 [00:00<00:00, 18.06it/s, avg_epoch_loss=0, epoch=400]\n",
      "100%|██████████| 7/7 [00:00<00:00, 18.07it/s, avg_epoch_loss=0, epoch=401]\n",
      "100%|██████████| 7/7 [00:00<00:00, 18.00it/s, avg_epoch_loss=0, epoch=402]\n",
      "100%|██████████| 7/7 [00:00<00:00, 18.28it/s, avg_epoch_loss=0, epoch=403]\n",
      "100%|██████████| 7/7 [00:00<00:00, 14.03it/s, avg_epoch_loss=0, epoch=404]\n",
      "100%|██████████| 7/7 [00:00<00:00, 15.00it/s, avg_epoch_loss=0, epoch=405]\n",
      "100%|██████████| 7/7 [00:00<00:00, 17.60it/s, avg_epoch_loss=0, epoch=406]\n",
      "100%|██████████| 7/7 [00:00<00:00, 17.53it/s, avg_epoch_loss=0, epoch=407]\n",
      "100%|██████████| 7/7 [00:00<00:00, 18.14it/s, avg_epoch_loss=0, epoch=408]\n",
      "100%|██████████| 7/7 [00:00<00:00, 16.28it/s, avg_epoch_loss=0, epoch=409]\n",
      "100%|██████████| 7/7 [00:00<00:00, 16.55it/s, avg_epoch_loss=0, epoch=410]\n",
      "100%|██████████| 7/7 [00:00<00:00, 16.66it/s, avg_epoch_loss=0, epoch=411]\n",
      "100%|██████████| 7/7 [00:00<00:00, 17.38it/s, avg_epoch_loss=0, epoch=412]\n",
      "100%|██████████| 7/7 [00:00<00:00, 17.98it/s, avg_epoch_loss=0, epoch=413]\n",
      "100%|██████████| 7/7 [00:00<00:00, 17.92it/s, avg_epoch_loss=0, epoch=414]\n",
      "100%|██████████| 7/7 [00:00<00:00, 17.78it/s, avg_epoch_loss=0, epoch=415]\n",
      "100%|██████████| 7/7 [00:00<00:00, 17.82it/s, avg_epoch_loss=0, epoch=416]\n",
      "100%|██████████| 7/7 [00:00<00:00, 17.77it/s, avg_epoch_loss=0, epoch=417]\n",
      "100%|██████████| 7/7 [00:00<00:00, 17.87it/s, avg_epoch_loss=0, epoch=418]\n",
      "100%|██████████| 7/7 [00:00<00:00, 18.08it/s, avg_epoch_loss=0, epoch=419]\n",
      "100%|██████████| 7/7 [00:00<00:00, 17.96it/s, avg_epoch_loss=0, epoch=420]\n",
      "100%|██████████| 7/7 [00:00<00:00, 17.37it/s, avg_epoch_loss=0, epoch=421]\n",
      "100%|██████████| 7/7 [00:00<00:00, 17.40it/s, avg_epoch_loss=0, epoch=422]\n",
      "100%|██████████| 7/7 [00:00<00:00, 17.99it/s, avg_epoch_loss=0, epoch=423]\n",
      "100%|██████████| 7/7 [00:00<00:00, 18.00it/s, avg_epoch_loss=0, epoch=424]\n",
      "100%|██████████| 7/7 [00:00<00:00, 17.26it/s, avg_epoch_loss=0, epoch=425]\n",
      "100%|██████████| 7/7 [00:00<00:00, 16.77it/s, avg_epoch_loss=0, epoch=426]\n",
      "100%|██████████| 7/7 [00:00<00:00, 17.96it/s, avg_epoch_loss=0, epoch=427]\n",
      "100%|██████████| 7/7 [00:00<00:00, 18.00it/s, avg_epoch_loss=0, epoch=428]\n",
      "100%|██████████| 7/7 [00:00<00:00, 18.11it/s, avg_epoch_loss=0, epoch=429]\n",
      "100%|██████████| 7/7 [00:00<00:00, 15.73it/s, avg_epoch_loss=0, epoch=430]\n",
      "100%|██████████| 7/7 [00:00<00:00, 18.73it/s, avg_epoch_loss=0, epoch=431]\n",
      "100%|██████████| 7/7 [00:00<00:00, 18.58it/s, avg_epoch_loss=0, epoch=432]\n",
      "100%|██████████| 7/7 [00:00<00:00, 18.45it/s, avg_epoch_loss=0, epoch=433]\n",
      "100%|██████████| 7/7 [00:00<00:00, 18.46it/s, avg_epoch_loss=0, epoch=434]\n",
      "100%|██████████| 7/7 [00:00<00:00, 18.23it/s, avg_epoch_loss=0, epoch=435]\n",
      "100%|██████████| 7/7 [00:00<00:00, 18.31it/s, avg_epoch_loss=0, epoch=436]\n",
      "100%|██████████| 7/7 [00:00<00:00, 18.27it/s, avg_epoch_loss=0, epoch=437]\n",
      "100%|██████████| 7/7 [00:00<00:00, 18.34it/s, avg_epoch_loss=0, epoch=438]\n",
      "100%|██████████| 7/7 [00:00<00:00, 16.32it/s, avg_epoch_loss=0, epoch=439]\n",
      "100%|██████████| 7/7 [00:00<00:00, 14.99it/s, avg_epoch_loss=0, epoch=440]\n",
      "100%|██████████| 7/7 [00:00<00:00, 17.61it/s, avg_epoch_loss=0, epoch=441]\n",
      "100%|██████████| 7/7 [00:00<00:00, 18.19it/s, avg_epoch_loss=0, epoch=442]\n",
      "100%|██████████| 7/7 [00:00<00:00, 17.92it/s, avg_epoch_loss=0, epoch=443]\n",
      "100%|██████████| 7/7 [00:00<00:00, 18.55it/s, avg_epoch_loss=0, epoch=444]\n",
      "100%|██████████| 7/7 [00:00<00:00, 16.56it/s, avg_epoch_loss=0, epoch=445]\n",
      "100%|██████████| 7/7 [00:00<00:00, 17.50it/s, avg_epoch_loss=0, epoch=446]\n",
      "100%|██████████| 7/7 [00:00<00:00, 17.77it/s, avg_epoch_loss=0, epoch=447]\n",
      "100%|██████████| 7/7 [00:00<00:00, 17.59it/s, avg_epoch_loss=0, epoch=448]\n",
      "100%|██████████| 7/7 [00:00<00:00, 17.52it/s, avg_epoch_loss=0, epoch=449]\n"
     ]
    },
    {
     "name": "stdout",
     "output_type": "stream",
     "text": [
      "Start validation!!!\n",
      "Epoch: 449\n"
     ]
    },
    {
     "name": "stderr",
     "output_type": "stream",
     "text": [
      "100%|██████████| 2/2 [01:01<00:00, 30.66s/it]\n"
     ]
    },
    {
     "name": "stdout",
     "output_type": "stream",
     "text": [
      "====================================\n",
      "##### End evaluation!!\n",
      "PEHE VAL = 8.03e+03\n"
     ]
    },
    {
     "name": "stderr",
     "output_type": "stream",
     "text": [
      "100%|██████████| 7/7 [00:00<00:00, 14.47it/s, avg_epoch_loss=0, epoch=450]\n",
      "100%|██████████| 7/7 [00:00<00:00, 17.02it/s, avg_epoch_loss=0, epoch=451]\n",
      "100%|██████████| 7/7 [00:00<00:00, 17.19it/s, avg_epoch_loss=0, epoch=452]\n",
      "100%|██████████| 7/7 [00:00<00:00, 17.14it/s, avg_epoch_loss=0, epoch=453]\n",
      "100%|██████████| 7/7 [00:00<00:00, 17.10it/s, avg_epoch_loss=0, epoch=454]\n",
      "100%|██████████| 7/7 [00:00<00:00, 17.89it/s, avg_epoch_loss=0, epoch=455]\n",
      "100%|██████████| 7/7 [00:00<00:00, 18.18it/s, avg_epoch_loss=0, epoch=456]\n",
      "100%|██████████| 7/7 [00:00<00:00, 18.47it/s, avg_epoch_loss=0, epoch=457]\n",
      "100%|██████████| 7/7 [00:00<00:00, 18.16it/s, avg_epoch_loss=0, epoch=458]\n",
      "100%|██████████| 7/7 [00:00<00:00, 13.74it/s, avg_epoch_loss=0, epoch=459]\n",
      "100%|██████████| 7/7 [00:00<00:00, 16.89it/s, avg_epoch_loss=0, epoch=460]\n",
      "100%|██████████| 7/7 [00:00<00:00, 18.22it/s, avg_epoch_loss=0, epoch=461]\n",
      "100%|██████████| 7/7 [00:00<00:00, 18.33it/s, avg_epoch_loss=0, epoch=462]\n",
      "100%|██████████| 7/7 [00:00<00:00, 17.99it/s, avg_epoch_loss=0, epoch=463]\n",
      "100%|██████████| 7/7 [00:00<00:00, 18.05it/s, avg_epoch_loss=0, epoch=464]\n",
      "100%|██████████| 7/7 [00:00<00:00, 18.24it/s, avg_epoch_loss=0, epoch=465]\n",
      "100%|██████████| 7/7 [00:00<00:00, 17.63it/s, avg_epoch_loss=0, epoch=466]\n",
      "100%|██████████| 7/7 [00:00<00:00, 18.03it/s, avg_epoch_loss=0, epoch=467]\n",
      "100%|██████████| 7/7 [00:00<00:00, 17.43it/s, avg_epoch_loss=0, epoch=468]\n",
      "100%|██████████| 7/7 [00:00<00:00, 16.77it/s, avg_epoch_loss=0, epoch=469]\n",
      "100%|██████████| 7/7 [00:00<00:00, 17.83it/s, avg_epoch_loss=0, epoch=470]\n",
      "100%|██████████| 7/7 [00:00<00:00, 15.09it/s, avg_epoch_loss=0, epoch=471]\n",
      "100%|██████████| 7/7 [00:00<00:00, 17.67it/s, avg_epoch_loss=0, epoch=472]\n",
      "100%|██████████| 7/7 [00:00<00:00, 18.16it/s, avg_epoch_loss=0, epoch=473]\n",
      "100%|██████████| 7/7 [00:00<00:00, 17.89it/s, avg_epoch_loss=0, epoch=474]\n",
      "100%|██████████| 7/7 [00:00<00:00, 18.06it/s, avg_epoch_loss=0, epoch=475]\n",
      "100%|██████████| 7/7 [00:00<00:00, 18.25it/s, avg_epoch_loss=0, epoch=476]\n",
      "100%|██████████| 7/7 [00:00<00:00, 14.07it/s, avg_epoch_loss=0, epoch=477]\n",
      "100%|██████████| 7/7 [00:00<00:00, 18.04it/s, avg_epoch_loss=0, epoch=478]\n",
      "100%|██████████| 7/7 [00:00<00:00, 18.05it/s, avg_epoch_loss=0, epoch=479]\n",
      "100%|██████████| 7/7 [00:00<00:00, 18.19it/s, avg_epoch_loss=0, epoch=480]\n",
      "100%|██████████| 7/7 [00:00<00:00, 18.25it/s, avg_epoch_loss=0, epoch=481]\n",
      "100%|██████████| 7/7 [00:00<00:00, 18.10it/s, avg_epoch_loss=0, epoch=482]\n",
      "100%|██████████| 7/7 [00:00<00:00, 18.18it/s, avg_epoch_loss=0, epoch=483]\n",
      "100%|██████████| 7/7 [00:00<00:00, 17.84it/s, avg_epoch_loss=0, epoch=484]\n",
      "100%|██████████| 7/7 [00:00<00:00, 18.13it/s, avg_epoch_loss=0, epoch=485]\n",
      "100%|██████████| 7/7 [00:00<00:00, 18.08it/s, avg_epoch_loss=0, epoch=486]\n",
      "100%|██████████| 7/7 [00:00<00:00, 17.83it/s, avg_epoch_loss=0, epoch=487]\n",
      "100%|██████████| 7/7 [00:00<00:00, 15.78it/s, avg_epoch_loss=0, epoch=488]\n",
      "100%|██████████| 7/7 [00:00<00:00, 14.10it/s, avg_epoch_loss=0, epoch=489]\n",
      "100%|██████████| 7/7 [00:00<00:00, 18.47it/s, avg_epoch_loss=0, epoch=490]\n",
      "100%|██████████| 7/7 [00:00<00:00, 18.38it/s, avg_epoch_loss=0, epoch=491]\n",
      "100%|██████████| 7/7 [00:00<00:00, 18.44it/s, avg_epoch_loss=0, epoch=492]\n",
      "100%|██████████| 7/7 [00:00<00:00, 17.95it/s, avg_epoch_loss=0, epoch=493]\n",
      "100%|██████████| 7/7 [00:00<00:00, 18.23it/s, avg_epoch_loss=0, epoch=494]\n",
      "100%|██████████| 7/7 [00:00<00:00, 14.53it/s, avg_epoch_loss=0, epoch=495]\n",
      "100%|██████████| 7/7 [00:00<00:00, 17.10it/s, avg_epoch_loss=0, epoch=496]\n",
      "100%|██████████| 7/7 [00:00<00:00, 15.69it/s, avg_epoch_loss=0, epoch=497]\n",
      "100%|██████████| 7/7 [00:00<00:00, 18.39it/s, avg_epoch_loss=0, epoch=498]\n",
      "100%|██████████| 7/7 [00:00<00:00, 17.83it/s, avg_epoch_loss=0, epoch=499]\n"
     ]
    },
    {
     "name": "stdout",
     "output_type": "stream",
     "text": [
      "Start validation!!!\n",
      "Epoch: 499\n"
     ]
    },
    {
     "name": "stderr",
     "output_type": "stream",
     "text": [
      "100%|██████████| 2/2 [01:04<00:00, 32.17s/it]\n"
     ]
    },
    {
     "name": "stdout",
     "output_type": "stream",
     "text": [
      "====================================\n",
      "##### End evaluation!!\n",
      "PEHE VAL = 8.54e+03\n",
      "Training complete.\n",
      "Evaluating the model...\n"
     ]
    },
    {
     "name": "stderr",
     "output_type": "stream",
     "text": [
      "100%|██████████| 12/12 [14:48<00:00, 74.06s/it]\n",
      "GPU available: True (mps), used: False\n",
      "TPU available: False, using: 0 TPU cores\n",
      "HPU available: False, using: 0 HPUs\n",
      "\n",
      "  | Name           | Type        | Params | Mode \n",
      "-------------------------------------------------------\n",
      "0 | balancer       | Sequential  | 1.6 K  | train\n",
      "1 | prior_encoder0 | Sequential  | 0      | train\n",
      "2 | prior_encoder1 | Sequential  | 0      | train\n",
      "3 | cond_mean0     | Sequential  | 701    | train\n",
      "4 | cond_mean1     | Sequential  | 701    | train\n",
      "5 | cond_std0      | Sequential  | 701    | train\n",
      "6 | cond_std1      | Sequential  | 701    | train\n",
      "7 | flows0         | DSFMarginal | 892    | train\n",
      "8 | flows1         | DSFMarginal | 892    | train\n",
      "-------------------------------------------------------\n",
      "6.2 K     Trainable params\n",
      "0         Non-trainable params\n",
      "6.2 K     Total params\n",
      "0.025     Total estimated model params size (MB)\n",
      "45        Modules in train mode\n",
      "0         Modules in eval mode\n"
     ]
    },
    {
     "name": "stdout",
     "output_type": "stream",
     "text": [
      "Fit and evaluate NOFLITE ...\n"
     ]
    },
    {
     "data": {
      "application/vnd.jupyter.widget-view+json": {
       "model_id": "32d9962e3e304126b63543aabb755771",
       "version_major": 2,
       "version_minor": 0
      },
      "text/plain": [
       "Training: |          | 0/? [00:00<?, ?it/s]"
      ]
     },
     "metadata": {},
     "output_type": "display_data"
    },
    {
     "name": "stderr",
     "output_type": "stream",
     "text": [
      "`Trainer.fit` stopped: `max_steps=10000` reached.\n"
     ]
    },
    {
     "name": "stdout",
     "output_type": "stream",
     "text": [
      "|====================================================================================================|Fit and evaluate CCT-learner ...\n",
      "Fit and evaluate BART ...\n"
     ]
    },
    {
     "name": "stderr",
     "output_type": "stream",
     "text": [
      "Multiprocess sampling (4 chains in 4 jobs)\n",
      "PGBART: [mu]\n"
     ]
    },
    {
     "data": {
      "application/vnd.jupyter.widget-view+json": {
       "model_id": "4623f4b7827c4cd38fbfb9f9eb867be1",
       "version_major": 2,
       "version_minor": 0
      },
      "text/plain": [
       "Output()"
      ]
     },
     "metadata": {},
     "output_type": "display_data"
    },
    {
     "data": {
      "text/html": [
       "<pre style=\"white-space:pre;overflow-x:auto;line-height:normal;font-family:Menlo,'DejaVu Sans Mono',consolas,'Courier New',monospace\"></pre>\n"
      ],
      "text/plain": []
     },
     "metadata": {},
     "output_type": "display_data"
    },
    {
     "name": "stderr",
     "output_type": "stream",
     "text": [
      "Sampling 4 chains for 500 tune and 500 draw iterations (2_000 + 2_000 draws total) took 20 seconds.\n",
      "The rhat statistic is larger than 1.01 for some parameters. This indicates problems during sampling. See https://arxiv.org/abs/1903.08008 for details\n",
      "The effective sample size per chain is smaller than 100 for some parameters.  A higher number is needed for reliable rhat and ess computation. See https://arxiv.org/abs/1903.08008 for details\n",
      "Sampling: [mu, y]\n"
     ]
    },
    {
     "data": {
      "application/vnd.jupyter.widget-view+json": {
       "model_id": "f58f423ade0b419ba3ea07db7455e92c",
       "version_major": 2,
       "version_minor": 0
      },
      "text/plain": [
       "Output()"
      ]
     },
     "metadata": {},
     "output_type": "display_data"
    },
    {
     "name": "stdout",
     "output_type": "stream",
     "text": [
      "X_extended (3000, 11)\n"
     ]
    },
    {
     "data": {
      "text/html": [
       "<pre style=\"white-space:pre;overflow-x:auto;line-height:normal;font-family:Menlo,'DejaVu Sans Mono',consolas,'Courier New',monospace\"></pre>\n"
      ],
      "text/plain": []
     },
     "metadata": {},
     "output_type": "display_data"
    },
    {
     "name": "stderr",
     "output_type": "stream",
     "text": [
      "Sampling: [mu, y]\n"
     ]
    },
    {
     "data": {
      "application/vnd.jupyter.widget-view+json": {
       "model_id": "cac659a00f51406a934db1b535595bec",
       "version_major": 2,
       "version_minor": 0
      },
      "text/plain": [
       "Output()"
      ]
     },
     "metadata": {},
     "output_type": "display_data"
    },
    {
     "data": {
      "text/html": [
       "<pre style=\"white-space:pre;overflow-x:auto;line-height:normal;font-family:Menlo,'DejaVu Sans Mono',consolas,'Courier New',monospace\"></pre>\n"
      ],
      "text/plain": []
     },
     "metadata": {},
     "output_type": "display_data"
    },
    {
     "name": "stderr",
     "output_type": "stream",
     "text": [
      "Sampling: [mu, y]\n"
     ]
    },
    {
     "data": {
      "application/vnd.jupyter.widget-view+json": {
       "model_id": "be3222b7135c425f83cfdda84c74b8a4",
       "version_major": 2,
       "version_minor": 0
      },
      "text/plain": [
       "Output()"
      ]
     },
     "metadata": {},
     "output_type": "display_data"
    },
    {
     "name": "stdout",
     "output_type": "stream",
     "text": [
      "X_extended (3000, 11)\n"
     ]
    },
    {
     "data": {
      "text/html": [
       "<pre style=\"white-space:pre;overflow-x:auto;line-height:normal;font-family:Menlo,'DejaVu Sans Mono',consolas,'Courier New',monospace\"></pre>\n"
      ],
      "text/plain": []
     },
     "metadata": {},
     "output_type": "display_data"
    },
    {
     "name": "stderr",
     "output_type": "stream",
     "text": [
      "Sampling: [mu, y]\n"
     ]
    },
    {
     "data": {
      "application/vnd.jupyter.widget-view+json": {
       "model_id": "43b23b8d5cad4290a3dc3317ebc1793c",
       "version_major": 2,
       "version_minor": 0
      },
      "text/plain": [
       "Output()"
      ]
     },
     "metadata": {},
     "output_type": "display_data"
    },
    {
     "data": {
      "text/html": [
       "<pre style=\"white-space:pre;overflow-x:auto;line-height:normal;font-family:Menlo,'DejaVu Sans Mono',consolas,'Courier New',monospace\"></pre>\n"
      ],
      "text/plain": []
     },
     "metadata": {},
     "output_type": "display_data"
    },
    {
     "name": "stdout",
     "output_type": "stream",
     "text": [
      "Fit and evaluate CMGP ...\n",
      "Fit and evaluate CEVAE ...\n",
      "Using cpu\n"
     ]
    },
    {
     "name": "stderr",
     "output_type": "stream",
     "text": [
      "100%|██████████| 7000/7000 [00:31<00:00, 219.78it/s]\n"
     ]
    },
    {
     "name": "stdout",
     "output_type": "stream",
     "text": [
      "Fit and evaluate FCCN ...\n"
     ]
    },
    {
     "name": "stderr",
     "output_type": "stream",
     "text": [
      "100%|██████████| 20000/20000 [01:58<00:00, 168.58it/s]\n"
     ]
    },
    {
     "name": "stdout",
     "output_type": "stream",
     "text": [
      "Fit and evaluate GANITE ...\n"
     ]
    },
    {
     "name": "stderr",
     "output_type": "stream",
     "text": [
      "Training Counterfactual GAN: 100%|██████████| 10000/10000 [11:19<00:00, 14.72it/s]\n",
      "Training ITE GAN: 100%|██████████| 10000/10000 [09:15<00:00, 18.01it/s]\n"
     ]
    },
    {
     "name": "stdout",
     "output_type": "stream",
     "text": [
      "Fit and evaluate DKLITE ...\n"
     ]
    },
    {
     "name": "stderr",
     "output_type": "stream",
     "text": [
      "  5%|▌         | 51/1000 [00:02<00:48, 19.74it/s]\n"
     ]
    },
    {
     "name": "stdout",
     "output_type": "stream",
     "text": [
      "Fit and evaluate diffpo ...\n"
     ]
    },
    {
     "name": "stderr",
     "output_type": "stream",
     "text": [
      "100%|██████████| 7/7 [00:00<00:00, 17.12it/s, avg_epoch_loss=0, epoch=0]\n",
      "100%|██████████| 7/7 [00:00<00:00, 18.50it/s, avg_epoch_loss=0, epoch=1]\n",
      "100%|██████████| 7/7 [00:00<00:00, 18.48it/s, avg_epoch_loss=0, epoch=2]\n",
      "100%|██████████| 7/7 [00:00<00:00, 17.80it/s, avg_epoch_loss=0, epoch=3]\n",
      "100%|██████████| 7/7 [00:00<00:00, 15.84it/s, avg_epoch_loss=0, epoch=4]\n",
      "100%|██████████| 7/7 [00:00<00:00, 16.45it/s, avg_epoch_loss=0, epoch=5]\n",
      "100%|██████████| 7/7 [00:00<00:00, 17.90it/s, avg_epoch_loss=0, epoch=6]\n",
      "100%|██████████| 7/7 [00:00<00:00, 16.60it/s, avg_epoch_loss=0, epoch=7]\n",
      "100%|██████████| 7/7 [00:00<00:00, 17.85it/s, avg_epoch_loss=0, epoch=8]\n",
      "100%|██████████| 7/7 [00:00<00:00, 17.25it/s, avg_epoch_loss=0, epoch=9]\n",
      "100%|██████████| 7/7 [00:00<00:00, 17.42it/s, avg_epoch_loss=0, epoch=10]\n",
      "100%|██████████| 7/7 [00:00<00:00, 17.41it/s, avg_epoch_loss=0, epoch=11]\n",
      "100%|██████████| 7/7 [00:00<00:00, 17.15it/s, avg_epoch_loss=0, epoch=12]\n",
      "100%|██████████| 7/7 [00:00<00:00, 17.91it/s, avg_epoch_loss=0, epoch=13]\n",
      "100%|██████████| 7/7 [00:00<00:00, 17.65it/s, avg_epoch_loss=0, epoch=14]\n",
      "100%|██████████| 7/7 [00:00<00:00, 17.63it/s, avg_epoch_loss=0, epoch=15]\n",
      "100%|██████████| 7/7 [00:00<00:00, 16.67it/s, avg_epoch_loss=0, epoch=16]\n",
      "100%|██████████| 7/7 [00:00<00:00, 14.67it/s, avg_epoch_loss=0, epoch=17]\n",
      "100%|██████████| 7/7 [00:00<00:00, 17.41it/s, avg_epoch_loss=0, epoch=18]\n",
      "100%|██████████| 7/7 [00:00<00:00, 16.99it/s, avg_epoch_loss=0, epoch=19]\n",
      "100%|██████████| 7/7 [00:00<00:00, 17.37it/s, avg_epoch_loss=0, epoch=20]\n",
      "100%|██████████| 7/7 [00:00<00:00, 16.95it/s, avg_epoch_loss=0, epoch=21]\n",
      "100%|██████████| 7/7 [00:00<00:00, 17.28it/s, avg_epoch_loss=0, epoch=22]\n",
      "100%|██████████| 7/7 [00:00<00:00, 14.27it/s, avg_epoch_loss=0, epoch=23]\n",
      "100%|██████████| 7/7 [00:00<00:00, 16.07it/s, avg_epoch_loss=0, epoch=24]\n",
      "100%|██████████| 7/7 [00:00<00:00, 17.42it/s, avg_epoch_loss=0, epoch=25]\n",
      "100%|██████████| 7/7 [00:00<00:00, 16.79it/s, avg_epoch_loss=0, epoch=26]\n",
      "100%|██████████| 7/7 [00:00<00:00, 17.68it/s, avg_epoch_loss=0, epoch=27]\n",
      "100%|██████████| 7/7 [00:00<00:00, 17.27it/s, avg_epoch_loss=0, epoch=28]\n",
      "100%|██████████| 7/7 [00:00<00:00, 17.84it/s, avg_epoch_loss=0, epoch=29]\n",
      "100%|██████████| 7/7 [00:00<00:00, 16.49it/s, avg_epoch_loss=0, epoch=30]\n",
      "100%|██████████| 7/7 [00:00<00:00, 16.79it/s, avg_epoch_loss=0, epoch=31]\n",
      "100%|██████████| 7/7 [00:00<00:00, 15.49it/s, avg_epoch_loss=0, epoch=32]\n",
      "100%|██████████| 7/7 [00:00<00:00, 17.95it/s, avg_epoch_loss=0, epoch=33]\n",
      "100%|██████████| 7/7 [00:00<00:00, 16.44it/s, avg_epoch_loss=0, epoch=34]\n",
      "100%|██████████| 7/7 [00:00<00:00, 14.36it/s, avg_epoch_loss=0, epoch=35]\n",
      "100%|██████████| 7/7 [00:00<00:00, 17.49it/s, avg_epoch_loss=0, epoch=36]\n",
      "100%|██████████| 7/7 [00:00<00:00, 17.63it/s, avg_epoch_loss=0, epoch=37]\n",
      "100%|██████████| 7/7 [00:00<00:00, 17.85it/s, avg_epoch_loss=0, epoch=38]\n",
      "100%|██████████| 7/7 [00:00<00:00, 16.61it/s, avg_epoch_loss=0, epoch=39]\n",
      "100%|██████████| 7/7 [00:00<00:00, 17.60it/s, avg_epoch_loss=0, epoch=40]\n",
      "100%|██████████| 7/7 [00:00<00:00, 18.06it/s, avg_epoch_loss=0, epoch=41]\n",
      "100%|██████████| 7/7 [00:00<00:00, 15.94it/s, avg_epoch_loss=0, epoch=42]\n",
      "100%|██████████| 7/7 [00:00<00:00, 17.32it/s, avg_epoch_loss=0, epoch=43]\n",
      "100%|██████████| 7/7 [00:00<00:00, 17.21it/s, avg_epoch_loss=0, epoch=44]\n",
      "100%|██████████| 7/7 [00:00<00:00, 17.44it/s, avg_epoch_loss=0, epoch=45]\n",
      "100%|██████████| 7/7 [00:00<00:00, 16.60it/s, avg_epoch_loss=0, epoch=46]\n",
      "100%|██████████| 7/7 [00:00<00:00, 15.16it/s, avg_epoch_loss=0, epoch=47]\n",
      "100%|██████████| 7/7 [00:00<00:00, 17.18it/s, avg_epoch_loss=0, epoch=48]\n",
      "100%|██████████| 7/7 [00:00<00:00, 17.10it/s, avg_epoch_loss=0, epoch=49]\n"
     ]
    },
    {
     "name": "stdout",
     "output_type": "stream",
     "text": [
      "Start validation!!!\n",
      "Epoch: 49\n"
     ]
    },
    {
     "name": "stderr",
     "output_type": "stream",
     "text": [
      "100%|██████████| 2/2 [00:59<00:00, 29.61s/it]\n"
     ]
    },
    {
     "name": "stdout",
     "output_type": "stream",
     "text": [
      "====================================\n",
      "##### End evaluation!!\n",
      "PEHE VAL = 8.1e+03\n"
     ]
    },
    {
     "name": "stderr",
     "output_type": "stream",
     "text": [
      "100%|██████████| 7/7 [00:00<00:00, 16.38it/s, avg_epoch_loss=0, epoch=50]\n",
      "100%|██████████| 7/7 [00:00<00:00, 15.98it/s, avg_epoch_loss=0, epoch=51]\n",
      "100%|██████████| 7/7 [00:00<00:00, 17.88it/s, avg_epoch_loss=0, epoch=52]\n",
      "100%|██████████| 7/7 [00:00<00:00, 18.09it/s, avg_epoch_loss=0, epoch=53]\n",
      "100%|██████████| 7/7 [00:00<00:00, 18.07it/s, avg_epoch_loss=0, epoch=54]\n",
      "100%|██████████| 7/7 [00:00<00:00, 18.02it/s, avg_epoch_loss=0, epoch=55]\n",
      "100%|██████████| 7/7 [00:00<00:00, 18.44it/s, avg_epoch_loss=0, epoch=56]\n",
      "100%|██████████| 7/7 [00:00<00:00, 17.78it/s, avg_epoch_loss=0, epoch=57]\n",
      "100%|██████████| 7/7 [00:00<00:00, 17.81it/s, avg_epoch_loss=0, epoch=58]\n",
      "100%|██████████| 7/7 [00:00<00:00, 17.94it/s, avg_epoch_loss=0, epoch=59]\n",
      "100%|██████████| 7/7 [00:00<00:00, 17.19it/s, avg_epoch_loss=0, epoch=60]\n",
      "100%|██████████| 7/7 [00:00<00:00, 17.71it/s, avg_epoch_loss=0, epoch=61]\n",
      "100%|██████████| 7/7 [00:00<00:00, 17.47it/s, avg_epoch_loss=0, epoch=62]\n",
      "100%|██████████| 7/7 [00:00<00:00, 17.38it/s, avg_epoch_loss=0, epoch=63]\n",
      "100%|██████████| 7/7 [00:00<00:00, 17.52it/s, avg_epoch_loss=0, epoch=64]\n",
      "100%|██████████| 7/7 [00:00<00:00, 17.26it/s, avg_epoch_loss=0, epoch=65]\n",
      "100%|██████████| 7/7 [00:00<00:00, 17.59it/s, avg_epoch_loss=0, epoch=66]\n",
      "100%|██████████| 7/7 [00:00<00:00, 16.56it/s, avg_epoch_loss=0, epoch=67]\n",
      "100%|██████████| 7/7 [00:00<00:00, 17.93it/s, avg_epoch_loss=0, epoch=68]\n",
      "100%|██████████| 7/7 [00:00<00:00, 18.28it/s, avg_epoch_loss=0, epoch=69]\n",
      "100%|██████████| 7/7 [00:00<00:00, 17.82it/s, avg_epoch_loss=0, epoch=70]\n",
      "100%|██████████| 7/7 [00:00<00:00, 18.32it/s, avg_epoch_loss=0, epoch=71]\n",
      "100%|██████████| 7/7 [00:00<00:00, 18.08it/s, avg_epoch_loss=0, epoch=72]\n",
      "100%|██████████| 7/7 [00:00<00:00, 16.89it/s, avg_epoch_loss=0, epoch=73]\n",
      "100%|██████████| 7/7 [00:00<00:00, 17.22it/s, avg_epoch_loss=0, epoch=74]\n",
      "100%|██████████| 7/7 [00:00<00:00, 16.80it/s, avg_epoch_loss=0, epoch=75]\n",
      "100%|██████████| 7/7 [00:00<00:00, 17.64it/s, avg_epoch_loss=0, epoch=76]\n",
      "100%|██████████| 7/7 [00:00<00:00, 18.11it/s, avg_epoch_loss=0, epoch=77]\n",
      "100%|██████████| 7/7 [00:00<00:00, 18.17it/s, avg_epoch_loss=0, epoch=78]\n",
      "100%|██████████| 7/7 [00:00<00:00, 18.31it/s, avg_epoch_loss=0, epoch=79]\n",
      "100%|██████████| 7/7 [00:00<00:00, 18.18it/s, avg_epoch_loss=0, epoch=80]\n",
      "100%|██████████| 7/7 [00:00<00:00, 18.35it/s, avg_epoch_loss=0, epoch=81]\n",
      "100%|██████████| 7/7 [00:00<00:00, 18.22it/s, avg_epoch_loss=0, epoch=82]\n",
      "100%|██████████| 7/7 [00:00<00:00, 18.37it/s, avg_epoch_loss=0, epoch=83]\n",
      "100%|██████████| 7/7 [00:00<00:00, 18.19it/s, avg_epoch_loss=0, epoch=84]\n",
      "100%|██████████| 7/7 [00:00<00:00, 18.25it/s, avg_epoch_loss=0, epoch=85]\n",
      "100%|██████████| 7/7 [00:00<00:00, 18.33it/s, avg_epoch_loss=0, epoch=86]\n",
      "100%|██████████| 7/7 [00:00<00:00, 18.04it/s, avg_epoch_loss=0, epoch=87]\n",
      "100%|██████████| 7/7 [00:00<00:00, 18.38it/s, avg_epoch_loss=0, epoch=88]\n",
      "100%|██████████| 7/7 [00:00<00:00, 14.59it/s, avg_epoch_loss=0, epoch=89]\n",
      "100%|██████████| 7/7 [00:00<00:00, 18.12it/s, avg_epoch_loss=0, epoch=90]\n",
      "100%|██████████| 7/7 [00:00<00:00, 17.97it/s, avg_epoch_loss=0, epoch=91]\n",
      "100%|██████████| 7/7 [00:00<00:00, 18.17it/s, avg_epoch_loss=0, epoch=92]\n",
      "100%|██████████| 7/7 [00:00<00:00, 18.16it/s, avg_epoch_loss=0, epoch=93]\n",
      "100%|██████████| 7/7 [00:00<00:00, 18.18it/s, avg_epoch_loss=0, epoch=94]\n",
      "100%|██████████| 7/7 [00:00<00:00, 18.22it/s, avg_epoch_loss=0, epoch=95]\n",
      "100%|██████████| 7/7 [00:00<00:00, 15.72it/s, avg_epoch_loss=0, epoch=96]\n",
      "100%|██████████| 7/7 [00:00<00:00, 16.23it/s, avg_epoch_loss=0, epoch=97]\n",
      "100%|██████████| 7/7 [00:00<00:00, 15.61it/s, avg_epoch_loss=0, epoch=98]\n",
      "100%|██████████| 7/7 [00:00<00:00, 17.96it/s, avg_epoch_loss=0, epoch=99]\n"
     ]
    },
    {
     "name": "stdout",
     "output_type": "stream",
     "text": [
      "Start validation!!!\n",
      "Epoch: 99\n"
     ]
    },
    {
     "name": "stderr",
     "output_type": "stream",
     "text": [
      "100%|██████████| 2/2 [01:07<00:00, 33.60s/it]\n"
     ]
    },
    {
     "name": "stdout",
     "output_type": "stream",
     "text": [
      "====================================\n",
      "##### End evaluation!!\n",
      "PEHE VAL = 8.29e+03\n"
     ]
    },
    {
     "name": "stderr",
     "output_type": "stream",
     "text": [
      "100%|██████████| 7/7 [00:00<00:00, 16.44it/s, avg_epoch_loss=0, epoch=100]\n",
      "100%|██████████| 7/7 [00:00<00:00, 18.15it/s, avg_epoch_loss=0, epoch=101]\n",
      "100%|██████████| 7/7 [00:00<00:00, 17.51it/s, avg_epoch_loss=0, epoch=102]\n",
      "100%|██████████| 7/7 [00:00<00:00, 18.84it/s, avg_epoch_loss=0, epoch=103]\n",
      "100%|██████████| 7/7 [00:00<00:00, 18.24it/s, avg_epoch_loss=0, epoch=104]\n",
      "100%|██████████| 7/7 [00:00<00:00, 20.00it/s, avg_epoch_loss=0, epoch=105]\n",
      "100%|██████████| 7/7 [00:00<00:00, 14.24it/s, avg_epoch_loss=0, epoch=106]\n",
      "100%|██████████| 7/7 [00:00<00:00, 12.32it/s, avg_epoch_loss=0, epoch=107]\n",
      "100%|██████████| 7/7 [00:00<00:00,  8.78it/s, avg_epoch_loss=0, epoch=108]\n",
      "100%|██████████| 7/7 [00:00<00:00, 15.55it/s, avg_epoch_loss=0, epoch=109]\n",
      "100%|██████████| 7/7 [00:00<00:00, 12.87it/s, avg_epoch_loss=0, epoch=110]\n",
      "100%|██████████| 7/7 [00:00<00:00, 13.16it/s, avg_epoch_loss=0, epoch=111]\n",
      "100%|██████████| 7/7 [00:00<00:00, 18.01it/s, avg_epoch_loss=0, epoch=112]\n",
      "100%|██████████| 7/7 [00:00<00:00, 14.85it/s, avg_epoch_loss=0, epoch=113]\n",
      "100%|██████████| 7/7 [00:00<00:00, 10.89it/s, avg_epoch_loss=0, epoch=114]\n",
      "100%|██████████| 7/7 [00:00<00:00, 10.94it/s, avg_epoch_loss=0, epoch=115]\n",
      "100%|██████████| 7/7 [00:00<00:00, 11.87it/s, avg_epoch_loss=0, epoch=116]\n",
      "100%|██████████| 7/7 [00:00<00:00, 11.50it/s, avg_epoch_loss=0, epoch=117]\n",
      "100%|██████████| 7/7 [00:00<00:00, 14.13it/s, avg_epoch_loss=0, epoch=118]\n",
      "100%|██████████| 7/7 [00:00<00:00, 18.41it/s, avg_epoch_loss=0, epoch=119]\n",
      "100%|██████████| 7/7 [00:00<00:00, 15.93it/s, avg_epoch_loss=0, epoch=120]\n",
      "100%|██████████| 7/7 [00:00<00:00, 15.20it/s, avg_epoch_loss=0, epoch=121]\n",
      "100%|██████████| 7/7 [00:00<00:00, 17.61it/s, avg_epoch_loss=0, epoch=122]\n",
      "100%|██████████| 7/7 [00:00<00:00, 17.62it/s, avg_epoch_loss=0, epoch=123]\n",
      "100%|██████████| 7/7 [00:00<00:00, 18.44it/s, avg_epoch_loss=0, epoch=124]\n",
      "100%|██████████| 7/7 [00:00<00:00, 18.59it/s, avg_epoch_loss=0, epoch=125]\n",
      "100%|██████████| 7/7 [00:00<00:00, 17.93it/s, avg_epoch_loss=0, epoch=126]\n",
      "100%|██████████| 7/7 [00:00<00:00, 18.53it/s, avg_epoch_loss=0, epoch=127]\n",
      "100%|██████████| 7/7 [00:00<00:00, 18.69it/s, avg_epoch_loss=0, epoch=128]\n",
      "100%|██████████| 7/7 [00:00<00:00, 16.51it/s, avg_epoch_loss=0, epoch=129]\n",
      "100%|██████████| 7/7 [00:00<00:00, 18.25it/s, avg_epoch_loss=0, epoch=130]\n",
      "100%|██████████| 7/7 [00:00<00:00, 15.21it/s, avg_epoch_loss=0, epoch=131]\n",
      "100%|██████████| 7/7 [00:00<00:00, 18.70it/s, avg_epoch_loss=0, epoch=132]\n",
      "100%|██████████| 7/7 [00:00<00:00, 15.25it/s, avg_epoch_loss=0, epoch=133]\n",
      "100%|██████████| 7/7 [00:00<00:00, 19.16it/s, avg_epoch_loss=0, epoch=134]\n",
      "100%|██████████| 7/7 [00:00<00:00, 19.15it/s, avg_epoch_loss=0, epoch=135]\n",
      "100%|██████████| 7/7 [00:00<00:00, 18.36it/s, avg_epoch_loss=0, epoch=136]\n",
      "100%|██████████| 7/7 [00:00<00:00, 17.72it/s, avg_epoch_loss=0, epoch=137]\n",
      "100%|██████████| 7/7 [00:00<00:00, 18.46it/s, avg_epoch_loss=0, epoch=138]\n",
      "100%|██████████| 7/7 [00:00<00:00, 17.67it/s, avg_epoch_loss=0, epoch=139]\n",
      "100%|██████████| 7/7 [00:00<00:00, 14.85it/s, avg_epoch_loss=0, epoch=140]\n",
      "100%|██████████| 7/7 [00:00<00:00, 18.77it/s, avg_epoch_loss=0, epoch=141]\n",
      "100%|██████████| 7/7 [00:00<00:00, 18.94it/s, avg_epoch_loss=0, epoch=142]\n",
      "100%|██████████| 7/7 [00:00<00:00, 14.51it/s, avg_epoch_loss=0, epoch=143]\n",
      "100%|██████████| 7/7 [00:00<00:00, 13.17it/s, avg_epoch_loss=0, epoch=144]\n",
      "100%|██████████| 7/7 [00:00<00:00, 10.06it/s, avg_epoch_loss=0, epoch=145]\n",
      "100%|██████████| 7/7 [00:00<00:00, 10.41it/s, avg_epoch_loss=0, epoch=146]\n",
      "100%|██████████| 7/7 [00:00<00:00, 12.14it/s, avg_epoch_loss=0, epoch=147]\n",
      "100%|██████████| 7/7 [00:00<00:00, 16.17it/s, avg_epoch_loss=0, epoch=148]\n",
      "100%|██████████| 7/7 [00:00<00:00, 15.25it/s, avg_epoch_loss=0, epoch=149]\n"
     ]
    },
    {
     "name": "stdout",
     "output_type": "stream",
     "text": [
      "Start validation!!!\n",
      "Epoch: 149\n"
     ]
    },
    {
     "name": "stderr",
     "output_type": "stream",
     "text": [
      "100%|██████████| 2/2 [01:07<00:00, 33.80s/it]\n"
     ]
    },
    {
     "name": "stdout",
     "output_type": "stream",
     "text": [
      "====================================\n",
      "##### End evaluation!!\n",
      "PEHE VAL = 8.48e+03\n"
     ]
    },
    {
     "name": "stderr",
     "output_type": "stream",
     "text": [
      "100%|██████████| 7/7 [00:00<00:00, 15.26it/s, avg_epoch_loss=0, epoch=150]\n",
      "100%|██████████| 7/7 [00:00<00:00, 16.89it/s, avg_epoch_loss=0, epoch=151]\n",
      "100%|██████████| 7/7 [00:00<00:00, 18.64it/s, avg_epoch_loss=0, epoch=152]\n",
      "100%|██████████| 7/7 [00:00<00:00, 18.75it/s, avg_epoch_loss=0, epoch=153]\n",
      "100%|██████████| 7/7 [00:00<00:00, 19.00it/s, avg_epoch_loss=0, epoch=154]\n",
      "100%|██████████| 7/7 [00:00<00:00, 14.03it/s, avg_epoch_loss=0, epoch=155]\n",
      "100%|██████████| 7/7 [00:00<00:00, 17.22it/s, avg_epoch_loss=0, epoch=156]\n",
      "100%|██████████| 7/7 [00:00<00:00, 15.75it/s, avg_epoch_loss=0, epoch=157]\n",
      "100%|██████████| 7/7 [00:00<00:00, 17.75it/s, avg_epoch_loss=0, epoch=158]\n",
      "100%|██████████| 7/7 [00:00<00:00, 18.36it/s, avg_epoch_loss=0, epoch=159]\n",
      "100%|██████████| 7/7 [00:00<00:00, 15.03it/s, avg_epoch_loss=0, epoch=160]\n",
      "100%|██████████| 7/7 [00:00<00:00, 16.69it/s, avg_epoch_loss=0, epoch=161]\n",
      "100%|██████████| 7/7 [00:00<00:00, 18.77it/s, avg_epoch_loss=0, epoch=162]\n",
      "100%|██████████| 7/7 [00:00<00:00, 18.24it/s, avg_epoch_loss=0, epoch=163]\n",
      "100%|██████████| 7/7 [00:00<00:00, 17.38it/s, avg_epoch_loss=0, epoch=164]\n",
      "100%|██████████| 7/7 [00:00<00:00, 17.43it/s, avg_epoch_loss=0, epoch=165]\n",
      "100%|██████████| 7/7 [00:00<00:00, 15.29it/s, avg_epoch_loss=0, epoch=166]\n",
      "100%|██████████| 7/7 [00:00<00:00, 17.58it/s, avg_epoch_loss=0, epoch=167]\n",
      "100%|██████████| 7/7 [00:00<00:00, 16.88it/s, avg_epoch_loss=0, epoch=168]\n",
      "100%|██████████| 7/7 [00:00<00:00, 17.52it/s, avg_epoch_loss=0, epoch=169]\n",
      "100%|██████████| 7/7 [00:00<00:00, 18.59it/s, avg_epoch_loss=0, epoch=170]\n",
      "100%|██████████| 7/7 [00:00<00:00, 17.20it/s, avg_epoch_loss=0, epoch=171]\n",
      "100%|██████████| 7/7 [00:00<00:00, 14.55it/s, avg_epoch_loss=0, epoch=172]\n",
      "100%|██████████| 7/7 [00:00<00:00, 18.35it/s, avg_epoch_loss=0, epoch=173]\n",
      "100%|██████████| 7/7 [00:00<00:00, 18.27it/s, avg_epoch_loss=0, epoch=174]\n",
      "100%|██████████| 7/7 [00:00<00:00, 13.25it/s, avg_epoch_loss=0, epoch=175]\n",
      "100%|██████████| 7/7 [00:00<00:00, 13.91it/s, avg_epoch_loss=0, epoch=176]\n",
      "100%|██████████| 7/7 [00:00<00:00, 17.06it/s, avg_epoch_loss=0, epoch=177]\n",
      "100%|██████████| 7/7 [00:00<00:00, 16.52it/s, avg_epoch_loss=0, epoch=178]\n",
      "100%|██████████| 7/7 [00:00<00:00, 17.19it/s, avg_epoch_loss=0, epoch=179]\n",
      "100%|██████████| 7/7 [00:00<00:00, 18.66it/s, avg_epoch_loss=0, epoch=180]\n",
      "100%|██████████| 7/7 [00:00<00:00, 17.88it/s, avg_epoch_loss=0, epoch=181]\n",
      "100%|██████████| 7/7 [00:00<00:00, 18.11it/s, avg_epoch_loss=0, epoch=182]\n",
      "100%|██████████| 7/7 [00:00<00:00, 15.89it/s, avg_epoch_loss=0, epoch=183]\n",
      "100%|██████████| 7/7 [00:00<00:00, 17.68it/s, avg_epoch_loss=0, epoch=184]\n",
      "100%|██████████| 7/7 [00:00<00:00, 17.60it/s, avg_epoch_loss=0, epoch=185]\n",
      "100%|██████████| 7/7 [00:00<00:00, 16.57it/s, avg_epoch_loss=0, epoch=186]\n",
      "100%|██████████| 7/7 [00:00<00:00, 15.39it/s, avg_epoch_loss=0, epoch=187]\n",
      "100%|██████████| 7/7 [00:00<00:00, 17.47it/s, avg_epoch_loss=0, epoch=188]\n",
      "100%|██████████| 7/7 [00:00<00:00, 14.50it/s, avg_epoch_loss=0, epoch=189]\n",
      "100%|██████████| 7/7 [00:00<00:00, 12.30it/s, avg_epoch_loss=0, epoch=190]\n",
      "100%|██████████| 7/7 [00:00<00:00, 15.13it/s, avg_epoch_loss=0, epoch=191]\n",
      "100%|██████████| 7/7 [00:00<00:00, 11.60it/s, avg_epoch_loss=0, epoch=192]\n",
      "100%|██████████| 7/7 [00:00<00:00, 13.06it/s, avg_epoch_loss=0, epoch=193]\n",
      "100%|██████████| 7/7 [00:00<00:00, 10.47it/s, avg_epoch_loss=0, epoch=194]\n",
      "100%|██████████| 7/7 [00:00<00:00, 13.72it/s, avg_epoch_loss=0, epoch=195]\n",
      "100%|██████████| 7/7 [00:00<00:00,  9.50it/s, avg_epoch_loss=0, epoch=196]\n",
      "100%|██████████| 7/7 [00:00<00:00, 13.26it/s, avg_epoch_loss=0, epoch=197]\n",
      "100%|██████████| 7/7 [00:00<00:00, 10.42it/s, avg_epoch_loss=0, epoch=198]\n",
      "100%|██████████| 7/7 [00:00<00:00, 16.15it/s, avg_epoch_loss=0, epoch=199]\n"
     ]
    },
    {
     "name": "stdout",
     "output_type": "stream",
     "text": [
      "Start validation!!!\n",
      "Epoch: 199\n"
     ]
    },
    {
     "name": "stderr",
     "output_type": "stream",
     "text": [
      "100%|██████████| 2/2 [01:08<00:00, 34.46s/it]\n"
     ]
    },
    {
     "name": "stdout",
     "output_type": "stream",
     "text": [
      "====================================\n",
      "##### End evaluation!!\n",
      "PEHE VAL = 8.64e+03\n"
     ]
    },
    {
     "name": "stderr",
     "output_type": "stream",
     "text": [
      "100%|██████████| 7/7 [00:00<00:00, 16.82it/s, avg_epoch_loss=0, epoch=200]\n",
      "100%|██████████| 7/7 [00:00<00:00, 16.83it/s, avg_epoch_loss=0, epoch=201]\n",
      "100%|██████████| 7/7 [00:00<00:00, 18.87it/s, avg_epoch_loss=0, epoch=202]\n",
      "100%|██████████| 7/7 [00:00<00:00, 18.07it/s, avg_epoch_loss=0, epoch=203]\n",
      "100%|██████████| 7/7 [00:00<00:00,  8.61it/s, avg_epoch_loss=0, epoch=204]\n",
      "100%|██████████| 7/7 [00:01<00:00,  6.36it/s, avg_epoch_loss=0, epoch=205]\n",
      "100%|██████████| 7/7 [00:00<00:00,  9.81it/s, avg_epoch_loss=0, epoch=206]\n",
      "100%|██████████| 7/7 [00:00<00:00, 12.12it/s, avg_epoch_loss=0, epoch=207]\n",
      "100%|██████████| 7/7 [00:00<00:00, 16.18it/s, avg_epoch_loss=0, epoch=208]\n",
      "100%|██████████| 7/7 [00:00<00:00, 16.65it/s, avg_epoch_loss=0, epoch=209]\n",
      "100%|██████████| 7/7 [00:00<00:00, 15.06it/s, avg_epoch_loss=0, epoch=210]\n",
      "100%|██████████| 7/7 [00:00<00:00, 13.70it/s, avg_epoch_loss=0, epoch=211]\n",
      "100%|██████████| 7/7 [00:00<00:00, 13.91it/s, avg_epoch_loss=0, epoch=212]\n",
      "100%|██████████| 7/7 [00:00<00:00, 15.13it/s, avg_epoch_loss=0, epoch=213]\n",
      "100%|██████████| 7/7 [00:00<00:00, 14.36it/s, avg_epoch_loss=0, epoch=214]\n",
      "100%|██████████| 7/7 [00:00<00:00, 16.35it/s, avg_epoch_loss=0, epoch=215]\n",
      "100%|██████████| 7/7 [00:00<00:00, 16.47it/s, avg_epoch_loss=0, epoch=216]\n",
      "100%|██████████| 7/7 [00:00<00:00, 16.02it/s, avg_epoch_loss=0, epoch=217]\n",
      "100%|██████████| 7/7 [00:00<00:00, 12.60it/s, avg_epoch_loss=0, epoch=218]\n",
      "100%|██████████| 7/7 [00:00<00:00, 16.22it/s, avg_epoch_loss=0, epoch=219]\n",
      "100%|██████████| 7/7 [00:00<00:00, 15.08it/s, avg_epoch_loss=0, epoch=220]\n",
      "100%|██████████| 7/7 [00:00<00:00, 14.81it/s, avg_epoch_loss=0, epoch=221]\n",
      "100%|██████████| 7/7 [00:00<00:00, 16.27it/s, avg_epoch_loss=0, epoch=222]\n",
      "100%|██████████| 7/7 [00:00<00:00, 16.63it/s, avg_epoch_loss=0, epoch=223]\n",
      "100%|██████████| 7/7 [00:00<00:00, 15.45it/s, avg_epoch_loss=0, epoch=224]\n",
      "100%|██████████| 7/7 [00:00<00:00, 15.16it/s, avg_epoch_loss=0, epoch=225]\n",
      "100%|██████████| 7/7 [00:00<00:00, 13.62it/s, avg_epoch_loss=0, epoch=226]\n",
      "100%|██████████| 7/7 [00:00<00:00, 15.52it/s, avg_epoch_loss=0, epoch=227]\n",
      "100%|██████████| 7/7 [00:00<00:00, 15.54it/s, avg_epoch_loss=0, epoch=228]\n",
      "100%|██████████| 7/7 [00:00<00:00, 14.95it/s, avg_epoch_loss=0, epoch=229]\n",
      "100%|██████████| 7/7 [00:00<00:00, 16.97it/s, avg_epoch_loss=0, epoch=230]\n",
      "100%|██████████| 7/7 [00:00<00:00, 12.73it/s, avg_epoch_loss=0, epoch=231]\n",
      "100%|██████████| 7/7 [00:00<00:00, 16.13it/s, avg_epoch_loss=0, epoch=232]\n",
      "100%|██████████| 7/7 [00:00<00:00, 16.09it/s, avg_epoch_loss=0, epoch=233]\n",
      "100%|██████████| 7/7 [00:00<00:00, 15.53it/s, avg_epoch_loss=0, epoch=234]\n",
      "100%|██████████| 7/7 [00:00<00:00, 14.38it/s, avg_epoch_loss=0, epoch=235]\n",
      "100%|██████████| 7/7 [00:00<00:00, 14.00it/s, avg_epoch_loss=0, epoch=236]\n",
      "100%|██████████| 7/7 [00:00<00:00, 18.45it/s, avg_epoch_loss=0, epoch=237]\n",
      "100%|██████████| 7/7 [00:00<00:00, 16.26it/s, avg_epoch_loss=0, epoch=238]\n",
      "100%|██████████| 7/7 [00:00<00:00, 15.23it/s, avg_epoch_loss=0, epoch=239]\n",
      "100%|██████████| 7/7 [00:00<00:00, 18.21it/s, avg_epoch_loss=0, epoch=240]\n",
      "100%|██████████| 7/7 [00:00<00:00, 16.37it/s, avg_epoch_loss=0, epoch=241]\n",
      "100%|██████████| 7/7 [00:00<00:00, 18.90it/s, avg_epoch_loss=0, epoch=242]\n",
      "100%|██████████| 7/7 [00:00<00:00, 18.56it/s, avg_epoch_loss=0, epoch=243]\n",
      "100%|██████████| 7/7 [00:00<00:00, 18.79it/s, avg_epoch_loss=0, epoch=244]\n",
      "100%|██████████| 7/7 [00:00<00:00, 20.40it/s, avg_epoch_loss=0, epoch=245]\n",
      "100%|██████████| 7/7 [00:00<00:00, 20.74it/s, avg_epoch_loss=0, epoch=246]\n",
      "100%|██████████| 7/7 [00:00<00:00, 20.55it/s, avg_epoch_loss=0, epoch=247]\n",
      "100%|██████████| 7/7 [00:00<00:00, 20.73it/s, avg_epoch_loss=0, epoch=248]\n",
      "100%|██████████| 7/7 [00:00<00:00, 20.28it/s, avg_epoch_loss=0, epoch=249]\n"
     ]
    },
    {
     "name": "stdout",
     "output_type": "stream",
     "text": [
      "Start validation!!!\n",
      "Epoch: 249\n"
     ]
    },
    {
     "name": "stderr",
     "output_type": "stream",
     "text": [
      "100%|██████████| 2/2 [01:09<00:00, 34.77s/it]\n"
     ]
    },
    {
     "name": "stdout",
     "output_type": "stream",
     "text": [
      "====================================\n",
      "##### End evaluation!!\n",
      "PEHE VAL = 8.31e+03\n"
     ]
    },
    {
     "name": "stderr",
     "output_type": "stream",
     "text": [
      "100%|██████████| 7/7 [00:00<00:00, 17.56it/s, avg_epoch_loss=0, epoch=250]\n",
      "100%|██████████| 7/7 [00:00<00:00, 15.70it/s, avg_epoch_loss=0, epoch=251]\n",
      "100%|██████████| 7/7 [00:00<00:00, 18.05it/s, avg_epoch_loss=0, epoch=252]\n",
      "100%|██████████| 7/7 [00:00<00:00, 13.28it/s, avg_epoch_loss=0, epoch=253]\n",
      "100%|██████████| 7/7 [00:00<00:00, 17.61it/s, avg_epoch_loss=0, epoch=254]\n",
      "100%|██████████| 7/7 [00:00<00:00, 17.66it/s, avg_epoch_loss=0, epoch=255]\n",
      "100%|██████████| 7/7 [00:00<00:00, 17.48it/s, avg_epoch_loss=0, epoch=256]\n",
      "100%|██████████| 7/7 [00:00<00:00, 17.67it/s, avg_epoch_loss=0, epoch=257]\n",
      "100%|██████████| 7/7 [00:00<00:00, 17.36it/s, avg_epoch_loss=0, epoch=258]\n",
      "100%|██████████| 7/7 [00:00<00:00, 17.91it/s, avg_epoch_loss=0, epoch=259]\n",
      "100%|██████████| 7/7 [00:00<00:00, 17.36it/s, avg_epoch_loss=0, epoch=260]\n",
      "100%|██████████| 7/7 [00:00<00:00, 17.49it/s, avg_epoch_loss=0, epoch=261]\n",
      "100%|██████████| 7/7 [00:00<00:00, 16.59it/s, avg_epoch_loss=0, epoch=262]\n",
      "100%|██████████| 7/7 [00:00<00:00, 14.57it/s, avg_epoch_loss=0, epoch=263]\n",
      "100%|██████████| 7/7 [00:00<00:00, 16.29it/s, avg_epoch_loss=0, epoch=264]\n",
      "100%|██████████| 7/7 [00:00<00:00, 17.09it/s, avg_epoch_loss=0, epoch=265]\n",
      "100%|██████████| 7/7 [00:00<00:00, 16.94it/s, avg_epoch_loss=0, epoch=266]\n",
      "100%|██████████| 7/7 [00:00<00:00, 18.21it/s, avg_epoch_loss=0, epoch=267]\n",
      "100%|██████████| 7/7 [00:00<00:00, 17.54it/s, avg_epoch_loss=0, epoch=268]\n",
      "100%|██████████| 7/7 [00:00<00:00, 13.20it/s, avg_epoch_loss=0, epoch=269]\n",
      "100%|██████████| 7/7 [00:00<00:00, 15.28it/s, avg_epoch_loss=0, epoch=270]\n",
      "100%|██████████| 7/7 [00:00<00:00, 16.93it/s, avg_epoch_loss=0, epoch=271]\n",
      "100%|██████████| 7/7 [00:00<00:00, 16.31it/s, avg_epoch_loss=0, epoch=272]\n",
      "100%|██████████| 7/7 [00:00<00:00, 17.42it/s, avg_epoch_loss=0, epoch=273]\n",
      "100%|██████████| 7/7 [00:00<00:00, 17.44it/s, avg_epoch_loss=0, epoch=274]\n",
      "100%|██████████| 7/7 [00:00<00:00, 17.88it/s, avg_epoch_loss=0, epoch=275]\n",
      "100%|██████████| 7/7 [00:00<00:00, 18.25it/s, avg_epoch_loss=0, epoch=276]\n",
      "100%|██████████| 7/7 [00:00<00:00, 17.60it/s, avg_epoch_loss=0, epoch=277]\n",
      "100%|██████████| 7/7 [00:00<00:00, 17.57it/s, avg_epoch_loss=0, epoch=278]\n",
      "100%|██████████| 7/7 [00:00<00:00, 17.06it/s, avg_epoch_loss=0, epoch=279]\n",
      "100%|██████████| 7/7 [00:00<00:00, 17.76it/s, avg_epoch_loss=0, epoch=280]\n",
      "100%|██████████| 7/7 [00:00<00:00, 16.70it/s, avg_epoch_loss=0, epoch=281]\n",
      "100%|██████████| 7/7 [00:00<00:00, 15.22it/s, avg_epoch_loss=0, epoch=282]\n",
      "100%|██████████| 7/7 [00:00<00:00, 18.97it/s, avg_epoch_loss=0, epoch=283]\n",
      "100%|██████████| 7/7 [00:00<00:00, 18.02it/s, avg_epoch_loss=0, epoch=284]\n",
      "100%|██████████| 7/7 [00:00<00:00, 13.32it/s, avg_epoch_loss=0, epoch=285]\n",
      "100%|██████████| 7/7 [00:00<00:00,  9.55it/s, avg_epoch_loss=0, epoch=286]\n",
      "100%|██████████| 7/7 [00:00<00:00, 10.91it/s, avg_epoch_loss=0, epoch=287]\n",
      "100%|██████████| 7/7 [00:00<00:00, 11.65it/s, avg_epoch_loss=0, epoch=288]\n",
      "100%|██████████| 7/7 [00:00<00:00, 14.58it/s, avg_epoch_loss=0, epoch=289]\n",
      "100%|██████████| 7/7 [00:00<00:00, 18.75it/s, avg_epoch_loss=0, epoch=290]\n",
      "100%|██████████| 7/7 [00:00<00:00, 16.73it/s, avg_epoch_loss=0, epoch=291]\n",
      "100%|██████████| 7/7 [00:00<00:00, 18.01it/s, avg_epoch_loss=0, epoch=292]\n",
      "100%|██████████| 7/7 [00:00<00:00, 12.11it/s, avg_epoch_loss=0, epoch=293]\n",
      "100%|██████████| 7/7 [00:00<00:00, 16.15it/s, avg_epoch_loss=0, epoch=294]\n",
      "100%|██████████| 7/7 [00:00<00:00, 14.66it/s, avg_epoch_loss=0, epoch=295]\n",
      "100%|██████████| 7/7 [00:00<00:00, 16.94it/s, avg_epoch_loss=0, epoch=296]\n",
      "100%|██████████| 7/7 [00:00<00:00, 16.37it/s, avg_epoch_loss=0, epoch=297]\n",
      "100%|██████████| 7/7 [00:00<00:00, 16.67it/s, avg_epoch_loss=0, epoch=298]\n",
      "100%|██████████| 7/7 [00:00<00:00, 15.59it/s, avg_epoch_loss=0, epoch=299]\n"
     ]
    },
    {
     "name": "stdout",
     "output_type": "stream",
     "text": [
      "Start validation!!!\n",
      "Epoch: 299\n"
     ]
    },
    {
     "name": "stderr",
     "output_type": "stream",
     "text": [
      "100%|██████████| 2/2 [01:09<00:00, 34.57s/it]\n"
     ]
    },
    {
     "name": "stdout",
     "output_type": "stream",
     "text": [
      "====================================\n",
      "##### End evaluation!!\n",
      "PEHE VAL = 8.37e+03\n"
     ]
    },
    {
     "name": "stderr",
     "output_type": "stream",
     "text": [
      "100%|██████████| 7/7 [00:00<00:00, 16.31it/s, avg_epoch_loss=0, epoch=300]\n",
      "100%|██████████| 7/7 [00:00<00:00, 17.39it/s, avg_epoch_loss=0, epoch=301]\n",
      "100%|██████████| 7/7 [00:00<00:00, 16.88it/s, avg_epoch_loss=0, epoch=302]\n",
      "100%|██████████| 7/7 [00:00<00:00, 17.91it/s, avg_epoch_loss=0, epoch=303]\n",
      "100%|██████████| 7/7 [00:00<00:00, 18.48it/s, avg_epoch_loss=0, epoch=304]\n",
      "100%|██████████| 7/7 [00:00<00:00, 15.03it/s, avg_epoch_loss=0, epoch=305]\n",
      "100%|██████████| 7/7 [00:00<00:00, 17.68it/s, avg_epoch_loss=0, epoch=306]\n",
      "100%|██████████| 7/7 [00:00<00:00, 18.71it/s, avg_epoch_loss=0, epoch=307]\n",
      "100%|██████████| 7/7 [00:00<00:00, 15.17it/s, avg_epoch_loss=0, epoch=308]\n",
      "100%|██████████| 7/7 [00:00<00:00, 17.86it/s, avg_epoch_loss=0, epoch=309]\n",
      "100%|██████████| 7/7 [00:00<00:00, 17.97it/s, avg_epoch_loss=0, epoch=310]\n",
      "100%|██████████| 7/7 [00:00<00:00, 18.15it/s, avg_epoch_loss=0, epoch=311]\n",
      "100%|██████████| 7/7 [00:00<00:00, 15.63it/s, avg_epoch_loss=0, epoch=312]\n",
      "100%|██████████| 7/7 [00:00<00:00, 16.13it/s, avg_epoch_loss=0, epoch=313]\n",
      "100%|██████████| 7/7 [00:00<00:00, 12.79it/s, avg_epoch_loss=0, epoch=314]\n",
      "100%|██████████| 7/7 [00:00<00:00, 15.72it/s, avg_epoch_loss=0, epoch=315]\n",
      "100%|██████████| 7/7 [00:00<00:00, 14.77it/s, avg_epoch_loss=0, epoch=316]\n",
      "100%|██████████| 7/7 [00:00<00:00, 16.14it/s, avg_epoch_loss=0, epoch=317]\n",
      "100%|██████████| 7/7 [00:00<00:00, 16.01it/s, avg_epoch_loss=0, epoch=318]\n",
      "100%|██████████| 7/7 [00:00<00:00, 14.40it/s, avg_epoch_loss=0, epoch=319]\n",
      "100%|██████████| 7/7 [00:00<00:00, 18.06it/s, avg_epoch_loss=0, epoch=320]\n",
      "100%|██████████| 7/7 [00:00<00:00, 16.56it/s, avg_epoch_loss=0, epoch=321]\n",
      "100%|██████████| 7/7 [00:00<00:00, 18.13it/s, avg_epoch_loss=0, epoch=322]\n",
      "100%|██████████| 7/7 [00:00<00:00, 17.89it/s, avg_epoch_loss=0, epoch=323]\n",
      "100%|██████████| 7/7 [00:00<00:00, 17.74it/s, avg_epoch_loss=0, epoch=324]\n",
      "100%|██████████| 7/7 [00:00<00:00, 16.64it/s, avg_epoch_loss=0, epoch=325]\n",
      "100%|██████████| 7/7 [00:00<00:00, 16.70it/s, avg_epoch_loss=0, epoch=326]\n",
      "100%|██████████| 7/7 [00:00<00:00, 16.34it/s, avg_epoch_loss=0, epoch=327]\n",
      "100%|██████████| 7/7 [00:00<00:00, 15.64it/s, avg_epoch_loss=0, epoch=328]\n",
      "100%|██████████| 7/7 [00:00<00:00, 18.34it/s, avg_epoch_loss=0, epoch=329]\n",
      "100%|██████████| 7/7 [00:00<00:00, 12.48it/s, avg_epoch_loss=0, epoch=330]\n",
      "100%|██████████| 7/7 [00:00<00:00, 12.49it/s, avg_epoch_loss=0, epoch=331]\n",
      "100%|██████████| 7/7 [00:00<00:00, 12.25it/s, avg_epoch_loss=0, epoch=332]\n",
      "100%|██████████| 7/7 [00:00<00:00, 11.11it/s, avg_epoch_loss=0, epoch=333]\n",
      "100%|██████████| 7/7 [00:00<00:00, 14.20it/s, avg_epoch_loss=0, epoch=334]\n",
      "100%|██████████| 7/7 [00:00<00:00, 17.60it/s, avg_epoch_loss=0, epoch=335]\n",
      "100%|██████████| 7/7 [00:00<00:00, 16.60it/s, avg_epoch_loss=0, epoch=336]\n",
      "100%|██████████| 7/7 [00:00<00:00, 17.80it/s, avg_epoch_loss=0, epoch=337]\n",
      "100%|██████████| 7/7 [00:00<00:00, 17.33it/s, avg_epoch_loss=0, epoch=338]\n",
      "100%|██████████| 7/7 [00:00<00:00, 17.41it/s, avg_epoch_loss=0, epoch=339]\n",
      "100%|██████████| 7/7 [00:00<00:00, 16.62it/s, avg_epoch_loss=0, epoch=340]\n",
      "100%|██████████| 7/7 [00:00<00:00, 17.08it/s, avg_epoch_loss=0, epoch=341]\n",
      "100%|██████████| 7/7 [00:00<00:00, 14.21it/s, avg_epoch_loss=0, epoch=342]\n",
      "100%|██████████| 7/7 [00:00<00:00, 10.66it/s, avg_epoch_loss=0, epoch=343]\n",
      "100%|██████████| 7/7 [00:00<00:00, 13.56it/s, avg_epoch_loss=0, epoch=344]\n",
      "100%|██████████| 7/7 [00:00<00:00, 17.31it/s, avg_epoch_loss=0, epoch=345]\n",
      "100%|██████████| 7/7 [00:00<00:00, 18.81it/s, avg_epoch_loss=0, epoch=346]\n",
      "100%|██████████| 7/7 [00:00<00:00, 18.04it/s, avg_epoch_loss=0, epoch=347]\n",
      "100%|██████████| 7/7 [00:00<00:00, 16.83it/s, avg_epoch_loss=0, epoch=348]\n",
      "100%|██████████| 7/7 [00:00<00:00, 15.50it/s, avg_epoch_loss=0, epoch=349]\n"
     ]
    },
    {
     "name": "stdout",
     "output_type": "stream",
     "text": [
      "Start validation!!!\n",
      "Epoch: 349\n"
     ]
    },
    {
     "name": "stderr",
     "output_type": "stream",
     "text": [
      "100%|██████████| 2/2 [01:06<00:00, 33.29s/it]\n"
     ]
    },
    {
     "name": "stdout",
     "output_type": "stream",
     "text": [
      "====================================\n",
      "##### End evaluation!!\n",
      "PEHE VAL = 8.91e+03\n"
     ]
    },
    {
     "name": "stderr",
     "output_type": "stream",
     "text": [
      "100%|██████████| 7/7 [00:00<00:00, 18.54it/s, avg_epoch_loss=0, epoch=350]\n",
      "100%|██████████| 7/7 [00:00<00:00, 18.99it/s, avg_epoch_loss=0, epoch=351]\n",
      "100%|██████████| 7/7 [00:00<00:00, 17.97it/s, avg_epoch_loss=0, epoch=352]\n",
      "100%|██████████| 7/7 [00:00<00:00, 17.97it/s, avg_epoch_loss=0, epoch=353]\n",
      "100%|██████████| 7/7 [00:00<00:00, 16.07it/s, avg_epoch_loss=0, epoch=354]\n",
      "100%|██████████| 7/7 [00:00<00:00, 18.40it/s, avg_epoch_loss=0, epoch=355]\n",
      "100%|██████████| 7/7 [00:00<00:00, 18.36it/s, avg_epoch_loss=0, epoch=356]\n",
      "100%|██████████| 7/7 [00:00<00:00, 18.12it/s, avg_epoch_loss=0, epoch=357]\n",
      "100%|██████████| 7/7 [00:00<00:00, 18.39it/s, avg_epoch_loss=0, epoch=358]\n",
      "100%|██████████| 7/7 [00:00<00:00, 18.80it/s, avg_epoch_loss=0, epoch=359]\n",
      "100%|██████████| 7/7 [00:00<00:00, 18.81it/s, avg_epoch_loss=0, epoch=360]\n",
      "100%|██████████| 7/7 [00:00<00:00, 18.76it/s, avg_epoch_loss=0, epoch=361]\n",
      "100%|██████████| 7/7 [00:00<00:00, 18.59it/s, avg_epoch_loss=0, epoch=362]\n",
      "100%|██████████| 7/7 [00:00<00:00, 18.38it/s, avg_epoch_loss=0, epoch=363]\n",
      "100%|██████████| 7/7 [00:00<00:00, 18.41it/s, avg_epoch_loss=0, epoch=364]\n",
      "100%|██████████| 7/7 [00:00<00:00, 18.72it/s, avg_epoch_loss=0, epoch=365]\n",
      "100%|██████████| 7/7 [00:00<00:00, 18.54it/s, avg_epoch_loss=0, epoch=366]\n",
      "100%|██████████| 7/7 [00:00<00:00, 15.48it/s, avg_epoch_loss=0, epoch=367]\n",
      "100%|██████████| 7/7 [00:00<00:00, 15.57it/s, avg_epoch_loss=0, epoch=368]\n",
      "100%|██████████| 7/7 [00:00<00:00, 16.35it/s, avg_epoch_loss=0, epoch=369]\n",
      "100%|██████████| 7/7 [00:00<00:00, 14.25it/s, avg_epoch_loss=0, epoch=370]\n",
      "100%|██████████| 7/7 [00:00<00:00, 18.35it/s, avg_epoch_loss=0, epoch=371]\n",
      "100%|██████████| 7/7 [00:00<00:00, 18.92it/s, avg_epoch_loss=0, epoch=372]\n",
      "100%|██████████| 7/7 [00:00<00:00, 18.04it/s, avg_epoch_loss=0, epoch=373]\n",
      "100%|██████████| 7/7 [00:00<00:00, 16.35it/s, avg_epoch_loss=0, epoch=374]\n",
      "100%|██████████| 7/7 [00:00<00:00, 18.34it/s, avg_epoch_loss=0, epoch=375]\n",
      "100%|██████████| 7/7 [00:00<00:00, 18.26it/s, avg_epoch_loss=0, epoch=376]\n",
      "100%|██████████| 7/7 [00:00<00:00, 18.37it/s, avg_epoch_loss=0, epoch=377]\n",
      "100%|██████████| 7/7 [00:00<00:00, 17.56it/s, avg_epoch_loss=0, epoch=378]\n",
      "100%|██████████| 7/7 [00:00<00:00, 18.24it/s, avg_epoch_loss=0, epoch=379]\n",
      "100%|██████████| 7/7 [00:00<00:00, 18.35it/s, avg_epoch_loss=0, epoch=380]\n",
      "100%|██████████| 7/7 [00:00<00:00, 18.66it/s, avg_epoch_loss=0, epoch=381]\n",
      "100%|██████████| 7/7 [00:00<00:00, 18.36it/s, avg_epoch_loss=0, epoch=382]\n",
      "100%|██████████| 7/7 [00:00<00:00, 18.26it/s, avg_epoch_loss=0, epoch=383]\n",
      "100%|██████████| 7/7 [00:00<00:00, 18.43it/s, avg_epoch_loss=0, epoch=384]\n",
      "100%|██████████| 7/7 [00:00<00:00, 18.34it/s, avg_epoch_loss=0, epoch=385]\n",
      "100%|██████████| 7/7 [00:00<00:00, 18.40it/s, avg_epoch_loss=0, epoch=386]\n",
      "100%|██████████| 7/7 [00:00<00:00, 14.05it/s, avg_epoch_loss=0, epoch=387]\n",
      "100%|██████████| 7/7 [00:00<00:00, 17.60it/s, avg_epoch_loss=0, epoch=388]\n",
      "100%|██████████| 7/7 [00:00<00:00, 18.12it/s, avg_epoch_loss=0, epoch=389]\n",
      "100%|██████████| 7/7 [00:00<00:00, 17.76it/s, avg_epoch_loss=0, epoch=390]\n",
      "100%|██████████| 7/7 [00:00<00:00, 16.26it/s, avg_epoch_loss=0, epoch=391]\n",
      "100%|██████████| 7/7 [00:00<00:00, 16.90it/s, avg_epoch_loss=0, epoch=392]\n",
      "100%|██████████| 7/7 [00:00<00:00, 18.72it/s, avg_epoch_loss=0, epoch=393]\n",
      "100%|██████████| 7/7 [00:00<00:00, 17.90it/s, avg_epoch_loss=0, epoch=394]\n",
      "100%|██████████| 7/7 [00:00<00:00, 18.94it/s, avg_epoch_loss=0, epoch=395]\n",
      "100%|██████████| 7/7 [00:00<00:00, 18.73it/s, avg_epoch_loss=0, epoch=396]\n",
      "100%|██████████| 7/7 [00:00<00:00, 18.59it/s, avg_epoch_loss=0, epoch=397]\n",
      "100%|██████████| 7/7 [00:00<00:00, 18.41it/s, avg_epoch_loss=0, epoch=398]\n",
      "100%|██████████| 7/7 [00:00<00:00, 18.37it/s, avg_epoch_loss=0, epoch=399]\n"
     ]
    },
    {
     "name": "stdout",
     "output_type": "stream",
     "text": [
      "Start validation!!!\n",
      "Epoch: 399\n"
     ]
    },
    {
     "name": "stderr",
     "output_type": "stream",
     "text": [
      "100%|██████████| 2/2 [00:57<00:00, 28.68s/it]\n"
     ]
    },
    {
     "name": "stdout",
     "output_type": "stream",
     "text": [
      "====================================\n",
      "##### End evaluation!!\n",
      "PEHE VAL = 8.9e+03\n"
     ]
    },
    {
     "name": "stderr",
     "output_type": "stream",
     "text": [
      "100%|██████████| 7/7 [00:00<00:00, 17.92it/s, avg_epoch_loss=0, epoch=400]\n",
      "100%|██████████| 7/7 [00:00<00:00, 18.28it/s, avg_epoch_loss=0, epoch=401]\n",
      "100%|██████████| 7/7 [00:00<00:00, 18.51it/s, avg_epoch_loss=0, epoch=402]\n",
      "100%|██████████| 7/7 [00:00<00:00, 15.12it/s, avg_epoch_loss=0, epoch=403]\n",
      "100%|██████████| 7/7 [00:00<00:00, 19.52it/s, avg_epoch_loss=0, epoch=404]\n",
      "100%|██████████| 7/7 [00:00<00:00, 19.76it/s, avg_epoch_loss=0, epoch=405]\n",
      "100%|██████████| 7/7 [00:00<00:00, 19.89it/s, avg_epoch_loss=0, epoch=406]\n",
      "100%|██████████| 7/7 [00:00<00:00, 19.75it/s, avg_epoch_loss=0, epoch=407]\n",
      "100%|██████████| 7/7 [00:00<00:00, 16.47it/s, avg_epoch_loss=0, epoch=408]\n",
      "100%|██████████| 7/7 [00:00<00:00, 19.64it/s, avg_epoch_loss=0, epoch=409]\n",
      "100%|██████████| 7/7 [00:00<00:00, 19.59it/s, avg_epoch_loss=0, epoch=410]\n",
      "100%|██████████| 7/7 [00:00<00:00, 18.13it/s, avg_epoch_loss=0, epoch=411]\n",
      "100%|██████████| 7/7 [00:00<00:00, 18.39it/s, avg_epoch_loss=0, epoch=412]\n",
      "100%|██████████| 7/7 [00:00<00:00, 18.21it/s, avg_epoch_loss=0, epoch=413]\n",
      "100%|██████████| 7/7 [00:00<00:00, 18.67it/s, avg_epoch_loss=0, epoch=414]\n",
      "100%|██████████| 7/7 [00:00<00:00, 16.50it/s, avg_epoch_loss=0, epoch=415]\n",
      "100%|██████████| 7/7 [00:00<00:00, 18.11it/s, avg_epoch_loss=0, epoch=416]\n",
      "100%|██████████| 7/7 [00:00<00:00, 18.23it/s, avg_epoch_loss=0, epoch=417]\n",
      "100%|██████████| 7/7 [00:00<00:00, 18.22it/s, avg_epoch_loss=0, epoch=418]\n",
      "100%|██████████| 7/7 [00:00<00:00, 18.34it/s, avg_epoch_loss=0, epoch=419]\n",
      "100%|██████████| 7/7 [00:00<00:00, 18.72it/s, avg_epoch_loss=0, epoch=420]\n",
      "100%|██████████| 7/7 [00:00<00:00, 14.99it/s, avg_epoch_loss=0, epoch=421]\n",
      "100%|██████████| 7/7 [00:00<00:00, 18.25it/s, avg_epoch_loss=0, epoch=422]\n",
      "100%|██████████| 7/7 [00:00<00:00, 17.87it/s, avg_epoch_loss=0, epoch=423]\n",
      "100%|██████████| 7/7 [00:00<00:00, 18.15it/s, avg_epoch_loss=0, epoch=424]\n",
      "100%|██████████| 7/7 [00:00<00:00, 17.67it/s, avg_epoch_loss=0, epoch=425]\n",
      "100%|██████████| 7/7 [00:00<00:00, 17.75it/s, avg_epoch_loss=0, epoch=426]\n",
      "100%|██████████| 7/7 [00:00<00:00, 17.72it/s, avg_epoch_loss=0, epoch=427]\n",
      "100%|██████████| 7/7 [00:00<00:00, 18.46it/s, avg_epoch_loss=0, epoch=428]\n",
      "100%|██████████| 7/7 [00:00<00:00, 14.60it/s, avg_epoch_loss=0, epoch=429]\n",
      "100%|██████████| 7/7 [00:00<00:00, 16.41it/s, avg_epoch_loss=0, epoch=430]\n",
      "100%|██████████| 7/7 [00:00<00:00, 18.51it/s, avg_epoch_loss=0, epoch=431]\n",
      "100%|██████████| 7/7 [00:00<00:00, 18.27it/s, avg_epoch_loss=0, epoch=432]\n",
      "100%|██████████| 7/7 [00:00<00:00, 18.19it/s, avg_epoch_loss=0, epoch=433]\n",
      "100%|██████████| 7/7 [00:00<00:00, 18.68it/s, avg_epoch_loss=0, epoch=434]\n",
      "100%|██████████| 7/7 [00:00<00:00, 18.99it/s, avg_epoch_loss=0, epoch=435]\n",
      "100%|██████████| 7/7 [00:00<00:00, 18.24it/s, avg_epoch_loss=0, epoch=436]\n",
      "100%|██████████| 7/7 [00:00<00:00, 18.01it/s, avg_epoch_loss=0, epoch=437]\n",
      "100%|██████████| 7/7 [00:00<00:00, 18.18it/s, avg_epoch_loss=0, epoch=438]\n",
      "100%|██████████| 7/7 [00:00<00:00, 18.75it/s, avg_epoch_loss=0, epoch=439]\n",
      "100%|██████████| 7/7 [00:00<00:00, 18.50it/s, avg_epoch_loss=0, epoch=440]\n",
      "100%|██████████| 7/7 [00:00<00:00, 18.58it/s, avg_epoch_loss=0, epoch=441]\n",
      "100%|██████████| 7/7 [00:00<00:00, 17.98it/s, avg_epoch_loss=0, epoch=442]\n",
      "100%|██████████| 7/7 [00:00<00:00, 18.47it/s, avg_epoch_loss=0, epoch=443]\n",
      "100%|██████████| 7/7 [00:00<00:00, 18.55it/s, avg_epoch_loss=0, epoch=444]\n",
      "100%|██████████| 7/7 [00:00<00:00, 17.84it/s, avg_epoch_loss=0, epoch=445]\n",
      "100%|██████████| 7/7 [00:00<00:00, 18.34it/s, avg_epoch_loss=0, epoch=446]\n",
      "100%|██████████| 7/7 [00:00<00:00, 18.21it/s, avg_epoch_loss=0, epoch=447]\n",
      "100%|██████████| 7/7 [00:00<00:00, 18.42it/s, avg_epoch_loss=0, epoch=448]\n",
      "100%|██████████| 7/7 [00:00<00:00, 18.35it/s, avg_epoch_loss=0, epoch=449]\n"
     ]
    },
    {
     "name": "stdout",
     "output_type": "stream",
     "text": [
      "Start validation!!!\n",
      "Epoch: 449\n"
     ]
    },
    {
     "name": "stderr",
     "output_type": "stream",
     "text": [
      "100%|██████████| 2/2 [00:58<00:00, 29.48s/it]\n"
     ]
    },
    {
     "name": "stdout",
     "output_type": "stream",
     "text": [
      "====================================\n",
      "##### End evaluation!!\n",
      "PEHE VAL = 8.03e+03\n"
     ]
    },
    {
     "name": "stderr",
     "output_type": "stream",
     "text": [
      "100%|██████████| 7/7 [00:00<00:00, 18.10it/s, avg_epoch_loss=0, epoch=450]\n",
      "100%|██████████| 7/7 [00:00<00:00, 18.15it/s, avg_epoch_loss=0, epoch=451]\n",
      "100%|██████████| 7/7 [00:00<00:00, 18.30it/s, avg_epoch_loss=0, epoch=452]\n",
      "100%|██████████| 7/7 [00:00<00:00, 18.04it/s, avg_epoch_loss=0, epoch=453]\n",
      "100%|██████████| 7/7 [00:00<00:00, 18.11it/s, avg_epoch_loss=0, epoch=454]\n",
      "100%|██████████| 7/7 [00:00<00:00, 18.33it/s, avg_epoch_loss=0, epoch=455]\n",
      "100%|██████████| 7/7 [00:00<00:00, 17.77it/s, avg_epoch_loss=0, epoch=456]\n",
      "100%|██████████| 7/7 [00:00<00:00, 17.50it/s, avg_epoch_loss=0, epoch=457]\n",
      "100%|██████████| 7/7 [00:00<00:00, 17.98it/s, avg_epoch_loss=0, epoch=458]\n",
      "100%|██████████| 7/7 [00:00<00:00, 18.45it/s, avg_epoch_loss=0, epoch=459]\n",
      "100%|██████████| 7/7 [00:00<00:00, 18.27it/s, avg_epoch_loss=0, epoch=460]\n",
      "100%|██████████| 7/7 [00:00<00:00, 18.32it/s, avg_epoch_loss=0, epoch=461]\n",
      "100%|██████████| 7/7 [00:00<00:00, 18.41it/s, avg_epoch_loss=0, epoch=462]\n",
      "100%|██████████| 7/7 [00:00<00:00, 18.42it/s, avg_epoch_loss=0, epoch=463]\n",
      "100%|██████████| 7/7 [00:00<00:00, 18.04it/s, avg_epoch_loss=0, epoch=464]\n",
      "100%|██████████| 7/7 [00:00<00:00, 17.52it/s, avg_epoch_loss=0, epoch=465]\n",
      "100%|██████████| 7/7 [00:00<00:00, 16.26it/s, avg_epoch_loss=0, epoch=466]\n",
      "100%|██████████| 7/7 [00:00<00:00, 18.12it/s, avg_epoch_loss=0, epoch=467]\n",
      "100%|██████████| 7/7 [00:00<00:00, 18.37it/s, avg_epoch_loss=0, epoch=468]\n",
      "100%|██████████| 7/7 [00:00<00:00, 18.15it/s, avg_epoch_loss=0, epoch=469]\n",
      "100%|██████████| 7/7 [00:00<00:00, 18.29it/s, avg_epoch_loss=0, epoch=470]\n",
      "100%|██████████| 7/7 [00:00<00:00, 18.25it/s, avg_epoch_loss=0, epoch=471]\n",
      "100%|██████████| 7/7 [00:00<00:00, 18.14it/s, avg_epoch_loss=0, epoch=472]\n",
      "100%|██████████| 7/7 [00:00<00:00, 18.43it/s, avg_epoch_loss=0, epoch=473]\n",
      "100%|██████████| 7/7 [00:00<00:00, 18.28it/s, avg_epoch_loss=0, epoch=474]\n",
      "100%|██████████| 7/7 [00:00<00:00, 18.12it/s, avg_epoch_loss=0, epoch=475]\n",
      "100%|██████████| 7/7 [00:00<00:00, 13.64it/s, avg_epoch_loss=0, epoch=476]\n",
      "100%|██████████| 7/7 [00:00<00:00, 17.00it/s, avg_epoch_loss=0, epoch=477]\n",
      "100%|██████████| 7/7 [00:00<00:00, 18.63it/s, avg_epoch_loss=0, epoch=478]\n",
      "100%|██████████| 7/7 [00:00<00:00, 18.07it/s, avg_epoch_loss=0, epoch=479]\n",
      "100%|██████████| 7/7 [00:00<00:00, 17.91it/s, avg_epoch_loss=0, epoch=480]\n",
      "100%|██████████| 7/7 [00:00<00:00, 18.39it/s, avg_epoch_loss=0, epoch=481]\n",
      "100%|██████████| 7/7 [00:00<00:00, 18.20it/s, avg_epoch_loss=0, epoch=482]\n",
      "100%|██████████| 7/7 [00:00<00:00, 18.27it/s, avg_epoch_loss=0, epoch=483]\n",
      "100%|██████████| 7/7 [00:00<00:00, 18.25it/s, avg_epoch_loss=0, epoch=484]\n",
      "100%|██████████| 7/7 [00:00<00:00, 17.85it/s, avg_epoch_loss=0, epoch=485]\n",
      "100%|██████████| 7/7 [00:00<00:00, 14.64it/s, avg_epoch_loss=0, epoch=486]\n",
      "100%|██████████| 7/7 [00:00<00:00, 17.43it/s, avg_epoch_loss=0, epoch=487]\n",
      "100%|██████████| 7/7 [00:00<00:00, 17.52it/s, avg_epoch_loss=0, epoch=488]\n",
      "100%|██████████| 7/7 [00:00<00:00, 17.49it/s, avg_epoch_loss=0, epoch=489]\n",
      "100%|██████████| 7/7 [00:00<00:00, 18.15it/s, avg_epoch_loss=0, epoch=490]\n",
      "100%|██████████| 7/7 [00:00<00:00, 18.32it/s, avg_epoch_loss=0, epoch=491]\n",
      "100%|██████████| 7/7 [00:00<00:00, 14.74it/s, avg_epoch_loss=0, epoch=492]\n",
      "100%|██████████| 7/7 [00:00<00:00, 19.07it/s, avg_epoch_loss=0, epoch=493]\n",
      "100%|██████████| 7/7 [00:00<00:00, 17.79it/s, avg_epoch_loss=0, epoch=494]\n",
      "100%|██████████| 7/7 [00:00<00:00, 16.60it/s, avg_epoch_loss=0, epoch=495]\n",
      "100%|██████████| 7/7 [00:00<00:00, 18.29it/s, avg_epoch_loss=0, epoch=496]\n",
      "100%|██████████| 7/7 [00:00<00:00, 18.01it/s, avg_epoch_loss=0, epoch=497]\n",
      "100%|██████████| 7/7 [00:00<00:00, 17.72it/s, avg_epoch_loss=0, epoch=498]\n",
      "100%|██████████| 7/7 [00:00<00:00, 18.56it/s, avg_epoch_loss=0, epoch=499]\n"
     ]
    },
    {
     "name": "stdout",
     "output_type": "stream",
     "text": [
      "Start validation!!!\n",
      "Epoch: 499\n"
     ]
    },
    {
     "name": "stderr",
     "output_type": "stream",
     "text": [
      "100%|██████████| 2/2 [00:59<00:00, 29.80s/it]\n"
     ]
    },
    {
     "name": "stdout",
     "output_type": "stream",
     "text": [
      "====================================\n",
      "##### End evaluation!!\n",
      "PEHE VAL = 8.54e+03\n",
      "Training complete.\n",
      "Evaluating the model...\n"
     ]
    },
    {
     "name": "stderr",
     "output_type": "stream",
     "text": [
      "100%|██████████| 12/12 [9:47:05<00:00, 2935.49s/it]\n",
      "GPU available: True (mps), used: False\n",
      "TPU available: False, using: 0 TPU cores\n",
      "HPU available: False, using: 0 HPUs\n",
      "\n",
      "  | Name           | Type        | Params | Mode \n",
      "-------------------------------------------------------\n",
      "0 | balancer       | Sequential  | 1.6 K  | train\n",
      "1 | prior_encoder0 | Sequential  | 0      | train\n",
      "2 | prior_encoder1 | Sequential  | 0      | train\n",
      "3 | cond_mean0     | Sequential  | 701    | train\n",
      "4 | cond_mean1     | Sequential  | 701    | train\n",
      "5 | cond_std0      | Sequential  | 701    | train\n",
      "6 | cond_std1      | Sequential  | 701    | train\n",
      "7 | flows0         | DSFMarginal | 892    | train\n",
      "8 | flows1         | DSFMarginal | 892    | train\n",
      "-------------------------------------------------------\n",
      "6.2 K     Trainable params\n",
      "0         Non-trainable params\n",
      "6.2 K     Total params\n",
      "0.025     Total estimated model params size (MB)\n",
      "45        Modules in train mode\n",
      "0         Modules in eval mode\n"
     ]
    },
    {
     "name": "stdout",
     "output_type": "stream",
     "text": [
      "Fit and evaluate NOFLITE ...\n"
     ]
    },
    {
     "data": {
      "application/vnd.jupyter.widget-view+json": {
       "model_id": "e7c70d947b9d44c9a3897d263a8cd278",
       "version_major": 2,
       "version_minor": 0
      },
      "text/plain": [
       "Training: |          | 0/? [00:00<?, ?it/s]"
      ]
     },
     "metadata": {},
     "output_type": "display_data"
    },
    {
     "name": "stderr",
     "output_type": "stream",
     "text": [
      "`Trainer.fit` stopped: `max_steps=10000` reached.\n"
     ]
    },
    {
     "name": "stdout",
     "output_type": "stream",
     "text": [
      "|====================================================================================================|Fit and evaluate CCT-learner ...\n",
      "Fit and evaluate BART ...\n"
     ]
    },
    {
     "name": "stderr",
     "output_type": "stream",
     "text": [
      "Multiprocess sampling (4 chains in 4 jobs)\n",
      "PGBART: [mu]\n"
     ]
    },
    {
     "data": {
      "application/vnd.jupyter.widget-view+json": {
       "model_id": "9fc5c5acf27c4f82a2feee81c6a8c4fd",
       "version_major": 2,
       "version_minor": 0
      },
      "text/plain": [
       "Output()"
      ]
     },
     "metadata": {},
     "output_type": "display_data"
    },
    {
     "data": {
      "text/html": [
       "<pre style=\"white-space:pre;overflow-x:auto;line-height:normal;font-family:Menlo,'DejaVu Sans Mono',consolas,'Courier New',monospace\"></pre>\n"
      ],
      "text/plain": []
     },
     "metadata": {},
     "output_type": "display_data"
    },
    {
     "name": "stderr",
     "output_type": "stream",
     "text": [
      "Sampling 4 chains for 500 tune and 500 draw iterations (2_000 + 2_000 draws total) took 20 seconds.\n",
      "The rhat statistic is larger than 1.01 for some parameters. This indicates problems during sampling. See https://arxiv.org/abs/1903.08008 for details\n",
      "The effective sample size per chain is smaller than 100 for some parameters.  A higher number is needed for reliable rhat and ess computation. See https://arxiv.org/abs/1903.08008 for details\n",
      "Sampling: [mu, y]\n"
     ]
    },
    {
     "data": {
      "application/vnd.jupyter.widget-view+json": {
       "model_id": "6f5aba6234684b438fae5f2b20b688bc",
       "version_major": 2,
       "version_minor": 0
      },
      "text/plain": [
       "Output()"
      ]
     },
     "metadata": {},
     "output_type": "display_data"
    },
    {
     "name": "stdout",
     "output_type": "stream",
     "text": [
      "X_extended (3000, 11)\n"
     ]
    },
    {
     "data": {
      "text/html": [
       "<pre style=\"white-space:pre;overflow-x:auto;line-height:normal;font-family:Menlo,'DejaVu Sans Mono',consolas,'Courier New',monospace\"></pre>\n"
      ],
      "text/plain": []
     },
     "metadata": {},
     "output_type": "display_data"
    },
    {
     "name": "stderr",
     "output_type": "stream",
     "text": [
      "Sampling: [mu, y]\n"
     ]
    },
    {
     "data": {
      "application/vnd.jupyter.widget-view+json": {
       "model_id": "b35fe78948f24781aeab9fa2f9935528",
       "version_major": 2,
       "version_minor": 0
      },
      "text/plain": [
       "Output()"
      ]
     },
     "metadata": {},
     "output_type": "display_data"
    },
    {
     "data": {
      "text/html": [
       "<pre style=\"white-space:pre;overflow-x:auto;line-height:normal;font-family:Menlo,'DejaVu Sans Mono',consolas,'Courier New',monospace\"></pre>\n"
      ],
      "text/plain": []
     },
     "metadata": {},
     "output_type": "display_data"
    },
    {
     "name": "stderr",
     "output_type": "stream",
     "text": [
      "Sampling: [mu, y]\n"
     ]
    },
    {
     "data": {
      "application/vnd.jupyter.widget-view+json": {
       "model_id": "8005484befbd4d63a5d10d4c7dc139a3",
       "version_major": 2,
       "version_minor": 0
      },
      "text/plain": [
       "Output()"
      ]
     },
     "metadata": {},
     "output_type": "display_data"
    },
    {
     "name": "stdout",
     "output_type": "stream",
     "text": [
      "X_extended (3000, 11)\n"
     ]
    },
    {
     "data": {
      "text/html": [
       "<pre style=\"white-space:pre;overflow-x:auto;line-height:normal;font-family:Menlo,'DejaVu Sans Mono',consolas,'Courier New',monospace\"></pre>\n"
      ],
      "text/plain": []
     },
     "metadata": {},
     "output_type": "display_data"
    },
    {
     "name": "stderr",
     "output_type": "stream",
     "text": [
      "Sampling: [mu, y]\n"
     ]
    },
    {
     "data": {
      "application/vnd.jupyter.widget-view+json": {
       "model_id": "8b5f846d053b447e9f3be5c939724e86",
       "version_major": 2,
       "version_minor": 0
      },
      "text/plain": [
       "Output()"
      ]
     },
     "metadata": {},
     "output_type": "display_data"
    },
    {
     "data": {
      "text/html": [
       "<pre style=\"white-space:pre;overflow-x:auto;line-height:normal;font-family:Menlo,'DejaVu Sans Mono',consolas,'Courier New',monospace\"></pre>\n"
      ],
      "text/plain": []
     },
     "metadata": {},
     "output_type": "display_data"
    },
    {
     "name": "stdout",
     "output_type": "stream",
     "text": [
      "Fit and evaluate CMGP ...\n",
      "Fit and evaluate CEVAE ...\n",
      "Using cpu\n"
     ]
    },
    {
     "name": "stderr",
     "output_type": "stream",
     "text": [
      "100%|██████████| 7000/7000 [00:32<00:00, 217.48it/s]\n"
     ]
    },
    {
     "name": "stdout",
     "output_type": "stream",
     "text": [
      "Fit and evaluate FCCN ...\n"
     ]
    },
    {
     "name": "stderr",
     "output_type": "stream",
     "text": [
      "100%|██████████| 20000/20000 [02:06<00:00, 157.81it/s]\n"
     ]
    },
    {
     "name": "stdout",
     "output_type": "stream",
     "text": [
      "Fit and evaluate GANITE ...\n"
     ]
    },
    {
     "name": "stderr",
     "output_type": "stream",
     "text": [
      "Training Counterfactual GAN: 100%|██████████| 10000/10000 [08:29<00:00, 19.62it/s]\n",
      "Training ITE GAN: 100%|██████████| 10000/10000 [09:33<00:00, 17.44it/s]\n"
     ]
    },
    {
     "name": "stdout",
     "output_type": "stream",
     "text": [
      "Fit and evaluate DKLITE ...\n"
     ]
    },
    {
     "name": "stderr",
     "output_type": "stream",
     "text": [
      "  5%|▌         | 51/1000 [00:02<00:55, 17.17it/s]\n"
     ]
    },
    {
     "name": "stdout",
     "output_type": "stream",
     "text": [
      "Fit and evaluate diffpo ...\n"
     ]
    },
    {
     "name": "stderr",
     "output_type": "stream",
     "text": [
      "100%|██████████| 7/7 [00:00<00:00, 13.78it/s, avg_epoch_loss=0, epoch=0]\n",
      "100%|██████████| 7/7 [00:00<00:00, 15.66it/s, avg_epoch_loss=0, epoch=1]\n",
      "100%|██████████| 7/7 [00:00<00:00, 13.84it/s, avg_epoch_loss=0, epoch=2]\n",
      "100%|██████████| 7/7 [00:00<00:00, 14.55it/s, avg_epoch_loss=0, epoch=3]\n",
      "100%|██████████| 7/7 [00:00<00:00, 14.66it/s, avg_epoch_loss=0, epoch=4]\n",
      "  0%|          | 0/7 [00:00<?, ?it/s]\n"
     ]
    },
    {
     "ename": "KeyboardInterrupt",
     "evalue": "",
     "output_type": "error",
     "traceback": [
      "\u001b[0;31m---------------------------------------------------------------------------\u001b[0m",
      "\u001b[0;31mKeyboardInterrupt\u001b[0m                         Traceback (most recent call last)",
      "Cell \u001b[0;32mIn[3], line 229\u001b[0m\n\u001b[1;32m    226\u001b[0m device \u001b[38;5;241m=\u001b[39m \u001b[38;5;124m\"\u001b[39m\u001b[38;5;124mcuda\u001b[39m\u001b[38;5;124m\"\u001b[39m \u001b[38;5;28;01mif\u001b[39;00m torch\u001b[38;5;241m.\u001b[39mcuda\u001b[38;5;241m.\u001b[39mis_available() \u001b[38;5;28;01melse\u001b[39;00m \u001b[38;5;124m\"\u001b[39m\u001b[38;5;124mcpu\u001b[39m\u001b[38;5;124m\"\u001b[39m\n\u001b[1;32m    227\u001b[0m diffpo \u001b[38;5;241m=\u001b[39m DiffPOITE(config\u001b[38;5;241m=\u001b[39mconfig,\n\u001b[1;32m    228\u001b[0m                    device\u001b[38;5;241m=\u001b[39mdevice)\n\u001b[0;32m--> 229\u001b[0m \u001b[43mdiffpo\u001b[49m\u001b[38;5;241;43m.\u001b[39;49m\u001b[43mfit\u001b[49m\u001b[43m(\u001b[49m\u001b[43mX\u001b[49m\u001b[38;5;241;43m=\u001b[39;49m\u001b[43mX_train\u001b[49m\u001b[43m,\u001b[49m\u001b[43m \u001b[49m\u001b[43mY0\u001b[49m\u001b[38;5;241;43m=\u001b[39;49m\u001b[43my0_train\u001b[49m\u001b[43m,\u001b[49m\u001b[43m \u001b[49m\u001b[43mY1\u001b[49m\u001b[38;5;241;43m=\u001b[39;49m\u001b[43my1_train\u001b[49m\u001b[43m,\u001b[49m\u001b[43m \u001b[49m\u001b[43mW\u001b[49m\u001b[38;5;241;43m=\u001b[39;49m\u001b[43mW_train\u001b[49m\u001b[43m,\u001b[49m\u001b[43m \u001b[49m\u001b[43mps\u001b[49m\u001b[38;5;241;43m=\u001b[39;49m\u001b[43mps_train\u001b[49m\u001b[43m)\u001b[49m\n\u001b[1;32m    230\u001b[0m evaluate \u001b[38;5;241m=\u001b[39m diffpo\u001b[38;5;241m.\u001b[39mevaluate(X_test, y0_test, y1_test, W\u001b[38;5;241m=\u001b[39mW_test, ps\u001b[38;5;241m=\u001b[39mps_test, alpha\u001b[38;5;241m=\u001b[39malpha)\n\u001b[1;32m    231\u001b[0m evaluate[\u001b[38;5;124m\"\u001b[39m\u001b[38;5;124mapproach\u001b[39m\u001b[38;5;124m\"\u001b[39m] \u001b[38;5;241m=\u001b[39m \u001b[38;5;124m\"\u001b[39m\u001b[38;5;124mDiffPO\u001b[39m\u001b[38;5;124m\"\u001b[39m\n",
      "File \u001b[0;32m~/Code/cct-cmc/notebooks/experiments/../../src/benchmarks/diffpo/main_model.py:302\u001b[0m, in \u001b[0;36mDiffPOITE.fit\u001b[0;34m(self, X, Y0, Y1, W, ps, split_ratio)\u001b[0m\n\u001b[1;32m    300\u001b[0m train_loader \u001b[38;5;241m=\u001b[39m torch\u001b[38;5;241m.\u001b[39mutils\u001b[38;5;241m.\u001b[39mdata\u001b[38;5;241m.\u001b[39mDataLoader(train_dataset, batch_size\u001b[38;5;241m=\u001b[39m\u001b[38;5;28mself\u001b[39m\u001b[38;5;241m.\u001b[39mconfig[\u001b[38;5;124m\"\u001b[39m\u001b[38;5;124mtrain\u001b[39m\u001b[38;5;124m\"\u001b[39m][\u001b[38;5;124m\"\u001b[39m\u001b[38;5;124mbatch_size\u001b[39m\u001b[38;5;124m\"\u001b[39m], shuffle\u001b[38;5;241m=\u001b[39m\u001b[38;5;28;01mTrue\u001b[39;00m)\n\u001b[1;32m    301\u001b[0m val_loader \u001b[38;5;241m=\u001b[39m torch\u001b[38;5;241m.\u001b[39mutils\u001b[38;5;241m.\u001b[39mdata\u001b[38;5;241m.\u001b[39mDataLoader(val_dataset, batch_size\u001b[38;5;241m=\u001b[39m\u001b[38;5;28mself\u001b[39m\u001b[38;5;241m.\u001b[39mconfig[\u001b[38;5;124m\"\u001b[39m\u001b[38;5;124mtrain\u001b[39m\u001b[38;5;124m\"\u001b[39m][\u001b[38;5;124m\"\u001b[39m\u001b[38;5;124mbatch_size\u001b[39m\u001b[38;5;124m\"\u001b[39m], shuffle\u001b[38;5;241m=\u001b[39m\u001b[38;5;28;01mFalse\u001b[39;00m)\n\u001b[0;32m--> 302\u001b[0m \u001b[43mtrain\u001b[49m\u001b[43m(\u001b[49m\n\u001b[1;32m    303\u001b[0m \u001b[43m    \u001b[49m\u001b[38;5;28;43mself\u001b[39;49m\u001b[38;5;241;43m.\u001b[39;49m\u001b[43mmodel\u001b[49m\u001b[43m,\u001b[49m\n\u001b[1;32m    304\u001b[0m \u001b[43m    \u001b[49m\u001b[38;5;28;43mself\u001b[39;49m\u001b[38;5;241;43m.\u001b[39;49m\u001b[43mconfig\u001b[49m\u001b[43m[\u001b[49m\u001b[38;5;124;43m\"\u001b[39;49m\u001b[38;5;124;43mtrain\u001b[39;49m\u001b[38;5;124;43m\"\u001b[39;49m\u001b[43m]\u001b[49m\u001b[43m,\u001b[49m\n\u001b[1;32m    305\u001b[0m \u001b[43m    \u001b[49m\u001b[43mtrain_loader\u001b[49m\u001b[43m,\u001b[49m\n\u001b[1;32m    306\u001b[0m \u001b[43m    \u001b[49m\u001b[43mvalid_loader\u001b[49m\u001b[38;5;241;43m=\u001b[39;49m\u001b[43mval_loader\u001b[49m\u001b[43m,\u001b[49m\n\u001b[1;32m    307\u001b[0m \u001b[43m    \u001b[49m\u001b[43mvalid_epoch_interval\u001b[49m\u001b[38;5;241;43m=\u001b[39;49m\u001b[38;5;28;43mself\u001b[39;49m\u001b[38;5;241;43m.\u001b[39;49m\u001b[43mconfig\u001b[49m\u001b[43m[\u001b[49m\u001b[38;5;124;43m\"\u001b[39;49m\u001b[38;5;124;43mtrain\u001b[39;49m\u001b[38;5;124;43m\"\u001b[39;49m\u001b[43m]\u001b[49m\u001b[43m[\u001b[49m\u001b[38;5;124;43m\"\u001b[39;49m\u001b[38;5;124;43mvalid_epoch_interval\u001b[39;49m\u001b[38;5;124;43m\"\u001b[39;49m\u001b[43m]\u001b[49m\u001b[43m,\u001b[49m\n\u001b[1;32m    308\u001b[0m \u001b[43m\u001b[49m\u001b[43m)\u001b[49m\n\u001b[1;32m    309\u001b[0m \u001b[38;5;28mprint\u001b[39m(\u001b[38;5;124m\"\u001b[39m\u001b[38;5;124mTraining complete.\u001b[39m\u001b[38;5;124m\"\u001b[39m)\n",
      "File \u001b[0;32m~/Code/cct-cmc/notebooks/experiments/../../src/benchmarks/diffpo/utils.py:61\u001b[0m, in \u001b[0;36mtrain\u001b[0;34m(model, config, train_loader, valid_loader, valid_epoch_interval, foldername)\u001b[0m\n\u001b[1;32m     59\u001b[0m optimizer\u001b[38;5;241m.\u001b[39mzero_grad()\n\u001b[1;32m     60\u001b[0m loss \u001b[38;5;241m=\u001b[39m model\u001b[38;5;241m.\u001b[39mforward(batch \u001b[38;5;241m=\u001b[39m train_batch, is_train\u001b[38;5;241m=\u001b[39m\u001b[38;5;241m1\u001b[39m)\n\u001b[0;32m---> 61\u001b[0m \u001b[43mloss\u001b[49m\u001b[38;5;241;43m.\u001b[39;49m\u001b[43mbackward\u001b[49m\u001b[43m(\u001b[49m\u001b[43m)\u001b[49m\n\u001b[1;32m     62\u001b[0m avg_loss \u001b[38;5;241m+\u001b[39m\u001b[38;5;241m=\u001b[39m loss\u001b[38;5;241m.\u001b[39mitem()\n\u001b[1;32m     63\u001b[0m optimizer\u001b[38;5;241m.\u001b[39mstep()\n",
      "File \u001b[0;32m/opt/anaconda3/envs/uq/lib/python3.10/site-packages/torch/_tensor.py:521\u001b[0m, in \u001b[0;36mTensor.backward\u001b[0;34m(self, gradient, retain_graph, create_graph, inputs)\u001b[0m\n\u001b[1;32m    511\u001b[0m \u001b[38;5;28;01mif\u001b[39;00m has_torch_function_unary(\u001b[38;5;28mself\u001b[39m):\n\u001b[1;32m    512\u001b[0m     \u001b[38;5;28;01mreturn\u001b[39;00m handle_torch_function(\n\u001b[1;32m    513\u001b[0m         Tensor\u001b[38;5;241m.\u001b[39mbackward,\n\u001b[1;32m    514\u001b[0m         (\u001b[38;5;28mself\u001b[39m,),\n\u001b[0;32m   (...)\u001b[0m\n\u001b[1;32m    519\u001b[0m         inputs\u001b[38;5;241m=\u001b[39minputs,\n\u001b[1;32m    520\u001b[0m     )\n\u001b[0;32m--> 521\u001b[0m \u001b[43mtorch\u001b[49m\u001b[38;5;241;43m.\u001b[39;49m\u001b[43mautograd\u001b[49m\u001b[38;5;241;43m.\u001b[39;49m\u001b[43mbackward\u001b[49m\u001b[43m(\u001b[49m\n\u001b[1;32m    522\u001b[0m \u001b[43m    \u001b[49m\u001b[38;5;28;43mself\u001b[39;49m\u001b[43m,\u001b[49m\u001b[43m \u001b[49m\u001b[43mgradient\u001b[49m\u001b[43m,\u001b[49m\u001b[43m \u001b[49m\u001b[43mretain_graph\u001b[49m\u001b[43m,\u001b[49m\u001b[43m \u001b[49m\u001b[43mcreate_graph\u001b[49m\u001b[43m,\u001b[49m\u001b[43m \u001b[49m\u001b[43minputs\u001b[49m\u001b[38;5;241;43m=\u001b[39;49m\u001b[43minputs\u001b[49m\n\u001b[1;32m    523\u001b[0m \u001b[43m\u001b[49m\u001b[43m)\u001b[49m\n",
      "File \u001b[0;32m/opt/anaconda3/envs/uq/lib/python3.10/site-packages/torch/autograd/__init__.py:289\u001b[0m, in \u001b[0;36mbackward\u001b[0;34m(tensors, grad_tensors, retain_graph, create_graph, grad_variables, inputs)\u001b[0m\n\u001b[1;32m    284\u001b[0m     retain_graph \u001b[38;5;241m=\u001b[39m create_graph\n\u001b[1;32m    286\u001b[0m \u001b[38;5;66;03m# The reason we repeat the same comment below is that\u001b[39;00m\n\u001b[1;32m    287\u001b[0m \u001b[38;5;66;03m# some Python versions print out the first line of a multi-line function\u001b[39;00m\n\u001b[1;32m    288\u001b[0m \u001b[38;5;66;03m# calls in the traceback and some print out the last line\u001b[39;00m\n\u001b[0;32m--> 289\u001b[0m \u001b[43m_engine_run_backward\u001b[49m\u001b[43m(\u001b[49m\n\u001b[1;32m    290\u001b[0m \u001b[43m    \u001b[49m\u001b[43mtensors\u001b[49m\u001b[43m,\u001b[49m\n\u001b[1;32m    291\u001b[0m \u001b[43m    \u001b[49m\u001b[43mgrad_tensors_\u001b[49m\u001b[43m,\u001b[49m\n\u001b[1;32m    292\u001b[0m \u001b[43m    \u001b[49m\u001b[43mretain_graph\u001b[49m\u001b[43m,\u001b[49m\n\u001b[1;32m    293\u001b[0m \u001b[43m    \u001b[49m\u001b[43mcreate_graph\u001b[49m\u001b[43m,\u001b[49m\n\u001b[1;32m    294\u001b[0m \u001b[43m    \u001b[49m\u001b[43minputs\u001b[49m\u001b[43m,\u001b[49m\n\u001b[1;32m    295\u001b[0m \u001b[43m    \u001b[49m\u001b[43mallow_unreachable\u001b[49m\u001b[38;5;241;43m=\u001b[39;49m\u001b[38;5;28;43;01mTrue\u001b[39;49;00m\u001b[43m,\u001b[49m\n\u001b[1;32m    296\u001b[0m \u001b[43m    \u001b[49m\u001b[43maccumulate_grad\u001b[49m\u001b[38;5;241;43m=\u001b[39;49m\u001b[38;5;28;43;01mTrue\u001b[39;49;00m\u001b[43m,\u001b[49m\n\u001b[1;32m    297\u001b[0m \u001b[43m\u001b[49m\u001b[43m)\u001b[49m\n",
      "File \u001b[0;32m/opt/anaconda3/envs/uq/lib/python3.10/site-packages/torch/autograd/graph.py:769\u001b[0m, in \u001b[0;36m_engine_run_backward\u001b[0;34m(t_outputs, *args, **kwargs)\u001b[0m\n\u001b[1;32m    767\u001b[0m     unregister_hooks \u001b[38;5;241m=\u001b[39m _register_logging_hooks_on_whole_graph(t_outputs)\n\u001b[1;32m    768\u001b[0m \u001b[38;5;28;01mtry\u001b[39;00m:\n\u001b[0;32m--> 769\u001b[0m     \u001b[38;5;28;01mreturn\u001b[39;00m \u001b[43mVariable\u001b[49m\u001b[38;5;241;43m.\u001b[39;49m\u001b[43m_execution_engine\u001b[49m\u001b[38;5;241;43m.\u001b[39;49m\u001b[43mrun_backward\u001b[49m\u001b[43m(\u001b[49m\u001b[43m  \u001b[49m\u001b[38;5;66;43;03m# Calls into the C++ engine to run the backward pass\u001b[39;49;00m\n\u001b[1;32m    770\u001b[0m \u001b[43m        \u001b[49m\u001b[43mt_outputs\u001b[49m\u001b[43m,\u001b[49m\u001b[43m \u001b[49m\u001b[38;5;241;43m*\u001b[39;49m\u001b[43margs\u001b[49m\u001b[43m,\u001b[49m\u001b[43m \u001b[49m\u001b[38;5;241;43m*\u001b[39;49m\u001b[38;5;241;43m*\u001b[39;49m\u001b[43mkwargs\u001b[49m\n\u001b[1;32m    771\u001b[0m \u001b[43m    \u001b[49m\u001b[43m)\u001b[49m  \u001b[38;5;66;03m# Calls into the C++ engine to run the backward pass\u001b[39;00m\n\u001b[1;32m    772\u001b[0m \u001b[38;5;28;01mfinally\u001b[39;00m:\n\u001b[1;32m    773\u001b[0m     \u001b[38;5;28;01mif\u001b[39;00m attach_logging_hooks:\n",
      "\u001b[0;31mKeyboardInterrupt\u001b[0m: "
     ]
    }
   ],
   "source": [
    "for i, setup in enumerate([setup_A, setup_B]):\n",
    "    if i == 0:\n",
    "        continue\n",
    "    setup_name = \"A\" if i == 0 else \"B\"\n",
    "    for n in tqdm(range(NSim)):\n",
    "    # for n in tqdm(range(NSim)):\n",
    "        path_train = f\"../../data/simulations/alaa/setup{setup_name}/simulations_{setup_name}_{str(n)}_train.csv\"\n",
    "        path_test = f\"../../data/simulations/alaa/setup{setup_name}/simulations_{setup_name}_{str(n)}_test.csv\"\n",
    "        if get_save_data:\n",
    "            ds_train = pd.read_csv(path_train)\n",
    "            ds_test = pd.read_csv(path_test)\n",
    "        else:\n",
    "            ds = generate_data(**setup)\n",
    "            ds_train, ds_test = train_test_split(ds[0], test_size=0.6, random_state=42)\n",
    "            ds_train.to_csv(path_train)\n",
    "            ds_test.to_csv(path_test)\n",
    "        W_train = ds_train['T'].to_numpy()\n",
    "        y_train = ds_train['Y'].to_numpy()\n",
    "        y1_train = ds_train['Y1'].to_numpy()\n",
    "        y0_train = ds_train['Y0'].to_numpy()\n",
    "        X_train = ds_train[['X'+str(i) for i in range(1,setup_A[\"d\"]+1)]].to_numpy()\n",
    "        ps_train = ds_train['ps'].to_numpy()\n",
    "        ite_train = y1_train - y0_train\n",
    "\n",
    "        W_test = ds_test['T'].to_numpy()\n",
    "        y_test = ds_test['Y'].to_numpy()\n",
    "        y1_test = ds_test['Y1'].to_numpy()\n",
    "        y0_test = ds_test['Y0'].to_numpy()\n",
    "        X_test = ds_test[['X'+str(i) for i in range(1,setup_A[\"d\"]+1)]].to_numpy()\n",
    "        ps_test = ds_test['ps'].to_numpy()\n",
    "        ite_test = y1_test - y0_test\n",
    "\n",
    "        # # Initialize the learner\n",
    "        # conformal_pseudo_MC_T_Learner = CMC_T_Learner(\n",
    "        #     learner(),\n",
    "        #     learner(),\n",
    "        #     normalized_conformal=normalized_conformal,\n",
    "        #     pseudo_MC=True,\n",
    "        #     MC_samples=MC_samples,\n",
    "        #     max_min_y=max_min_y\n",
    "        # )\n",
    "        # conformal_pseudo_MC_T_Learner.fit(X_train, y_train, W_train, ps_train)\n",
    "\n",
    "        # conformal_MC_T_Learner = CMC_T_Learner(\n",
    "        #     learner(),\n",
    "        #     learner(),\n",
    "        #     normalized_conformal=normalized_conformal,\n",
    "        #     pseudo_MC=False,\n",
    "        #     MC_samples=MC_samples,\n",
    "        #     max_min_y=max_min_y\n",
    "        # )\n",
    "        # conformal_MC_T_Learner.fit(X_train, y_train, W_train, ps_train)\n",
    "\n",
    "        # conformal_pseudo_MC_S_Learner = CMC_S_Learner(\n",
    "        #     learner(),\n",
    "        #     normalized_conformal=normalized_conformal,\n",
    "        #     pseudo_MC=True,\n",
    "        #     MC_samples=MC_samples,\n",
    "        #     max_min_y=max_min_y\n",
    "        # )\n",
    "        # with warnings.catch_warnings():\n",
    "        #     conformal_pseudo_MC_S_Learner.fit(X_train, y_train, W_train, ps_train)\n",
    "\n",
    "        # conformal_MC_S_Learner = CMC_S_Learner(\n",
    "        #     learner(),\n",
    "        #     normalized_conformal=normalized_conformal,\n",
    "        #     pseudo_MC=False,\n",
    "        #     MC_samples=MC_samples,\n",
    "        #     max_min_y=max_min_y\n",
    "        # )\n",
    "\n",
    "        # with warnings.catch_warnings():\n",
    "        #     conformal_MC_S_Learner.fit(X_train, y_train, W_train, ps_train)\n",
    "\n",
    "\n",
    "        # conformal_pseudo_MC_X_Learner = CMC_X_Learner(\n",
    "        #     learner(),\n",
    "        #     learner(),\n",
    "        #     learner(),\n",
    "        #     normalized_conformal=normalized_conformal,\n",
    "        #     pseudo_MC=True,\n",
    "        #     MC_samples=MC_samples,\n",
    "        #     max_min_y=max_min_y\n",
    "        # )\n",
    "        # # Fit the learner\n",
    "        # with warnings.catch_warnings():\n",
    "        #     warnings.simplefilter(\"ignore\")\n",
    "        #     conformal_pseudo_MC_X_Learner.fit(X_train, y_train, W_train, ps_train)\n",
    "        # conformal_MC_X_Learner = CMC_X_Learner(\n",
    "        #     learner(),\n",
    "        #     learner(),\n",
    "        #     learner(),\n",
    "        #     normalized_conformal=normalized_conformal,\n",
    "        #     pseudo_MC=False,\n",
    "        #     MC_samples=MC_samples,\n",
    "        #     max_min_y=max_min_y\n",
    "        # )\n",
    "\n",
    "        # # Fit the learner\n",
    "        # with warnings.catch_warnings():\n",
    "        #     warnings.simplefilter(\"ignore\")\n",
    "        #     conformal_MC_X_Learner.fit(X_train, y_train, W_train, ps_train)\n",
    "\n",
    "        (X_train_nuisance, X_train_cal,\n",
    "            y_train_nuisance, y_train_cal,\n",
    "            y0_train_nuisance, y0_train_cal,\n",
    "            y1_train_nuisance, y1_train_cal,\n",
    "            W_train_nuisance, W_train_cal,\n",
    "            ite_train_nuisance, ite_train_cal) = train_test_split(\n",
    "                X_train, y_train, y0_train, y1_train, W_train, ite_train, test_size=0.5, random_state=n\n",
    "        )\n",
    "\n",
    "        conformal_y0 = WrapRegressor(learner())\n",
    "        conformal_y0.fit(X_train_nuisance, y0_train_nuisance)\n",
    "        conformal_y0.calibrate(X_train_cal, y0_train_cal, cps=True)\n",
    "        conformal_y1 = WrapRegressor(learner())\n",
    "        conformal_y1.fit(X_train_nuisance, y1_train_nuisance)\n",
    "        conformal_y1.calibrate(X_train_cal, y1_train_cal, cps=True)\n",
    "        conformal_ite = WrapRegressor(learner())\n",
    "        conformal_ite.fit(X_train_nuisance, ite_train_nuisance)\n",
    "        conformal_ite.calibrate(X_train_cal, ite_train_cal, cps=True)\n",
    "\n",
    "        df_eval = pd.DataFrame(columns=[\"approach\",\n",
    "                                        \"rmse_y0\", \"rmse_y1\", \"rmse_ite\",\n",
    "                                        \"coverage_y0\", \"coverage_y1\", \"coverage_ite\",\n",
    "                                        \"efficiency_y0\", \"efficiency_y1\", \"efficiency_ite\",\n",
    "                                        \"crps_y0\", \"crps_y1\", \"crps_ite\",\n",
    "                                        \"ll_y0\", \"ll_y1\", \"ll_ite\"])\n",
    "\n",
    "        # CCT-learner\n",
    "        print(\"Fit and evaluate CCT-learner ...\")\n",
    "        conformal_CT_learner = CCT_Learner(learner(), learner(), normalized_conformal=normalized_conformal)\n",
    "        conformal_CT_learner.fit(X_train, y_train, W_train, p=ps_train)\n",
    "        evaluate = conformal_CT_learner.evaluate(X_test, y0_test, y1_test, ps_test, alpha=alpha)\n",
    "        evaluate[\"approach\"] = \"CTT-learner\"\n",
    "        df_eval = pd.concat([df_eval, pd.DataFrame(evaluate, index=[0])], ignore_index=True)\n",
    "\n",
    "        # # BART\n",
    "        print(\"Fit and evaluate BART ...\")\n",
    "        bart = BART()\n",
    "        bart.fit(X_train, y_train, W_train)\n",
    "        evaluate = bart.evaluate(X_test, y0_test, y1_test, alpha=alpha)\n",
    "        evaluate[\"approach\"] = \"BART\"\n",
    "        df_eval = pd.concat([df_eval, pd.DataFrame(evaluate, index=[0])], ignore_index=True)\n",
    "\n",
    "        # CMGP\n",
    "        print(\"Fit and evaluate CMGP ...\")\n",
    "        cmgp = CMGP(X=X_train, Treatments=W_train, Y=y_train)\n",
    "        evaluate = cmgp.evaluate(X_test, y0_test, y1_test, alpha=alpha)\n",
    "        evaluate[\"approach\"] = \"CMGP\"\n",
    "        df_eval = pd.concat([df_eval, pd.DataFrame(evaluate, index=[0])], ignore_index=True)\n",
    "\n",
    "        # CEVAE\n",
    "        print(\"Fit and evaluate CEVAE ...\")\n",
    "        dim_bin = 0\n",
    "        dim_cont = X_train.shape[1]\n",
    "        cevae = CEVAE(dim_bin=dim_bin, dim_cont=dim_cont)\n",
    "        cevae.fit(X=X_train, Y=y_train, W=W_train)\n",
    "        evaluate = cevae.evaluate(X_test, y0_test, y1_test, alpha=alpha)\n",
    "        evaluate[\"approach\"] = \"CEVAE\"\n",
    "        df_eval = pd.concat([df_eval, pd.DataFrame(evaluate, index=[0])], ignore_index=True)\n",
    "\n",
    "        # FCCN\n",
    "        print(\"Fit and evaluate FCCN ...\")\n",
    "        fccn = FCCN(input_size=X_train.shape[1])\n",
    "        fccn.train(X_train, y_train, W_train)\n",
    "        evaluate = fccn.evaluate(X_test, y0_test, y1_test, alpha=alpha)\n",
    "        evaluate[\"approach\"] = \"FCCN\"\n",
    "        df_eval = pd.concat([df_eval, pd.DataFrame(evaluate, index=[0])], ignore_index=True)\n",
    "\n",
    "        # GANITE\n",
    "        print(\"Fit and evaluate GANITE ...\")\n",
    "        ganite = ganite_params = {'h_dim': 30,                          # hidden dimensions\n",
    "                                 'batch_size': 64,                     # the number of samples in each batch\n",
    "                                 'iterations': 10000,                  # the number of iterations for training\n",
    "                                 'alpha': 2.,\n",
    "                                 'beta': 5.,                           # hyper-parameter to adjust the loss importance\n",
    "                                 'input_size': X_train.shape[1],       # the number of features\n",
    "                                 }\n",
    "        ganite = GANITE(**ganite_params)\n",
    "        ganite.fit(X_train, y_train, W_train)\n",
    "        evaluate = ganite.evaluate(X_test, y0_test, y1_test, alpha=alpha)\n",
    "        evaluate[\"approach\"] = \"GANITE\"\n",
    "        df_eval = pd.concat([df_eval, pd.DataFrame(evaluate, index=[0])], ignore_index=True)\n",
    "\n",
    "        # DKLITE\n",
    "        print(\"Fit and evaluate DKLITE ...\")\n",
    "        dklite = DKLITE(input_dim=X_train.shape[1], output_dim=1)\n",
    "        dklite.fit(X_train, y_train, W_train)\n",
    "        evaluate = dklite.evaluate(X_test, y0_test, y1_test, alpha=alpha)\n",
    "        evaluate[\"approach\"] = \"DKLITE\"\n",
    "        df_eval = pd.concat([df_eval, pd.DataFrame(evaluate, index=[0])], ignore_index=True)\n",
    "\n",
    "        # diffpo\n",
    "        print(\"Fit and evaluate diffpo ...\")\n",
    "        config = {\n",
    "            \"train\": {\n",
    "                \"epochs\": 500,\n",
    "                \"batch_size\": 256,\n",
    "                \"lr\": 0.0005,\n",
    "                \"valid_epoch_interval\": 50\n",
    "            },\n",
    "            \"diffusion\": {\n",
    "                \"layers\": 4,\n",
    "                \"channels\": 64,\n",
    "                \"f_dim\": 180,\n",
    "                \"cond_dim\": X_train.shape[1] + 1, # conditional variable dimension\n",
    "                \"hidden_dim\": 128,\n",
    "                \"side_dim\": 33,\n",
    "                \"nheads\": 2,\n",
    "                \"diffusion_embedding_dim\": 128,\n",
    "                \"beta_start\": 0.0001,\n",
    "                \"beta_end\": 0.5,\n",
    "                \"num_steps\": 100,\n",
    "                \"schedule\": \"quad\",\n",
    "                \"mixed\": False\n",
    "            },\n",
    "            \"model\": {\n",
    "                \"is_unconditional\": 0,\n",
    "                \"timeemb\": 32,\n",
    "                \"featureemb\": 16,\n",
    "                \"target_strategy\": \"random\",\n",
    "                \"mixed\": False\n",
    "            },\n",
    "        }\n",
    "        device = \"cuda\" if torch.cuda.is_available() else \"cpu\"\n",
    "        diffpo = DiffPOITE(config=config,\n",
    "                           device=device)\n",
    "        diffpo.fit(X=X_train, Y0=y0_train, Y1=y1_train, W=W_train, ps=ps_train)\n",
    "        evaluate = diffpo.evaluate(X_test, y0_test, y1_test, W=W_test, ps=ps_test, alpha=alpha)\n",
    "        evaluate[\"approach\"] = \"DiffPO\"\n",
    "        df_eval = pd.concat([df_eval, pd.DataFrame(evaluate, index=[0])], ignore_index=True)\n",
    "\n",
    "        # NOFLITE\n",
    "        print(\"Fit and evaluate NOFLITE ...\")\n",
    "        params = {\n",
    "            'input_size': X_train.shape[1],\n",
    "            'lr': 5e-4,\n",
    "            'lambda_l1': 1e-3,\n",
    "            'lambda_l2': 5e-3,\n",
    "            'batch_size': 128,\n",
    "            'noise_reg_x': 1e-0,\n",
    "            'noise_reg_y': 5e-1,\n",
    "            'hidden_neurons_encoder': 25,\n",
    "            'hidden_layers_balancer': 3,\n",
    "            'hidden_layers_encoder': 0,\n",
    "            'hidden_layers_prior': 2,\n",
    "            'hidden_neurons_trans': 4,\n",
    "            'hidden_neurons_cond': 16,\n",
    "            'hidden_layers_cond': 2,\n",
    "            'dense': False,\n",
    "            'n_flows': 1,\n",
    "            'datapoint_num': 8,\n",
    "            'resid_layers': 1,\n",
    "            'max_steps': 10000,\n",
    "            'flow_type': \"SigmoidX\",\n",
    "            'metalearner': \"T\",\n",
    "            'lambda_mmd': 0.1,\n",
    "            'n_samples': 500,\n",
    "            'trunc_prob': 0.01,\n",
    "            'bin_outcome': False,\n",
    "            'iterations': 1,\n",
    "            'visualize': False,\n",
    "        }\n",
    "        noflite = NOFLITE(params=params)\n",
    "        noflite.fit(X_train, y_train, W_train)\n",
    "        evaluate = noflite.evaluate(X_test, y0_test, y1_test, W=W_test, alpha=alpha)\n",
    "        evaluate[\"approach\"] = \"NOFLITE\"\n",
    "        df_eval = pd.concat([df_eval, pd.DataFrame(evaluate, index=[0])], ignore_index=True)\n",
    "\n",
    "        if max_min_y:\n",
    "            df_eval.to_csv(f\"../../results/outputs/alaa/setup{setup_name}/eval_dist/simulations_{setup_name}_{str(n)}_{learner_name}_{normalized_conformal_name}_max_min_y_eval.csv\", index=False)\n",
    "        else:\n",
    "            df_eval.to_csv(f\"../../results/outputs/alaa/setup{setup_name}/eval_dist/simulations_{setup_name}_{str(n)}_{learner_name}_{normalized_conformal_name}_eval.csv\", index=False)"
   ]
  },
  {
   "cell_type": "code",
   "execution_count": 4,
   "metadata": {},
   "outputs": [
    {
     "data": {
      "text/plain": [
       "1"
      ]
     },
     "execution_count": 4,
     "metadata": {},
     "output_type": "execute_result"
    }
   ],
   "source": [
    "n"
   ]
  },
  {
   "cell_type": "markdown",
   "metadata": {},
   "source": [
    "## Evaluating Probability Calibrations"
   ]
  },
  {
   "cell_type": "code",
   "execution_count": 6,
   "metadata": {},
   "outputs": [],
   "source": [
    "setup_A = {\"n\":3001, \"d\": 10, \"gamma\":1, \"alpha\": 0.1, \"nexps\": 1}\n",
    "setup_B = {\"n\":3001, \"d\": 10, \"gamma\":0, \"alpha\": 0.1, \"nexps\": 1}\n",
    "\n",
    "learner = RandomForestRegressor\n",
    "learner_name = \"RF\"\n",
    "MC_samples = 100\n",
    "normalized_conformal = True\n",
    "if normalized_conformal:\n",
    "    normalized_conformal_name = \"normalized\"\n",
    "else:\n",
    "    normalized_conformal_name = \"nonnormalized\"\n",
    "max_min_y = True\n",
    "\n",
    "PROB_NSIM = 1000"
   ]
  },
  {
   "cell_type": "code",
   "execution_count": null,
   "metadata": {},
   "outputs": [],
   "source": [
    "for i, setup in enumerate([setup_A, setup_B]):\n",
    "    list_p_values_pseudo_MC_T = []\n",
    "    list_p_values_MC_T = []\n",
    "    list_p_values_CT = []\n",
    "    list_p_values_y0 = []\n",
    "    list_p_values_y1 = []\n",
    "    list_p_values_oracle = []\n",
    "    list_p_values_pseudo_MC_T_unweighted = []\n",
    "    list_p_values_MC_T_unweighted = []\n",
    "    list_p_values_CT_unweighted = []\n",
    "    list_p_values_y0_unweighted = []\n",
    "    list_p_values_y1_unweighted = []\n",
    "    setup_name = \"A\" if i == 0 else \"B\"\n",
    "    for n in tqdm(range(PROB_NSIM)):\n",
    "        ds = generate_data(**setup)\n",
    "        ds_train, ds_test = train_test_split(ds[0], test_size=1)\n",
    "        W_train = ds_train['T'].to_numpy()\n",
    "        y_train = ds_train['Y'].to_numpy()\n",
    "        y1_train = ds_train['Y1'].to_numpy()\n",
    "        y0_train = ds_train['Y0'].to_numpy()\n",
    "        X_train = ds_train[['X'+str(i) for i in range(1,setup_A[\"d\"]+1)]].to_numpy()\n",
    "        ps_train = ds_train['ps'].to_numpy()\n",
    "        ite_train = y1_train - y0_train\n",
    "\n",
    "        W_test = ds_test['T'].to_numpy()\n",
    "        y_test = ds_test['Y'].to_numpy()\n",
    "        y1_test = ds_test['Y1'].to_numpy()\n",
    "        y0_test = ds_test['Y0'].to_numpy()\n",
    "        X_test = ds_test[['X'+str(i) for i in range(1,setup_A[\"d\"]+1)]].to_numpy()\n",
    "        ps_test = ds_test['ps'].to_numpy()\n",
    "        ite_test = y1_test - y0_test\n",
    "\n",
    "        ## Initialize and fit the learners (weighted)\n",
    "        conformal_pseudo_MC_T_Learner = CMC_T_Learner(\n",
    "            learner(),\n",
    "            learner(),\n",
    "            normalized_conformal=normalized_conformal,\n",
    "            pseudo_MC=True,\n",
    "            MC_samples=MC_samples,\n",
    "            max_min_y=max_min_y\n",
    "        )\n",
    "        conformal_pseudo_MC_T_Learner.fit(X_train, y_train, W_train, ps_train)\n",
    "\n",
    "        conformal_MC_T_Learner = CMC_T_Learner(\n",
    "            learner(),\n",
    "            learner(),\n",
    "            normalized_conformal=normalized_conformal,\n",
    "            pseudo_MC=False,\n",
    "            MC_samples=MC_samples,\n",
    "            max_min_y=max_min_y\n",
    "        )\n",
    "        conformal_MC_T_Learner.fit(X_train, y_train, W_train, ps_train)\n",
    "\n",
    "        conformal_CT_learner = CCT_Learner(learner(), learner(), normalized_conformal=normalized_conformal)\n",
    "        conformal_CT_learner.fit(X_train, y_train, W_train, p=ps_train)\n",
    "        (X_train_nuisance, X_train_cal,\n",
    "            y_train_nuisance, y_train_cal,\n",
    "            y0_train_nuisance, y0_train_cal,\n",
    "            y1_train_nuisance, y1_train_cal,\n",
    "            W_train_nuisance, W_train_cal,\n",
    "            ite_train_nuisance, ite_train_cal) = train_test_split(\n",
    "                X_train, y_train, y0_train, y1_train, W_train, ite_train, test_size=0.5, random_state=n\n",
    "        )\n",
    "        conformal_ite_oracle = WrapRegressor(learner())\n",
    "        conformal_ite_oracle.fit(X_train_nuisance, ite_train_nuisance)\n",
    "        conformal_ite_oracle.calibrate(X_train_cal, ite_train_cal, cps=True)\n",
    "        # p-values\n",
    "        list_p_values_pseudo_MC_T.append(conformal_pseudo_MC_T_Learner.predict_p_value(X_test, ite_test))\n",
    "        list_p_values_MC_T.append(conformal_MC_T_Learner.predict_p_value(X_test, ite_test))\n",
    "        list_p_values_CT.append(conformal_CT_learner.predict_p_value(X_test, ite_test, p=ps_test))\n",
    "        list_p_values_y0.append(conformal_CT_learner.predict_p_value_y0(X_test, y0_test, p=ps_test))\n",
    "        list_p_values_y1.append(conformal_CT_learner.predict_p_value_y1(X_test, y1_test, p=ps_test))\n",
    "        list_p_values_oracle.append(conformal_ite_oracle.predict_cps(X_test, y=ite_test))\n",
    "\n",
    "        ## Initialize and fit the learners (unweighted)\n",
    "        conformal_pseudo_MC_T_Learner = CMC_T_Learner(\n",
    "            learner(),\n",
    "            learner(),\n",
    "            normalized_conformal=normalized_conformal,\n",
    "            pseudo_MC=True,\n",
    "            MC_samples=MC_samples,\n",
    "            max_min_y=max_min_y\n",
    "        )\n",
    "        conformal_pseudo_MC_T_Learner.fit(X_train, y_train, W_train)\n",
    "\n",
    "        conformal_MC_T_Learner = CMC_T_Learner(\n",
    "            learner(),\n",
    "            learner(),\n",
    "            normalized_conformal=normalized_conformal,\n",
    "            pseudo_MC=False,\n",
    "            MC_samples=MC_samples,\n",
    "            max_min_y=max_min_y\n",
    "        )\n",
    "        conformal_MC_T_Learner.fit(X_train, y_train, W_train)\n",
    "\n",
    "        conformal_CT_learner = CCT_Learner(learner(), learner(), normalized_conformal=normalized_conformal)\n",
    "        conformal_CT_learner.fit(X_train, y_train, W_train)\n",
    "        # p-values\n",
    "        list_p_values_pseudo_MC_T_unweighted.append(conformal_pseudo_MC_T_Learner.predict_p_value(X_test, ite_test))\n",
    "        list_p_values_MC_T_unweighted.append(conformal_MC_T_Learner.predict_p_value(X_test, ite_test))\n",
    "        list_p_values_CT_unweighted.append(conformal_CT_learner.predict_p_value(X_test, ite_test))\n",
    "        list_p_values_y0_unweighted.append(conformal_CT_learner.predict_p_value_y0(X_test, y0_test))\n",
    "        list_p_values_y1_unweighted.append(conformal_CT_learner.predict_p_value_y1(X_test, y1_test))\n",
    "\n",
    "\n",
    "\n",
    "    dict_p_values = {\n",
    "            \"pseudo_MC_T\": np.concatenate(list_p_values_pseudo_MC_T),\n",
    "            \"MC_T\": np.concatenate(list_p_values_MC_T),\n",
    "            \"CT\": np.concatenate(list_p_values_CT),\n",
    "            \"y0\": np.concatenate(list_p_values_y0),\n",
    "            \"y1\": np.concatenate(list_p_values_y1),\n",
    "            \"oracle\": np.concatenate(list_p_values_oracle),\n",
    "            \"pseudo_MC_T_unweighted\": np.concatenate(list_p_values_pseudo_MC_T_unweighted),\n",
    "            \"MC_T_unweighted\": np.concatenate(list_p_values_MC_T_unweighted),\n",
    "            \"CT_unweighted\": np.concatenate(list_p_values_CT_unweighted),\n",
    "            \"y0_unweighted\": np.concatenate(list_p_values_y0_unweighted),\n",
    "            \"y1_unweighted\": np.concatenate(list_p_values_y1_unweighted),\n",
    "    }\n",
    "    df_p_values = pd.DataFrame(dict_p_values)\n",
    "    if max_min_y:\n",
    "        df_p_values.to_csv(f\"../../results/outputs/alaa/setup{setup_name}/p_values/simulations_{setup_name}_{learner_name}_{normalized_conformal_name}_max_min_y_p_values.csv\", index=False)\n",
    "    else:\n",
    "        df_p_values.to_csv(f\"../../results/outputs/alaa/setup{setup_name}/p_values/simulations_{setup_name}_{learner_name}_{normalized_conformal_name}_p_values.csv\", index=False)"
   ]
  }
 ],
 "metadata": {
  "kernelspec": {
   "display_name": "uq",
   "language": "python",
   "name": "python3"
  },
  "language_info": {
   "codemirror_mode": {
    "name": "ipython",
    "version": 3
   },
   "file_extension": ".py",
   "mimetype": "text/x-python",
   "name": "python",
   "nbconvert_exporter": "python",
   "pygments_lexer": "ipython3",
   "version": "3.10.16"
  }
 },
 "nbformat": 4,
 "nbformat_minor": 4
}

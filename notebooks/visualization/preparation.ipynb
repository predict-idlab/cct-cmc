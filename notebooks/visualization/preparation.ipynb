{
 "cells": [
  {
   "cell_type": "markdown",
   "id": "82819dbf-5244-4e6c-90dd-e9f8d7c2d8c0",
   "metadata": {},
   "source": [
    "# Preprocess Experiments in Single Dataframes"
   ]
  },
  {
   "cell_type": "code",
   "execution_count": 1,
   "id": "09204d6b-1102-4cb2-8f40-f75ec9558c62",
   "metadata": {},
   "outputs": [],
   "source": [
    "import seaborn as sns\n",
    "import glob\n",
    "import pandas as pd\n",
    "import numpy as np\n",
    "import matplotlib.pyplot as plt\n",
    "from tqdm import tqdm\n",
    "import json\n",
    "from copy import deepcopy\n",
    "\n",
    "# set seaborn settings for neurips paper\n",
    "sns.set_context(\"paper\")\n",
    "sns.set_style(\"whitegrid\")\n",
    "sns.set_palette(\"colorblind\")\n",
    "\n",
    "flier_props = dict(markerfacecolor='0.75', markersize=2,\n",
    "              linestyle='none')"
   ]
  },
  {
   "cell_type": "markdown",
   "id": "a22cf59a-e817-45e1-9b1c-9118281151ab",
   "metadata": {},
   "source": [
    "## Alaa et al. synthethic data (Setup A and B)"
   ]
  },
  {
   "cell_type": "code",
   "execution_count": 2,
   "id": "7bbfd9f5-0f62-48b4-85dc-3ddda6a859dc",
   "metadata": {},
   "outputs": [],
   "source": [
    "# Function to process files efficiently\n",
    "def process_csv_files(file_list, setup_label, p_values=True):\n",
    "    list_df = []\n",
    "    for filepath in tqdm(file_list):\n",
    "        df = pd.read_csv(filepath)\n",
    "        df['setup'] = setup_label\n",
    "        df[\"sim_nb\"] = filepath.split('/')[-1].split('_')[2]\n",
    "        \n",
    "        # Extract first element of p-value lists\n",
    "        if p_values:\n",
    "            df[\"p_values_y0\"] = df[\"p_values_y0\"].str.extract(r\"\\[{0,2}([^,\\]\\[]+)\").astype(float)\n",
    "            df[\"p_values_y1\"] = df[\"p_values_y1\"].str.extract(r\"\\[{0,2}([^,\\]\\[]+)\").astype(float) \n",
    "            df[\"p_values_ite\"] = df[\"p_values_ite\"].str.extract(r\"\\[{0,2}([^,\\]\\[]+)\").astype(float)\n",
    "        \n",
    "        list_df.append(df.copy())\n",
    "        del df\n",
    "    return list_df"
   ]
  },
  {
   "cell_type": "code",
   "execution_count": 3,
   "id": "64edf9f5-d574-4581-a5e8-8caceeb301c7",
   "metadata": {},
   "outputs": [
    {
     "name": "stderr",
     "output_type": "stream",
     "text": [
      "  0%|          | 0/99 [00:19<?, ?it/s]\n"
     ]
    },
    {
     "ename": "KeyboardInterrupt",
     "evalue": "",
     "output_type": "error",
     "traceback": [
      "\u001b[0;31m---------------------------------------------------------------------------\u001b[0m",
      "\u001b[0;31mKeyboardInterrupt\u001b[0m                         Traceback (most recent call last)",
      "Cell \u001b[0;32mIn[3], line 5\u001b[0m\n\u001b[1;32m      2\u001b[0m csv_files_setupA \u001b[38;5;241m=\u001b[39m \u001b[38;5;28msorted\u001b[39m(glob\u001b[38;5;241m.\u001b[39mglob(\u001b[38;5;124m\"\u001b[39m\u001b[38;5;124m../../results/outputs/alaa/setupA/eval_dist/*.csv\u001b[39m\u001b[38;5;124m\"\u001b[39m))\n\u001b[1;32m      3\u001b[0m csv_files_setupB \u001b[38;5;241m=\u001b[39m \u001b[38;5;28msorted\u001b[39m(glob\u001b[38;5;241m.\u001b[39mglob(\u001b[38;5;124m\"\u001b[39m\u001b[38;5;124m../../results/outputs/alaa/setupB/eval_dist/*.csv\u001b[39m\u001b[38;5;124m\"\u001b[39m))\n\u001b[0;32m----> 5\u001b[0m list_df_A \u001b[38;5;241m=\u001b[39m \u001b[43mprocess_csv_files\u001b[49m\u001b[43m(\u001b[49m\u001b[43mcsv_files_setupA\u001b[49m\u001b[43m,\u001b[49m\u001b[43m \u001b[49m\u001b[38;5;124;43m\"\u001b[39;49m\u001b[38;5;124;43mA\u001b[39;49m\u001b[38;5;124;43m\"\u001b[39;49m\u001b[43m)\u001b[49m\n\u001b[1;32m      6\u001b[0m list_df_B \u001b[38;5;241m=\u001b[39m process_csv_files(csv_files_setupB, \u001b[38;5;124m\"\u001b[39m\u001b[38;5;124mB\u001b[39m\u001b[38;5;124m\"\u001b[39m)\n",
      "Cell \u001b[0;32mIn[2], line 5\u001b[0m, in \u001b[0;36mprocess_csv_files\u001b[0;34m(file_list, setup_label, p_values)\u001b[0m\n\u001b[1;32m      3\u001b[0m list_df \u001b[38;5;241m=\u001b[39m []\n\u001b[1;32m      4\u001b[0m \u001b[38;5;28;01mfor\u001b[39;00m filepath \u001b[38;5;129;01min\u001b[39;00m tqdm(file_list):\n\u001b[0;32m----> 5\u001b[0m     df \u001b[38;5;241m=\u001b[39m \u001b[43mpd\u001b[49m\u001b[38;5;241;43m.\u001b[39;49m\u001b[43mread_csv\u001b[49m\u001b[43m(\u001b[49m\u001b[43mfilepath\u001b[49m\u001b[43m)\u001b[49m\n\u001b[1;32m      6\u001b[0m     df[\u001b[38;5;124m'\u001b[39m\u001b[38;5;124msetup\u001b[39m\u001b[38;5;124m'\u001b[39m] \u001b[38;5;241m=\u001b[39m setup_label\n\u001b[1;32m      7\u001b[0m     df[\u001b[38;5;124m\"\u001b[39m\u001b[38;5;124msim_nb\u001b[39m\u001b[38;5;124m\"\u001b[39m] \u001b[38;5;241m=\u001b[39m filepath\u001b[38;5;241m.\u001b[39msplit(\u001b[38;5;124m'\u001b[39m\u001b[38;5;124m/\u001b[39m\u001b[38;5;124m'\u001b[39m)[\u001b[38;5;241m-\u001b[39m\u001b[38;5;241m1\u001b[39m]\u001b[38;5;241m.\u001b[39msplit(\u001b[38;5;124m'\u001b[39m\u001b[38;5;124m_\u001b[39m\u001b[38;5;124m'\u001b[39m)[\u001b[38;5;241m2\u001b[39m]\n",
      "File \u001b[0;32m/opt/conda/lib/python3.11/site-packages/pandas/io/parsers/readers.py:1026\u001b[0m, in \u001b[0;36mread_csv\u001b[0;34m(filepath_or_buffer, sep, delimiter, header, names, index_col, usecols, dtype, engine, converters, true_values, false_values, skipinitialspace, skiprows, skipfooter, nrows, na_values, keep_default_na, na_filter, verbose, skip_blank_lines, parse_dates, infer_datetime_format, keep_date_col, date_parser, date_format, dayfirst, cache_dates, iterator, chunksize, compression, thousands, decimal, lineterminator, quotechar, quoting, doublequote, escapechar, comment, encoding, encoding_errors, dialect, on_bad_lines, delim_whitespace, low_memory, memory_map, float_precision, storage_options, dtype_backend)\u001b[0m\n\u001b[1;32m   1013\u001b[0m kwds_defaults \u001b[38;5;241m=\u001b[39m _refine_defaults_read(\n\u001b[1;32m   1014\u001b[0m     dialect,\n\u001b[1;32m   1015\u001b[0m     delimiter,\n\u001b[0;32m   (...)\u001b[0m\n\u001b[1;32m   1022\u001b[0m     dtype_backend\u001b[38;5;241m=\u001b[39mdtype_backend,\n\u001b[1;32m   1023\u001b[0m )\n\u001b[1;32m   1024\u001b[0m kwds\u001b[38;5;241m.\u001b[39mupdate(kwds_defaults)\n\u001b[0;32m-> 1026\u001b[0m \u001b[38;5;28;01mreturn\u001b[39;00m \u001b[43m_read\u001b[49m\u001b[43m(\u001b[49m\u001b[43mfilepath_or_buffer\u001b[49m\u001b[43m,\u001b[49m\u001b[43m \u001b[49m\u001b[43mkwds\u001b[49m\u001b[43m)\u001b[49m\n",
      "File \u001b[0;32m/opt/conda/lib/python3.11/site-packages/pandas/io/parsers/readers.py:626\u001b[0m, in \u001b[0;36m_read\u001b[0;34m(filepath_or_buffer, kwds)\u001b[0m\n\u001b[1;32m    623\u001b[0m     \u001b[38;5;28;01mreturn\u001b[39;00m parser\n\u001b[1;32m    625\u001b[0m \u001b[38;5;28;01mwith\u001b[39;00m parser:\n\u001b[0;32m--> 626\u001b[0m     \u001b[38;5;28;01mreturn\u001b[39;00m \u001b[43mparser\u001b[49m\u001b[38;5;241;43m.\u001b[39;49m\u001b[43mread\u001b[49m\u001b[43m(\u001b[49m\u001b[43mnrows\u001b[49m\u001b[43m)\u001b[49m\n",
      "File \u001b[0;32m/opt/conda/lib/python3.11/site-packages/pandas/io/parsers/readers.py:1923\u001b[0m, in \u001b[0;36mTextFileReader.read\u001b[0;34m(self, nrows)\u001b[0m\n\u001b[1;32m   1916\u001b[0m nrows \u001b[38;5;241m=\u001b[39m validate_integer(\u001b[38;5;124m\"\u001b[39m\u001b[38;5;124mnrows\u001b[39m\u001b[38;5;124m\"\u001b[39m, nrows)\n\u001b[1;32m   1917\u001b[0m \u001b[38;5;28;01mtry\u001b[39;00m:\n\u001b[1;32m   1918\u001b[0m     \u001b[38;5;66;03m# error: \"ParserBase\" has no attribute \"read\"\u001b[39;00m\n\u001b[1;32m   1919\u001b[0m     (\n\u001b[1;32m   1920\u001b[0m         index,\n\u001b[1;32m   1921\u001b[0m         columns,\n\u001b[1;32m   1922\u001b[0m         col_dict,\n\u001b[0;32m-> 1923\u001b[0m     ) \u001b[38;5;241m=\u001b[39m \u001b[38;5;28;43mself\u001b[39;49m\u001b[38;5;241;43m.\u001b[39;49m\u001b[43m_engine\u001b[49m\u001b[38;5;241;43m.\u001b[39;49m\u001b[43mread\u001b[49m\u001b[43m(\u001b[49m\u001b[43m  \u001b[49m\u001b[38;5;66;43;03m# type: ignore[attr-defined]\u001b[39;49;00m\n\u001b[1;32m   1924\u001b[0m \u001b[43m        \u001b[49m\u001b[43mnrows\u001b[49m\n\u001b[1;32m   1925\u001b[0m \u001b[43m    \u001b[49m\u001b[43m)\u001b[49m\n\u001b[1;32m   1926\u001b[0m \u001b[38;5;28;01mexcept\u001b[39;00m \u001b[38;5;167;01mException\u001b[39;00m:\n\u001b[1;32m   1927\u001b[0m     \u001b[38;5;28mself\u001b[39m\u001b[38;5;241m.\u001b[39mclose()\n",
      "File \u001b[0;32m/opt/conda/lib/python3.11/site-packages/pandas/io/parsers/c_parser_wrapper.py:234\u001b[0m, in \u001b[0;36mCParserWrapper.read\u001b[0;34m(self, nrows)\u001b[0m\n\u001b[1;32m    232\u001b[0m \u001b[38;5;28;01mtry\u001b[39;00m:\n\u001b[1;32m    233\u001b[0m     \u001b[38;5;28;01mif\u001b[39;00m \u001b[38;5;28mself\u001b[39m\u001b[38;5;241m.\u001b[39mlow_memory:\n\u001b[0;32m--> 234\u001b[0m         chunks \u001b[38;5;241m=\u001b[39m \u001b[38;5;28;43mself\u001b[39;49m\u001b[38;5;241;43m.\u001b[39;49m\u001b[43m_reader\u001b[49m\u001b[38;5;241;43m.\u001b[39;49m\u001b[43mread_low_memory\u001b[49m\u001b[43m(\u001b[49m\u001b[43mnrows\u001b[49m\u001b[43m)\u001b[49m\n\u001b[1;32m    235\u001b[0m         \u001b[38;5;66;03m# destructive to chunks\u001b[39;00m\n\u001b[1;32m    236\u001b[0m         data \u001b[38;5;241m=\u001b[39m _concatenate_chunks(chunks)\n",
      "\u001b[0;31mKeyboardInterrupt\u001b[0m: "
     ]
    }
   ],
   "source": [
    "# Define file paths\n",
    "csv_files_setupA = sorted(glob.glob(\"../../results/outputs/alaa/setupA/eval_dist/*.csv\"))\n",
    "csv_files_setupB = sorted(glob.glob(\"../../results/outputs/alaa/setupB/eval_dist/*.csv\"))\n",
    "\n",
    "list_df_A = process_csv_files(csv_files_setupA, \"A\")\n",
    "list_df_B = process_csv_files(csv_files_setupB, \"B\")"
   ]
  },
  {
   "cell_type": "code",
   "execution_count": null,
   "id": "7ad79c08-0686-427d-929f-41a1835295de",
   "metadata": {},
   "outputs": [],
   "source": [
    "df_alaa = pd.concat(list_df_A+list_df_B).drop(columns=[\"Unnamed: 0\"])\n",
    "df_alaa = df_alaa.rename(columns={\"approach\": \"Method\", \"setup\": \"Setup\"})"
   ]
  },
  {
   "cell_type": "code",
   "execution_count": null,
   "id": "ecb53c57-1601-40c5-a27f-6be469723e83",
   "metadata": {},
   "outputs": [],
   "source": [
    "df_alaa.to_csv(\"../../results/outputs/summary/alaa_dist_summary.csv\")"
   ]
  },
  {
   "cell_type": "markdown",
   "id": "5bbe15fe-8e1b-41b5-b40d-294e74984f60",
   "metadata": {},
   "source": [
    "## EDU"
   ]
  },
  {
   "cell_type": "code",
   "execution_count": 5,
   "id": "53c4d04f-d9d5-4bbe-b8b4-7199b6e55225",
   "metadata": {},
   "outputs": [
    {
     "name": "stderr",
     "output_type": "stream",
     "text": [
      "100%|██████████| 100/100 [03:06<00:00,  1.86s/it]\n"
     ]
    }
   ],
   "source": [
    "# Define file paths\n",
    "csv_files_edu = sorted(glob.glob(\"../../results/outputs/edu/eval_dist/*.csv\"))\n",
    "\n",
    "list_df_edu = process_csv_files(csv_files_edu, \"EDU\")"
   ]
  },
  {
   "cell_type": "code",
   "execution_count": 6,
   "id": "720d17d8-263f-4044-b87c-59d4ac515650",
   "metadata": {},
   "outputs": [],
   "source": [
    "df_edu = pd.concat(list_df_edu).drop(columns=[\"Unnamed: 0\"])\n",
    "df_edu = df_edu.rename(columns={\"approach\": \"Method\", \"setup\": \"Setup\"})\n",
    "df_edu.to_csv(\"../../results/outputs/summary/edu_dist_summary.csv\")"
   ]
  },
  {
   "cell_type": "markdown",
   "id": "169639ab-c45e-489d-81da-4f44d2254c35",
   "metadata": {},
   "source": [
    "## IHDP"
   ]
  },
  {
   "cell_type": "code",
   "execution_count": 19,
   "id": "60b11710-5bde-437a-8b40-c1c70f1741a3",
   "metadata": {},
   "outputs": [
    {
     "name": "stderr",
     "output_type": "stream",
     "text": [
      "100%|██████████| 100/100 [00:00<00:00, 229.85it/s]\n"
     ]
    }
   ],
   "source": [
    "# Define file paths\n",
    "csv_files_ihdp = sorted(glob.glob(\"../../results/outputs/ihdp/eval_dist/*.csv\"))\n",
    "\n",
    "list_df_ihdp = process_csv_files(csv_files_ihdp, \"IHDP\", p_values=False)"
   ]
  },
  {
   "cell_type": "code",
   "execution_count": 20,
   "id": "a3628ead-cd96-4b88-8b0a-1ee0e7f3aec8",
   "metadata": {},
   "outputs": [],
   "source": [
    "df_ihdp = pd.concat(list_df_ihdp).drop(columns=[\"Unnamed: 0\"])\n",
    "df_ihdp = df_ihdp.rename(columns={\"approach\": \"Method\", \"setup\": \"Setup\"})\n",
    "df_ihdp.to_csv(\"../../results/outputs/summary/ihdp_dist_summary.csv\")"
   ]
  },
  {
   "cell_type": "markdown",
   "id": "b1bb2635-5f9c-404a-89ca-ecf25e2d5414",
   "metadata": {},
   "source": [
    "## Nie and Wager (non-heteroscedastic)"
   ]
  },
  {
   "cell_type": "code",
   "execution_count": 27,
   "id": "c5373ff2-14a1-4957-9405-c3f8d46b6d18",
   "metadata": {},
   "outputs": [],
   "source": [
    "# Define file paths\n",
    "csv_files_nw_A = sorted(glob.glob(\"../../results/outputs/nie_wager/setupA/*.csv\"))\n",
    "csv_files_nw_B = sorted(glob.glob(\"../../results/outputs/nie_wager/setupB/*.csv\"))\n",
    "csv_files_nw_C = sorted(glob.glob(\"../../results/outputs/nie_wager/setupC/*.csv\"))\n",
    "csv_files_nw_D = sorted(glob.glob(\"../../results/outputs/nie_wager/setupD/*.csv\"))"
   ]
  },
  {
   "cell_type": "code",
   "execution_count": 28,
   "id": "d09fcf77-0dcd-4872-9dc5-1343ca20b94e",
   "metadata": {},
   "outputs": [
    {
     "name": "stderr",
     "output_type": "stream",
     "text": [
      "100%|██████████| 20/20 [00:00<00:00, 169.57it/s]\n",
      "100%|██████████| 20/20 [00:00<00:00, 254.44it/s]\n",
      "100%|██████████| 20/20 [00:00<00:00, 196.77it/s]\n",
      "100%|██████████| 20/20 [00:00<00:00, 240.60it/s]\n"
     ]
    }
   ],
   "source": [
    "df_nw_A = pd.concat(process_csv_files(csv_files_nw_A, \"A\", p_values=False)).drop(columns=[\"Unnamed: 0\"])\n",
    "df_nw_A = df_nw_A.rename(columns={\"approach\": \"Method\", \"setup\": \"Setup\"})\n",
    "df_nw_B = pd.concat(process_csv_files(csv_files_nw_B, \"B\", p_values=False)).drop(columns=[\"Unnamed: 0\"])\n",
    "df_nw_B = df_nw_B.rename(columns={\"approach\": \"Method\", \"setup\": \"Setup\"})\n",
    "df_nw_C = pd.concat(process_csv_files(csv_files_nw_C, \"C\", p_values=False)).drop(columns=[\"Unnamed: 0\"])\n",
    "df_nw_C = df_nw_C.rename(columns={\"approach\": \"Method\", \"setup\": \"Setup\"})\n",
    "df_nw_D = pd.concat(process_csv_files(csv_files_nw_D, \"D\", p_values=False)).drop(columns=[\"Unnamed: 0\"])\n",
    "df_nw_D = df_nw_D.rename(columns={\"approach\": \"Method\", \"setup\": \"Setup\"})"
   ]
  },
  {
   "cell_type": "code",
   "execution_count": 29,
   "id": "68dc1cfb-8322-4c85-8b8d-cf7ed0a42be8",
   "metadata": {},
   "outputs": [],
   "source": [
    "df_nw_A.to_csv(\"../../results/outputs/summary/nw_A_dist_summary.csv\")\n",
    "df_nw_B.to_csv(\"../../results/outputs/summary/nw_B_dist_summary.csv\")\n",
    "df_nw_C.to_csv(\"../../results/outputs/summary/nw_C_dist_summary.csv\")\n",
    "df_nw_D.to_csv(\"../../results/outputs/summary/nw_D_dist_summary.csv\")"
   ]
  },
  {
   "cell_type": "markdown",
   "id": "14beb7a9-1a59-4010-8741-4555d81a9233",
   "metadata": {},
   "source": [
    "## Nie and Wager (heteroscedastic)"
   ]
  },
  {
   "cell_type": "code",
   "execution_count": 31,
   "id": "414f6843-109e-4f9c-aaeb-1f03875b3797",
   "metadata": {},
   "outputs": [],
   "source": [
    "# Define file paths\n",
    "csv_files_nw_A_het = sorted(glob.glob(\"../../results/outputs/nie_wager/setupA/heteroscedastic/*.csv\"))\n",
    "csv_files_nw_B_het = sorted(glob.glob(\"../../results/outputs/nie_wager/setupB/heteroscedastic/*.csv\"))\n",
    "csv_files_nw_C_het = sorted(glob.glob(\"../../results/outputs/nie_wager/setupC/heteroscedastic/*.csv\"))\n",
    "csv_files_nw_D_het = sorted(glob.glob(\"../../results/outputs/nie_wager/setupD/heteroscedastic/*.csv\"))"
   ]
  },
  {
   "cell_type": "code",
   "execution_count": 32,
   "id": "7f50fb81-76a4-4b6a-ba15-c7be1f032951",
   "metadata": {},
   "outputs": [
    {
     "name": "stderr",
     "output_type": "stream",
     "text": [
      "100%|██████████| 20/20 [00:00<00:00, 157.24it/s]\n",
      "100%|██████████| 20/20 [00:00<00:00, 258.88it/s]\n",
      "100%|██████████| 20/20 [00:00<00:00, 157.09it/s]\n",
      "100%|██████████| 20/20 [00:00<00:00, 211.15it/s]\n"
     ]
    }
   ],
   "source": [
    "df_nw_A_het = pd.concat(process_csv_files(csv_files_nw_A_het, \"A\", p_values=False)).drop(columns=[\"Unnamed: 0\"])\n",
    "df_nw_A_het = df_nw_A.rename(columns={\"approach\": \"Method\", \"setup\": \"Setup\"})\n",
    "df_nw_B_het = pd.concat(process_csv_files(csv_files_nw_B_het, \"B\", p_values=False)).drop(columns=[\"Unnamed: 0\"])\n",
    "df_nw_B_het = df_nw_B.rename(columns={\"approach\": \"Method\", \"setup\": \"Setup\"})\n",
    "df_nw_C_het = pd.concat(process_csv_files(csv_files_nw_C_het, \"C\", p_values=False)).drop(columns=[\"Unnamed: 0\"])\n",
    "df_nw_C_het = df_nw_C.rename(columns={\"approach\": \"Method\", \"setup\": \"Setup\"})\n",
    "df_nw_D_het = pd.concat(process_csv_files(csv_files_nw_D_het, \"D\", p_values=False)).drop(columns=[\"Unnamed: 0\"])\n",
    "df_nw_D_het = df_nw_D.rename(columns={\"approach\": \"Method\", \"setup\": \"Setup\"})"
   ]
  },
  {
   "cell_type": "code",
   "execution_count": 33,
   "id": "763f2f20-6c05-40af-b769-438bfd472f43",
   "metadata": {},
   "outputs": [],
   "source": [
    "df_nw_A_het.to_csv(\"../../results/outputs/summary/nw_A_het_dist_summary.csv\")\n",
    "df_nw_B_het.to_csv(\"../../results/outputs/summary/nw_B_het_dist_summary.csv\")\n",
    "df_nw_C_het.to_csv(\"../../results/outputs/summary/nw_C_het_dist_summary.csv\")\n",
    "df_nw_D_het.to_csv(\"../../results/outputs/summary/nw_D_het_dist_summary.csv\")"
   ]
  },
  {
   "cell_type": "markdown",
   "id": "9fee211e-fbe7-4cd5-ab83-442be240d354",
   "metadata": {},
   "source": [
    "## ACIC 2016"
   ]
  },
  {
   "cell_type": "code",
   "execution_count": 23,
   "id": "53b81c46-9756-434f-961f-f34e85f68662",
   "metadata": {},
   "outputs": [
    {
     "name": "stderr",
     "output_type": "stream",
     "text": [
      "100%|██████████| 19/19 [00:00<00:00, 139.71it/s]\n",
      "100%|██████████| 19/19 [00:00<00:00, 193.36it/s]\n",
      "100%|██████████| 20/20 [00:00<00:00, 143.33it/s]\n",
      "100%|██████████| 20/20 [00:00<00:00, 182.30it/s]\n",
      "100%|██████████| 20/20 [00:00<00:00, 319.12it/s]\n",
      "100%|██████████| 20/20 [00:00<00:00, 181.93it/s]\n",
      "100%|██████████| 18/18 [00:00<00:00, 146.32it/s]\n",
      "100%|██████████| 10/10 [00:00<00:00, 191.78it/s]\n",
      "100%|██████████| 10/10 [00:00<00:00, 175.17it/s]\n",
      "100%|██████████| 9/9 [00:00<00:00, 252.64it/s]\n",
      "100%|██████████| 10/10 [00:00<00:00, 296.97it/s]\n",
      "100%|██████████| 8/8 [00:00<00:00, 266.08it/s]\n",
      "100%|██████████| 9/9 [00:00<00:00, 130.88it/s]\n",
      "100%|██████████| 9/9 [00:00<00:00, 132.28it/s]\n",
      "100%|██████████| 7/7 [00:00<00:00, 267.83it/s]\n",
      "100%|██████████| 10/10 [00:00<00:00, 208.74it/s]\n",
      "100%|██████████| 10/10 [00:00<00:00, 272.60it/s]\n",
      "100%|██████████| 10/10 [00:00<00:00, 151.15it/s]\n",
      "100%|██████████| 9/9 [00:00<00:00, 270.61it/s]\n",
      "100%|██████████| 9/9 [00:00<00:00, 221.36it/s]\n",
      "100%|██████████| 10/10 [00:00<00:00, 205.64it/s]\n",
      "100%|██████████| 10/10 [00:00<00:00, 145.07it/s]\n",
      "100%|██████████| 10/10 [00:00<00:00, 281.61it/s]\n",
      "100%|██████████| 10/10 [00:00<00:00, 131.07it/s]\n",
      "100%|██████████| 10/10 [00:00<00:00, 131.34it/s]\n",
      "100%|██████████| 10/10 [00:00<00:00, 157.82it/s]\n",
      "100%|██████████| 10/10 [00:00<00:00, 188.73it/s]\n",
      "100%|██████████| 10/10 [00:00<00:00, 257.52it/s]\n",
      "100%|██████████| 10/10 [00:00<00:00, 277.00it/s]\n",
      "100%|██████████| 10/10 [00:00<00:00, 261.00it/s]\n",
      "100%|██████████| 10/10 [00:00<00:00, 288.99it/s]\n",
      "100%|██████████| 10/10 [00:00<00:00, 218.32it/s]\n",
      "100%|██████████| 10/10 [00:00<00:00, 274.95it/s]\n",
      "100%|██████████| 10/10 [00:00<00:00, 277.05it/s]\n",
      "100%|██████████| 10/10 [00:00<00:00, 210.29it/s]\n",
      "100%|██████████| 10/10 [00:00<00:00, 185.00it/s]\n",
      "100%|██████████| 10/10 [00:00<00:00, 128.66it/s]\n",
      "100%|██████████| 10/10 [00:00<00:00, 134.84it/s]\n",
      "100%|██████████| 10/10 [00:00<00:00, 149.60it/s]\n",
      "100%|██████████| 10/10 [00:00<00:00, 128.91it/s]\n",
      "100%|██████████| 10/10 [00:00<00:00, 263.92it/s]\n",
      "100%|██████████| 10/10 [00:00<00:00, 202.99it/s]\n",
      "100%|██████████| 10/10 [00:00<00:00, 205.89it/s]\n",
      "100%|██████████| 10/10 [00:00<00:00, 249.89it/s]\n",
      "100%|██████████| 10/10 [00:00<00:00, 293.53it/s]\n",
      "100%|██████████| 9/9 [00:00<00:00, 208.23it/s]\n",
      "100%|██████████| 8/8 [00:00<00:00, 269.68it/s]\n",
      "100%|██████████| 2/2 [00:00<00:00, 258.28it/s]\n",
      "0it [00:00, ?it/s]\n",
      "0it [00:00, ?it/s]\n",
      "0it [00:00, ?it/s]\n",
      "0it [00:00, ?it/s]\n",
      "0it [00:00, ?it/s]\n",
      "0it [00:00, ?it/s]\n",
      "0it [00:00, ?it/s]\n",
      "0it [00:00, ?it/s]\n",
      "0it [00:00, ?it/s]\n",
      "0it [00:00, ?it/s]\n",
      "0it [00:00, ?it/s]\n",
      "0it [00:00, ?it/s]\n",
      "0it [00:00, ?it/s]\n",
      "0it [00:00, ?it/s]\n",
      "0it [00:00, ?it/s]\n",
      "0it [00:00, ?it/s]\n",
      "0it [00:00, ?it/s]\n",
      "0it [00:00, ?it/s]\n",
      "0it [00:00, ?it/s]\n",
      "0it [00:00, ?it/s]\n",
      "0it [00:00, ?it/s]\n",
      "0it [00:00, ?it/s]\n",
      "0it [00:00, ?it/s]\n",
      "0it [00:00, ?it/s]\n",
      "0it [00:00, ?it/s]\n",
      "0it [00:00, ?it/s]\n",
      "0it [00:00, ?it/s]\n",
      "0it [00:00, ?it/s]\n",
      "0it [00:00, ?it/s]\n"
     ]
    }
   ],
   "source": [
    "nb_setups = 77\n",
    "list_df_acic2016 = []\n",
    "for i in range(1, nb_setups+1):\n",
    "    csv_files_setup = sorted(glob.glob(f\"../../results/outputs/acic2016/setup{i}/eval_dist/*.csv\"))\n",
    "    list_df_setup = process_csv_files(csv_files_setup, \"ACIC2016\", p_values=False)\n",
    "    if len(list_df_setup) == 0:\n",
    "        continue\n",
    "    df_setup = pd.concat(list_df_setup).drop(columns=[\"Unnamed: 0\"])\n",
    "    df_setup = df_setup.rename(columns={\"approach\": \"Method\", \"setup\": \"Setup\"})\n",
    "    df_setup[\"sim_nb\"] = i\n",
    "    list_df_acic2016.append(df_setup)\n",
    "\n",
    "df_acic2016 = pd.concat(list_df_acic2016, axis=0, ignore_index=True)"
   ]
  },
  {
   "cell_type": "code",
   "execution_count": 25,
   "id": "33ac3ff6-3870-40d6-aaf8-0574998df47a",
   "metadata": {},
   "outputs": [],
   "source": [
    "df_acic2016.to_csv(\"../../results/outputs/summary/ACIC2016_dist_summary.csv\")"
   ]
  },
  {
   "cell_type": "code",
   "execution_count": null,
   "id": "399fdde3-f503-4863-a54c-f8692595a195",
   "metadata": {},
   "outputs": [],
   "source": []
  }
 ],
 "metadata": {
  "kernelspec": {
   "display_name": "Python 3 (ipykernel)",
   "language": "python",
   "name": "python3"
  },
  "language_info": {
   "codemirror_mode": {
    "name": "ipython",
    "version": 3
   },
   "file_extension": ".py",
   "mimetype": "text/x-python",
   "name": "python",
   "nbconvert_exporter": "python",
   "pygments_lexer": "ipython3",
   "version": "3.11.9"
  }
 },
 "nbformat": 4,
 "nbformat_minor": 5
}
